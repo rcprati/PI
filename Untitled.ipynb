{
 "cells": [
  {
   "cell_type": "code",
   "execution_count": 50,
   "id": "0ac766da",
   "metadata": {},
   "outputs": [],
   "source": [
    "import glob, os\n",
    "from nbgrader.apps import NbGraderAPI\n",
    "import pandas as pd\n",
    "import nbgrader\n",
    "import shutil"
   ]
  },
  {
   "cell_type": "code",
   "execution_count": null,
   "id": "143516b4",
   "metadata": {},
   "outputs": [],
   "source": [
    "path = \"imports\"\n",
    "\n",
    "for path, subdirs, files in os.walk(path):\n",
    "    for file in files:\n",
    "        if file != \"Semana1.ipynb\":\n",
    "            os.rename(os.path.join(path,file),os.path.join(path,\"Semana1.ipynb\"))\n"
   ]
  },
  {
   "cell_type": "code",
   "execution_count": 23,
   "id": "474c52bb",
   "metadata": {},
   "outputs": [],
   "source": [
    "api = NbGraderAPI()    \n",
    "gradebook = api.gradebook"
   ]
  },
  {
   "cell_type": "code",
   "execution_count": 27,
   "id": "8cc3d0e3",
   "metadata": {},
   "outputs": [],
   "source": [
    "df = pd.read_csv(\"imports/Notas-PI20222Ronaldo-Atividade para entrega - Semana 1-181426.csv\")"
   ]
  },
  {
   "cell_type": "code",
   "execution_count": 37,
   "id": "8b176f98",
   "metadata": {},
   "outputs": [],
   "source": [
    "for _,aluno in df.iterrows():\n",
    "    unique_id = aluno['Identificador']\n",
    "    try:\n",
    "        result = gradebook.find_student(unique_id)\n",
    "    except nbgrader.api.MissingEntry:\n",
    "        #print(\"Creating gradebook entry for \", unique_id)\n",
    "        gradebook.update_or_create_student(unique_id, \n",
    "                                           first_name=aluno['Nome completo'], \n",
    "                                           last_name=\"\", \n",
    "                                           email=aluno['Endereço de email'])\n"
   ]
  },
  {
   "cell_type": "code",
   "execution_count": 57,
   "id": "5cd3514f",
   "metadata": {},
   "outputs": [],
   "source": [
    "import re\n",
    "path = \"imports\"\n",
    "\n",
    "for path, subdirs, files in os.walk(path):\n",
    "    for file in files:\n",
    "        if file == \"Semana1.ipynb\":\n",
    "            matric = \"Participante\"+re.findall(\"\\d+\",path)[0]\n",
    "            os.makedirs(os.path.join(\"submitted\", matric,\"Semana1\"))\n",
    "            shutil.copyfile(os.path.join(path,file),os.path.join(\"submitted\", matric, \"Semana1\",file))\n"
   ]
  },
  {
   "cell_type": "code",
   "execution_count": null,
   "id": "6f76ef69",
   "metadata": {},
   "outputs": [],
   "source": []
  }
 ],
 "metadata": {
  "kernelspec": {
   "display_name": "Python 3 (ipykernel)",
   "language": "python",
   "name": "python3"
  },
  "language_info": {
   "codemirror_mode": {
    "name": "ipython",
    "version": 3
   },
   "file_extension": ".py",
   "mimetype": "text/x-python",
   "name": "python",
   "nbconvert_exporter": "python",
   "pygments_lexer": "ipython3",
   "version": "3.9.7"
  }
 },
 "nbformat": 4,
 "nbformat_minor": 5
}
