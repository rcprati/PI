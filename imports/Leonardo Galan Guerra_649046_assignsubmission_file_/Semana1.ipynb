{
  "cells": [
    {
      "cell_type": "markdown",
      "id": "d4a1d469",
      "metadata": {
        "id": "d4a1d469"
      },
      "source": [
        "# Instruções\n",
        "\n",
        "- Antes de resolver esses exercícios, certifique-se que a configuração está correta (Python 3).\n",
        "\n",
        "- Se estiver usando o Colab, faça uma cópia deste notebook antes de começar a repondê-lo.\n",
        "\n",
        "![](http://professor.ufabc.edu.br/~ronaldo.prati/colab.png)\n",
        "\n",
        "- Lembre-se de manter o nome do caderno com o mesmo nome original.\n",
        "\n",
        "- Não apague nem introduza novas células neste notebook.\n",
        "\n",
        "- Certifique-se que você preencheu todos os lugares que dizem \\\"YOUR CODE HERE\\\" ou \\\"YOUR ANSWER HERE\\\". Substitutua essa linha e também a linha `raise NotImplementedError()` pelo seu código.\n",
        "\n",
        "- Depois de resolver os exercícios, para enviar a atividade, salve o notebook e o envie pelo moodle da disciplina. No colab, para exportar o notebook localmente, acesse `File->Download->Download .ipynb` ou `Arquivo->Baixar->Baixar .ipynb`\n",
        "\n",
        "![](http://professor.ufabc.edu.br/~ronaldo.prati/submit.png)"
      ]
    },
    {
      "cell_type": "markdown",
      "id": "5f82cbf3",
      "metadata": {
        "deletable": false,
        "editable": false,
        "nbgrader": {
          "cell_type": "markdown",
          "checksum": "f1f911b3ba8050e102209c62c8db3f57",
          "grade": false,
          "grade_id": "Exercicio1-descricao",
          "locked": true,
          "schema_version": 3,
          "solution": false,
          "task": false
        },
        "id": "5f82cbf3"
      },
      "source": [
        "# Exercício 1\n",
        "\n",
        "Faça um programa que peça um número e armazene-o em uma variável. A seguir, mostre a mensagem \"O número informado foi [número]\""
      ]
    },
    {
      "cell_type": "code",
      "execution_count": 20,
      "id": "98f0fd7a",
      "metadata": {
        "deletable": false,
        "nbgrader": {
          "cell_type": "code",
          "checksum": "74fb8b9b0c1978c0db15aa13a5696150",
          "grade": true,
          "grade_id": "Exercicio1",
          "locked": false,
          "points": 1,
          "schema_version": 3,
          "solution": true,
          "task": false
        },
        "id": "98f0fd7a",
        "colab": {
          "base_uri": "https://localhost:8080/"
        },
        "outputId": "7c47e798-301f-4372-bef5-8e57762cfdd9"
      },
      "outputs": [
        {
          "output_type": "stream",
          "name": "stdout",
          "text": [
            "Digite um número 1\n",
            "O número informado foi 1.0\n"
          ]
        }
      ],
      "source": [
        "x = float(input('Digite um número '))\n",
        "print(\"O número informado foi\",x)"
      ]
    },
    {
      "cell_type": "markdown",
      "id": "dd8c0af2",
      "metadata": {
        "deletable": false,
        "editable": false,
        "nbgrader": {
          "cell_type": "markdown",
          "checksum": "e1645b130e5fd8363c5a31803d8a6730",
          "grade": false,
          "grade_id": "Exercicio2-descricao",
          "locked": true,
          "schema_version": 3,
          "solution": false,
          "task": false
        },
        "id": "dd8c0af2"
      },
      "source": [
        "# Exercício 2\n",
        "\n",
        "Faça um Programa que peça o raio de um círculo, calcule e mostre sua área.\n",
        "Dica: para usar o valor de $\\pi$, pesquise por `math.pi`."
      ]
    },
    {
      "cell_type": "code",
      "execution_count": 21,
      "id": "407e7f33",
      "metadata": {
        "deletable": false,
        "nbgrader": {
          "cell_type": "code",
          "checksum": "41ef7b01abeaa8d74e2893a5054fb644",
          "grade": true,
          "grade_id": "Exercicio2",
          "locked": false,
          "points": 1,
          "schema_version": 3,
          "solution": true,
          "task": false
        },
        "id": "407e7f33",
        "colab": {
          "base_uri": "https://localhost:8080/"
        },
        "outputId": "4e79b6d7-4c4f-4379-c8a4-58c6ad8c2001"
      },
      "outputs": [
        {
          "output_type": "stream",
          "name": "stdout",
          "text": [
            "Digite o raio do círculo 8\n",
            "A área do círculo é: 201.06192982974676\n"
          ]
        }
      ],
      "source": [
        "import math\n",
        "\n",
        "r = float(input(\"Digite o raio do círculo \"))\n",
        "A = (math.pi)*r**2\n",
        "print(\"A área do círculo é:\", A)"
      ]
    },
    {
      "cell_type": "markdown",
      "id": "868cfe1c",
      "metadata": {
        "deletable": false,
        "editable": false,
        "nbgrader": {
          "cell_type": "markdown",
          "checksum": "83a396c8ae7ca1696f25c00d928c9d55",
          "grade": false,
          "grade_id": "Exercicio3-descricao",
          "locked": true,
          "schema_version": 3,
          "solution": false,
          "task": false
        },
        "id": "868cfe1c"
      },
      "source": [
        "# Exercício 3\n",
        "\n",
        "Faça um Programa que peça 2 números inteiros e um número real. Calcule e mostre:\n",
        "\n",
        "   - o produto do dobro do primeiro com metade do segundo .\n",
        "   - a soma do triplo do primeiro com o terceiro.\n",
        "   - o terceiro elevado ao cubo. "
      ]
    },
    {
      "cell_type": "code",
      "execution_count": 23,
      "id": "0f2c4944",
      "metadata": {
        "deletable": false,
        "nbgrader": {
          "cell_type": "code",
          "checksum": "01db6a60d8afd153075785a9f8e10ea5",
          "grade": true,
          "grade_id": "Exercicio3",
          "locked": false,
          "points": 1,
          "schema_version": 3,
          "solution": true,
          "task": false
        },
        "id": "0f2c4944",
        "colab": {
          "base_uri": "https://localhost:8080/"
        },
        "outputId": "e12b6464-9d51-4b9a-c8f7-ba02d8a84fb8"
      },
      "outputs": [
        {
          "output_type": "stream",
          "name": "stdout",
          "text": [
            "Digite um número inteiro: 2\n",
            "Digite outro número inteiro: 2\n",
            "Digite um número real: 3.6\n",
            "O produto do dobro do primeiro com metade do segundo é:  4.0\n",
            "A soma do triplo do primeiro com o terceiro:  9.6\n",
            "O terceiro elevado ao cubo.:  46.656000000000006\n"
          ]
        }
      ],
      "source": [
        "a = int(input(\"Digite um número inteiro: \"))\n",
        "b = int(input(\"Digite outro número inteiro: \"))\n",
        "c = float(input(\"Digite um número real: \"))\n",
        "p = (2*a)*(0.5*b)\n",
        "t = (3*a)+c\n",
        "n = c**3\n",
        "print(\"O produto do dobro do primeiro com metade do segundo é: \", p)\n",
        "print(\"A soma do triplo do primeiro com o terceiro: \", t)\n",
        "print(\"O terceiro elevado ao cubo.: \", n)"
      ]
    },
    {
      "cell_type": "markdown",
      "id": "d3996f2c",
      "metadata": {
        "deletable": false,
        "editable": false,
        "nbgrader": {
          "cell_type": "markdown",
          "checksum": "dbee5e0c5c9a02ca7b0fbcbf0c5018fd",
          "grade": false,
          "grade_id": "Exercicio4-descricao",
          "locked": true,
          "schema_version": 3,
          "solution": false,
          "task": false
        },
        "id": "d3996f2c"
      },
      "source": [
        "# Exercício 4\n",
        "\n",
        "Faça um programa que pergunte quanto você ganha por hora e o número de horas trabalhadas na semana. Calcule e mostre o total do seu salário ao final de 4 semanas. "
      ]
    },
    {
      "cell_type": "code",
      "execution_count": 24,
      "id": "5a307587",
      "metadata": {
        "deletable": false,
        "nbgrader": {
          "cell_type": "code",
          "checksum": "e511551fc875680ccd9679f9b2c21414",
          "grade": true,
          "grade_id": "Exercicio4",
          "locked": false,
          "points": 1,
          "schema_version": 3,
          "solution": true,
          "task": false
        },
        "id": "5a307587",
        "colab": {
          "base_uri": "https://localhost:8080/"
        },
        "outputId": "229ff451-d347-465a-c5a5-3d1be86765b3"
      },
      "outputs": [
        {
          "output_type": "stream",
          "name": "stdout",
          "text": [
            "Quanto você ganha por hora? 38\n",
            "Quantas horas você trabalha na semana? 8\n",
            "O total do seu sálario ao final de 4 semanas é:  1216.0\n"
          ]
        }
      ],
      "source": [
        "g = float(input(\"Quanto você ganha por hora? \"))\n",
        "t = int(input(\"Quantas horas você trabalha na semana? \"))\n",
        "q = (g*t)*4\n",
        "print(\"O total do seu sálario ao final de 4 semanas é: \", q)"
      ]
    },
    {
      "cell_type": "markdown",
      "id": "d5088446",
      "metadata": {
        "deletable": false,
        "editable": false,
        "nbgrader": {
          "cell_type": "markdown",
          "checksum": "c82b175f45419cc78a6f0efc08f9ab15",
          "grade": false,
          "grade_id": "Exercicio5-descricao",
          "locked": true,
          "schema_version": 3,
          "solution": false,
          "task": false
        },
        "id": "d5088446"
      },
      "source": [
        "# Exercício 5\n",
        "\n",
        "Faça um programa que leia um número inteiro qualquer e que apresete, além do número informado, o seu antecessor e do seu sucessor."
      ]
    },
    {
      "cell_type": "code",
      "execution_count": 25,
      "id": "a09fcc89",
      "metadata": {
        "deletable": false,
        "nbgrader": {
          "cell_type": "code",
          "checksum": "9f693e117e3e2158f95ee76dc96292a0",
          "grade": true,
          "grade_id": "Exercicio5",
          "locked": false,
          "points": 1,
          "schema_version": 3,
          "solution": true,
          "task": false
        },
        "id": "a09fcc89",
        "colab": {
          "base_uri": "https://localhost:8080/"
        },
        "outputId": "aa2c9b49-4e80-42f3-9361-85abc1a44ca4"
      },
      "outputs": [
        {
          "output_type": "stream",
          "name": "stdout",
          "text": [
            "Dígite um número inteiro qualquer: 8\n",
            "O número informado foi: 8 . O seu antecessor é: 7 . O seu sucessor é: 9\n"
          ]
        }
      ],
      "source": [
        "n = int(input(\"Dígite um número inteiro qualquer: \"))\n",
        "a = n-1\n",
        "s = n+1\n",
        "print(\"O número informado foi:\", n,\".\",\"O seu antecessor é:\", a,\".\",\"O seu sucessor é:\", s)"
      ]
    },
    {
      "cell_type": "markdown",
      "id": "57a3fb31",
      "metadata": {
        "deletable": false,
        "editable": false,
        "nbgrader": {
          "cell_type": "markdown",
          "checksum": "537bdb2e45ec13ee95cea397e02744f2",
          "grade": false,
          "grade_id": "Exercicio6-descricao",
          "locked": true,
          "schema_version": 3,
          "solution": false,
          "task": false
        },
        "id": "57a3fb31"
      },
      "source": [
        "# Exercício 6\n",
        "\n",
        "Faça um programa que leia quatro notas, e seus respectivos pesos, e que apresente a média final simples e a média final ponderada."
      ]
    },
    {
      "cell_type": "code",
      "execution_count": 27,
      "id": "10e12fd4",
      "metadata": {
        "deletable": false,
        "nbgrader": {
          "cell_type": "code",
          "checksum": "ff1bbd3e5c18dc73d5e0328c41d74739",
          "grade": true,
          "grade_id": "Exercicio6",
          "locked": false,
          "points": 1,
          "schema_version": 3,
          "solution": true,
          "task": false
        },
        "id": "10e12fd4",
        "colab": {
          "base_uri": "https://localhost:8080/"
        },
        "outputId": "e993f3ad-cfdc-4fc4-d1b8-27098edeff02"
      },
      "outputs": [
        {
          "output_type": "stream",
          "name": "stdout",
          "text": [
            "Qual foi a sua nota da matéria 1? 8\n",
            "Qual foi a sua nota da matéria 2? 8\n",
            "Qual foi a sua nota da matéria 3? 10\n",
            "Qual foi a sua nota da matéria 4? 3\n",
            "Qual o peso da sua matéria 1? 5\n",
            "Qual o peso da sua matéria 2? 9\n",
            "Qual o peso da sua matéria 3? 3\n",
            "Qual o peso da sua matéria 4? 1\n",
            "A média final simples foi:  7.25\n",
            "A média final ponderada foi:  8.055555555555555\n"
          ]
        }
      ],
      "source": [
        "n1 = float(input(\"Qual foi a sua nota da matéria 1? \"))\n",
        "n2 = float(input(\"Qual foi a sua nota da matéria 2? \"))\n",
        "n3 = float(input(\"Qual foi a sua nota da matéria 3? \"))\n",
        "n4 = float(input(\"Qual foi a sua nota da matéria 4? \"))\n",
        "p1 = float(input(\"Qual o peso da sua matéria 1? \"))\n",
        "p2 = float(input(\"Qual o peso da sua matéria 2? \"))\n",
        "p3 = float(input(\"Qual o peso da sua matéria 3? \"))\n",
        "p4 = float(input(\"Qual o peso da sua matéria 4? \"))\n",
        "ms = (n1+n2+n3+n4)/4\n",
        "mp = (n1*p1+n2*p2+n3*p3+n4*p4)/(p1+p2+p3+p4)\n",
        "print(\"A média final simples foi: \", ms)\n",
        "print(\"A média final ponderada foi: \", mp)\n"
      ]
    },
    {
      "cell_type": "markdown",
      "id": "da81404d",
      "metadata": {
        "deletable": false,
        "editable": false,
        "nbgrader": {
          "cell_type": "markdown",
          "checksum": "6f91f7198e36290a15c6547e839a5885",
          "grade": false,
          "grade_id": "Exercicio7-descricao",
          "locked": true,
          "schema_version": 3,
          "solution": false,
          "task": false
        },
        "id": "da81404d"
      },
      "source": [
        "# Exercício 7\n",
        "\n",
        "Faça um programa para uma loja de tintas. O programa deverá pedir o tamanho em metros quadrados da área a ser pintada. Considere que a cobertura da tinta é de 1 litro para cada 12 metros quadrados e que a tinta é vendida em latas de 18 litros, que custam R$ 80,00. Informe ao usuário a quantidades de latas de tinta a serem compradas e o preço total. "
      ]
    },
    {
      "cell_type": "code",
      "execution_count": 29,
      "id": "2a1f6a9c",
      "metadata": {
        "deletable": false,
        "nbgrader": {
          "cell_type": "code",
          "checksum": "0b356a405bcdf2f889a9a95d9a196d61",
          "grade": true,
          "grade_id": "Exercicio7",
          "locked": false,
          "points": 2,
          "schema_version": 3,
          "solution": true,
          "task": false
        },
        "id": "2a1f6a9c",
        "colab": {
          "base_uri": "https://localhost:8080/"
        },
        "outputId": "d8829aa7-22cc-413f-963c-ac3b4fc46a34"
      },
      "outputs": [
        {
          "output_type": "stream",
          "name": "stdout",
          "text": [
            "Qual o tamanho da área a ser pintada? 217\n",
            "A quantidade de latas de tinta a serem compradas é:  2\n",
            "O preço total é: 160 reais\n"
          ]
        }
      ],
      "source": [
        "import math\n",
        "\n",
        "A = float(input(\"Qual o tamanho da área a ser pintada? \"))\n",
        "c = A/12\n",
        "l = math.ceil(c/18)\n",
        "p = l*80\n",
        "print(\"A quantidade de latas de tinta a serem compradas é: \", l)\n",
        "print(\"O preço total é:\",p, \"reais\")\n",
        " "
      ]
    },
    {
      "cell_type": "markdown",
      "id": "79eca3d1",
      "metadata": {
        "deletable": false,
        "editable": false,
        "nbgrader": {
          "cell_type": "markdown",
          "checksum": "e44b2f3971c79d43c75c12bce821c4d9",
          "grade": false,
          "grade_id": "Exercicio8-descricao",
          "locked": true,
          "schema_version": 3,
          "solution": false,
          "task": false
        },
        "id": "79eca3d1"
      },
      "source": [
        "# Exercício 8\n",
        "\n",
        "Faça um Programa para uma loja de tintas. O programa deverá pedir o tamanho em metros quadrados da área a ser pintada. Considere que a cobertura da tinta é de 1 litro para cada 12 metros quadrados e que a tinta é vendida em latas de 18 litros, que custam R$ 80,00 ou em galões de 3,6 litros, que custam R$ 25,00.\n",
        "\n",
        "Informe ao usuário as quantidades de tinta a serem compradas e os respectivos preços em 3 situações:\n",
        "\n",
        "    - comprar apenas latas de 18 litros;\n",
        "    - comprar apenas galões de 3,6 litros;\n",
        "    - misturar latas e galões, de forma que o desperdício de tinta seja menor. \n",
        "    \n",
        "Acrescente 10% de folga nos três casos (isto é, você deve adicionar 10% sobre o total de litros de tinta necessário) e sempre arredonde os valores para cima, isto é, considere latas cheias. \n",
        "\n"
      ]
    },
    {
      "cell_type": "code",
      "execution_count": 30,
      "id": "54c1e741",
      "metadata": {
        "deletable": false,
        "nbgrader": {
          "cell_type": "code",
          "checksum": "8f12ca6f898fe140e2eb04c84fc6c8f3",
          "grade": true,
          "grade_id": "Exercicio8",
          "locked": false,
          "points": 2,
          "schema_version": 3,
          "solution": true,
          "task": false
        },
        "id": "54c1e741",
        "colab": {
          "base_uri": "https://localhost:8080/"
        },
        "outputId": "5bdd3e09-b57c-4cf6-ca5e-4406e3fe3244"
      },
      "outputs": [
        {
          "output_type": "stream",
          "name": "stdout",
          "text": [
            "Qual o tamanho da área a ser pintada? 216\n",
            "Comprar apenas latas de 18 litros:  2 latas e 160 reais\n",
            "Comprar apenas galões de 3.6 litros:  6 galões e 150 reais\n",
            "Misturar latas e galões:  1 latas e 1 galões, pagando 105 reais\n"
          ]
        }
      ],
      "source": [
        "import math\n",
        "\n",
        "A = float(input(\"Qual o tamanho da área a ser pintada? \"))\n",
        "c = (A/12)*1.1\n",
        "l = math.ceil(c/18)\n",
        "pl = l*80\n",
        "g = math.ceil(c/3.6)\n",
        "pg = g*25\n",
        "c2 = c%18\n",
        "g2 = math.ceil(c2/3.6)\n",
        "total = (l-1)*80+(g2*25)\n",
        "print(\"Comprar apenas latas de 18 litros: \", l, \"latas e\", pl, \"reais\")\n",
        "print(\"Comprar apenas galões de 3.6 litros: \", g, \"galões e\", pg, \"reais\")\n",
        "print(\"Misturar latas e galões: \", (l-1), \"latas e\",g2, \"galões, pagando\", total, \"reais\")"
      ]
    }
  ],
  "metadata": {
    "kernelspec": {
      "display_name": "Python 3 (ipykernel)",
      "language": "python",
      "name": "python3"
    },
    "language_info": {
      "codemirror_mode": {
        "name": "ipython",
        "version": 3
      },
      "file_extension": ".py",
      "mimetype": "text/x-python",
      "name": "python",
      "nbconvert_exporter": "python",
      "pygments_lexer": "ipython3",
      "version": "3.9.7"
    },
    "colab": {
      "name": "Semana1.ipynb",
      "provenance": []
    }
  },
  "nbformat": 4,
  "nbformat_minor": 5
}