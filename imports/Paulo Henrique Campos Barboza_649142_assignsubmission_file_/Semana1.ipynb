{
  "cells": [
    {
      "cell_type": "markdown",
      "id": "d4a1d469",
      "metadata": {
        "id": "d4a1d469"
      },
      "source": [
        "# Instruções\n",
        "\n",
        "- Antes de resolver esses exercícios, certifique-se que a configuração está correta (Python 3).\n",
        "\n",
        "- Se estiver usando o Colab, faça uma cópia deste notebook antes de começar a repondê-lo.\n",
        "\n",
        "![](http://professor.ufabc.edu.br/~ronaldo.prati/colab.png)\n",
        "\n",
        "- Lembre-se de manter o nome do caderno com o mesmo nome original.\n",
        "\n",
        "- Não apague nem introduza novas células neste notebook.\n",
        "\n",
        "- Certifique-se que você preencheu todos os lugares que dizem \\\"YOUR CODE HERE\\\" ou \\\"YOUR ANSWER HERE\\\". Substitutua essa linha e também a linha `raise NotImplementedError()` pelo seu código.\n",
        "\n",
        "- Depois de resolver os exercícios, para enviar a atividade, salve o notebook e o envie pelo moodle da disciplina. No colab, para exportar o notebook localmente, acesse `File->Download->Download .ipynb` ou `Arquivo->Baixar->Baixar .ipynb`\n",
        "\n",
        "![](http://professor.ufabc.edu.br/~ronaldo.prati/submit.png)"
      ]
    },
    {
      "cell_type": "markdown",
      "id": "5f82cbf3",
      "metadata": {
        "deletable": false,
        "editable": false,
        "nbgrader": {
          "cell_type": "markdown",
          "checksum": "f1f911b3ba8050e102209c62c8db3f57",
          "grade": false,
          "grade_id": "Exercicio1-descricao",
          "locked": true,
          "schema_version": 3,
          "solution": false,
          "task": false
        },
        "id": "5f82cbf3"
      },
      "source": [
        "# Exercício 1\n",
        "\n",
        "Faça um programa que peça um número e armazene-o em uma variável. A seguir, mostre a mensagem \"O número informado foi [número]\""
      ]
    },
    {
      "cell_type": "code",
      "execution_count": 6,
      "id": "98f0fd7a",
      "metadata": {
        "deletable": false,
        "nbgrader": {
          "cell_type": "code",
          "checksum": "74fb8b9b0c1978c0db15aa13a5696150",
          "grade": true,
          "grade_id": "Exercicio1",
          "locked": false,
          "points": 1,
          "schema_version": 3,
          "solution": true,
          "task": false
        },
        "id": "98f0fd7a",
        "colab": {
          "base_uri": "https://localhost:8080/"
        },
        "outputId": "51d88b13-b11a-4118-b112-f1e6773e8410"
      },
      "outputs": [
        {
          "output_type": "stream",
          "name": "stdout",
          "text": [
            "Coloque o número:8\n",
            "O Número informado foi 8.0\n"
          ]
        }
      ],
      "source": [
        "Número = float(input(\"Coloque o número:\"))\n",
        "print (\"O Número informado foi\", Número)\n"
      ]
    },
    {
      "cell_type": "markdown",
      "id": "dd8c0af2",
      "metadata": {
        "deletable": false,
        "editable": false,
        "nbgrader": {
          "cell_type": "markdown",
          "checksum": "e1645b130e5fd8363c5a31803d8a6730",
          "grade": false,
          "grade_id": "Exercicio2-descricao",
          "locked": true,
          "schema_version": 3,
          "solution": false,
          "task": false
        },
        "id": "dd8c0af2"
      },
      "source": [
        "# Exercício 2\n",
        "\n",
        "Faça um Programa que peça o raio de um círculo, calcule e mostre sua área.\n",
        "Dica: para usar o valor de $\\pi$, pesquise por `math.pi`."
      ]
    },
    {
      "cell_type": "code",
      "execution_count": 13,
      "id": "407e7f33",
      "metadata": {
        "deletable": false,
        "nbgrader": {
          "cell_type": "code",
          "checksum": "41ef7b01abeaa8d74e2893a5054fb644",
          "grade": true,
          "grade_id": "Exercicio2",
          "locked": false,
          "points": 1,
          "schema_version": 3,
          "solution": true,
          "task": false
        },
        "id": "407e7f33",
        "colab": {
          "base_uri": "https://localhost:8080/"
        },
        "outputId": "d503b067-7df8-45d5-c67c-6cb4a43e38e5"
      },
      "outputs": [
        {
          "output_type": "stream",
          "name": "stdout",
          "text": [
            "Valor do raio:10\n",
            "A área do círculo é de  314.1592653589793\n"
          ]
        }
      ],
      "source": [
        "import math\n",
        "\n",
        "Raio = float(input(\"Valor do raio:\"))\n",
        "\n",
        "Área = math.pi * Raio ** 2\n",
        "\n",
        "print(\"A área do círculo é de \", Área)\n"
      ]
    },
    {
      "cell_type": "markdown",
      "id": "868cfe1c",
      "metadata": {
        "deletable": false,
        "editable": false,
        "nbgrader": {
          "cell_type": "markdown",
          "checksum": "83a396c8ae7ca1696f25c00d928c9d55",
          "grade": false,
          "grade_id": "Exercicio3-descricao",
          "locked": true,
          "schema_version": 3,
          "solution": false,
          "task": false
        },
        "id": "868cfe1c"
      },
      "source": [
        "# Exercício 3\n",
        "\n",
        "Faça um Programa que peça 2 números inteiros e um número real. Calcule e mostre:\n",
        "\n",
        "   - o produto do dobro do primeiro com metade do segundo .\n",
        "   - a soma do triplo do primeiro com o terceiro.\n",
        "   - o terceiro elevado ao cubo. "
      ]
    },
    {
      "cell_type": "code",
      "execution_count": 14,
      "id": "0f2c4944",
      "metadata": {
        "deletable": false,
        "nbgrader": {
          "cell_type": "code",
          "checksum": "01db6a60d8afd153075785a9f8e10ea5",
          "grade": true,
          "grade_id": "Exercicio3",
          "locked": false,
          "points": 1,
          "schema_version": 3,
          "solution": true,
          "task": false
        },
        "id": "0f2c4944",
        "colab": {
          "base_uri": "https://localhost:8080/"
        },
        "outputId": "fcf9bd0c-6358-4039-ef16-62408798bc63"
      },
      "outputs": [
        {
          "output_type": "stream",
          "name": "stdout",
          "text": [
            "Coloque número inteiro:2\n",
            "Coloque número inteiro:3\n",
            "Coloque número real:3.0\n",
            "6.0\n",
            "9.0\n",
            "27.0\n"
          ]
        }
      ],
      "source": [
        "n1 = int (input(\"Coloque número inteiro:\"))\n",
        "n2 = int (input(\"Coloque número inteiro:\"))\n",
        "n3 = float (input(\"Coloque número real:\"))\n",
        "\n",
        "Conta_1 = ( n1 * 2 ) * ( n2 / 2 )\n",
        "Conta_2 = n1 * 3 + n3\n",
        "Conta_3 = n3 ** 3\n",
        "\n",
        "print(Conta_1)\n",
        "print(Conta_2)\n",
        "print(Conta_3)"
      ]
    },
    {
      "cell_type": "markdown",
      "id": "d3996f2c",
      "metadata": {
        "deletable": false,
        "editable": false,
        "nbgrader": {
          "cell_type": "markdown",
          "checksum": "dbee5e0c5c9a02ca7b0fbcbf0c5018fd",
          "grade": false,
          "grade_id": "Exercicio4-descricao",
          "locked": true,
          "schema_version": 3,
          "solution": false,
          "task": false
        },
        "id": "d3996f2c"
      },
      "source": [
        "# Exercício 4\n",
        "\n",
        "Faça um programa que pergunte quanto você ganha por hora e o número de horas trabalhadas na semana. Calcule e mostre o total do seu salário ao final de 4 semanas. "
      ]
    },
    {
      "cell_type": "code",
      "execution_count": 26,
      "id": "5a307587",
      "metadata": {
        "deletable": false,
        "nbgrader": {
          "cell_type": "code",
          "checksum": "e511551fc875680ccd9679f9b2c21414",
          "grade": true,
          "grade_id": "Exercicio4",
          "locked": false,
          "points": 1,
          "schema_version": 3,
          "solution": true,
          "task": false
        },
        "id": "5a307587",
        "colab": {
          "base_uri": "https://localhost:8080/"
        },
        "outputId": "5160037d-19ec-4337-d77a-2a6e88a62ac8"
      },
      "outputs": [
        {
          "output_type": "stream",
          "name": "stdout",
          "text": [
            "Quanto você ganha por hora:200\n",
            "Quantas horas Trabalha por semana:5\n",
            "Seu salário no mês é de: 4000.0\n"
          ]
        }
      ],
      "source": [
        "Valor_hora = float(input(\"Quanto você ganha por hora:\"))\n",
        "Horas_semanais = float(input(\"Quantas horas Trabalha por semana:\"))\n",
        "\n",
        "Sálario = Valor_hora * Horas_semanais * 4\n",
        "\n",
        "print(\"Seu salário no mês é de:\",Sálario)\n"
      ]
    },
    {
      "cell_type": "markdown",
      "id": "d5088446",
      "metadata": {
        "deletable": false,
        "editable": false,
        "nbgrader": {
          "cell_type": "markdown",
          "checksum": "c82b175f45419cc78a6f0efc08f9ab15",
          "grade": false,
          "grade_id": "Exercicio5-descricao",
          "locked": true,
          "schema_version": 3,
          "solution": false,
          "task": false
        },
        "id": "d5088446"
      },
      "source": [
        "# Exercício 5\n",
        "\n",
        "Faça um programa que leia um número inteiro qualquer e que apresete, além do número informado, o seu antecessor e do seu sucessor."
      ]
    },
    {
      "cell_type": "code",
      "execution_count": 31,
      "id": "a09fcc89",
      "metadata": {
        "deletable": false,
        "nbgrader": {
          "cell_type": "code",
          "checksum": "9f693e117e3e2158f95ee76dc96292a0",
          "grade": true,
          "grade_id": "Exercicio5",
          "locked": false,
          "points": 1,
          "schema_version": 3,
          "solution": true,
          "task": false
        },
        "id": "a09fcc89",
        "colab": {
          "base_uri": "https://localhost:8080/"
        },
        "outputId": "9d3871ee-77a8-47f2-f912-3de610eacccd"
      },
      "outputs": [
        {
          "output_type": "stream",
          "name": "stdout",
          "text": [
            "Coloque um Número inteiro:7\n",
            "Seu número: 7\n",
            "Antecessor: 6\n",
            "Sucessor: 8\n"
          ]
        }
      ],
      "source": [
        "n1 = int(input(\"Coloque um Número inteiro:\"))\n",
        "n2 = n1 - 1\n",
        "n3 = n1 + 1\n",
        "\n",
        "print(\"Seu número:\", n1)\n",
        "print(\"Antecessor:\", n2)\n",
        "print(\"Sucessor:\", n3)"
      ]
    },
    {
      "cell_type": "markdown",
      "id": "57a3fb31",
      "metadata": {
        "deletable": false,
        "editable": false,
        "nbgrader": {
          "cell_type": "markdown",
          "checksum": "537bdb2e45ec13ee95cea397e02744f2",
          "grade": false,
          "grade_id": "Exercicio6-descricao",
          "locked": true,
          "schema_version": 3,
          "solution": false,
          "task": false
        },
        "id": "57a3fb31"
      },
      "source": [
        "# Exercício 6\n",
        "\n",
        "Faça um programa que leia quatro notas, e seus respectivos pesos, e que apresente a média final simples e a média final ponderada."
      ]
    },
    {
      "cell_type": "code",
      "execution_count": 28,
      "id": "10e12fd4",
      "metadata": {
        "deletable": false,
        "nbgrader": {
          "cell_type": "code",
          "checksum": "ff1bbd3e5c18dc73d5e0328c41d74739",
          "grade": true,
          "grade_id": "Exercicio6",
          "locked": false,
          "points": 1,
          "schema_version": 3,
          "solution": true,
          "task": false
        },
        "id": "10e12fd4",
        "colab": {
          "base_uri": "https://localhost:8080/"
        },
        "outputId": "aaaab3d1-2437-4199-d7e3-48dfe679ce52"
      },
      "outputs": [
        {
          "output_type": "stream",
          "name": "stdout",
          "text": [
            "Coloque a primeira nota:7\n",
            "Coloque a segunda nota:8\n",
            "Coloque a terceira nota:6\n",
            "Coloque a quarta nota:9\n",
            "Coloque o peso da primeira nota:2\n",
            "Coloque o peso da segunda nota:2\n",
            "Coloque o peso da terceira nota:3\n",
            "Coloque o peso da quarta nota:1\n",
            "A média final simples é: 7.5 e a média final ponderada é: 7.125\n"
          ]
        }
      ],
      "source": [
        "n1 = float(input(\"Coloque a primeira nota:\"))\n",
        "n2 = float(input(\"Coloque a segunda nota:\"))\n",
        "n3 = float(input(\"Coloque a terceira nota:\"))\n",
        "n4 = float(input(\"Coloque a quarta nota:\"))\n",
        "\n",
        "p1 = float(input(\"Coloque o peso da primeira nota:\"))\n",
        "p2 = float(input(\"Coloque o peso da segunda nota:\"))\n",
        "p3 = float(input(\"Coloque o peso da terceira nota:\"))\n",
        "p4 = float(input(\"Coloque o peso da quarta nota:\"))\n",
        "\n",
        "média_final_simples = (n1 + n2 + n3 + n4)/4\n",
        "média_final_ponderada = (n1 * p1 + n2 * p2 + n3 * p3 + n4 * p4)/(p1 + p2 + p3 + p4)\n",
        "\n",
        "print(\"A média final simples é:\", média_final_simples, \"e a média final ponderada é:\", média_final_ponderada)"
      ]
    },
    {
      "cell_type": "markdown",
      "id": "da81404d",
      "metadata": {
        "deletable": false,
        "editable": false,
        "nbgrader": {
          "cell_type": "markdown",
          "checksum": "6f91f7198e36290a15c6547e839a5885",
          "grade": false,
          "grade_id": "Exercicio7-descricao",
          "locked": true,
          "schema_version": 3,
          "solution": false,
          "task": false
        },
        "id": "da81404d"
      },
      "source": [
        "# Exercício 7\n",
        "\n",
        "Faça um programa para uma loja de tintas. O programa deverá pedir o tamanho em metros quadrados da área a ser pintada. Considere que a cobertura da tinta é de 1 litro para cada 12 metros quadrados e que a tinta é vendida em latas de 18 litros, que custam R$ 80,00. Informe ao usuário a quantidades de latas de tinta a serem compradas e o preço total. "
      ]
    },
    {
      "cell_type": "code",
      "execution_count": 43,
      "id": "2a1f6a9c",
      "metadata": {
        "deletable": false,
        "nbgrader": {
          "cell_type": "code",
          "checksum": "0b356a405bcdf2f889a9a95d9a196d61",
          "grade": true,
          "grade_id": "Exercicio7",
          "locked": false,
          "points": 2,
          "schema_version": 3,
          "solution": true,
          "task": false
        },
        "id": "2a1f6a9c",
        "colab": {
          "base_uri": "https://localhost:8080/"
        },
        "outputId": "e2e4d83a-31d6-4a2a-df4c-d66d0567096d"
      },
      "outputs": [
        {
          "output_type": "stream",
          "name": "stdout",
          "text": [
            "Área em metros quadrados a serem pintados:432\n",
            "Você deve comprar 2.0 latas de tinta e o preço é de 160.0 reais\n"
          ]
        }
      ],
      "source": [
        "Área = float(input(\"Área em metros quadrados a serem pintados:\"))\n",
        "Latas_de_tinta = Área/216\n",
        "Preço_total = Latas_de_tinta * 80\n",
        "\n",
        "print(\"Você deve comprar\", Latas_de_tinta, \"latas de tinta e o preço é de\", Preço_total, \"reais\")\n"
      ]
    },
    {
      "cell_type": "markdown",
      "id": "79eca3d1",
      "metadata": {
        "deletable": false,
        "editable": false,
        "nbgrader": {
          "cell_type": "markdown",
          "checksum": "e44b2f3971c79d43c75c12bce821c4d9",
          "grade": false,
          "grade_id": "Exercicio8-descricao",
          "locked": true,
          "schema_version": 3,
          "solution": false,
          "task": false
        },
        "id": "79eca3d1"
      },
      "source": [
        "# Exercício 8\n",
        "\n",
        "Faça um Programa para uma loja de tintas. O programa deverá pedir o tamanho em metros quadrados da área a ser pintada. Considere que a cobertura da tinta é de 1 litro para cada 12 metros quadrados e que a tinta é vendida em latas de 18 litros, que custam R$ 80,00 ou em galões de 3,6 litros, que custam R$ 25,00.\n",
        "\n",
        "Informe ao usuário as quantidades de tinta a serem compradas e os respectivos preços em 3 situações:\n",
        "\n",
        "    - comprar apenas latas de 18 litros;\n",
        "    - comprar apenas galões de 3,6 litros;\n",
        "    - misturar latas e galões, de forma que o desperdício de tinta seja menor. \n",
        "    \n",
        "Acrescente 10% de folga nos três casos (isto é, você deve adicionar 10% sobre o total de litros de tinta necessário) e sempre arredonde os valores para cima, isto é, considere latas cheias. \n",
        "\n"
      ]
    },
    {
      "cell_type": "code",
      "execution_count": 61,
      "id": "54c1e741",
      "metadata": {
        "deletable": false,
        "nbgrader": {
          "cell_type": "code",
          "checksum": "8f12ca6f898fe140e2eb04c84fc6c8f3",
          "grade": true,
          "grade_id": "Exercicio8",
          "locked": false,
          "points": 2,
          "schema_version": 3,
          "solution": true,
          "task": false
        },
        "id": "54c1e741",
        "colab": {
          "base_uri": "https://localhost:8080/"
        },
        "outputId": "00819881-596c-46e9-fd26-dba50d297381"
      },
      "outputs": [
        {
          "output_type": "stream",
          "name": "stdout",
          "text": [
            "Coloque a área a ser pintada em metros quadrados:540\n",
            "Você deve comprar 3 latas de 18 litros e o preço é de 240 reais\n",
            "Você deve comprar 14 galões de 3.6 litros e o preço é de 350 reais\n",
            "Você deve comprar 2 Latas de 18 litros e 2 galões de 3.6 litros, e o preço é de 210 reais\n"
          ]
        }
      ],
      "source": [
        "import math\n",
        "\n",
        "Área = float(input(\"Coloque a área a ser pintada em metros quadrados:\"))\n",
        "Litros_tinta = Área/12\n",
        "Litros_tinta_real = Litros_tinta + Litros_tinta/10\n",
        "Latas_18 = math.ceil(Litros_tinta_real/18)  \n",
        "Preço_Latas = Latas_18 * 80 \n",
        "\n",
        "print(\"Você deve comprar\", Latas_18, \"latas de 18 litros e o preço é de\", Preço_Latas, \"reais\")\n",
        "\n",
        "Galões = math.ceil(Litros_tinta_real/3.6)\n",
        "Preço_galões = Galões * 25\n",
        "\n",
        "print(\"Você deve comprar\", Galões, \"galões de 3.6 litros e o preço é de\", Preço_galões, \"reais\")\n",
        "\n",
        "Latas_18_real = int(Litros_tinta_real/18)\n",
        "Resto = Latas_18 * 18 - Litros_tinta_real\n",
        "Galões_real = math.ceil(Resto / 3.6)\n",
        "Preço_latas_galões = Latas_18_real * 80 + Galões_real * 25\n",
        "\n",
        "print(\"Você deve comprar\", Latas_18_real, \"Latas de 18 litros e\", Galões_real, \"galões de 3.6 litros, e o preço é de\", Preço_latas_galões, \"reais\" )\n",
        "\n",
        "\n",
        "\n"
      ]
    }
  ],
  "metadata": {
    "kernelspec": {
      "display_name": "Python 3 (ipykernel)",
      "language": "python",
      "name": "python3"
    },
    "language_info": {
      "codemirror_mode": {
        "name": "ipython",
        "version": 3
      },
      "file_extension": ".py",
      "mimetype": "text/x-python",
      "name": "python",
      "nbconvert_exporter": "python",
      "pygments_lexer": "ipython3",
      "version": "3.9.7"
    },
    "colab": {
      "name": "Cópia de Semana1.ipynb",
      "provenance": []
    }
  },
  "nbformat": 4,
  "nbformat_minor": 5
}