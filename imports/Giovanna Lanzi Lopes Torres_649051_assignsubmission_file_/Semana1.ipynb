{
  "cells": [
    {
      "cell_type": "markdown",
      "id": "d4a1d469",
      "metadata": {
        "id": "d4a1d469"
      },
      "source": [
        "# Instruções\n",
        "\n",
        "- Antes de resolver esses exercícios, certifique-se que a configuração está correta (Python 3).\n",
        "\n",
        "- Se estiver usando o Colab, faça uma cópia deste notebook antes de começar a repondê-lo.\n",
        "\n",
        "![](http://professor.ufabc.edu.br/~ronaldo.prati/colab.png)\n",
        "\n",
        "- Lembre-se de manter o nome do caderno com o mesmo nome original.\n",
        "\n",
        "- Não apague nem introduza novas células neste notebook.\n",
        "\n",
        "- Certifique-se que você preencheu todos os lugares que dizem \\\"YOUR CODE HERE\\\" ou \\\"YOUR ANSWER HERE\\\". Substitutua essa linha e também a linha `raise NotImplementedError()` pelo seu código.\n",
        "\n",
        "- Depois de resolver os exercícios, para enviar a atividade, salve o notebook e o envie pelo moodle da disciplina. No colab, para exportar o notebook localmente, acesse `File->Download->Download .ipynb` ou `Arquivo->Baixar->Baixar .ipynb`\n",
        "\n",
        "![](http://professor.ufabc.edu.br/~ronaldo.prati/submit.png)"
      ]
    },
    {
      "cell_type": "markdown",
      "id": "5f82cbf3",
      "metadata": {
        "deletable": false,
        "editable": false,
        "nbgrader": {
          "cell_type": "markdown",
          "checksum": "f1f911b3ba8050e102209c62c8db3f57",
          "grade": false,
          "grade_id": "Exercicio1-descricao",
          "locked": true,
          "schema_version": 3,
          "solution": false,
          "task": false
        },
        "id": "5f82cbf3"
      },
      "source": [
        "# Exercício 1\n",
        "\n",
        "Faça um programa que peça um número e armazene-o em uma variável. A seguir, mostre a mensagem \"O número informado foi [número]\""
      ]
    },
    {
      "cell_type": "code",
      "execution_count": null,
      "id": "98f0fd7a",
      "metadata": {
        "deletable": false,
        "nbgrader": {
          "cell_type": "code",
          "checksum": "74fb8b9b0c1978c0db15aa13a5696150",
          "grade": true,
          "grade_id": "Exercicio1",
          "locked": false,
          "points": 1,
          "schema_version": 3,
          "solution": true,
          "task": false
        },
        "id": "98f0fd7a"
      },
      "outputs": [],
      "source": [
        "# YOUR CODE HERE\n",
        "raise NotImplementedError()"
      ]
    },
    {
      "cell_type": "code",
      "source": [
        "entrada = input(\"Insira um número: \")\n",
        "print(\"O número informado foi \",entrada)"
      ],
      "metadata": {
        "id": "gYz_ZG2V5l4_",
        "colab": {
          "base_uri": "https://localhost:8080/"
        },
        "outputId": "0cc0188e-aefe-4a16-cddb-2d3b555bd2e1"
      },
      "id": "gYz_ZG2V5l4_",
      "execution_count": 1,
      "outputs": [
        {
          "output_type": "stream",
          "name": "stdout",
          "text": [
            "Insira um número: 20\n",
            "O número informado foi  20\n"
          ]
        }
      ]
    },
    {
      "cell_type": "markdown",
      "id": "dd8c0af2",
      "metadata": {
        "deletable": false,
        "editable": false,
        "nbgrader": {
          "cell_type": "markdown",
          "checksum": "e1645b130e5fd8363c5a31803d8a6730",
          "grade": false,
          "grade_id": "Exercicio2-descricao",
          "locked": true,
          "schema_version": 3,
          "solution": false,
          "task": false
        },
        "id": "dd8c0af2"
      },
      "source": [
        "# Exercício 2\n",
        "\n",
        "Faça um Programa que peça o raio de um círculo, calcule e mostre sua área.\n",
        "Dica: para usar o valor de $\\pi$, pesquise por `math.pi`."
      ]
    },
    {
      "cell_type": "code",
      "execution_count": null,
      "id": "407e7f33",
      "metadata": {
        "deletable": false,
        "nbgrader": {
          "cell_type": "code",
          "checksum": "41ef7b01abeaa8d74e2893a5054fb644",
          "grade": true,
          "grade_id": "Exercicio2",
          "locked": false,
          "points": 1,
          "schema_version": 3,
          "solution": true,
          "task": false
        },
        "id": "407e7f33"
      },
      "outputs": [],
      "source": [
        "# YOUR CODE HERE\n",
        "raise NotImplementedError()"
      ]
    },
    {
      "cell_type": "code",
      "source": [
        "import math\n",
        "entrada = float(input(\"Insira o raio do circulo:  \"))\n",
        "area = math.pi * (entrada **2)\n",
        "print(area)"
      ],
      "metadata": {
        "colab": {
          "base_uri": "https://localhost:8080/"
        },
        "id": "2BaPaCiUYcqs",
        "outputId": "f52a73ae-8959-46fa-d460-2245a3768261"
      },
      "id": "2BaPaCiUYcqs",
      "execution_count": 2,
      "outputs": [
        {
          "output_type": "stream",
          "name": "stdout",
          "text": [
            "Insira o raio do circulo:  2\n",
            "12.566370614359172\n"
          ]
        }
      ]
    },
    {
      "cell_type": "markdown",
      "id": "868cfe1c",
      "metadata": {
        "deletable": false,
        "editable": false,
        "nbgrader": {
          "cell_type": "markdown",
          "checksum": "83a396c8ae7ca1696f25c00d928c9d55",
          "grade": false,
          "grade_id": "Exercicio3-descricao",
          "locked": true,
          "schema_version": 3,
          "solution": false,
          "task": false
        },
        "id": "868cfe1c"
      },
      "source": [
        "# Exercício 3\n",
        "\n",
        "Faça um Programa que peça 2 números inteiros e um número real. Calcule e mostre:\n",
        "\n",
        "   - o produto do dobro do primeiro com metade do segundo .\n",
        "   - a soma do triplo do primeiro com o terceiro.\n",
        "   - o terceiro elevado ao cubo. "
      ]
    },
    {
      "cell_type": "code",
      "execution_count": null,
      "id": "0f2c4944",
      "metadata": {
        "deletable": false,
        "nbgrader": {
          "cell_type": "code",
          "checksum": "01db6a60d8afd153075785a9f8e10ea5",
          "grade": true,
          "grade_id": "Exercicio3",
          "locked": false,
          "points": 1,
          "schema_version": 3,
          "solution": true,
          "task": false
        },
        "id": "0f2c4944"
      },
      "outputs": [],
      "source": [
        "# YOUR CODE HERE\n",
        "raise NotImplementedError()"
      ]
    },
    {
      "cell_type": "code",
      "source": [
        "num1 = int(input(\"Insira o primeiro número inteiro: \"))\n",
        "num2 = int(input(\"Insira o segundo número 2inteiro: \"))\n",
        "num_real = float(input(\"Insira o número real: \"))\n",
        "print((2*num1) * (num2/2))\n",
        "print((3*num1) + num_real)\n",
        "print(num_real**3)"
      ],
      "metadata": {
        "colab": {
          "base_uri": "https://localhost:8080/"
        },
        "id": "8VQyBw-JYqzS",
        "outputId": "9a65a106-47f9-4107-8d97-096d310f3d46"
      },
      "id": "8VQyBw-JYqzS",
      "execution_count": 3,
      "outputs": [
        {
          "output_type": "stream",
          "name": "stdout",
          "text": [
            "Insira o primeiro número inteiro: 2\n",
            "Insira o segundo número 2inteiro: 2\n",
            "Insira o número real: 2\n",
            "4.0\n",
            "8.0\n",
            "8.0\n"
          ]
        }
      ]
    },
    {
      "cell_type": "markdown",
      "id": "d3996f2c",
      "metadata": {
        "deletable": false,
        "editable": false,
        "nbgrader": {
          "cell_type": "markdown",
          "checksum": "dbee5e0c5c9a02ca7b0fbcbf0c5018fd",
          "grade": false,
          "grade_id": "Exercicio4-descricao",
          "locked": true,
          "schema_version": 3,
          "solution": false,
          "task": false
        },
        "id": "d3996f2c"
      },
      "source": [
        "# Exercício 4\n",
        "\n",
        "Faça um programa que pergunte quanto você ganha por hora e o número de horas trabalhadas na semana. Calcule e mostre o total do seu salário ao final de 4 semanas. "
      ]
    },
    {
      "cell_type": "code",
      "execution_count": null,
      "id": "5a307587",
      "metadata": {
        "deletable": false,
        "nbgrader": {
          "cell_type": "code",
          "checksum": "e511551fc875680ccd9679f9b2c21414",
          "grade": true,
          "grade_id": "Exercicio4",
          "locked": false,
          "points": 1,
          "schema_version": 3,
          "solution": true,
          "task": false
        },
        "id": "5a307587"
      },
      "outputs": [],
      "source": [
        "# YOUR CODE HERE\n",
        "raise NotImplementedError()"
      ]
    },
    {
      "cell_type": "code",
      "source": [
        "salario_horas = float(input(\"Quanto você ganha por hora: \"))\n",
        "numero_horas = int(input(\"Quantas horas por semana você trabalha: \"))\n",
        "print(salario_horas * (numero_horas * 4))"
      ],
      "metadata": {
        "colab": {
          "base_uri": "https://localhost:8080/"
        },
        "id": "8PLaJ31BZgma",
        "outputId": "81f1c1b6-3af9-4d28-9b40-78f60aeb695d"
      },
      "id": "8PLaJ31BZgma",
      "execution_count": 4,
      "outputs": [
        {
          "output_type": "stream",
          "name": "stdout",
          "text": [
            "Quanto você ganha por hora: 15.8\n",
            "Quantas horas por semana você trabalha: 30\n",
            "1896.0\n"
          ]
        }
      ]
    },
    {
      "cell_type": "markdown",
      "id": "d5088446",
      "metadata": {
        "deletable": false,
        "editable": false,
        "nbgrader": {
          "cell_type": "markdown",
          "checksum": "c82b175f45419cc78a6f0efc08f9ab15",
          "grade": false,
          "grade_id": "Exercicio5-descricao",
          "locked": true,
          "schema_version": 3,
          "solution": false,
          "task": false
        },
        "id": "d5088446"
      },
      "source": [
        "# Exercício 5\n",
        "\n",
        "Faça um programa que leia um número inteiro qualquer e que apresete, além do número informado, o seu antecessor e do seu sucessor."
      ]
    },
    {
      "cell_type": "code",
      "execution_count": null,
      "id": "a09fcc89",
      "metadata": {
        "deletable": false,
        "nbgrader": {
          "cell_type": "code",
          "checksum": "9f693e117e3e2158f95ee76dc96292a0",
          "grade": true,
          "grade_id": "Exercicio5",
          "locked": false,
          "points": 1,
          "schema_version": 3,
          "solution": true,
          "task": false
        },
        "id": "a09fcc89"
      },
      "outputs": [],
      "source": [
        "# YOUR CODE HERE\n",
        "raise NotImplementedError()"
      ]
    },
    {
      "cell_type": "code",
      "source": [
        "numero = int(input(\"Insira um número: \"))\n",
        "print(f\"Antecessor de {numero} = {numero +1} e o antecessor = {numero -1}\")"
      ],
      "metadata": {
        "colab": {
          "base_uri": "https://localhost:8080/"
        },
        "id": "iVmSX5kFZraH",
        "outputId": "ef3c7efb-20a1-4a8c-a307-1ad6a7791187"
      },
      "id": "iVmSX5kFZraH",
      "execution_count": 5,
      "outputs": [
        {
          "output_type": "stream",
          "name": "stdout",
          "text": [
            "Insira um número: 80\n",
            "Antecessor de 80 = 81 e o antecessor = 79\n"
          ]
        }
      ]
    },
    {
      "cell_type": "markdown",
      "id": "57a3fb31",
      "metadata": {
        "deletable": false,
        "editable": false,
        "nbgrader": {
          "cell_type": "markdown",
          "checksum": "537bdb2e45ec13ee95cea397e02744f2",
          "grade": false,
          "grade_id": "Exercicio6-descricao",
          "locked": true,
          "schema_version": 3,
          "solution": false,
          "task": false
        },
        "id": "57a3fb31"
      },
      "source": [
        "# Exercício 6\n",
        "\n",
        "Faça um programa que leia quatro notas, e seus respectivos pesos, e que apresente a média final simples e a média final ponderada."
      ]
    },
    {
      "cell_type": "code",
      "execution_count": null,
      "id": "10e12fd4",
      "metadata": {
        "deletable": false,
        "nbgrader": {
          "cell_type": "code",
          "checksum": "ff1bbd3e5c18dc73d5e0328c41d74739",
          "grade": true,
          "grade_id": "Exercicio6",
          "locked": false,
          "points": 1,
          "schema_version": 3,
          "solution": true,
          "task": false
        },
        "id": "10e12fd4"
      },
      "outputs": [],
      "source": [
        "# YOUR CODE HERE\n",
        "raise NotImplementedError()"
      ]
    },
    {
      "cell_type": "code",
      "source": [
        "nota1 = float(input(\"Insira a nota 1: \"))\n",
        "peso1 = float(input(\"Insira o peso da nota 1: \"))\n",
        "nota2 = float(input(\"Insira a nota 2: \"))\n",
        "peso2 = float(input(\"Insira o peso da nota 2: \"))\n",
        "nota3 = float(input(\"Insira a nota 3: \"))\n",
        "peso3 = float(input(\"Insira o peso da nota 3: \"))\n",
        "nota4 = float(input(\"Insira a nota 4: \"))\n",
        "peso4 = float(input(\"Insira o peso da nota 4: \"))\n",
        "\n",
        "nota_final1 = nota1 * peso1\n",
        "nota_final2 = nota2 * peso2\n",
        "nota_final3 = nota3 * peso3\n",
        "nota_final4 = nota1 * peso1\n",
        "\n",
        "media_simples = (nota_final1 + nota_final2 + nota_final3 + nota_final4) / 4\n",
        "\n",
        "media_ponderada = (nota_final1 + nota_final2 + nota_final3 + nota_final4) / (peso1 + peso2 + peso3 + peso4)\n",
        "\n",
        "\n",
        "\n",
        "print(f\"Media final = {media_simples} e Media ponderada = {media_ponderada}\")"
      ],
      "metadata": {
        "colab": {
          "base_uri": "https://localhost:8080/"
        },
        "id": "227QM5pXZvBP",
        "outputId": "5758bd52-0ce2-4091-8c07-9535f4da4569"
      },
      "id": "227QM5pXZvBP",
      "execution_count": 6,
      "outputs": [
        {
          "output_type": "stream",
          "name": "stdout",
          "text": [
            "Insira a nota 1: 5\n",
            "Insira o peso da nota 1: 3\n",
            "Insira a nota 2: 7\n",
            "Insira o peso da nota 2: 9\n",
            "Insira a nota 3: 8\n",
            "Insira o peso da nota 3: 4\n",
            "Insira a nota 4: 8\n",
            "Insira o peso da nota 4: 5\n",
            "Media final = 31.25 e Media ponderada = 5.9523809523809526\n"
          ]
        }
      ]
    },
    {
      "cell_type": "markdown",
      "id": "da81404d",
      "metadata": {
        "deletable": false,
        "editable": false,
        "nbgrader": {
          "cell_type": "markdown",
          "checksum": "6f91f7198e36290a15c6547e839a5885",
          "grade": false,
          "grade_id": "Exercicio7-descricao",
          "locked": true,
          "schema_version": 3,
          "solution": false,
          "task": false
        },
        "id": "da81404d"
      },
      "source": [
        "# Exercício 7\n",
        "\n",
        "Faça um programa para uma loja de tintas. O programa deverá pedir o tamanho em metros quadrados da área a ser pintada. Considere que a cobertura da tinta é de 1 litro para cada 12 metros quadrados e que a tinta é vendida em latas de 18 litros, que custam R$ 80,00. Informe ao usuário a quantidades de latas de tinta a serem compradas e o preço total. "
      ]
    },
    {
      "cell_type": "code",
      "execution_count": null,
      "id": "2a1f6a9c",
      "metadata": {
        "deletable": false,
        "nbgrader": {
          "cell_type": "code",
          "checksum": "0b356a405bcdf2f889a9a95d9a196d61",
          "grade": true,
          "grade_id": "Exercicio7",
          "locked": false,
          "points": 2,
          "schema_version": 3,
          "solution": true,
          "task": false
        },
        "id": "2a1f6a9c"
      },
      "outputs": [],
      "source": [
        "# YOUR CODE HERE\n",
        "raise NotImplementedError()"
      ]
    },
    {
      "cell_type": "code",
      "source": [
        "import math\n",
        "area_aSer_pintada = float(input(\"Insira a area a ser pintada em metros quadrados: \"))\n",
        "litros_necessarios = area_aSer_pintada/ 12\n",
        "print(f\"litros necessarios = {litros_necessarios}\")\n",
        "qnt_latas = math.ceil(litros_necessarios/18) # arredondando o valor necessario de latas para o maior valor\n",
        "print(f\"A quantidade de latas necessarias é de {qnt_latas} e o total a ser pago é de {qnt_latas * 80}\")"
      ],
      "metadata": {
        "colab": {
          "base_uri": "https://localhost:8080/"
        },
        "id": "BQtnze_DauJy",
        "outputId": "5c4789bd-f826-4a74-b4a3-d5226a9f237a"
      },
      "id": "BQtnze_DauJy",
      "execution_count": 7,
      "outputs": [
        {
          "output_type": "stream",
          "name": "stdout",
          "text": [
            "Insira a area a ser pintada em metros quadrados: 1000\n",
            "litros necessarios = 83.33333333333333\n",
            "A quantidade de latas necessarias é de 5 e o total a ser pago é de 400\n"
          ]
        }
      ]
    },
    {
      "cell_type": "markdown",
      "id": "79eca3d1",
      "metadata": {
        "deletable": false,
        "editable": false,
        "nbgrader": {
          "cell_type": "markdown",
          "checksum": "e44b2f3971c79d43c75c12bce821c4d9",
          "grade": false,
          "grade_id": "Exercicio8-descricao",
          "locked": true,
          "schema_version": 3,
          "solution": false,
          "task": false
        },
        "id": "79eca3d1"
      },
      "source": [
        "# Exercício 8\n",
        "\n",
        "Faça um Programa para uma loja de tintas. O programa deverá pedir o tamanho em metros quadrados da área a ser pintada. Considere que a cobertura da tinta é de 1 litro para cada 12 metros quadrados e que a tinta é vendida em latas de 18 litros, que custam R$ 80,00 ou em galões de 3,6 litros, que custam R$ 25,00.\n",
        "\n",
        "Informe ao usuário as quantidades de tinta a serem compradas e os respectivos preços em 3 situações:\n",
        "\n",
        "    - comprar apenas latas de 18 litros;\n",
        "    - comprar apenas galões de 3,6 litros;\n",
        "    - misturar latas e galões, de forma que o desperdício de tinta seja menor. \n",
        "    \n",
        "Acrescente 10% de folga nos três casos (isto é, você deve adicionar 10% sobre o total de litros de tinta necessário) e sempre arredonde os valores para cima, isto é, considere latas cheias. \n",
        "\n"
      ]
    },
    {
      "cell_type": "code",
      "execution_count": null,
      "id": "54c1e741",
      "metadata": {
        "deletable": false,
        "nbgrader": {
          "cell_type": "code",
          "checksum": "8f12ca6f898fe140e2eb04c84fc6c8f3",
          "grade": true,
          "grade_id": "Exercicio8",
          "locked": false,
          "points": 2,
          "schema_version": 3,
          "solution": true,
          "task": false
        },
        "id": "54c1e741"
      },
      "outputs": [],
      "source": [
        "# YOUR CODE HERE\n",
        "raise NotImplementedError()"
      ]
    },
    {
      "cell_type": "code",
      "source": [
        "import math\n",
        "area_aSer_pintada = float(input(\"Insira a area a ser pintada em metros quadrados: \"))\n",
        "litros_necessarios = area_aSer_pintada/ 12\n",
        "litros_necessarios = litros_necessarios + (litros_necessarios * 10/100)\n",
        "print(litros_necessarios)\n",
        "qnt_latas = math.ceil(litros_necessarios/18) # arredondando o valor necessario de latas para o maior valor\n",
        "qnt_galoes = math.ceil(litros_necessarios/3.6)\n",
        "\n",
        "qnt_galoes_mistura =0\n",
        "qnt_latas_mistura =0\n",
        "\n",
        "while litros_necessarios > 0:\n",
        "  if litros_necessarios>= 18:\n",
        "    litros_necessarios = litros_necessarios -18 \n",
        "    qnt_latas_mistura +=1\n",
        "    print(\"entrei lata\", litros_necessarios )\n",
        "  elif litros_necessarios >= 3.6:\n",
        "    print(litros_necessarios/18 >= 18)\n",
        "    litros_necessarios = litros_necessarios -3.6\n",
        "    qnt_galoes_mistura +=1\n",
        "    print(\"entrei galoes\", litros_necessarios )\n",
        "  else: \n",
        "    qnt_galoes_mistura +=1\n",
        "    litros_necessarios = -1\n",
        "\n",
        "\n",
        "\n",
        "\n",
        "print(f\"A quantidade de latas necessarias de 18 litros é de {qnt_latas} e o total a ser pago é de {qnt_latas * 80}\")\n",
        "print(f\"A quantidade de galões necessarios de 3,6 litros é de {qnt_galoes} e o total a ser pago é de {qnt_galoes * 25}\")\n",
        "print(f\"Misturando a quantidade de galões necessarios de 3,6 litros é de {qnt_galoes_mistura} \"+\n",
        "      f\"e de latas é de {qnt_latas_mistura} e o total a ser pago é de {(qnt_latas_mistura * 80) + (qnt_galoes_mistura * 25)}\")"
      ],
      "metadata": {
        "colab": {
          "base_uri": "https://localhost:8080/"
        },
        "id": "MMSEa6bwbE4_",
        "outputId": "e7010739-02b3-4a2b-e60e-b4bb9db69003"
      },
      "id": "MMSEa6bwbE4_",
      "execution_count": 8,
      "outputs": [
        {
          "output_type": "stream",
          "name": "stdout",
          "text": [
            "Insira a area a ser pintada em metros quadrados: 1000\n",
            "91.66666666666666\n",
            "entrei lata 73.66666666666666\n",
            "entrei lata 55.66666666666666\n",
            "entrei lata 37.66666666666666\n",
            "entrei lata 19.666666666666657\n",
            "entrei lata 1.6666666666666572\n",
            "A quantidade de latas necessarias de 18 litros é de 6 e o total a ser pago é de 480\n",
            "A quantidade de galões necessarios de 3,6 litros é de 26 e o total a ser pago é de 650\n",
            "Misturando a quantidade de galões necessarios de 3,6 litros é de 1 e de latas é de 5 e o total a ser pago é de 425\n"
          ]
        }
      ]
    }
  ],
  "metadata": {
    "kernelspec": {
      "display_name": "Python 3 (ipykernel)",
      "language": "python",
      "name": "python3"
    },
    "language_info": {
      "codemirror_mode": {
        "name": "ipython",
        "version": 3
      },
      "file_extension": ".py",
      "mimetype": "text/x-python",
      "name": "python",
      "nbconvert_exporter": "python",
      "pygments_lexer": "ipython3",
      "version": "3.9.7"
    },
    "colab": {
      "name": "Semana1.ipynb",
      "provenance": []
    }
  },
  "nbformat": 4,
  "nbformat_minor": 5
}