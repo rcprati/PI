{
  "cells": [
    {
      "cell_type": "markdown",
      "id": "d4a1d469",
      "metadata": {
        "id": "d4a1d469"
      },
      "source": [
        "# Instruções\n",
        "\n",
        "- Antes de resolver esses exercícios, certifique-se que a configuração está correta (Python 3).\n",
        "\n",
        "- Se estiver usando o Colab, faça uma cópia deste notebook antes de começar a repondê-lo.\n",
        "\n",
        "![](http://professor.ufabc.edu.br/~ronaldo.prati/colab.png)\n",
        "\n",
        "- Lembre-se de manter o nome do caderno com o mesmo nome original.\n",
        "\n",
        "- Não apague nem introduza novas células neste notebook.\n",
        "\n",
        "- Certifique-se que você preencheu todos os lugares que dizem \\\"YOUR CODE HERE\\\" ou \\\"YOUR ANSWER HERE\\\". Substitutua essa linha e também a linha `raise NotImplementedError()` pelo seu código.\n",
        "\n",
        "- Depois de resolver os exercícios, para enviar a atividade, salve o notebook e o envie pelo moodle da disciplina. No colab, para exportar o notebook localmente, acesse `File->Download->Download .ipynb` ou `Arquivo->Baixar->Baixar .ipynb`\n",
        "\n",
        "![](http://professor.ufabc.edu.br/~ronaldo.prati/submit.png)"
      ]
    },
    {
      "cell_type": "markdown",
      "id": "5f82cbf3",
      "metadata": {
        "deletable": false,
        "editable": false,
        "nbgrader": {
          "cell_type": "markdown",
          "checksum": "f1f911b3ba8050e102209c62c8db3f57",
          "grade": false,
          "grade_id": "Exercicio1-descricao",
          "locked": true,
          "schema_version": 3,
          "solution": false,
          "task": false
        },
        "id": "5f82cbf3"
      },
      "source": [
        "# Exercício 1\n",
        "\n",
        "Faça um programa que peça um número e armazene-o em uma variável. A seguir, mostre a mensagem \"O número informado foi [número]\""
      ]
    },
    {
      "cell_type": "code",
      "execution_count": null,
      "id": "98f0fd7a",
      "metadata": {
        "deletable": false,
        "nbgrader": {
          "cell_type": "code",
          "checksum": "74fb8b9b0c1978c0db15aa13a5696150",
          "grade": true,
          "grade_id": "Exercicio1",
          "locked": false,
          "points": 1,
          "schema_version": 3,
          "solution": true,
          "task": false
        },
        "id": "98f0fd7a",
        "colab": {
          "base_uri": "https://localhost:8080/"
        },
        "outputId": "e332dba7-eab6-48c7-a401-54a822431fa1"
      },
      "outputs": [
        {
          "output_type": "stream",
          "name": "stdout",
          "text": [
            "Digite um número: 10\n",
            "O número digitado foi <class 'int'>\n"
          ]
        }
      ],
      "source": [
        "num = int(input(\"Digite um número: \"))\n",
        "print(\"O número digitado foi\", num)"
      ]
    },
    {
      "cell_type": "markdown",
      "id": "dd8c0af2",
      "metadata": {
        "deletable": false,
        "editable": false,
        "nbgrader": {
          "cell_type": "markdown",
          "checksum": "e1645b130e5fd8363c5a31803d8a6730",
          "grade": false,
          "grade_id": "Exercicio2-descricao",
          "locked": true,
          "schema_version": 3,
          "solution": false,
          "task": false
        },
        "id": "dd8c0af2"
      },
      "source": [
        "# Exercício 2\n",
        "\n",
        "Faça um Programa que peça o raio de um círculo, calcule e mostre sua área.\n",
        "Dica: para usar o valor de $\\pi$, pesquise por `math.pi`."
      ]
    },
    {
      "cell_type": "code",
      "execution_count": null,
      "id": "407e7f33",
      "metadata": {
        "deletable": false,
        "nbgrader": {
          "cell_type": "code",
          "checksum": "41ef7b01abeaa8d74e2893a5054fb644",
          "grade": true,
          "grade_id": "Exercicio2",
          "locked": false,
          "points": 1,
          "schema_version": 3,
          "solution": true,
          "task": false
        },
        "id": "407e7f33",
        "colab": {
          "base_uri": "https://localhost:8080/"
        },
        "outputId": "7c0be48a-c812-46d0-95ca-4079cd496d26"
      },
      "outputs": [
        {
          "output_type": "stream",
          "name": "stdout",
          "text": [
            "Digite o raio do círculo: 10\n",
            "A área do círculo é 314.1592653589793\n"
          ]
        }
      ],
      "source": [
        "import math\n",
        "raio = float(input(\"Digite o raio do círculo: \"))\n",
        "area = math.pi * raio**2\n",
        "print(\"A área do círculo é\", area)"
      ]
    },
    {
      "cell_type": "markdown",
      "id": "868cfe1c",
      "metadata": {
        "deletable": false,
        "editable": false,
        "nbgrader": {
          "cell_type": "markdown",
          "checksum": "83a396c8ae7ca1696f25c00d928c9d55",
          "grade": false,
          "grade_id": "Exercicio3-descricao",
          "locked": true,
          "schema_version": 3,
          "solution": false,
          "task": false
        },
        "id": "868cfe1c"
      },
      "source": [
        "# Exercício 3\n",
        "\n",
        "Faça um Programa que peça 2 números inteiros e um número real. Calcule e mostre:\n",
        "\n",
        "   - o produto do dobro do primeiro com metade do segundo .\n",
        "   - a soma do triplo do primeiro com o terceiro.\n",
        "   - o terceiro elevado ao cubo. "
      ]
    },
    {
      "cell_type": "code",
      "execution_count": null,
      "id": "0f2c4944",
      "metadata": {
        "deletable": false,
        "nbgrader": {
          "cell_type": "code",
          "checksum": "01db6a60d8afd153075785a9f8e10ea5",
          "grade": true,
          "grade_id": "Exercicio3",
          "locked": false,
          "points": 1,
          "schema_version": 3,
          "solution": true,
          "task": false
        },
        "id": "0f2c4944",
        "colab": {
          "base_uri": "https://localhost:8080/"
        },
        "outputId": "3219834f-14d5-43bf-f7ba-59196925e781"
      },
      "outputs": [
        {
          "output_type": "stream",
          "name": "stdout",
          "text": [
            "Digite um número inteiro: 4\n",
            "Digite outro número inteiro: 10\n",
            "Digite um número real: 2\n",
            "40.0\n",
            "14.0\n",
            "8.0\n"
          ]
        }
      ],
      "source": [
        "num_int_1 = int(input(\"Digite um número inteiro: \"))\n",
        "num_int_2 = int(input(\"Digite outro número inteiro: \"))\n",
        "num_real = float(input(\"Digite um número real: \"))\n",
        "\n",
        "a = num_int_1 * num_int_2\n",
        "b = num_int_1*3 + num_real\n",
        "c = num_real**3\n",
        "\n",
        "print(a)\n",
        "print(b)\n",
        "print(c)\n"
      ]
    },
    {
      "cell_type": "markdown",
      "id": "d3996f2c",
      "metadata": {
        "deletable": false,
        "editable": false,
        "nbgrader": {
          "cell_type": "markdown",
          "checksum": "dbee5e0c5c9a02ca7b0fbcbf0c5018fd",
          "grade": false,
          "grade_id": "Exercicio4-descricao",
          "locked": true,
          "schema_version": 3,
          "solution": false,
          "task": false
        },
        "id": "d3996f2c"
      },
      "source": [
        "# Exercício 4\n",
        "\n",
        "Faça um programa que pergunte quanto você ganha por hora e o número de horas trabalhadas na semana. Calcule e mostre o total do seu salário ao final de 4 semanas. "
      ]
    },
    {
      "cell_type": "code",
      "execution_count": null,
      "id": "5a307587",
      "metadata": {
        "deletable": false,
        "nbgrader": {
          "cell_type": "code",
          "checksum": "e511551fc875680ccd9679f9b2c21414",
          "grade": true,
          "grade_id": "Exercicio4",
          "locked": false,
          "points": 1,
          "schema_version": 3,
          "solution": true,
          "task": false
        },
        "id": "5a307587",
        "colab": {
          "base_uri": "https://localhost:8080/"
        },
        "outputId": "d1240f47-5e65-4ab5-eae7-badb203af897"
      },
      "outputs": [
        {
          "output_type": "stream",
          "name": "stdout",
          "text": [
            " Digite quanto você ganha por hora: 10\n",
            "Digite a quantidade de horas trabalhada: 5\n",
            "O seu salário finel é R$ 1400.0\n"
          ]
        }
      ],
      "source": [
        "salarioHora = float(input(\" Digite quanto você ganha por hora: \"))\n",
        "horas = int(input(\"Digite a quantidade de horas trabalhada: \"))\n",
        "periodoTrabalhado = horas*7 * 4\n",
        "salarioFinal = salarioHora * periodoTrabalhado\n",
        "\n",
        "print(\"O seu salário finel é R$\", salarioFinal)\n"
      ]
    },
    {
      "cell_type": "markdown",
      "id": "d5088446",
      "metadata": {
        "deletable": false,
        "editable": false,
        "nbgrader": {
          "cell_type": "markdown",
          "checksum": "c82b175f45419cc78a6f0efc08f9ab15",
          "grade": false,
          "grade_id": "Exercicio5-descricao",
          "locked": true,
          "schema_version": 3,
          "solution": false,
          "task": false
        },
        "id": "d5088446"
      },
      "source": [
        "# Exercício 5\n",
        "\n",
        "Faça um programa que leia um número inteiro qualquer e que apresete, além do número informado, o seu antecessor e do seu sucessor."
      ]
    },
    {
      "cell_type": "code",
      "execution_count": null,
      "id": "a09fcc89",
      "metadata": {
        "deletable": false,
        "nbgrader": {
          "cell_type": "code",
          "checksum": "9f693e117e3e2158f95ee76dc96292a0",
          "grade": true,
          "grade_id": "Exercicio5",
          "locked": false,
          "points": 1,
          "schema_version": 3,
          "solution": true,
          "task": false
        },
        "id": "a09fcc89",
        "colab": {
          "base_uri": "https://localhost:8080/"
        },
        "outputId": "a6d3a662-1e12-4b59-f566-f6ada128a185"
      },
      "outputs": [
        {
          "output_type": "stream",
          "name": "stdout",
          "text": [
            "Digite um número inteiro: 10\n",
            "9 10 11\n"
          ]
        }
      ],
      "source": [
        "num = int(input(\"Digite um número inteiro: \"))\n",
        "antecessor = num - 1\n",
        "sucessor = num + 1\n",
        "\n",
        "print(antecessor , num , sucessor)"
      ]
    },
    {
      "cell_type": "markdown",
      "id": "57a3fb31",
      "metadata": {
        "deletable": false,
        "editable": false,
        "nbgrader": {
          "cell_type": "markdown",
          "checksum": "537bdb2e45ec13ee95cea397e02744f2",
          "grade": false,
          "grade_id": "Exercicio6-descricao",
          "locked": true,
          "schema_version": 3,
          "solution": false,
          "task": false
        },
        "id": "57a3fb31"
      },
      "source": [
        "# Exercício 6\n",
        "\n",
        "Faça um programa que leia quatro notas, e seus respectivos pesos, e que apresente a média final simples e a média final ponderada."
      ]
    },
    {
      "cell_type": "code",
      "execution_count": null,
      "id": "10e12fd4",
      "metadata": {
        "deletable": false,
        "nbgrader": {
          "cell_type": "code",
          "checksum": "ff1bbd3e5c18dc73d5e0328c41d74739",
          "grade": true,
          "grade_id": "Exercicio6",
          "locked": false,
          "points": 1,
          "schema_version": 3,
          "solution": true,
          "task": false
        },
        "id": "10e12fd4",
        "colab": {
          "base_uri": "https://localhost:8080/"
        },
        "outputId": "dfb261f4-3add-4dbd-f10b-06174d422289"
      },
      "outputs": [
        {
          "output_type": "stream",
          "name": "stdout",
          "text": [
            "Digite a nota 1: 5\n",
            "Digite o peso da nota 1: 5\n",
            "Digite a nota 2: 5\n",
            "Digite o peso da nota 2: 5\n",
            "Digite a nota 3: 5\n",
            "Digite o peso da nota 3: 5\n",
            "Digite a nota 4: 5\n",
            "Digite o peso da nota 4: 5\n",
            "A média Simples é [mediaSimples]\n",
            "A média Ponderada é [mediaPonderada]\n"
          ]
        }
      ],
      "source": [
        "nota1 = float(input(\"Digite a nota 1: \"))\n",
        "peso1 = float(input(\"Digite o peso da nota 1: \"))\n",
        "\n",
        "nota2 = float(input(\"Digite a nota 2: \"))\n",
        "peso2 = float(input(\"Digite o peso da nota 2: \"))\n",
        "\n",
        "nota3 = float(input(\"Digite a nota 3: \"))\n",
        "peso3 = float(input(\"Digite o peso da nota 3: \"))\n",
        "\n",
        "nota4 = float(input(\"Digite a nota 4: \"))\n",
        "peso4 = float(input(\"Digite o peso da nota 4: \"))\n",
        "\n",
        "mediaSimples = (nota1 + nota2 + nota3 + nota4)/4\n",
        "\n",
        "mediaPonderada = (nota1*peso1 + nota2*peso2 + nota3*peso3 + nota4*peso4)/ peso1 + peso2 + peso3 + peso4\n",
        "\n",
        "print(\"A média Simples é \",mediaSimples)\n",
        "print(\"A média Ponderada é \",mediaPonderada)\n",
        "\n",
        " "
      ]
    },
    {
      "cell_type": "markdown",
      "id": "da81404d",
      "metadata": {
        "deletable": false,
        "editable": false,
        "nbgrader": {
          "cell_type": "markdown",
          "checksum": "6f91f7198e36290a15c6547e839a5885",
          "grade": false,
          "grade_id": "Exercicio7-descricao",
          "locked": true,
          "schema_version": 3,
          "solution": false,
          "task": false
        },
        "id": "da81404d"
      },
      "source": [
        "# Exercício 7\n",
        "\n",
        "Faça um programa para uma loja de tintas. O programa deverá pedir o tamanho em metros quadrados da área a ser pintada. Considere que a cobertura da tinta é de 1 litro para cada 12 metros quadrados e que a tinta é vendida em latas de 18 litros, que custam R$ 80,00. Informe ao usuário a quantidades de latas de tinta a serem compradas e o preço total. "
      ]
    },
    {
      "cell_type": "code",
      "execution_count": 1,
      "id": "2a1f6a9c",
      "metadata": {
        "deletable": false,
        "nbgrader": {
          "cell_type": "code",
          "checksum": "0b356a405bcdf2f889a9a95d9a196d61",
          "grade": true,
          "grade_id": "Exercicio7",
          "locked": false,
          "points": 2,
          "schema_version": 3,
          "solution": true,
          "task": false
        },
        "id": "2a1f6a9c",
        "colab": {
          "base_uri": "https://localhost:8080/"
        },
        "outputId": "6add9fef-df76-4f54-dd18-2d9e5adcc11f"
      },
      "outputs": [
        {
          "output_type": "stream",
          "name": "stdout",
          "text": [
            "Digite a área a ser pintada: 500\n",
            "Você precisará de 3 lata(s) e custará R$240.0\n"
          ]
        }
      ],
      "source": [
        "import math\n",
        "coberturaTinta = 12\n",
        "capacidadeLata = 18\n",
        "precoLata = 80.00\n",
        "\n",
        "area = float(input(\"Digite a área a ser pintada: \"))\n",
        "litrosTinta = area/coberturaTinta\n",
        "latas = math.ceil(litrosTinta/capacidadeLata)\n",
        "preco = latas*precoLata\n",
        "\n",
        "print(\"Você precisará de {} lata(s) e custará R$ {}\".format(latas, preco))"
      ]
    },
    {
      "cell_type": "markdown",
      "id": "79eca3d1",
      "metadata": {
        "deletable": false,
        "editable": false,
        "nbgrader": {
          "cell_type": "markdown",
          "checksum": "e44b2f3971c79d43c75c12bce821c4d9",
          "grade": false,
          "grade_id": "Exercicio8-descricao",
          "locked": true,
          "schema_version": 3,
          "solution": false,
          "task": false
        },
        "id": "79eca3d1"
      },
      "source": [
        "# Exercício 8\n",
        "\n",
        "Faça um Programa para uma loja de tintas. O programa deverá pedir o tamanho em metros quadrados da área a ser pintada. Considere que a cobertura da tinta é de 1 litro para cada 12 metros quadrados e que a tinta é vendida em latas de 18 litros, que custam R$ 80,00 ou em galões de 3,6 litros, que custam R$ 25,00.\n",
        "\n",
        "Informe ao usuário as quantidades de tinta a serem compradas e os respectivos preços em 3 situações:\n",
        "\n",
        "    - comprar apenas latas de 18 litros;\n",
        "    - comprar apenas galões de 3,6 litros;\n",
        "    - misturar latas e galões, de forma que o desperdício de tinta seja menor. \n",
        "    \n",
        "Acrescente 10% de folga nos três casos (isto é, você deve adicionar 10% sobre o total de litros de tinta necessário) e sempre arredonde os valores para cima, isto é, considere latas cheias. \n",
        "\n"
      ]
    },
    {
      "cell_type": "code",
      "execution_count": 3,
      "id": "54c1e741",
      "metadata": {
        "deletable": false,
        "nbgrader": {
          "cell_type": "code",
          "checksum": "8f12ca6f898fe140e2eb04c84fc6c8f3",
          "grade": true,
          "grade_id": "Exercicio8",
          "locked": false,
          "points": 2,
          "schema_version": 3,
          "solution": true,
          "task": false
        },
        "id": "54c1e741",
        "colab": {
          "base_uri": "https://localhost:8080/"
        },
        "outputId": "cd01640c-a250-4d5e-f30c-e90325692b6a"
      },
      "outputs": [
        {
          "output_type": "stream",
          "name": "stdout",
          "text": [
            "Digite a área a ser pintada: 216\n",
            "Comprar 2 lata(s) de 18L custará R$ 160.0\n",
            "Comprar 6 galão(ões) de 3.6L custará R$ 150.0\n",
            "Comprar 1 lata(s) de 18L e 1 galão(ões) de 3.6L custará R$ 105.0\n"
          ]
        }
      ],
      "source": [
        "import math\n",
        "coberturaTinta = 12\n",
        "capacidadeLata = 18\n",
        "capacidadeGaloes = 3.6\n",
        "precoLata = 80.00\n",
        "precoGaloes = 25.00\n",
        "\n",
        "area = float(input(\"Digite a área a ser pintada: \"))\n",
        "\n",
        "litrosTinta = area/coberturaTinta\n",
        "#latas e galões => devem ser números inteiros, acrescentado 10% da qtd necessária e arrendondados para cima\n",
        "latas = math.ceil((litrosTinta/capacidadeLata)*1.1) \n",
        "galoes = math.ceil((litrosTinta/capacidadeGaloes)*1.1)\n",
        "\n",
        "latas_e_galoes = (litrosTinta/capacidadeLata)*1.1\n",
        "if(latas_e_galoes%capacidadeLata != 0):\n",
        "  #Aqui será um número decimal, então usa-se a parte inteira para latas e completa a parte fracionária restante com um galão!\n",
        "  misturaLata = math.trunc(latas_e_galoes)\n",
        "  misturaGaloes = 1\n",
        "else:\n",
        "  # se a divisão  der resto zero, pode-se vender uma qtd inteira de latas, então a terceira opção será igual a primeira. \n",
        "  misturaLata = latas\n",
        "  misturaGaloes = 0\n",
        "\n",
        "precoMistura = misturaLata*precoLata + misturaGaloes*precoGaloes\n",
        "\n",
        "print(\"Comprar {} lata(s) de 18L custará R$ {}\".format(latas, latas*precoLata))\n",
        "print(\"Comprar {} galão(ões) de 3.6L custará R$ {}\".format(galoes, galoes*precoGaloes))\n",
        "print(\"Comprar {} lata(s) de 18L e {} galão(ões) de 3.6L custará R$ {}\".format(misturaLata, misturaGaloes, precoMistura))"
      ]
    }
  ],
  "metadata": {
    "kernelspec": {
      "display_name": "Python 3 (ipykernel)",
      "language": "python",
      "name": "python3"
    },
    "language_info": {
      "codemirror_mode": {
        "name": "ipython",
        "version": 3
      },
      "file_extension": ".py",
      "mimetype": "text/x-python",
      "name": "python",
      "nbconvert_exporter": "python",
      "pygments_lexer": "ipython3",
      "version": "3.9.7"
    },
    "colab": {
      "name": "Semana1.ipynb",
      "provenance": [],
      "collapsed_sections": []
    }
  },
  "nbformat": 4,
  "nbformat_minor": 5
}