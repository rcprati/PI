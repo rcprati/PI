{
  "cells": [
    {
      "cell_type": "markdown",
      "id": "d4a1d469",
      "metadata": {
        "id": "d4a1d469"
      },
      "source": [
        "# Instruções\n",
        "\n",
        "- Antes de resolver esses exercícios, certifique-se que a configuração está correta (Python 3).\n",
        "\n",
        "- Se estiver usando o Colab, faça uma cópia deste notebook antes de começar a repondê-lo.\n",
        "\n",
        "![](http://professor.ufabc.edu.br/~ronaldo.prati/colab.png)\n",
        "\n",
        "- Lembre-se de manter o nome do caderno com o mesmo nome original.\n",
        "\n",
        "- Não apague nem introduza novas células neste notebook.\n",
        "\n",
        "- Certifique-se que você preencheu todos os lugares que dizem \\\"YOUR CODE HERE\\\" ou \\\"YOUR ANSWER HERE\\\". Substitutua essa linha e também a linha `raise NotImplementedError()` pelo seu código.\n",
        "\n",
        "- Depois de resolver os exercícios, para enviar a atividade, salve o notebook e o envie pelo moodle da disciplina. No colab, para exportar o notebook localmente, acesse `File->Download->Download .ipynb` ou `Arquivo->Baixar->Baixar .ipynb`\n",
        "\n",
        "![](http://professor.ufabc.edu.br/~ronaldo.prati/submit.png)"
      ]
    },
    {
      "cell_type": "markdown",
      "id": "5f82cbf3",
      "metadata": {
        "deletable": false,
        "editable": false,
        "nbgrader": {
          "cell_type": "markdown",
          "checksum": "f1f911b3ba8050e102209c62c8db3f57",
          "grade": false,
          "grade_id": "Exercicio1-descricao",
          "locked": true,
          "schema_version": 3,
          "solution": false,
          "task": false
        },
        "id": "5f82cbf3"
      },
      "source": [
        "# Exercício 1\n",
        "\n",
        "Faça um programa que peça um número e armazene-o em uma variável. A seguir, mostre a mensagem \"O número informado foi [número]\""
      ]
    },
    {
      "cell_type": "code",
      "execution_count": null,
      "id": "98f0fd7a",
      "metadata": {
        "deletable": false,
        "nbgrader": {
          "cell_type": "code",
          "checksum": "74fb8b9b0c1978c0db15aa13a5696150",
          "grade": true,
          "grade_id": "Exercicio1",
          "locked": false,
          "points": 1,
          "schema_version": 3,
          "solution": true,
          "task": false
        },
        "id": "98f0fd7a",
        "colab": {
          "base_uri": "https://localhost:8080/"
        },
        "outputId": "bf3d4108-17ac-4e3f-d9e4-60fbba65e74d"
      },
      "outputs": [
        {
          "output_type": "stream",
          "name": "stdout",
          "text": [
            "Digite um número: 9\n",
            "O número informado foi:  9.0\n"
          ]
        }
      ],
      "source": [
        "n = float(input(\"Digite um número: \"))\n",
        "print('O número informado foi: ',n)"
      ]
    },
    {
      "cell_type": "markdown",
      "id": "dd8c0af2",
      "metadata": {
        "deletable": false,
        "editable": false,
        "nbgrader": {
          "cell_type": "markdown",
          "checksum": "e1645b130e5fd8363c5a31803d8a6730",
          "grade": false,
          "grade_id": "Exercicio2-descricao",
          "locked": true,
          "schema_version": 3,
          "solution": false,
          "task": false
        },
        "id": "dd8c0af2"
      },
      "source": [
        "# Exercício 2\n",
        "\n",
        "Faça um Programa que peça o raio de um círculo, calcule e mostre sua área.\n",
        "Dica: para usar o valor de $\\pi$, pesquise por `math.pi`."
      ]
    },
    {
      "cell_type": "code",
      "execution_count": null,
      "id": "407e7f33",
      "metadata": {
        "deletable": false,
        "nbgrader": {
          "cell_type": "code",
          "checksum": "41ef7b01abeaa8d74e2893a5054fb644",
          "grade": true,
          "grade_id": "Exercicio2",
          "locked": false,
          "points": 1,
          "schema_version": 3,
          "solution": true,
          "task": false
        },
        "id": "407e7f33",
        "colab": {
          "base_uri": "https://localhost:8080/"
        },
        "outputId": "58dba9a3-a86d-48b8-841a-d2fe02669a03"
      },
      "outputs": [
        {
          "output_type": "stream",
          "name": "stdout",
          "text": [
            "Digite um valor de um raio de um círculo: 3\n",
            "A área do círculo será:  28.274333882308138 cm\n"
          ]
        }
      ],
      "source": [
        "import math\n",
        "r = float(input(\"Digite um valor de um raio de um círculo: \"))\n",
        "area = math.pi * (r ** 2)\n",
        "print('A área do círculo será: ',area,\"cm\")"
      ]
    },
    {
      "cell_type": "markdown",
      "id": "868cfe1c",
      "metadata": {
        "deletable": false,
        "editable": false,
        "nbgrader": {
          "cell_type": "markdown",
          "checksum": "83a396c8ae7ca1696f25c00d928c9d55",
          "grade": false,
          "grade_id": "Exercicio3-descricao",
          "locked": true,
          "schema_version": 3,
          "solution": false,
          "task": false
        },
        "id": "868cfe1c"
      },
      "source": [
        "# Exercício 3\n",
        "\n",
        "Faça um Programa que peça 2 números inteiros e um número real. Calcule e mostre:\n",
        "\n",
        "   - o produto do dobro do primeiro com metade do segundo .\n",
        "   - a soma do triplo do primeiro com o terceiro.\n",
        "   - o terceiro elevado ao cubo. "
      ]
    },
    {
      "cell_type": "code",
      "execution_count": null,
      "id": "0f2c4944",
      "metadata": {
        "deletable": false,
        "nbgrader": {
          "cell_type": "code",
          "checksum": "01db6a60d8afd153075785a9f8e10ea5",
          "grade": true,
          "grade_id": "Exercicio3",
          "locked": false,
          "points": 1,
          "schema_version": 3,
          "solution": true,
          "task": false
        },
        "id": "0f2c4944",
        "colab": {
          "base_uri": "https://localhost:8080/"
        },
        "outputId": "b44cba4b-29b1-4e6a-f2cf-7228192607f8"
      },
      "outputs": [
        {
          "output_type": "stream",
          "name": "stdout",
          "text": [
            "Digite um número inteiro: 6\n",
            "Digite outro número inteiro: 2\n",
            "Digite um número real: 3\n",
            "O produto do dobro do primeiro com metade do segundo é: 12.0\n",
            "A soma do triplo do primeiro com o terceiro é: 21.0\n",
            "O terceiro elevado ao cubo é: 27.0\n"
          ]
        }
      ],
      "source": [
        "um = int(input(\"Digite um número inteiro: \"))\n",
        "dois = int(input(\"Digite outro número inteiro: \"))\n",
        "real = float(input(\"Digite um número real: \"))\n",
        "\n",
        "a = (um*2) * (dois/2)\n",
        "b = um*3 + real\n",
        "c = real**3\n",
        "\n",
        "print(\"O produto do dobro do primeiro com metade do segundo é:\",a)\n",
        "print(\"A soma do triplo do primeiro com o terceiro é:\",b)\n",
        "print(\"O terceiro elevado ao cubo é:\",c)\n"
      ]
    },
    {
      "cell_type": "markdown",
      "id": "d3996f2c",
      "metadata": {
        "deletable": false,
        "editable": false,
        "nbgrader": {
          "cell_type": "markdown",
          "checksum": "dbee5e0c5c9a02ca7b0fbcbf0c5018fd",
          "grade": false,
          "grade_id": "Exercicio4-descricao",
          "locked": true,
          "schema_version": 3,
          "solution": false,
          "task": false
        },
        "id": "d3996f2c"
      },
      "source": [
        "# Exercício 4\n",
        "\n",
        "Faça um programa que pergunte quanto você ganha por hora e o número de horas trabalhadas na semana. Calcule e mostre o total do seu salário ao final de 4 semanas. "
      ]
    },
    {
      "cell_type": "code",
      "execution_count": null,
      "id": "5a307587",
      "metadata": {
        "deletable": false,
        "nbgrader": {
          "cell_type": "code",
          "checksum": "e511551fc875680ccd9679f9b2c21414",
          "grade": true,
          "grade_id": "Exercicio4",
          "locked": false,
          "points": 1,
          "schema_version": 3,
          "solution": true,
          "task": false
        },
        "id": "5a307587",
        "colab": {
          "base_uri": "https://localhost:8080/"
        },
        "outputId": "4941bc26-f3c8-4af1-ea1c-072c212ef9b9"
      },
      "outputs": [
        {
          "output_type": "stream",
          "name": "stdout",
          "text": [
            "Digite o quanto você ganha por hora: 12\n",
            "Digite o número de horas trabalhadas na semana: 40\n",
            "Seu salário total no final de 4 semanas é de: R$ 1920.0\n"
          ]
        }
      ],
      "source": [
        "h = float(input(\"Digite o quanto você ganha por hora: \"))\n",
        "s = float(input(\"Digite o número de horas trabalhadas na semana: \"))\n",
        "\n",
        "salario = (h*s)*4\n",
        "\n",
        "print('Seu salário total no final de 4 semanas é de: R$',salario)"
      ]
    },
    {
      "cell_type": "markdown",
      "id": "d5088446",
      "metadata": {
        "deletable": false,
        "editable": false,
        "nbgrader": {
          "cell_type": "markdown",
          "checksum": "c82b175f45419cc78a6f0efc08f9ab15",
          "grade": false,
          "grade_id": "Exercicio5-descricao",
          "locked": true,
          "schema_version": 3,
          "solution": false,
          "task": false
        },
        "id": "d5088446"
      },
      "source": [
        "# Exercício 5\n",
        "\n",
        "Faça um programa que leia um número inteiro qualquer e que apresete, além do número informado, o seu antecessor e do seu sucessor."
      ]
    },
    {
      "cell_type": "code",
      "execution_count": null,
      "id": "a09fcc89",
      "metadata": {
        "deletable": false,
        "nbgrader": {
          "cell_type": "code",
          "checksum": "9f693e117e3e2158f95ee76dc96292a0",
          "grade": true,
          "grade_id": "Exercicio5",
          "locked": false,
          "points": 1,
          "schema_version": 3,
          "solution": true,
          "task": false
        },
        "id": "a09fcc89",
        "colab": {
          "base_uri": "https://localhost:8080/"
        },
        "outputId": "a02a0553-5e45-47e3-f3e0-878b60b374da"
      },
      "outputs": [
        {
          "output_type": "stream",
          "name": "stdout",
          "text": [
            "Digite um número inteiro: 22\n",
            "O número escolhido foi: 22 , seu antecessor é 21 e seu sucessor é 23\n"
          ]
        }
      ],
      "source": [
        "n = int(input(\"Digite um número inteiro: \"))\n",
        "ant = n-1\n",
        "suc = n+1\n",
        "print('O número escolhido foi:',n, ', seu antecessor é', ant, 'e seu sucessor é', suc)"
      ]
    },
    {
      "cell_type": "markdown",
      "id": "57a3fb31",
      "metadata": {
        "deletable": false,
        "editable": false,
        "nbgrader": {
          "cell_type": "markdown",
          "checksum": "537bdb2e45ec13ee95cea397e02744f2",
          "grade": false,
          "grade_id": "Exercicio6-descricao",
          "locked": true,
          "schema_version": 3,
          "solution": false,
          "task": false
        },
        "id": "57a3fb31"
      },
      "source": [
        "# Exercício 6\n",
        "\n",
        "Faça um programa que leia quatro notas, e seus respectivos pesos, e que apresente a média final simples e a média final ponderada."
      ]
    },
    {
      "cell_type": "code",
      "execution_count": null,
      "id": "10e12fd4",
      "metadata": {
        "deletable": false,
        "nbgrader": {
          "cell_type": "code",
          "checksum": "ff1bbd3e5c18dc73d5e0328c41d74739",
          "grade": true,
          "grade_id": "Exercicio6",
          "locked": false,
          "points": 1,
          "schema_version": 3,
          "solution": true,
          "task": false
        },
        "id": "10e12fd4",
        "colab": {
          "base_uri": "https://localhost:8080/"
        },
        "outputId": "9a642771-ccea-44a8-8632-17777b2dfe4b"
      },
      "outputs": [
        {
          "output_type": "stream",
          "name": "stdout",
          "text": [
            "Digite sua primeira nota: 5\n",
            "Digite o peso sua primeira nota: 1\n",
            "Digite sua segunda nota: 6\n",
            "Digite o peso sua segunda nota: 2\n",
            "Digite sua terceira nota: 2\n",
            "Digite o peso sua terceira nota: 3\n",
            "Digite sua quarta nota: 8\n",
            "Digite o peso sua quarta nota: 4\n",
            "Sua média final foi de: 5.25 e sua média ponderado foi de: 5.5\n"
          ]
        }
      ],
      "source": [
        "um = float(input(\"Digite sua primeira nota: \"))\n",
        "p = float(input(\"Digite o peso sua primeira nota: \"))\n",
        "dois = float(input(\"Digite sua segunda nota: \"))\n",
        "pd = float(input(\"Digite o peso sua segunda nota: \"))\n",
        "tres = float(input(\"Digite sua terceira nota: \"))\n",
        "pt = float(input(\"Digite o peso sua terceira nota: \"))\n",
        "quatro = float(input(\"Digite sua quarta nota: \"))\n",
        "pq = float(input(\"Digite o peso sua quarta nota: \"))\n",
        "\n",
        "mf = (um+dois+tres+quatro)/4\n",
        "mp = (um*p+dois*pd+tres*pt+quatro*pq)/(p+pd+pt+pq)\n",
        "print('Sua média final foi de:',mf, 'e sua média ponderado foi de:',mp)\n"
      ]
    },
    {
      "cell_type": "markdown",
      "id": "da81404d",
      "metadata": {
        "deletable": false,
        "editable": false,
        "nbgrader": {
          "cell_type": "markdown",
          "checksum": "6f91f7198e36290a15c6547e839a5885",
          "grade": false,
          "grade_id": "Exercicio7-descricao",
          "locked": true,
          "schema_version": 3,
          "solution": false,
          "task": false
        },
        "id": "da81404d"
      },
      "source": [
        "# Exercício 7\n",
        "\n",
        "Faça um programa para uma loja de tintas. O programa deverá pedir o tamanho em metros quadrados da área a ser pintada. Considere que a cobertura da tinta é de 1 litro para cada 12 metros quadrados e que a tinta é vendida em latas de 18 litros, que custam R$ 80,00. Informe ao usuário a quantidades de latas de tinta a serem compradas e o preço total. "
      ]
    },
    {
      "cell_type": "code",
      "execution_count": null,
      "id": "2a1f6a9c",
      "metadata": {
        "deletable": false,
        "nbgrader": {
          "cell_type": "code",
          "checksum": "0b356a405bcdf2f889a9a95d9a196d61",
          "grade": true,
          "grade_id": "Exercicio7",
          "locked": false,
          "points": 2,
          "schema_version": 3,
          "solution": true,
          "task": false
        },
        "id": "2a1f6a9c",
        "colab": {
          "base_uri": "https://localhost:8080/"
        },
        "outputId": "e2994193-7182-47f4-a88c-1dcfa3049d99"
      },
      "outputs": [
        {
          "output_type": "stream",
          "name": "stdout",
          "text": [
            "Digite o tamanho da área a ser pintada em metros quadrados: 726\n",
            "A quantidade de latas de tinta necessárias vai ser de: 3 e o proço total será de: R$ 240.0\n"
          ]
        }
      ],
      "source": [
        "a = float(input('Digite o tamanho da área a ser pintada em metros quadrados: '))\n",
        "\n",
        "litro = a/12\n",
        "lata = litro//18\n",
        "valor = lata*80\n",
        "\n",
        "lat = int(lata)\n",
        "\n",
        "print('A quantidade de latas de tinta necessárias vai ser de:',lat,'e o proço total será de: R$', valor)"
      ]
    },
    {
      "cell_type": "markdown",
      "id": "79eca3d1",
      "metadata": {
        "deletable": false,
        "editable": false,
        "nbgrader": {
          "cell_type": "markdown",
          "checksum": "e44b2f3971c79d43c75c12bce821c4d9",
          "grade": false,
          "grade_id": "Exercicio8-descricao",
          "locked": true,
          "schema_version": 3,
          "solution": false,
          "task": false
        },
        "id": "79eca3d1"
      },
      "source": [
        "# Exercício 8\n",
        "\n",
        "Faça um Programa para uma loja de tintas. O programa deverá pedir o tamanho em metros quadrados da área a ser pintada. Considere que a cobertura da tinta é de 1 litro para cada 12 metros quadrados e que a tinta é vendida em latas de 18 litros, que custam R$ 80,00 ou em galões de 3,6 litros, que custam R$ 25,00.\n",
        "\n",
        "Informe ao usuário as quantidades de tinta a serem compradas e os respectivos preços em 3 situações:\n",
        "\n",
        "    - comprar apenas latas de 18 litros;\n",
        "    - comprar apenas galões de 3,6 litros;\n",
        "    - misturar latas e galões, de forma que o desperdício de tinta seja menor. \n",
        "    \n",
        "Acrescente 10% de folga nos três casos (isto é, você deve adicionar 10% sobre o total de litros de tinta necessário) e sempre arredonde os valores para cima, isto é, considere latas cheias. \n",
        "\n"
      ]
    },
    {
      "cell_type": "code",
      "execution_count": null,
      "id": "54c1e741",
      "metadata": {
        "deletable": false,
        "nbgrader": {
          "cell_type": "code",
          "checksum": "8f12ca6f898fe140e2eb04c84fc6c8f3",
          "grade": true,
          "grade_id": "Exercicio8",
          "locked": false,
          "points": 2,
          "schema_version": 3,
          "solution": true,
          "task": false
        },
        "id": "54c1e741",
        "colab": {
          "base_uri": "https://localhost:8080/"
        },
        "outputId": "e336939d-f5ab-46d9-fe27-2ad9356271a5"
      },
      "outputs": [
        {
          "output_type": "stream",
          "name": "stdout",
          "text": [
            "Digite o tamanho da área a ser pintada em metros quadrados: 982\n",
            "A quantidade de latas de tinta necessárias vai ser de: 6 e o preço total será de: R$ 480\n",
            "A quantidade de galões de tinta necessários vai ser de: 26 e o preço total será de: R$ 650\n",
            "Para que o disperdício seja menor serão necessárias 4.0 latas e 962 galões. Gerando um total de: R$ 24370.0\n"
          ]
        }
      ],
      "source": [
        "import math\n",
        "\n",
        "a = int(input('Digite o tamanho da área a ser pintada em metros quadrados: '))\n",
        "\n",
        "litro = a/12\n",
        "lata = math.ceil((litro*1.1)/18)\n",
        "valor = lata*80\n",
        "galao = math.ceil((litro*1.1)/3.6)\n",
        "val = galao*25\n",
        "\n",
        "lat = int(lata)\n",
        "gal = int(galao)\n",
        "\n",
        "lmist = litro//18\n",
        "gmist = math.ceil(a-(lmist * 18)/3.6)\n",
        "vlmist = lmist*80\n",
        "vgmist = gmist*25\n",
        "total = vlmist+vgmist\n",
        "\n",
        "\n",
        "print('A quantidade de latas de tinta necessárias vai ser de:',lat,'e o preço total será de: R$', valor)\n",
        "print('A quantidade de galões de tinta necessários vai ser de:',gal,'e o preço total será de: R$', val)\n",
        "print('Para que o disperdício seja menor serão necessárias',lmist,'latas e', gmist,'galões. Gerando um total de: R$',total)"
      ]
    }
  ],
  "metadata": {
    "kernelspec": {
      "display_name": "Python 3 (ipykernel)",
      "language": "python",
      "name": "python3"
    },
    "language_info": {
      "codemirror_mode": {
        "name": "ipython",
        "version": 3
      },
      "file_extension": ".py",
      "mimetype": "text/x-python",
      "name": "python",
      "nbconvert_exporter": "python",
      "pygments_lexer": "ipython3",
      "version": "3.9.7"
    },
    "colab": {
      "name": "Semana1.ipynb",
      "provenance": []
    }
  },
  "nbformat": 4,
  "nbformat_minor": 5
}