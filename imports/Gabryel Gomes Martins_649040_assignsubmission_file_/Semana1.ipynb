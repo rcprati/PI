{
  "cells": [
    {
      "cell_type": "markdown",
      "id": "d4a1d469",
      "metadata": {
        "id": "d4a1d469"
      },
      "source": [
        "# Instruções\n",
        "\n",
        "- Antes de resolver esses exercícios, certifique-se que a configuração está correta (Python 3).\n",
        "\n",
        "- Se estiver usando o Colab, faça uma cópia deste notebook antes de começar a repondê-lo.\n",
        "\n",
        "![](http://professor.ufabc.edu.br/~ronaldo.prati/colab.png)\n",
        "\n",
        "- Lembre-se de manter o nome do caderno com o mesmo nome original.\n",
        "\n",
        "- Não apague nem introduza novas células neste notebook.\n",
        "\n",
        "- Certifique-se que você preencheu todos os lugares que dizem \\\"YOUR CODE HERE\\\" ou \\\"YOUR ANSWER HERE\\\". Substitutua essa linha e também a linha `raise NotImplementedError()` pelo seu código.\n",
        "\n",
        "- Depois de resolver os exercícios, para enviar a atividade, salve o notebook e o envie pelo moodle da disciplina. No colab, para exportar o notebook localmente, acesse `File->Download->Download .ipynb` ou `Arquivo->Baixar->Baixar .ipynb`\n",
        "\n",
        "![](http://professor.ufabc.edu.br/~ronaldo.prati/submit.png)"
      ]
    },
    {
      "cell_type": "markdown",
      "id": "5f82cbf3",
      "metadata": {
        "deletable": false,
        "editable": false,
        "nbgrader": {
          "cell_type": "markdown",
          "checksum": "f1f911b3ba8050e102209c62c8db3f57",
          "grade": false,
          "grade_id": "Exercicio1-descricao",
          "locked": true,
          "schema_version": 3,
          "solution": false,
          "task": false
        },
        "id": "5f82cbf3"
      },
      "source": [
        "# Exercício 1\n",
        "\n",
        "Faça um programa que peça um número e armazene-o em uma variável. A seguir, mostre a mensagem \"O número informado foi [número]\""
      ]
    },
    {
      "cell_type": "code",
      "execution_count": 7,
      "id": "98f0fd7a",
      "metadata": {
        "deletable": false,
        "nbgrader": {
          "cell_type": "code",
          "checksum": "74fb8b9b0c1978c0db15aa13a5696150",
          "grade": true,
          "grade_id": "Exercicio1",
          "locked": false,
          "points": 1,
          "schema_version": 3,
          "solution": true,
          "task": false
        },
        "id": "98f0fd7a",
        "colab": {
          "base_uri": "https://localhost:8080/"
        },
        "outputId": "39facbc0-852e-4fab-c80a-400e49989e0d"
      },
      "outputs": [
        {
          "output_type": "stream",
          "name": "stdout",
          "text": [
            "digite um número 1210\n",
            "o número informado foi 1210\n"
          ]
        }
      ],
      "source": [
        "num = input(\"digite um número \")\n",
        "print(\"o número informado foi\",num)"
      ]
    },
    {
      "cell_type": "markdown",
      "id": "dd8c0af2",
      "metadata": {
        "deletable": false,
        "editable": false,
        "nbgrader": {
          "cell_type": "markdown",
          "checksum": "e1645b130e5fd8363c5a31803d8a6730",
          "grade": false,
          "grade_id": "Exercicio2-descricao",
          "locked": true,
          "schema_version": 3,
          "solution": false,
          "task": false
        },
        "id": "dd8c0af2"
      },
      "source": [
        "# Exercício 2\n",
        "\n",
        "Faça um Programa que peça o raio de um círculo, calcule e mostre sua área.\n",
        "Dica: para usar o valor de $\\pi$, pesquise por `math.pi`."
      ]
    },
    {
      "cell_type": "code",
      "execution_count": 15,
      "id": "407e7f33",
      "metadata": {
        "deletable": false,
        "nbgrader": {
          "cell_type": "code",
          "checksum": "41ef7b01abeaa8d74e2893a5054fb644",
          "grade": true,
          "grade_id": "Exercicio2",
          "locked": false,
          "points": 1,
          "schema_version": 3,
          "solution": true,
          "task": false
        },
        "id": "407e7f33",
        "colab": {
          "base_uri": "https://localhost:8080/"
        },
        "outputId": "3ed4d2e6-c71c-4296-a2a4-0ead6d1641bb"
      },
      "outputs": [
        {
          "output_type": "stream",
          "name": "stdout",
          "text": [
            "Digite o raio do círculo 10\n",
            "314.1592653589793\n"
          ]
        }
      ],
      "source": [
        "import math\n",
        "rc  = float(input(\"Digite o raio do círculo \"))\n",
        "print(math.pi * rc**2)"
      ]
    },
    {
      "cell_type": "markdown",
      "id": "868cfe1c",
      "metadata": {
        "deletable": false,
        "editable": false,
        "nbgrader": {
          "cell_type": "markdown",
          "checksum": "83a396c8ae7ca1696f25c00d928c9d55",
          "grade": false,
          "grade_id": "Exercicio3-descricao",
          "locked": true,
          "schema_version": 3,
          "solution": false,
          "task": false
        },
        "id": "868cfe1c"
      },
      "source": [
        "# Exercício 3\n",
        "\n",
        "Faça um Programa que peça 2 números inteiros e um número real. Calcule e mostre:\n",
        "\n",
        "   - o produto do dobro do primeiro com metade do segundo .\n",
        "   - a soma do triplo do primeiro com o terceiro.\n",
        "   - o terceiro elevado ao cubo. "
      ]
    },
    {
      "cell_type": "code",
      "execution_count": 18,
      "id": "0f2c4944",
      "metadata": {
        "deletable": false,
        "nbgrader": {
          "cell_type": "code",
          "checksum": "01db6a60d8afd153075785a9f8e10ea5",
          "grade": true,
          "grade_id": "Exercicio3",
          "locked": false,
          "points": 1,
          "schema_version": 3,
          "solution": true,
          "task": false
        },
        "id": "0f2c4944",
        "colab": {
          "base_uri": "https://localhost:8080/"
        },
        "outputId": "cb903946-4beb-419a-ac72-093d92578a51"
      },
      "outputs": [
        {
          "output_type": "stream",
          "name": "stdout",
          "text": [
            "1º número inteiro 1\n",
            "2º número inteiro 2\n",
            "número real 3\n",
            "o produto do dobro do primeiro com metade do segundo é:\n",
            "2.0\n",
            "a soma do triplo do primeiro com o terceiro é:\n",
            "6.0\n",
            "o terceiro elevado ao cubo é:\n",
            "27.0\n"
          ]
        }
      ],
      "source": [
        "i1 = int(input(\"1º número inteiro \"))\n",
        "i2 = int(input(\"2º número inteiro \"))\n",
        "r1 = float(input(\"número real \"))\n",
        "\n",
        "print(\"o produto do dobro do primeiro com metade do segundo é:\")\n",
        "print((i1*2)*(i2/2))\n",
        "\n",
        "print(\"a soma do triplo do primeiro com o terceiro é:\")\n",
        "print((i1*3)+r1)\n",
        "\n",
        "print(\"o terceiro elevado ao cubo é:\")\n",
        "print(r1**3)"
      ]
    },
    {
      "cell_type": "markdown",
      "id": "d3996f2c",
      "metadata": {
        "deletable": false,
        "editable": false,
        "nbgrader": {
          "cell_type": "markdown",
          "checksum": "dbee5e0c5c9a02ca7b0fbcbf0c5018fd",
          "grade": false,
          "grade_id": "Exercicio4-descricao",
          "locked": true,
          "schema_version": 3,
          "solution": false,
          "task": false
        },
        "id": "d3996f2c"
      },
      "source": [
        "# Exercício 4\n",
        "\n",
        "Faça um programa que pergunte quanto você ganha por hora e o número de horas trabalhadas na semana. Calcule e mostre o total do seu salário ao final de 4 semanas. "
      ]
    },
    {
      "cell_type": "code",
      "execution_count": 32,
      "id": "5a307587",
      "metadata": {
        "deletable": false,
        "nbgrader": {
          "cell_type": "code",
          "checksum": "e511551fc875680ccd9679f9b2c21414",
          "grade": true,
          "grade_id": "Exercicio4",
          "locked": false,
          "points": 1,
          "schema_version": 3,
          "solution": true,
          "task": false
        },
        "id": "5a307587",
        "colab": {
          "base_uri": "https://localhost:8080/"
        },
        "outputId": "34fd5fcf-6859-45eb-9707-a8d6e08e136e"
      },
      "outputs": [
        {
          "output_type": "stream",
          "name": "stdout",
          "text": [
            "quanto você ganha por hora? 5\n",
            "horas trabalhadas na semana 28\n",
            "ganho em 4 semanas 560.0\n"
          ]
        }
      ],
      "source": [
        "gh = float(input(\"quanto você ganha por hora? \"))\n",
        "hs = float(input(\"horas trabalhadas na semana \"))\n",
        "print(\"ganho em 4 semanas\",(gh*hs)*4)"
      ]
    },
    {
      "cell_type": "markdown",
      "id": "d5088446",
      "metadata": {
        "deletable": false,
        "editable": false,
        "nbgrader": {
          "cell_type": "markdown",
          "checksum": "c82b175f45419cc78a6f0efc08f9ab15",
          "grade": false,
          "grade_id": "Exercicio5-descricao",
          "locked": true,
          "schema_version": 3,
          "solution": false,
          "task": false
        },
        "id": "d5088446"
      },
      "source": [
        "# Exercício 5\n",
        "\n",
        "Faça um programa que leia um número inteiro qualquer e que apresete, além do número informado, o seu antecessor e do seu sucessor."
      ]
    },
    {
      "cell_type": "code",
      "execution_count": 34,
      "id": "a09fcc89",
      "metadata": {
        "deletable": false,
        "nbgrader": {
          "cell_type": "code",
          "checksum": "9f693e117e3e2158f95ee76dc96292a0",
          "grade": true,
          "grade_id": "Exercicio5",
          "locked": false,
          "points": 1,
          "schema_version": 3,
          "solution": true,
          "task": false
        },
        "id": "a09fcc89",
        "colab": {
          "base_uri": "https://localhost:8080/"
        },
        "outputId": "9d19bd07-c4db-469e-c26b-203d10bd3593"
      },
      "outputs": [
        {
          "output_type": "stream",
          "name": "stdout",
          "text": [
            "digite um número inteiro 1\n",
            "o número informado foi 1\n",
            "seu antecessor é: 0\n",
            "seu sucessor é: 2\n"
          ]
        }
      ],
      "source": [
        "nint = int(input(\"digite um número inteiro \"))\n",
        "print(\"o número informado foi\",nint)\n",
        "print(\"seu antecessor é:\",nint-1)\n",
        "print(\"seu sucessor é:\",nint+1)"
      ]
    },
    {
      "cell_type": "markdown",
      "id": "57a3fb31",
      "metadata": {
        "deletable": false,
        "editable": false,
        "nbgrader": {
          "cell_type": "markdown",
          "checksum": "537bdb2e45ec13ee95cea397e02744f2",
          "grade": false,
          "grade_id": "Exercicio6-descricao",
          "locked": true,
          "schema_version": 3,
          "solution": false,
          "task": false
        },
        "id": "57a3fb31"
      },
      "source": [
        "# Exercício 6\n",
        "\n",
        "Faça um programa que leia quatro notas, e seus respectivos pesos, e que apresente a média final simples e a média final ponderada."
      ]
    },
    {
      "cell_type": "code",
      "execution_count": 36,
      "id": "10e12fd4",
      "metadata": {
        "deletable": false,
        "nbgrader": {
          "cell_type": "code",
          "checksum": "ff1bbd3e5c18dc73d5e0328c41d74739",
          "grade": true,
          "grade_id": "Exercicio6",
          "locked": false,
          "points": 1,
          "schema_version": 3,
          "solution": true,
          "task": false
        },
        "id": "10e12fd4",
        "colab": {
          "base_uri": "https://localhost:8080/"
        },
        "outputId": "f691229d-66ef-42f1-dd3f-72f1f8003ce4"
      },
      "outputs": [
        {
          "output_type": "stream",
          "name": "stdout",
          "text": [
            "nota 1 5\n",
            "peso 1 1\n",
            "nota 2 5\n",
            "peso 2 2\n",
            "nota 3 5\n",
            "peso 3 3\n",
            "nota 4 5\n",
            "peso 4 4\n",
            "média simples 5.0\n",
            "média ponderada 2.5\n"
          ]
        }
      ],
      "source": [
        "n1 = float(input(\"nota 1 \"))\n",
        "p1 = float(input(\"peso 1 \"))\n",
        "n2 = float(input(\"nota 2 \"))\n",
        "p2 = float(input(\"peso 2 \"))\n",
        "n3 = float(input(\"nota 3 \"))\n",
        "p3 = float(input(\"peso 3 \"))\n",
        "n4 = float(input(\"nota 4 \"))\n",
        "p4 = float(input(\"peso 4 \"))\n",
        "\n",
        "f1 = p1*n1\n",
        "f2 = p2*n2\n",
        "f3 = p3*n3\n",
        "f4 = p4*n4\n",
        "\n",
        "print(\"média simples\",(n1+n2+n3+n4)/4)\n",
        "print(\"média ponderada\",(f1+f2+f3+f4)/(n1+n2+n3+n4))"
      ]
    },
    {
      "cell_type": "markdown",
      "id": "da81404d",
      "metadata": {
        "deletable": false,
        "editable": false,
        "nbgrader": {
          "cell_type": "markdown",
          "checksum": "6f91f7198e36290a15c6547e839a5885",
          "grade": false,
          "grade_id": "Exercicio7-descricao",
          "locked": true,
          "schema_version": 3,
          "solution": false,
          "task": false
        },
        "id": "da81404d"
      },
      "source": [
        "# Exercício 7\n",
        "\n",
        "Faça um programa para uma loja de tintas. O programa deverá pedir o tamanho em metros quadrados da área a ser pintada. Considere que a cobertura da tinta é de 1 litro para cada 12 metros quadrados e que a tinta é vendida em latas de 18 litros, que custam R$ 80,00. Informe ao usuário a quantidades de latas de tinta a serem compradas e o preço total. "
      ]
    },
    {
      "cell_type": "code",
      "execution_count": 72,
      "id": "2a1f6a9c",
      "metadata": {
        "deletable": false,
        "nbgrader": {
          "cell_type": "code",
          "checksum": "0b356a405bcdf2f889a9a95d9a196d61",
          "grade": true,
          "grade_id": "Exercicio7",
          "locked": false,
          "points": 2,
          "schema_version": 3,
          "solution": true,
          "task": false
        },
        "id": "2a1f6a9c",
        "colab": {
          "base_uri": "https://localhost:8080/"
        },
        "outputId": "0bd3b0a3-e746-43a2-959a-b6cead7295f4"
      },
      "outputs": [
        {
          "output_type": "stream",
          "name": "stdout",
          "text": [
            "informe a área a ser pintada 323\n",
            "latas necessárias 2\n",
            "valor a pagar R$ 160.0\n"
          ]
        }
      ],
      "source": [
        "import math\n",
        "ap = float(input(\"informe a área a ser pintada \"))\n",
        "\n",
        "L = ap/12\n",
        "Lata = math.ceil(L/18)\n",
        "\n",
        "print(\"latas necessárias\",Lf)\n",
        "print(\"valor a pagar R$\",float(80*Lf))"
      ]
    },
    {
      "cell_type": "markdown",
      "id": "79eca3d1",
      "metadata": {
        "deletable": false,
        "editable": false,
        "nbgrader": {
          "cell_type": "markdown",
          "checksum": "e44b2f3971c79d43c75c12bce821c4d9",
          "grade": false,
          "grade_id": "Exercicio8-descricao",
          "locked": true,
          "schema_version": 3,
          "solution": false,
          "task": false
        },
        "id": "79eca3d1"
      },
      "source": [
        "# Exercício 8\n",
        "\n",
        "Faça um Programa para uma loja de tintas. O programa deverá pedir o tamanho em metros quadrados da área a ser pintada. Considere que a cobertura da tinta é de 1 litro para cada 12 metros quadrados e que a tinta é vendida em latas de 18 litros, que custam R$ 80,00 ou em galões de 3,6 litros, que custam R$ 25,00.\n",
        "\n",
        "Informe ao usuário as quantidades de tinta a serem compradas e os respectivos preços em 3 situações:\n",
        "\n",
        "    - comprar apenas latas de 18 litros;\n",
        "    - comprar apenas galões de 3,6 litros;\n",
        "    - misturar latas e galões, de forma que o desperdício de tinta seja menor. \n",
        "    \n",
        "Acrescente 10% de folga nos três casos (isto é, você deve adicionar 10% sobre o total de litros de tinta necessário) e sempre arredonde os valores para cima, isto é, considere latas cheias. \n",
        "\n"
      ]
    },
    {
      "cell_type": "code",
      "execution_count": 81,
      "id": "54c1e741",
      "metadata": {
        "deletable": false,
        "nbgrader": {
          "cell_type": "code",
          "checksum": "8f12ca6f898fe140e2eb04c84fc6c8f3",
          "grade": true,
          "grade_id": "Exercicio8",
          "locked": false,
          "points": 2,
          "schema_version": 3,
          "solution": true,
          "task": false
        },
        "id": "54c1e741",
        "colab": {
          "base_uri": "https://localhost:8080/"
        },
        "outputId": "26894635-89bd-45c9-a25e-60017259c078"
      },
      "outputs": [
        {
          "output_type": "stream",
          "name": "stdout",
          "text": [
            "informe a área a ser pintada 1503\n",
            "\n",
            "comprando apenas latas:\n",
            "serão necessárias 8 latas\n",
            "pelo preço R$ 640\n",
            "\n",
            "comprando apenas galões:\n",
            "serão necessários 39 galões\n",
            "pelo preço R$ 975\n",
            "\n",
            "comprando latas e galões:\n",
            "serão necessárias 7 latas\n",
            "serão necessários 4 galões\n",
            "pelo preço R$ 660\n"
          ]
        }
      ],
      "source": [
        "import math\n",
        "lata = float(18)\n",
        "galao = float(3.6)\n",
        "area = float(input(\"informe a área a ser pintada \"))\n",
        "\n",
        "  #calculando os litros necessários + 10%\n",
        "litros_e = area/12\n",
        "porcentagem = litros_e * 0.10\n",
        "l_finais = litros_e + porcentagem\n",
        "\n",
        "  #situação 1\n",
        "print()\n",
        "compra_latas = math.ceil(l_finais/lata)\n",
        "print(\"comprando apenas latas:\")\n",
        "print(\"serão necessárias\",compra_latas,\"latas\")\n",
        "print(\"pelo preço R$\",compra_latas*80)\n",
        "\n",
        "  #situação 2\n",
        "print()\n",
        "compra_galao = math.ceil(l_finais/galao)\n",
        "print(\"comprando apenas galões:\")\n",
        "print(\"serão necessários\",compra_galao,\"galões\")\n",
        "print(\"pelo preço R$\",compra_galao*25)\n",
        "\n",
        "  #situação 3\n",
        "print()\n",
        "lata_n = math.floor(l_finais/lata)\n",
        "resto = l_finais%lata\n",
        "galao_n = math.ceil(resto/galao)\n",
        "preco = (galao_n * 25) + (lata_n * 80)\n",
        "print(\"comprando latas e galões:\")\n",
        "print(\"serão necessárias\",lata_n,\"latas\")\n",
        "print(\"serão necessários\",galao_n,\"galões\")\n",
        "print(\"pelo preço R$\",preco)\n"
      ]
    }
  ],
  "metadata": {
    "kernelspec": {
      "display_name": "Python 3 (ipykernel)",
      "language": "python",
      "name": "python3"
    },
    "language_info": {
      "codemirror_mode": {
        "name": "ipython",
        "version": 3
      },
      "file_extension": ".py",
      "mimetype": "text/x-python",
      "name": "python",
      "nbconvert_exporter": "python",
      "pygments_lexer": "ipython3",
      "version": "3.9.7"
    },
    "colab": {
      "name": "Cópia de Semana1.ipynb",
      "provenance": []
    }
  },
  "nbformat": 4,
  "nbformat_minor": 5
}