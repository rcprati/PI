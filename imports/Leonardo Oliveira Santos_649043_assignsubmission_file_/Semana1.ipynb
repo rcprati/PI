{
  "cells": [
    {
      "cell_type": "markdown",
      "id": "d4a1d469",
      "metadata": {
        "id": "d4a1d469"
      },
      "source": [
        "# Instruções\n",
        "\n",
        "- Antes de resolver esses exercícios, certifique-se que a configuração está correta (Python 3).\n",
        "\n",
        "- Se estiver usando o Colab, faça uma cópia deste notebook antes de começar a repondê-lo.\n",
        "\n",
        "![](http://professor.ufabc.edu.br/~ronaldo.prati/colab.png)\n",
        "\n",
        "- Lembre-se de manter o nome do caderno com o mesmo nome original.\n",
        "\n",
        "- Não apague nem introduza novas células neste notebook.\n",
        "\n",
        "- Certifique-se que você preencheu todos os lugares que dizem \\\"YOUR CODE HERE\\\" ou \\\"YOUR ANSWER HERE\\\". Substitutua essa linha e também a linha `raise NotImplementedError()` pelo seu código.\n",
        "\n",
        "- Depois de resolver os exercícios, para enviar a atividade, salve o notebook e o envie pelo moodle da disciplina. No colab, para exportar o notebook localmente, acesse `File->Download->Download .ipynb` ou `Arquivo->Baixar->Baixar .ipynb`\n",
        "\n",
        "![](http://professor.ufabc.edu.br/~ronaldo.prati/submit.png)"
      ]
    },
    {
      "cell_type": "markdown",
      "id": "5f82cbf3",
      "metadata": {
        "deletable": false,
        "editable": false,
        "nbgrader": {
          "cell_type": "markdown",
          "checksum": "f1f911b3ba8050e102209c62c8db3f57",
          "grade": false,
          "grade_id": "Exercicio1-descricao",
          "locked": true,
          "schema_version": 3,
          "solution": false,
          "task": false
        },
        "id": "5f82cbf3"
      },
      "source": [
        "# Exercício 1\n",
        "\n",
        "Faça um programa que peça um número e armazene-o em uma variável. A seguir, mostre a mensagem \"O número informado foi [número]\""
      ]
    },
    {
      "cell_type": "code",
      "execution_count": 21,
      "id": "98f0fd7a",
      "metadata": {
        "deletable": false,
        "nbgrader": {
          "cell_type": "code",
          "checksum": "74fb8b9b0c1978c0db15aa13a5696150",
          "grade": true,
          "grade_id": "Exercicio1",
          "locked": false,
          "points": 1,
          "schema_version": 3,
          "solution": true,
          "task": false
        },
        "id": "98f0fd7a",
        "colab": {
          "base_uri": "https://localhost:8080/"
        },
        "outputId": "9d39ac56-9086-401b-aeb7-571ea1a263aa"
      },
      "outputs": [
        {
          "output_type": "stream",
          "name": "stdout",
          "text": [
            "Digite um número: 8\n",
            "O nuumero informado foi: 8\n"
          ]
        }
      ],
      "source": [
        "n = int(input('Digite um número: '))\n",
        "print('O nuumero informado foi: {}' .format(n))"
      ]
    },
    {
      "cell_type": "markdown",
      "id": "dd8c0af2",
      "metadata": {
        "deletable": false,
        "editable": false,
        "nbgrader": {
          "cell_type": "markdown",
          "checksum": "e1645b130e5fd8363c5a31803d8a6730",
          "grade": false,
          "grade_id": "Exercicio2-descricao",
          "locked": true,
          "schema_version": 3,
          "solution": false,
          "task": false
        },
        "id": "dd8c0af2"
      },
      "source": [
        "# Exercício 2\n",
        "\n",
        "Faça um Programa que peça o raio de um círculo, calcule e mostre sua área.\n",
        "Dica: para usar o valor de $\\pi$, pesquise por `math.pi`."
      ]
    },
    {
      "cell_type": "code",
      "execution_count": 22,
      "id": "407e7f33",
      "metadata": {
        "deletable": false,
        "nbgrader": {
          "cell_type": "code",
          "checksum": "41ef7b01abeaa8d74e2893a5054fb644",
          "grade": true,
          "grade_id": "Exercicio2",
          "locked": false,
          "points": 1,
          "schema_version": 3,
          "solution": true,
          "task": false
        },
        "id": "407e7f33",
        "colab": {
          "base_uri": "https://localhost:8080/"
        },
        "outputId": "e8fd1cc2-1c4a-461b-b369-0ec9b4d562f8"
      },
      "outputs": [
        {
          "output_type": "stream",
          "name": "stdout",
          "text": [
            "Informe o raio do circulo: 8\n",
            "A area do circulo é 201.06192982974676\n"
          ]
        }
      ],
      "source": [
        "import math\n",
        "raio = float(input('Informe o raio do circulo: '))\n",
        "area = math.pi * raio**2\n",
        "print('A area do circulo é {}' .format(area))\n"
      ]
    },
    {
      "cell_type": "markdown",
      "id": "868cfe1c",
      "metadata": {
        "deletable": false,
        "editable": false,
        "nbgrader": {
          "cell_type": "markdown",
          "checksum": "83a396c8ae7ca1696f25c00d928c9d55",
          "grade": false,
          "grade_id": "Exercicio3-descricao",
          "locked": true,
          "schema_version": 3,
          "solution": false,
          "task": false
        },
        "id": "868cfe1c"
      },
      "source": [
        "# Exercício 3\n",
        "\n",
        "Faça um Programa que peça 2 números inteiros e um número real. Calcule e mostre:\n",
        "\n",
        "   - o produto do dobro do primeiro com metade do segundo .\n",
        "   - a soma do triplo do primeiro com o terceiro.\n",
        "   - o terceiro elevado ao cubo. "
      ]
    },
    {
      "cell_type": "code",
      "execution_count": 23,
      "id": "0f2c4944",
      "metadata": {
        "deletable": false,
        "nbgrader": {
          "cell_type": "code",
          "checksum": "01db6a60d8afd153075785a9f8e10ea5",
          "grade": true,
          "grade_id": "Exercicio3",
          "locked": false,
          "points": 1,
          "schema_version": 3,
          "solution": true,
          "task": false
        },
        "id": "0f2c4944",
        "colab": {
          "base_uri": "https://localhost:8080/"
        },
        "outputId": "de7299d5-eb1d-4209-b990-a2c19ffe1418"
      },
      "outputs": [
        {
          "output_type": "stream",
          "name": "stdout",
          "text": [
            "Digite um número inteiro: 8\n",
            "Digite outro número inteiro: 9\n",
            "Digite um número real: 7\n",
            "o produto do dobro do primeiro com metade do segundo é 72.0\n",
            "a soma do triplo do primeiro com o terceiro é 31.0\n",
            "o terceiro elevado ao cubo é 343.03\n"
          ]
        }
      ],
      "source": [
        "x = int(input('Digite um número inteiro: '))\n",
        "y = int(input('Digite outro número inteiro: '))\n",
        "z = float(input('Digite um número real: '))\n",
        "\n",
        "a = 2*x * y/2\n",
        "b = 3*x + z\n",
        "c = z**3\n",
        "\n",
        "print('o produto do dobro do primeiro com metade do segundo é {}' .format(a))\n",
        "print('a soma do triplo do primeiro com o terceiro é {}' .format(b))\n",
        "print('o terceiro elevado ao cubo é {}3' .format(c))"
      ]
    },
    {
      "cell_type": "markdown",
      "id": "d3996f2c",
      "metadata": {
        "deletable": false,
        "editable": false,
        "nbgrader": {
          "cell_type": "markdown",
          "checksum": "dbee5e0c5c9a02ca7b0fbcbf0c5018fd",
          "grade": false,
          "grade_id": "Exercicio4-descricao",
          "locked": true,
          "schema_version": 3,
          "solution": false,
          "task": false
        },
        "id": "d3996f2c"
      },
      "source": [
        "# Exercício 4\n",
        "\n",
        "Faça um programa que pergunte quanto você ganha por hora e o número de horas trabalhadas na semana. Calcule e mostre o total do seu salário ao final de 4 semanas. "
      ]
    },
    {
      "cell_type": "code",
      "execution_count": 25,
      "id": "5a307587",
      "metadata": {
        "deletable": false,
        "nbgrader": {
          "cell_type": "code",
          "checksum": "e511551fc875680ccd9679f9b2c21414",
          "grade": true,
          "grade_id": "Exercicio4",
          "locked": false,
          "points": 1,
          "schema_version": 3,
          "solution": true,
          "task": false
        },
        "id": "5a307587",
        "colab": {
          "base_uri": "https://localhost:8080/"
        },
        "outputId": "be2a42fb-7c4d-4805-888b-4398d0f5707a"
      },
      "outputs": [
        {
          "output_type": "stream",
          "name": "stdout",
          "text": [
            "Quantos reais você ganha por hora? 8\n",
            "Quantas horas você trabalha na semana30\n",
            "Em 4 semanas você ganha R$ 960.00\n"
          ]
        }
      ],
      "source": [
        "g = float(input('Quantos reais você ganha por hora? '))\n",
        "h = float(input('Quantas horas você trabalha na semana'))\n",
        "salario = g * h * 4\n",
        "print('Em 4 semanas você ganha R$ {:.2f}' .format(salario))"
      ]
    },
    {
      "cell_type": "markdown",
      "id": "d5088446",
      "metadata": {
        "deletable": false,
        "editable": false,
        "nbgrader": {
          "cell_type": "markdown",
          "checksum": "c82b175f45419cc78a6f0efc08f9ab15",
          "grade": false,
          "grade_id": "Exercicio5-descricao",
          "locked": true,
          "schema_version": 3,
          "solution": false,
          "task": false
        },
        "id": "d5088446"
      },
      "source": [
        "# Exercício 5\n",
        "\n",
        "Faça um programa que leia um número inteiro qualquer e que apresete, além do número informado, o seu antecessor e do seu sucessor."
      ]
    },
    {
      "cell_type": "code",
      "execution_count": 26,
      "id": "a09fcc89",
      "metadata": {
        "deletable": false,
        "nbgrader": {
          "cell_type": "code",
          "checksum": "9f693e117e3e2158f95ee76dc96292a0",
          "grade": true,
          "grade_id": "Exercicio5",
          "locked": false,
          "points": 1,
          "schema_version": 3,
          "solution": true,
          "task": false
        },
        "id": "a09fcc89",
        "colab": {
          "base_uri": "https://localhost:8080/"
        },
        "outputId": "5e8806a2-b872-41a5-b2e7-536b7b7a72d0"
      },
      "outputs": [
        {
          "output_type": "stream",
          "name": "stdout",
          "text": [
            "Digite um número inteiro: 2\n",
            "O antecessor de 2 é 1 e o sucessor é 3\n"
          ]
        }
      ],
      "source": [
        "n = int(input('Digite um número inteiro: '))\n",
        "print('O antecessor de {} é {} e o sucessor é {}' .format(n, n-1, n+1))"
      ]
    },
    {
      "cell_type": "markdown",
      "id": "57a3fb31",
      "metadata": {
        "deletable": false,
        "editable": false,
        "nbgrader": {
          "cell_type": "markdown",
          "checksum": "537bdb2e45ec13ee95cea397e02744f2",
          "grade": false,
          "grade_id": "Exercicio6-descricao",
          "locked": true,
          "schema_version": 3,
          "solution": false,
          "task": false
        },
        "id": "57a3fb31"
      },
      "source": [
        "# Exercício 6\n",
        "\n",
        "Faça um programa que leia quatro notas, e seus respectivos pesos, e que apresente a média final simples e a média final ponderada."
      ]
    },
    {
      "cell_type": "code",
      "execution_count": 23,
      "id": "10e12fd4",
      "metadata": {
        "deletable": false,
        "nbgrader": {
          "cell_type": "code",
          "checksum": "ff1bbd3e5c18dc73d5e0328c41d74739",
          "grade": true,
          "grade_id": "Exercicio6",
          "locked": false,
          "points": 1,
          "schema_version": 3,
          "solution": true,
          "task": false
        },
        "id": "10e12fd4",
        "colab": {
          "base_uri": "https://localhost:8080/"
        },
        "outputId": "7c36a6e9-a4e1-488b-a703-a8035404104a"
      },
      "outputs": [
        {
          "output_type": "stream",
          "name": "stdout",
          "text": [
            "Informe a primeira nota: 1\n",
            "Informe o peso da primeira nota: 3\n",
            "Informe a segunda nota: 5\n",
            "Informe o peso da segunda nota: 7\n",
            "Informe a terceira nota: 9\n",
            "Informe o peso da terceira nota: 0\n",
            "Informe a quarta nota: 1\n",
            "Informe o peso da quarta nota: 3\n",
            "==============================\n",
            "A média simples é 4.0 \n",
            "E a média ponderada é 3.1538461538461537\n",
            "==============================\n"
          ]
        }
      ],
      "source": [
        "nota1 = float(input('Informe a primeira nota: '))\n",
        "peso1 = float(input('Informe o peso da primeira nota: '))\n",
        "nota2 = float(input('Informe a segunda nota: '))\n",
        "peso2 = float(input('Informe o peso da segunda nota: '))\n",
        "nota3 = float(input('Informe a terceira nota: '))\n",
        "peso3 = float(input('Informe o peso da terceira nota: '))\n",
        "nota4 = float(input('Informe a quarta nota: '))\n",
        "peso4 = float(input('Informe o peso da quarta nota: '))\n",
        "\n",
        "media_simples = (nota1 + nota2 + nota3 + nota4) / 4\n",
        "media_ponderada = (nota1*peso1 + nota2*peso2 + nota3*peso3 + nota4*peso4) / (peso1 + peso2 + peso3 + peso4)\n",
        "\n",
        "print('='*30)\n",
        "print('A média simples é {} \\nE a média ponderada é {}' .format(media_simples, media_ponderada))\n",
        "print('='*30)"
      ]
    },
    {
      "cell_type": "markdown",
      "id": "da81404d",
      "metadata": {
        "deletable": false,
        "editable": false,
        "nbgrader": {
          "cell_type": "markdown",
          "checksum": "6f91f7198e36290a15c6547e839a5885",
          "grade": false,
          "grade_id": "Exercicio7-descricao",
          "locked": true,
          "schema_version": 3,
          "solution": false,
          "task": false
        },
        "id": "da81404d"
      },
      "source": [
        "# Exercício 7\n",
        "\n",
        "Faça um programa para uma loja de tintas. O programa deverá pedir o tamanho em metros quadrados da área a ser pintada. Considere que a cobertura da tinta é de 1 litro para cada 12 metros quadrados e que a tinta é vendida em latas de 18 litros, que custam R$ 80,00. Informe ao usuário a quantidades de latas de tinta a serem compradas e o preço total. "
      ]
    },
    {
      "cell_type": "code",
      "execution_count": 52,
      "id": "2a1f6a9c",
      "metadata": {
        "deletable": false,
        "nbgrader": {
          "cell_type": "code",
          "checksum": "0b356a405bcdf2f889a9a95d9a196d61",
          "grade": true,
          "grade_id": "Exercicio7",
          "locked": false,
          "points": 2,
          "schema_version": 3,
          "solution": true,
          "task": false
        },
        "id": "2a1f6a9c",
        "colab": {
          "base_uri": "https://localhost:8080/"
        },
        "outputId": "9833bd37-23dd-4d36-a060-f7ebe31d597d"
      },
      "outputs": [
        {
          "output_type": "stream",
          "name": "stdout",
          "text": [
            "Informe a area, em metros quadrados, a ser pintada: 888\n",
            "Você deverá comprar 5 latas de tinta de 18 litros, no valor total de R$ 400.00.\n"
          ]
        }
      ],
      "source": [
        "import math\n",
        "area_a_ser_pintada = int(input('Informe a area, em metros quadrados, a ser pintada: '))\n",
        "metros_por_litro = 12\n",
        "litros_a_serem_usados = area_a_ser_pintada / metros_por_litro\n",
        "litros_por_lata = 18\n",
        "numero_de_latas = math.ceil(litros_a_serem_usados / litros_por_lata)\n",
        "valor_total = numero_de_latas * 80\n",
        "print('Você deverá comprar {} latas de tinta de 18 litros, no valor total de R$ {:.2f}.' .format(numero_de_latas, valor_total))"
      ]
    },
    {
      "cell_type": "markdown",
      "id": "79eca3d1",
      "metadata": {
        "deletable": false,
        "editable": false,
        "nbgrader": {
          "cell_type": "markdown",
          "checksum": "e44b2f3971c79d43c75c12bce821c4d9",
          "grade": false,
          "grade_id": "Exercicio8-descricao",
          "locked": true,
          "schema_version": 3,
          "solution": false,
          "task": false
        },
        "id": "79eca3d1"
      },
      "source": [
        "# Exercício 8\n",
        "\n",
        "Faça um Programa para uma loja de tintas. O programa deverá pedir o tamanho em metros quadrados da área a ser pintada. Considere que a cobertura da tinta é de 1 litro para cada 12 metros quadrados e que a tinta é vendida em latas de 18 litros, que custam R$ 80,00 ou em galões de 3,6 litros, que custam R$ 25,00.\n",
        "\n",
        "Informe ao usuário as quantidades de tinta a serem compradas e os respectivos preços em 3 situações:\n",
        "\n",
        "    - comprar apenas latas de 18 litros;\n",
        "    - comprar apenas galões de 3,6 litros;\n",
        "    - misturar latas e galões, de forma que o desperdício de tinta seja menor. \n",
        "    \n",
        "Acrescente 10% de folga nos três casos (isto é, você deve adicionar 10% sobre o total de litros de tinta necessário) e sempre arredonde os valores para cima, isto é, considere latas cheias. \n",
        "\n"
      ]
    },
    {
      "cell_type": "code",
      "execution_count": 46,
      "id": "54c1e741",
      "metadata": {
        "deletable": false,
        "nbgrader": {
          "cell_type": "code",
          "checksum": "8f12ca6f898fe140e2eb04c84fc6c8f3",
          "grade": true,
          "grade_id": "Exercicio8",
          "locked": false,
          "points": 2,
          "schema_version": 3,
          "solution": true,
          "task": false
        },
        "id": "54c1e741",
        "colab": {
          "base_uri": "https://localhost:8080/"
        },
        "outputId": "568566d3-3b49-438b-8861-38f1240a4080"
      },
      "outputs": [
        {
          "output_type": "stream",
          "name": "stdout",
          "text": [
            "Digite a area, em metros quadrados, a ser pintada: 123\n",
            "Usando apenas latas, você deverá comprar 1 latas de 18 litros, no valor de R$ 80.00\n",
            "Usando apenas galões, você deverá comprar 4 galões de 3.6 litros, no valor de R$ 100.00\n",
            "Usando latas e galões, você deverá comprar 0 latas de 18 litros, mais 4 galões de 3.6 litros, no valor total de R$ 100.00\n"
          ]
        }
      ],
      "source": [
        "import math\n",
        "area_a_ser_pintada = int(input('Informe a area, em metros quadrados, a ser pintada: '))\n",
        "area_com_folga = area_a_ser_pintada * 1.1\n",
        "metros_por_litro = 12\n",
        "litros_a_serem_usados = area_com_folga / metros_por_litro\n",
        "\n",
        "litros_por_lata = 18\n",
        "numero_de_latas = math.ceil (litros_a_serem_usados / litros_por_lata)\n",
        "valor_com_apenas_latas = numero_de_latas * 80\n",
        "print('Usando apenas latas, você deverá comprar {} latas de 18 litros, no valor de R$ {:.2f}' .format(numero_de_latas, valor_com_apenas_latas))\n",
        "\n",
        "litros_por_galao = 3.6\n",
        "numero_de_galoes = math.ceil (litros_a_serem_usados / litros_por_galao)\n",
        "valor_com_apenas_galoes = numero_de_galoes * 25\n",
        "print('Usando apenas galões, você deverá comprar {} galões de 3.6 litros, no valor de R$ {:.2f}' .format(numero_de_galoes, valor_com_apenas_galoes))\n",
        "\n",
        "numero_de_latas = math.floor(litros_a_serem_usados / litros_por_lata)\n",
        "valor_com_latas = numero_de_latas * 80\n",
        "litros_faltantes = litros_a_serem_usados % litros_por_lata\n",
        "numero_de_galoes = math.ceil (litros_faltantes / litros_por_galao)\n",
        "valor_com_galao = numero_de_galoes * 25\n",
        "\n",
        "valor_total = valor_com_latas + valor_com_galao\n",
        "\n",
        "print('Usando latas e galões, você deverá comprar {} latas de 18 litros, mais {} galões de 3.6 litros, no valor total de R$ {:.2f}' .format(numero_de_latas, numero_de_galoes, valor_total))\n",
        "\n",
        "\n",
        "\n"
      ]
    }
  ],
  "metadata": {
    "kernelspec": {
      "display_name": "Python 3 (ipykernel)",
      "language": "python",
      "name": "python3"
    },
    "language_info": {
      "codemirror_mode": {
        "name": "ipython",
        "version": 3
      },
      "file_extension": ".py",
      "mimetype": "text/x-python",
      "name": "python",
      "nbconvert_exporter": "python",
      "pygments_lexer": "ipython3",
      "version": "3.9.7"
    },
    "colab": {
      "name": "Semana1.ipynb",
      "provenance": []
    }
  },
  "nbformat": 4,
  "nbformat_minor": 5
}