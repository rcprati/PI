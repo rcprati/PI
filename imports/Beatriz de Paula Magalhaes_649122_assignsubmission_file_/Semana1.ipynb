{
 "cells": [
  {
   "cell_type": "markdown",
   "id": "d4a1d469",
   "metadata": {
    "id": "d4a1d469"
   },
   "source": [
    "# Instruções\n",
    "\n",
    "- Antes de resolver esses exercícios, certifique-se que a configuração está correta (Python 3).\n",
    "\n",
    "- Se estiver usando o Colab, faça uma cópia deste notebook antes de começar a repondê-lo.\n",
    "\n",
    "![](http://professor.ufabc.edu.br/~ronaldo.prati/colab.png)\n",
    "\n",
    "- Lembre-se de manter o nome do caderno com o mesmo nome original.\n",
    "\n",
    "- Não apague nem introduza novas células neste notebook.\n",
    "\n",
    "- Certifique-se que você preencheu todos os lugares que dizem \\\"YOUR CODE HERE\\\" ou \\\"YOUR ANSWER HERE\\\". Substitutua essa linha e também a linha `raise NotImplementedError()` pelo seu código.\n",
    "\n",
    "- Depois de resolver os exercícios, para enviar a atividade, salve o notebook e o envie pelo moodle da disciplina. No colab, para exportar o notebook localmente, acesse `File->Download->Download .ipynb` ou `Arquivo->Baixar->Baixar .ipynb`\n",
    "\n",
    "![](http://professor.ufabc.edu.br/~ronaldo.prati/submit.png)"
   ]
  },
  {
   "cell_type": "markdown",
   "id": "5f82cbf3",
   "metadata": {
    "deletable": false,
    "editable": false,
    "id": "5f82cbf3",
    "nbgrader": {
     "cell_type": "markdown",
     "checksum": "f1f911b3ba8050e102209c62c8db3f57",
     "grade": false,
     "grade_id": "Exercicio1-descricao",
     "locked": true,
     "schema_version": 3,
     "solution": false,
     "task": false
    }
   },
   "source": [
    "# Exercício 1\n",
    "\n",
    "Faça um programa que peça um número e armazene-o em uma variável. A seguir, mostre a mensagem \"O número informado foi [número]\""
   ]
  },
  {
   "cell_type": "code",
   "execution_count": 2,
   "id": "98f0fd7a",
   "metadata": {
    "deletable": false,
    "id": "98f0fd7a",
    "nbgrader": {
     "cell_type": "code",
     "checksum": "74fb8b9b0c1978c0db15aa13a5696150",
     "grade": true,
     "grade_id": "Exercicio1",
     "locked": false,
     "points": 1,
     "schema_version": 3,
     "solution": true,
     "task": false
    }
   },
   "outputs": [
    {
     "name": "stdout",
     "output_type": "stream",
     "text": [
      "Coloque um número: 5.8\n",
      "O número informado foi 5.8\n"
     ]
    }
   ],
   "source": [
    "a = input(\"Coloque um número: \")\n",
    "print(\"O número informado foi\", a)"
   ]
  },
  {
   "cell_type": "markdown",
   "id": "dd8c0af2",
   "metadata": {
    "deletable": false,
    "editable": false,
    "id": "dd8c0af2",
    "nbgrader": {
     "cell_type": "markdown",
     "checksum": "e1645b130e5fd8363c5a31803d8a6730",
     "grade": false,
     "grade_id": "Exercicio2-descricao",
     "locked": true,
     "schema_version": 3,
     "solution": false,
     "task": false
    }
   },
   "source": [
    "# Exercício 2\n",
    "\n",
    "Faça um Programa que peça o raio de um círculo, calcule e mostre sua área.\n",
    "Dica: para usar o valor de $\\pi$, pesquise por `math.pi`."
   ]
  },
  {
   "cell_type": "code",
   "execution_count": 8,
   "id": "407e7f33",
   "metadata": {
    "deletable": false,
    "id": "407e7f33",
    "nbgrader": {
     "cell_type": "code",
     "checksum": "41ef7b01abeaa8d74e2893a5054fb644",
     "grade": true,
     "grade_id": "Exercicio2",
     "locked": false,
     "points": 1,
     "schema_version": 3,
     "solution": true,
     "task": false
    }
   },
   "outputs": [
    {
     "name": "stdout",
     "output_type": "stream",
     "text": [
      "Digite o raio do círculo:3.678\n",
      "A área do círculo é: 42.498472674484184\n"
     ]
    }
   ],
   "source": [
    "import math\n",
    "\n",
    "r = float(input(\"Digite o raio do círculo:\"))\n",
    "A = (math.pi) * (r*r)\n",
    "print(\"A área do círculo é:\",A)"
   ]
  },
  {
   "cell_type": "markdown",
   "id": "868cfe1c",
   "metadata": {
    "deletable": false,
    "editable": false,
    "id": "868cfe1c",
    "nbgrader": {
     "cell_type": "markdown",
     "checksum": "83a396c8ae7ca1696f25c00d928c9d55",
     "grade": false,
     "grade_id": "Exercicio3-descricao",
     "locked": true,
     "schema_version": 3,
     "solution": false,
     "task": false
    }
   },
   "source": [
    "# Exercício 3\n",
    "\n",
    "Faça um Programa que peça 2 números inteiros e um número real. Calcule e mostre:\n",
    "\n",
    "   - o produto do dobro do primeiro com metade do segundo .\n",
    "   - a soma do triplo do primeiro com o terceiro.\n",
    "   - o terceiro elevado ao cubo. "
   ]
  },
  {
   "cell_type": "code",
   "execution_count": 15,
   "id": "0f2c4944",
   "metadata": {
    "deletable": false,
    "id": "0f2c4944",
    "nbgrader": {
     "cell_type": "code",
     "checksum": "01db6a60d8afd153075785a9f8e10ea5",
     "grade": true,
     "grade_id": "Exercicio3",
     "locked": false,
     "points": 1,
     "schema_version": 3,
     "solution": true,
     "task": false
    }
   },
   "outputs": [
    {
     "name": "stdout",
     "output_type": "stream",
     "text": [
      "Digite um número inteiro: 25\n",
      "Digite outro númeor inteiro: 28\n",
      "Digite um número real: 45.987\n",
      "A primeira equação é dada por:  700.0 , a segunda equação é dada por:  120.987 e a terceira equação é dada por:  97253.49931980301\n"
     ]
    }
   ],
   "source": [
    "n1 = int(input(\"Digite um número inteiro: \"))\n",
    "n2 = int(input(\"Digite outro númeor inteiro: \"))\n",
    "n3 = float(input(\"Digite um número real: \"))\n",
    "\n",
    "eq1 = (2*n1) * (n2/2)\n",
    "eq2 = (3*n1) + n3\n",
    "eq3 = (n3**3)\n",
    "\n",
    "print(\"A primeira equação é dada por: \", eq1, \", a segunda equação é dada por: \", eq2, \"e a terceira equação é dada por: \", eq3)"
   ]
  },
  {
   "cell_type": "markdown",
   "id": "d3996f2c",
   "metadata": {
    "deletable": false,
    "editable": false,
    "id": "d3996f2c",
    "nbgrader": {
     "cell_type": "markdown",
     "checksum": "dbee5e0c5c9a02ca7b0fbcbf0c5018fd",
     "grade": false,
     "grade_id": "Exercicio4-descricao",
     "locked": true,
     "schema_version": 3,
     "solution": false,
     "task": false
    }
   },
   "source": [
    "# Exercício 4\n",
    "\n",
    "Faça um programa que pergunte quanto você ganha por hora e o número de horas trabalhadas na semana. Calcule e mostre o total do seu salário ao final de 4 semanas. "
   ]
  },
  {
   "cell_type": "code",
   "execution_count": 2,
   "id": "5a307587",
   "metadata": {
    "deletable": false,
    "id": "5a307587",
    "nbgrader": {
     "cell_type": "code",
     "checksum": "e511551fc875680ccd9679f9b2c21414",
     "grade": true,
     "grade_id": "Exercicio4",
     "locked": false,
     "points": 1,
     "schema_version": 3,
     "solution": true,
     "task": false
    }
   },
   "outputs": [
    {
     "name": "stdout",
     "output_type": "stream",
     "text": [
      "Quanto você ganha por hora? 50\n",
      "Qual o número de horas trabalhadas na semana? 40\n",
      "Seu salário ao final do mês é de:  8000.0\n"
     ]
    }
   ],
   "source": [
    "ganhah = float(input(\"Quanto você ganha por hora? \"))\n",
    "horastrab = float(input(\"Qual o número de horas trabalhadas na semana? \"))\n",
    "\n",
    "salario = (ganhah * horastrab) * 4\n",
    "print(\"Seu salário ao final do mês é de: \", salario)"
   ]
  },
  {
   "cell_type": "markdown",
   "id": "d5088446",
   "metadata": {
    "deletable": false,
    "editable": false,
    "id": "d5088446",
    "nbgrader": {
     "cell_type": "markdown",
     "checksum": "c82b175f45419cc78a6f0efc08f9ab15",
     "grade": false,
     "grade_id": "Exercicio5-descricao",
     "locked": true,
     "schema_version": 3,
     "solution": false,
     "task": false
    }
   },
   "source": [
    "# Exercício 5\n",
    "\n",
    "Faça um programa que leia um número inteiro qualquer e que apresete, além do número informado, o seu antecessor e do seu sucessor."
   ]
  },
  {
   "cell_type": "code",
   "execution_count": 6,
   "id": "a09fcc89",
   "metadata": {
    "deletable": false,
    "id": "a09fcc89",
    "nbgrader": {
     "cell_type": "code",
     "checksum": "9f693e117e3e2158f95ee76dc96292a0",
     "grade": true,
     "grade_id": "Exercicio5",
     "locked": false,
     "points": 1,
     "schema_version": 3,
     "solution": true,
     "task": false
    }
   },
   "outputs": [
    {
     "name": "stdout",
     "output_type": "stream",
     "text": [
      "Digite um número inteiro: 5\n",
      "5 , o seu atencessor é:  4 e o seu sucessor é:  6\n"
     ]
    }
   ],
   "source": [
    "n = int(input(\"Digite um número inteiro: \"))\n",
    "a = n - 1\n",
    "b = n + 1\n",
    "print (n, \", o seu atencessor é: \", a, \"e o seu sucessor é: \", b)"
   ]
  },
  {
   "cell_type": "markdown",
   "id": "57a3fb31",
   "metadata": {
    "deletable": false,
    "editable": false,
    "id": "57a3fb31",
    "nbgrader": {
     "cell_type": "markdown",
     "checksum": "537bdb2e45ec13ee95cea397e02744f2",
     "grade": false,
     "grade_id": "Exercicio6-descricao",
     "locked": true,
     "schema_version": 3,
     "solution": false,
     "task": false
    }
   },
   "source": [
    "# Exercício 6\n",
    "\n",
    "Faça um programa que leia quatro notas, e seus respectivos pesos, e que apresente a média final simples e a média final ponderada."
   ]
  },
  {
   "cell_type": "code",
   "execution_count": 7,
   "id": "10e12fd4",
   "metadata": {
    "deletable": false,
    "id": "10e12fd4",
    "nbgrader": {
     "cell_type": "code",
     "checksum": "ff1bbd3e5c18dc73d5e0328c41d74739",
     "grade": true,
     "grade_id": "Exercicio6",
     "locked": false,
     "points": 1,
     "schema_version": 3,
     "solution": true,
     "task": false
    }
   },
   "outputs": [
    {
     "name": "stdout",
     "output_type": "stream",
     "text": [
      "Digite a primeiro nota: 5\n",
      "Digite a segunda nota: 6\n",
      "Digite a terceira nota: 7\n",
      "Digite a quarta nota: 8\n",
      "Digite o peso da primeira nota: 2\n",
      "Digite o peso da segunda nota: 3\n",
      "Digite o peso da terceira nota: 4\n",
      "Digite o peso da quarta nota: 5\n",
      "A média simples é:  6.5  e a média poderada é:  6.857142857142857\n"
     ]
    }
   ],
   "source": [
    "n1 = float(input(\"Digite a primeiro nota: \"))\n",
    "n2 = float(input(\"Digite a segunda nota: \"))\n",
    "n3 = float(input(\"Digite a terceira nota: \"))\n",
    "n4 = float(input(\"Digite a quarta nota: \"))\n",
    "w1 = float(input(\"Digite o peso da primeira nota: \"))\n",
    "w2 = float(input(\"Digite o peso da segunda nota: \"))\n",
    "w3 = float(input(\"Digite o peso da terceira nota: \"))\n",
    "w4 = float(input(\"Digite o peso da quarta nota: \"))\n",
    "\n",
    "media_simples = ( n1 + n2 + n3 + n4 )/4\n",
    "media_ponderada = ( w1*n1 + w2*n2 + w3*n3 + w4*n4 )/(w1 + w2 + w3 + w4)\n",
    "print(\"A média simples é: \", media_simples, \" e a média poderada é: \", media_ponderada)"
   ]
  },
  {
   "cell_type": "markdown",
   "id": "da81404d",
   "metadata": {
    "deletable": false,
    "editable": false,
    "id": "da81404d",
    "nbgrader": {
     "cell_type": "markdown",
     "checksum": "6f91f7198e36290a15c6547e839a5885",
     "grade": false,
     "grade_id": "Exercicio7-descricao",
     "locked": true,
     "schema_version": 3,
     "solution": false,
     "task": false
    }
   },
   "source": [
    "# Exercício 7\n",
    "\n",
    "Faça um programa para uma loja de tintas. O programa deverá pedir o tamanho em metros quadrados da área a ser pintada. Considere que a cobertura da tinta é de 1 litro para cada 12 metros quadrados e que a tinta é vendida em latas de 18 litros, que custam R$ 80,00. Informe ao usuário a quantidades de latas de tinta a serem compradas e o preço total. "
   ]
  },
  {
   "cell_type": "code",
   "execution_count": 14,
   "id": "2a1f6a9c",
   "metadata": {
    "deletable": false,
    "id": "2a1f6a9c",
    "nbgrader": {
     "cell_type": "code",
     "checksum": "0b356a405bcdf2f889a9a95d9a196d61",
     "grade": true,
     "grade_id": "Exercicio7",
     "locked": false,
     "points": 2,
     "schema_version": 3,
     "solution": true,
     "task": false
    }
   },
   "outputs": [
    {
     "name": "stdout",
     "output_type": "stream",
     "text": [
      "Digite o tamanho em metros quadrados da área a ser pintada: 50\n",
      "A quantidade de latas de tinta a serem compradas é de:  1 e o preço total é de: 80\n"
     ]
    }
   ],
   "source": [
    "import math\n",
    "\n",
    "litros_lata = 18\n",
    "preco_lata = 80\n",
    "\n",
    "A = float(input(\"Digite o tamanho em metros quadrados da área a ser pintada: \"))\n",
    "litros_compra = A / 12\n",
    "\n",
    "#utilizei o math.ceil para fazer o arredondamento superior, fazendo com que o número de latas fique inteiro\n",
    "\n",
    "latas = math.ceil(litros_compra / litros_lata)\n",
    "preco = latas * 80\n",
    "print(\"A quantidade de latas de tinta a serem compradas é de: \", latas, \"e o preço total é de:\", preco)"
   ]
  },
  {
   "cell_type": "markdown",
   "id": "79eca3d1",
   "metadata": {
    "deletable": false,
    "editable": false,
    "id": "79eca3d1",
    "nbgrader": {
     "cell_type": "markdown",
     "checksum": "e44b2f3971c79d43c75c12bce821c4d9",
     "grade": false,
     "grade_id": "Exercicio8-descricao",
     "locked": true,
     "schema_version": 3,
     "solution": false,
     "task": false
    }
   },
   "source": [
    "# Exercício 8\n",
    "\n",
    "Faça um Programa para uma loja de tintas. O programa deverá pedir o tamanho em metros quadrados da área a ser pintada. Considere que a cobertura da tinta é de 1 litro para cada 12 metros quadrados e que a tinta é vendida em latas de 18 litros, que custam R$ 80,00 ou em galões de 3,6 litros, que custam R$ 25,00.\n",
    "\n",
    "Informe ao usuário as quantidades de tinta a serem compradas e os respectivos preços em 3 situações:\n",
    "\n",
    "    - comprar apenas latas de 18 litros;\n",
    "    - comprar apenas galões de 3,6 litros;\n",
    "    - misturar latas e galões, de forma que o desperdício de tinta seja menor. \n",
    "    \n",
    "Acrescente 10% de folga nos três casos (isto é, você deve adicionar 10% sobre o total de litros de tinta necessário) e sempre arredonde os valores para cima, isto é, considere latas cheias. \n",
    "\n"
   ]
  },
  {
   "cell_type": "code",
   "execution_count": 20,
   "id": "54c1e741",
   "metadata": {
    "deletable": false,
    "id": "54c1e741",
    "nbgrader": {
     "cell_type": "code",
     "checksum": "8f12ca6f898fe140e2eb04c84fc6c8f3",
     "grade": true,
     "grade_id": "Exercicio8",
     "locked": false,
     "points": 2,
     "schema_version": 3,
     "solution": true,
     "task": false
    }
   },
   "outputs": [
    {
     "name": "stdout",
     "output_type": "stream",
     "text": [
      "Digite o tamanho em metros quadrados da área a ser pintada: 20\n",
      "Comprando apenas latas de 18 litros:\n",
      "A quantidade de latas de tinta a serem compradas é de:  1 e o preço total é de: 80\n",
      "Comprando apenas galões de 3,6 litros:\n",
      "A quantidade de galões de tinta a serem compradas é de:  1 e o preço total é de: 25\n",
      "Comprando mistura de latas e galões\n",
      "A quantidade de latas de tinta a serem compradas é de:  0.0 , a quantidade de galões de tinta a serem compradas é de:  1 e o preço total é de: 25.0\n"
     ]
    }
   ],
   "source": [
    "import math\n",
    "\n",
    "\n",
    "litros_lata = 18\n",
    "preco_lata = 80\n",
    "litros_galao = 3.6\n",
    "preco_galao = 25\n",
    "\n",
    "\n",
    "A = float(input(\"Digite o tamanho em metros quadrados da área a ser pintada: \"))\n",
    "\n",
    "#Adicionando a folga de 10% no total de litros necessários\n",
    "litros_compra = (A / 12) * 1.1\n",
    "\n",
    "#opção apenas latas de 18 litros\n",
    "latas = math.ceil(litros_compra / litros_lata)\n",
    "custo_latas = latas * preco_lata\n",
    "print(\"Comprando apenas latas de 18 litros:\")\n",
    "print(\"A quantidade de latas de tinta a serem compradas é de: \", latas, \"e o preço total é de:\", custo_latas)\n",
    "\n",
    "#opção apenas galôes de 3,6 litros\n",
    "galoes = math.ceil(litros_compra / litros_galao)\n",
    "custo_galoes = galoes * preco_galao\n",
    "print(\"Comprando apenas galões de 3,6 litros:\")\n",
    "print(\"A quantidade de galões de tinta a serem compradas é de: \", galoes, \"e o preço total é de:\", custo_galoes)\n",
    "\n",
    "#opção de misturar latas e galões\n",
    "latasm = litros_compra // litros_lata\n",
    "\n",
    "#analisar quanto falta para o galão inteirar\n",
    "sobra = litros_compra - (latasm * litros_lata)\n",
    "\n",
    "galoesm = math.ceil(sobra / litros_galao)\n",
    "\n",
    "custo_mistura = (latasm * preco_lata) + (galoesm * preco_galao)\n",
    "print(\"Comprando mistura de latas e galões\")\n",
    "print(\"A quantidade de latas de tinta a serem compradas é de: \", latasm, \", a quantidade de galões de tinta a serem compradas é de: \", galoesm, \"e o preço total é de:\", custo_mistura)\n",
    "\n",
    "\n",
    "\n",
    "\n",
    "\n"
   ]
  },
  {
   "cell_type": "code",
   "execution_count": null,
   "id": "93bf6e91",
   "metadata": {},
   "outputs": [],
   "source": []
  }
 ],
 "metadata": {
  "colab": {
   "name": "Semana1.ipynb",
   "provenance": []
  },
  "kernelspec": {
   "display_name": "Python 3 (ipykernel)",
   "language": "python",
   "name": "python3"
  },
  "language_info": {
   "codemirror_mode": {
    "name": "ipython",
    "version": 3
   },
   "file_extension": ".py",
   "mimetype": "text/x-python",
   "name": "python",
   "nbconvert_exporter": "python",
   "pygments_lexer": "ipython3",
   "version": "3.9.7"
  }
 },
 "nbformat": 4,
 "nbformat_minor": 5
}
