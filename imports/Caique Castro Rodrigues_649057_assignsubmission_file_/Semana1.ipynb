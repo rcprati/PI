{
  "cells": [
    {
      "cell_type": "markdown",
      "id": "d4a1d469",
      "metadata": {
        "id": "d4a1d469"
      },
      "source": [
        "# Instruções\n",
        "\n",
        "- Antes de resolver esses exercícios, certifique-se que a configuração está correta (Python 3).\n",
        "\n",
        "- Se estiver usando o Colab, faça uma cópia deste notebook antes de começar a repondê-lo.\n",
        "\n",
        "![](http://professor.ufabc.edu.br/~ronaldo.prati/colab.png)\n",
        "\n",
        "- Lembre-se de manter o nome do caderno com o mesmo nome original.\n",
        "\n",
        "- Não apague nem introduza novas células neste notebook.\n",
        "\n",
        "- Certifique-se que você preencheu todos os lugares que dizem \\\"YOUR CODE HERE\\\" ou \\\"YOUR ANSWER HERE\\\". Substitutua essa linha e também a linha `raise NotImplementedError()` pelo seu código.\n",
        "\n",
        "- Depois de resolver os exercícios, para enviar a atividade, salve o notebook e o envie pelo moodle da disciplina. No colab, para exportar o notebook localmente, acesse `File->Download->Download .ipynb` ou `Arquivo->Baixar->Baixar .ipynb`\n",
        "\n",
        "![](http://professor.ufabc.edu.br/~ronaldo.prati/submit.png)"
      ]
    },
    {
      "cell_type": "markdown",
      "id": "5f82cbf3",
      "metadata": {
        "deletable": false,
        "editable": false,
        "nbgrader": {
          "cell_type": "markdown",
          "checksum": "f1f911b3ba8050e102209c62c8db3f57",
          "grade": false,
          "grade_id": "Exercicio1-descricao",
          "locked": true,
          "schema_version": 3,
          "solution": false,
          "task": false
        },
        "id": "5f82cbf3"
      },
      "source": [
        "# Exercício 1\n",
        "\n",
        "Faça um programa que peça um número e armazene-o em uma variável. A seguir, mostre a mensagem \"O número informado foi [número]\""
      ]
    },
    {
      "cell_type": "code",
      "execution_count": null,
      "id": "98f0fd7a",
      "metadata": {
        "deletable": false,
        "nbgrader": {
          "cell_type": "code",
          "checksum": "74fb8b9b0c1978c0db15aa13a5696150",
          "grade": true,
          "grade_id": "Exercicio1",
          "locked": false,
          "points": 1,
          "schema_version": 3,
          "solution": true,
          "task": false
        },
        "id": "98f0fd7a",
        "colab": {
          "base_uri": "https://localhost:8080/"
        },
        "outputId": "be034bdd-b09e-4e69-9bb6-08410529411f"
      },
      "outputs": [
        {
          "output_type": "stream",
          "name": "stdout",
          "text": [
            "Escolha um número\n",
            "10\n",
            "O número informado foi:  10\n"
          ]
        }
      ],
      "source": [
        "# código pedindo o número\n",
        "number = int(input(\"Escolha um número\\n\"))\n",
        "print(\"O número informado foi: \", number)"
      ]
    },
    {
      "cell_type": "markdown",
      "id": "dd8c0af2",
      "metadata": {
        "deletable": false,
        "editable": false,
        "nbgrader": {
          "cell_type": "markdown",
          "checksum": "e1645b130e5fd8363c5a31803d8a6730",
          "grade": false,
          "grade_id": "Exercicio2-descricao",
          "locked": true,
          "schema_version": 3,
          "solution": false,
          "task": false
        },
        "id": "dd8c0af2"
      },
      "source": [
        "# Exercício 2\n",
        "\n",
        "Faça um Programa que peça o raio de um círculo, calcule e mostre sua área.\n",
        "Dica: para usar o valor de $\\pi$, pesquise por `math.pi`."
      ]
    },
    {
      "cell_type": "code",
      "execution_count": null,
      "id": "407e7f33",
      "metadata": {
        "deletable": false,
        "nbgrader": {
          "cell_type": "code",
          "checksum": "41ef7b01abeaa8d74e2893a5054fb644",
          "grade": true,
          "grade_id": "Exercicio2",
          "locked": false,
          "points": 1,
          "schema_version": 3,
          "solution": true,
          "task": false
        },
        "id": "407e7f33",
        "colab": {
          "base_uri": "https://localhost:8080/"
        },
        "outputId": "cab62c55-d5ac-405d-d558-6673be8877fa"
      },
      "outputs": [
        {
          "output_type": "stream",
          "name": "stdout",
          "text": [
            "Qual é o raio do círculo em metros?\n",
            "10\n",
            "A área desse círculo é de  314.1592653589793 metros\n"
          ]
        }
      ],
      "source": [
        "import math\n",
        "raio = float(input(\"Qual é o raio do círculo em metros?\\n\"))\n",
        "area = math.pi*raio**2\n",
        "print(\"A área desse círculo é de \", area, \"metros\")"
      ]
    },
    {
      "cell_type": "markdown",
      "id": "868cfe1c",
      "metadata": {
        "deletable": false,
        "editable": false,
        "nbgrader": {
          "cell_type": "markdown",
          "checksum": "83a396c8ae7ca1696f25c00d928c9d55",
          "grade": false,
          "grade_id": "Exercicio3-descricao",
          "locked": true,
          "schema_version": 3,
          "solution": false,
          "task": false
        },
        "id": "868cfe1c"
      },
      "source": [
        "# Exercício 3\n",
        "\n",
        "Faça um Programa que peça 2 números inteiros e um número real. Calcule e mostre:\n",
        "\n",
        "   - o produto do dobro do primeiro com metade do segundo .\n",
        "   - a soma do triplo do primeiro com o terceiro.\n",
        "   - o terceiro elevado ao cubo. "
      ]
    },
    {
      "cell_type": "code",
      "execution_count": null,
      "id": "0f2c4944",
      "metadata": {
        "deletable": false,
        "nbgrader": {
          "cell_type": "code",
          "checksum": "01db6a60d8afd153075785a9f8e10ea5",
          "grade": true,
          "grade_id": "Exercicio3",
          "locked": false,
          "points": 1,
          "schema_version": 3,
          "solution": true,
          "task": false
        },
        "id": "0f2c4944",
        "colab": {
          "base_uri": "https://localhost:8080/"
        },
        "outputId": "d00c0f29-42ae-460e-fdc2-8f830b1f2dc5"
      },
      "outputs": [
        {
          "output_type": "stream",
          "name": "stdout",
          "text": [
            "Escolha um número inteiro\n",
            "1\n",
            "Escolha um segundo número inteiro\n",
            "1\n",
            "Escolha um número real\n",
            "1.5\n",
            "O produto do dobro do primeiro número com metade do segundo é  1.0\n",
            "A soma do triplo do primeiro número com o terceiro é  4.5\n",
            "O valor do terceiro número elevado ao cubo é  3.375\n"
          ]
        }
      ],
      "source": [
        "first = int(input(\"Escolha um número inteiro\\n\"))\n",
        "second = int(input(\"Escolha um segundo número inteiro\\n\"))\n",
        "third = float(input(\"Escolha um número real\\n\"))\n",
        "# produto do dobro do primeiro com metade do segundo\n",
        "conta1 = (first*2) * (second/2)\n",
        "print(\"O produto do dobro do primeiro número com metade do segundo é \", conta1)\n",
        "# soma do triplo do primeiro com o terceiro\n",
        "conta2 = (first*3) + third\n",
        "print(\"A soma do triplo do primeiro número com o terceiro é \", conta2)\n",
        "#  terceiro elevado ao cubo\n",
        "conta3 = (third**3)\n",
        "print(\"O valor do terceiro número elevado ao cubo é \", conta3)"
      ]
    },
    {
      "cell_type": "markdown",
      "id": "d3996f2c",
      "metadata": {
        "deletable": false,
        "editable": false,
        "nbgrader": {
          "cell_type": "markdown",
          "checksum": "dbee5e0c5c9a02ca7b0fbcbf0c5018fd",
          "grade": false,
          "grade_id": "Exercicio4-descricao",
          "locked": true,
          "schema_version": 3,
          "solution": false,
          "task": false
        },
        "id": "d3996f2c"
      },
      "source": [
        "# Exercício 4\n",
        "\n",
        "Faça um programa que pergunte quanto você ganha por hora e o número de horas trabalhadas na semana. Calcule e mostre o total do seu salário ao final de 4 semanas. "
      ]
    },
    {
      "cell_type": "code",
      "execution_count": null,
      "id": "5a307587",
      "metadata": {
        "deletable": false,
        "nbgrader": {
          "cell_type": "code",
          "checksum": "e511551fc875680ccd9679f9b2c21414",
          "grade": true,
          "grade_id": "Exercicio4",
          "locked": false,
          "points": 1,
          "schema_version": 3,
          "solution": true,
          "task": false
        },
        "id": "5a307587",
        "colab": {
          "base_uri": "https://localhost:8080/"
        },
        "outputId": "2b0cc251-f1ea-483d-c256-da8a455005df"
      },
      "outputs": [
        {
          "output_type": "stream",
          "name": "stdout",
          "text": [
            "Quanto você ganha por hora?\n",
            "2\n",
            "Quantas horas você trabalha na semana?\n",
            "10\n",
            "Você ganha 80.0 em 4 semanas de trabalho\n"
          ]
        }
      ],
      "source": [
        "ganho = float(input(\"Quanto você ganha por hora?\\n\"))\n",
        "hrs = float(input(\"Quantas horas você trabalha na semana?\\n\"))\n",
        "fweeks = hrs*4\n",
        "salario = fweeks*ganho\n",
        "print(\"Você ganha\", salario, \"em 4 semanas de trabalho\")"
      ]
    },
    {
      "cell_type": "markdown",
      "id": "d5088446",
      "metadata": {
        "deletable": false,
        "editable": false,
        "nbgrader": {
          "cell_type": "markdown",
          "checksum": "c82b175f45419cc78a6f0efc08f9ab15",
          "grade": false,
          "grade_id": "Exercicio5-descricao",
          "locked": true,
          "schema_version": 3,
          "solution": false,
          "task": false
        },
        "id": "d5088446"
      },
      "source": [
        "# Exercício 5\n",
        "\n",
        "Faça um programa que leia um número inteiro qualquer e que apresete, além do número informado, o seu antecessor e do seu sucessor."
      ]
    },
    {
      "cell_type": "code",
      "execution_count": 2,
      "id": "a09fcc89",
      "metadata": {
        "deletable": false,
        "nbgrader": {
          "cell_type": "code",
          "checksum": "9f693e117e3e2158f95ee76dc96292a0",
          "grade": true,
          "grade_id": "Exercicio5",
          "locked": false,
          "points": 1,
          "schema_version": 3,
          "solution": true,
          "task": false
        },
        "id": "a09fcc89",
        "colab": {
          "base_uri": "https://localhost:8080/"
        },
        "outputId": "22df3624-98dd-4b65-b296-032fc70fb549"
      },
      "outputs": [
        {
          "output_type": "stream",
          "name": "stdout",
          "text": [
            "Escolha um número inteiro\n",
            "493742974247\n",
            "O número informado é 493742974247\n",
            "O antecessor desse número é 493742974246\n",
            "O sucessor desse número é 493742974248\n"
          ]
        }
      ],
      "source": [
        "x = int(input(\"Escolha um número inteiro\\n\"))\n",
        "ant = x - 1\n",
        "suc = x + 1\n",
        "print(\"O número informado é\", x)\n",
        "print(\"O antecessor desse número é\", ant)\n",
        "print(\"O sucessor desse número é\", suc)"
      ]
    },
    {
      "cell_type": "markdown",
      "id": "57a3fb31",
      "metadata": {
        "deletable": false,
        "editable": false,
        "nbgrader": {
          "cell_type": "markdown",
          "checksum": "537bdb2e45ec13ee95cea397e02744f2",
          "grade": false,
          "grade_id": "Exercicio6-descricao",
          "locked": true,
          "schema_version": 3,
          "solution": false,
          "task": false
        },
        "id": "57a3fb31"
      },
      "source": [
        "# Exercício 6\n",
        "\n",
        "Faça um programa que leia quatro notas, e seus respectivos pesos, e que apresente a média final simples e a média final ponderada."
      ]
    },
    {
      "cell_type": "code",
      "execution_count": 3,
      "id": "10e12fd4",
      "metadata": {
        "deletable": false,
        "nbgrader": {
          "cell_type": "code",
          "checksum": "ff1bbd3e5c18dc73d5e0328c41d74739",
          "grade": true,
          "grade_id": "Exercicio6",
          "locked": false,
          "points": 1,
          "schema_version": 3,
          "solution": true,
          "task": false
        },
        "id": "10e12fd4",
        "colab": {
          "base_uri": "https://localhost:8080/"
        },
        "outputId": "50f6a518-d2a2-4ad2-e122-8dcd281c6e02"
      },
      "outputs": [
        {
          "output_type": "stream",
          "name": "stdout",
          "text": [
            "Insira a primeira nota\n",
            "10\n",
            "Insira o peso da primeira nota\n",
            "0.5\n",
            "Insira a segunda nota\n",
            "8\n",
            "Insira o peso da segunda nota\n",
            "1\n",
            "Insira a terceira nota\n",
            "9\n",
            "Insira o peso da terceira nota\n",
            "1\n",
            "Insira a quarta nota\n",
            "8.5\n",
            "Insira o peso da quarta nota\n",
            "2\n",
            "A média simples das notas é de 8.875\n",
            "A média ponderada das notas é de 7.888888888888889\n"
          ]
        }
      ],
      "source": [
        "n1 = float(input(\"Insira a primeira nota\\n\"))\n",
        "p1 = float(input(\"Insira o peso da primeira nota\\n\"))\n",
        "n2 = float(input(\"Insira a segunda nota\\n\"))\n",
        "p2 = float(input(\"Insira o peso da segunda nota\\n\"))\n",
        "n3 = float(input(\"Insira a terceira nota\\n\"))\n",
        "p3 = float(input(\"Insira o peso da terceira nota\\n\"))\n",
        "n4 = float(input(\"Insira a quarta nota\\n\"))\n",
        "p4 = float(input(\"Insira o peso da quarta nota\\n\"))\n",
        "msimples = (n1 + n2 + n3 + n4)/4\n",
        "mponderada = (n1 + n2 + n3 + n4)/(p1 + p2 + p3 + p4)\n",
        "print(\"A média simples das notas é de\", msimples)\n",
        "print(\"A média ponderada das notas é de\", mponderada)"
      ]
    },
    {
      "cell_type": "markdown",
      "id": "da81404d",
      "metadata": {
        "deletable": false,
        "editable": false,
        "nbgrader": {
          "cell_type": "markdown",
          "checksum": "6f91f7198e36290a15c6547e839a5885",
          "grade": false,
          "grade_id": "Exercicio7-descricao",
          "locked": true,
          "schema_version": 3,
          "solution": false,
          "task": false
        },
        "id": "da81404d"
      },
      "source": [
        "# Exercício 7\n",
        "\n",
        "Faça um programa para uma loja de tintas. O programa deverá pedir o tamanho em metros quadrados da área a ser pintada. Considere que a cobertura da tinta é de 1 litro para cada 12 metros quadrados e que a tinta é vendida em latas de 18 litros, que custam R$ 80,00. Informe ao usuário a quantidades de latas de tinta a serem compradas e o preço total. "
      ]
    },
    {
      "cell_type": "code",
      "execution_count": 6,
      "id": "2a1f6a9c",
      "metadata": {
        "deletable": false,
        "nbgrader": {
          "cell_type": "code",
          "checksum": "0b356a405bcdf2f889a9a95d9a196d61",
          "grade": true,
          "grade_id": "Exercicio7",
          "locked": false,
          "points": 2,
          "schema_version": 3,
          "solution": true,
          "task": false
        },
        "id": "2a1f6a9c",
        "colab": {
          "base_uri": "https://localhost:8080/"
        },
        "outputId": "2d6f4e4a-848d-4d52-b598-1fd5806af747"
      },
      "outputs": [
        {
          "output_type": "stream",
          "name": "stdout",
          "text": [
            "Insira a área a ser pintada em metros\n",
            "9000\n",
            "A quantidade de latas utilizada será de 42\n",
            "O preço total ao adquirir as latas será de 3360\n"
          ]
        }
      ],
      "source": [
        "import math\n",
        "area = float(input(\"Insira a área a ser pintada em metros\\n\"))\n",
        "l = area/12\n",
        "latas = l/18\n",
        "latasreal = math.ceil(latas)\n",
        "valor = latasreal * 80\n",
        "print(\"A quantidade de latas utilizada será de\", latasreal)\n",
        "print(\"O preço total ao adquirir as latas será de\", valor)"
      ]
    },
    {
      "cell_type": "markdown",
      "id": "79eca3d1",
      "metadata": {
        "deletable": false,
        "editable": false,
        "nbgrader": {
          "cell_type": "markdown",
          "checksum": "e44b2f3971c79d43c75c12bce821c4d9",
          "grade": false,
          "grade_id": "Exercicio8-descricao",
          "locked": true,
          "schema_version": 3,
          "solution": false,
          "task": false
        },
        "id": "79eca3d1"
      },
      "source": [
        "# Exercício 8\n",
        "\n",
        "Faça um Programa para uma loja de tintas. O programa deverá pedir o tamanho em metros quadrados da área a ser pintada. Considere que a cobertura da tinta é de 1 litro para cada 12 metros quadrados e que a tinta é vendida em latas de 18 litros, que custam R$ 80,00 ou em galões de 3,6 litros, que custam R$ 25,00.\n",
        "\n",
        "Informe ao usuário as quantidades de tinta a serem compradas e os respectivos preços em 3 situações:\n",
        "\n",
        "    - comprar apenas latas de 18 litros;\n",
        "    - comprar apenas galões de 3,6 litros;\n",
        "    - misturar latas e galões, de forma que o desperdício de tinta seja menor. \n",
        "    \n",
        "Acrescente 10% de folga nos três casos (isto é, você deve adicionar 10% sobre o total de litros de tinta necessário) e sempre arredonde os valores para cima, isto é, considere latas cheias. \n",
        "\n"
      ]
    },
    {
      "cell_type": "code",
      "execution_count": 13,
      "id": "54c1e741",
      "metadata": {
        "deletable": false,
        "nbgrader": {
          "cell_type": "code",
          "checksum": "8f12ca6f898fe140e2eb04c84fc6c8f3",
          "grade": true,
          "grade_id": "Exercicio8",
          "locked": false,
          "points": 2,
          "schema_version": 3,
          "solution": true,
          "task": false
        },
        "id": "54c1e741",
        "colab": {
          "base_uri": "https://localhost:8080/"
        },
        "outputId": "eda72bb4-9afa-4298-b106-36437a174a3b"
      },
      "outputs": [
        {
          "output_type": "stream",
          "name": "stdout",
          "text": [
            "Insira a área a ser pintada em metros\n",
            "97472\n",
            "Se comprar apenas latas será necessário apenas 497 latas, a compra total em litros de tinta é de 8946 litros o valor total será de 39760 reais\n",
            "\n",
            "Se comprar apenas galões será necessário apenas 2482 galões, a compra total em litros de tinta é de 8935.2 litros e o valor total será de 62050 reais\n",
            "\n",
            "Se comprar entre latas galões será necessário 496.0 latas e 2 galões, a compra total em litros de tinta é de 8935.2 litros e o valor total será de 39805.0 reais\n",
            "\n"
          ]
        }
      ],
      "source": [
        "import math\n",
        "area = float(input(\"Insira a área a ser pintada em metros\\n\"))\n",
        "l = (area/12)*1.1\n",
        "# Caso 1\n",
        "latas1 = math.ceil(l/18)\n",
        "preço1 = latas1 * 80\n",
        "ltotal1 = latas1*18\n",
        "print(\"Se comprar apenas latas será necessário apenas\", latas1, \"latas, a compra total em litros de tinta é de\", ltotal, \"litros o valor total será de\", preço1, \"reais\\n\")\n",
        "# Caso 2\n",
        "galoes2 = math.ceil(l/3.6)\n",
        "preço2 = galoes2 * 25\n",
        "ltotal2 = (galoes2*3.6)\n",
        "print(\"Se comprar apenas galões será necessário apenas\", galoes2, \"galões, a compra total em litros de tinta é de\", ltotal2, \"litros e o valor total será de\", preço2, \"reais\\n\")\n",
        "# Caso 3\n",
        "latas3 = l//18\n",
        "galoes3 = math.ceil((l - latas3*18)/3.6)\n",
        "preço3 = (latas3*80) + (galao3*25)\n",
        "ltotal3 = (galoes3 *3.6) + (latas3*18)\n",
        "print(\"Se comprar entre latas galões será necessário\", latas3, \"latas e\", galoes3,\"galões, a compra total em litros de tinta é de\", ltotal3, \"litros e o valor total será de\", preço3, \"reais\\n\")"
      ]
    }
  ],
  "metadata": {
    "kernelspec": {
      "display_name": "Python 3 (ipykernel)",
      "language": "python",
      "name": "python3"
    },
    "language_info": {
      "codemirror_mode": {
        "name": "ipython",
        "version": 3
      },
      "file_extension": ".py",
      "mimetype": "text/x-python",
      "name": "python",
      "nbconvert_exporter": "python",
      "pygments_lexer": "ipython3",
      "version": "3.9.7"
    },
    "colab": {
      "name": "Semana1_Caique_Castro_Rodrigues.ipynb",
      "provenance": [],
      "collapsed_sections": []
    }
  },
  "nbformat": 4,
  "nbformat_minor": 5
}