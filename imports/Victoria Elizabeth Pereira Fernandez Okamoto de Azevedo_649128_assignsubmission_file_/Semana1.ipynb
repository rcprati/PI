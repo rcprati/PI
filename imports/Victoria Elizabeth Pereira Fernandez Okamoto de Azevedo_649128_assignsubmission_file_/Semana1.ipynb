{
  "cells": [
    {
      "cell_type": "markdown",
      "id": "d4a1d469",
      "metadata": {
        "id": "d4a1d469"
      },
      "source": [
        "# Instruções\n",
        "\n",
        "- Antes de resolver esses exercícios, certifique-se que a configuração está correta (Python 3).\n",
        "\n",
        "- Se estiver usando o Colab, faça uma cópia deste notebook antes de começar a repondê-lo.\n",
        "\n",
        "![](http://professor.ufabc.edu.br/~ronaldo.prati/colab.png)\n",
        "\n",
        "- Lembre-se de manter o nome do caderno com o mesmo nome original.\n",
        "\n",
        "- Não apague nem introduza novas células neste notebook.\n",
        "\n",
        "- Certifique-se que você preencheu todos os lugares que dizem \\\"YOUR CODE HERE\\\" ou \\\"YOUR ANSWER HERE\\\". Substitutua essa linha e também a linha `raise NotImplementedError()` pelo seu código.\n",
        "\n",
        "- Depois de resolver os exercícios, para enviar a atividade, salve o notebook e o envie pelo moodle da disciplina. No colab, para exportar o notebook localmente, acesse `File->Download->Download .ipynb` ou `Arquivo->Baixar->Baixar .ipynb`\n",
        "\n",
        "![](http://professor.ufabc.edu.br/~ronaldo.prati/submit.png)"
      ]
    },
    {
      "cell_type": "markdown",
      "id": "5f82cbf3",
      "metadata": {
        "deletable": false,
        "editable": false,
        "nbgrader": {
          "cell_type": "markdown",
          "checksum": "f1f911b3ba8050e102209c62c8db3f57",
          "grade": false,
          "grade_id": "Exercicio1-descricao",
          "locked": true,
          "schema_version": 3,
          "solution": false,
          "task": false
        },
        "id": "5f82cbf3"
      },
      "source": [
        "# Exercício 1\n",
        "\n",
        "Faça um programa que peça um número e armazene-o em uma variável. A seguir, mostre a mensagem \"O número informado foi [número]\""
      ]
    },
    {
      "cell_type": "code",
      "execution_count": null,
      "id": "98f0fd7a",
      "metadata": {
        "deletable": false,
        "nbgrader": {
          "cell_type": "code",
          "checksum": "74fb8b9b0c1978c0db15aa13a5696150",
          "grade": true,
          "grade_id": "Exercicio1",
          "locked": false,
          "points": 1,
          "schema_version": 3,
          "solution": true,
          "task": false
        },
        "id": "98f0fd7a",
        "colab": {
          "base_uri": "https://localhost:8080/"
        },
        "outputId": "5cfd6143-61a8-42d2-a41e-1bea4c148fb8"
      },
      "outputs": [
        {
          "output_type": "stream",
          "name": "stdout",
          "text": [
            "Insira o número aqui: 8\n",
            "O número informado foi: 8.0\n"
          ]
        }
      ],
      "source": [
        "num = float(input(\"Insira o número aqui: \"))\n",
        "print(\"O número informado foi: \" + str(num))"
      ]
    },
    {
      "cell_type": "markdown",
      "id": "dd8c0af2",
      "metadata": {
        "deletable": false,
        "editable": false,
        "nbgrader": {
          "cell_type": "markdown",
          "checksum": "e1645b130e5fd8363c5a31803d8a6730",
          "grade": false,
          "grade_id": "Exercicio2-descricao",
          "locked": true,
          "schema_version": 3,
          "solution": false,
          "task": false
        },
        "id": "dd8c0af2"
      },
      "source": [
        "# Exercício 2\n",
        "\n",
        "Faça um Programa que peça o raio de um círculo, calcule e mostre sua área.\n",
        "Dica: para usar o valor de $\\pi$, pesquise por `math.pi`."
      ]
    },
    {
      "cell_type": "code",
      "execution_count": null,
      "id": "407e7f33",
      "metadata": {
        "deletable": false,
        "nbgrader": {
          "cell_type": "code",
          "checksum": "41ef7b01abeaa8d74e2893a5054fb644",
          "grade": true,
          "grade_id": "Exercicio2",
          "locked": false,
          "points": 1,
          "schema_version": 3,
          "solution": true,
          "task": false
        },
        "id": "407e7f33",
        "colab": {
          "base_uri": "https://localhost:8080/"
        },
        "outputId": "b703a0ca-38a2-46e9-8bea-4e0fdc6b98c7"
      },
      "outputs": [
        {
          "output_type": "stream",
          "name": "stdout",
          "text": [
            "Insira o valor do raio aqui: 2\n",
            "A área do círculo de raio 2.0 é 12.566370614359172\n"
          ]
        }
      ],
      "source": [
        "import math\n",
        "\n",
        "r = float(input(\"Insira o valor do raio aqui: \"))\n",
        "a = math.pi * r**2\n",
        "print(\"A área do círculo de raio \" + str(r) + \" é \" + str(a))"
      ]
    },
    {
      "cell_type": "markdown",
      "id": "868cfe1c",
      "metadata": {
        "deletable": false,
        "editable": false,
        "nbgrader": {
          "cell_type": "markdown",
          "checksum": "83a396c8ae7ca1696f25c00d928c9d55",
          "grade": false,
          "grade_id": "Exercicio3-descricao",
          "locked": true,
          "schema_version": 3,
          "solution": false,
          "task": false
        },
        "id": "868cfe1c"
      },
      "source": [
        "# Exercício 3\n",
        "\n",
        "Faça um Programa que peça 2 números inteiros e um número real. Calcule e mostre:\n",
        "\n",
        "   - o produto do dobro do primeiro com metade do segundo .\n",
        "   - a soma do triplo do primeiro com o terceiro.\n",
        "   - o terceiro elevado ao cubo. "
      ]
    },
    {
      "cell_type": "code",
      "execution_count": 27,
      "id": "0f2c4944",
      "metadata": {
        "deletable": false,
        "nbgrader": {
          "cell_type": "code",
          "checksum": "01db6a60d8afd153075785a9f8e10ea5",
          "grade": true,
          "grade_id": "Exercicio3",
          "locked": false,
          "points": 1,
          "schema_version": 3,
          "solution": true,
          "task": false
        },
        "id": "0f2c4944",
        "colab": {
          "base_uri": "https://localhost:8080/"
        },
        "outputId": "4cfe7b1e-0e79-4e36-995a-882b8a162e27"
      },
      "outputs": [
        {
          "output_type": "stream",
          "name": "stdout",
          "text": [
            "Insira o primeiro número inteiro aqui: 5\n",
            "Insira o segundo número inteiro aqui: 3\n",
            "Insira o valor do número real aqui: 6.1\n",
            "O valor do produto do dobro de 5 com metade de 3 é igual a 15.000000\n",
            "O valor da soma do triplo de 5.000000 com 6.100000 é igual a 21.100000\n",
            "O valor de 6.100000 elevado ao cubo é igual a 226.981000\n",
            "Insira o primeiro número inteiro aqui: 2\n",
            "Insira o segundo número inteiro aqui: 3\n",
            "Insira o valor do número real aqui: 9.4\n",
            "O valor do produto do dobro de 2 com metade de 3 é igual a 6.000000\n",
            "O valor da soma do triplo de 2.000000 com 9.400000 é igual a 15.400000\n",
            "O valor de 9.400000 elevado ao cubo é igual a 830.584000\n"
          ]
        }
      ],
      "source": [
        "n1 = int(input(\"Insira o primeiro número inteiro aqui: \"))\n",
        "n2 = int(input(\"Insira o segundo número inteiro aqui: \"))\n",
        "n3 = float(input(\"Insira o valor do número real aqui: \"))\n",
        "\n",
        "c1 = (2 * n1) * (n2/2)\n",
        "c2 = (3 * n1) + (n3)\n",
        "c3 = n3**3\n",
        "\n",
        "print(\"O valor do produto do dobro de %i com metade de %i é igual a %f\" %(n1, n2, c1))\n",
        "print(\"O valor da soma do triplo de %f com %f é igual a %f\" %(n1, n3, c2))\n",
        "print(\"O valor de %f elevado ao cubo é igual a %f\" %(n3, c3))"
      ]
    },
    {
      "cell_type": "markdown",
      "id": "d3996f2c",
      "metadata": {
        "deletable": false,
        "editable": false,
        "nbgrader": {
          "cell_type": "markdown",
          "checksum": "dbee5e0c5c9a02ca7b0fbcbf0c5018fd",
          "grade": false,
          "grade_id": "Exercicio4-descricao",
          "locked": true,
          "schema_version": 3,
          "solution": false,
          "task": false
        },
        "id": "d3996f2c"
      },
      "source": [
        "# Exercício 4\n",
        "\n",
        "Faça um programa que pergunte quanto você ganha por hora e o número de horas trabalhadas na semana. Calcule e mostre o total do seu salário ao final de 4 semanas. "
      ]
    },
    {
      "cell_type": "code",
      "execution_count": null,
      "id": "5a307587",
      "metadata": {
        "deletable": false,
        "nbgrader": {
          "cell_type": "code",
          "checksum": "e511551fc875680ccd9679f9b2c21414",
          "grade": true,
          "grade_id": "Exercicio4",
          "locked": false,
          "points": 1,
          "schema_version": 3,
          "solution": true,
          "task": false
        },
        "id": "5a307587",
        "colab": {
          "base_uri": "https://localhost:8080/"
        },
        "outputId": "33a9fbed-525a-4e77-9530-fd3ed2ab8982"
      },
      "outputs": [
        {
          "output_type": "stream",
          "name": "stdout",
          "text": [
            "Quanto você ganha por hora? 100\n",
            "Quantas horas por semana você trabalha? 40\n",
            "Seu salário após 4 semanas é de R$ 16000.00\n"
          ]
        }
      ],
      "source": [
        "reais = float(input(\"Quanto você ganha por hora? \"))\n",
        "hora = float(input(\"Quantas horas por semana você trabalha? \"))\n",
        "\n",
        "salario = reais * hora * 4\n",
        "\n",
        "print(\"Seu salário após 4 semanas é de R$ %.2f\" %(salario))"
      ]
    },
    {
      "cell_type": "markdown",
      "id": "d5088446",
      "metadata": {
        "deletable": false,
        "editable": false,
        "nbgrader": {
          "cell_type": "markdown",
          "checksum": "c82b175f45419cc78a6f0efc08f9ab15",
          "grade": false,
          "grade_id": "Exercicio5-descricao",
          "locked": true,
          "schema_version": 3,
          "solution": false,
          "task": false
        },
        "id": "d5088446"
      },
      "source": [
        "# Exercício 5\n",
        "\n",
        "Faça um programa que leia um número inteiro qualquer e que apresete, além do número informado, o seu antecessor e do seu sucessor."
      ]
    },
    {
      "cell_type": "code",
      "execution_count": null,
      "id": "a09fcc89",
      "metadata": {
        "deletable": false,
        "nbgrader": {
          "cell_type": "code",
          "checksum": "9f693e117e3e2158f95ee76dc96292a0",
          "grade": true,
          "grade_id": "Exercicio5",
          "locked": false,
          "points": 1,
          "schema_version": 3,
          "solution": true,
          "task": false
        },
        "id": "a09fcc89",
        "colab": {
          "base_uri": "https://localhost:8080/"
        },
        "outputId": "d67f0ce7-b2c8-4451-e962-2033e7a9e92b"
      },
      "outputs": [
        {
          "output_type": "stream",
          "name": "stdout",
          "text": [
            "Insira um número inteiro aqui: 13\n",
            "O número informado foi: 13. Seu antecessor é 12. E seu sucessor é: 14.\n"
          ]
        }
      ],
      "source": [
        "num = int(input(\"Insira um número inteiro aqui: \"))\n",
        "\n",
        "ant = num-1\n",
        "suc = num+1\n",
        "\n",
        "print(\"O número informado foi: %i. Seu antecessor é %i. E seu sucessor é: %i.\" %(num, ant, suc))"
      ]
    },
    {
      "cell_type": "markdown",
      "id": "57a3fb31",
      "metadata": {
        "deletable": false,
        "editable": false,
        "nbgrader": {
          "cell_type": "markdown",
          "checksum": "537bdb2e45ec13ee95cea397e02744f2",
          "grade": false,
          "grade_id": "Exercicio6-descricao",
          "locked": true,
          "schema_version": 3,
          "solution": false,
          "task": false
        },
        "id": "57a3fb31"
      },
      "source": [
        "# Exercício 6\n",
        "\n",
        "Faça um programa que leia quatro notas, e seus respectivos pesos, e que apresente a média final simples e a média final ponderada."
      ]
    },
    {
      "cell_type": "code",
      "execution_count": null,
      "id": "10e12fd4",
      "metadata": {
        "deletable": false,
        "nbgrader": {
          "cell_type": "code",
          "checksum": "ff1bbd3e5c18dc73d5e0328c41d74739",
          "grade": true,
          "grade_id": "Exercicio6",
          "locked": false,
          "points": 1,
          "schema_version": 3,
          "solution": true,
          "task": false
        },
        "id": "10e12fd4",
        "colab": {
          "base_uri": "https://localhost:8080/"
        },
        "outputId": "ff721b50-11d0-43a5-81da-cc0eb7df1650"
      },
      "outputs": [
        {
          "output_type": "stream",
          "name": "stdout",
          "text": [
            "Qual a primeira nota? 10\n",
            "Qual a segunda nota? 9\n",
            "Qual a terceira nota? 8.5\n",
            "Qual a quarta nota? 5\n",
            "Qual o peso da primeira nota? 3\n",
            "Qual o peso da segunda nota? 2\n",
            "Qual o peso da terceira nota? 2\n",
            "Qual o peso da quarta nota? 3\n",
            "A média final simpçes é 8.1 e a média final ponderada é 8.0.\n"
          ]
        }
      ],
      "source": [
        "n1 = float(input(\"Qual a primeira nota? \"))\n",
        "n2 = float(input(\"Qual a segunda nota? \"))\n",
        "n3 = float(input(\"Qual a terceira nota? \"))\n",
        "n4 = float(input(\"Qual a quarta nota? \"))\n",
        "\n",
        "p1 = float(input(\"Qual o peso da primeira nota? \"))\n",
        "p2 = float(input(\"Qual o peso da segunda nota? \"))\n",
        "p3 = float(input(\"Qual o peso da terceira nota? \"))\n",
        "p4 = float(input(\"Qual o peso da quarta nota? \"))\n",
        "\n",
        "media = (n1+n2+n3+n4)/4\n",
        "media_pond = (n1*p1 + n2*p2 + n3*p3 + n4*p4)/(p1+p2+p3+p4)\n",
        "\n",
        "print(\"A média final simpçes é %.1f e a média final ponderada é %.1f.\" %(media, media_pond))"
      ]
    },
    {
      "cell_type": "markdown",
      "id": "da81404d",
      "metadata": {
        "deletable": false,
        "editable": false,
        "nbgrader": {
          "cell_type": "markdown",
          "checksum": "6f91f7198e36290a15c6547e839a5885",
          "grade": false,
          "grade_id": "Exercicio7-descricao",
          "locked": true,
          "schema_version": 3,
          "solution": false,
          "task": false
        },
        "id": "da81404d"
      },
      "source": [
        "# Exercício 7\n",
        "\n",
        "Faça um programa para uma loja de tintas. O programa deverá pedir o tamanho em metros quadrados da área a ser pintada. Considere que a cobertura da tinta é de 1 litro para cada 12 metros quadrados e que a tinta é vendida em latas de 18 litros, que custam R$ 80,00. Informe ao usuário a quantidades de latas de tinta a serem compradas e o preço total. "
      ]
    },
    {
      "cell_type": "code",
      "execution_count": null,
      "id": "2a1f6a9c",
      "metadata": {
        "deletable": false,
        "nbgrader": {
          "cell_type": "code",
          "checksum": "0b356a405bcdf2f889a9a95d9a196d61",
          "grade": true,
          "grade_id": "Exercicio7",
          "locked": false,
          "points": 2,
          "schema_version": 3,
          "solution": true,
          "task": false
        },
        "id": "2a1f6a9c",
        "colab": {
          "base_uri": "https://localhost:8080/"
        },
        "outputId": "ec812869-c0e5-4ce4-9b53-ac1077b9714d"
      },
      "outputs": [
        {
          "output_type": "stream",
          "name": "stdout",
          "text": [
            "Qual a área, em metros quadrados, a ser pintada? 225\n",
            "Você deve comprar 2 latas. E o preço total é igual a R$160.00 \n"
          ]
        }
      ],
      "source": [
        "a = float(input(\"Qual a área, em metros quadrados, a ser pintada? \"))\n",
        "\n",
        "num_latas = a/(12*18)\n",
        "num_latas = math.ceil(num_latas)\n",
        "preco = num_latas * 80\n",
        "\n",
        "print(\"Você deve comprar %.i latas. E o preço total é igual a R$%.2f \" %(num_latas, preco))"
      ]
    },
    {
      "cell_type": "markdown",
      "id": "79eca3d1",
      "metadata": {
        "deletable": false,
        "editable": false,
        "nbgrader": {
          "cell_type": "markdown",
          "checksum": "e44b2f3971c79d43c75c12bce821c4d9",
          "grade": false,
          "grade_id": "Exercicio8-descricao",
          "locked": true,
          "schema_version": 3,
          "solution": false,
          "task": false
        },
        "id": "79eca3d1"
      },
      "source": [
        "# Exercício 8\n",
        "\n",
        "Faça um Programa para uma loja de tintas. O programa deverá pedir o tamanho em metros quadrados da área a ser pintada. Considere que a cobertura da tinta é de 1 litro para cada 12 metros quadrados e que a tinta é vendida em latas de 18 litros, que custam R$ 80,00 ou em galões de 3,6 litros, que custam R$ 25,00.\n",
        "\n",
        "Informe ao usuário as quantidades de tinta a serem compradas e os respectivos preços em 3 situações:\n",
        "\n",
        "    - comprar apenas latas de 18 litros;\n",
        "    - comprar apenas galões de 3,6 litros;\n",
        "    - misturar latas e galões, de forma que o desperdício de tinta seja menor. \n",
        "    \n",
        "Acrescente 10% de folga nos três casos (isto é, você deve adicionar 10% sobre o total de litros de tinta necessário) e sempre arredonde os valores para cima, isto é, considere latas cheias. \n",
        "\n"
      ]
    },
    {
      "cell_type": "code",
      "execution_count": null,
      "id": "54c1e741",
      "metadata": {
        "deletable": false,
        "nbgrader": {
          "cell_type": "code",
          "checksum": "8f12ca6f898fe140e2eb04c84fc6c8f3",
          "grade": true,
          "grade_id": "Exercicio8",
          "locked": false,
          "points": 2,
          "schema_version": 3,
          "solution": true,
          "task": false
        },
        "id": "54c1e741",
        "colab": {
          "base_uri": "https://localhost:8080/"
        },
        "outputId": "db368653-13ce-4e8f-b55a-5703888d7be9"
      },
      "outputs": [
        {
          "output_type": "stream",
          "name": "stdout",
          "text": [
            "Qual a área, em metros quadrados, a ser pintada? 342\n",
            "Será preciso comprar 31L de tinta. Você pode escolher entre:\n",
            "Comprar 2 latas de tinta e pagar R$160.00\n",
            "Comprar 9 galões de tinta e pagar R$225.00\n",
            "Comprar 1 latas e 4 galões de tinta. E pagar R$180.00\n"
          ]
        }
      ],
      "source": [
        "import math\n",
        "\n",
        "a = float(input(\"Qual a área, em metros quadrados, a ser pintada? \"))\n",
        "\n",
        "tinta = (a/12)*1.1\n",
        "num_latas = tinta/18\n",
        "num_latas = math.ceil(num_latas)\n",
        "num_galoes = tinta/3.6\n",
        "num_galoes = math.ceil(num_galoes)\n",
        "misto_lata = math.floor(tinta/18)\n",
        "misto_galao = math.ceil((tinta%18)/3.6)\n",
        "\n",
        "preco1 = num_latas * 80\n",
        "preco2 = num_galoes * 25\n",
        "preco3 = misto_lata*80 + misto_galao*25\n",
        "\n",
        "print(\"Será preciso comprar %.fL de tinta. Você pode escolher entre:\" %(tinta))\n",
        "print(\"Comprar %.i latas de tinta e pagar R$%.2f\" %(num_latas, preco1))\n",
        "print(\"Comprar %.i galões de tinta e pagar R$%.2f\" %(num_galoes, preco2))\n",
        "print(\"Comprar %.i latas e %.i galões de tinta. E pagar R$%.2f\" %(misto_lata, misto_galao, preco3))"
      ]
    }
  ],
  "metadata": {
    "kernelspec": {
      "display_name": "Python 3 (ipykernel)",
      "language": "python",
      "name": "python3"
    },
    "language_info": {
      "codemirror_mode": {
        "name": "ipython",
        "version": 3
      },
      "file_extension": ".py",
      "mimetype": "text/x-python",
      "name": "python",
      "nbconvert_exporter": "python",
      "pygments_lexer": "ipython3",
      "version": "3.9.7"
    },
    "colab": {
      "name": "Semana1.ipynb",
      "provenance": [],
      "collapsed_sections": []
    }
  },
  "nbformat": 4,
  "nbformat_minor": 5
}