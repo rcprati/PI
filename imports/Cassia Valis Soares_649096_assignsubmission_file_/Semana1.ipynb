{
  "cells": [
    {
      "cell_type": "markdown",
      "id": "d4a1d469",
      "metadata": {
        "id": "d4a1d469"
      },
      "source": [
        "# Instruções\n",
        "\n",
        "- Antes de resolver esses exercícios, certifique-se que a configuração está correta (Python 3).\n",
        "\n",
        "- Se estiver usando o Colab, faça uma cópia deste notebook antes de começar a repondê-lo.\n",
        "\n",
        "![](http://professor.ufabc.edu.br/~ronaldo.prati/colab.png)\n",
        "\n",
        "- Lembre-se de manter o nome do caderno com o mesmo nome original.\n",
        "\n",
        "- Não apague nem introduza novas células neste notebook.\n",
        "\n",
        "- Certifique-se que você preencheu todos os lugares que dizem \\\"YOUR CODE HERE\\\" ou \\\"YOUR ANSWER HERE\\\". Substitutua essa linha e também a linha `raise NotImplementedError()` pelo seu código.\n",
        "\n",
        "- Depois de resolver os exercícios, para enviar a atividade, salve o notebook e o envie pelo moodle da disciplina. No colab, para exportar o notebook localmente, acesse `File->Download->Download .ipynb` ou `Arquivo->Baixar->Baixar .ipynb`\n",
        "\n",
        "![](http://professor.ufabc.edu.br/~ronaldo.prati/submit.png)"
      ]
    },
    {
      "cell_type": "markdown",
      "id": "5f82cbf3",
      "metadata": {
        "deletable": false,
        "editable": false,
        "nbgrader": {
          "cell_type": "markdown",
          "checksum": "f1f911b3ba8050e102209c62c8db3f57",
          "grade": false,
          "grade_id": "Exercicio1-descricao",
          "locked": true,
          "schema_version": 3,
          "solution": false,
          "task": false
        },
        "id": "5f82cbf3"
      },
      "source": [
        "# Exercício 1\n",
        "\n",
        "Faça um programa que peça um número e armazene-o em uma variável. A seguir, mostre a mensagem \"O número informado foi [número]\""
      ]
    },
    {
      "cell_type": "code",
      "execution_count": null,
      "id": "98f0fd7a",
      "metadata": {
        "deletable": false,
        "nbgrader": {
          "cell_type": "code",
          "checksum": "74fb8b9b0c1978c0db15aa13a5696150",
          "grade": true,
          "grade_id": "Exercicio1",
          "locked": false,
          "points": 1,
          "schema_version": 3,
          "solution": true,
          "task": false
        },
        "id": "98f0fd7a",
        "outputId": "2f82089a-8a5d-406e-bc81-d2cf715e89f3",
        "colab": {
          "base_uri": "https://localhost:8080/"
        }
      },
      "outputs": [
        {
          "output_type": "stream",
          "name": "stdout",
          "text": [
            "Digite um número: 4\n",
            "O número escolhido foi: 4.0\n"
          ]
        }
      ],
      "source": [
        "x = float(input(\"Digite um número: \"))\n",
        "print(\"O número escolhido foi: \" + str(x))"
      ]
    },
    {
      "cell_type": "markdown",
      "id": "dd8c0af2",
      "metadata": {
        "deletable": false,
        "editable": false,
        "nbgrader": {
          "cell_type": "markdown",
          "checksum": "e1645b130e5fd8363c5a31803d8a6730",
          "grade": false,
          "grade_id": "Exercicio2-descricao",
          "locked": true,
          "schema_version": 3,
          "solution": false,
          "task": false
        },
        "id": "dd8c0af2"
      },
      "source": [
        "# Exercício 2\n",
        "\n",
        "Faça um Programa que peça o raio de um círculo, calcule e mostre sua área.\n",
        "Dica: para usar o valor de $\\pi$, pesquise por `math.pi`."
      ]
    },
    {
      "cell_type": "code",
      "execution_count": null,
      "id": "407e7f33",
      "metadata": {
        "deletable": false,
        "nbgrader": {
          "cell_type": "code",
          "checksum": "41ef7b01abeaa8d74e2893a5054fb644",
          "grade": true,
          "grade_id": "Exercicio2",
          "locked": false,
          "points": 1,
          "schema_version": 3,
          "solution": true,
          "task": false
        },
        "id": "407e7f33",
        "outputId": "8e6fb130-9757-4cf9-8a55-7df2a0f56486",
        "colab": {
          "base_uri": "https://localhost:8080/"
        }
      },
      "outputs": [
        {
          "output_type": "stream",
          "name": "stdout",
          "text": [
            "Digite o raio do circulo: 2\n",
            "A área do circulo cujo raio é : 2.0 corresponde a 12.566370614359172\n"
          ]
        }
      ],
      "source": [
        "import math\n",
        "\n",
        "x = float(input(\"Digite o raio do circulo: \"))\n",
        "\n",
        "#Calculo da área do circulo\n",
        "a = math.pi * (x**2)\n",
        "\n",
        "print(\"A área do circulo cujo raio é :\" , x , \"corresponde a\", a)\n"
      ]
    },
    {
      "cell_type": "markdown",
      "id": "868cfe1c",
      "metadata": {
        "deletable": false,
        "editable": false,
        "nbgrader": {
          "cell_type": "markdown",
          "checksum": "83a396c8ae7ca1696f25c00d928c9d55",
          "grade": false,
          "grade_id": "Exercicio3-descricao",
          "locked": true,
          "schema_version": 3,
          "solution": false,
          "task": false
        },
        "id": "868cfe1c"
      },
      "source": [
        "# Exercício 3\n",
        "\n",
        "Faça um Programa que peça 2 números inteiros e um número real. Calcule e mostre:\n",
        "\n",
        "   - o produto do dobro do primeiro com metade do segundo .\n",
        "   - a soma do triplo do primeiro com o terceiro.\n",
        "   - o terceiro elevado ao cubo. "
      ]
    },
    {
      "cell_type": "code",
      "execution_count": null,
      "id": "0f2c4944",
      "metadata": {
        "deletable": false,
        "nbgrader": {
          "cell_type": "code",
          "checksum": "01db6a60d8afd153075785a9f8e10ea5",
          "grade": true,
          "grade_id": "Exercicio3",
          "locked": false,
          "points": 1,
          "schema_version": 3,
          "solution": true,
          "task": false
        },
        "id": "0f2c4944",
        "outputId": "b5d6c32b-5916-4e4f-81c3-eaa40749cce4",
        "colab": {
          "base_uri": "https://localhost:8080/"
        }
      },
      "outputs": [
        {
          "output_type": "stream",
          "name": "stdout",
          "text": [
            "Programa para ver calculos\n",
            "Digite um número inteiro: 2\n",
            "Digite um segundo número inteiro: 2\n",
            "Digite um número real: 2\n",
            " Os números escolhidos foram:  2 2 2.0\n",
            "Cálculos\n",
            "Produto: 4.0\n",
            "Soma: 8.0\n",
            "Cubo:  8.0\n"
          ]
        }
      ],
      "source": [
        "print (\"Programa para ver calculos\")\n",
        "\n",
        "a = int(input(\"Digite um número inteiro: \"))\n",
        "b = int(input(\"Digite um segundo número inteiro: \"))\n",
        "c = float(input(\"Digite um número real: \"))\n",
        "\n",
        "print(\" Os números escolhidos foram: \", a , b , c)\n",
        "\n",
        "#calculo 1\n",
        "print(\"Cálculos\")\n",
        "print(\"Produto:\" , (2*a)/(b/2))\n",
        "\n",
        "#cálculo 2\n",
        "print(\"Soma:\" , ((3*a) + c))\n",
        "\n",
        "#cálculo 3\n",
        "print(\"Cubo: \", (c**3))\n",
        "\n"
      ]
    },
    {
      "cell_type": "markdown",
      "id": "d3996f2c",
      "metadata": {
        "deletable": false,
        "editable": false,
        "nbgrader": {
          "cell_type": "markdown",
          "checksum": "dbee5e0c5c9a02ca7b0fbcbf0c5018fd",
          "grade": false,
          "grade_id": "Exercicio4-descricao",
          "locked": true,
          "schema_version": 3,
          "solution": false,
          "task": false
        },
        "id": "d3996f2c"
      },
      "source": [
        "# Exercício 4\n",
        "\n",
        "Faça um programa que pergunte quanto você ganha por hora e o número de horas trabalhadas na semana. Calcule e mostre o total do seu salário ao final de 4 semanas. "
      ]
    },
    {
      "cell_type": "code",
      "execution_count": 27,
      "id": "5a307587",
      "metadata": {
        "deletable": false,
        "nbgrader": {
          "cell_type": "code",
          "checksum": "e511551fc875680ccd9679f9b2c21414",
          "grade": true,
          "grade_id": "Exercicio4",
          "locked": false,
          "points": 1,
          "schema_version": 3,
          "solution": true,
          "task": false
        },
        "id": "5a307587",
        "colab": {
          "base_uri": "https://localhost:8080/"
        },
        "outputId": "b58aadf4-1b17-458a-f911-b3ddbcb65eba"
      },
      "outputs": [
        {
          "output_type": "stream",
          "name": "stdout",
          "text": [
            "Quantos reais você ganha por hora? : 2\n",
            "Quantas horas você trabalhou essa semana? :  3\n",
            "salário total no final de 4 semanas :  24 reais\n"
          ]
        }
      ],
      "source": [
        "#salario por hora\n",
        "x=float(input(\"Quantos reais você ganha por hora? : \"))\n",
        "y=float(input(\"Quantas horas você trabalhou essa semana? :  \"))\n",
        "\n",
        "#calculo salario semanal\n",
        "s=(x*y)\n",
        "\n",
        "#total do salário no final de 4 semanas\n",
        "print(\"salário total no final de 4 semanas : \" , int(4*s) , \"reais\")"
      ]
    },
    {
      "cell_type": "markdown",
      "id": "d5088446",
      "metadata": {
        "deletable": false,
        "editable": false,
        "nbgrader": {
          "cell_type": "markdown",
          "checksum": "c82b175f45419cc78a6f0efc08f9ab15",
          "grade": false,
          "grade_id": "Exercicio5-descricao",
          "locked": true,
          "schema_version": 3,
          "solution": false,
          "task": false
        },
        "id": "d5088446"
      },
      "source": [
        "# Exercício 5\n",
        "\n",
        "Faça um programa que leia um número inteiro qualquer e que apresete, além do número informado, o seu antecessor e do seu sucessor."
      ]
    },
    {
      "cell_type": "code",
      "execution_count": 46,
      "id": "a09fcc89",
      "metadata": {
        "deletable": false,
        "nbgrader": {
          "cell_type": "code",
          "checksum": "9f693e117e3e2158f95ee76dc96292a0",
          "grade": true,
          "grade_id": "Exercicio5",
          "locked": false,
          "points": 1,
          "schema_version": 3,
          "solution": true,
          "task": false
        },
        "id": "a09fcc89",
        "colab": {
          "base_uri": "https://localhost:8080/"
        },
        "outputId": "0fad4a60-a3c3-4ae1-da9c-ce093a30bb11"
      },
      "outputs": [
        {
          "output_type": "stream",
          "name": "stdout",
          "text": [
            "Insira um número qualquer: 500\n",
            "Seu número escolhido foi :  500\n",
            "O número antes é :  499\n",
            "O número depois é :  501\n",
            "Temos então :  499 500 501\n"
          ]
        }
      ],
      "source": [
        "#numero\n",
        "x=float(input(\"Insira um número qualquer: \"))\n",
        "y=int(x)\n",
        "\n",
        "print(\"Seu número escolhido foi : \" , y )\n",
        "\n",
        "#Antecessor\n",
        "a=(y-1)\n",
        "print(\"O número antes é : \", a)\n",
        "\n",
        "#Sucessor\n",
        "b=(y+1)\n",
        "print(\"O número depois é : \" , b)\n",
        "\n",
        "#Final\n",
        "print(\"Temos então : \" , a , y , b)\n",
        "\n",
        "\n",
        "\n",
        "\n"
      ]
    },
    {
      "cell_type": "markdown",
      "id": "57a3fb31",
      "metadata": {
        "deletable": false,
        "editable": false,
        "nbgrader": {
          "cell_type": "markdown",
          "checksum": "537bdb2e45ec13ee95cea397e02744f2",
          "grade": false,
          "grade_id": "Exercicio6-descricao",
          "locked": true,
          "schema_version": 3,
          "solution": false,
          "task": false
        },
        "id": "57a3fb31"
      },
      "source": [
        "# Exercício 6\n",
        "\n",
        "Faça um programa que leia quatro notas, e seus respectivos pesos, e que apresente a média final simples e a média final ponderada."
      ]
    },
    {
      "cell_type": "code",
      "execution_count": null,
      "metadata": {
        "deletable": false,
        "nbgrader": {
          "cell_type": "code",
          "checksum": "ff1bbd3e5c18dc73d5e0328c41d74739",
          "grade": true,
          "grade_id": "Exercicio6",
          "locked": false,
          "points": 1,
          "schema_version": 3,
          "solution": true,
          "task": false
        },
        "id": "lBI8wMyIt1w1"
      },
      "outputs": [],
      "source": [
        "#notas\n",
        "x=float(input(\"Insira nota 1 : \"))\n",
        "xp=float(input(\"Insira o peso da nota 1: \"))\n",
        "\n",
        "y=float(input(\"Insira nota 2 : \"))\n",
        "yp=float(input(\"Insira o peso da nota 2: \"))\n",
        "\n",
        "z=float(input(\"Insira nota 3 : \"))\n",
        "zp=float(input(\"Insira o peso da nota 3 : \"))\n",
        "\n",
        "w=float(input(\"Insira nota 4 : \"))\n",
        "wp=float(input(\"Insira o peso da nota 4: \"))\n",
        "print('______________________________________________________')\n",
        "#notas e pesos\n",
        "\n",
        "print(\"Notas: \",x,y,z,w)\n",
        "print(\"Pesos: \",xp,yp,zp,wp)\n",
        "print(\"______________________________________________________\")\n",
        "\n",
        "#Nota final\n",
        "print(\"Notas finais: \")\n",
        "n1 = x*xp\n",
        "print(\"Nota 1 : \" , n1)\n",
        "n2 = y*yp\n",
        "print(\"Nota 2 : \" , n2)\n",
        "n3 = z*zp\n",
        "print(\"Nota 3 : \" , n3)\n",
        "n4 = w*wp\n",
        "print(\"Nota 4 : \" , n4)\n",
        "print(\"______________________________________________________\")\n",
        "#media final simples\n",
        "\n",
        "print(\"Média simples final das notas : \" , (x+y+z+w)/4)\n",
        "print(\"______________________________________________________\")\n",
        "\n",
        "#media ponderada\n",
        "print(\"Média final ponderada das notas : \" , ((n1)+(n2)+(n3)+(n4))/(x+y+z+w))\n",
        "\n"
      ],
      "id": "lBI8wMyIt1w1"
    },
    {
      "cell_type": "markdown",
      "id": "da81404d",
      "metadata": {
        "deletable": false,
        "editable": false,
        "nbgrader": {
          "cell_type": "markdown",
          "checksum": "6f91f7198e36290a15c6547e839a5885",
          "grade": false,
          "grade_id": "Exercicio7-descricao",
          "locked": true,
          "schema_version": 3,
          "solution": false,
          "task": false
        },
        "id": "da81404d"
      },
      "source": [
        "# Exercício 7\n",
        "\n",
        "Faça um programa para uma loja de tintas. O programa deverá pedir o tamanho em metros quadrados da área a ser pintada. Considere que a cobertura da tinta é de 1 litro para cada 12 metros quadrados e que a tinta é vendida em latas de 18 litros, que custam R$ 80,00. Informe ao usuário a quantidades de latas de tinta a serem compradas e o preço total. "
      ]
    },
    {
      "cell_type": "code",
      "execution_count": 74,
      "id": "2a1f6a9c",
      "metadata": {
        "deletable": false,
        "nbgrader": {
          "cell_type": "code",
          "checksum": "0b356a405bcdf2f889a9a95d9a196d61",
          "grade": true,
          "grade_id": "Exercicio7",
          "locked": false,
          "points": 2,
          "schema_version": 3,
          "solution": true,
          "task": false
        },
        "id": "2a1f6a9c",
        "colab": {
          "base_uri": "https://localhost:8080/"
        },
        "outputId": "e02843d9-5c29-4925-e9cd-2e9e6f52083c"
      },
      "outputs": [
        {
          "output_type": "stream",
          "name": "stdout",
          "text": [
            "informe a quantidade (m²) a ser pintado: 4000\n",
            "Litros de tintas a serem usados :  333.3333333333333\n",
            "Latas a serem compradas :  18.51851851851852\n",
            "o valor total em reais é:  1481.4814814814815\n"
          ]
        }
      ],
      "source": [
        "m2 = float(input('informe a quantidade (m²) a ser pintado: '))\n",
        "x = m2 / 12\n",
        "print(\"Litros de tintas a serem usados : \" , x )\n",
        "\n",
        "Latas = x / 18\n",
        "\n",
        "print(\"Latas a serem compradas : \" , Latas)\n",
        "\n",
        "total = (Latas) * 80\n",
        "\n",
        "print('o valor total em reais é: ' , (total))\n"
      ]
    },
    {
      "cell_type": "markdown",
      "id": "79eca3d1",
      "metadata": {
        "deletable": false,
        "editable": false,
        "nbgrader": {
          "cell_type": "markdown",
          "checksum": "e44b2f3971c79d43c75c12bce821c4d9",
          "grade": false,
          "grade_id": "Exercicio8-descricao",
          "locked": true,
          "schema_version": 3,
          "solution": false,
          "task": false
        },
        "id": "79eca3d1"
      },
      "source": [
        "# Exercício 8\n",
        "\n",
        "Faça um Programa para uma loja de tintas. O programa deverá pedir o tamanho em metros quadrados da área a ser pintada. Considere que a cobertura da tinta é de 1 litro para cada 12 metros quadrados e que a tinta é vendida em latas de 18 litros, que custam R$ 80,00 ou em galões de 3,6 litros, que custam R$ 25,00.\n",
        "\n",
        "Informe ao usuário as quantidades de tinta a serem compradas e os respectivos preços em 3 situações:\n",
        "\n",
        "    - comprar apenas latas de 18 litros;\n",
        "    - comprar apenas galões de 3,6 litros;\n",
        "    - misturar latas e galões, de forma que o desperdício de tinta seja menor. \n",
        "    \n",
        "Acrescente 10% de folga nos três casos (isto é, você deve adicionar 10% sobre o total de litros de tinta necessário) e sempre arredonde os valores para cima, isto é, considere latas cheias. \n",
        "\n"
      ]
    },
    {
      "cell_type": "code",
      "execution_count": 95,
      "id": "54c1e741",
      "metadata": {
        "deletable": false,
        "nbgrader": {
          "cell_type": "code",
          "checksum": "8f12ca6f898fe140e2eb04c84fc6c8f3",
          "grade": true,
          "grade_id": "Exercicio8",
          "locked": false,
          "points": 2,
          "schema_version": 3,
          "solution": true,
          "task": false
        },
        "id": "54c1e741",
        "colab": {
          "base_uri": "https://localhost:8080/"
        },
        "outputId": "674046cc-10a8-4d67-ac0d-848808a13d02"
      },
      "outputs": [
        {
          "output_type": "stream",
          "name": "stdout",
          "text": [
            "Diga a area que será pintada em metros: 300\n",
            "O consumo de tinta é: 25.0 LITROS\n",
            "______________________________________________________\n",
            "Número de latas de 18 L: 1.3888888888888888\n",
            "Número de latas de 3,6 L: 6.944444444444445\n",
            "______________________________________________________\n",
            "O valor em reais a ser gasto de latas de 18 L:  111.11111111111111\n",
            "O valor em reais a ser gasto em latas de 3,6 L:  173.61111111111111\n",
            "______________________________________________________\n",
            "considerando o menor desperdício de tinta,: \n",
            "\n",
            "Número de latas de 18L: 1\n",
            "Numero de latas de 3,6L : 3\n",
            "Numero de latas mistas: 4\n",
            "______________________________________________________\n",
            "\n",
            "o valor total considerando 18 L e 3,6 L é (10% de folga): R$ 155\n",
            "______________________________________________________\n"
          ]
        }
      ],
      "source": [
        "#Perguntar a quantidade a ser pintada\n",
        "m2 = float(input('Diga a area que será pintada em metros: '))\n",
        "consumo = m2 / 12\n",
        "#explicitar o consumo\n",
        "print(\"O consumo de tinta é:\" ,consumo ,\"LITROS\")\n",
        "l18 = consumo / 18\n",
        "l36 = consumo / 3.6\n",
        "\n",
        "print('______________________________________________________')\n",
        "\n",
        "print('Número de latas de 18 L:' , (l18))\n",
        "print('Número de latas de 3,6 L:', (l36))\n",
        "\n",
        "print('______________________________________________________')\n",
        "\n",
        "#Mostrar os valores a serem gastos\n",
        "total18 = (l18 * 80)\n",
        "total36 = (l36 * 25)\n",
        "\n",
        "print('O valor em reais a ser gasto de latas de 18 L: ' , (total18))\n",
        "print('O valor em reais a ser gasto em latas de 3,6 L: ',(total36))\n",
        "\n",
        "print('______________________________________________________')\n",
        "#Considerar o menor despertidicio(utilizei math r format para melhorar a visualização)\n",
        "print('considerando o menor desperdício de tinta,: \\n')\n",
        "\n",
        "m18 = ((consumo * 0.10) + consumo) / 18\n",
        "litro18 = math.trunc(m18) * 18\n",
        "resto18 = ((consumo * 0.10) + consumo) - litro18\n",
        "m36 = resto18 / 3.6\n",
        "mtotal = math.trunc(m18) + math.ceil(m36)\n",
        "vm18 = math.trunc(m18) * 80\n",
        "vm36 = math.ceil(m36) * 25\n",
        "total_misto = vm18 + vm36\n",
        "\n",
        "print('Número de latas de 18L: {}'.format(math.trunc(m18)))\n",
        "print('Numero de latas de 3,6L : {}'.format(math.ceil(m36)))\n",
        "print('Numero de latas mistas: {}'.format(mtotal))\n",
        "\n",
        "print('______________________________________________________')\n",
        "print('\\no valor total considerando 18 L e 3,6 L é (10% de folga): R$ {}'.format(total_misto))\n",
        "print('______________________________________________________')\n"
      ]
    }
  ],
  "metadata": {
    "kernelspec": {
      "display_name": "Python 3 (ipykernel)",
      "language": "python",
      "name": "python3"
    },
    "language_info": {
      "codemirror_mode": {
        "name": "ipython",
        "version": 3
      },
      "file_extension": ".py",
      "mimetype": "text/x-python",
      "name": "python",
      "nbconvert_exporter": "python",
      "pygments_lexer": "ipython3",
      "version": "3.9.7"
    },
    "colab": {
      "name": "Cópia de Semana1.ipynb",
      "provenance": [],
      "collapsed_sections": [
        "5f82cbf3",
        "dd8c0af2",
        "868cfe1c",
        "d3996f2c",
        "d5088446",
        "57a3fb31",
        "da81404d",
        "79eca3d1"
      ]
    }
  },
  "nbformat": 4,
  "nbformat_minor": 5
}