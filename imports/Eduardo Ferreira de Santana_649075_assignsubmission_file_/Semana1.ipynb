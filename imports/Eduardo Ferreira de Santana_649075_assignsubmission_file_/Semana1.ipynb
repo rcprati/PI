{
  "cells": [
    {
      "cell_type": "markdown",
      "id": "d4a1d469",
      "metadata": {
        "id": "d4a1d469"
      },
      "source": [
        "# Instruções\n",
        "\n",
        "- Antes de resolver esses exercícios, certifique-se que a configuração está correta (Python 3).\n",
        "\n",
        "- Se estiver usando o Colab, faça uma cópia deste notebook antes de começar a repondê-lo.\n",
        "\n",
        "![](http://professor.ufabc.edu.br/~ronaldo.prati/colab.png)\n",
        "\n",
        "- Lembre-se de manter o nome do caderno com o mesmo nome original.\n",
        "\n",
        "- Não apague nem introduza novas células neste notebook.\n",
        "\n",
        "- Certifique-se que você preencheu todos os lugares que dizem \\\"YOUR CODE HERE\\\" ou \\\"YOUR ANSWER HERE\\\". Substitutua essa linha e também a linha `raise NotImplementedError()` pelo seu código.\n",
        "\n",
        "- Depois de resolver os exercícios, para enviar a atividade, salve o notebook e o envie pelo moodle da disciplina. No colab, para exportar o notebook localmente, acesse `File->Download->Download .ipynb` ou `Arquivo->Baixar->Baixar .ipynb`\n",
        "\n",
        "![](http://professor.ufabc.edu.br/~ronaldo.prati/submit.png)"
      ]
    },
    {
      "cell_type": "markdown",
      "id": "5f82cbf3",
      "metadata": {
        "deletable": false,
        "editable": false,
        "nbgrader": {
          "cell_type": "markdown",
          "checksum": "f1f911b3ba8050e102209c62c8db3f57",
          "grade": false,
          "grade_id": "Exercicio1-descricao",
          "locked": true,
          "schema_version": 3,
          "solution": false,
          "task": false
        },
        "id": "5f82cbf3"
      },
      "source": [
        "# Exercício 1\n",
        "\n",
        "Faça um programa que peça um número e armazene-o em uma variável. A seguir, mostre a mensagem \"O número informado foi [número]\""
      ]
    },
    {
      "cell_type": "code",
      "execution_count": 85,
      "id": "98f0fd7a",
      "metadata": {
        "deletable": false,
        "nbgrader": {
          "cell_type": "code",
          "checksum": "74fb8b9b0c1978c0db15aa13a5696150",
          "grade": true,
          "grade_id": "Exercicio1",
          "locked": false,
          "points": 1,
          "schema_version": 3,
          "solution": true,
          "task": false
        },
        "id": "98f0fd7a",
        "colab": {
          "base_uri": "https://localhost:8080/"
        },
        "outputId": "7aef149e-1d38-4807-e04b-b00c29e45219"
      },
      "outputs": [
        {
          "output_type": "stream",
          "name": "stdout",
          "text": [
            "Digite um número: 2\n",
            "O número informado foi  2.0\n"
          ]
        }
      ],
      "source": [
        "#Variável\n",
        "numero = float(input('Digite um número: '))\n",
        "\n",
        "#Retorno\n",
        "print('O número informado foi ', numero)"
      ]
    },
    {
      "cell_type": "markdown",
      "id": "dd8c0af2",
      "metadata": {
        "deletable": false,
        "editable": false,
        "nbgrader": {
          "cell_type": "markdown",
          "checksum": "e1645b130e5fd8363c5a31803d8a6730",
          "grade": false,
          "grade_id": "Exercicio2-descricao",
          "locked": true,
          "schema_version": 3,
          "solution": false,
          "task": false
        },
        "id": "dd8c0af2"
      },
      "source": [
        "# Exercício 2\n",
        "\n",
        "Faça um Programa que peça o raio de um círculo, calcule e mostre sua área.\n",
        "Dica: para usar o valor de $\\pi$, pesquise por `math.pi`."
      ]
    },
    {
      "cell_type": "code",
      "execution_count": 86,
      "id": "407e7f33",
      "metadata": {
        "deletable": false,
        "nbgrader": {
          "cell_type": "code",
          "checksum": "41ef7b01abeaa8d74e2893a5054fb644",
          "grade": true,
          "grade_id": "Exercicio2",
          "locked": false,
          "points": 1,
          "schema_version": 3,
          "solution": true,
          "task": false
        },
        "id": "407e7f33",
        "colab": {
          "base_uri": "https://localhost:8080/"
        },
        "outputId": "45f433c5-5144-4706-9a6c-a15e6a0c2e5e"
      },
      "outputs": [
        {
          "output_type": "stream",
          "name": "stdout",
          "text": [
            "Informe o raio do círculo(cm) para obter o valor de sua área: 314\n",
            "O valor de sua área é: 1972.92018645439 cm\n"
          ]
        }
      ],
      "source": [
        "#Importar biblioteca de matemática\n",
        "import math\n",
        "\n",
        "#Variavel - input\n",
        "raio = float(input('Informe o raio do círculo (cm) para obter o valor de sua área: '))\n",
        "#Variavel - conta\n",
        "area = 2 * math.pi * raio\n",
        "\n",
        "#Retorno\n",
        "print('O valor de sua área é:', area,'cm')"
      ]
    },
    {
      "cell_type": "markdown",
      "id": "868cfe1c",
      "metadata": {
        "deletable": false,
        "editable": false,
        "nbgrader": {
          "cell_type": "markdown",
          "checksum": "83a396c8ae7ca1696f25c00d928c9d55",
          "grade": false,
          "grade_id": "Exercicio3-descricao",
          "locked": true,
          "schema_version": 3,
          "solution": false,
          "task": false
        },
        "id": "868cfe1c"
      },
      "source": [
        "# Exercício 3\n",
        "\n",
        "Faça um Programa que peça 2 números inteiros e um número real. Calcule e mostre:\n",
        "\n",
        "   - o produto do dobro do primeiro com metade do segundo .\n",
        "   - a soma do triplo do primeiro com o terceiro.\n",
        "   - o terceiro elevado ao cubo. "
      ]
    },
    {
      "cell_type": "code",
      "execution_count": 90,
      "id": "0f2c4944",
      "metadata": {
        "deletable": false,
        "nbgrader": {
          "cell_type": "code",
          "checksum": "01db6a60d8afd153075785a9f8e10ea5",
          "grade": true,
          "grade_id": "Exercicio3",
          "locked": false,
          "points": 1,
          "schema_version": 3,
          "solution": true,
          "task": false
        },
        "id": "0f2c4944",
        "colab": {
          "base_uri": "https://localhost:8080/"
        },
        "outputId": "c24eb33e-c477-4ed7-99c8-055106ed1fd0"
      },
      "outputs": [
        {
          "output_type": "stream",
          "name": "stdout",
          "text": [
            "Informe um número inteiro: 1\n",
            "Informe outro número inteiro: 2\n",
            "Informe um número real: 3.5\n",
            "2.0\n",
            "6.5\n",
            "42.875\n"
          ]
        }
      ],
      "source": [
        "#Importar bibliotecas\n",
        "import math\n",
        "\n",
        "#Variaveis - input\n",
        "inteiro1 = int(input('Informe um número inteiro: '))\n",
        "inteiro2 = int(input('Informe outro número inteiro: '))\n",
        "real1 = float(input('Informe um número real: '))\n",
        "#Variaveis - contas\n",
        "a = ((2 * inteiro1) * inteiro2 / 2)\n",
        "b = (3 * inteiro1 + real1)\n",
        "c = (real1 ** 3)\n",
        "\n",
        "#Retorno\n",
        "print(a)\n",
        "print(b)\n",
        "print(c)"
      ]
    },
    {
      "cell_type": "markdown",
      "id": "d3996f2c",
      "metadata": {
        "deletable": false,
        "editable": false,
        "nbgrader": {
          "cell_type": "markdown",
          "checksum": "dbee5e0c5c9a02ca7b0fbcbf0c5018fd",
          "grade": false,
          "grade_id": "Exercicio4-descricao",
          "locked": true,
          "schema_version": 3,
          "solution": false,
          "task": false
        },
        "id": "d3996f2c"
      },
      "source": [
        "# Exercício 4\n",
        "\n",
        "Faça um programa que pergunte quanto você ganha por hora e o número de horas trabalhadas na semana. Calcule e mostre o total do seu salário ao final de 4 semanas. "
      ]
    },
    {
      "cell_type": "code",
      "execution_count": 91,
      "id": "5a307587",
      "metadata": {
        "deletable": false,
        "nbgrader": {
          "cell_type": "code",
          "checksum": "e511551fc875680ccd9679f9b2c21414",
          "grade": true,
          "grade_id": "Exercicio4",
          "locked": false,
          "points": 1,
          "schema_version": 3,
          "solution": true,
          "task": false
        },
        "id": "5a307587",
        "colab": {
          "base_uri": "https://localhost:8080/"
        },
        "outputId": "a7f86b2b-1ed2-4736-fc18-dfccd950f7ba"
      },
      "outputs": [
        {
          "output_type": "stream",
          "name": "stdout",
          "text": [
            "Quanto você ganha por hora? 1\n",
            "Qual o número de horas trabalhadas na semana? 10\n",
            "Salário após 4 semanas:  40.0\n"
          ]
        }
      ],
      "source": [
        "#Importar bibliotecas\n",
        "import math\n",
        "\n",
        "#Variaveis - input\n",
        "ganho = float(input('Quanto você ganha por hora? '))\n",
        "horas = float(input('Qual o número de horas trabalhadas na semana? '))\n",
        "#Variaveis - contas\n",
        "salario = (ganho * horas) * 4\n",
        "\n",
        "#Retorno\n",
        "print('Salário após 4 semanas: ',salario)"
      ]
    },
    {
      "cell_type": "markdown",
      "id": "d5088446",
      "metadata": {
        "deletable": false,
        "editable": false,
        "nbgrader": {
          "cell_type": "markdown",
          "checksum": "c82b175f45419cc78a6f0efc08f9ab15",
          "grade": false,
          "grade_id": "Exercicio5-descricao",
          "locked": true,
          "schema_version": 3,
          "solution": false,
          "task": false
        },
        "id": "d5088446"
      },
      "source": [
        "# Exercício 5\n",
        "\n",
        "Faça um programa que leia um número inteiro qualquer e que apresete, além do número informado, o seu antecessor e do seu sucessor."
      ]
    },
    {
      "cell_type": "code",
      "execution_count": 92,
      "id": "a09fcc89",
      "metadata": {
        "deletable": false,
        "nbgrader": {
          "cell_type": "code",
          "checksum": "9f693e117e3e2158f95ee76dc96292a0",
          "grade": true,
          "grade_id": "Exercicio5",
          "locked": false,
          "points": 1,
          "schema_version": 3,
          "solution": true,
          "task": false
        },
        "id": "a09fcc89",
        "colab": {
          "base_uri": "https://localhost:8080/"
        },
        "outputId": "cce1033f-cd30-4c0b-f5a0-c2eed2b5bf38"
      },
      "outputs": [
        {
          "output_type": "stream",
          "name": "stdout",
          "text": [
            "Informe um número inteiro: 5\n",
            "Número informado: 5\n",
            "Antecessor: 4\n",
            "Sucessor: 6\n"
          ]
        }
      ],
      "source": [
        "#Importar bibliotecas\n",
        "import math\n",
        "\n",
        "#Variaveis - input\n",
        "inteiro = int(input('Informe um número inteiro: '))\n",
        "#Variaveis - contas\n",
        "ant = inteiro - 1\n",
        "suc = inteiro + 1\n",
        "\n",
        "#Retorno\n",
        "print('Número informado:',inteiro)\n",
        "print('Antecessor:',ant)\n",
        "print('Sucessor:',suc)"
      ]
    },
    {
      "cell_type": "markdown",
      "id": "57a3fb31",
      "metadata": {
        "deletable": false,
        "editable": false,
        "nbgrader": {
          "cell_type": "markdown",
          "checksum": "537bdb2e45ec13ee95cea397e02744f2",
          "grade": false,
          "grade_id": "Exercicio6-descricao",
          "locked": true,
          "schema_version": 3,
          "solution": false,
          "task": false
        },
        "id": "57a3fb31"
      },
      "source": [
        "# Exercício 6\n",
        "\n",
        "Faça um programa que leia quatro notas, e seus respectivos pesos, e que apresente a média final simples e a média final ponderada."
      ]
    },
    {
      "cell_type": "code",
      "execution_count": 37,
      "id": "10e12fd4",
      "metadata": {
        "deletable": false,
        "nbgrader": {
          "cell_type": "code",
          "checksum": "ff1bbd3e5c18dc73d5e0328c41d74739",
          "grade": true,
          "grade_id": "Exercicio6",
          "locked": false,
          "points": 1,
          "schema_version": 3,
          "solution": true,
          "task": false
        },
        "id": "10e12fd4",
        "colab": {
          "base_uri": "https://localhost:8080/"
        },
        "outputId": "c0db6cb0-0432-4f01-cf99-1190607b62fc"
      },
      "outputs": [
        {
          "output_type": "stream",
          "name": "stdout",
          "text": [
            "Informe a primeira nota: 1\n",
            "Informe a segunda nota: 1\n",
            "Informe a terceira nota: 1\n",
            "Informe a quarta nota: 1\n",
            "Informe o peso da primeira nota: 1\n",
            "Informe o peso da segunda nota: 1\n",
            "Informe o peso da terceira nota: 1\n",
            "Informe o peso da quarta nota: 1\n",
            "Sua média final simples é:  2.0 e a sua média final ponderada é:  1.0\n"
          ]
        }
      ],
      "source": [
        "#Importar bibliotecas\n",
        "import math\n",
        "\n",
        "#Variaveis - input\n",
        "n1 = float(input('Informe a primeira nota: '))\n",
        "n2 = float(input('Informe a segunda nota: '))\n",
        "n3 = float(input('Informe a terceira nota: '))\n",
        "n4 = float(input('Informe a quarta nota: '))\n",
        "p1 = float(input('Informe o peso da primeira nota: '))\n",
        "p2 = float(input('Informe o peso da segunda nota: '))\n",
        "p3 = float(input('Informe o peso da terceira nota: '))\n",
        "p4 = float(input('Informe o peso da quarta nota: '))\n",
        "#Variaveis - contas\n",
        "mediasim = (n1 + n2 + n3 + n4)/2\n",
        "mediapond = (p1*n1 + p2*n2 + p3*n3 + p4*n4)/(p1 + p2 + p3 + p4)\n",
        "\n",
        "#Retorno\n",
        "print('Sua média final simples é:',mediasim,' e a sua média final ponderada é:',mediapond)"
      ]
    },
    {
      "cell_type": "markdown",
      "id": "da81404d",
      "metadata": {
        "deletable": false,
        "editable": false,
        "nbgrader": {
          "cell_type": "markdown",
          "checksum": "6f91f7198e36290a15c6547e839a5885",
          "grade": false,
          "grade_id": "Exercicio7-descricao",
          "locked": true,
          "schema_version": 3,
          "solution": false,
          "task": false
        },
        "id": "da81404d"
      },
      "source": [
        "# Exercício 7\n",
        "\n",
        "Faça um programa para uma loja de tintas. O programa deverá pedir o tamanho em metros quadrados da área a ser pintada. Considere que a cobertura da tinta é de 1 litro para cada 12 metros quadrados e que a tinta é vendida em latas de 18 litros, que custam R$ 80,00. Informe ao usuário a quantidades de latas de tinta a serem compradas e o preço total. "
      ]
    },
    {
      "cell_type": "code",
      "execution_count": 80,
      "id": "2a1f6a9c",
      "metadata": {
        "deletable": false,
        "nbgrader": {
          "cell_type": "code",
          "checksum": "0b356a405bcdf2f889a9a95d9a196d61",
          "grade": true,
          "grade_id": "Exercicio7",
          "locked": false,
          "points": 2,
          "schema_version": 3,
          "solution": true,
          "task": false
        },
        "id": "2a1f6a9c",
        "colab": {
          "base_uri": "https://localhost:8080/"
        },
        "outputId": "4d321337-b225-4aa9-f5a6-4cdf604cb13d"
      },
      "outputs": [
        {
          "output_type": "stream",
          "name": "stdout",
          "text": [
            "Informe o tamanho (m²) da área a ser pintada: 216\n",
            "Você deverá comprar 1 lata(s) com o valor total de R$ 80.00\n"
          ]
        }
      ],
      "source": [
        "#Importar bibliotecas\n",
        "import math\n",
        "\n",
        "#Variavel - input\n",
        "tam = float(input('Informe o tamanho (m²) da área a ser pintada: '))\n",
        "#Variavel - contas\n",
        "latas = math.ceil(((tam / 12) / 18))\n",
        "preco = (latas * 80)\n",
        "\n",
        "#Retorno\n",
        "print('Você deverá comprar',latas, 'lata(s) com o valor total de R$',\"%.2f\" %preco)"
      ]
    },
    {
      "cell_type": "markdown",
      "id": "79eca3d1",
      "metadata": {
        "deletable": false,
        "editable": false,
        "nbgrader": {
          "cell_type": "markdown",
          "checksum": "e44b2f3971c79d43c75c12bce821c4d9",
          "grade": false,
          "grade_id": "Exercicio8-descricao",
          "locked": true,
          "schema_version": 3,
          "solution": false,
          "task": false
        },
        "id": "79eca3d1"
      },
      "source": [
        "# Exercício 8\n",
        "\n",
        "Faça um Programa para uma loja de tintas. O programa deverá pedir o tamanho em metros quadrados da área a ser pintada. Considere que a cobertura da tinta é de 1 litro para cada 12 metros quadrados e que a tinta é vendida em latas de 18 litros, que custam R$ 80,00 ou em galões de 3,6 litros, que custam R$ 25,00.\n",
        "\n",
        "Informe ao usuário as quantidades de tinta a serem compradas e os respectivos preços em 3 situações:\n",
        "\n",
        "    - comprar apenas latas de 18 litros;\n",
        "    - comprar apenas galões de 3,6 litros;\n",
        "    - misturar latas e galões, de forma que o desperdício de tinta seja menor. \n",
        "    \n",
        "Acrescente 10% de folga nos três casos (isto é, você deve adicionar 10% sobre o total de litros de tinta necessário) e sempre arredonde os valores para cima, isto é, considere latas cheias. \n",
        "\n"
      ]
    },
    {
      "cell_type": "code",
      "execution_count": 84,
      "id": "54c1e741",
      "metadata": {
        "deletable": false,
        "nbgrader": {
          "cell_type": "code",
          "checksum": "8f12ca6f898fe140e2eb04c84fc6c8f3",
          "grade": true,
          "grade_id": "Exercicio8",
          "locked": false,
          "points": 2,
          "schema_version": 3,
          "solution": true,
          "task": false
        },
        "id": "54c1e741",
        "colab": {
          "base_uri": "https://localhost:8080/"
        },
        "outputId": "1ab1dc6f-706d-41bd-9572-2578daaa8960"
      },
      "outputs": [
        {
          "output_type": "stream",
          "name": "stdout",
          "text": [
            "Informe o tamanho (m²) da área a ser pintada: 216\n",
            "Caso queira comprar apenas latas, será(ão) 2 , com o valor total de R$ 160.00\n",
            "Caso queira comprar apenas galões, será(ão) 6 , com o valor total de de R$ 150.00\n",
            "Para desperdiçar menos tinta, recomenda-se que compre 1 lata(s) e 1 galão(ões)\n"
          ]
        }
      ],
      "source": [
        "#Importar bibliotecas\n",
        "import math\n",
        "\n",
        "#Variavel - input\n",
        "tam = float(input('Informe o tamanho (m²) da área a ser pintada: '))\n",
        "#Variavel - contas\n",
        "lata = math.ceil(((tam / 12) / 18) + (0.1 * ((tam / 12) / 18)))\n",
        "preco1 = (lata * 80)\n",
        "galao = math.ceil(((tam / 12) / 3.6) + (0.1 * ((tam / 12) / 3.6)))\n",
        "preco2 = (galao * 25)\n",
        "#Variavel - desafio (misturar latas e galões)\n",
        "a = (((tam / 12) / 18) + (0.1 * ((tam / 12) / 18)))\n",
        "b = math.ceil((a % 1))\n",
        "\n",
        "#Retorno\n",
        "print('Caso queira comprar apenas latas, será(ão)',lata,', com o valor total de R$',\"%.2f\" %preco1)\n",
        "print('Caso queira comprar apenas galões, será(ão)',galao,', com o valor total de de R$',\"%.2f\" %preco2)\n",
        "print('Para desperdiçar menos tinta, recomenda-se que compre',math.floor(a),'lata(s) e',b,'galão(ões)')"
      ]
    },
    {
      "cell_type": "code",
      "source": [
        ""
      ],
      "metadata": {
        "id": "4hZjAm8HOTgr"
      },
      "id": "4hZjAm8HOTgr",
      "execution_count": null,
      "outputs": []
    }
  ],
  "metadata": {
    "kernelspec": {
      "display_name": "Python 3 (ipykernel)",
      "language": "python",
      "name": "python3"
    },
    "language_info": {
      "codemirror_mode": {
        "name": "ipython",
        "version": 3
      },
      "file_extension": ".py",
      "mimetype": "text/x-python",
      "name": "python",
      "nbconvert_exporter": "python",
      "pygments_lexer": "ipython3",
      "version": "3.9.7"
    },
    "colab": {
      "name": "Semana1.ipynb",
      "provenance": []
    }
  },
  "nbformat": 4,
  "nbformat_minor": 5
}