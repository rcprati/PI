{
  "cells": [
    {
      "cell_type": "markdown",
      "id": "d4a1d469",
      "metadata": {
        "id": "d4a1d469"
      },
      "source": [
        "# Instruções\n",
        "\n",
        "- Antes de resolver esses exercícios, certifique-se que a configuração está correta (Python 3).\n",
        "\n",
        "- Se estiver usando o Colab, faça uma cópia deste notebook antes de começar a repondê-lo.\n",
        "\n",
        "![](http://professor.ufabc.edu.br/~ronaldo.prati/colab.png)\n",
        "\n",
        "- Lembre-se de manter o nome do caderno com o mesmo nome original.\n",
        "\n",
        "- Não apague nem introduza novas células neste notebook.\n",
        "\n",
        "- Certifique-se que você preencheu todos os lugares que dizem \\\"YOUR CODE HERE\\\" ou \\\"YOUR ANSWER HERE\\\". Substitutua essa linha e também a linha `raise NotImplementedError()` pelo seu código.\n",
        "\n",
        "- Depois de resolver os exercícios, para enviar a atividade, salve o notebook e o envie pelo moodle da disciplina. No colab, para exportar o notebook localmente, acesse `File->Download->Download .ipynb` ou `Arquivo->Baixar->Baixar .ipynb`\n",
        "\n",
        "![](http://professor.ufabc.edu.br/~ronaldo.prati/submit.png)"
      ]
    },
    {
      "cell_type": "markdown",
      "id": "5f82cbf3",
      "metadata": {
        "deletable": false,
        "editable": false,
        "nbgrader": {
          "cell_type": "markdown",
          "checksum": "f1f911b3ba8050e102209c62c8db3f57",
          "grade": false,
          "grade_id": "Exercicio1-descricao",
          "locked": true,
          "schema_version": 3,
          "solution": false,
          "task": false
        },
        "id": "5f82cbf3"
      },
      "source": [
        "# Exercício 1\n",
        "\n",
        "Faça um programa que peça um número e armazene-o em uma variável. A seguir, mostre a mensagem \"O número informado foi [número]\""
      ]
    },
    {
      "cell_type": "code",
      "execution_count": null,
      "id": "98f0fd7a",
      "metadata": {
        "deletable": false,
        "nbgrader": {
          "cell_type": "code",
          "checksum": "74fb8b9b0c1978c0db15aa13a5696150",
          "grade": true,
          "grade_id": "Exercicio1",
          "locked": false,
          "points": 1,
          "schema_version": 3,
          "solution": true,
          "task": false
        },
        "id": "98f0fd7a",
        "colab": {
          "base_uri": "https://localhost:8080/"
        },
        "outputId": "b1fbfbf3-1f2e-4b84-e649-0d9e14f50f1d"
      },
      "outputs": [
        {
          "output_type": "stream",
          "name": "stdout",
          "text": [
            "Digite um número: 9\n",
            "O número informado foi: 9.0\n"
          ]
        }
      ],
      "source": [
        "n1 = float(input(\"Digite um número: \"))\n",
        "print(\"O número informado foi:\", n1)\n"
      ]
    },
    {
      "cell_type": "markdown",
      "id": "dd8c0af2",
      "metadata": {
        "deletable": false,
        "editable": false,
        "nbgrader": {
          "cell_type": "markdown",
          "checksum": "e1645b130e5fd8363c5a31803d8a6730",
          "grade": false,
          "grade_id": "Exercicio2-descricao",
          "locked": true,
          "schema_version": 3,
          "solution": false,
          "task": false
        },
        "id": "dd8c0af2"
      },
      "source": [
        "# Exercício 2\n",
        "\n",
        "Faça um Programa que peça o raio de um círculo, calcule e mostre sua área.\n",
        "Dica: para usar o valor de $\\pi$, pesquise por `math.pi`."
      ]
    },
    {
      "cell_type": "code",
      "execution_count": null,
      "id": "407e7f33",
      "metadata": {
        "deletable": false,
        "nbgrader": {
          "cell_type": "code",
          "checksum": "41ef7b01abeaa8d74e2893a5054fb644",
          "grade": true,
          "grade_id": "Exercicio2",
          "locked": false,
          "points": 1,
          "schema_version": 3,
          "solution": true,
          "task": false
        },
        "id": "407e7f33",
        "colab": {
          "base_uri": "https://localhost:8080/"
        },
        "outputId": "bdec1b35-09f9-4d45-d6f3-542dbbc7ab89"
      },
      "outputs": [
        {
          "output_type": "stream",
          "name": "stdout",
          "text": [
            "Raio do círculo:5\n",
            " A área do círculo é: 78.53981633974483\n"
          ]
        }
      ],
      "source": [
        "import math\n",
        "\n",
        "r = float(input(\"Raio do círculo:\"))\n",
        "area = math.pi * (r**2) \n",
        "print(\" A área do círculo é:\", area)"
      ]
    },
    {
      "cell_type": "markdown",
      "id": "868cfe1c",
      "metadata": {
        "deletable": false,
        "editable": false,
        "nbgrader": {
          "cell_type": "markdown",
          "checksum": "83a396c8ae7ca1696f25c00d928c9d55",
          "grade": false,
          "grade_id": "Exercicio3-descricao",
          "locked": true,
          "schema_version": 3,
          "solution": false,
          "task": false
        },
        "id": "868cfe1c"
      },
      "source": [
        "# Exercício 3\n",
        "\n",
        "Faça um Programa que peça 2 números inteiros e um número real. Calcule e mostre:\n",
        "\n",
        "   - o produto do dobro do primeiro com metade do segundo .\n",
        "   - a soma do triplo do primeiro com o terceiro.\n",
        "   - o terceiro elevado ao cubo. "
      ]
    },
    {
      "cell_type": "code",
      "execution_count": null,
      "id": "0f2c4944",
      "metadata": {
        "deletable": false,
        "nbgrader": {
          "cell_type": "code",
          "checksum": "01db6a60d8afd153075785a9f8e10ea5",
          "grade": true,
          "grade_id": "Exercicio3",
          "locked": false,
          "points": 1,
          "schema_version": 3,
          "solution": true,
          "task": false
        },
        "id": "0f2c4944",
        "colab": {
          "base_uri": "https://localhost:8080/"
        },
        "outputId": "3c08d104-fc1b-4504-9ca8-835a5455fd12"
      },
      "outputs": [
        {
          "output_type": "stream",
          "name": "stdout",
          "text": [
            "Entre com um número inteiro:8\n",
            "Entre com um número inteiro:6\n",
            "Entre com um número real:4.5\n",
            "O produto do dobro do primeiro com metade do segundo: 48.0\n",
            "A soma do triplo do primeiro com o terceiro: 28.5\n",
            "O terceiro elevado ao cubo 91.125\n"
          ]
        }
      ],
      "source": [
        "import math\n",
        "\n",
        "a = float(input(\"Entre com um número inteiro:\"))\n",
        "b = float(input(\"Entre com um número inteiro:\"))\n",
        "c = float(input(\"Entre com um número real:\"))\n",
        "a1 = int(a)\n",
        "b1 = int(b)\n",
        "c1 = float(c)\n",
        "x = (2 * a1)*(b1/2)\n",
        "y = (3 * a1) + c1\n",
        "z = c1 ** 3\n",
        "print(\"O produto do dobro do primeiro com metade do segundo:\", x)\n",
        "print(\"A soma do triplo do primeiro com o terceiro:\", y)\n",
        "print(\"O terceiro elevado ao cubo\", z)"
      ]
    },
    {
      "cell_type": "markdown",
      "id": "d3996f2c",
      "metadata": {
        "deletable": false,
        "editable": false,
        "nbgrader": {
          "cell_type": "markdown",
          "checksum": "dbee5e0c5c9a02ca7b0fbcbf0c5018fd",
          "grade": false,
          "grade_id": "Exercicio4-descricao",
          "locked": true,
          "schema_version": 3,
          "solution": false,
          "task": false
        },
        "id": "d3996f2c"
      },
      "source": [
        "# Exercício 4\n",
        "\n",
        "Faça um programa que pergunte quanto você ganha por hora e o número de horas trabalhadas na semana. Calcule e mostre o total do seu salário ao final de 4 semanas. "
      ]
    },
    {
      "cell_type": "code",
      "execution_count": null,
      "id": "5a307587",
      "metadata": {
        "deletable": false,
        "nbgrader": {
          "cell_type": "code",
          "checksum": "e511551fc875680ccd9679f9b2c21414",
          "grade": true,
          "grade_id": "Exercicio4",
          "locked": false,
          "points": 1,
          "schema_version": 3,
          "solution": true,
          "task": false
        },
        "id": "5a307587",
        "colab": {
          "base_uri": "https://localhost:8080/"
        },
        "outputId": "bec32b42-5ff5-4d61-d90d-1099b8389470"
      },
      "outputs": [
        {
          "output_type": "stream",
          "name": "stdout",
          "text": [
            "Quanto você ganha por hora? 20\n",
            " Quantas horas você trabalha na semana? 30\n",
            "Total do seu salário ao final de 4 semanas: 2400.0\n"
          ]
        }
      ],
      "source": [
        "x = float(input(\"Quanto você ganha por hora? \"))\n",
        "y = float(input(\" Quantas horas você trabalha na semana? \"))\n",
        "z = 4 * y * x\n",
        "print(\"Total do seu salário ao final de 4 semanas:\", z)"
      ]
    },
    {
      "cell_type": "markdown",
      "id": "d5088446",
      "metadata": {
        "deletable": false,
        "editable": false,
        "nbgrader": {
          "cell_type": "markdown",
          "checksum": "c82b175f45419cc78a6f0efc08f9ab15",
          "grade": false,
          "grade_id": "Exercicio5-descricao",
          "locked": true,
          "schema_version": 3,
          "solution": false,
          "task": false
        },
        "id": "d5088446"
      },
      "source": [
        "# Exercício 5\n",
        "\n",
        "Faça um programa que leia um número inteiro qualquer e que apresete, além do número informado, o seu antecessor e do seu sucessor."
      ]
    },
    {
      "cell_type": "code",
      "execution_count": null,
      "id": "a09fcc89",
      "metadata": {
        "deletable": false,
        "nbgrader": {
          "cell_type": "code",
          "checksum": "9f693e117e3e2158f95ee76dc96292a0",
          "grade": true,
          "grade_id": "Exercicio5",
          "locked": false,
          "points": 1,
          "schema_version": 3,
          "solution": true,
          "task": false
        },
        "id": "a09fcc89",
        "colab": {
          "base_uri": "https://localhost:8080/"
        },
        "outputId": "c426fc38-00c4-4b8c-ed3f-618ab1fc56ed"
      },
      "outputs": [
        {
          "output_type": "stream",
          "name": "stdout",
          "text": [
            "Digite um número inteiro: 5\n",
            " Sucessor= 6 Antecessor 4\n"
          ]
        }
      ],
      "source": [
        "y = float(input(\"Digite um número inteiro: \"))\n",
        "x = int(y)\n",
        "sucessor = x + 1\n",
        "antecessor = x - 1\n",
        "print(\" Sucessor=\", sucessor, \"Antecessor\", antecessor)\n"
      ]
    },
    {
      "cell_type": "markdown",
      "id": "57a3fb31",
      "metadata": {
        "deletable": false,
        "editable": false,
        "nbgrader": {
          "cell_type": "markdown",
          "checksum": "537bdb2e45ec13ee95cea397e02744f2",
          "grade": false,
          "grade_id": "Exercicio6-descricao",
          "locked": true,
          "schema_version": 3,
          "solution": false,
          "task": false
        },
        "id": "57a3fb31"
      },
      "source": [
        "# Exercício 6\n",
        "\n",
        "Faça um programa que leia quatro notas, e seus respectivos pesos, e que apresente a média final simples e a média final ponderada."
      ]
    },
    {
      "cell_type": "code",
      "execution_count": null,
      "id": "10e12fd4",
      "metadata": {
        "deletable": false,
        "nbgrader": {
          "cell_type": "code",
          "checksum": "ff1bbd3e5c18dc73d5e0328c41d74739",
          "grade": true,
          "grade_id": "Exercicio6",
          "locked": false,
          "points": 1,
          "schema_version": 3,
          "solution": true,
          "task": false
        },
        "id": "10e12fd4",
        "colab": {
          "base_uri": "https://localhost:8080/"
        },
        "outputId": "91b71dcd-6976-4f66-f4df-50378be02a3b"
      },
      "outputs": [
        {
          "output_type": "stream",
          "name": "stdout",
          "text": [
            "Entre a primeira nota: 8\n",
            "Entre a segunda nota: 4\n",
            "Entre a terceira nota: 3\n",
            "Entre a quarta nota: 9\n",
            "Entre com o peso da primeira nota: 5\n",
            "Entre com o peso da segunda nota: 3\n",
            "Entre com o peso da terceira nota: 2\n",
            "Entre com o peso da quarta nota: 4\n",
            "A média simples é:  6.0  e a média poderada é:  6.714285714285714\n"
          ]
        }
      ],
      "source": [
        "n1 = float(input(\"Entre a primeira nota: \"))\n",
        "n2 = float(input(\"Entre a segunda nota: \"))\n",
        "n3 = float(input(\"Entre a terceira nota: \"))\n",
        "n4 = float(input(\"Entre a quarta nota: \"))\n",
        "w1 = float(input(\"Entre com o peso da primeira nota: \"))\n",
        "w2 = float(input(\"Entre com o peso da segunda nota: \"))\n",
        "w3 = float(input(\"Entre com o peso da terceira nota: \"))\n",
        "w4 = float(input(\"Entre com o peso da quarta nota: \"))\n",
        "\n",
        "media_simples = ( n1 + n2 + n3 + n4 )/4\n",
        "media_ponderada = ( w1*n1 + w2*n2 + w3*n3 + w4*n4)/(w1 + w2 + w3 + w4)\n",
        "print(\"A média simples é: \", media_simples, \" e a média poderada é: \", media_ponderada)"
      ]
    },
    {
      "cell_type": "markdown",
      "id": "da81404d",
      "metadata": {
        "deletable": false,
        "editable": false,
        "nbgrader": {
          "cell_type": "markdown",
          "checksum": "6f91f7198e36290a15c6547e839a5885",
          "grade": false,
          "grade_id": "Exercicio7-descricao",
          "locked": true,
          "schema_version": 3,
          "solution": false,
          "task": false
        },
        "id": "da81404d"
      },
      "source": [
        "# Exercício 7\n",
        "\n",
        "Faça um programa para uma loja de tintas. O programa deverá pedir o tamanho em metros quadrados da área a ser pintada. Considere que a cobertura da tinta é de 1 litro para cada 12 metros quadrados e que a tinta é vendida em latas de 18 litros, que custam R$ 80,00. Informe ao usuário a quantidades de latas de tinta a serem compradas e o preço total. "
      ]
    },
    {
      "cell_type": "code",
      "execution_count": null,
      "id": "2a1f6a9c",
      "metadata": {
        "deletable": false,
        "nbgrader": {
          "cell_type": "code",
          "checksum": "0b356a405bcdf2f889a9a95d9a196d61",
          "grade": true,
          "grade_id": "Exercicio7",
          "locked": false,
          "points": 2,
          "schema_version": 3,
          "solution": true,
          "task": false
        },
        "id": "2a1f6a9c",
        "colab": {
          "base_uri": "https://localhost:8080/"
        },
        "outputId": "96ccb3a0-0178-4b68-c897-daf49b0f7f85"
      },
      "outputs": [
        {
          "output_type": "stream",
          "name": "stdout",
          "text": [
            "Tamanho em metros quadrados da área a ser pintada:500\n",
            "Quantidade de latas compradas: 3 Preço Total 240\n"
          ]
        }
      ],
      "source": [
        "import math\n",
        "\n",
        "x = float(input(\"Tamanho em metros quadrados da área a ser pintada:\"))\n",
        "total_de_litros_necessario = x/12\n",
        "total_de_latas = math.ceil(total_de_litros_necessario / 18)\n",
        "total_a_pagar = total_de_latas * 80\n",
        "\n",
        "print(\"Quantidade de latas compradas:\", total_de_latas, \"Preço Total\", total_a_pagar)"
      ]
    },
    {
      "cell_type": "markdown",
      "id": "79eca3d1",
      "metadata": {
        "deletable": false,
        "editable": false,
        "nbgrader": {
          "cell_type": "markdown",
          "checksum": "e44b2f3971c79d43c75c12bce821c4d9",
          "grade": false,
          "grade_id": "Exercicio8-descricao",
          "locked": true,
          "schema_version": 3,
          "solution": false,
          "task": false
        },
        "id": "79eca3d1"
      },
      "source": [
        "# Exercício 8\n",
        "\n",
        "Faça um Programa para uma loja de tintas. O programa deverá pedir o tamanho em metros quadrados da área a ser pintada. Considere que a cobertura da tinta é de 1 litro para cada 12 metros quadrados e que a tinta é vendida em latas de 18 litros, que custam R$ 80,00 ou em galões de 3,6 litros, que custam R$ 25,00.\n",
        "\n",
        "Informe ao usuário as quantidades de tinta a serem compradas e os respectivos preços em 3 situações:\n",
        "\n",
        "    - comprar apenas latas de 18 litros;\n",
        "    - comprar apenas galões de 3,6 litros;\n",
        "    - misturar latas e galões, de forma que o desperdício de tinta seja menor. \n",
        "    \n",
        "Acrescente 10% de folga nos três casos (isto é, você deve adicionar 10% sobre o total de litros de tinta necessário) e sempre arredonde os valores para cima, isto é, considere latas cheias. \n",
        "\n"
      ]
    },
    {
      "cell_type": "code",
      "source": [
        "import math\n",
        "\n",
        "x = float(input(\"Tamanho em metros quadrados da área a ser pintada:\"))\n",
        "total_de_litros_necessario = (x/12) * 1.10\n",
        "total_de_latas1 = math.ceil(total_de_litros_necessario / 18)\n",
        "total_a_pagar1 = total_de_latas1 * 80\n",
        "print(\"Caso 1\")\n",
        "print(\"Quantidade de latas de 18l compradas:\", total_de_latas1, \"Preço Total\", total_a_pagar1)\n",
        "\n",
        "total_de_latas2 = math.ceil(total_de_litros_necessario / 3.6)\n",
        "total_a_pagar2 = total_de_latas2 * 25\n",
        "print(\"Caso 2\")\n",
        "print(\"Quantidade de latas de 3.6l compradas:\", total_de_latas2, \"Preço Total\", total_a_pagar2)\n",
        "\n",
        "total_de_latas18 = total_de_litros_necessario//18\n",
        "total_de_latas3l = math.ceil(((total_de_litros_necessario/18) - (total_de_litros_necessario//18))*5)\n",
        "total_a_pagar3 = (total_de_latas18 * 80) + (total_de_latas3l * 25)\n",
        "print(\"Caso 3\")\n",
        "print(\"Quantidade de latas de 18l compradas:\", total_de_latas18)\n",
        "print(\"Quantidade de latas de 3.6l compradas:\", total_de_latas3l) \n",
        "print(\"Preço Total\", total_a_pagar3)\n"
      ],
      "metadata": {
        "colab": {
          "base_uri": "https://localhost:8080/"
        },
        "id": "E20gmaPYVg51",
        "outputId": "ad80f743-5610-4c55-a00e-cd6c63fddb8b"
      },
      "id": "E20gmaPYVg51",
      "execution_count": 1,
      "outputs": [
        {
          "output_type": "stream",
          "name": "stdout",
          "text": [
            "Tamanho em metros quadrados da área a ser pintada:500\n",
            "Caso 1\n",
            "Quantidade de latas de 18l compradas: 3 Preço Total 240\n",
            "Caso 2\n",
            "Quantidade de latas de 3.6l compradas: 13 Preço Total 325\n",
            "Caso 3\n",
            "Quantidade de latas de 18l compradas: 2.0\n",
            "Quantidade de latas de 3.6l compradas: 3\n",
            "Preço Total 235.0\n"
          ]
        }
      ]
    }
  ],
  "metadata": {
    "kernelspec": {
      "display_name": "Python 3 (ipykernel)",
      "language": "python",
      "name": "python3"
    },
    "language_info": {
      "codemirror_mode": {
        "name": "ipython",
        "version": 3
      },
      "file_extension": ".py",
      "mimetype": "text/x-python",
      "name": "python",
      "nbconvert_exporter": "python",
      "pygments_lexer": "ipython3",
      "version": "3.9.7"
    },
    "colab": {
      "name": "Cópia de Semana1.ipynb",
      "provenance": [],
      "collapsed_sections": []
    }
  },
  "nbformat": 4,
  "nbformat_minor": 5
}