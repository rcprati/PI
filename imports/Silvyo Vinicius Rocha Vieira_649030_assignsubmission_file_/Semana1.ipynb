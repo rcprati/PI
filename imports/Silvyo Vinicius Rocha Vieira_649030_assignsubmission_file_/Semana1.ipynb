{
  "cells": [
    {
      "cell_type": "markdown",
      "id": "d4a1d469",
      "metadata": {
        "id": "d4a1d469"
      },
      "source": [
        "# Instruções\n",
        "\n",
        "- Antes de resolver esses exercícios, certifique-se que a configuração está correta (Python 3).\n",
        "\n",
        "- Se estiver usando o Colab, faça uma cópia deste notebook antes de começar a repondê-lo.\n",
        "\n",
        "![](http://professor.ufabc.edu.br/~ronaldo.prati/colab.png)\n",
        "\n",
        "- Lembre-se de manter o nome do caderno com o mesmo nome original.\n",
        "\n",
        "- Não apague nem introduza novas células neste notebook.\n",
        "\n",
        "- Certifique-se que você preencheu todos os lugares que dizem \\\"YOUR CODE HERE\\\" ou \\\"YOUR ANSWER HERE\\\". Substitutua essa linha e também a linha `raise NotImplementedError()` pelo seu código.\n",
        "\n",
        "- Depois de resolver os exercícios, para enviar a atividade, salve o notebook e o envie pelo moodle da disciplina. No colab, para exportar o notebook localmente, acesse `File->Download->Download .ipynb` ou `Arquivo->Baixar->Baixar .ipynb`\n",
        "\n",
        "![](http://professor.ufabc.edu.br/~ronaldo.prati/submit.png)"
      ]
    },
    {
      "cell_type": "markdown",
      "id": "5f82cbf3",
      "metadata": {
        "deletable": false,
        "editable": false,
        "id": "5f82cbf3",
        "nbgrader": {
          "cell_type": "markdown",
          "checksum": "f1f911b3ba8050e102209c62c8db3f57",
          "grade": false,
          "grade_id": "Exercicio1-descricao",
          "locked": true,
          "schema_version": 3,
          "solution": false,
          "task": false
        }
      },
      "source": [
        "# Exercício 1\n",
        "\n",
        "Faça um programa que peça um número e armazene-o em uma variável. A seguir, mostre a mensagem \"O número informado foi [número]\""
      ]
    },
    {
      "cell_type": "code",
      "execution_count": null,
      "id": "98f0fd7a",
      "metadata": {
        "deletable": false,
        "id": "98f0fd7a",
        "nbgrader": {
          "cell_type": "code",
          "checksum": "74fb8b9b0c1978c0db15aa13a5696150",
          "grade": true,
          "grade_id": "Exercicio1",
          "locked": false,
          "points": 1,
          "schema_version": 3,
          "solution": true,
          "task": false
        },
        "colab": {
          "base_uri": "https://localhost:8080/"
        },
        "outputId": "8394d20a-b98d-432f-e568-c567f6abb438"
      },
      "outputs": [
        {
          "output_type": "stream",
          "name": "stdout",
          "text": [
            "Digite um número: 4\n",
            "O número informado foi 4\n"
          ]
        }
      ],
      "source": [
        "numero = input(\"Digite um número: \")\n",
        "\n",
        "print(f\"O número informado foi {numero}\")"
      ]
    },
    {
      "cell_type": "markdown",
      "id": "dd8c0af2",
      "metadata": {
        "deletable": false,
        "editable": false,
        "id": "dd8c0af2",
        "nbgrader": {
          "cell_type": "markdown",
          "checksum": "e1645b130e5fd8363c5a31803d8a6730",
          "grade": false,
          "grade_id": "Exercicio2-descricao",
          "locked": true,
          "schema_version": 3,
          "solution": false,
          "task": false
        }
      },
      "source": [
        "# Exercício 2\n",
        "\n",
        "Faça um Programa que peça o raio de um círculo, calcule e mostre sua área.\n",
        "Dica: para usar o valor de $\\pi$, pesquise por `math.pi`."
      ]
    },
    {
      "cell_type": "code",
      "execution_count": null,
      "id": "407e7f33",
      "metadata": {
        "deletable": false,
        "id": "407e7f33",
        "nbgrader": {
          "cell_type": "code",
          "checksum": "41ef7b01abeaa8d74e2893a5054fb644",
          "grade": true,
          "grade_id": "Exercicio2",
          "locked": false,
          "points": 1,
          "schema_version": 3,
          "solution": true,
          "task": false
        },
        "colab": {
          "base_uri": "https://localhost:8080/"
        },
        "outputId": "e57cfbd4-efd7-4a3a-b6e4-b809ba9d31cd"
      },
      "outputs": [
        {
          "output_type": "stream",
          "name": "stdout",
          "text": [
            "Digite o raio do círculo: 43\n",
            "A área de um círculo de raio 43.0 é 5808.80m².\n"
          ]
        }
      ],
      "source": [
        "pi = 3.141592653589793\n",
        "raio = float(input(\"Digite o raio do círculo: \"))\n",
        "area = pi * (raio ** 2)\n",
        "print(f\"A área de um círculo de raio {raio} é {area:.2f}m².\")\n",
        "\n"
      ]
    },
    {
      "cell_type": "markdown",
      "id": "868cfe1c",
      "metadata": {
        "deletable": false,
        "editable": false,
        "id": "868cfe1c",
        "nbgrader": {
          "cell_type": "markdown",
          "checksum": "83a396c8ae7ca1696f25c00d928c9d55",
          "grade": false,
          "grade_id": "Exercicio3-descricao",
          "locked": true,
          "schema_version": 3,
          "solution": false,
          "task": false
        }
      },
      "source": [
        "# Exercício 3\n",
        "\n",
        "Faça um Programa que peça 2 números inteiros e um número real. Calcule e mostre:\n",
        "\n",
        "   - o produto do dobro do primeiro com metade do segundo .\n",
        "   - a soma do triplo do primeiro com o terceiro.\n",
        "   - o terceiro elevado ao cubo. "
      ]
    },
    {
      "cell_type": "code",
      "execution_count": null,
      "id": "0f2c4944",
      "metadata": {
        "deletable": false,
        "id": "0f2c4944",
        "nbgrader": {
          "cell_type": "code",
          "checksum": "01db6a60d8afd153075785a9f8e10ea5",
          "grade": true,
          "grade_id": "Exercicio3",
          "locked": false,
          "points": 1,
          "schema_version": 3,
          "solution": true,
          "task": false
        },
        "colab": {
          "base_uri": "https://localhost:8080/"
        },
        "outputId": "a63e14e1-23c2-4d26-d63b-0e5c2743c626"
      },
      "outputs": [
        {
          "output_type": "stream",
          "name": "stdout",
          "text": [
            "Digite um numero inteiro: 2\n",
            "Digite outro numero inteiro: 5\n",
            "Digite um numero real: 3\n",
            "a: 10.0\n",
            "b: 9.0\n",
            "c: 27.0\n"
          ]
        }
      ],
      "source": [
        "n1 = int(input(\"Digite um numero inteiro: \"))\n",
        "n2 = int(input(\"Digite outro numero inteiro: \"))\n",
        "n3 = float(input(\"Digite um numero real: \"))\n",
        "a = (n1 * 2) * (n2 / 2)\n",
        "b = (n1 * 3) + n3\n",
        "c = n3 ** 3\n",
        "\n",
        "print(f\"a: {a}\\nb: {b}\\nc: {c}\")"
      ]
    },
    {
      "cell_type": "markdown",
      "id": "d3996f2c",
      "metadata": {
        "deletable": false,
        "editable": false,
        "id": "d3996f2c",
        "nbgrader": {
          "cell_type": "markdown",
          "checksum": "dbee5e0c5c9a02ca7b0fbcbf0c5018fd",
          "grade": false,
          "grade_id": "Exercicio4-descricao",
          "locked": true,
          "schema_version": 3,
          "solution": false,
          "task": false
        }
      },
      "source": [
        "# Exercício 4\n",
        "\n",
        "Faça um programa que pergunte quanto você ganha por hora e o número de horas trabalhadas na semana. Calcule e mostre o total do seu salário ao final de 4 semanas. "
      ]
    },
    {
      "cell_type": "code",
      "execution_count": null,
      "id": "5a307587",
      "metadata": {
        "deletable": false,
        "id": "5a307587",
        "nbgrader": {
          "cell_type": "code",
          "checksum": "e511551fc875680ccd9679f9b2c21414",
          "grade": true,
          "grade_id": "Exercicio4",
          "locked": false,
          "points": 1,
          "schema_version": 3,
          "solution": true,
          "task": false
        },
        "colab": {
          "base_uri": "https://localhost:8080/"
        },
        "outputId": "7dd3c168-dbca-4874-93b0-a7e6316512ab"
      },
      "outputs": [
        {
          "output_type": "stream",
          "name": "stdout",
          "text": [
            "Insira quantos reais você ganha por hora: 4\n",
            "Insira quantas horas você trabalha por semana: 5\n",
            "Você recebe no final de 4 semanas o total de R$ 80.00\n"
          ]
        }
      ],
      "source": [
        "sph = float(input(\"Insira quantos reais você ganha por hora: \"))\n",
        "h = int(input(\"Insira quantas horas você trabalha por semana: \"))\n",
        "st = sph * (h*4)\n",
        "print(f\"Você recebe no final de 4 semanas o total de R${st: .2f}\")\n",
        "\n",
        "\n"
      ]
    },
    {
      "cell_type": "markdown",
      "id": "d5088446",
      "metadata": {
        "deletable": false,
        "editable": false,
        "id": "d5088446",
        "nbgrader": {
          "cell_type": "markdown",
          "checksum": "c82b175f45419cc78a6f0efc08f9ab15",
          "grade": false,
          "grade_id": "Exercicio5-descricao",
          "locked": true,
          "schema_version": 3,
          "solution": false,
          "task": false
        }
      },
      "source": [
        "# Exercício 5\n",
        "\n",
        "Faça um programa que leia um número inteiro qualquer e que apresete, além do número informado, o seu antecessor e do seu sucessor."
      ]
    },
    {
      "cell_type": "code",
      "execution_count": null,
      "id": "a09fcc89",
      "metadata": {
        "deletable": false,
        "id": "a09fcc89",
        "nbgrader": {
          "cell_type": "code",
          "checksum": "9f693e117e3e2158f95ee76dc96292a0",
          "grade": true,
          "grade_id": "Exercicio5",
          "locked": false,
          "points": 1,
          "schema_version": 3,
          "solution": true,
          "task": false
        },
        "colab": {
          "base_uri": "https://localhost:8080/"
        },
        "outputId": "83f26288-0064-4282-dca1-5c8c00bde968"
      },
      "outputs": [
        {
          "output_type": "stream",
          "name": "stdout",
          "text": [
            "Digite um número inteiro 67\n",
            "O antecessor de '67' é '66', enquanto o seu sucessor é '68'\n"
          ]
        }
      ],
      "source": [
        "n1 = int(input(\"Digite um número inteiro \"))\n",
        "n2 = n1 - 1\n",
        "n3 = n1 + 1\n",
        "\n",
        "print(f\"O antecessor de '{n1}' é '{n2}', enquanto o seu sucessor é '{n3}'\")"
      ]
    },
    {
      "cell_type": "markdown",
      "id": "57a3fb31",
      "metadata": {
        "deletable": false,
        "editable": false,
        "id": "57a3fb31",
        "nbgrader": {
          "cell_type": "markdown",
          "checksum": "537bdb2e45ec13ee95cea397e02744f2",
          "grade": false,
          "grade_id": "Exercicio6-descricao",
          "locked": true,
          "schema_version": 3,
          "solution": false,
          "task": false
        }
      },
      "source": [
        "# Exercício 6\n",
        "\n",
        "Faça um programa que leia quatro notas, e seus respectivos pesos, e que apresente a média final simples e a média final ponderada."
      ]
    },
    {
      "cell_type": "code",
      "execution_count": null,
      "id": "10e12fd4",
      "metadata": {
        "deletable": false,
        "id": "10e12fd4",
        "nbgrader": {
          "cell_type": "code",
          "checksum": "ff1bbd3e5c18dc73d5e0328c41d74739",
          "grade": true,
          "grade_id": "Exercicio6",
          "locked": false,
          "points": 1,
          "schema_version": 3,
          "solution": true,
          "task": false
        },
        "colab": {
          "base_uri": "https://localhost:8080/"
        },
        "outputId": "ad180290-45b2-46ff-ec4b-94c678ae0e2b"
      },
      "outputs": [
        {
          "output_type": "stream",
          "name": "stdout",
          "text": [
            "Insira a sua primeira nota: 10\n",
            "Insira a sua segunda nota: 10\n",
            "Insira a sua terceira nota: 9\n",
            "Insira a sua quarta nota: 10\n",
            "Insira o peso da primeira nota: 1\n",
            "Insira o peso da segunda nota: 1\n",
            "Insira o peso da terceira nota: 6\n",
            "Insira o peso da quarta nota: 1\n",
            "A sua média final simples é 9.75, enquanto sua média final ponderada é 9.33\n"
          ]
        }
      ],
      "source": [
        "n1 = float(input(\"Insira a sua primeira nota: \"))\n",
        "n2 = float(input(\"Insira a sua segunda nota: \"))\n",
        "n3 = float(input(\"Insira a sua terceira nota: \"))\n",
        "n4 = float(input(\"Insira a sua quarta nota: \"))\n",
        "\n",
        "p1 = int(input(\"Insira o peso da primeira nota: \"))\n",
        "p2 = int(input(\"Insira o peso da segunda nota: \"))\n",
        "p3 = int(input(\"Insira o peso da terceira nota: \"))\n",
        "p4 = int(input(\"Insira o peso da quarta nota: \"))\n",
        "\n",
        "mf = (n1 + n2 + n3 + n4) / 4\n",
        "mp = ((n1 * p1) + (n2 * p2) + (n3 * p3) + (n4 * p4)) / (p1 + p2 + p3 + p4)\n",
        "\n",
        "print(f\"A sua média final simples é {mf:.2f}, enquanto sua média final ponderada é {mp:.2f}\")"
      ]
    },
    {
      "cell_type": "markdown",
      "id": "da81404d",
      "metadata": {
        "deletable": false,
        "editable": false,
        "id": "da81404d",
        "nbgrader": {
          "cell_type": "markdown",
          "checksum": "6f91f7198e36290a15c6547e839a5885",
          "grade": false,
          "grade_id": "Exercicio7-descricao",
          "locked": true,
          "schema_version": 3,
          "solution": false,
          "task": false
        }
      },
      "source": [
        "# Exercício 7\n",
        "\n",
        "Faça um programa para uma loja de tintas. O programa deverá pedir o tamanho em metros quadrados da área a ser pintada. Considere que a cobertura da tinta é de 1 litro para cada 12 metros quadrados e que a tinta é vendida em latas de 18 litros, que custam R$ 80,00. Informe ao usuário a quantidades de latas de tinta a serem compradas e o preço total. "
      ]
    },
    {
      "cell_type": "code",
      "execution_count": null,
      "id": "2a1f6a9c",
      "metadata": {
        "deletable": false,
        "id": "2a1f6a9c",
        "nbgrader": {
          "cell_type": "code",
          "checksum": "0b356a405bcdf2f889a9a95d9a196d61",
          "grade": true,
          "grade_id": "Exercicio7",
          "locked": false,
          "points": 2,
          "schema_version": 3,
          "solution": true,
          "task": false
        },
        "outputId": "897bbc50-8f38-48a5-8b0c-f402bdac2e5a",
        "colab": {
          "base_uri": "https://localhost:8080/"
        }
      },
      "outputs": [
        {
          "output_type": "stream",
          "name": "stdout",
          "text": [
            "Digite quantos metros quadrados você vai pintar: 217\n",
            "Você precisa comprar 2 lata(s) ao preço de R$160.00\n"
          ]
        }
      ],
      "source": [
        "import math\n",
        "\n",
        "metros_quadrados = float(\n",
        "    input(\"Digite quantos metros quadrados você vai pintar: \")\n",
        ")\n",
        "latas = math.ceil (metros_quadrados / 216)\n",
        "preco = latas * 80\n",
        "print(f\"Você precisa comprar {latas} lata(s) ao preço de R${preco:.2f}\")"
      ]
    },
    {
      "cell_type": "markdown",
      "id": "79eca3d1",
      "metadata": {
        "deletable": false,
        "editable": false,
        "id": "79eca3d1",
        "nbgrader": {
          "cell_type": "markdown",
          "checksum": "e44b2f3971c79d43c75c12bce821c4d9",
          "grade": false,
          "grade_id": "Exercicio8-descricao",
          "locked": true,
          "schema_version": 3,
          "solution": false,
          "task": false
        }
      },
      "source": [
        "# Exercício 8\n",
        "\n",
        "Faça um Programa para uma loja de tintas. O programa deverá pedir o tamanho em metros quadrados da área a ser pintada. Considere que a cobertura da tinta é de 1 litro para cada 12 metros quadrados e que a tinta é vendida em latas de 18 litros, que custam R$ 80,00 ou em galões de 3,6 litros, que custam R$ 25,00.\n",
        "\n",
        "Informe ao usuário as quantidades de tinta a serem compradas e os respectivos preços em 3 situações:\n",
        "\n",
        "    - comprar apenas latas de 18 litros;\n",
        "    - comprar apenas galões de 3,6 litros;\n",
        "    - misturar latas e galões, de forma que o desperdício de tinta seja menor. \n",
        "    \n",
        "Acrescente 10% de folga nos três casos (isto é, você deve adicionar 10% sobre o total de litros de tinta necessário) e sempre arredonde os valores para cima, isto é, considere latas cheias. \n",
        "\n"
      ]
    },
    {
      "cell_type": "code",
      "execution_count": null,
      "id": "54c1e741",
      "metadata": {
        "deletable": false,
        "id": "54c1e741",
        "nbgrader": {
          "cell_type": "code",
          "checksum": "8f12ca6f898fe140e2eb04c84fc6c8f3",
          "grade": true,
          "grade_id": "Exercicio8",
          "locked": false,
          "points": 2,
          "schema_version": 3,
          "solution": true,
          "task": false
        },
        "colab": {
          "base_uri": "https://localhost:8080/"
        },
        "outputId": "db7e8b15-a1b2-4f92-ddd5-bb111512cadc"
      },
      "outputs": [
        {
          "output_type": "stream",
          "name": "stdout",
          "text": [
            "Digite a quantidade de m² que irá ser pintado: 1534\n",
            "O total de litros que será consumido é:  140.62L\n",
            "O total de galoes que será usado é:  40\n",
            "O preço em galoes é: R$  1000.00\n",
            "O total de latas que será usado é:  8\n",
            "O preço em latas é: R$ 640.00\n",
            "A quantidade total com o menor desperdício de tinta é: \n",
            "total galoes: 39\n",
            "total latas: 1\n",
            "total misto: 40\n",
            "valor total de galoes e latas é: R$ 1055.00\n"
          ]
        }
      ],
      "source": [
        "import math\n",
        "\n",
        "m2litro = 12\n",
        "latapreco = 80\n",
        "latalitro = 18\n",
        "galaopreco = 25\n",
        "galaolitro = 3.6\n",
        "folga = 1.1\n",
        "\n",
        "m2 = float(input(\"Digite a quantidade de m² que irá ser pintado: \"))\n",
        "\n",
        "total_litro = m2 / m2litro * folga\n",
        "\n",
        "galao_sozinho = math.ceil(total_litro / galaolitro)\n",
        "valor_galao = galao_sozinho * galaopreco\n",
        "\n",
        "lata_sozinho = math.ceil(total_litro / latalitro)\n",
        "valor_lata = lata_sozinho * latapreco\n",
        "\n",
        "galao_misto = total_litro // galaolitro\n",
        "lata_misto = math.ceil((total_litro - galao_misto * galaolitro) / latalitro)\n",
        "preco_galao_misto = galao_misto * galaopreco\n",
        "preco_lata_misto = lata_misto * latapreco\n",
        "\n",
        "print(f\"O total de litros que será consumido é: {total_litro: .2f}L\")\n",
        "print(f\"O total de galoes que será usado é: {galao_sozinho: .0f}\")\n",
        "print(f\"O preço em galoes é: R$ {valor_galao: .2f}\")\n",
        "print(f\"O total de latas que será usado é: {lata_sozinho: .0f}\")\n",
        "print(f\"O preço em latas é: R$ {valor_lata:.2f}\")\n",
        "print(\"A quantidade total com o menor desperdício de tinta é: \")\n",
        "print(f\"total galoes: {galao_misto:.0f}\")\n",
        "print(f\"total latas: {lata_misto:.0f}\")\n",
        "print(f\"total misto: {galao_misto + lata_misto:.0f}\")\n",
        "print(f\"valor total de galoes e latas é: R$ {preco_galao_misto + preco_lata_misto:.2f}\")\n"
      ]
    }
  ],
  "metadata": {
    "colab": {
      "name": "Cópia de Semana1 (1).ipynb",
      "provenance": [],
      "collapsed_sections": []
    },
    "kernelspec": {
      "display_name": "Python 3 (ipykernel)",
      "language": "python",
      "name": "python3"
    },
    "language_info": {
      "codemirror_mode": {
        "name": "ipython",
        "version": 3
      },
      "file_extension": ".py",
      "mimetype": "text/x-python",
      "name": "python",
      "nbconvert_exporter": "python",
      "pygments_lexer": "ipython3",
      "version": "3.9.12"
    }
  },
  "nbformat": 4,
  "nbformat_minor": 5
}