{
  "cells": [
    {
      "cell_type": "markdown",
      "id": "d4a1d469",
      "metadata": {
        "id": "d4a1d469"
      },
      "source": [
        "# Instruções\n",
        "\n",
        "- Antes de resolver esses exercícios, certifique-se que a configuração está correta (Python 3).\n",
        "\n",
        "- Se estiver usando o Colab, faça uma cópia deste notebook antes de começar a repondê-lo.\n",
        "\n",
        "![](http://professor.ufabc.edu.br/~ronaldo.prati/colab.png)\n",
        "\n",
        "- Lembre-se de manter o nome do caderno com o mesmo nome original.\n",
        "\n",
        "- Não apague nem introduza novas células neste notebook.\n",
        "\n",
        "- Certifique-se que você preencheu todos os lugares que dizem \\\"YOUR CODE HERE\\\" ou \\\"YOUR ANSWER HERE\\\". Substitutua essa linha e também a linha `raise NotImplementedError()` pelo seu código.\n",
        "\n",
        "- Depois de resolver os exercícios, para enviar a atividade, salve o notebook e o envie pelo moodle da disciplina. No colab, para exportar o notebook localmente, acesse `File->Download->Download .ipynb` ou `Arquivo->Baixar->Baixar .ipynb`\n",
        "\n",
        "![](http://professor.ufabc.edu.br/~ronaldo.prati/submit.png)"
      ]
    },
    {
      "cell_type": "markdown",
      "id": "5f82cbf3",
      "metadata": {
        "deletable": false,
        "editable": false,
        "nbgrader": {
          "cell_type": "markdown",
          "checksum": "f1f911b3ba8050e102209c62c8db3f57",
          "grade": false,
          "grade_id": "Exercicio1-descricao",
          "locked": true,
          "schema_version": 3,
          "solution": false,
          "task": false
        },
        "id": "5f82cbf3"
      },
      "source": [
        "# Exercício 1\n",
        "\n",
        "Faça um programa que peça um número e armazene-o em uma variável. A seguir, mostre a mensagem \"O número informado foi [número]\""
      ]
    },
    {
      "cell_type": "code",
      "execution_count": 2,
      "id": "98f0fd7a",
      "metadata": {
        "deletable": false,
        "nbgrader": {
          "cell_type": "code",
          "checksum": "74fb8b9b0c1978c0db15aa13a5696150",
          "grade": true,
          "grade_id": "Exercicio1",
          "locked": false,
          "points": 1,
          "schema_version": 3,
          "solution": true,
          "task": false
        },
        "id": "98f0fd7a",
        "colab": {
          "base_uri": "https://localhost:8080/"
        },
        "outputId": "51a0a866-6dc6-47e7-81e8-1006cbb665fe"
      },
      "outputs": [
        {
          "output_type": "stream",
          "name": "stdout",
          "text": [
            "Digite o valor de x: 10\n",
            "O número informado foi 10.0\n"
          ]
        }
      ],
      "source": [
        "x = float(input(\"Digite o valor de x: \"))\n",
        "print(\"O número informado foi\" , x)"
      ]
    },
    {
      "cell_type": "markdown",
      "id": "dd8c0af2",
      "metadata": {
        "deletable": false,
        "editable": false,
        "nbgrader": {
          "cell_type": "markdown",
          "checksum": "e1645b130e5fd8363c5a31803d8a6730",
          "grade": false,
          "grade_id": "Exercicio2-descricao",
          "locked": true,
          "schema_version": 3,
          "solution": false,
          "task": false
        },
        "id": "dd8c0af2"
      },
      "source": [
        "# Exercício 2\n",
        "\n",
        "Faça um Programa que peça o raio de um círculo, calcule e mostre sua área.\n",
        "Dica: para usar o valor de $\\pi$, pesquise por `math.pi`."
      ]
    },
    {
      "cell_type": "code",
      "execution_count": 14,
      "id": "407e7f33",
      "metadata": {
        "deletable": false,
        "nbgrader": {
          "cell_type": "code",
          "checksum": "41ef7b01abeaa8d74e2893a5054fb644",
          "grade": true,
          "grade_id": "Exercicio2",
          "locked": false,
          "points": 1,
          "schema_version": 3,
          "solution": true,
          "task": false
        },
        "id": "407e7f33",
        "colab": {
          "base_uri": "https://localhost:8080/"
        },
        "outputId": "388259e6-53e9-413f-d6f5-fcc0a2c98be1"
      },
      "outputs": [
        {
          "output_type": "stream",
          "name": "stdout",
          "text": [
            "Raio do círculo: 8\n",
            "r = 8.0\n",
            "Área do cículo de raio r = 201.06192982974676\n"
          ]
        }
      ],
      "source": [
        "import math\n",
        "r = float(input(\"Raio do círculo: \"))\n",
        "print(\"r =\" , r)\n",
        "área = math.pi*r**2\n",
        "print(\"Área do cículo de raio r =\" , área)"
      ]
    },
    {
      "cell_type": "markdown",
      "id": "868cfe1c",
      "metadata": {
        "deletable": false,
        "editable": false,
        "nbgrader": {
          "cell_type": "markdown",
          "checksum": "83a396c8ae7ca1696f25c00d928c9d55",
          "grade": false,
          "grade_id": "Exercicio3-descricao",
          "locked": true,
          "schema_version": 3,
          "solution": false,
          "task": false
        },
        "id": "868cfe1c"
      },
      "source": [
        "# Exercício 3\n",
        "\n",
        "Faça um Programa que peça 2 números inteiros e um número real. Calcule e mostre:\n",
        "\n",
        "   - o produto do dobro do primeiro com metade do segundo .\n",
        "   - a soma do triplo do primeiro com o terceiro.\n",
        "   - o terceiro elevado ao cubo. "
      ]
    },
    {
      "cell_type": "code",
      "execution_count": 22,
      "id": "0f2c4944",
      "metadata": {
        "deletable": false,
        "nbgrader": {
          "cell_type": "code",
          "checksum": "01db6a60d8afd153075785a9f8e10ea5",
          "grade": true,
          "grade_id": "Exercicio3",
          "locked": false,
          "points": 1,
          "schema_version": 3,
          "solution": true,
          "task": false
        },
        "id": "0f2c4944",
        "colab": {
          "base_uri": "https://localhost:8080/"
        },
        "outputId": "0aecb996-bd84-44d9-eb17-831dbc8296db"
      },
      "outputs": [
        {
          "output_type": "stream",
          "name": "stdout",
          "text": [
            "Escolha um número Inteiro: 2\n",
            "Escolha um número Inteiro: 4\n",
            "Escolha um número Real: 3.16\n",
            "a = 2.0\n",
            "b = 4.0\n",
            "c = 3.16\n",
            "Cáculo 1 = 8.0\n",
            "Cáculo 2 = 9.16\n",
            "Cáculo 3 = 31.554496000000004\n"
          ]
        }
      ],
      "source": [
        "a = float(input(\"Escolha um número Inteiro: \"))\n",
        "b = float(input(\"Escolha um número Inteiro: \"))\n",
        "c = float(input(\"Escolha um número Real: \"))\n",
        "print(\"a =\", a)\n",
        "print(\"b =\", b)\n",
        "print(\"c =\", c)\n",
        "print(\"Cáculo 1 =\" ,(2*a)*(b//2))\n",
        "print(\"Cáculo 2 =\" ,3*a+c)\n",
        "print(\"Cáculo 3 =\" ,c**3)"
      ]
    },
    {
      "cell_type": "markdown",
      "id": "d3996f2c",
      "metadata": {
        "deletable": false,
        "editable": false,
        "nbgrader": {
          "cell_type": "markdown",
          "checksum": "dbee5e0c5c9a02ca7b0fbcbf0c5018fd",
          "grade": false,
          "grade_id": "Exercicio4-descricao",
          "locked": true,
          "schema_version": 3,
          "solution": false,
          "task": false
        },
        "id": "d3996f2c"
      },
      "source": [
        "# Exercício 4\n",
        "\n",
        "Faça um programa que pergunte quanto você ganha por hora e o número de horas trabalhadas na semana. Calcule e mostre o total do seu salário ao final de 4 semanas. "
      ]
    },
    {
      "cell_type": "code",
      "execution_count": 29,
      "id": "5a307587",
      "metadata": {
        "deletable": false,
        "nbgrader": {
          "cell_type": "code",
          "checksum": "e511551fc875680ccd9679f9b2c21414",
          "grade": true,
          "grade_id": "Exercicio4",
          "locked": false,
          "points": 1,
          "schema_version": 3,
          "solution": true,
          "task": false
        },
        "id": "5a307587",
        "colab": {
          "base_uri": "https://localhost:8080/"
        },
        "outputId": "e6395650-3431-4018-c696-ee16028ea00a"
      },
      "outputs": [
        {
          "output_type": "stream",
          "name": "stdout",
          "text": [
            "Quanto você ganha por hora?: 20\n",
            "Quanto horas por semana você trabalha?: 40\n",
            "Ganho por hora: 20 reais\n",
            "Horas semanais: 40 horas\n",
            "Salario = 3200 reais\n"
          ]
        }
      ],
      "source": [
        "g = float(input(\"Quanto você ganha por hora?: \"))\n",
        "h = float(input(\"Quanto horas por semana você trabalha?: \"))\n",
        "print(\"Ganho por hora:\" , int(g) , \"reais\")\n",
        "print(\"Horas semanais:\" , int(h), \"horas\")\n",
        "print(\"Salario =\" , int(4*g*h) , \"reais\" )"
      ]
    },
    {
      "cell_type": "markdown",
      "id": "d5088446",
      "metadata": {
        "deletable": false,
        "editable": false,
        "nbgrader": {
          "cell_type": "markdown",
          "checksum": "c82b175f45419cc78a6f0efc08f9ab15",
          "grade": false,
          "grade_id": "Exercicio5-descricao",
          "locked": true,
          "schema_version": 3,
          "solution": false,
          "task": false
        },
        "id": "d5088446"
      },
      "source": [
        "# Exercício 5\n",
        "\n",
        "Faça um programa que leia um número inteiro qualquer e que apresete, além do número informado, o seu antecessor e do seu sucessor."
      ]
    },
    {
      "cell_type": "code",
      "execution_count": 31,
      "id": "a09fcc89",
      "metadata": {
        "deletable": false,
        "nbgrader": {
          "cell_type": "code",
          "checksum": "9f693e117e3e2158f95ee76dc96292a0",
          "grade": true,
          "grade_id": "Exercicio5",
          "locked": false,
          "points": 1,
          "schema_version": 3,
          "solution": true,
          "task": false
        },
        "id": "a09fcc89",
        "colab": {
          "base_uri": "https://localhost:8080/"
        },
        "outputId": "cd259099-368c-4581-df95-f178d214c792"
      },
      "outputs": [
        {
          "output_type": "stream",
          "name": "stdout",
          "text": [
            "Número inteiro: 10\n",
            "a = 10.0\n",
            "Antecessor de a = 9.0\n",
            "Sucessor de a = 11.0\n"
          ]
        }
      ],
      "source": [
        "a = float(input(\"Número inteiro: \"))\n",
        "print(\"a =\" , a)\n",
        "print(\"Antecessor de a =\", a-1)\n",
        "print(\"Sucessor de a =\", a+1)"
      ]
    },
    {
      "cell_type": "markdown",
      "id": "57a3fb31",
      "metadata": {
        "deletable": false,
        "editable": false,
        "nbgrader": {
          "cell_type": "markdown",
          "checksum": "537bdb2e45ec13ee95cea397e02744f2",
          "grade": false,
          "grade_id": "Exercicio6-descricao",
          "locked": true,
          "schema_version": 3,
          "solution": false,
          "task": false
        },
        "id": "57a3fb31"
      },
      "source": [
        "# Exercício 6\n",
        "\n",
        "Faça um programa que leia quatro notas, e seus respectivos pesos, e que apresente a média final simples e a média final ponderada."
      ]
    },
    {
      "cell_type": "code",
      "execution_count": 35,
      "id": "10e12fd4",
      "metadata": {
        "deletable": false,
        "nbgrader": {
          "cell_type": "code",
          "checksum": "ff1bbd3e5c18dc73d5e0328c41d74739",
          "grade": true,
          "grade_id": "Exercicio6",
          "locked": false,
          "points": 1,
          "schema_version": 3,
          "solution": true,
          "task": false
        },
        "id": "10e12fd4",
        "colab": {
          "base_uri": "https://localhost:8080/"
        },
        "outputId": "2efc6ab2-d6ed-4df6-a45c-1f7d164221c7"
      },
      "outputs": [
        {
          "output_type": "stream",
          "name": "stdout",
          "text": [
            "Primeiro nota: 6\n",
            "Segunda nota: 9\n",
            "Peso da primeira nota: 60\n",
            "Peso da segunda nota: 40\n",
            "A média simples é:  7.5\n",
            "A média ponderada é: 7.2\n"
          ]
        }
      ],
      "source": [
        "n1 = float(input(\"Primeiro nota: \"))\n",
        "n2 = float(input(\"Segunda nota: \"))\n",
        "p1 = float(input(\"Peso da primeira nota: \"))\n",
        "p2 = float(input(\"Peso da segunda nota: \"))\n",
        "ms = ( n1 + n2 )/2\n",
        "mp = ( p1*n1 + p2*n2 )/(p1 + p2)\n",
        "\n",
        "print(\"A média simples é: \", ms)\n",
        "print(\"A média ponderada é:\" , mp)"
      ]
    },
    {
      "cell_type": "markdown",
      "id": "da81404d",
      "metadata": {
        "deletable": false,
        "editable": false,
        "nbgrader": {
          "cell_type": "markdown",
          "checksum": "6f91f7198e36290a15c6547e839a5885",
          "grade": false,
          "grade_id": "Exercicio7-descricao",
          "locked": true,
          "schema_version": 3,
          "solution": false,
          "task": false
        },
        "id": "da81404d"
      },
      "source": [
        "# Exercício 7\n",
        "\n",
        "Faça um programa para uma loja de tintas. O programa deverá pedir o tamanho em metros quadrados da área a ser pintada. Considere que a cobertura da tinta é de 1 litro para cada 12 metros quadrados e que a tinta é vendida em latas de 18 litros, que custam R$ 80,00. Informe ao usuário a quantidades de latas de tinta a serem compradas e o preço total. "
      ]
    },
    {
      "cell_type": "code",
      "execution_count": 59,
      "id": "2a1f6a9c",
      "metadata": {
        "deletable": false,
        "nbgrader": {
          "cell_type": "code",
          "checksum": "0b356a405bcdf2f889a9a95d9a196d61",
          "grade": true,
          "grade_id": "Exercicio7",
          "locked": false,
          "points": 2,
          "schema_version": 3,
          "solution": true,
          "task": false
        },
        "id": "2a1f6a9c",
        "colab": {
          "base_uri": "https://localhost:8080/"
        },
        "outputId": "2a763aec-d208-4d53-89ad-c54fa6357d17"
      },
      "outputs": [
        {
          "output_type": "stream",
          "name": "stdout",
          "text": [
            "Metros quadrados da área a ser pintada: 1200\n",
            "Área a ser pintada: 1200 metros quadrados\n",
            "Quantidade de latas de tinta a serem compradas: 6 latas\n",
            "Preço total a ser pago: 480 reais\n"
          ]
        }
      ],
      "source": [
        "m = float(input(\"Metros quadrados da área a ser pintada: \"))\n",
        "print(\"Área a ser pintada:\", int(m) , \"metros quadrados\")\n",
        "l = m/12\n",
        "r = 18\n",
        "L = math.ceil(l/r)\n",
        "print(\"Quantidade de latas de tinta a serem compradas:\" , L , \"latas\")\n",
        "cu = 80\n",
        "ct = L*cu\n",
        "print(\"Preço total a ser pago:\", ct, \"reais\")"
      ]
    },
    {
      "cell_type": "markdown",
      "id": "79eca3d1",
      "metadata": {
        "deletable": false,
        "editable": false,
        "nbgrader": {
          "cell_type": "markdown",
          "checksum": "e44b2f3971c79d43c75c12bce821c4d9",
          "grade": false,
          "grade_id": "Exercicio8-descricao",
          "locked": true,
          "schema_version": 3,
          "solution": false,
          "task": false
        },
        "id": "79eca3d1"
      },
      "source": [
        "# Exercício 8\n",
        "\n",
        "Faça um Programa para uma loja de tintas. O programa deverá pedir o tamanho em metros quadrados da área a ser pintada. Considere que a cobertura da tinta é de 1 litro para cada 12 metros quadrados e que a tinta é vendida em latas de 18 litros, que custam R$ 80,00 ou em galões de 3,6 litros, que custam R$ 25,00.\n",
        "\n",
        "Informe ao usuário as quantidades de tinta a serem compradas e os respectivos preços em 3 situações:\n",
        "\n",
        "    - comprar apenas latas de 18 litros;\n",
        "    - comprar apenas galões de 3,6 litros;\n",
        "    - misturar latas e galões, de forma que o desperdício de tinta seja menor. \n",
        "    \n",
        "Acrescente 10% de folga nos três casos (isto é, você deve adicionar 10% sobre o total de litros de tinta necessário) e sempre arredonde os valores para cima, isto é, considere latas cheias. \n",
        "\n"
      ]
    },
    {
      "cell_type": "code",
      "execution_count": 73,
      "id": "54c1e741",
      "metadata": {
        "deletable": false,
        "nbgrader": {
          "cell_type": "code",
          "checksum": "8f12ca6f898fe140e2eb04c84fc6c8f3",
          "grade": true,
          "grade_id": "Exercicio8",
          "locked": false,
          "points": 2,
          "schema_version": 3,
          "solution": true,
          "task": false
        },
        "id": "54c1e741",
        "colab": {
          "base_uri": "https://localhost:8080/"
        },
        "outputId": "e41bb1ac-9797-4a93-b4a4-ec484747d279"
      },
      "outputs": [
        {
          "output_type": "stream",
          "name": "stdout",
          "text": [
            "Metros quadrados da área a ser pintada: 1200\n",
            "Área a ser pintada: 1200.0 metros quadrados\n",
            "Caso 1:\n",
            "Quantidade de latas de tinta a serem compradas: 7 latas\n",
            "Preço total a ser pago: 560 reais\n",
            "Caso 2:\n",
            "Quantidade de galões de tinta a serem comprados: 31 galões\n",
            "Preço total a ser pago: 775 reais\n",
            "Caso 3:\n",
            "Total de litros necessários: 110\n",
            "Para menor desperdício deve se comprar:\n",
            "6 latas e 1 galões\n",
            "E pagar um total de: 505 reais\n"
          ]
        }
      ],
      "source": [
        "m = float(input(\"Metros quadrados da área a ser pintada: \"))\n",
        "print(\"Área a ser pintada:\", m , \"metros quadrados\")\n",
        "\n",
        "print(\"Caso 1:\")\n",
        "l1 = (m/12)*1.1\n",
        "r1 = 18\n",
        "L1 = math.ceil(l1/r1)\n",
        "print(\"Quantidade de latas de tinta a serem compradas:\" , L1 , \"latas\")\n",
        "cu1 = 80\n",
        "ct1 = cu1*L1\n",
        "print(\"Preço total a ser pago:\", ct1, \"reais\")\n",
        "\n",
        "print(\"Caso 2:\")\n",
        "l2 = (m/12)*1.1\n",
        "r2 = 3.6\n",
        "L2 = math.ceil(l2/r2)\n",
        "print(\"Quantidade de galões de tinta a serem comprados:\" , L2 , \"galões\")\n",
        "cu2 = 25\n",
        "ct2 = cu2*L2\n",
        "print(\"Preço total a ser pago:\", ct2, \"reais\")\n",
        "\n",
        "print(\"Caso 3:\")\n",
        "l3 = (m/12)*1.1\n",
        "print(\"Total de litros necessários:\" , int(l3))\n",
        "print(\"Para menor desperdício deve se comprar:\")\n",
        "L = l1//r1\n",
        "R = int(l1%r1)\n",
        "G = math.ceil(R/r2)\n",
        "print( int(L) , \"latas e\", G ,\"galões\")\n",
        "print(\"E pagar um total de:\", int((L*cu1)+(G*cu2)) , \"reais\")"
      ]
    }
  ],
  "metadata": {
    "kernelspec": {
      "display_name": "Python 3 (ipykernel)",
      "language": "python",
      "name": "python3"
    },
    "language_info": {
      "codemirror_mode": {
        "name": "ipython",
        "version": 3
      },
      "file_extension": ".py",
      "mimetype": "text/x-python",
      "name": "python",
      "nbconvert_exporter": "python",
      "pygments_lexer": "ipython3",
      "version": "3.9.7"
    },
    "colab": {
      "name": "Semana1.ipynb",
      "provenance": []
    }
  },
  "nbformat": 4,
  "nbformat_minor": 5
}