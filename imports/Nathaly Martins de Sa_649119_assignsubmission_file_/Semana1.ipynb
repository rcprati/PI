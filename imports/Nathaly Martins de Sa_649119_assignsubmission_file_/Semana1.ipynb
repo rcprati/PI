{
  "cells": [
    {
      "cell_type": "markdown",
      "id": "d4a1d469",
      "metadata": {
        "id": "d4a1d469"
      },
      "source": [
        "# Instruções\n",
        "\n",
        "- Antes de resolver esses exercícios, certifique-se que a configuração está correta (Python 3).\n",
        "\n",
        "- Se estiver usando o Colab, faça uma cópia deste notebook antes de começar a repondê-lo.\n",
        "\n",
        "![](http://professor.ufabc.edu.br/~ronaldo.prati/colab.png)\n",
        "\n",
        "- Lembre-se de manter o nome do caderno com o mesmo nome original.\n",
        "\n",
        "- Não apague nem introduza novas células neste notebook.\n",
        "\n",
        "- Certifique-se que você preencheu todos os lugares que dizem \\\"YOUR CODE HERE\\\" ou \\\"YOUR ANSWER HERE\\\". Substitutua essa linha e também a linha `raise NotImplementedError()` pelo seu código.\n",
        "\n",
        "- Depois de resolver os exercícios, para enviar a atividade, salve o notebook e o envie pelo moodle da disciplina. No colab, para exportar o notebook localmente, acesse `File->Download->Download .ipynb` ou `Arquivo->Baixar->Baixar .ipynb`\n",
        "\n",
        "![](http://professor.ufabc.edu.br/~ronaldo.prati/submit.png)"
      ]
    },
    {
      "cell_type": "markdown",
      "id": "5f82cbf3",
      "metadata": {
        "deletable": false,
        "editable": false,
        "nbgrader": {
          "cell_type": "markdown",
          "checksum": "f1f911b3ba8050e102209c62c8db3f57",
          "grade": false,
          "grade_id": "Exercicio1-descricao",
          "locked": true,
          "schema_version": 3,
          "solution": false,
          "task": false
        },
        "id": "5f82cbf3"
      },
      "source": [
        "# Exercício 1\n",
        "\n",
        "Faça um programa que peça um número e armazene-o em uma variável. A seguir, mostre a mensagem \"O número informado foi [número]\""
      ]
    },
    {
      "cell_type": "code",
      "execution_count": 3,
      "id": "98f0fd7a",
      "metadata": {
        "deletable": false,
        "nbgrader": {
          "cell_type": "code",
          "checksum": "74fb8b9b0c1978c0db15aa13a5696150",
          "grade": true,
          "grade_id": "Exercicio1",
          "locked": false,
          "points": 1,
          "schema_version": 3,
          "solution": true,
          "task": false
        },
        "id": "98f0fd7a",
        "colab": {
          "base_uri": "https://localhost:8080/"
        },
        "outputId": "7ab66352-f1e0-4b9e-b942-2e3a8417c027"
      },
      "outputs": [
        {
          "output_type": "stream",
          "name": "stdout",
          "text": [
            "Esreva um número: 8\n",
            "O número informado foi 8.0\n"
          ]
        }
      ],
      "source": [
        "N = float(input(\"Insira um número: \"))\n",
        "print ('O número informado foi', N)"
      ]
    },
    {
      "cell_type": "markdown",
      "id": "dd8c0af2",
      "metadata": {
        "deletable": false,
        "editable": false,
        "nbgrader": {
          "cell_type": "markdown",
          "checksum": "e1645b130e5fd8363c5a31803d8a6730",
          "grade": false,
          "grade_id": "Exercicio2-descricao",
          "locked": true,
          "schema_version": 3,
          "solution": false,
          "task": false
        },
        "id": "dd8c0af2"
      },
      "source": [
        "# Exercício 2\n",
        "\n",
        "Faça um Programa que peça o raio de um círculo, calcule e mostre sua área.\n",
        "Dica: para usar o valor de $\\pi$, pesquise por `math.pi`."
      ]
    },
    {
      "cell_type": "code",
      "execution_count": 4,
      "id": "407e7f33",
      "metadata": {
        "deletable": false,
        "nbgrader": {
          "cell_type": "code",
          "checksum": "41ef7b01abeaa8d74e2893a5054fb644",
          "grade": true,
          "grade_id": "Exercicio2",
          "locked": false,
          "points": 1,
          "schema_version": 3,
          "solution": true,
          "task": false
        },
        "id": "407e7f33",
        "colab": {
          "base_uri": "https://localhost:8080/"
        },
        "outputId": "187be46e-4348-4b3c-9608-bd0cec8b1e68"
      },
      "outputs": [
        {
          "output_type": "stream",
          "name": "stdout",
          "text": [
            "Informe o raio de um círculo: 4\n",
            "A área desse círculo é de 50.26548245743669\n"
          ]
        }
      ],
      "source": [
        "import math\n",
        "\n",
        "r = float(input(\"Informe o raio de um círculo: \"))\n",
        "A = math.pi * r**2\n",
        "print ('A área desse círculo é de', A)"
      ]
    },
    {
      "cell_type": "markdown",
      "id": "868cfe1c",
      "metadata": {
        "deletable": false,
        "editable": false,
        "nbgrader": {
          "cell_type": "markdown",
          "checksum": "83a396c8ae7ca1696f25c00d928c9d55",
          "grade": false,
          "grade_id": "Exercicio3-descricao",
          "locked": true,
          "schema_version": 3,
          "solution": false,
          "task": false
        },
        "id": "868cfe1c"
      },
      "source": [
        "# Exercício 3\n",
        "\n",
        "Faça um Programa que peça 2 números inteiros e um número real. Calcule e mostre:\n",
        "\n",
        "   - o produto do dobro do primeiro com metade do segundo .\n",
        "   - a soma do triplo do primeiro com o terceiro.\n",
        "   - o terceiro elevado ao cubo. "
      ]
    },
    {
      "cell_type": "code",
      "execution_count": 13,
      "id": "0f2c4944",
      "metadata": {
        "deletable": false,
        "nbgrader": {
          "cell_type": "code",
          "checksum": "01db6a60d8afd153075785a9f8e10ea5",
          "grade": true,
          "grade_id": "Exercicio3",
          "locked": false,
          "points": 1,
          "schema_version": 3,
          "solution": true,
          "task": false
        },
        "id": "0f2c4944",
        "colab": {
          "base_uri": "https://localhost:8080/"
        },
        "outputId": "d1f933a3-90ce-468b-8034-faf1069035db"
      },
      "outputs": [
        {
          "output_type": "stream",
          "name": "stdout",
          "text": [
            "Escreva um número inteiro qualquer: 2\n",
            "Escreva um número inteiro qualquer: 3\n",
            "Escreva um número real qualquer: 1\n",
            "O produto do dobro do primeiro número com metade do segundo número é 6.0\n",
            "A soma do triplo do primeiro número com o terceiro número é 7.0\n",
            "o terceiro número elevado ao cubo é 1.0\n"
          ]
        }
      ],
      "source": [
        "a = int(input(\"Escreva um número inteiro qualquer: \"))\n",
        "b = int(input(\"Escreva um número inteiro qualquer: \"))\n",
        "c = float(input(\"Escreva um número real qualquer: \"))\n",
        "\n",
        "d = (a*2)*(b/2)\n",
        "print('O produto do dobro do primeiro número com metade do segundo número é', d)\n",
        "\n",
        "e = (a*3)+c\n",
        "print('A soma do triplo do primeiro número com o terceiro número é', e)\n",
        "\n",
        "f = c**3\n",
        "print('o terceiro número elevado ao cubo é', f)"
      ]
    },
    {
      "cell_type": "markdown",
      "id": "d3996f2c",
      "metadata": {
        "deletable": false,
        "editable": false,
        "nbgrader": {
          "cell_type": "markdown",
          "checksum": "dbee5e0c5c9a02ca7b0fbcbf0c5018fd",
          "grade": false,
          "grade_id": "Exercicio4-descricao",
          "locked": true,
          "schema_version": 3,
          "solution": false,
          "task": false
        },
        "id": "d3996f2c"
      },
      "source": [
        "# Exercício 4\n",
        "\n",
        "Faça um programa que pergunte quanto você ganha por hora e o número de horas trabalhadas na semana. Calcule e mostre o total do seu salário ao final de 4 semanas. "
      ]
    },
    {
      "cell_type": "code",
      "execution_count": 7,
      "id": "5a307587",
      "metadata": {
        "deletable": false,
        "nbgrader": {
          "cell_type": "code",
          "checksum": "e511551fc875680ccd9679f9b2c21414",
          "grade": true,
          "grade_id": "Exercicio4",
          "locked": false,
          "points": 1,
          "schema_version": 3,
          "solution": true,
          "task": false
        },
        "id": "5a307587",
        "colab": {
          "base_uri": "https://localhost:8080/"
        },
        "outputId": "6f659f2d-470d-481d-cf29-f0fbdb12b621"
      },
      "outputs": [
        {
          "output_type": "stream",
          "name": "stdout",
          "text": [
            "Informe o valor faturado por hora trabalhada: 2\n",
            "Informe a quantidade de horas trabalhadas semanalmente: 20\n",
            "O salário ao final de 4 semanas será de 160.0 reais\n"
          ]
        }
      ],
      "source": [
        "valor = float(input(\"Informe o valor faturado por hora trabalhada: \"))\n",
        "horas = float(input(\"Informe a quantidade de horas trabalhadas semanalmente: \"))\n",
        "\n",
        "salario = (valor*horas)*4\n",
        "print('O salário ao final de 4 semanas será de', salario, 'reais')"
      ]
    },
    {
      "cell_type": "markdown",
      "id": "d5088446",
      "metadata": {
        "deletable": false,
        "editable": false,
        "nbgrader": {
          "cell_type": "markdown",
          "checksum": "c82b175f45419cc78a6f0efc08f9ab15",
          "grade": false,
          "grade_id": "Exercicio5-descricao",
          "locked": true,
          "schema_version": 3,
          "solution": false,
          "task": false
        },
        "id": "d5088446"
      },
      "source": [
        "# Exercício 5\n",
        "\n",
        "Faça um programa que leia um número inteiro qualquer e que apresete, além do número informado, o seu antecessor e do seu sucessor."
      ]
    },
    {
      "cell_type": "code",
      "execution_count": 8,
      "id": "a09fcc89",
      "metadata": {
        "deletable": false,
        "nbgrader": {
          "cell_type": "code",
          "checksum": "9f693e117e3e2158f95ee76dc96292a0",
          "grade": true,
          "grade_id": "Exercicio5",
          "locked": false,
          "points": 1,
          "schema_version": 3,
          "solution": true,
          "task": false
        },
        "id": "a09fcc89",
        "colab": {
          "base_uri": "https://localhost:8080/"
        },
        "outputId": "71fc6f85-42be-4c47-f8af-03e5623da15b"
      },
      "outputs": [
        {
          "output_type": "stream",
          "name": "stdout",
          "text": [
            "Escreva um número inteiro qualquer: 10\n",
            "O número informado foi 10\n",
            "Sendo assim seu antecessor é 9 e seu sucessor é 11\n"
          ]
        }
      ],
      "source": [
        "a = int(input(\"Digite um número inteiro qualquer: \"))\n",
        "\n",
        "print('O número informado foi', a)\n",
        "print('Sendo assim seu antecessor é', a-1, 'e seu sucessor é', a+1)"
      ]
    },
    {
      "cell_type": "markdown",
      "id": "57a3fb31",
      "metadata": {
        "deletable": false,
        "editable": false,
        "nbgrader": {
          "cell_type": "markdown",
          "checksum": "537bdb2e45ec13ee95cea397e02744f2",
          "grade": false,
          "grade_id": "Exercicio6-descricao",
          "locked": true,
          "schema_version": 3,
          "solution": false,
          "task": false
        },
        "id": "57a3fb31"
      },
      "source": [
        "# Exercício 6\n",
        "\n",
        "Faça um programa que leia quatro notas, e seus respectivos pesos, e que apresente a média final simples e a média final ponderada."
      ]
    },
    {
      "cell_type": "code",
      "execution_count": 16,
      "id": "10e12fd4",
      "metadata": {
        "deletable": false,
        "nbgrader": {
          "cell_type": "code",
          "checksum": "ff1bbd3e5c18dc73d5e0328c41d74739",
          "grade": true,
          "grade_id": "Exercicio6",
          "locked": false,
          "points": 1,
          "schema_version": 3,
          "solution": true,
          "task": false
        },
        "id": "10e12fd4",
        "colab": {
          "base_uri": "https://localhost:8080/"
        },
        "outputId": "89c63005-18dd-4661-ee71-8d1ca92e2296"
      },
      "outputs": [
        {
          "output_type": "stream",
          "name": "stdout",
          "text": [
            "Insira a primeiro nota: 2\n",
            "Insira a segunda nota: 1\n",
            "Insira a terceira nota: 2\n",
            "Insira a quarta nota: 3\n",
            "Entre com o peso da primeira nota: 2\n",
            "Entre com o peso da segunda nota: 1\n",
            "Entre com o peso da terceira nota: 3\n",
            "Entre com o peso da quarta nota: 4\n",
            "A média final simples é de 2.0 e a média final ponderada é de 2.3\n"
          ]
        }
      ],
      "source": [
        "n1 = float(input(\"Insira a primeiro nota: \"))\n",
        "n2 = float(input(\"Insira a segunda nota: \"))\n",
        "n3 = float(input(\"Insira a terceira nota: \"))\n",
        "n4 = float(input(\"Insira a quarta nota: \"))\n",
        "\n",
        "w1 = float(input(\"Entre com o peso da primeira nota: \"))\n",
        "w2 = float(input(\"Entre com o peso da segunda nota: \"))\n",
        "w3 = float(input(\"Entre com o peso da terceira nota: \"))\n",
        "w4 = float(input(\"Entre com o peso da quarta nota: \"))\n",
        "\n",
        "media_simples = (n1+n2+n3+n4)/4\n",
        "media_ponderada = (w1*n1 + w2*n2 + w3*n3 + w4*n4)/(w1+w2+w3+w4)\n",
        "print(\"A média final simples é de\", media_simples, \"e a média final ponderada é de\", media_ponderada)"
      ]
    },
    {
      "cell_type": "markdown",
      "id": "da81404d",
      "metadata": {
        "deletable": false,
        "editable": false,
        "nbgrader": {
          "cell_type": "markdown",
          "checksum": "6f91f7198e36290a15c6547e839a5885",
          "grade": false,
          "grade_id": "Exercicio7-descricao",
          "locked": true,
          "schema_version": 3,
          "solution": false,
          "task": false
        },
        "id": "da81404d"
      },
      "source": [
        "# Exercício 7\n",
        "\n",
        "Faça um programa para uma loja de tintas. O programa deverá pedir o tamanho em metros quadrados da área a ser pintada. Considere que a cobertura da tinta é de 1 litro para cada 12 metros quadrados e que a tinta é vendida em latas de 18 litros, que custam R$ 80,00. Informe ao usuário a quantidades de latas de tinta a serem compradas e o preço total. "
      ]
    },
    {
      "cell_type": "code",
      "source": [
        "import math\n",
        "\n",
        "metros_quadrados = float(input(\"Informe o área a ser pintada, em metros quadrados: \"))\n",
        "litros = metros_quadrados / 12\n",
        "\n",
        "latas = math.ceil(litros / 18)\n",
        "valor = latas * 80\n",
        "print('Será(ão) necessária(s)', latas,'lata(s) de tinta e custará', valor, 'reais.')"
      ],
      "metadata": {
        "colab": {
          "base_uri": "https://localhost:8080/"
        },
        "id": "gEDHZ1ec2WOt",
        "outputId": "940f7172-026d-45ab-bfed-a3801b67747a"
      },
      "id": "gEDHZ1ec2WOt",
      "execution_count": 9,
      "outputs": [
        {
          "output_type": "stream",
          "name": "stdout",
          "text": [
            "Informe o área a ser pintada, em metros quadrados: 200\n",
            "Será(ão) necessária(s) adquirir 1 lata(s) de tinta e custará 80 reais.\n"
          ]
        }
      ]
    },
    {
      "cell_type": "markdown",
      "id": "79eca3d1",
      "metadata": {
        "deletable": false,
        "editable": false,
        "nbgrader": {
          "cell_type": "markdown",
          "checksum": "e44b2f3971c79d43c75c12bce821c4d9",
          "grade": false,
          "grade_id": "Exercicio8-descricao",
          "locked": true,
          "schema_version": 3,
          "solution": false,
          "task": false
        },
        "id": "79eca3d1"
      },
      "source": [
        "# Exercício 8\n",
        "\n",
        "Faça um Programa para uma loja de tintas. O programa deverá pedir o tamanho em metros quadrados da área a ser pintada. Considere que a cobertura da tinta é de 1 litro para cada 12 metros quadrados e que a tinta é vendida em latas de 18 litros, que custam 80,00 reais ou em galões de 3,6 litros, que custam 25,00 reais.\n",
        "\n",
        "Informe ao usuário as quantidades de tinta a serem compradas e os respectivos preços em 3 situações:\n",
        "\n",
        "    - comprar apenas latas de 18 litros;\n",
        "    - comprar apenas galões de 3,6 litros;\n",
        "    - misturar latas e galões, de forma que o desperdício de tinta seja menor. \n",
        "    \n",
        "Acrescente 10% de folga nos três casos (isto é, você deve adicionar 10% sobre o total de litros de tinta necessário) e sempre arredonde os valores para cima, isto é, considere latas cheias. \n",
        "\n"
      ]
    },
    {
      "cell_type": "code",
      "execution_count": 10,
      "id": "54c1e741",
      "metadata": {
        "deletable": false,
        "nbgrader": {
          "cell_type": "code",
          "checksum": "8f12ca6f898fe140e2eb04c84fc6c8f3",
          "grade": true,
          "grade_id": "Exercicio8",
          "locked": false,
          "points": 2,
          "schema_version": 3,
          "solution": true,
          "task": false
        },
        "id": "54c1e741",
        "colab": {
          "base_uri": "https://localhost:8080/"
        },
        "outputId": "6af3f391-0543-456e-b59e-bee952f384e2"
      },
      "outputs": [
        {
          "output_type": "stream",
          "name": "stdout",
          "text": [
            "Informe o área a ser pintada, em metros quadrados: 200\n",
            "Adquirindo apenas latas de 18 litros, será(ão) necessária(s) 2 lata(s) e custará 160 reais.\n",
            "Adquirindo apenas galões de 3,6 litros será(ão) necessária(s) 6 galão(ões) e custará 150 reais.\n",
            "Adquirindo 1 lata(s) de 18 litros e 1 galão(ões) de 3,6 litros custará 105 reais.\n"
          ]
        }
      ],
      "source": [
        "import math\n",
        "\n",
        "metros_quadrados = float(input(\"Informe o área a ser pintada, em metros quadrados: \"))\n",
        "folga = metros_quadrados * 1.1\n",
        "litros = folga / 12\n",
        "\n",
        "latas1 = math.ceil(litros / 18)\n",
        "valor1 = latas1 * 80\n",
        "print('Adquirindo apenas latas de 18 litros, será(ão) necessária(s)', latas1,'lata(s) e custará', valor1, 'reais.')\n",
        "\n",
        "galoes1 = math.ceil(litros / 3.6)\n",
        "valor2 = galoes1 * 25\n",
        "print('Adquirindo apenas galões de 3,6 litros será(ão) necessária(s)', galoes1,'galão(ões) e custará', valor2, 'reais.')\n",
        "\n",
        "latas2 = math.floor(litros / 18)\n",
        "valor_latas = latas2 * 80\n",
        "resto = litros % 18\n",
        "galoes2 = math.ceil(resto / 3.6)\n",
        "valor_galoes = galoes2 * 25\n",
        "total = valor_latas + valor_galoes\n",
        "print('Adquirindo', latas2, 'lata(s) de 18 litros e', galoes2, 'galão(ões) de 3,6 litros custará', total, 'reais.')"
      ]
    }
  ],
  "metadata": {
    "kernelspec": {
      "display_name": "Python 3 (ipykernel)",
      "language": "python",
      "name": "python3"
    },
    "language_info": {
      "codemirror_mode": {
        "name": "ipython",
        "version": 3
      },
      "file_extension": ".py",
      "mimetype": "text/x-python",
      "name": "python",
      "nbconvert_exporter": "python",
      "pygments_lexer": "ipython3",
      "version": "3.9.7"
    },
    "colab": {
      "name": " Semana1.ipynb",
      "provenance": []
    }
  },
  "nbformat": 4,
  "nbformat_minor": 5
}