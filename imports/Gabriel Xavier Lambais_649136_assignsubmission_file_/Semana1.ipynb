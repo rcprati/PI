{
  "cells": [
    {
      "cell_type": "markdown",
      "id": "d4a1d469",
      "metadata": {
        "id": "d4a1d469"
      },
      "source": [
        "# Instruções\n",
        "\n",
        "- Antes de resolver esses exercícios, certifique-se que a configuração está correta (Python 3).\n",
        "\n",
        "- Se estiver usando o Colab, faça uma cópia deste notebook antes de começar a repondê-lo.\n",
        "\n",
        "![](http://professor.ufabc.edu.br/~ronaldo.prati/colab.png)\n",
        "\n",
        "- Lembre-se de manter o nome do caderno com o mesmo nome original.\n",
        "\n",
        "- Não apague nem introduza novas células neste notebook.\n",
        "\n",
        "- Certifique-se que você preencheu todos os lugares que dizem \\\"YOUR CODE HERE\\\" ou \\\"YOUR ANSWER HERE\\\". Substitutua essa linha e também a linha `raise NotImplementedError()` pelo seu código.\n",
        "\n",
        "- Depois de resolver os exercícios, para enviar a atividade, salve o notebook e o envie pelo moodle da disciplina. No colab, para exportar o notebook localmente, acesse `File->Download->Download .ipynb` ou `Arquivo->Baixar->Baixar .ipynb`\n",
        "\n",
        "![](http://professor.ufabc.edu.br/~ronaldo.prati/submit.png)"
      ]
    },
    {
      "cell_type": "markdown",
      "id": "5f82cbf3",
      "metadata": {
        "deletable": false,
        "editable": false,
        "nbgrader": {
          "cell_type": "markdown",
          "checksum": "f1f911b3ba8050e102209c62c8db3f57",
          "grade": false,
          "grade_id": "Exercicio1-descricao",
          "locked": true,
          "schema_version": 3,
          "solution": false,
          "task": false
        },
        "id": "5f82cbf3"
      },
      "source": [
        "# Exercício 1\n",
        "\n",
        "Faça um programa que peça um número e armazene-o em uma variável. A seguir, mostre a mensagem \"O número informado foi [número]\""
      ]
    },
    {
      "cell_type": "code",
      "execution_count": 2,
      "id": "98f0fd7a",
      "metadata": {
        "deletable": false,
        "nbgrader": {
          "cell_type": "code",
          "checksum": "74fb8b9b0c1978c0db15aa13a5696150",
          "grade": true,
          "grade_id": "Exercicio1",
          "locked": false,
          "points": 1,
          "schema_version": 3,
          "solution": true,
          "task": false
        },
        "id": "98f0fd7a",
        "colab": {
          "base_uri": "https://localhost:8080/"
        },
        "outputId": "c8a16472-3b73-4ded-89db-183e5a09d5f0"
      },
      "outputs": [
        {
          "output_type": "stream",
          "name": "stdout",
          "text": [
            "Digite um número: 78\n",
            "O número informado foi 78.0\n"
          ]
        }
      ],
      "source": [
        "n = float(input(\"Digite um número: \"))\n",
        "print (\"O número informado foi\", n)"
      ]
    },
    {
      "cell_type": "markdown",
      "id": "dd8c0af2",
      "metadata": {
        "deletable": false,
        "editable": false,
        "nbgrader": {
          "cell_type": "markdown",
          "checksum": "e1645b130e5fd8363c5a31803d8a6730",
          "grade": false,
          "grade_id": "Exercicio2-descricao",
          "locked": true,
          "schema_version": 3,
          "solution": false,
          "task": false
        },
        "id": "dd8c0af2"
      },
      "source": [
        "# Exercício 2\n",
        "\n",
        "Faça um Programa que peça o raio de um círculo, calcule e mostre sua área.\n",
        "Dica: para usar o valor de $\\pi$, pesquise por `math.pi`."
      ]
    },
    {
      "cell_type": "code",
      "execution_count": 5,
      "id": "407e7f33",
      "metadata": {
        "deletable": false,
        "nbgrader": {
          "cell_type": "code",
          "checksum": "41ef7b01abeaa8d74e2893a5054fb644",
          "grade": true,
          "grade_id": "Exercicio2",
          "locked": false,
          "points": 1,
          "schema_version": 3,
          "solution": true,
          "task": false
        },
        "id": "407e7f33",
        "colab": {
          "base_uri": "https://localhost:8080/"
        },
        "outputId": "43df3abb-de96-4c64-ccb5-bb1f45c5ff41"
      },
      "outputs": [
        {
          "output_type": "stream",
          "name": "stdout",
          "text": [
            "Digite o valor do raio do círculo:3.5\n",
            "A área do círculo é: 38.48451000647496\n"
          ]
        }
      ],
      "source": [
        "import math\n",
        "\n",
        "r = float(input(\"Digite o valor do raio do círculo:\"))\n",
        "área = math.pi * r * r\n",
        "print (\"A área do círculo é:\", área)"
      ]
    },
    {
      "cell_type": "markdown",
      "id": "868cfe1c",
      "metadata": {
        "deletable": false,
        "editable": false,
        "nbgrader": {
          "cell_type": "markdown",
          "checksum": "83a396c8ae7ca1696f25c00d928c9d55",
          "grade": false,
          "grade_id": "Exercicio3-descricao",
          "locked": true,
          "schema_version": 3,
          "solution": false,
          "task": false
        },
        "id": "868cfe1c"
      },
      "source": [
        "# Exercício 3\n",
        "\n",
        "Faça um Programa que peça 2 números inteiros e um número real. Calcule e mostre:\n",
        "\n",
        "   - o produto do dobro do primeiro com metade do segundo .\n",
        "   - a soma do triplo do primeiro com o terceiro.\n",
        "   - o terceiro elevado ao cubo. "
      ]
    },
    {
      "cell_type": "code",
      "execution_count": 21,
      "id": "0f2c4944",
      "metadata": {
        "deletable": false,
        "nbgrader": {
          "cell_type": "code",
          "checksum": "01db6a60d8afd153075785a9f8e10ea5",
          "grade": true,
          "grade_id": "Exercicio3",
          "locked": false,
          "points": 1,
          "schema_version": 3,
          "solution": true,
          "task": false
        },
        "id": "0f2c4944",
        "colab": {
          "base_uri": "https://localhost:8080/"
        },
        "outputId": "c240f125-ae32-4d01-eee9-64751d49c287"
      },
      "outputs": [
        {
          "output_type": "stream",
          "name": "stdout",
          "text": [
            "Digite o primeiro número inteiro: 2\n",
            "Digite o segundo número inteiro: 3\n",
            "Digite um número real: 2.5\n",
            "O produto do dobro do primeiro com metade do segundo é igual a  6.0 , a soma do triplo do primeiro com o terceiro é igual a  8.5 e o terceiro elevado ao cubo é igual a 15.625\n"
          ]
        }
      ],
      "source": [
        "a = int(input(\"Digite o primeiro número inteiro: \"))\n",
        "b = int(input(\"Digite o segundo número inteiro: \"))\n",
        "c = float(input(\"Digite um número real: \"))\n",
        "\n",
        "instrução_1 = (a*2) * (b/2)\n",
        "instrução_2 = (3*a) + c\n",
        "instrução_3 = (c ** 3)\n",
        "\n",
        "print (\"O produto do dobro do primeiro com metade do segundo é igual a \" , instrução_1, \", a soma do triplo do primeiro com o terceiro é igual a \" , instrução_2, \"e o terceiro elevado ao cubo é igual a\" , instrução_3)\n"
      ]
    },
    {
      "cell_type": "markdown",
      "id": "d3996f2c",
      "metadata": {
        "deletable": false,
        "editable": false,
        "nbgrader": {
          "cell_type": "markdown",
          "checksum": "dbee5e0c5c9a02ca7b0fbcbf0c5018fd",
          "grade": false,
          "grade_id": "Exercicio4-descricao",
          "locked": true,
          "schema_version": 3,
          "solution": false,
          "task": false
        },
        "id": "d3996f2c"
      },
      "source": [
        "# Exercício 4\n",
        "\n",
        "Faça um programa que pergunte quanto você ganha por hora e o número de horas trabalhadas na semana. Calcule e mostre o total do seu salário ao final de 4 semanas. "
      ]
    },
    {
      "cell_type": "code",
      "execution_count": 7,
      "id": "5a307587",
      "metadata": {
        "deletable": false,
        "nbgrader": {
          "cell_type": "code",
          "checksum": "e511551fc875680ccd9679f9b2c21414",
          "grade": true,
          "grade_id": "Exercicio4",
          "locked": false,
          "points": 1,
          "schema_version": 3,
          "solution": true,
          "task": false
        },
        "id": "5a307587",
        "colab": {
          "base_uri": "https://localhost:8080/"
        },
        "outputId": "56c95ab8-1dcf-4a85-9a10-b6235a6082a7"
      },
      "outputs": [
        {
          "output_type": "stream",
          "name": "stdout",
          "text": [
            "Informe quanto você ganha por hora: 100\n",
            "Informe a quantidade de horas trabalhadas na semana: 40\n",
            "O seu salário ao final de 4 semanas é:  16000.0\n"
          ]
        }
      ],
      "source": [
        "ganho_hora = float(input(\"Informe quanto você ganha por hora: \"))\n",
        "horas_trab = float(input(\"Informe a quantidade de horas trabalhadas na semana: \"))\n",
        "\n",
        "total_4_semanas = ganho_hora * horas_trab * 4\n",
        "\n",
        "print (\"O seu salário ao final de 4 semanas é: \" , total_4_semanas)"
      ]
    },
    {
      "cell_type": "markdown",
      "id": "d5088446",
      "metadata": {
        "deletable": false,
        "editable": false,
        "nbgrader": {
          "cell_type": "markdown",
          "checksum": "c82b175f45419cc78a6f0efc08f9ab15",
          "grade": false,
          "grade_id": "Exercicio5-descricao",
          "locked": true,
          "schema_version": 3,
          "solution": false,
          "task": false
        },
        "id": "d5088446"
      },
      "source": [
        "# Exercício 5\n",
        "\n",
        "Faça um programa que leia um número inteiro qualquer e que apresete, além do número informado, o seu antecessor e do seu sucessor."
      ]
    },
    {
      "cell_type": "code",
      "execution_count": 12,
      "id": "a09fcc89",
      "metadata": {
        "deletable": false,
        "nbgrader": {
          "cell_type": "code",
          "checksum": "9f693e117e3e2158f95ee76dc96292a0",
          "grade": true,
          "grade_id": "Exercicio5",
          "locked": false,
          "points": 1,
          "schema_version": 3,
          "solution": true,
          "task": false
        },
        "id": "a09fcc89",
        "colab": {
          "base_uri": "https://localhost:8080/"
        },
        "outputId": "3e5e1efa-0466-445e-9527-f1f8211a5103"
      },
      "outputs": [
        {
          "output_type": "stream",
          "name": "stdout",
          "text": [
            "Digite um número inteiro: 8\n",
            "O número informado é 8 , seu antecessor é 7 e seu sucessor é 9\n"
          ]
        }
      ],
      "source": [
        "n = int(input(\"Digite um número inteiro: \"))\n",
        "\n",
        "num_informado = n\n",
        "num_antecessor = n-1\n",
        "num_sucessor = n+1\n",
        "\n",
        "print (\"O número informado é\", num_informado,\", seu antecessor é\", num_antecessor, \"e seu sucessor é\", num_sucessor)"
      ]
    },
    {
      "cell_type": "markdown",
      "id": "57a3fb31",
      "metadata": {
        "deletable": false,
        "editable": false,
        "nbgrader": {
          "cell_type": "markdown",
          "checksum": "537bdb2e45ec13ee95cea397e02744f2",
          "grade": false,
          "grade_id": "Exercicio6-descricao",
          "locked": true,
          "schema_version": 3,
          "solution": false,
          "task": false
        },
        "id": "57a3fb31"
      },
      "source": [
        "# Exercício 6\n",
        "\n",
        "Faça um programa que leia quatro notas, e seus respectivos pesos, e que apresente a média final simples e a média final ponderada."
      ]
    },
    {
      "cell_type": "code",
      "execution_count": 17,
      "id": "10e12fd4",
      "metadata": {
        "deletable": false,
        "nbgrader": {
          "cell_type": "code",
          "checksum": "ff1bbd3e5c18dc73d5e0328c41d74739",
          "grade": true,
          "grade_id": "Exercicio6",
          "locked": false,
          "points": 1,
          "schema_version": 3,
          "solution": true,
          "task": false
        },
        "id": "10e12fd4",
        "colab": {
          "base_uri": "https://localhost:8080/"
        },
        "outputId": "53c1d52f-c28c-452a-cf10-49e0b54c61dd"
      },
      "outputs": [
        {
          "output_type": "stream",
          "name": "stdout",
          "text": [
            "Digite a primeira nota: 8\n",
            "Digite o peso da primeira nota: 0.3\n",
            "Digite a segunda nota: 9\n",
            "Digite o peso da segunda nota: 0.3\n",
            "Digite a terceira nota: 7\n",
            "Digite o peso da terceira nota: 0.2\n",
            "Digite a quarta nota: 5\n",
            "Digite o peso da quarta nota: 0.2\n",
            "A média simples é:  7.25 e a média ponderada é:  7.5\n"
          ]
        }
      ],
      "source": [
        "n1 = float(input(\"Digite a primeira nota: \"))\n",
        "p1 = float(input(\"Digite o peso da primeira nota: \"))\n",
        "\n",
        "n2 = float(input(\"Digite a segunda nota: \"))\n",
        "p2 = float(input(\"Digite o peso da segunda nota: \"))\n",
        "\n",
        "n3 = float(input(\"Digite a terceira nota: \"))\n",
        "p3 = float(input(\"Digite o peso da terceira nota: \"))\n",
        "\n",
        "n4 = float(input(\"Digite a quarta nota: \"))\n",
        "p4 = float(input(\"Digite o peso da quarta nota: \"))\n",
        "\n",
        "media_simples = (n1 + n2 + n3 + n4) / 4\n",
        "media_ponderada = (n1*p1 + n2*p2 + n3*p3 + n4*p4) / (p1 + p2 + p3 + p4)\n",
        "\n",
        "print (\"A média simples é: \", media_simples, \"e a média ponderada é: \", media_ponderada)\n"
      ]
    },
    {
      "cell_type": "markdown",
      "id": "da81404d",
      "metadata": {
        "deletable": false,
        "editable": false,
        "nbgrader": {
          "cell_type": "markdown",
          "checksum": "6f91f7198e36290a15c6547e839a5885",
          "grade": false,
          "grade_id": "Exercicio7-descricao",
          "locked": true,
          "schema_version": 3,
          "solution": false,
          "task": false
        },
        "id": "da81404d"
      },
      "source": [
        "# Exercício 7\n",
        "\n",
        "Faça um programa para uma loja de tintas. O programa deverá pedir o tamanho em metros quadrados da área a ser pintada. Considere que a cobertura da tinta é de 1 litro para cada 12 metros quadrados e que a tinta é vendida em latas de 18 litros, que custam R$ 80,00. Informe ao usuário a quantidades de latas de tinta a serem compradas e o preço total. "
      ]
    },
    {
      "cell_type": "code",
      "execution_count": 25,
      "id": "2a1f6a9c",
      "metadata": {
        "deletable": false,
        "nbgrader": {
          "cell_type": "code",
          "checksum": "0b356a405bcdf2f889a9a95d9a196d61",
          "grade": true,
          "grade_id": "Exercicio7",
          "locked": false,
          "points": 2,
          "schema_version": 3,
          "solution": true,
          "task": false
        },
        "id": "2a1f6a9c",
        "colab": {
          "base_uri": "https://localhost:8080/"
        },
        "outputId": "c8ddda34-9f9b-4b4b-f952-511c701acfb5"
      },
      "outputs": [
        {
          "output_type": "stream",
          "name": "stdout",
          "text": [
            "Informe o tamanho, em metros quadrados, da área a ser pintada: 100\n",
            "A quantidade de latas de tinta a serem compradas é  1.0 e o preço total é R$ 80.0\n"
          ]
        }
      ],
      "source": [
        "tamanho = float(input(\"Informe o tamanho, em metros quadrados, da área a ser pintada: \"))\n",
        "\n",
        "if (tamanho / 12) % 18 != 0:\n",
        "  qtd_latas = ((tamanho / 12) // 18) + 1\n",
        "  preço = qtd_latas * 80\n",
        "  print (\"A quantidade de latas de tinta a serem compradas é \", qtd_latas, \"e o preço total é R$\",preço)\n",
        "else:\n",
        "  qtd_latas = ((tamanho / 12) // 18)\n",
        "  preço = qtd_latas * 80\n",
        "  print (\"A quantidade de latas de tinta a serem compradas é \", qtd_latas, \"e o preço total é R$\",preço)"
      ]
    },
    {
      "cell_type": "markdown",
      "id": "79eca3d1",
      "metadata": {
        "deletable": false,
        "editable": false,
        "nbgrader": {
          "cell_type": "markdown",
          "checksum": "e44b2f3971c79d43c75c12bce821c4d9",
          "grade": false,
          "grade_id": "Exercicio8-descricao",
          "locked": true,
          "schema_version": 3,
          "solution": false,
          "task": false
        },
        "id": "79eca3d1"
      },
      "source": [
        "# Exercício 8\n",
        "\n",
        "Faça um Programa para uma loja de tintas. O programa deverá pedir o tamanho em metros quadrados da área a ser pintada. Considere que a cobertura da tinta é de 1 litro para cada 12 metros quadrados e que a tinta é vendida em latas de 18 litros, que custam R$ 80,00 ou em galões de 3,6 litros, que custam R$ 25,00.\n",
        "\n",
        "Informe ao usuário as quantidades de tinta a serem compradas e os respectivos preços em 3 situações:\n",
        "\n",
        "    - comprar apenas latas de 18 litros;\n",
        "    - comprar apenas galões de 3,6 litros;\n",
        "    - misturar latas e galões, de forma que o desperdício de tinta seja menor. \n",
        "    \n",
        "Acrescente 10% de folga nos três casos (isto é, você deve adicionar 10% sobre o total de litros de tinta necessário) e sempre arredonde os valores para cima, isto é, considere latas cheias. \n",
        "\n"
      ]
    },
    {
      "cell_type": "code",
      "execution_count": 41,
      "id": "54c1e741",
      "metadata": {
        "deletable": false,
        "nbgrader": {
          "cell_type": "code",
          "checksum": "8f12ca6f898fe140e2eb04c84fc6c8f3",
          "grade": true,
          "grade_id": "Exercicio8",
          "locked": false,
          "points": 2,
          "schema_version": 3,
          "solution": true,
          "task": false
        },
        "id": "54c1e741",
        "colab": {
          "base_uri": "https://localhost:8080/",
          "height": 165
        },
        "outputId": "cff1c448-a5e3-438a-f086-b8c0d43c50d7"
      },
      "outputs": [
        {
          "output_type": "error",
          "ename": "SyntaxError",
          "evalue": "ignored",
          "traceback": [
            "\u001b[0;36m  File \u001b[0;32m\"<ipython-input-41-ab8f45b856cf>\"\u001b[0;36m, line \u001b[0;32m30\u001b[0m\n\u001b[0;31m    print (\"Na situação 3, a quantidade de latas de tinta a serem compradas é\" , qtd_latas_sit_3, \"a quantidade de galões a serem comprados é\" , qtd_galoes , \"e o preço é R$\" , preço_sit_3\")\u001b[0m\n\u001b[0m                                                                                                                                                                                              ^\u001b[0m\n\u001b[0;31mSyntaxError\u001b[0m\u001b[0;31m:\u001b[0m EOL while scanning string literal\n"
          ]
        }
      ],
      "source": [
        "tamanho = float(input(\"Informe o tamanho, em metros quadrados, da área a ser pintada: \"))\n",
        "\n",
        "if ((tamanho / 12) * 1.1) % 18 != 0:\n",
        "  qtd_latas_sit_1 = ((tamanho / 12 * 1.1) // 18) + 1\n",
        "  preço_sit_1 = qtd_latas_sit_1 * 80\n",
        "else:\n",
        "  qtd_latas_sit_1 = (((tamanho / 12) * 1.1) // 18)\n",
        "  preço_sit_1 = qtd_latas_sit_1 * 80\n",
        "print (\"Na situação 1, a quantidade de latas de tinta a serem compradas é\" , qtd_latas_sit_1, \"e o preço é R$\" , preço_sit_1)\n",
        "\n",
        "\n",
        "if ((tamanho / 12) * 1.1) % 3.6 != 0:\n",
        "  qtd_galoes_sit_2 = (((tamanho / 12) * 1.1) // 3.6) + 1\n",
        "  preço_sit_2 = qtd_galoes_sit_2 * 25 \n",
        "else:\n",
        "  qtd_galoes_sit_2 = (((tamanho / 12) * 1.1) // 18)\n",
        "  preço_sit_2 = qtd_galoes_sit_2 * 25\n",
        "print (\"Na situação 2, a quantidade de galões de tinta a serem comprados é\" , qtd_galoes_sit_2, \"e o preço é R$\" , preço_sit_2\")\n",
        "\n",
        "\n",
        "litros_sobra = ((tamanho / 12) * 1.1) - ((((tamanho / 12) * 1.1) // 18) * 18)\n",
        "\n",
        "\n",
        "if litros_sobra % 3.6 != 0:\n",
        "  qtd_latas_sit_3 = ((tamanho / 12) * 1.1) // 18\n",
        "  qtd_galoes = (((tamanho / 12) * 1.1) - (((((qtd_latas_sit_3) // 18) * 18)) // 3.6)) + 1\n",
        "  preço_sit_3 = (((tamanho / 12) * 1.1) // 18 * 80) + (qtd_galoes * 25)           \n",
        "else:\n",
        "  qtd_latas_sit_3 = ((tamanho / 12) * 1.1) // 18\n",
        "  qtd_galoes = (((tamanho / 12) * 1.1) - (((((qtd_latas_sit_3) // 18) * 18)) // 3.6))\n",
        "  preço_sit_3 = ((qtd_latas_sit_3) * 80) + (qtd_galoes * 25)               \n",
        "print (\"Na situação 3, a quantidade de latas de tinta a serem compradas é\" , qtd_latas_sit_3, \"a quantidade de galões a serem comprados é\" , qtd_galoes , \"e o preço é R$\" , preço_sit_3\")\n",
        " \n"
      ]
    }
  ],
  "metadata": {
    "kernelspec": {
      "display_name": "Python 3 (ipykernel)",
      "language": "python",
      "name": "python3"
    },
    "language_info": {
      "codemirror_mode": {
        "name": "ipython",
        "version": 3
      },
      "file_extension": ".py",
      "mimetype": "text/x-python",
      "name": "python",
      "nbconvert_exporter": "python",
      "pygments_lexer": "ipython3",
      "version": "3.9.7"
    },
    "colab": {
      "name": "Cópia de Semana1.ipynb",
      "provenance": []
    }
  },
  "nbformat": 4,
  "nbformat_minor": 5
}