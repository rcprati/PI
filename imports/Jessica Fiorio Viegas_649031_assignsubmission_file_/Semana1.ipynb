{
  "cells": [
    {
      "cell_type": "markdown",
      "id": "d4a1d469",
      "metadata": {
        "id": "d4a1d469"
      },
      "source": [
        "# Instruções\n",
        "\n",
        "- Antes de resolver esses exercícios, certifique-se que a configuração está correta (Python 3).\n",
        "\n",
        "- Se estiver usando o Colab, faça uma cópia deste notebook antes de começar a repondê-lo.\n",
        "\n",
        "![](http://professor.ufabc.edu.br/~ronaldo.prati/colab.png)\n",
        "\n",
        "- Lembre-se de manter o nome do caderno com o mesmo nome original.\n",
        "\n",
        "- Não apague nem introduza novas células neste notebook.\n",
        "\n",
        "- Certifique-se que você preencheu todos os lugares que dizem \\\"YOUR CODE HERE\\\" ou \\\"YOUR ANSWER HERE\\\". Substitutua essa linha e também a linha `raise NotImplementedError()` pelo seu código.\n",
        "\n",
        "- Depois de resolver os exercícios, para enviar a atividade, salve o notebook e o envie pelo moodle da disciplina. No colab, para exportar o notebook localmente, acesse `File->Download->Download .ipynb` ou `Arquivo->Baixar->Baixar .ipynb`\n",
        "\n",
        "![](http://professor.ufabc.edu.br/~ronaldo.prati/submit.png)"
      ]
    },
    {
      "cell_type": "markdown",
      "id": "5f82cbf3",
      "metadata": {
        "deletable": false,
        "editable": false,
        "nbgrader": {
          "cell_type": "markdown",
          "checksum": "f1f911b3ba8050e102209c62c8db3f57",
          "grade": false,
          "grade_id": "Exercicio1-descricao",
          "locked": true,
          "schema_version": 3,
          "solution": false,
          "task": false
        },
        "id": "5f82cbf3"
      },
      "source": [
        "# Exercício 1\n",
        "\n",
        "Faça um programa que peça um número e armazene-o em uma variável. A seguir, mostre a mensagem \"O número informado foi [número]\""
      ]
    },
    {
      "cell_type": "code",
      "execution_count": 19,
      "id": "98f0fd7a",
      "metadata": {
        "deletable": false,
        "nbgrader": {
          "cell_type": "code",
          "checksum": "74fb8b9b0c1978c0db15aa13a5696150",
          "grade": true,
          "grade_id": "Exercicio1",
          "locked": false,
          "points": 1,
          "schema_version": 3,
          "solution": true,
          "task": false
        },
        "id": "98f0fd7a",
        "colab": {
          "base_uri": "https://localhost:8080/"
        },
        "outputId": "6f4c366f-2a71-4062-c533-c2cfc900d995"
      },
      "outputs": [
        {
          "output_type": "stream",
          "name": "stdout",
          "text": [
            "Digite um número: 1989\n",
            "O número informado foi 1989\n"
          ]
        }
      ],
      "source": [
        "numero = int(input(\"Digite um número: \"))\n",
        "\n",
        "print(\"O número informado foi\", numero)"
      ]
    },
    {
      "cell_type": "markdown",
      "id": "dd8c0af2",
      "metadata": {
        "deletable": false,
        "editable": false,
        "nbgrader": {
          "cell_type": "markdown",
          "checksum": "e1645b130e5fd8363c5a31803d8a6730",
          "grade": false,
          "grade_id": "Exercicio2-descricao",
          "locked": true,
          "schema_version": 3,
          "solution": false,
          "task": false
        },
        "id": "dd8c0af2"
      },
      "source": [
        "# Exercício 2\n",
        "\n",
        "Faça um Programa que peça o raio de um círculo, calcule e mostre sua área.\n",
        "Dica: para usar o valor de $\\pi$, pesquise por `math.pi`."
      ]
    },
    {
      "cell_type": "code",
      "execution_count": 20,
      "id": "407e7f33",
      "metadata": {
        "deletable": false,
        "nbgrader": {
          "cell_type": "code",
          "checksum": "41ef7b01abeaa8d74e2893a5054fb644",
          "grade": true,
          "grade_id": "Exercicio2",
          "locked": false,
          "points": 1,
          "schema_version": 3,
          "solution": true,
          "task": false
        },
        "id": "407e7f33",
        "colab": {
          "base_uri": "https://localhost:8080/"
        },
        "outputId": "18753227-0826-4d04-9d6b-6ba31e1dafb5"
      },
      "outputs": [
        {
          "output_type": "stream",
          "name": "stdout",
          "text": [
            "Digite o raio do círculo: 8\n",
            "A área do círculo é 201.06192982974676\n"
          ]
        }
      ],
      "source": [
        "import math\n",
        "raio = float(input(\"Digite o raio do círculo: \"))\n",
        "\n",
        "area = math.pi * (raio**2)\n",
        "\n",
        "print(\"A área do círculo é\", area)"
      ]
    },
    {
      "cell_type": "markdown",
      "id": "868cfe1c",
      "metadata": {
        "deletable": false,
        "editable": false,
        "nbgrader": {
          "cell_type": "markdown",
          "checksum": "83a396c8ae7ca1696f25c00d928c9d55",
          "grade": false,
          "grade_id": "Exercicio3-descricao",
          "locked": true,
          "schema_version": 3,
          "solution": false,
          "task": false
        },
        "id": "868cfe1c"
      },
      "source": [
        "# Exercício 3\n",
        "\n",
        "Faça um Programa que peça 2 números inteiros e um número real. Calcule e mostre:\n",
        "\n",
        "   - o produto do dobro do primeiro com metade do segundo .\n",
        "   - a soma do triplo do primeiro com o terceiro.\n",
        "   - o terceiro elevado ao cubo. "
      ]
    },
    {
      "cell_type": "code",
      "execution_count": 23,
      "id": "0f2c4944",
      "metadata": {
        "deletable": false,
        "nbgrader": {
          "cell_type": "code",
          "checksum": "01db6a60d8afd153075785a9f8e10ea5",
          "grade": true,
          "grade_id": "Exercicio3",
          "locked": false,
          "points": 1,
          "schema_version": 3,
          "solution": true,
          "task": false
        },
        "id": "0f2c4944",
        "colab": {
          "base_uri": "https://localhost:8080/"
        },
        "outputId": "0caa6a83-8a01-4d48-d201-47d92468479c"
      },
      "outputs": [
        {
          "output_type": "stream",
          "name": "stdout",
          "text": [
            "Digite um número inteiro: 2\n",
            "Digite outro número inteiro: 4\n",
            "Digite um número real: 1.42\n",
            "O produto do dobro do primeiro com metade do segundo é 8.0\n",
            "A soma do triplo do primeiro com o terceiro é 7.42\n",
            "O terceiro elevado ao cubo é 2.8632879999999994\n"
          ]
        }
      ],
      "source": [
        "primeiro= int(input(\"Digite um número inteiro: \"))\n",
        "segundo= int(input(\"Digite outro número inteiro: \"))\n",
        "terceiro= float(input(\"Digite um número real: \"))\n",
        "\n",
        "produto = (primeiro*2)*(segundo/2)\n",
        "soma= (primeiro*3)+terceiro\n",
        "cubo= terceiro**3\n",
        "\n",
        "print(\"O produto do dobro do primeiro com metade do segundo é\", produto)\n",
        "print(\"A soma do triplo do primeiro com o terceiro é\", soma)\n",
        "print(\"O terceiro elevado ao cubo é\", cubo)"
      ]
    },
    {
      "cell_type": "markdown",
      "id": "d3996f2c",
      "metadata": {
        "deletable": false,
        "editable": false,
        "nbgrader": {
          "cell_type": "markdown",
          "checksum": "dbee5e0c5c9a02ca7b0fbcbf0c5018fd",
          "grade": false,
          "grade_id": "Exercicio4-descricao",
          "locked": true,
          "schema_version": 3,
          "solution": false,
          "task": false
        },
        "id": "d3996f2c"
      },
      "source": [
        "# Exercício 4\n",
        "\n",
        "Faça um programa que pergunte quanto você ganha por hora e o número de horas trabalhadas na semana. Calcule e mostre o total do seu salário ao final de 4 semanas. "
      ]
    },
    {
      "cell_type": "code",
      "execution_count": 24,
      "id": "5a307587",
      "metadata": {
        "deletable": false,
        "nbgrader": {
          "cell_type": "code",
          "checksum": "e511551fc875680ccd9679f9b2c21414",
          "grade": true,
          "grade_id": "Exercicio4",
          "locked": false,
          "points": 1,
          "schema_version": 3,
          "solution": true,
          "task": false
        },
        "id": "5a307587",
        "colab": {
          "base_uri": "https://localhost:8080/"
        },
        "outputId": "14e7ba36-2a8a-49c9-b448-418edc65ea34"
      },
      "outputs": [
        {
          "output_type": "stream",
          "name": "stdout",
          "text": [
            "Digite quanto você ganha por hora: 5\n",
            "Digite o número de horas que você trabalha na semana: 49\n",
            "O seu salário ao final de 4 semanas é 980.0 reais\n"
          ]
        }
      ],
      "source": [
        "por_hora = float(input(\"Digite quanto você ganha por hora: \"))\n",
        "horas = int(input(\"Digite o número de horas que você trabalha na semana: \"))\n",
        "\n",
        "semana = por_hora * horas\n",
        "mes = semana * 4\n",
        "\n",
        "print(\"O seu salário ao final de 4 semanas é\", mes, \"reais\")"
      ]
    },
    {
      "cell_type": "markdown",
      "id": "d5088446",
      "metadata": {
        "deletable": false,
        "editable": false,
        "nbgrader": {
          "cell_type": "markdown",
          "checksum": "c82b175f45419cc78a6f0efc08f9ab15",
          "grade": false,
          "grade_id": "Exercicio5-descricao",
          "locked": true,
          "schema_version": 3,
          "solution": false,
          "task": false
        },
        "id": "d5088446"
      },
      "source": [
        "# Exercício 5\n",
        "\n",
        "Faça um programa que leia um número inteiro qualquer e que apresete, além do número informado, o seu antecessor e do seu sucessor."
      ]
    },
    {
      "cell_type": "code",
      "execution_count": 25,
      "id": "a09fcc89",
      "metadata": {
        "deletable": false,
        "nbgrader": {
          "cell_type": "code",
          "checksum": "9f693e117e3e2158f95ee76dc96292a0",
          "grade": true,
          "grade_id": "Exercicio5",
          "locked": false,
          "points": 1,
          "schema_version": 3,
          "solution": true,
          "task": false
        },
        "id": "a09fcc89",
        "colab": {
          "base_uri": "https://localhost:8080/"
        },
        "outputId": "46e8a798-a937-41eb-e2e2-8ba436684360"
      },
      "outputs": [
        {
          "output_type": "stream",
          "name": "stdout",
          "text": [
            "Digite um número inteiro: 100\n",
            "O número informado foi 100\n",
            "O seu antecessor é 99\n",
            "O seu sucessor é 101\n"
          ]
        }
      ],
      "source": [
        "numero = int(input(\"Digite um número inteiro: \"))\n",
        "\n",
        "antecessor = numero - 1\n",
        "sucessor = numero + 1\n",
        "\n",
        "print(\"O número informado foi\", numero)\n",
        "print(\"O seu antecessor é\", antecessor)\n",
        "print(\"O seu sucessor é\", sucessor)"
      ]
    },
    {
      "cell_type": "markdown",
      "id": "57a3fb31",
      "metadata": {
        "deletable": false,
        "editable": false,
        "nbgrader": {
          "cell_type": "markdown",
          "checksum": "537bdb2e45ec13ee95cea397e02744f2",
          "grade": false,
          "grade_id": "Exercicio6-descricao",
          "locked": true,
          "schema_version": 3,
          "solution": false,
          "task": false
        },
        "id": "57a3fb31"
      },
      "source": [
        "# Exercício 6\n",
        "\n",
        "Faça um programa que leia quatro notas, e seus respectivos pesos, e que apresente a média final simples e a média final ponderada."
      ]
    },
    {
      "cell_type": "code",
      "execution_count": 26,
      "id": "10e12fd4",
      "metadata": {
        "deletable": false,
        "nbgrader": {
          "cell_type": "code",
          "checksum": "ff1bbd3e5c18dc73d5e0328c41d74739",
          "grade": true,
          "grade_id": "Exercicio6",
          "locked": false,
          "points": 1,
          "schema_version": 3,
          "solution": true,
          "task": false
        },
        "id": "10e12fd4",
        "colab": {
          "base_uri": "https://localhost:8080/"
        },
        "outputId": "48c3308d-1809-44be-9ba6-bdf5463a1288"
      },
      "outputs": [
        {
          "output_type": "stream",
          "name": "stdout",
          "text": [
            "Digite a primeira nota: 10\n",
            "Digite o peso da primeira nota: 3\n",
            "Digite a segunda nota: 8\n",
            "Digite o peso da segunda nota: 2\n",
            "Digite a terceira nota: 7.5\n",
            "Digite o peso da terceira nota: 3\n",
            "Digite a quarta nota: 6\n",
            "Digite o peso da quarta nota: 2\n",
            "A média simples é:  7.875  e a média poderada é:  8.05\n"
          ]
        }
      ],
      "source": [
        "n1 = float(input(\"Digite a primeira nota: \"))\n",
        "p1 = float(input(\"Digite o peso da primeira nota: \"))\n",
        "n2 = float(input(\"Digite a segunda nota: \"))\n",
        "p2 = float(input(\"Digite o peso da segunda nota: \"))\n",
        "n3 = float(input(\"Digite a terceira nota: \"))\n",
        "p3 = float(input(\"Digite o peso da terceira nota: \"))\n",
        "n4 = float(input(\"Digite a quarta nota: \"))\n",
        "p4 = float(input(\"Digite o peso da quarta nota: \"))\n",
        "\n",
        "s = (n1 + n2 + n3 + n4)/4\n",
        "p = (n1*p1 + n2*p2 + n3*p3 + n4*p4)/(p1 + p2 + p3 + p4)\n",
        "\n",
        "print(\"A média simples é: \", s, \" e a média poderada é: \", p)"
      ]
    },
    {
      "cell_type": "markdown",
      "id": "da81404d",
      "metadata": {
        "deletable": false,
        "editable": false,
        "nbgrader": {
          "cell_type": "markdown",
          "checksum": "6f91f7198e36290a15c6547e839a5885",
          "grade": false,
          "grade_id": "Exercicio7-descricao",
          "locked": true,
          "schema_version": 3,
          "solution": false,
          "task": false
        },
        "id": "da81404d"
      },
      "source": [
        "# Exercício 7\n",
        "\n",
        "Faça um programa para uma loja de tintas. O programa deverá pedir o tamanho em metros quadrados da área a ser pintada. Considere que a cobertura da tinta é de 1 litro para cada 12 metros quadrados e que a tinta é vendida em latas de 18 litros, que custam R$ 80,00. Informe ao usuário a quantidades de latas de tinta a serem compradas e o preço total. "
      ]
    },
    {
      "cell_type": "code",
      "execution_count": 28,
      "id": "2a1f6a9c",
      "metadata": {
        "deletable": false,
        "nbgrader": {
          "cell_type": "code",
          "checksum": "0b356a405bcdf2f889a9a95d9a196d61",
          "grade": true,
          "grade_id": "Exercicio7",
          "locked": false,
          "points": 2,
          "schema_version": 3,
          "solution": true,
          "task": false
        },
        "id": "2a1f6a9c",
        "colab": {
          "base_uri": "https://localhost:8080/"
        },
        "outputId": "c6cc6432-9b2c-4110-c78d-3628eb51b800"
      },
      "outputs": [
        {
          "output_type": "stream",
          "name": "stdout",
          "text": [
            "Digite o tamanho da área a ser pintada em metros quadrados: 500\n",
            "A quantidade de latas de tintas a serem compradas é:  2  latas e o preço total é:  160.0 reais\n"
          ]
        }
      ],
      "source": [
        "area = float(input(\"Digite o tamanho da área a ser pintada em metros quadrados: \"))\n",
        "litros = area / 12\n",
        "\n",
        "qtd_latas = int(litros / 18)\n",
        "preco_total = qtd_latas * 80.0\n",
        "\n",
        "print(\"A quantidade de latas de tintas a serem compradas é: \", qtd_latas, \" latas e o preço total é: \", preco_total, \"reais\")"
      ]
    },
    {
      "cell_type": "markdown",
      "id": "79eca3d1",
      "metadata": {
        "deletable": false,
        "editable": false,
        "nbgrader": {
          "cell_type": "markdown",
          "checksum": "e44b2f3971c79d43c75c12bce821c4d9",
          "grade": false,
          "grade_id": "Exercicio8-descricao",
          "locked": true,
          "schema_version": 3,
          "solution": false,
          "task": false
        },
        "id": "79eca3d1"
      },
      "source": [
        "# Exercício 8\n",
        "\n",
        "Faça um Programa para uma loja de tintas. O programa deverá pedir o tamanho em metros quadrados da área a ser pintada. Considere que a cobertura da tinta é de 1 litro para cada 12 metros quadrados e que a tinta é vendida em latas de 18 litros, que custam R$ 80,00 ou em galões de 3,6 litros, que custam R$ 25,00.\n",
        "\n",
        "Informe ao usuário as quantidades de tinta a serem compradas e os respectivos preços em 3 situações:\n",
        "\n",
        "    - comprar apenas latas de 18 litros;\n",
        "    - comprar apenas galões de 3,6 litros;\n",
        "    - misturar latas e galões, de forma que o desperdício de tinta seja menor. \n",
        "    \n",
        "Acrescente 10% de folga nos três casos (isto é, você deve adicionar 10% sobre o total de litros de tinta necessário) e sempre arredonde os valores para cima, isto é, considere latas cheias. \n",
        "\n"
      ]
    },
    {
      "cell_type": "code",
      "execution_count": 18,
      "id": "54c1e741",
      "metadata": {
        "deletable": false,
        "nbgrader": {
          "cell_type": "code",
          "checksum": "8f12ca6f898fe140e2eb04c84fc6c8f3",
          "grade": true,
          "grade_id": "Exercicio8",
          "locked": false,
          "points": 2,
          "schema_version": 3,
          "solution": true,
          "task": false
        },
        "id": "54c1e741",
        "colab": {
          "base_uri": "https://localhost:8080/"
        },
        "outputId": "a8e3b7d3-4678-4e06-e846-d80a60e17465"
      },
      "outputs": [
        {
          "output_type": "stream",
          "name": "stdout",
          "text": [
            "Digite o tamanho da área a ser pintada em metros quadrados: 200\n",
            "A quantidade de latas de tintas de 18 litros a serem compradas é: 2  latas e o preço total é: 160.0 reais\n",
            "A quantidade de galões de tinta de 3,6 litros a serem compradas é: 6  latas e o preço total é: 150.0 reais\n",
            "A quantidade de latas de tintas de 18 litros a serem compradas é: 1  latas, enquanto a quantidade de galões de tinta de 3,6 litros a serem compradas é: 1  galões. O preço total é: 230.0 reais\n"
          ]
        }
      ],
      "source": [
        "import math\n",
        "area = float(input(\"Digite o tamanho da área a ser pintada em metros quadrados: \"))\n",
        "litros = (area * 1.1) / 12\n",
        "\n",
        "qtd_latas = math.ceil(litros / 18)\n",
        "preco_lata = qtd_latas * 80.0\n",
        "\n",
        "qtd_galao = math.ceil(litros / 3.6)\n",
        "preco_galao = qtd_galao * 25.0\n",
        "\n",
        "qtd_misturado_lata = math.floor(litros / 18)\n",
        "preco_misturado_lata = qtd_misturado_lata * 80.0\n",
        "litros_faltos = litros % 18\n",
        "qtd__misturado_galao = math.ceil(litros_faltos / 3.6)\n",
        "preco_misturado_galao = qtd_galao * 25.0\n",
        "\n",
        "total = preco_misturado_lata + preco_misturado_galao\n",
        "\n",
        "print(\"A quantidade de latas de tintas de 18 litros a serem compradas é:\", qtd_latas, \" latas e o preço total é:\", preco_lata, \"reais\")\n",
        "print(\"A quantidade de galões de tinta de 3,6 litros a serem compradas é:\", qtd_galao, \" latas e o preço total é:\", preco_galao, \"reais\")\n",
        "print(\"A quantidade de latas de tintas de 18 litros a serem compradas é:\", qtd_misturado_lata, \" latas, enquanto a quantidade de galões de tinta de 3,6 litros a serem compradas é:\" , qtd__misturado_galao, \" galões. O preço total é:\", total, \"reais\")"
      ]
    }
  ],
  "metadata": {
    "kernelspec": {
      "display_name": "Python 3 (ipykernel)",
      "language": "python",
      "name": "python3"
    },
    "language_info": {
      "codemirror_mode": {
        "name": "ipython",
        "version": 3
      },
      "file_extension": ".py",
      "mimetype": "text/x-python",
      "name": "python",
      "nbconvert_exporter": "python",
      "pygments_lexer": "ipython3",
      "version": "3.9.7"
    },
    "colab": {
      "name": "Semana1.ipynb",
      "provenance": [],
      "collapsed_sections": []
    }
  },
  "nbformat": 4,
  "nbformat_minor": 5
}