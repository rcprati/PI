{
  "cells": [
    {
      "cell_type": "markdown",
      "id": "d4a1d469",
      "metadata": {
        "id": "d4a1d469"
      },
      "source": [
        "# Instruções\n",
        "\n",
        "- Antes de resolver esses exercícios, certifique-se que a configuração está correta (Python 3).\n",
        "\n",
        "- Se estiver usando o Colab, faça uma cópia deste notebook antes de começar a repondê-lo.\n",
        "\n",
        "![](http://professor.ufabc.edu.br/~ronaldo.prati/colab.png)\n",
        "\n",
        "- Lembre-se de manter o nome do caderno com o mesmo nome original.\n",
        "\n",
        "- Não apague nem introduza novas células neste notebook.\n",
        "\n",
        "- Certifique-se que você preencheu todos os lugares que dizem \\\"YOUR CODE HERE\\\" ou \\\"YOUR ANSWER HERE\\\". Substitutua essa linha e também a linha `raise NotImplementedError()` pelo seu código.\n",
        "\n",
        "- Depois de resolver os exercícios, para enviar a atividade, salve o notebook e o envie pelo moodle da disciplina. No colab, para exportar o notebook localmente, acesse `File->Download->Download .ipynb` ou `Arquivo->Baixar->Baixar .ipynb`\n",
        "\n",
        "![](http://professor.ufabc.edu.br/~ronaldo.prati/submit.png)"
      ]
    },
    {
      "cell_type": "markdown",
      "id": "5f82cbf3",
      "metadata": {
        "deletable": false,
        "editable": false,
        "nbgrader": {
          "cell_type": "markdown",
          "checksum": "f1f911b3ba8050e102209c62c8db3f57",
          "grade": false,
          "grade_id": "Exercicio1-descricao",
          "locked": true,
          "schema_version": 3,
          "solution": false,
          "task": false
        },
        "id": "5f82cbf3"
      },
      "source": [
        "# Exercício 1\n",
        "\n",
        "Faça um programa que peça um número e armazene-o em uma variável. A seguir, mostre a mensagem \"O número informado foi [número]\""
      ]
    },
    {
      "cell_type": "code",
      "execution_count": null,
      "id": "98f0fd7a",
      "metadata": {
        "deletable": false,
        "nbgrader": {
          "cell_type": "code",
          "checksum": "74fb8b9b0c1978c0db15aa13a5696150",
          "grade": true,
          "grade_id": "Exercicio1",
          "locked": false,
          "points": 1,
          "schema_version": 3,
          "solution": true,
          "task": false
        },
        "id": "98f0fd7a",
        "colab": {
          "base_uri": "https://localhost:8080/"
        },
        "outputId": "460730be-9ccd-4039-e512-17baa3cadc44"
      },
      "outputs": [
        {
          "output_type": "stream",
          "name": "stdout",
          "text": [
            "Insira um número: 2\n",
            "O número informado foi 2.0\n"
          ]
        }
      ],
      "source": [
        "numero = float(input(\"Insira um número: \"))\n",
        "\n",
        "print(\"\\nO número informado foi \" + str(numero));"
      ]
    },
    {
      "cell_type": "markdown",
      "id": "dd8c0af2",
      "metadata": {
        "deletable": false,
        "editable": false,
        "nbgrader": {
          "cell_type": "markdown",
          "checksum": "e1645b130e5fd8363c5a31803d8a6730",
          "grade": false,
          "grade_id": "Exercicio2-descricao",
          "locked": true,
          "schema_version": 3,
          "solution": false,
          "task": false
        },
        "id": "dd8c0af2"
      },
      "source": [
        "# Exercício 2\n",
        "\n",
        "Faça um Programa que peça o raio de um círculo, calcule e mostre sua área.\n",
        "Dica: para usar o valor de $\\pi$, pesquise por `math.pi`."
      ]
    },
    {
      "cell_type": "code",
      "execution_count": null,
      "id": "407e7f33",
      "metadata": {
        "deletable": false,
        "nbgrader": {
          "cell_type": "code",
          "checksum": "41ef7b01abeaa8d74e2893a5054fb644",
          "grade": true,
          "grade_id": "Exercicio2",
          "locked": false,
          "points": 1,
          "schema_version": 3,
          "solution": true,
          "task": false
        },
        "id": "407e7f33",
        "colab": {
          "base_uri": "https://localhost:8080/"
        },
        "outputId": "3416207e-1a33-4927-d61c-8d5112cbab62"
      },
      "outputs": [
        {
          "output_type": "stream",
          "name": "stdout",
          "text": [
            "Insira o raio: 1\n",
            "Área: 3.141592653589793\n"
          ]
        }
      ],
      "source": [
        "import math\n",
        " \n",
        "raio = float(input(\"Insira o raio: \"))\n",
        "\n",
        "print(\"\\nÁrea: \" + str(math.pi * math.pow(raio, 2)))"
      ]
    },
    {
      "cell_type": "markdown",
      "id": "868cfe1c",
      "metadata": {
        "deletable": false,
        "editable": false,
        "nbgrader": {
          "cell_type": "markdown",
          "checksum": "83a396c8ae7ca1696f25c00d928c9d55",
          "grade": false,
          "grade_id": "Exercicio3-descricao",
          "locked": true,
          "schema_version": 3,
          "solution": false,
          "task": false
        },
        "id": "868cfe1c"
      },
      "source": [
        "# Exercício 3\n",
        "\n",
        "Faça um Programa que peça 2 números inteiros e um número real. Calcule e mostre:\n",
        "\n",
        "   - o produto do dobro do primeiro com metade do segundo .\n",
        "   - a soma do triplo do primeiro com o terceiro.\n",
        "   - o terceiro elevado ao cubo. "
      ]
    },
    {
      "cell_type": "code",
      "execution_count": null,
      "id": "0f2c4944",
      "metadata": {
        "deletable": false,
        "nbgrader": {
          "cell_type": "code",
          "checksum": "01db6a60d8afd153075785a9f8e10ea5",
          "grade": true,
          "grade_id": "Exercicio3",
          "locked": false,
          "points": 1,
          "schema_version": 3,
          "solution": true,
          "task": false
        },
        "id": "0f2c4944",
        "colab": {
          "base_uri": "https://localhost:8080/"
        },
        "outputId": "29cf8dc7-0402-40de-d71f-bacb11767bc6"
      },
      "outputs": [
        {
          "output_type": "stream",
          "name": "stdout",
          "text": [
            "Insira um número inteiro 1: 1\n",
            "Insira um número inteiro 2: 1\n",
            "Insira um número real: 1\n",
            "Produto do dobro do primeiro com metade do segundo: 1.0\n",
            "Soma do triplo do primeiro com o terceiro: 6.0\n",
            "Terceiro elevado ao cubo: 1.0\n"
          ]
        }
      ],
      "source": [
        "import math\n",
        "\n",
        "n1 = int(input(\"Insira um número inteiro 1: \"))\n",
        "n2 = int(input(\"Insira um número inteiro 2: \"))\n",
        "n3 = float(input(\"Insira um número real: \"))\n",
        "\n",
        "print(\"\\n\\nProduto do dobro do primeiro com metade do segundo: \" + str((n1*2)*(n2/2)))\n",
        "print(\"Soma do triplo do primeiro com o terceiro: \" + str((n1*3)+(n3)))\n",
        "print(\"Terceiro elevado ao cubo: \" + str(math.pow(n3, 3)))"
      ]
    },
    {
      "cell_type": "markdown",
      "id": "d3996f2c",
      "metadata": {
        "deletable": false,
        "editable": false,
        "nbgrader": {
          "cell_type": "markdown",
          "checksum": "dbee5e0c5c9a02ca7b0fbcbf0c5018fd",
          "grade": false,
          "grade_id": "Exercicio4-descricao",
          "locked": true,
          "schema_version": 3,
          "solution": false,
          "task": false
        },
        "id": "d3996f2c"
      },
      "source": [
        "# Exercício 4\n",
        "\n",
        "Faça um programa que pergunte quanto você ganha por hora e o número de horas trabalhadas na semana. Calcule e mostre o total do seu salário ao final de 4 semanas. "
      ]
    },
    {
      "cell_type": "code",
      "execution_count": null,
      "id": "5a307587",
      "metadata": {
        "deletable": false,
        "nbgrader": {
          "cell_type": "code",
          "checksum": "e511551fc875680ccd9679f9b2c21414",
          "grade": true,
          "grade_id": "Exercicio4",
          "locked": false,
          "points": 1,
          "schema_version": 3,
          "solution": true,
          "task": false
        },
        "id": "5a307587",
        "colab": {
          "base_uri": "https://localhost:8080/"
        },
        "outputId": "184f0da5-9fd0-4da8-a9ad-a2969739b8bd"
      },
      "outputs": [
        {
          "output_type": "stream",
          "name": "stdout",
          "text": [
            "Valor ganho por hora: 2\n",
            "Horas trabalhadas na semana: 2\n",
            "Seu salário em 4 semanas é: 16.0\n"
          ]
        }
      ],
      "source": [
        "valorHora = float(input(\"Valor ganho por hora: \"))\n",
        "horaSemana = int(input(\"Horas trabalhadas na semana: \"))\n",
        "\n",
        "print(\"\\n\\nSeu salário em 4 semanas é: \" + str(valorHora * horaSemana * 4))"
      ]
    },
    {
      "cell_type": "markdown",
      "id": "d5088446",
      "metadata": {
        "deletable": false,
        "editable": false,
        "nbgrader": {
          "cell_type": "markdown",
          "checksum": "c82b175f45419cc78a6f0efc08f9ab15",
          "grade": false,
          "grade_id": "Exercicio5-descricao",
          "locked": true,
          "schema_version": 3,
          "solution": false,
          "task": false
        },
        "id": "d5088446"
      },
      "source": [
        "# Exercício 5\n",
        "\n",
        "Faça um programa que leia um número inteiro qualquer e que apresete, além do número informado, o seu antecessor e do seu sucessor."
      ]
    },
    {
      "cell_type": "code",
      "execution_count": null,
      "id": "a09fcc89",
      "metadata": {
        "deletable": false,
        "nbgrader": {
          "cell_type": "code",
          "checksum": "9f693e117e3e2158f95ee76dc96292a0",
          "grade": true,
          "grade_id": "Exercicio5",
          "locked": false,
          "points": 1,
          "schema_version": 3,
          "solution": true,
          "task": false
        },
        "id": "a09fcc89",
        "colab": {
          "base_uri": "https://localhost:8080/"
        },
        "outputId": "ccc650dc-d7bb-491c-a20b-c319358f4f93"
      },
      "outputs": [
        {
          "output_type": "stream",
          "name": "stdout",
          "text": [
            "Número inteiro: 5\n",
            "\n",
            "\n",
            "Antecessor: 4\n",
            "Número informado: 5\n",
            "Sucessor: 6\n"
          ]
        }
      ],
      "source": [
        "n1 = int(input(\"Número inteiro: \"))\n",
        "\n",
        "print(\"\\n\\nAntecessor: \" + str(n1 - 1) + \"\\n\"\n",
        "        + \"Número informado: \" + str(n1) + \"\\n\"\n",
        "        + \"Sucessor: \" + str(n1 + 1))"
      ]
    },
    {
      "cell_type": "markdown",
      "id": "57a3fb31",
      "metadata": {
        "deletable": false,
        "editable": false,
        "nbgrader": {
          "cell_type": "markdown",
          "checksum": "537bdb2e45ec13ee95cea397e02744f2",
          "grade": false,
          "grade_id": "Exercicio6-descricao",
          "locked": true,
          "schema_version": 3,
          "solution": false,
          "task": false
        },
        "id": "57a3fb31"
      },
      "source": [
        "# Exercício 6\n",
        "\n",
        "Faça um programa que leia quatro notas, e seus respectivos pesos, e que apresente a média final simples e a média final ponderada."
      ]
    },
    {
      "cell_type": "code",
      "execution_count": null,
      "id": "10e12fd4",
      "metadata": {
        "deletable": false,
        "nbgrader": {
          "cell_type": "code",
          "checksum": "ff1bbd3e5c18dc73d5e0328c41d74739",
          "grade": true,
          "grade_id": "Exercicio6",
          "locked": false,
          "points": 1,
          "schema_version": 3,
          "solution": true,
          "task": false
        },
        "id": "10e12fd4",
        "colab": {
          "base_uri": "https://localhost:8080/"
        },
        "outputId": "507bf440-39ae-4c4e-8d53-62d66f907596"
      },
      "outputs": [
        {
          "output_type": "stream",
          "name": "stdout",
          "text": [
            "Nota 1: 5\n",
            "Peso 1: 6\n",
            "Nota 2: 5\n",
            "Peso 2: 4\n",
            "Nota 3: 5\n",
            "Peso 3: 6\n",
            "Nota 4: 5\n",
            "Peso 4: 4\n",
            "Nota - Média Simples: 5.0\n",
            "Nota - Média Ponderada: 5.0\n"
          ]
        }
      ],
      "source": [
        "n1 = float(input(\"Nota 1: \"))\n",
        "p1 = int(input(\"Peso 1: \"))\n",
        "n2 = float(input(\"Nota 2: \"))\n",
        "p2 = int(input(\"Peso 2: \"))\n",
        "n3 = float(input(\"Nota 3: \"))\n",
        "p3 = int(input(\"Peso 3: \"))\n",
        "n4 = float(input(\"Nota 4: \"))\n",
        "p4 = int(input(\"Peso 4: \"))\n",
        "\n",
        "\n",
        "print(\"Nota - Média Simples: \" + str((n1 + n2 + n3 + n4)/4))\n",
        "print(\"Nota - Média Ponderada: \" + str(((n1 * p1) + (n2 * p2) + (n3 * p3) + (n4 * p4))/(p1 + p2 + p3 + p4)))"
      ]
    },
    {
      "cell_type": "markdown",
      "id": "da81404d",
      "metadata": {
        "deletable": false,
        "editable": false,
        "nbgrader": {
          "cell_type": "markdown",
          "checksum": "6f91f7198e36290a15c6547e839a5885",
          "grade": false,
          "grade_id": "Exercicio7-descricao",
          "locked": true,
          "schema_version": 3,
          "solution": false,
          "task": false
        },
        "id": "da81404d"
      },
      "source": [
        "# Exercício 7\n",
        "\n",
        "Faça um programa para uma loja de tintas. O programa deverá pedir o tamanho em metros quadrados da área a ser pintada. Considere que a cobertura da tinta é de 1 litro para cada 12 metros quadrados e que a tinta é vendida em latas de 18 litros, que custam R$ 80,00. Informe ao usuário a quantidades de latas de tinta a serem compradas e o preço total. "
      ]
    },
    {
      "cell_type": "code",
      "execution_count": null,
      "id": "2a1f6a9c",
      "metadata": {
        "deletable": false,
        "nbgrader": {
          "cell_type": "code",
          "checksum": "0b356a405bcdf2f889a9a95d9a196d61",
          "grade": true,
          "grade_id": "Exercicio7",
          "locked": false,
          "points": 2,
          "schema_version": 3,
          "solution": true,
          "task": false
        },
        "id": "2a1f6a9c",
        "colab": {
          "base_uri": "https://localhost:8080/"
        },
        "outputId": "f54495a9-36e4-4da3-926c-7cfe21d16129"
      },
      "outputs": [
        {
          "output_type": "stream",
          "name": "stdout",
          "text": [
            "Metros quadrados a ser pintado: 746\n",
            "Ele gastará 320.0 reais ao comprar 4.0 latas\n"
          ]
        }
      ],
      "source": [
        "metros = float(input(\"Metros quadrados a ser pintado: \"))\n",
        "litro = metros/12;\n",
        "lata = litro/18;\n",
        "\n",
        "if(litro <= 18): \n",
        "  print(\"\\nEle gastará 80 reais ao comprar 1 lata\")\n",
        "else:\n",
        "  print(\"\\nEle gastará \" + str(((lata+1)//1) * 80) + \" reais ao comprar \" + str((lata+1)//1) + \" latas\")\n",
        "  \n",
        "\n"
      ]
    },
    {
      "cell_type": "markdown",
      "id": "79eca3d1",
      "metadata": {
        "deletable": false,
        "editable": false,
        "nbgrader": {
          "cell_type": "markdown",
          "checksum": "e44b2f3971c79d43c75c12bce821c4d9",
          "grade": false,
          "grade_id": "Exercicio8-descricao",
          "locked": true,
          "schema_version": 3,
          "solution": false,
          "task": false
        },
        "id": "79eca3d1"
      },
      "source": [
        "# Exercício 8\n",
        "\n",
        "Faça um Programa para uma loja de tintas. O programa deverá pedir o tamanho em metros quadrados da área a ser pintada. Considere que a cobertura da tinta é de 1 litro para cada 12 metros quadrados e que a tinta é vendida em latas de 18 litros, que custam R$ 80,00 ou em galões de 3,6 litros, que custam R$ 25,00.\n",
        "\n",
        "Informe ao usuário as quantidades de tinta a serem compradas e os respectivos preços em 3 situações:\n",
        "\n",
        "    - comprar apenas latas de 18 litros;\n",
        "    - comprar apenas galões de 3,6 litros;\n",
        "    - misturar latas e galões, de forma que o desperdício de tinta seja menor. \n",
        "    \n",
        "Acrescente 10% de folga nos três casos (isto é, você deve adicionar 10% sobre o total de litros de tinta necessário) e sempre arredonde os valores para cima, isto é, considere latas cheias. \n",
        "\n"
      ]
    },
    {
      "cell_type": "code",
      "execution_count": null,
      "id": "54c1e741",
      "metadata": {
        "deletable": false,
        "nbgrader": {
          "cell_type": "code",
          "checksum": "8f12ca6f898fe140e2eb04c84fc6c8f3",
          "grade": true,
          "grade_id": "Exercicio8",
          "locked": false,
          "points": 2,
          "schema_version": 3,
          "solution": true,
          "task": false
        },
        "id": "54c1e741",
        "colab": {
          "base_uri": "https://localhost:8080/"
        },
        "outputId": "15cbd034-371e-4a84-e9d5-715ccf4679b9"
      },
      "outputs": [
        {
          "output_type": "stream",
          "name": "stdout",
          "text": [
            "Metros a ser pintado: 97\n",
            "\n",
            "\n",
            "Apenas latas de 18 litros: \n",
            "Ele gastará 88.0 reais ao comprar 1.0 galões.\n",
            "\n",
            "\n",
            "Apenas latas de 3,6 litros: \n",
            "Ele gastará 82.5 reais ao comprar 3.0 latas.\n",
            "\n",
            "\n",
            "Latas e Galões: \n",
            "Ele gastará 82.5 reais ao comprar 3.0 latas.\n",
            "Ele gastará 0 reais ao comprar 0 galões.\n"
          ]
        }
      ],
      "source": [
        "metros = float(input(\"Metros a ser pintado: \"))\n",
        "litro = metros/12;\n",
        "\n",
        "print(\"\\n\\nApenas latas de 18 litros: \")\n",
        "print(\"Ele gastará \" + str(((((litro/18)+1)//1) * 80) + (((((litro/18)+1)//1) * 80)/10)) + \" reais ao comprar \" + str(((litro/18)+1)//1) + \" galões.\")\n",
        "\n",
        "print(\"\\n\\nApenas latas de 3,6 litros: \")\n",
        "print(\"Ele gastará \" + str(((((litro/3.6)+1)//1) * 25) + (((((litro/3.6)+1)//1) * 25)/10) ) + \" reais ao comprar \" + str(((litro/3.6)+1)//1) + \" latas.\")\n",
        "\n",
        "print(\"\\n\\nLatas e Galões: \")\n",
        "\n",
        "if(metros > 130):\n",
        "  resto = litro % 18\n",
        "  valorMaior = litro//18\n",
        "  valorMenor = ((resto/3,6)+1)//1\n",
        "  valorGalao = (valorMaior * 80) + ((valorMaior * 80)/10)\n",
        "  valorLata = (valorMenor * 25) + ((valorMenor * 25)/10)\n",
        "  print(\"Ele gastará \" + valorGalao + \" reais ao comprar \" + valorMaior + \" galões.\")\n",
        "  print(\"Ele gastará \" + valorLata + \" reais ao comprar \" + valorMenor + \" latas.\")\n",
        "else:\n",
        "  print(\"Ele gastará \" + str(((((litro/3.6)+1)//1) * 25) + (((((litro/3.6)+1)//1) * 25)/10) ) + \" reais ao comprar \" + str(((litro/3.6)+1)//1) + \" latas.\")\n",
        "  print(\"Ele gastará \" + str(0) + \" reais ao comprar \" + str(0) + \" galões.\")\n"
      ]
    }
  ],
  "metadata": {
    "kernelspec": {
      "display_name": "Python 3 (ipykernel)",
      "language": "python",
      "name": "python3"
    },
    "language_info": {
      "codemirror_mode": {
        "name": "ipython",
        "version": 3
      },
      "file_extension": ".py",
      "mimetype": "text/x-python",
      "name": "python",
      "nbconvert_exporter": "python",
      "pygments_lexer": "ipython3",
      "version": "3.9.7"
    },
    "colab": {
      "name": "Semana1.ipynb",
      "provenance": [],
      "collapsed_sections": []
    }
  },
  "nbformat": 4,
  "nbformat_minor": 5
}