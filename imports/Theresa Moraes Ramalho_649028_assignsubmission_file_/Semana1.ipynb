{
  "cells": [
    {
      "cell_type": "markdown",
      "id": "d4a1d469",
      "metadata": {
        "id": "d4a1d469"
      },
      "source": [
        "# Instruções\n",
        "\n",
        "- Antes de resolver esses exercícios, certifique-se que a configuração está correta (Python 3).\n",
        "\n",
        "- Se estiver usando o Colab, faça uma cópia deste notebook antes de começar a repondê-lo.\n",
        "\n",
        "![](http://professor.ufabc.edu.br/~ronaldo.prati/colab.png)\n",
        "\n",
        "- Lembre-se de manter o nome do caderno com o mesmo nome original.\n",
        "\n",
        "- Não apague nem introduza novas células neste notebook.\n",
        "\n",
        "- Certifique-se que você preencheu todos os lugares que dizem \\\"YOUR CODE HERE\\\" ou \\\"YOUR ANSWER HERE\\\". Substitutua essa linha e também a linha `raise NotImplementedError()` pelo seu código.\n",
        "\n",
        "- Depois de resolver os exercícios, para enviar a atividade, salve o notebook e o envie pelo moodle da disciplina. No colab, para exportar o notebook localmente, acesse `File->Download->Download .ipynb` ou `Arquivo->Baixar->Baixar .ipynb`\n",
        "\n",
        "![](http://professor.ufabc.edu.br/~ronaldo.prati/submit.png)"
      ]
    },
    {
      "cell_type": "markdown",
      "id": "5f82cbf3",
      "metadata": {
        "deletable": false,
        "editable": false,
        "nbgrader": {
          "cell_type": "markdown",
          "checksum": "f1f911b3ba8050e102209c62c8db3f57",
          "grade": false,
          "grade_id": "Exercicio1-descricao",
          "locked": true,
          "schema_version": 3,
          "solution": false,
          "task": false
        },
        "id": "5f82cbf3"
      },
      "source": [
        "# Exercício 1\n",
        "\n",
        "Faça um programa que peça um número e armazene-o em uma variável. A seguir, mostre a mensagem \"O número informado foi [número]\""
      ]
    },
    {
      "cell_type": "code",
      "execution_count": 133,
      "id": "98f0fd7a",
      "metadata": {
        "deletable": false,
        "nbgrader": {
          "cell_type": "code",
          "checksum": "74fb8b9b0c1978c0db15aa13a5696150",
          "grade": true,
          "grade_id": "Exercicio1",
          "locked": false,
          "points": 1,
          "schema_version": 3,
          "solution": true,
          "task": false
        },
        "id": "98f0fd7a",
        "colab": {
          "base_uri": "https://localhost:8080/"
        },
        "outputId": "943f03a4-42aa-4ef0-d270-aa58b481ff17"
      },
      "outputs": [
        {
          "output_type": "stream",
          "name": "stdout",
          "text": [
            "informe um número 3\n",
            "O número informado foi: 3\n"
          ]
        }
      ],
      "source": [
        "#NOME:THERESA MORAES RAMALHO RA: 11202130322\n",
        "\n",
        "import math \n",
        "x = input('informe um número ')\n",
        "print('O número informado foi:',x)"
      ]
    },
    {
      "cell_type": "markdown",
      "id": "dd8c0af2",
      "metadata": {
        "deletable": false,
        "editable": false,
        "nbgrader": {
          "cell_type": "markdown",
          "checksum": "e1645b130e5fd8363c5a31803d8a6730",
          "grade": false,
          "grade_id": "Exercicio2-descricao",
          "locked": true,
          "schema_version": 3,
          "solution": false,
          "task": false
        },
        "id": "dd8c0af2"
      },
      "source": [
        "# Exercício 2\n",
        "\n",
        "Faça um Programa que peça o raio de um círculo, calcule e mostre sua área.\n",
        "Dica: para usar o valor de $\\pi$, pesquise por `math.pi`."
      ]
    },
    {
      "cell_type": "code",
      "execution_count": 134,
      "id": "407e7f33",
      "metadata": {
        "deletable": false,
        "nbgrader": {
          "cell_type": "code",
          "checksum": "41ef7b01abeaa8d74e2893a5054fb644",
          "grade": true,
          "grade_id": "Exercicio2",
          "locked": false,
          "points": 1,
          "schema_version": 3,
          "solution": true,
          "task": false
        },
        "id": "407e7f33",
        "colab": {
          "base_uri": "https://localhost:8080/"
        },
        "outputId": "134af1dd-a58e-4d98-a6eb-b2b1f7d67575"
      },
      "outputs": [
        {
          "output_type": "stream",
          "name": "stdout",
          "text": [
            "Insira o raio de um círculo: 3\n",
            "A área calculada foi de: 28.27 metros quadrados\n"
          ]
        }
      ],
      "source": [
        "R = float(input('Insira o raio de um círculo: '))\n",
        "S = math.pi*R*R\n",
        "\n",
        "print('A área calculada foi de:',(\"%.2f\" % S), 'metros quadrados')"
      ]
    },
    {
      "cell_type": "markdown",
      "id": "868cfe1c",
      "metadata": {
        "deletable": false,
        "editable": false,
        "nbgrader": {
          "cell_type": "markdown",
          "checksum": "83a396c8ae7ca1696f25c00d928c9d55",
          "grade": false,
          "grade_id": "Exercicio3-descricao",
          "locked": true,
          "schema_version": 3,
          "solution": false,
          "task": false
        },
        "id": "868cfe1c"
      },
      "source": [
        "# Exercício 3\n",
        "\n",
        "Faça um Programa que peça 2 números inteiros e um número real. Calcule e mostre:\n",
        "\n",
        "   - o produto do dobro do primeiro com metade do segundo .\n",
        "   - a soma do triplo do primeiro com o terceiro.\n",
        "   - o terceiro elevado ao cubo. "
      ]
    },
    {
      "cell_type": "code",
      "execution_count": 135,
      "id": "0f2c4944",
      "metadata": {
        "deletable": false,
        "nbgrader": {
          "cell_type": "code",
          "checksum": "01db6a60d8afd153075785a9f8e10ea5",
          "grade": true,
          "grade_id": "Exercicio3",
          "locked": false,
          "points": 1,
          "schema_version": 3,
          "solution": true,
          "task": false
        },
        "id": "0f2c4944",
        "colab": {
          "base_uri": "https://localhost:8080/"
        },
        "outputId": "fdd2671b-8f91-4dc7-a70f-9b9983eaec60"
      },
      "outputs": [
        {
          "output_type": "stream",
          "name": "stdout",
          "text": [
            "Insira um número inteiro: 5\n",
            "Insira outro número inteiro: 5\n",
            "Insira um número real: 2.3\n",
            "O produto do dobro do primeiro com metade do segundo é:  25.00\n",
            "A soma do triplo do primeiro com o terceiro é:  17.30\n",
            "O terceiro elevado ao cubo é:  12.17\n"
          ]
        }
      ],
      "source": [
        "Z1 = float(input('Insira um número inteiro: '))\n",
        "Z2 = float(input('Insira outro número inteiro: '))\n",
        "R1 = float(input('Insira um número real: '))\n",
        "\n",
        "c1 = 2*Z1*(Z2/2)\n",
        "c2 = 3*Z1 + R1\n",
        "c3 = R1**3\n",
        "\n",
        "print(\"O produto do dobro do primeiro com metade do segundo é: \", (\"%.2f\" % c1))\n",
        "print(\"A soma do triplo do primeiro com o terceiro é: \", (\"%.2f\" % c2))\n",
        "print(\"O terceiro elevado ao cubo é: \",(\"%.2f\" % c3))"
      ]
    },
    {
      "cell_type": "markdown",
      "id": "d3996f2c",
      "metadata": {
        "deletable": false,
        "editable": false,
        "nbgrader": {
          "cell_type": "markdown",
          "checksum": "dbee5e0c5c9a02ca7b0fbcbf0c5018fd",
          "grade": false,
          "grade_id": "Exercicio4-descricao",
          "locked": true,
          "schema_version": 3,
          "solution": false,
          "task": false
        },
        "id": "d3996f2c"
      },
      "source": [
        "# Exercício 4\n",
        "\n",
        "Faça um programa que pergunte quanto você ganha por hora e o número de horas trabalhadas na semana. Calcule e mostre o total do seu salário ao final de 4 semanas. "
      ]
    },
    {
      "cell_type": "code",
      "execution_count": 136,
      "id": "5a307587",
      "metadata": {
        "deletable": false,
        "nbgrader": {
          "cell_type": "code",
          "checksum": "e511551fc875680ccd9679f9b2c21414",
          "grade": true,
          "grade_id": "Exercicio4",
          "locked": false,
          "points": 1,
          "schema_version": 3,
          "solution": true,
          "task": false
        },
        "id": "5a307587",
        "colab": {
          "base_uri": "https://localhost:8080/"
        },
        "outputId": "ee0147f6-83b2-4524-aa73-b9990c6d827d"
      },
      "outputs": [
        {
          "output_type": "stream",
          "name": "stdout",
          "text": [
            "Quanto você ganha por hora? 30\n",
            "Quantas horas você trabalha por semana? 48\n",
            "O seu salário é de:  5760.00 a cada quatro semanas\n"
          ]
        }
      ],
      "source": [
        "G = float(input(\"Quanto você ganha por hora? \"))\n",
        "N = float(input(\"Quantas horas você trabalha por semana? \"))\n",
        "T = 4*G*N\n",
        "\n",
        "print('O seu salário é de: ',(\"%.2f\" % T), 'a cada quatro semanas')"
      ]
    },
    {
      "cell_type": "markdown",
      "id": "d5088446",
      "metadata": {
        "deletable": false,
        "editable": false,
        "nbgrader": {
          "cell_type": "markdown",
          "checksum": "c82b175f45419cc78a6f0efc08f9ab15",
          "grade": false,
          "grade_id": "Exercicio5-descricao",
          "locked": true,
          "schema_version": 3,
          "solution": false,
          "task": false
        },
        "id": "d5088446"
      },
      "source": [
        "# Exercício 5\n",
        "\n",
        "Faça um programa que leia um número inteiro qualquer e que apresete, além do número informado, o seu antecessor e do seu sucessor."
      ]
    },
    {
      "cell_type": "code",
      "execution_count": 137,
      "id": "a09fcc89",
      "metadata": {
        "deletable": false,
        "nbgrader": {
          "cell_type": "code",
          "checksum": "9f693e117e3e2158f95ee76dc96292a0",
          "grade": true,
          "grade_id": "Exercicio5",
          "locked": false,
          "points": 1,
          "schema_version": 3,
          "solution": true,
          "task": false
        },
        "id": "a09fcc89",
        "colab": {
          "base_uri": "https://localhost:8080/"
        },
        "outputId": "6e043852-674c-4c8c-8e8d-7c45a4eef92d"
      },
      "outputs": [
        {
          "output_type": "stream",
          "name": "stdout",
          "text": [
            "Insira um número inteiro: 1\n",
            "O número informado foi:  1.0\n",
            "O antecessor desse número é:  0.0\n",
            "O sucessor desse número é:  2.0\n"
          ]
        }
      ],
      "source": [
        "Z1 = float(input('Insira um número inteiro: '))\n",
        "A  = Z1-1\n",
        "S  = Z1+1\n",
        "print(\"O número informado foi: \",Z1)\n",
        "print(\"O antecessor desse número é: \",A)\n",
        "print(\"O sucessor desse número é: \",S)"
      ]
    },
    {
      "cell_type": "markdown",
      "id": "57a3fb31",
      "metadata": {
        "deletable": false,
        "editable": false,
        "nbgrader": {
          "cell_type": "markdown",
          "checksum": "537bdb2e45ec13ee95cea397e02744f2",
          "grade": false,
          "grade_id": "Exercicio6-descricao",
          "locked": true,
          "schema_version": 3,
          "solution": false,
          "task": false
        },
        "id": "57a3fb31"
      },
      "source": [
        "# Exercício 6\n",
        "\n",
        "Faça um programa que leia quatro notas, e seus respectivos pesos, e que apresente a média final simples e a média final ponderada."
      ]
    },
    {
      "cell_type": "code",
      "execution_count": 138,
      "id": "10e12fd4",
      "metadata": {
        "deletable": false,
        "nbgrader": {
          "cell_type": "code",
          "checksum": "ff1bbd3e5c18dc73d5e0328c41d74739",
          "grade": true,
          "grade_id": "Exercicio6",
          "locked": false,
          "points": 1,
          "schema_version": 3,
          "solution": true,
          "task": false
        },
        "id": "10e12fd4",
        "colab": {
          "base_uri": "https://localhost:8080/"
        },
        "outputId": "8e6ac897-e1f2-48cc-b4f6-598753f06971"
      },
      "outputs": [
        {
          "output_type": "stream",
          "name": "stdout",
          "text": [
            "Insira a primeira nota: 5\n",
            "Insira a segunda nota: 7\n",
            "Insira a terceira nota: 9.7\n",
            "Insira a quarta nota: 10\n",
            "Insira o peso da primeira nota: 1\n",
            "Insira o peso da segunda nota: 1\n",
            "Insira o peso da terceira nota: 1\n",
            "Insira o peso da quarta nota: 1\n",
            "A média final simples é:  7.925\n",
            "A média final ponderada é:  7.925\n"
          ]
        }
      ],
      "source": [
        "n1 = float(input(\"Insira a primeira nota: \"))\n",
        "n2 = float(input(\"Insira a segunda nota: \"))\n",
        "n3 = float(input(\"Insira a terceira nota: \"))\n",
        "n4 = float(input(\"Insira a quarta nota: \"))\n",
        "\n",
        "p1 = float(input(\"Insira o peso da primeira nota: \"))\n",
        "p2 = float(input(\"Insira o peso da segunda nota: \"))\n",
        "p3 = float(input(\"Insira o peso da terceira nota: \"))\n",
        "p4 = float(input(\"Insira o peso da quarta nota: \"))\n",
        "\n",
        "MS = (n1+n2+n3+n4)/4\n",
        "MP = (p1*n1+p2*n2+p3*n3+p4*n4)/(p1+p2+p3+p4)\n",
        "\n",
        "print('A média final simples é: ',MP)\n",
        "print('A média final ponderada é: ',MS)"
      ]
    },
    {
      "cell_type": "markdown",
      "id": "da81404d",
      "metadata": {
        "deletable": false,
        "editable": false,
        "nbgrader": {
          "cell_type": "markdown",
          "checksum": "6f91f7198e36290a15c6547e839a5885",
          "grade": false,
          "grade_id": "Exercicio7-descricao",
          "locked": true,
          "schema_version": 3,
          "solution": false,
          "task": false
        },
        "id": "da81404d"
      },
      "source": [
        "# Exercício 7\n",
        "\n",
        "Faça um programa para uma loja de tintas. O programa deverá pedir o tamanho em metros quadrados da área a ser pintada. Considere que a cobertura da tinta é de 1 litro para cada 12 metros quadrados e que a tinta é vendida em latas de 18 litros, que custam R$ 80,00. Informe ao usuário a quantidades de latas de tinta a serem compradas e o preço total. "
      ]
    },
    {
      "cell_type": "code",
      "execution_count": 139,
      "id": "2a1f6a9c",
      "metadata": {
        "deletable": false,
        "nbgrader": {
          "cell_type": "code",
          "checksum": "0b356a405bcdf2f889a9a95d9a196d61",
          "grade": true,
          "grade_id": "Exercicio7",
          "locked": false,
          "points": 2,
          "schema_version": 3,
          "solution": true,
          "task": false
        },
        "id": "2a1f6a9c",
        "colab": {
          "base_uri": "https://localhost:8080/"
        },
        "outputId": "93236ddb-c7af-4af1-8e2e-234226ac8dd3"
      },
      "outputs": [
        {
          "output_type": "stream",
          "name": "stdout",
          "text": [
            "Informe, em metros quadrados, a área a ser pintada: 40\n",
            "\n",
            "A quantidade de latas necessária é de: 1 lata(s)\n",
            "O preço total é de: 80 reais\n"
          ]
        }
      ],
      "source": [
        "METROS = float(input(\"Informe, em metros quadrados, a área a ser pintada: \"))\n",
        "QTD = math.ceil(METROS/216)\n",
        "PRECO = QTD*80\n",
        "print()\n",
        "print('A quantidade de latas necessária é de:',QTD, 'lata(s)')\n",
        "print('O preço total é de:',PRECO,'reais')"
      ]
    },
    {
      "cell_type": "markdown",
      "id": "79eca3d1",
      "metadata": {
        "deletable": false,
        "editable": false,
        "nbgrader": {
          "cell_type": "markdown",
          "checksum": "e44b2f3971c79d43c75c12bce821c4d9",
          "grade": false,
          "grade_id": "Exercicio8-descricao",
          "locked": true,
          "schema_version": 3,
          "solution": false,
          "task": false
        },
        "id": "79eca3d1"
      },
      "source": [
        "# Exercício 8\n",
        "\n",
        "Faça um Programa para uma loja de tintas. O programa deverá pedir o tamanho em metros quadrados da área a ser pintada. Considere que a cobertura da tinta é de 1 litro para cada 12 metros quadrados e que a tinta é vendida em latas de 18 litros, que custam R$ 80,00 ou em galões de 3,6 litros, que custam R$ 25,00.\n",
        "\n",
        "Informe ao usuário as quantidades de tinta a serem compradas e os respectivos preços em 3 situações:\n",
        "\n",
        "    - comprar apenas latas de 18 litros;\n",
        "    - comprar apenas galões de 3,6 litros;\n",
        "    - misturar latas e galões, de forma que o desperdício de tinta seja menor. \n",
        "    \n",
        "Acrescente 10% de folga nos três casos (isto é, você deve adicionar 10% sobre o total de litros de tinta necessário) e sempre arredonde os valores para cima, isto é, considere latas cheias. \n",
        "\n"
      ]
    },
    {
      "cell_type": "code",
      "execution_count": 132,
      "id": "54c1e741",
      "metadata": {
        "deletable": false,
        "nbgrader": {
          "cell_type": "code",
          "checksum": "8f12ca6f898fe140e2eb04c84fc6c8f3",
          "grade": true,
          "grade_id": "Exercicio8",
          "locked": false,
          "points": 2,
          "schema_version": 3,
          "solution": true,
          "task": false
        },
        "id": "54c1e741",
        "colab": {
          "base_uri": "https://localhost:8080/"
        },
        "outputId": "f149af69-4c8a-42e1-f60c-0cc59f337c15"
      },
      "outputs": [
        {
          "output_type": "stream",
          "name": "stdout",
          "text": [
            "Informe, em metros quadrados, a área a ser pintada: 13245\n",
            "\n",
            "Total de Litros necessários: 1214.12\n",
            "Utilizando apenas latas:  69 LATAS custando -  5520.00 reais\n",
            "Ultilizando apenas galões:  339 GALÕES custando - 8475.00 reais\n",
            "Mistura:  67 LATAS 3 GALÕES custando - 5435.00 reais\n"
          ]
        }
      ],
      "source": [
        "def comparar_situacoes(litro):\n",
        "    #LATAS\n",
        "    latas = math.ceil(litro/18) \n",
        "    if latas % 18 != 0:\n",
        "        latas += 1\n",
        "    p_latas = latas*80                       #PREÇO LATAS\n",
        "    \n",
        "    # GALÕES\n",
        "    galoes = math.ceil(litro/3.6)\n",
        "    if galoes % 3.6 != 0:\n",
        "        galoes += 1\n",
        "    p_galoes = galoes*25                     #PREÇO GALÕES\n",
        "    \n",
        "    mistura_lata = int(litro / 18.0)\n",
        "    mistura_galao = int((litro - (mistura_lata * 18)) / 3.6)\n",
        "    if litro - (mistura_lata * 18) % 3.6 != 0:\n",
        "        mistura_galao += 1\n",
        "    galoes_total = (mistura_lata * 80) + (mistura_galao * 25)\n",
        "\n",
        "    print()\n",
        "    print('Total de Litros necessários:',(\"%.2f\" % litro))\n",
        "    print('Utilizando apenas latas: ',(latas),'LATAS','custando - ',(\"%.2f\" % p_latas), 'reais')\n",
        "    print('Ultilizando apenas galões: ',(galoes),'GALÕES','custando -',(\"%.2f\" % p_galoes), 'reais')\n",
        "    print('Mistura: ',mistura_lata,'LATAS', mistura_galao,'GALÕES','custando -', (\"%.2f\" % galoes_total), 'reais')\n",
        "\n",
        "metros = float(input(\"Informe, em metros quadrados, a área a ser pintada: \"))          \n",
        "litro = 1.1*(metros/12)                                     \n",
        "comparar_situacoes(litro)"
      ]
    }
  ],
  "metadata": {
    "kernelspec": {
      "display_name": "Python 3 (ipykernel)",
      "language": "python",
      "name": "python3"
    },
    "language_info": {
      "codemirror_mode": {
        "name": "ipython",
        "version": 3
      },
      "file_extension": ".py",
      "mimetype": "text/x-python",
      "name": "python",
      "nbconvert_exporter": "python",
      "pygments_lexer": "ipython3",
      "version": "3.9.7"
    },
    "colab": {
      "name": "Semana1.ipynb",
      "provenance": [],
      "collapsed_sections": []
    }
  },
  "nbformat": 4,
  "nbformat_minor": 5
}