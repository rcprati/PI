{
  "cells": [
    {
      "cell_type": "markdown",
      "id": "d4a1d469",
      "metadata": {
        "id": "d4a1d469"
      },
      "source": [
        "# Instruções\n",
        "\n",
        "- Antes de resolver esses exercícios, certifique-se que a configuração está correta (Python 3).\n",
        "\n",
        "- Se estiver usando o Colab, faça uma cópia deste notebook antes de começar a repondê-lo.\n",
        "\n",
        "![](http://professor.ufabc.edu.br/~ronaldo.prati/colab.png)\n",
        "\n",
        "- Lembre-se de manter o nome do caderno com o mesmo nome original.\n",
        "\n",
        "- Não apague nem introduza novas células neste notebook.\n",
        "\n",
        "- Certifique-se que você preencheu todos os lugares que dizem \\\"YOUR CODE HERE\\\" ou \\\"YOUR ANSWER HERE\\\". Substitutua essa linha e também a linha `raise NotImplementedError()` pelo seu código.\n",
        "\n",
        "- Depois de resolver os exercícios, para enviar a atividade, salve o notebook e o envie pelo moodle da disciplina. No colab, para exportar o notebook localmente, acesse `File->Download->Download .ipynb` ou `Arquivo->Baixar->Baixar .ipynb`\n",
        "\n",
        "![](http://professor.ufabc.edu.br/~ronaldo.prati/submit.png)"
      ]
    },
    {
      "cell_type": "markdown",
      "id": "5f82cbf3",
      "metadata": {
        "deletable": false,
        "editable": false,
        "nbgrader": {
          "cell_type": "markdown",
          "checksum": "f1f911b3ba8050e102209c62c8db3f57",
          "grade": false,
          "grade_id": "Exercicio1-descricao",
          "locked": true,
          "schema_version": 3,
          "solution": false,
          "task": false
        },
        "id": "5f82cbf3"
      },
      "source": [
        "# Exercício 1\n",
        "\n",
        "Faça um programa que peça um número e armazene-o em uma variável. A seguir, mostre a mensagem \"O número informado foi [número]\""
      ]
    },
    {
      "cell_type": "code",
      "execution_count": 3,
      "id": "98f0fd7a",
      "metadata": {
        "deletable": false,
        "nbgrader": {
          "cell_type": "code",
          "checksum": "74fb8b9b0c1978c0db15aa13a5696150",
          "grade": true,
          "grade_id": "Exercicio1",
          "locked": false,
          "points": 1,
          "schema_version": 3,
          "solution": true,
          "task": false
        },
        "id": "98f0fd7a",
        "colab": {
          "base_uri": "https://localhost:8080/"
        },
        "outputId": "ab9425df-6a08-4bd6-b6aa-820d2f81deb9"
      },
      "outputs": [
        {
          "output_type": "stream",
          "name": "stdout",
          "text": [
            "Digite o número: 11\n",
            "O número digitado foi: 11\n"
          ]
        }
      ],
      "source": [
        "n = input ('Digite o número: ')\n",
        "print(\"O número digitado foi: \" +n)"
      ]
    },
    {
      "cell_type": "markdown",
      "id": "dd8c0af2",
      "metadata": {
        "deletable": false,
        "editable": false,
        "nbgrader": {
          "cell_type": "markdown",
          "checksum": "e1645b130e5fd8363c5a31803d8a6730",
          "grade": false,
          "grade_id": "Exercicio2-descricao",
          "locked": true,
          "schema_version": 3,
          "solution": false,
          "task": false
        },
        "id": "dd8c0af2"
      },
      "source": [
        "# Exercício 2\n",
        "\n",
        "Faça um Programa que peça o raio de um círculo, calcule e mostre sua área.\n",
        "Dica: para usar o valor de $\\pi$, pesquise por `math.pi`."
      ]
    },
    {
      "cell_type": "code",
      "execution_count": 10,
      "id": "407e7f33",
      "metadata": {
        "deletable": false,
        "nbgrader": {
          "cell_type": "code",
          "checksum": "41ef7b01abeaa8d74e2893a5054fb644",
          "grade": true,
          "grade_id": "Exercicio2",
          "locked": false,
          "points": 1,
          "schema_version": 3,
          "solution": true,
          "task": false
        },
        "id": "407e7f33",
        "colab": {
          "base_uri": "https://localhost:8080/"
        },
        "outputId": "07d0610d-06cf-423f-b747-0bff02a3f18d"
      },
      "outputs": [
        {
          "output_type": "stream",
          "name": "stdout",
          "text": [
            "Digite o raio do círculo: 4\n",
            "Área igual a: 50.26548245743669\n"
          ]
        }
      ],
      "source": [
        "import math\n",
        "raio = float(input('Digite o raio do círculo: '))\n",
        "area = (math.pi*(raio*raio))\n",
        "print (\"Área igual a: \" + str(area))"
      ]
    },
    {
      "cell_type": "markdown",
      "id": "868cfe1c",
      "metadata": {
        "deletable": false,
        "editable": false,
        "nbgrader": {
          "cell_type": "markdown",
          "checksum": "83a396c8ae7ca1696f25c00d928c9d55",
          "grade": false,
          "grade_id": "Exercicio3-descricao",
          "locked": true,
          "schema_version": 3,
          "solution": false,
          "task": false
        },
        "id": "868cfe1c"
      },
      "source": [
        "# Exercício 3\n",
        "\n",
        "Faça um Programa que peça 2 números inteiros e um número real. Calcule e mostre:\n",
        "\n",
        "   - o produto do dobro do primeiro com metade do segundo .\n",
        "   - a soma do triplo do primeiro com o terceiro.\n",
        "   - o terceiro elevado ao cubo. "
      ]
    },
    {
      "cell_type": "code",
      "execution_count": 26,
      "id": "0f2c4944",
      "metadata": {
        "deletable": false,
        "nbgrader": {
          "cell_type": "code",
          "checksum": "01db6a60d8afd153075785a9f8e10ea5",
          "grade": true,
          "grade_id": "Exercicio3",
          "locked": false,
          "points": 1,
          "schema_version": 3,
          "solution": true,
          "task": false
        },
        "id": "0f2c4944",
        "colab": {
          "base_uri": "https://localhost:8080/"
        },
        "outputId": "9d8a9ef5-8bb4-42d7-d7ad-82bd57510749"
      },
      "outputs": [
        {
          "output_type": "stream",
          "name": "stdout",
          "text": [
            "Digite o primeiro número inteiro: 10\n",
            "Digite o segundo número inteiro: 15\n",
            "Digite o número real: 20\n",
            "Resultados dos cálculos: \n",
            "150.0\n",
            "50.0\n",
            "8000.0\n"
          ]
        }
      ],
      "source": [
        "import math\n",
        "i1 = int(input('Digite o primeiro número inteiro: '))\n",
        "i2 = int(input('Digite o segundo número inteiro: '))\n",
        "r1 = float(input('Digite o número real: '))\n",
        "calculo1 =(2*i1)*(i2/2)\n",
        "calculo2 =(3*i1)+r1\n",
        "calculo3 = math.pow(r1 , 3)\n",
        "\n",
        "print (\"Resultados dos cálculos: \")\n",
        "print (calculo1)\n",
        "print (calculo2)\n",
        "print (calculo3)"
      ]
    },
    {
      "cell_type": "markdown",
      "id": "d3996f2c",
      "metadata": {
        "deletable": false,
        "editable": false,
        "nbgrader": {
          "cell_type": "markdown",
          "checksum": "dbee5e0c5c9a02ca7b0fbcbf0c5018fd",
          "grade": false,
          "grade_id": "Exercicio4-descricao",
          "locked": true,
          "schema_version": 3,
          "solution": false,
          "task": false
        },
        "id": "d3996f2c"
      },
      "source": [
        "# Exercício 4\n",
        "\n",
        "Faça um programa que pergunte quanto você ganha por hora e o número de horas trabalhadas na semana. Calcule e mostre o total do seu salário ao final de 4 semanas. "
      ]
    },
    {
      "cell_type": "code",
      "execution_count": 29,
      "id": "5a307587",
      "metadata": {
        "deletable": false,
        "nbgrader": {
          "cell_type": "code",
          "checksum": "e511551fc875680ccd9679f9b2c21414",
          "grade": true,
          "grade_id": "Exercicio4",
          "locked": false,
          "points": 1,
          "schema_version": 3,
          "solution": true,
          "task": false
        },
        "id": "5a307587",
        "colab": {
          "base_uri": "https://localhost:8080/"
        },
        "outputId": "d0f5c20d-655b-4b1f-f385-2c6834692cee"
      },
      "outputs": [
        {
          "output_type": "stream",
          "name": "stdout",
          "text": [
            "Digite o valor ganho por hora: 20\n",
            "Digite as horas trabalhadas por semana: 30\n",
            "O salário total é: 2400.0\n"
          ]
        }
      ],
      "source": [
        "SalarioHora = float(input('Digite o valor ganho por hora: '))\n",
        "HorasSemana = int(input('Digite as horas trabalhadas por semana: '))\n",
        "SalarioSemana = SalarioHora*HorasSemana\n",
        "SalarioTotal = 4*SalarioSemana\n",
        "print (\"O salário total é: \" + str(SalarioTotal))\n"
      ]
    },
    {
      "cell_type": "markdown",
      "id": "d5088446",
      "metadata": {
        "deletable": false,
        "editable": false,
        "nbgrader": {
          "cell_type": "markdown",
          "checksum": "c82b175f45419cc78a6f0efc08f9ab15",
          "grade": false,
          "grade_id": "Exercicio5-descricao",
          "locked": true,
          "schema_version": 3,
          "solution": false,
          "task": false
        },
        "id": "d5088446"
      },
      "source": [
        "# Exercício 5\n",
        "\n",
        "Faça um programa que leia um número inteiro qualquer e que apresete, além do número informado, o seu antecessor e do seu sucessor."
      ]
    },
    {
      "cell_type": "code",
      "execution_count": 33,
      "id": "a09fcc89",
      "metadata": {
        "deletable": false,
        "nbgrader": {
          "cell_type": "code",
          "checksum": "9f693e117e3e2158f95ee76dc96292a0",
          "grade": true,
          "grade_id": "Exercicio5",
          "locked": false,
          "points": 1,
          "schema_version": 3,
          "solution": true,
          "task": false
        },
        "id": "a09fcc89",
        "colab": {
          "base_uri": "https://localhost:8080/"
        },
        "outputId": "b9609fb4-fddc-4cab-c518-a76e45ec8d24"
      },
      "outputs": [
        {
          "output_type": "stream",
          "name": "stdout",
          "text": [
            "Digite o numero: 12\n",
            "Numero informado: 12\n",
            "Antecessor: 11\n",
            "Sucessor: 13\n"
          ]
        }
      ],
      "source": [
        "i = int(input('Digite o numero: '))\n",
        "ant = i-1\n",
        "suc = i+1\n",
        "print (\"Numero informado: \" +str(i))\n",
        "print (\"Antecessor: \" +str(ant))\n",
        "print (\"Sucessor: \" +str(suc))\n"
      ]
    },
    {
      "cell_type": "markdown",
      "id": "57a3fb31",
      "metadata": {
        "deletable": false,
        "editable": false,
        "nbgrader": {
          "cell_type": "markdown",
          "checksum": "537bdb2e45ec13ee95cea397e02744f2",
          "grade": false,
          "grade_id": "Exercicio6-descricao",
          "locked": true,
          "schema_version": 3,
          "solution": false,
          "task": false
        },
        "id": "57a3fb31"
      },
      "source": [
        "# Exercício 6\n",
        "\n",
        "Faça um programa que leia quatro notas, e seus respectivos pesos, e que apresente a média final simples e a média final ponderada."
      ]
    },
    {
      "cell_type": "code",
      "execution_count": 45,
      "id": "10e12fd4",
      "metadata": {
        "deletable": false,
        "nbgrader": {
          "cell_type": "code",
          "checksum": "ff1bbd3e5c18dc73d5e0328c41d74739",
          "grade": true,
          "grade_id": "Exercicio6",
          "locked": false,
          "points": 1,
          "schema_version": 3,
          "solution": true,
          "task": false
        },
        "id": "10e12fd4",
        "colab": {
          "base_uri": "https://localhost:8080/"
        },
        "outputId": "051511b7-a17b-437e-f8ec-dcef17d3e6f7"
      },
      "outputs": [
        {
          "output_type": "stream",
          "name": "stdout",
          "text": [
            "Digite a primeira nota 10\n",
            "Digite a segunda nota 7\n",
            "Digite a terceira nota 8\n",
            "Digite a quarta nota 9\n",
            "Digite o peso da primeira nota 1\n",
            "Digite o peso da segunda nota 2\n",
            "Digite o peso da terceira nota 3\n",
            "Digite o peso da quarta nota 4\n",
            "Média simples igual a: 8.5\n",
            "Média ponderada igual a: 8.4\n"
          ]
        }
      ],
      "source": [
        "nota1 = float(input('Digite a primeira nota '))\n",
        "nota2 = float(input('Digite a segunda nota '))\n",
        "nota3 = float(input('Digite a terceira nota '))\n",
        "nota4 = float(input('Digite a quarta nota '))\n",
        "peso1 = float(input('Digite o peso da primeira nota '))\n",
        "peso2 = float(input('Digite o peso da segunda nota '))\n",
        "peso3 = float(input('Digite o peso da terceira nota '))\n",
        "peso4 = float(input('Digite o peso da quarta nota '))\n",
        "\n",
        "MediaFinalSimples = (nota1 + nota2 + nota3 + nota4)/4\n",
        "MediaFinalPonderada = (nota1*peso1 +  nota2*peso2 + nota3*peso3 + nota4*peso4) / (peso1+peso2+peso3+peso4)\n",
        "\n",
        "print(\"Média simples igual a: \" +str(MediaFinalSimples))\n",
        "print(\"Média ponderada igual a: \" +str(MediaFinalPonderada))"
      ]
    },
    {
      "cell_type": "markdown",
      "id": "da81404d",
      "metadata": {
        "deletable": false,
        "editable": false,
        "nbgrader": {
          "cell_type": "markdown",
          "checksum": "6f91f7198e36290a15c6547e839a5885",
          "grade": false,
          "grade_id": "Exercicio7-descricao",
          "locked": true,
          "schema_version": 3,
          "solution": false,
          "task": false
        },
        "id": "da81404d"
      },
      "source": [
        "# Exercício 7\n",
        "\n",
        "Faça um programa para uma loja de tintas. O programa deverá pedir o tamanho em metros quadrados da área a ser pintada. Considere que a cobertura da tinta é de 1 litro para cada 12 metros quadrados e que a tinta é vendida em latas de 18 litros, que custam R$ 80,00. Informe ao usuário a quantidades de latas de tinta a serem compradas e o preço total. "
      ]
    },
    {
      "cell_type": "code",
      "execution_count": 53,
      "id": "2a1f6a9c",
      "metadata": {
        "deletable": false,
        "nbgrader": {
          "cell_type": "code",
          "checksum": "0b356a405bcdf2f889a9a95d9a196d61",
          "grade": true,
          "grade_id": "Exercicio7",
          "locked": false,
          "points": 2,
          "schema_version": 3,
          "solution": true,
          "task": false
        },
        "id": "2a1f6a9c",
        "colab": {
          "base_uri": "https://localhost:8080/"
        },
        "outputId": "a580291d-0a14-4f53-b6e5-aaea06f731c9"
      },
      "outputs": [
        {
          "output_type": "stream",
          "name": "stdout",
          "text": [
            "Digite o tamanho da área a ser pintada: 250\n",
            "Total de latas a comprar: 2 latas\n",
            "Preço total a pagar: R$160\n"
          ]
        }
      ],
      "source": [
        "import math\n",
        "area = float(input('Digite o tamanho da área a ser pintada: '))\n",
        "\n",
        "litros = area/12\n",
        "\n",
        "latas = math.ceil(litros/18)\n",
        "\n",
        "preco_total = latas*80\n",
        "\n",
        "print(\"Total de latas a comprar: \" +str(latas) +\" latas\")\n",
        "print(\"Preço total a pagar: R$\" +str(preco_total))"
      ]
    },
    {
      "cell_type": "markdown",
      "id": "79eca3d1",
      "metadata": {
        "deletable": false,
        "editable": false,
        "nbgrader": {
          "cell_type": "markdown",
          "checksum": "e44b2f3971c79d43c75c12bce821c4d9",
          "grade": false,
          "grade_id": "Exercicio8-descricao",
          "locked": true,
          "schema_version": 3,
          "solution": false,
          "task": false
        },
        "id": "79eca3d1"
      },
      "source": [
        "# Exercício 8\n",
        "\n",
        "Faça um Programa para uma loja de tintas. O programa deverá pedir o tamanho em metros quadrados da área a ser pintada. Considere que a cobertura da tinta é de 1 litro para cada 12 metros quadrados e que a tinta é vendida em latas de 18 litros, que custam R$ 80,00 ou em galões de 3,6 litros, que custam R$ 25,00.\n",
        "\n",
        "Informe ao usuário as quantidades de tinta a serem compradas e os respectivos preços em 3 situações:\n",
        "\n",
        "    - comprar apenas latas de 18 litros;\n",
        "    - comprar apenas galões de 3,6 litros;\n",
        "    - misturar latas e galões, de forma que o desperdício de tinta seja menor. \n",
        "    \n",
        "Acrescente 10% de folga nos três casos (isto é, você deve adicionar 10% sobre o total de litros de tinta necessário) e sempre arredonde os valores para cima, isto é, considere latas cheias. \n",
        "\n"
      ]
    },
    {
      "cell_type": "code",
      "execution_count": 54,
      "id": "54c1e741",
      "metadata": {
        "deletable": false,
        "nbgrader": {
          "cell_type": "code",
          "checksum": "8f12ca6f898fe140e2eb04c84fc6c8f3",
          "grade": true,
          "grade_id": "Exercicio8",
          "locked": false,
          "points": 2,
          "schema_version": 3,
          "solution": true,
          "task": false
        },
        "id": "54c1e741",
        "colab": {
          "base_uri": "https://localhost:8080/"
        },
        "outputId": "1e99c48d-94b5-4e1a-87d9-784bffb7c505"
      },
      "outputs": [
        {
          "output_type": "stream",
          "name": "stdout",
          "text": [
            "Digite o tamanho da área a ser pintada: 250\n",
            "Para somente latas, serão necessárias 2 latas. O preço total será: R$160\n",
            "Para somente galões, serão necessários 7 galões. O preço total será de: R$175\n",
            "Para uma compra hibrida, serão necessárias 1 lata(s) e 2 galão(ões). O preço será de: R$130\n"
          ]
        }
      ],
      "source": [
        "import math\n",
        "\n",
        "A = float(input(\"Digite o tamanho da área a ser pintada: \"))\n",
        " \n",
        "num_Litro = A/12 + (A/12)*0.1\n",
        "\n",
        "if num_Litro%18 != 0:\n",
        "  num_Lata = math.ceil(num_Litro/18)\n",
        "  preco_Lata = num_Lata*80 \n",
        "print(\"Para somente latas, serão necessárias \" + str(num_Lata) + \" latas. O preço total será: R$\" + str(preco_Lata))\n",
        "\n",
        "if num_Litro%3.6 != 0:\n",
        "  num_Galao = math.ceil(num_Litro/3.6)\n",
        "  preco_Galao = num_Galao*25\n",
        "print(\"Para somente galões, serão necessários \" + str(num_Galao) + \" galões. O preço total será de: R$\" + str(preco_Galao))\n",
        "\n",
        "cont_L = 0\n",
        "cont_G = 0\n",
        "resto = num_Litro%18\n",
        "inteiro = num_Litro - (resto)\n",
        "cont_L = math.ceil(inteiro/18)\n",
        "cont_G = math.ceil(resto/3.6)\n",
        "preco_Total = cont_G*25 +cont_L*80\n",
        "\n",
        "print(\"Para uma compra hibrida, serão necessárias \" + str(cont_L) + \" lata(s) e \" + str(cont_G) + \" galão(ões). O preço será de: R$\" + str(preco_Total))"
      ]
    }
  ],
  "metadata": {
    "kernelspec": {
      "display_name": "Python 3 (ipykernel)",
      "language": "python",
      "name": "python3"
    },
    "language_info": {
      "codemirror_mode": {
        "name": "ipython",
        "version": 3
      },
      "file_extension": ".py",
      "mimetype": "text/x-python",
      "name": "python",
      "nbconvert_exporter": "python",
      "pygments_lexer": "ipython3",
      "version": "3.9.7"
    },
    "colab": {
      "name": "Semana1.ipynb",
      "provenance": []
    }
  },
  "nbformat": 4,
  "nbformat_minor": 5
}