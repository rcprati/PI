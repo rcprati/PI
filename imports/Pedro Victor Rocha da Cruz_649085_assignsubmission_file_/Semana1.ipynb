{
  "cells": [
    {
      "cell_type": "markdown",
      "id": "d4a1d469",
      "metadata": {
        "id": "d4a1d469"
      },
      "source": [
        "# Instruções\n",
        "\n",
        "- Antes de resolver esses exercícios, certifique-se que a configuração está correta (Python 3).\n",
        "\n",
        "- Se estiver usando o Colab, faça uma cópia deste notebook antes de começar a repondê-lo.\n",
        "\n",
        "![](http://professor.ufabc.edu.br/~ronaldo.prati/colab.png)\n",
        "\n",
        "- Lembre-se de manter o nome do caderno com o mesmo nome original.\n",
        "\n",
        "- Não apague nem introduza novas células neste notebook.\n",
        "\n",
        "- Certifique-se que você preencheu todos os lugares que dizem \\\"YOUR CODE HERE\\\" ou \\\"YOUR ANSWER HERE\\\". Substitutua essa linha e também a linha `raise NotImplementedError()` pelo seu código.\n",
        "\n",
        "- Depois de resolver os exercícios, para enviar a atividade, salve o notebook e o envie pelo moodle da disciplina. No colab, para exportar o notebook localmente, acesse `File->Download->Download .ipynb` ou `Arquivo->Baixar->Baixar .ipynb`\n",
        "\n",
        "![](http://professor.ufabc.edu.br/~ronaldo.prati/submit.png)"
      ]
    },
    {
      "cell_type": "markdown",
      "id": "5f82cbf3",
      "metadata": {
        "deletable": false,
        "editable": false,
        "nbgrader": {
          "cell_type": "markdown",
          "checksum": "f1f911b3ba8050e102209c62c8db3f57",
          "grade": false,
          "grade_id": "Exercicio1-descricao",
          "locked": true,
          "schema_version": 3,
          "solution": false,
          "task": false
        },
        "id": "5f82cbf3"
      },
      "source": [
        "# Exercício 1\n",
        "\n",
        "Faça um programa que peça um número e armazene-o em uma variável. A seguir, mostre a mensagem \"O número informado foi [número]\""
      ]
    },
    {
      "cell_type": "code",
      "execution_count": 10,
      "id": "98f0fd7a",
      "metadata": {
        "deletable": false,
        "nbgrader": {
          "cell_type": "code",
          "checksum": "74fb8b9b0c1978c0db15aa13a5696150",
          "grade": true,
          "grade_id": "Exercicio1",
          "locked": false,
          "points": 1,
          "schema_version": 3,
          "solution": true,
          "task": false
        },
        "id": "98f0fd7a",
        "colab": {
          "base_uri": "https://localhost:8080/"
        },
        "outputId": "2b42b794-b1dd-49b8-8a30-d22731c905b3"
      },
      "outputs": [
        {
          "output_type": "stream",
          "name": "stdout",
          "text": [
            "Informe um número:151\n",
            "O número informado foi 151\n"
          ]
        }
      ],
      "source": [
        "número = input(\"Informe um número:\")\n",
        "print(\"O número informado foi\", número)\n"
      ]
    },
    {
      "cell_type": "markdown",
      "id": "dd8c0af2",
      "metadata": {
        "deletable": false,
        "editable": false,
        "nbgrader": {
          "cell_type": "markdown",
          "checksum": "e1645b130e5fd8363c5a31803d8a6730",
          "grade": false,
          "grade_id": "Exercicio2-descricao",
          "locked": true,
          "schema_version": 3,
          "solution": false,
          "task": false
        },
        "id": "dd8c0af2"
      },
      "source": [
        "# Exercício 2\n",
        "\n",
        "Faça um Programa que peça o raio de um círculo, calcule e mostre sua área.\n",
        "Dica: para usar o valor de $\\pi$, pesquise por `math.pi`."
      ]
    },
    {
      "cell_type": "code",
      "execution_count": 30,
      "id": "407e7f33",
      "metadata": {
        "deletable": false,
        "nbgrader": {
          "cell_type": "code",
          "checksum": "41ef7b01abeaa8d74e2893a5054fb644",
          "grade": true,
          "grade_id": "Exercicio2",
          "locked": false,
          "points": 1,
          "schema_version": 3,
          "solution": true,
          "task": false
        },
        "id": "407e7f33",
        "colab": {
          "base_uri": "https://localhost:8080/"
        },
        "outputId": "177c1649-243a-47f8-b92c-8d78d23acb6a"
      },
      "outputs": [
        {
          "output_type": "stream",
          "name": "stdout",
          "text": [
            "Informe o raio do circulo:185\n",
            "A área do circulo é: 107521.00856911067\n"
          ]
        }
      ],
      "source": [
        "import math\n",
        "raio = input(\"Informe o raio do circulo:\")\n",
        "área = math.pi*int(raio)**2\n",
        "print(\"A área do circulo é:\", área) \n"
      ]
    },
    {
      "cell_type": "markdown",
      "id": "868cfe1c",
      "metadata": {
        "deletable": false,
        "editable": false,
        "nbgrader": {
          "cell_type": "markdown",
          "checksum": "83a396c8ae7ca1696f25c00d928c9d55",
          "grade": false,
          "grade_id": "Exercicio3-descricao",
          "locked": true,
          "schema_version": 3,
          "solution": false,
          "task": false
        },
        "id": "868cfe1c"
      },
      "source": [
        "# Exercício 3\n",
        "\n",
        "Faça um Programa que peça 2 números inteiros e um número real. Calcule e mostre:\n",
        "\n",
        "   - o produto do dobro do primeiro com metade do segundo .\n",
        "   - a soma do triplo do primeiro com o terceiro.\n",
        "   - o terceiro elevado ao cubo. "
      ]
    },
    {
      "cell_type": "code",
      "execution_count": 49,
      "id": "0f2c4944",
      "metadata": {
        "deletable": false,
        "nbgrader": {
          "cell_type": "code",
          "checksum": "01db6a60d8afd153075785a9f8e10ea5",
          "grade": true,
          "grade_id": "Exercicio3",
          "locked": false,
          "points": 1,
          "schema_version": 3,
          "solution": true,
          "task": false
        },
        "id": "0f2c4944",
        "colab": {
          "base_uri": "https://localhost:8080/"
        },
        "outputId": "66355ae3-2bc0-40cd-918a-63e3d40ae33a"
      },
      "outputs": [
        {
          "output_type": "stream",
          "name": "stdout",
          "text": [
            "informe um número inteiro:8\n",
            "informe outro número inteiro:2\n",
            "informe um número real:9\n",
            "o produto do dobro do primeiro com metade do segundo: 16.0\n",
            "a soma do triplo do primeiro com o terceiro: 33.0\n",
            "o terceiro elevado ao cubo: 729.0\n"
          ]
        }
      ],
      "source": [
        "número_1 = int (input(\"informe um número inteiro:\"))\n",
        "número_2 = int (input(\"informe outro número inteiro:\"))\n",
        "número_real = float (input(\"informe um número real:\"))\n",
        "\n",
        "a = ((2 * número_1) *( número_2 / 2))\n",
        "b = ((3*número_1) + número_real)\n",
        "c = número_real**3\n",
        "\n",
        "print(\"o produto do dobro do primeiro com metade do segundo:\", a)\n",
        "print(\"a soma do triplo do primeiro com o terceiro:\", b)\n",
        "print(\"o terceiro elevado ao cubo:\", c)\n"
      ]
    },
    {
      "cell_type": "markdown",
      "id": "d3996f2c",
      "metadata": {
        "deletable": false,
        "editable": false,
        "nbgrader": {
          "cell_type": "markdown",
          "checksum": "dbee5e0c5c9a02ca7b0fbcbf0c5018fd",
          "grade": false,
          "grade_id": "Exercicio4-descricao",
          "locked": true,
          "schema_version": 3,
          "solution": false,
          "task": false
        },
        "id": "d3996f2c"
      },
      "source": [
        "# Exercício 4\n",
        "\n",
        "Faça um programa que pergunte quanto você ganha por hora e o número de horas trabalhadas na semana. Calcule e mostre o total do seu salário ao final de 4 semanas. "
      ]
    },
    {
      "cell_type": "code",
      "execution_count": 53,
      "id": "5a307587",
      "metadata": {
        "deletable": false,
        "nbgrader": {
          "cell_type": "code",
          "checksum": "e511551fc875680ccd9679f9b2c21414",
          "grade": true,
          "grade_id": "Exercicio4",
          "locked": false,
          "points": 1,
          "schema_version": 3,
          "solution": true,
          "task": false
        },
        "id": "5a307587",
        "colab": {
          "base_uri": "https://localhost:8080/"
        },
        "outputId": "2c8a0601-c00d-4d3e-ce13-eb9316c013bc"
      },
      "outputs": [
        {
          "output_type": "stream",
          "name": "stdout",
          "text": [
            "Quanto você ganha por hora?7.5\n",
            "Quantas horas você trabalha na semana?40\n",
            "Seu salário é: 1200.0\n"
          ]
        }
      ],
      "source": [
        "valor_hora = float (input(\"Quanto você ganha por hora?\"))\n",
        "horas = float (input(\"Quantas horas você trabalha na semana?\"))\n",
        "\n",
        "pagamento = (valor_hora * horas) * 4\n",
        "\n",
        "print(\"Seu salário é:\", pagamento)"
      ]
    },
    {
      "cell_type": "markdown",
      "id": "d5088446",
      "metadata": {
        "deletable": false,
        "editable": false,
        "nbgrader": {
          "cell_type": "markdown",
          "checksum": "c82b175f45419cc78a6f0efc08f9ab15",
          "grade": false,
          "grade_id": "Exercicio5-descricao",
          "locked": true,
          "schema_version": 3,
          "solution": false,
          "task": false
        },
        "id": "d5088446"
      },
      "source": [
        "# Exercício 5\n",
        "\n",
        "Faça um programa que leia um número inteiro qualquer e que apresete, além do número informado, o seu antecessor e do seu sucessor."
      ]
    },
    {
      "cell_type": "code",
      "execution_count": 57,
      "id": "a09fcc89",
      "metadata": {
        "deletable": false,
        "nbgrader": {
          "cell_type": "code",
          "checksum": "9f693e117e3e2158f95ee76dc96292a0",
          "grade": true,
          "grade_id": "Exercicio5",
          "locked": false,
          "points": 1,
          "schema_version": 3,
          "solution": true,
          "task": false
        },
        "id": "a09fcc89",
        "colab": {
          "base_uri": "https://localhost:8080/"
        },
        "outputId": "b5884521-d06d-4aff-83ad-8c699f54dc29"
      },
      "outputs": [
        {
          "output_type": "stream",
          "name": "stdout",
          "text": [
            "insira um número inteiro:851473\n",
            "o sucessor é: 851474\n",
            "o antecessor é: 851472\n"
          ]
        }
      ],
      "source": [
        "n = int(input(\"insira um número inteiro:\"))\n",
        "sucessor = n + 1\n",
        "antecessor = n - 1\n",
        "print(\"o sucessor é:\", sucessor)\n",
        "print(\"o antecessor é:\", antecessor)"
      ]
    },
    {
      "cell_type": "markdown",
      "id": "57a3fb31",
      "metadata": {
        "deletable": false,
        "editable": false,
        "nbgrader": {
          "cell_type": "markdown",
          "checksum": "537bdb2e45ec13ee95cea397e02744f2",
          "grade": false,
          "grade_id": "Exercicio6-descricao",
          "locked": true,
          "schema_version": 3,
          "solution": false,
          "task": false
        },
        "id": "57a3fb31"
      },
      "source": [
        "# Exercício 6\n",
        "\n",
        "Faça um programa que leia quatro notas, e seus respectivos pesos, e que apresente a média final simples e a média final ponderada."
      ]
    },
    {
      "cell_type": "code",
      "execution_count": 62,
      "id": "10e12fd4",
      "metadata": {
        "deletable": false,
        "nbgrader": {
          "cell_type": "code",
          "checksum": "ff1bbd3e5c18dc73d5e0328c41d74739",
          "grade": true,
          "grade_id": "Exercicio6",
          "locked": false,
          "points": 1,
          "schema_version": 3,
          "solution": true,
          "task": false
        },
        "id": "10e12fd4",
        "colab": {
          "base_uri": "https://localhost:8080/"
        },
        "outputId": "8cabdc33-cad6-4d4b-e260-3a0be7b80b8f"
      },
      "outputs": [
        {
          "output_type": "stream",
          "name": "stdout",
          "text": [
            "insira a nota 1:5\n",
            "insira o peso da nota 1:5\n",
            "insira a nota 2:2\n",
            "insira o peso da nota 2:15\n",
            "insira a nota 3:3\n",
            "insira o peso da nota 3:2\n",
            "insira a nota 4:2\n",
            "insira o peso da nota 4:2\n",
            "A média simples é: 3.0\n",
            "A média ponderada é: 2.7083333333333335\n"
          ]
        }
      ],
      "source": [
        "nota1 = float (input(\"insira a nota 1:\"))\n",
        "nota1_peso = float (input(\"insira o peso da nota 1:\"))\n",
        "nota2 = float (input(\"insira a nota 2:\"))\n",
        "nota2_peso = float (input(\"insira o peso da nota 2:\"))\n",
        "nota3 = float (input(\"insira a nota 3:\"))\n",
        "nota3_peso = float (input(\"insira o peso da nota 3:\"))\n",
        "nota4 = float (input(\"insira a nota 4:\"))\n",
        "nota4_peso = float (input(\"insira o peso da nota 4:\"))\n",
        "\n",
        "\n",
        "média_simples = (nota1 + nota2 + nota3 + nota4) / 4\n",
        "média_ponderada = (nota1 * nota1_peso + nota2 * nota2_peso + nota3 * nota3_peso + nota4 * nota4_peso) / (nota1_peso + nota2_peso + nota3_peso + nota4_peso)\n",
        "\n",
        "print(\"A média simples é:\", média_simples)\n",
        "print(\"A média ponderada é:\", média_ponderada)\n",
        "\n"
      ]
    },
    {
      "cell_type": "markdown",
      "id": "da81404d",
      "metadata": {
        "deletable": false,
        "editable": false,
        "nbgrader": {
          "cell_type": "markdown",
          "checksum": "6f91f7198e36290a15c6547e839a5885",
          "grade": false,
          "grade_id": "Exercicio7-descricao",
          "locked": true,
          "schema_version": 3,
          "solution": false,
          "task": false
        },
        "id": "da81404d"
      },
      "source": [
        "# Exercício 7\n",
        "\n",
        "Faça um programa para uma loja de tintas. O programa deverá pedir o tamanho em metros quadrados da área a ser pintada. Considere que a cobertura da tinta é de 1 litro para cada 12 metros quadrados e que a tinta é vendida em latas de 18 litros, que custam R$ 80,00. Informe ao usuário a quantidades de latas de tinta a serem compradas e o preço total. "
      ]
    },
    {
      "cell_type": "code",
      "execution_count": 71,
      "id": "2a1f6a9c",
      "metadata": {
        "deletable": false,
        "nbgrader": {
          "cell_type": "code",
          "checksum": "0b356a405bcdf2f889a9a95d9a196d61",
          "grade": true,
          "grade_id": "Exercicio7",
          "locked": false,
          "points": 2,
          "schema_version": 3,
          "solution": true,
          "task": false
        },
        "id": "2a1f6a9c",
        "colab": {
          "base_uri": "https://localhost:8080/"
        },
        "outputId": "e068f890-91c6-4b7c-ed8a-11647e667c4f"
      },
      "outputs": [
        {
          "output_type": "stream",
          "name": "stdout",
          "text": [
            "Quantos metros quadrados deseja pintar?217\n",
            "compre 1.0 lata(s)\n",
            "pelo preço de: 80.0\n"
          ]
        }
      ],
      "source": [
        "área = float(input(\"Quantos metros quadrados deseja pintar?:\"))\n",
        "\n",
        "litros = int (área / 12)\n",
        "preço_latas = 80.0\n",
        "litros_latas = 18\n",
        "\n",
        "\n",
        "latas = litros / litros_latas\n",
        "preço =  latas * preço_latas\n",
        "\n",
        "print(\"compre\" , latas)\n",
        "print(\"pelo preço de:\", preço)\n"
      ]
    },
    {
      "cell_type": "markdown",
      "id": "79eca3d1",
      "metadata": {
        "deletable": false,
        "editable": false,
        "nbgrader": {
          "cell_type": "markdown",
          "checksum": "e44b2f3971c79d43c75c12bce821c4d9",
          "grade": false,
          "grade_id": "Exercicio8-descricao",
          "locked": true,
          "schema_version": 3,
          "solution": false,
          "task": false
        },
        "id": "79eca3d1"
      },
      "source": [
        "# Exercício 8\n",
        "\n",
        "Faça um Programa para uma loja de tintas. O programa deverá pedir o tamanho em metros quadrados da área a ser pintada. Considere que a cobertura da tinta é de 1 litro para cada 12 metros quadrados e que a tinta é vendida em latas de 18 litros, que custam R$ 80,00 ou em galões de 3,6 litros, que custam R$ 25,00.\n",
        "\n",
        "Informe ao usuário as quantidades de tinta a serem compradas e os respectivos preços em 3 situações:\n",
        "\n",
        "    - comprar apenas latas de 18 litros;\n",
        "    - comprar apenas galões de 3,6 litros;\n",
        "    - misturar latas e galões, de forma que o desperdício de tinta seja menor. \n",
        "    \n",
        "Acrescente 10% de folga nos três casos (isto é, você deve adicionar 10% sobre o total de litros de tinta necessário) e sempre arredonde os valores para cima, isto é, considere latas cheias. \n",
        "\n"
      ]
    },
    {
      "cell_type": "code",
      "execution_count": 114,
      "id": "54c1e741",
      "metadata": {
        "deletable": false,
        "nbgrader": {
          "cell_type": "code",
          "checksum": "8f12ca6f898fe140e2eb04c84fc6c8f3",
          "grade": true,
          "grade_id": "Exercicio8",
          "locked": false,
          "points": 2,
          "schema_version": 3,
          "solution": true,
          "task": false
        },
        "id": "54c1e741",
        "colab": {
          "base_uri": "https://localhost:8080/"
        },
        "outputId": "75da6a02-49ef-4d9e-d23f-dd310f4235d3"
      },
      "outputs": [
        {
          "output_type": "stream",
          "name": "stdout",
          "text": [
            "Quantos metros quadrados deseja pintar?21547\n",
            "compre 110 latas\n",
            "pelo preço de: 8800.0\n",
            "compre 549 galões\n",
            "pelo preço de: 13725.0\n",
            "compre 110 latas e 1 galões\n",
            "Pelo preço de: 8825\n"
          ]
        }
      ],
      "source": [
        "import math\n",
        "área = float(input(\"Quantos metros quadrados deseja pintar?\"))\n",
        "\n",
        "litros = math.ceil(área / 12) \n",
        "preço_latas = 80.0\n",
        "litros_latas = 18\n",
        "preço_galão = 25.0\n",
        "litros_galão = 3.6\n",
        "\n",
        "galão = math.ceil((litros*0.1 + litros) / litros_galão)\n",
        "total_galão = galão * preço_galão\n",
        "\n",
        "latas = math.ceil((litros*0.1 + litros) / litros_latas)\n",
        "total_latas =  latas * preço_latas\n",
        "\n",
        "latas2 = math.ceil((litros*0.1 + litros) / litros_latas)\n",
        "galão2 = math.ceil((litros*0.1 + litros) % litros_latas / latas2)\n",
        "total_latas2 = math.ceil(latas2 * preço_latas)\n",
        "total_galão2 = math.ceil(galão2 * preço_galão)\n",
        "total_lataegalão = total_latas2 + total_galão2\n",
        " \n",
        "print(\"compre\" , latas , \"latas\")\n",
        "print(\"pelo preço de:\", total_latas)\n",
        "\n",
        "print(\"compre\", galão, \"galões\")\n",
        "print(\"pelo preço de:\", total_galão)\n",
        "\n",
        "print(\"compre\", latas2, \"latas e\", galão2, \"galões\" )\n",
        "print(\"Pelo preço de:\", total_lataegalão)\n",
        "\n"
      ]
    }
  ],
  "metadata": {
    "kernelspec": {
      "display_name": "Python 3 (ipykernel)",
      "language": "python",
      "name": "python3"
    },
    "language_info": {
      "codemirror_mode": {
        "name": "ipython",
        "version": 3
      },
      "file_extension": ".py",
      "mimetype": "text/x-python",
      "name": "python",
      "nbconvert_exporter": "python",
      "pygments_lexer": "ipython3",
      "version": "3.9.7"
    },
    "colab": {
      "name": "Semana1.ipynb",
      "provenance": []
    }
  },
  "nbformat": 4,
  "nbformat_minor": 5
}