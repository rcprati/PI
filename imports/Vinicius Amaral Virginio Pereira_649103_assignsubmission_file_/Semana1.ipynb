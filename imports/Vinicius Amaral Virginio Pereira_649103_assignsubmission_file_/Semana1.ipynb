{
  "cells": [
    {
      "cell_type": "markdown",
      "id": "d4a1d469",
      "metadata": {
        "id": "d4a1d469"
      },
      "source": [
        "# Instruções\n",
        "\n",
        "- Antes de resolver esses exercícios, certifique-se que a configuração está correta (Python 3).\n",
        "\n",
        "- Se estiver usando o Colab, faça uma cópia deste notebook antes de começar a repondê-lo.\n",
        "\n",
        "![](http://professor.ufabc.edu.br/~ronaldo.prati/colab.png)\n",
        "\n",
        "- Lembre-se de manter o nome do caderno com o mesmo nome original.\n",
        "\n",
        "- Não apague nem introduza novas células neste notebook.\n",
        "\n",
        "- Certifique-se que você preencheu todos os lugares que dizem \\\"YOUR CODE HERE\\\" ou \\\"YOUR ANSWER HERE\\\". Substitutua essa linha e também a linha `raise NotImplementedError()` pelo seu código.\n",
        "\n",
        "- Depois de resolver os exercícios, para enviar a atividade, salve o notebook e o envie pelo moodle da disciplina. No colab, para exportar o notebook localmente, acesse `File->Download->Download .ipynb` ou `Arquivo->Baixar->Baixar .ipynb`\n",
        "\n",
        "![](http://professor.ufabc.edu.br/~ronaldo.prati/submit.png)"
      ]
    },
    {
      "cell_type": "markdown",
      "id": "5f82cbf3",
      "metadata": {
        "deletable": false,
        "editable": false,
        "nbgrader": {
          "cell_type": "markdown",
          "checksum": "f1f911b3ba8050e102209c62c8db3f57",
          "grade": false,
          "grade_id": "Exercicio1-descricao",
          "locked": true,
          "schema_version": 3,
          "solution": false,
          "task": false
        },
        "id": "5f82cbf3"
      },
      "source": [
        "# Exercício 1\n",
        "\n",
        "Faça um programa que peça um número e armazene-o em uma variável. A seguir, mostre a mensagem \"O número informado foi [número]\""
      ]
    },
    {
      "cell_type": "code",
      "execution_count": null,
      "id": "98f0fd7a",
      "metadata": {
        "deletable": false,
        "nbgrader": {
          "cell_type": "code",
          "checksum": "74fb8b9b0c1978c0db15aa13a5696150",
          "grade": true,
          "grade_id": "Exercicio1",
          "locked": false,
          "points": 1,
          "schema_version": 3,
          "solution": true,
          "task": false
        },
        "id": "98f0fd7a",
        "colab": {
          "base_uri": "https://localhost:8080/"
        },
        "outputId": "61f34f34-397e-46ed-f290-7c48a270e202"
      },
      "outputs": [
        {
          "output_type": "stream",
          "name": "stdout",
          "text": [
            "20\n",
            "O número informado foi 20.0\n"
          ]
        }
      ],
      "source": [
        "# YOUR CODE HERE\n",
        "x = float(input())\n",
        "print(\"O número informado foi\" ,x)"
      ]
    },
    {
      "cell_type": "markdown",
      "id": "dd8c0af2",
      "metadata": {
        "deletable": false,
        "editable": false,
        "nbgrader": {
          "cell_type": "markdown",
          "checksum": "e1645b130e5fd8363c5a31803d8a6730",
          "grade": false,
          "grade_id": "Exercicio2-descricao",
          "locked": true,
          "schema_version": 3,
          "solution": false,
          "task": false
        },
        "id": "dd8c0af2"
      },
      "source": [
        "# Exercício 2\n",
        "\n",
        "Faça um Programa que peça o raio de um círculo, calcule e mostre sua área.\n",
        "Dica: para usar o valor de $\\pi$, pesquise por `math.pi`."
      ]
    },
    {
      "cell_type": "code",
      "execution_count": null,
      "id": "407e7f33",
      "metadata": {
        "deletable": false,
        "nbgrader": {
          "cell_type": "code",
          "checksum": "41ef7b01abeaa8d74e2893a5054fb644",
          "grade": true,
          "grade_id": "Exercicio2",
          "locked": false,
          "points": 1,
          "schema_version": 3,
          "solution": true,
          "task": false
        },
        "id": "407e7f33",
        "colab": {
          "base_uri": "https://localhost:8080/"
        },
        "outputId": "5de97d27-c7f0-499d-a0e6-e8e421ddb119"
      },
      "outputs": [
        {
          "output_type": "stream",
          "name": "stdout",
          "text": [
            "Informe o valor do raio do circulo: 10\n",
            "A área do circulo é de:  314.16\n"
          ]
        }
      ],
      "source": [
        "# YOUR CODE HERE\n",
        "import math\n",
        "raio = float(input(\"Informe o valor do raio do circulo: \"))\n",
        "area = math.pi*(raio**2)\n",
        "print(\"A área do circulo é de: \", \"%.2f\" % area )"
      ]
    },
    {
      "cell_type": "markdown",
      "id": "868cfe1c",
      "metadata": {
        "deletable": false,
        "editable": false,
        "nbgrader": {
          "cell_type": "markdown",
          "checksum": "83a396c8ae7ca1696f25c00d928c9d55",
          "grade": false,
          "grade_id": "Exercicio3-descricao",
          "locked": true,
          "schema_version": 3,
          "solution": false,
          "task": false
        },
        "id": "868cfe1c"
      },
      "source": [
        "# Exercício 3\n",
        "\n",
        "Faça um Programa que peça 2 números inteiros e um número real. Calcule e mostre:\n",
        "\n",
        "   - o produto do dobro do primeiro com metade do segundo .\n",
        "   - a soma do triplo do primeiro com o terceiro.\n",
        "   - o terceiro elevado ao cubo. "
      ]
    },
    {
      "cell_type": "code",
      "execution_count": null,
      "id": "0f2c4944",
      "metadata": {
        "deletable": false,
        "nbgrader": {
          "cell_type": "code",
          "checksum": "01db6a60d8afd153075785a9f8e10ea5",
          "grade": true,
          "grade_id": "Exercicio3",
          "locked": false,
          "points": 1,
          "schema_version": 3,
          "solution": true,
          "task": false
        },
        "id": "0f2c4944",
        "colab": {
          "base_uri": "https://localhost:8080/"
        },
        "outputId": "ecc27aa2-8c3f-43a1-f4ac-b9b008a60741"
      },
      "outputs": [
        {
          "output_type": "stream",
          "name": "stdout",
          "text": [
            "Informe um número inteiro: 5\n",
            "Informe um número inteiro: 5\n",
            "Informe um número real: 10\n",
            "Calculo I: 25.0 \n",
            "Calculo II:  25.0 \n",
            "Calculo III:  100.0\n"
          ]
        }
      ],
      "source": [
        "# YOUR CODE HERE\n",
        "import math\n",
        "inteiro1 = int(input(\"Informe um número inteiro: \"))\n",
        "inteiro2 = int(input(\"Informe um número inteiro: \"))\n",
        "real = float(input(\"Informe um número real: \"))\n",
        "c1 = (2*inteiro1) * (inteiro2/2)\n",
        "c2 = (3*inteiro1) + real\n",
        "c3 = real**2\n",
        "print(\"Calculo I:\",c1 , \"\\nCalculo II: \", c2 ,\"\\nCalculo III: \", c3)"
      ]
    },
    {
      "cell_type": "markdown",
      "id": "d3996f2c",
      "metadata": {
        "deletable": false,
        "editable": false,
        "nbgrader": {
          "cell_type": "markdown",
          "checksum": "dbee5e0c5c9a02ca7b0fbcbf0c5018fd",
          "grade": false,
          "grade_id": "Exercicio4-descricao",
          "locked": true,
          "schema_version": 3,
          "solution": false,
          "task": false
        },
        "id": "d3996f2c"
      },
      "source": [
        "# Exercício 4\n",
        "\n",
        "Faça um programa que pergunte quanto você ganha por hora e o número de horas trabalhadas na semana. Calcule e mostre o total do seu salário ao final de 4 semanas. "
      ]
    },
    {
      "cell_type": "code",
      "execution_count": null,
      "id": "5a307587",
      "metadata": {
        "deletable": false,
        "nbgrader": {
          "cell_type": "code",
          "checksum": "e511551fc875680ccd9679f9b2c21414",
          "grade": true,
          "grade_id": "Exercicio4",
          "locked": false,
          "points": 1,
          "schema_version": 3,
          "solution": true,
          "task": false
        },
        "id": "5a307587",
        "colab": {
          "base_uri": "https://localhost:8080/"
        },
        "outputId": "caa3b48f-59d9-4a5e-a62c-dce96cd34540"
      },
      "outputs": [
        {
          "output_type": "stream",
          "name": "stdout",
          "text": [
            "Quanto você ganha por hora? 15\n",
            "Quantas horas você trabalhou na semana? 44\n",
            "O salario no final de 4 semanas será de:  2640.0\n"
          ]
        }
      ],
      "source": [
        "# YOUR CODE HERE\n",
        "import math\n",
        "salario = float(input(\"Quanto você ganha por hora? \"))\n",
        "horas = float(input(\"Quantas horas você trabalhou na semana? \"))\n",
        "c1 = (salario * horas)*4\n",
        "\n",
        "print(\"O salario no final de 4 semanas será de: \",c1)"
      ]
    },
    {
      "cell_type": "markdown",
      "id": "d5088446",
      "metadata": {
        "deletable": false,
        "editable": false,
        "nbgrader": {
          "cell_type": "markdown",
          "checksum": "c82b175f45419cc78a6f0efc08f9ab15",
          "grade": false,
          "grade_id": "Exercicio5-descricao",
          "locked": true,
          "schema_version": 3,
          "solution": false,
          "task": false
        },
        "id": "d5088446"
      },
      "source": [
        "# Exercício 5\n",
        "\n",
        "Faça um programa que leia um número inteiro qualquer e que apresete, além do número informado, o seu antecessor e do seu sucessor."
      ]
    },
    {
      "cell_type": "code",
      "execution_count": null,
      "id": "a09fcc89",
      "metadata": {
        "deletable": false,
        "nbgrader": {
          "cell_type": "code",
          "checksum": "9f693e117e3e2158f95ee76dc96292a0",
          "grade": true,
          "grade_id": "Exercicio5",
          "locked": false,
          "points": 1,
          "schema_version": 3,
          "solution": true,
          "task": false
        },
        "id": "a09fcc89",
        "colab": {
          "base_uri": "https://localhost:8080/"
        },
        "outputId": "dfb6c7ad-8da4-40cd-b202-18295379eb93"
      },
      "outputs": [
        {
          "output_type": "stream",
          "name": "stdout",
          "text": [
            "Informe um número inteiro: 1\n",
            "Número informado:  1 \n",
            "Antecessor do número:  0 \n",
            "Sucessor do número:  2\n"
          ]
        }
      ],
      "source": [
        "# YOUR CODE HERE\n",
        "import math\n",
        "n = int(input(\"Informe um número inteiro: \"))\n",
        "antecessor = n - 1\n",
        "sucessor = n + 1 \n",
        "print(\"Número informado: \", n , \"\\nAntecessor do número: \", antecessor, \"\\nSucessor do número: \", sucessor)"
      ]
    },
    {
      "cell_type": "markdown",
      "id": "57a3fb31",
      "metadata": {
        "deletable": false,
        "editable": false,
        "nbgrader": {
          "cell_type": "markdown",
          "checksum": "537bdb2e45ec13ee95cea397e02744f2",
          "grade": false,
          "grade_id": "Exercicio6-descricao",
          "locked": true,
          "schema_version": 3,
          "solution": false,
          "task": false
        },
        "id": "57a3fb31"
      },
      "source": [
        "# Exercício 6\n",
        "\n",
        "Faça um programa que leia quatro notas, e seus respectivos pesos, e que apresente a média final simples e a média final ponderada."
      ]
    },
    {
      "cell_type": "code",
      "execution_count": null,
      "id": "10e12fd4",
      "metadata": {
        "deletable": false,
        "nbgrader": {
          "cell_type": "code",
          "checksum": "ff1bbd3e5c18dc73d5e0328c41d74739",
          "grade": true,
          "grade_id": "Exercicio6",
          "locked": false,
          "points": 1,
          "schema_version": 3,
          "solution": true,
          "task": false
        },
        "id": "10e12fd4",
        "colab": {
          "base_uri": "https://localhost:8080/"
        },
        "outputId": "30dcfeb1-9291-481a-dd68-abb603848437"
      },
      "outputs": [
        {
          "output_type": "stream",
          "name": "stdout",
          "text": [
            "Informe a primeira nota: 5\n",
            "Informe a segunda nota: 8\n",
            "Informe a terceira nota: 6\n",
            "Informe a quarta nota: 3\n",
            "Informe o peso da primeira nota: 1\n",
            "Informe o peso da segunda nota: 1\n",
            "Informe o peso da terceira nota: 2\n",
            "Informe o peso da quarta nota: 2\n",
            "A média simples é:  5.5  e a média poderada é:  7.75\n"
          ]
        }
      ],
      "source": [
        "# YOUR CODE HERE\n",
        "import math\n",
        "nota1 = float(input(\"Informe a primeira nota: \"))\n",
        "nota2 = float(input(\"Informe a segunda nota: \"))\n",
        "nota3 = float(input(\"Informe a terceira nota: \"))\n",
        "nota4 = float(input(\"Informe a quarta nota: \"))\n",
        "peso1 = float(input(\"Informe o peso da primeira nota: \"))\n",
        "peso2 = float(input(\"Informe o peso da segunda nota: \"))\n",
        "peso3 = float(input(\"Informe o peso da terceira nota: \"))\n",
        "peso4 = float(input(\"Informe o peso da quarta nota: \"))\n",
        "media_simples = (nota1 + nota2 + nota3 + nota4)/4\n",
        "media_ponderada = ((nota1*peso1) + (nota2*peso2) + (nota3*peso3) + (nota4*peso4))/4\n",
        "\n",
        "print(\"A média simples é: \", media_simples, \" e a média poderada é: \", media_ponderada)"
      ]
    },
    {
      "cell_type": "markdown",
      "id": "da81404d",
      "metadata": {
        "deletable": false,
        "editable": false,
        "nbgrader": {
          "cell_type": "markdown",
          "checksum": "6f91f7198e36290a15c6547e839a5885",
          "grade": false,
          "grade_id": "Exercicio7-descricao",
          "locked": true,
          "schema_version": 3,
          "solution": false,
          "task": false
        },
        "id": "da81404d"
      },
      "source": [
        "# Exercício 7\n",
        "\n",
        "Faça um programa para uma loja de tintas. O programa deverá pedir o tamanho em metros quadrados da área a ser pintada. Considere que a cobertura da tinta é de 1 litro para cada 12 metros quadrados e que a tinta é vendida em latas de 18 litros, que custam R$ 80,00. Informe ao usuário a quantidades de latas de tinta a serem compradas e o preço total. "
      ]
    },
    {
      "cell_type": "code",
      "execution_count": null,
      "id": "2a1f6a9c",
      "metadata": {
        "deletable": false,
        "nbgrader": {
          "cell_type": "code",
          "checksum": "0b356a405bcdf2f889a9a95d9a196d61",
          "grade": true,
          "grade_id": "Exercicio7",
          "locked": false,
          "points": 2,
          "schema_version": 3,
          "solution": true,
          "task": false
        },
        "id": "2a1f6a9c",
        "colab": {
          "base_uri": "https://localhost:8080/"
        },
        "outputId": "1c113099-e23a-4a83-e666-e9b83c744c6e"
      },
      "outputs": [
        {
          "output_type": "stream",
          "name": "stdout",
          "text": [
            "Informe o tamanho em metros quadrados da área a ser pintada: 1\n",
            "Serão necessarias  1.0  latas de tintas e o preço total será de R$:  80.0\n"
          ]
        }
      ],
      "source": [
        "# YOUR CODE HERE\n",
        "import math\n",
        "m_str = float(input(\"Informe o tamanho em metros quadrados da área a ser pintada: \"))\n",
        "l_str_tinta = 12\n",
        "l_tinta = 18\n",
        "p_tinta = 80.00\n",
        "\n",
        "l_necessarios = m_str/l_str_tinta\n",
        "\n",
        "latas_necessarias = (l_necessarios % l_tinta)\n",
        "latas = (l_necessarios // l_tinta)\n",
        "\n",
        "if (latas_necessarias < 18) and (latas_necessarias > 0):\n",
        "  t = latas + 1\n",
        "  preco0 = t* p_tinta\n",
        "  print(\"Serão necessarias \", t,\" latas de tintas e o preço total será de R$: \", preco0)\n",
        "else:\n",
        "  preco1 = latas * p_tinta\n",
        "  print(\"Serão necessarias \", latas,\" latas de tintas e o preço total será de R$: \", preco1)"
      ]
    },
    {
      "cell_type": "markdown",
      "id": "79eca3d1",
      "metadata": {
        "deletable": false,
        "editable": false,
        "nbgrader": {
          "cell_type": "markdown",
          "checksum": "e44b2f3971c79d43c75c12bce821c4d9",
          "grade": false,
          "grade_id": "Exercicio8-descricao",
          "locked": true,
          "schema_version": 3,
          "solution": false,
          "task": false
        },
        "id": "79eca3d1"
      },
      "source": [
        "# Exercício 8\n",
        "\n",
        "Faça um Programa para uma loja de tintas. O programa deverá pedir o tamanho em metros quadrados da área a ser pintada. Considere que a cobertura da tinta é de 1 litro para cada 12 metros quadrados e que a tinta é vendida em latas de 18 litros, que custam R$ 80,00 ou em galões de 3,6 litros, que custam R$ 25,00.\n",
        "\n",
        "Informe ao usuário as quantidades de tinta a serem compradas e os respectivos preços em 3 situações:\n",
        "\n",
        "    - comprar apenas latas de 18 litros;\n",
        "    - comprar apenas galões de 3,6 litros;\n",
        "    - misturar latas e galões, de forma que o desperdício de tinta seja menor. \n",
        "    \n",
        "Acrescente 10% de folga nos três casos (isto é, você deve adicionar 10% sobre o total de litros de tinta necessário) e sempre arredonde os valores para cima, isto é, considere latas cheias. \n",
        "\n"
      ]
    },
    {
      "cell_type": "code",
      "execution_count": null,
      "id": "54c1e741",
      "metadata": {
        "deletable": false,
        "nbgrader": {
          "cell_type": "code",
          "checksum": "8f12ca6f898fe140e2eb04c84fc6c8f3",
          "grade": true,
          "grade_id": "Exercicio8",
          "locked": false,
          "points": 2,
          "schema_version": 3,
          "solution": true,
          "task": false
        },
        "id": "54c1e741",
        "colab": {
          "base_uri": "https://localhost:8080/"
        },
        "outputId": "470b0e4d-8de1-481c-b600-972e9c111dfd"
      },
      "outputs": [
        {
          "output_type": "stream",
          "name": "stdout",
          "text": [
            "Informe o tamanho em metros quadrados da área a ser pintada: 200\n",
            "Quantidade de latas de 18 litros a ser usado é: 2 un\n",
            "Compra com apenas latas de 18 litros custa: R$ 160.00\n",
            "\n",
            "Quantidade de galões de 3,6 litros a ser usado é: 6 un\n",
            "Compra com apenas latas de 3,6 LITROS custa: R$ 150.00\n",
            "\n",
            "Quantidade de galões na mistura: 1 un\n",
            "Quantidade de latas na mistura: 1 un\n",
            "Valor da compra evitando disperdicio: R$ 105.00\n"
          ]
        }
      ],
      "source": [
        "# YOUR CODE HERE\n",
        "import math\n",
        "m_str = float(input(\"Informe o tamanho em metros quadrados da área a ser pintada: \"))\n",
        "l_str_tinta = 12\n",
        "l_tinta18 = 18\n",
        "l_tinta3 = 3.6\n",
        "p_tinta18 = 80.00\n",
        "p_tinta3 = 25.00\n",
        "acrescimo10 = 1.1\n",
        "\n",
        "consumo_litro = m_str / l_str_tinta * acrescimo10\n",
        "\n",
        "qtd_galao_apenas = math.ceil(consumo_litro / l_tinta18)\n",
        "valor_galao_apenas = qtd_galao_apenas * p_tinta18\n",
        "\n",
        "qtd_lata_apenas = math.ceil(consumo_litro / l_tinta3)\n",
        "valor_lata_apenas = qtd_lata_apenas * p_tinta3\n",
        "\n",
        "qtd_galao_misto = consumo_litro // l_tinta18\n",
        "qtd_lata_misto = math.ceil((consumo_litro - qtd_galao_misto * l_tinta18) / l_tinta3)\n",
        "valor_galao_misto = qtd_galao_misto * p_tinta18\n",
        "valor_lata_misto = qtd_lata_misto * p_tinta3\n",
        "print(f'Quantidade de latas de 18 litros a ser usado é: {qtd_galao_apenas:.0f}','un')\n",
        "print(f'Compra com apenas latas de 18 litros custa: R$ {valor_galao_apenas:.2f}')\n",
        "print()\n",
        "print(f'Quantidade de galões de 3,6 litros a ser usado é: {qtd_lata_apenas:.0f}','un')\n",
        "print(f'Compra com apenas latas de 3,6 LITROS custa: R$ {valor_lata_apenas:.2f}')\n",
        "print()\n",
        "print(f'Quantidade de galões na mistura: {qtd_galao_misto:.0f}','un')\n",
        "print(f'Quantidade de latas na mistura: {qtd_lata_misto:.0f}','un')\n",
        "print(f'Valor da compra evitando disperdicio: R$ {valor_galao_misto + valor_lata_misto:.2f}') "
      ]
    }
  ],
  "metadata": {
    "kernelspec": {
      "display_name": "Python 3 (ipykernel)",
      "language": "python",
      "name": "python3"
    },
    "language_info": {
      "codemirror_mode": {
        "name": "ipython",
        "version": 3
      },
      "file_extension": ".py",
      "mimetype": "text/x-python",
      "name": "python",
      "nbconvert_exporter": "python",
      "pygments_lexer": "ipython3",
      "version": "3.9.7"
    },
    "colab": {
      "name": "Copy of Semana1.ipynb",
      "provenance": [],
      "collapsed_sections": []
    }
  },
  "nbformat": 4,
  "nbformat_minor": 5
}