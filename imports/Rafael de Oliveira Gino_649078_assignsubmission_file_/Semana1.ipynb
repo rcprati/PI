{
  "cells": [
    {
      "cell_type": "markdown",
      "id": "d4a1d469",
      "metadata": {
        "id": "d4a1d469"
      },
      "source": [
        "# Instruções\n",
        "\n",
        "- Antes de resolver esses exercícios, certifique-se que a configuração está correta (Python 3).\n",
        "\n",
        "- Se estiver usando o Colab, faça uma cópia deste notebook antes de começar a repondê-lo.\n",
        "\n",
        "![](http://professor.ufabc.edu.br/~ronaldo.prati/colab.png)\n",
        "\n",
        "- Lembre-se de manter o nome do caderno com o mesmo nome original.\n",
        "\n",
        "- Não apague nem introduza novas células neste notebook.\n",
        "\n",
        "- Certifique-se que você preencheu todos os lugares que dizem \\\"YOUR CODE HERE\\\" ou \\\"YOUR ANSWER HERE\\\". Substitutua essa linha e também a linha `raise NotImplementedError()` pelo seu código.\n",
        "\n",
        "- Depois de resolver os exercícios, para enviar a atividade, salve o notebook e o envie pelo moodle da disciplina. No colab, para exportar o notebook localmente, acesse `File->Download->Download .ipynb` ou `Arquivo->Baixar->Baixar .ipynb`\n",
        "\n",
        "![](http://professor.ufabc.edu.br/~ronaldo.prati/submit.png)"
      ]
    },
    {
      "cell_type": "markdown",
      "id": "5f82cbf3",
      "metadata": {
        "deletable": false,
        "editable": false,
        "nbgrader": {
          "cell_type": "markdown",
          "checksum": "f1f911b3ba8050e102209c62c8db3f57",
          "grade": false,
          "grade_id": "Exercicio1-descricao",
          "locked": true,
          "schema_version": 3,
          "solution": false,
          "task": false
        },
        "id": "5f82cbf3"
      },
      "source": [
        "# Exercício 1\n",
        "\n",
        "Faça um programa que peça um número e armazene-o em uma variável. A seguir, mostre a mensagem \"O número informado foi [número]\""
      ]
    },
    {
      "cell_type": "code",
      "execution_count": 34,
      "id": "98f0fd7a",
      "metadata": {
        "deletable": false,
        "nbgrader": {
          "cell_type": "code",
          "checksum": "74fb8b9b0c1978c0db15aa13a5696150",
          "grade": true,
          "grade_id": "Exercicio1",
          "locked": false,
          "points": 1,
          "schema_version": 3,
          "solution": true,
          "task": false
        },
        "id": "98f0fd7a",
        "colab": {
          "base_uri": "https://localhost:8080/"
        },
        "outputId": "11a2b7da-7542-49fb-bf44-2bf0e19e46b0"
      },
      "outputs": [
        {
          "output_type": "stream",
          "name": "stdout",
          "text": [
            "Por favor, digie um número: 5.6\n",
            "O número informado foi  5.6\n"
          ]
        }
      ],
      "source": [
        "num = float(input(\"Por favor, digie um número: \"))\n",
        "print(\"O número informado foi \",num)"
      ]
    },
    {
      "cell_type": "markdown",
      "id": "dd8c0af2",
      "metadata": {
        "deletable": false,
        "editable": false,
        "nbgrader": {
          "cell_type": "markdown",
          "checksum": "e1645b130e5fd8363c5a31803d8a6730",
          "grade": false,
          "grade_id": "Exercicio2-descricao",
          "locked": true,
          "schema_version": 3,
          "solution": false,
          "task": false
        },
        "id": "dd8c0af2"
      },
      "source": [
        "# Exercício 2\n",
        "\n",
        "Faça um Programa que peça o raio de um círculo, calcule e mostre sua área.\n",
        "Dica: para usar o valor de $\\pi$, pesquise por `math.pi`."
      ]
    },
    {
      "cell_type": "code",
      "execution_count": 36,
      "id": "407e7f33",
      "metadata": {
        "deletable": false,
        "nbgrader": {
          "cell_type": "code",
          "checksum": "41ef7b01abeaa8d74e2893a5054fb644",
          "grade": true,
          "grade_id": "Exercicio2",
          "locked": false,
          "points": 1,
          "schema_version": 3,
          "solution": true,
          "task": false
        },
        "id": "407e7f33",
        "colab": {
          "base_uri": "https://localhost:8080/"
        },
        "outputId": "42294ae9-c05d-496f-be66-e4670e33623e"
      },
      "outputs": [
        {
          "output_type": "stream",
          "name": "stdout",
          "text": [
            "Digite o raio do circulo: 2\n",
            "A área do circulo é: 12.57\n"
          ]
        }
      ],
      "source": [
        "from math import pi\n",
        "r = float(input(\"Digite o raio do circulo: \"))\n",
        "area = r**2*pi\n",
        "print(\"A área do circulo é: {:.2f}\".format(area))"
      ]
    },
    {
      "cell_type": "markdown",
      "id": "868cfe1c",
      "metadata": {
        "deletable": false,
        "editable": false,
        "nbgrader": {
          "cell_type": "markdown",
          "checksum": "83a396c8ae7ca1696f25c00d928c9d55",
          "grade": false,
          "grade_id": "Exercicio3-descricao",
          "locked": true,
          "schema_version": 3,
          "solution": false,
          "task": false
        },
        "id": "868cfe1c"
      },
      "source": [
        "# Exercício 3\n",
        "\n",
        "Faça um Programa que peça 2 números inteiros e um número real. Calcule e mostre:\n",
        "\n",
        "   - o produto do dobro do primeiro com metade do segundo .\n",
        "   - a soma do triplo do primeiro com o terceiro.\n",
        "   - o terceiro elevado ao cubo. "
      ]
    },
    {
      "cell_type": "code",
      "execution_count": 37,
      "id": "0f2c4944",
      "metadata": {
        "deletable": false,
        "nbgrader": {
          "cell_type": "code",
          "checksum": "01db6a60d8afd153075785a9f8e10ea5",
          "grade": true,
          "grade_id": "Exercicio3",
          "locked": false,
          "points": 1,
          "schema_version": 3,
          "solution": true,
          "task": false
        },
        "id": "0f2c4944",
        "colab": {
          "base_uri": "https://localhost:8080/"
        },
        "outputId": "e59a62c1-055e-47b8-afcd-8d6de2070284"
      },
      "outputs": [
        {
          "output_type": "stream",
          "name": "stdout",
          "text": [
            "Digite um número inteiro: 3\n",
            "Digite outro número inteiro: 6\n",
            "Digite um número real: 2.9\n",
            "\n",
            "O produto do dobro do primeiro com metade do segundo: 18.0 \n",
            "A soma do triplo do primeiro com o terceiro: 11.9\n",
            "O terceiro elevado ao cubo:24.39\n"
          ]
        }
      ],
      "source": [
        "int1 = int(input(\"Digite um número inteiro: \"))\n",
        "int2 = int(input(\"Digite outro número inteiro: \"))\n",
        "real = float(input(\"Digite um número real: \"))\n",
        "\n",
        "r1 = (2*int1) * (int2/2)\n",
        "r2 = (int1*3) + real\n",
        "r3 = real**3\n",
        "\n",
        "print(\"\\nO produto do dobro do primeiro com metade do segundo: {} \\nA soma do triplo do primeiro com o terceiro: {}\\nO terceiro elevado ao cubo:{:.2f}\".format(r1,r2,r3))\n",
        "\n"
      ]
    },
    {
      "cell_type": "markdown",
      "id": "d3996f2c",
      "metadata": {
        "deletable": false,
        "editable": false,
        "nbgrader": {
          "cell_type": "markdown",
          "checksum": "dbee5e0c5c9a02ca7b0fbcbf0c5018fd",
          "grade": false,
          "grade_id": "Exercicio4-descricao",
          "locked": true,
          "schema_version": 3,
          "solution": false,
          "task": false
        },
        "id": "d3996f2c"
      },
      "source": [
        "# Exercício 4\n",
        "\n",
        "Faça um programa que pergunte quanto você ganha por hora e o número de horas trabalhadas na semana. Calcule e mostre o total do seu salário ao final de 4 semanas. "
      ]
    },
    {
      "cell_type": "code",
      "execution_count": 38,
      "id": "5a307587",
      "metadata": {
        "deletable": false,
        "nbgrader": {
          "cell_type": "code",
          "checksum": "e511551fc875680ccd9679f9b2c21414",
          "grade": true,
          "grade_id": "Exercicio4",
          "locked": false,
          "points": 1,
          "schema_version": 3,
          "solution": true,
          "task": false
        },
        "id": "5a307587",
        "colab": {
          "base_uri": "https://localhost:8080/"
        },
        "outputId": "148beb1c-8f0d-4a6d-d819-1bde98ebc20f"
      },
      "outputs": [
        {
          "output_type": "stream",
          "name": "stdout",
          "text": [
            "Quanto você ganha por hora? 12\n",
            "Quantas horas você trabalha na semana?40\n",
            "Você ganha R$1920.00 ao final de 4 semanas.\n"
          ]
        }
      ],
      "source": [
        "g = float(input(\"Quanto você ganha por hora? \"))\n",
        "h = float(input(\"Quantas horas você trabalha na semana?\"))\n",
        "s = 4 * h * g\n",
        "print(\"Você ganha R${:.2f} ao final de 4 semanas.\".format(s))"
      ]
    },
    {
      "cell_type": "markdown",
      "id": "d5088446",
      "metadata": {
        "deletable": false,
        "editable": false,
        "nbgrader": {
          "cell_type": "markdown",
          "checksum": "c82b175f45419cc78a6f0efc08f9ab15",
          "grade": false,
          "grade_id": "Exercicio5-descricao",
          "locked": true,
          "schema_version": 3,
          "solution": false,
          "task": false
        },
        "id": "d5088446"
      },
      "source": [
        "# Exercício 5\n",
        "\n",
        "Faça um programa que leia um número inteiro qualquer e que apresete, além do número informado, o seu antecessor e do seu sucessor."
      ]
    },
    {
      "cell_type": "code",
      "execution_count": 39,
      "id": "a09fcc89",
      "metadata": {
        "deletable": false,
        "nbgrader": {
          "cell_type": "code",
          "checksum": "9f693e117e3e2158f95ee76dc96292a0",
          "grade": true,
          "grade_id": "Exercicio5",
          "locked": false,
          "points": 1,
          "schema_version": 3,
          "solution": true,
          "task": false
        },
        "id": "a09fcc89",
        "colab": {
          "base_uri": "https://localhost:8080/"
        },
        "outputId": "1d97a77f-b42e-4290-9874-31769d8eec11"
      },
      "outputs": [
        {
          "output_type": "stream",
          "name": "stdout",
          "text": [
            "Digite um número inteiro:7\n",
            "O inteiro digitado é 7, seu antecessor é 6 e seu sucessor é 8\n"
          ]
        }
      ],
      "source": [
        "n = int(input(\"Digite um número inteiro:\"))\n",
        "print(f\"O inteiro digitado é {n}, seu antecessor é {n-1} e seu sucessor é {n+1}\")"
      ]
    },
    {
      "cell_type": "markdown",
      "id": "57a3fb31",
      "metadata": {
        "deletable": false,
        "editable": false,
        "nbgrader": {
          "cell_type": "markdown",
          "checksum": "537bdb2e45ec13ee95cea397e02744f2",
          "grade": false,
          "grade_id": "Exercicio6-descricao",
          "locked": true,
          "schema_version": 3,
          "solution": false,
          "task": false
        },
        "id": "57a3fb31"
      },
      "source": [
        "# Exercício 6\n",
        "\n",
        "Faça um programa que leia quatro notas, e seus respectivos pesos, e que apresente a média final simples e a média final ponderada."
      ]
    },
    {
      "cell_type": "code",
      "execution_count": 40,
      "id": "10e12fd4",
      "metadata": {
        "deletable": false,
        "nbgrader": {
          "cell_type": "code",
          "checksum": "ff1bbd3e5c18dc73d5e0328c41d74739",
          "grade": true,
          "grade_id": "Exercicio6",
          "locked": false,
          "points": 1,
          "schema_version": 3,
          "solution": true,
          "task": false
        },
        "id": "10e12fd4",
        "colab": {
          "base_uri": "https://localhost:8080/"
        },
        "outputId": "d039bdd3-cb29-4818-e724-5ee2a1c5a6e5"
      },
      "outputs": [
        {
          "output_type": "stream",
          "name": "stdout",
          "text": [
            "Digite a nota 1:5\n",
            "Digite o peso dela:1\n",
            "Digite a nota 2:7\n",
            "Digite o peso dela:2\n",
            "Digite a nota 3:6\n",
            "Digite o peso dela:3\n",
            "Digite a nota 4:5\n",
            "Digite o peso dela:4\n",
            "\n",
            "A média final simples é 5.75\n",
            "A média final ponderada é 5.7\n"
          ]
        }
      ],
      "source": [
        "nota = [[],[]]\n",
        "i = 0\n",
        "while i <4:\n",
        "  nota[0].append(float(input(f\"Digite a nota {i+1}:\")))\n",
        "  nota[1].append(float(input(\"Digite o peso dela:\")))\n",
        "  i = i+1\n",
        "\n",
        "ms = sum(nota[0])/len(nota[0])\n",
        "print(f\"\\nA média final simples é {ms}\")\n",
        "\n",
        "mp = 0\n",
        "for a,b in zip(nota[0],nota[1]):\n",
        "  mp = a*b + mp\n",
        "\n",
        "mp = mp/sum(nota[1])\n",
        "print(f\"A média final ponderada é {mp}\")"
      ]
    },
    {
      "cell_type": "markdown",
      "id": "da81404d",
      "metadata": {
        "deletable": false,
        "editable": false,
        "nbgrader": {
          "cell_type": "markdown",
          "checksum": "6f91f7198e36290a15c6547e839a5885",
          "grade": false,
          "grade_id": "Exercicio7-descricao",
          "locked": true,
          "schema_version": 3,
          "solution": false,
          "task": false
        },
        "id": "da81404d"
      },
      "source": [
        "# Exercício 7\n",
        "\n",
        "Faça um programa para uma loja de tintas. O programa deverá pedir o tamanho em metros quadrados da área a ser pintada. Considere que a cobertura da tinta é de 1 litro para cada 12 metros quadrados e que a tinta é vendida em latas de 18 litros, que custam R$ 80,00. Informe ao usuário a quantidades de latas de tinta a serem compradas e o preço total. "
      ]
    },
    {
      "cell_type": "code",
      "execution_count": 45,
      "id": "2a1f6a9c",
      "metadata": {
        "deletable": false,
        "nbgrader": {
          "cell_type": "code",
          "checksum": "0b356a405bcdf2f889a9a95d9a196d61",
          "grade": true,
          "grade_id": "Exercicio7",
          "locked": false,
          "points": 2,
          "schema_version": 3,
          "solution": true,
          "task": false
        },
        "id": "2a1f6a9c",
        "colab": {
          "base_uri": "https://localhost:8080/"
        },
        "outputId": "6eca3707-f9fe-4313-bde9-c2305f16791b"
      },
      "outputs": [
        {
          "output_type": "stream",
          "name": "stdout",
          "text": [
            "Digite a área em metros quadrados que se deseja pintar: 217\n",
            "Devem ser comprada(s) 2.0 lata(s), totalizando R$160.00\n"
          ]
        }
      ],
      "source": [
        "are = float(input(\"Digite a área em metros quadrados que se deseja pintar: \"))\n",
        "litros = are/12\n",
        "res = litros % 18\n",
        "latas = litros // 18\n",
        "\n",
        "if res > 0:\n",
        "  #Adiciona um lata fechada a compra se precisar de mais tinta do que um mutiplo de 18\n",
        "  latas = latas+1\n",
        "\n",
        "print(f\"Devem ser comprada(s) {latas} lata(s), totalizando R${latas*80:.2f}\")"
      ]
    },
    {
      "cell_type": "markdown",
      "id": "79eca3d1",
      "metadata": {
        "deletable": false,
        "editable": false,
        "nbgrader": {
          "cell_type": "markdown",
          "checksum": "e44b2f3971c79d43c75c12bce821c4d9",
          "grade": false,
          "grade_id": "Exercicio8-descricao",
          "locked": true,
          "schema_version": 3,
          "solution": false,
          "task": false
        },
        "id": "79eca3d1"
      },
      "source": [
        "# Exercício 8\n",
        "\n",
        "Faça um Programa para uma loja de tintas. O programa deverá pedir o tamanho em metros quadrados da área a ser pintada. Considere que a cobertura da tinta é de 1 litro para cada 12 metros quadrados e que a tinta é vendida em latas de 18 litros, que custam R$ 80,00 ou em galões de 3,6 litros, que custam R$ 25,00.\n",
        "\n",
        "Informe ao usuário as quantidades de tinta a serem compradas e os respectivos preços em 3 situações:\n",
        "\n",
        "    - comprar apenas latas de 18 litros;\n",
        "    - comprar apenas galões de 3,6 litros;\n",
        "    - misturar latas e galões, de forma que o desperdício de tinta seja menor. \n",
        "    \n",
        "Acrescente 10% de folga nos três casos (isto é, você deve adicionar 10% sobre o total de litros de tinta necessário) e sempre arredonde os valores para cima, isto é, considere latas cheias. \n",
        "\n"
      ]
    },
    {
      "cell_type": "code",
      "execution_count": 46,
      "id": "54c1e741",
      "metadata": {
        "deletable": false,
        "nbgrader": {
          "cell_type": "code",
          "checksum": "8f12ca6f898fe140e2eb04c84fc6c8f3",
          "grade": true,
          "grade_id": "Exercicio8",
          "locked": false,
          "points": 2,
          "schema_version": 3,
          "solution": true,
          "task": false
        },
        "id": "54c1e741",
        "colab": {
          "base_uri": "https://localhost:8080/"
        },
        "outputId": "1637b1a0-df90-4a18-9228-dd453e07e598"
      },
      "outputs": [
        {
          "output_type": "stream",
          "name": "stdout",
          "text": [
            "Digite a área em metros quadrados que se deseja pintar: 2500\n",
            "\n",
            "Comprando apenas latas de 18 litros: 13.0 latas, totalizando R$1040.00\n",
            "Comprando apenas galões de 3,6 litros: 64.0 galões, totalizando R$1600.00\n",
            "Comprando latas e galões: 12.0 latas 4.0 galões, totalizando R$1060.00\n"
          ]
        }
      ],
      "source": [
        "are = float(input(\"Digite a área em metros quadrados que se deseja pintar: \"))\n",
        "litros = (are/12)*1.1\n",
        "\n",
        "resl = litros % 18\n",
        "latas = litros // 18\n",
        "\n",
        "if resl > 0:\n",
        "  latas18 = latas+1\n",
        "\n",
        "print(f\"\\nComprando apenas latas de 18 litros: {latas18} latas, totalizando R${latas18*80:.2f}\")\n",
        "\n",
        "\n",
        "resg = litros % 3.6\n",
        "galoes = litros // 3.61\n",
        "\n",
        "if resg > 0:\n",
        "  galoes36 = galoes+1\n",
        "\n",
        "print(f\"Comprando apenas galões de 3,6 litros: {galoes36} galões, totalizando R${galoes36*25:.2f}\")\n",
        "\n",
        "galoesR = resl//3.6\n",
        "resTinta = resl%3.6\n",
        "\n",
        "if resTinta > 0:\n",
        "  galoesR = galoesR+1\n",
        "\n",
        "if galoesR > 18/3.6:\n",
        "  latas = latas+1\n",
        "  galoesR = 1\n",
        "\n",
        "\n",
        "print(f\"Comprando latas e galões: {latas} latas {galoesR} galões, totalizando R${(latas*80+galoesR*25):.2f}\")"
      ]
    }
  ],
  "metadata": {
    "kernelspec": {
      "display_name": "Python 3 (ipykernel)",
      "language": "python",
      "name": "python3"
    },
    "language_info": {
      "codemirror_mode": {
        "name": "ipython",
        "version": 3
      },
      "file_extension": ".py",
      "mimetype": "text/x-python",
      "name": "python",
      "nbconvert_exporter": "python",
      "pygments_lexer": "ipython3",
      "version": "3.9.7"
    },
    "colab": {
      "name": "Semana1.ipynb",
      "provenance": []
    }
  },
  "nbformat": 4,
  "nbformat_minor": 5
}