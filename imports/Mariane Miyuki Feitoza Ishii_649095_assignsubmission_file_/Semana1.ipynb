{
  "cells": [
    {
      "cell_type": "markdown",
      "id": "d4a1d469",
      "metadata": {
        "id": "d4a1d469"
      },
      "source": [
        "# Instruções\n",
        "\n",
        "- Antes de resolver esses exercícios, certifique-se que a configuração está correta (Python 3).\n",
        "\n",
        "- Se estiver usando o Colab, faça uma cópia deste notebook antes de começar a repondê-lo.\n",
        "\n",
        "![](http://professor.ufabc.edu.br/~ronaldo.prati/colab.png)\n",
        "\n",
        "- Lembre-se de manter o nome do caderno com o mesmo nome original.\n",
        "\n",
        "- Não apague nem introduza novas células neste notebook.\n",
        "\n",
        "- Certifique-se que você preencheu todos os lugares que dizem \\\"YOUR CODE HERE\\\" ou \\\"YOUR ANSWER HERE\\\". Substitutua essa linha e também a linha `raise NotImplementedError()` pelo seu código.\n",
        "\n",
        "- Depois de resolver os exercícios, para enviar a atividade, salve o notebook e o envie pelo moodle da disciplina. No colab, para exportar o notebook localmente, acesse `File->Download->Download .ipynb` ou `Arquivo->Baixar->Baixar .ipynb`\n",
        "\n",
        "![](http://professor.ufabc.edu.br/~ronaldo.prati/submit.png)"
      ]
    },
    {
      "cell_type": "markdown",
      "id": "5f82cbf3",
      "metadata": {
        "deletable": false,
        "editable": false,
        "nbgrader": {
          "cell_type": "markdown",
          "checksum": "f1f911b3ba8050e102209c62c8db3f57",
          "grade": false,
          "grade_id": "Exercicio1-descricao",
          "locked": true,
          "schema_version": 3,
          "solution": false,
          "task": false
        },
        "id": "5f82cbf3"
      },
      "source": [
        "# Exercício 1\n",
        "\n",
        "Faça um programa que peça um número e armazene-o em uma variável. A seguir, mostre a mensagem \"O número informado foi [número]\""
      ]
    },
    {
      "cell_type": "code",
      "execution_count": null,
      "id": "98f0fd7a",
      "metadata": {
        "deletable": false,
        "nbgrader": {
          "cell_type": "code",
          "checksum": "74fb8b9b0c1978c0db15aa13a5696150",
          "grade": true,
          "grade_id": "Exercicio1",
          "locked": false,
          "points": 1,
          "schema_version": 3,
          "solution": true,
          "task": false
        },
        "id": "98f0fd7a",
        "colab": {
          "base_uri": "https://localhost:8080/"
        },
        "outputId": "595f6b10-335e-4b3d-f5a9-2e878bf083e5"
      },
      "outputs": [
        {
          "output_type": "stream",
          "name": "stdout",
          "text": [
            "digite um numero: 5\n",
            "O número informado foi:  5.0\n"
          ]
        }
      ],
      "source": [
        "variavel = float(input(\"digite um numero: \"))\n",
        "print(\"O número informado foi: \", variavel)"
      ]
    },
    {
      "cell_type": "markdown",
      "id": "dd8c0af2",
      "metadata": {
        "deletable": false,
        "editable": false,
        "nbgrader": {
          "cell_type": "markdown",
          "checksum": "e1645b130e5fd8363c5a31803d8a6730",
          "grade": false,
          "grade_id": "Exercicio2-descricao",
          "locked": true,
          "schema_version": 3,
          "solution": false,
          "task": false
        },
        "id": "dd8c0af2"
      },
      "source": [
        "# Exercício 2\n",
        "\n",
        "Faça um Programa que peça o raio de um círculo, calcule e mostre sua área.\n",
        "Dica: para usar o valor de $\\pi$, pesquise por `math.pi`."
      ]
    },
    {
      "cell_type": "code",
      "execution_count": null,
      "id": "407e7f33",
      "metadata": {
        "deletable": false,
        "nbgrader": {
          "cell_type": "code",
          "checksum": "41ef7b01abeaa8d74e2893a5054fb644",
          "grade": true,
          "grade_id": "Exercicio2",
          "locked": false,
          "points": 1,
          "schema_version": 3,
          "solution": true,
          "task": false
        },
        "id": "407e7f33",
        "colab": {
          "base_uri": "https://localhost:8080/"
        },
        "outputId": "fed5a543-2c62-44fe-f328-7ca1c48b4f5f"
      },
      "outputs": [
        {
          "output_type": "stream",
          "name": "stdout",
          "text": [
            "digite o raio do circulo: 3\n",
            "area = 28.274333882308138\n"
          ]
        }
      ],
      "source": [
        "import math\n",
        "r = float(input(\"digite o raio do circulo: \"))\n",
        "A = math.pi*r**2\n",
        "print(\"area =\",A)"
      ]
    },
    {
      "cell_type": "markdown",
      "id": "868cfe1c",
      "metadata": {
        "deletable": false,
        "editable": false,
        "nbgrader": {
          "cell_type": "markdown",
          "checksum": "83a396c8ae7ca1696f25c00d928c9d55",
          "grade": false,
          "grade_id": "Exercicio3-descricao",
          "locked": true,
          "schema_version": 3,
          "solution": false,
          "task": false
        },
        "id": "868cfe1c"
      },
      "source": [
        "# Exercício 3\n",
        "\n",
        "Faça um Programa que peça 2 números inteiros e um número real. Calcule e mostre:\n",
        "\n",
        "   - o produto do dobro do primeiro com metade do segundo .\n",
        "   - a soma do triplo do primeiro com o terceiro.\n",
        "   - o terceiro elevado ao cubo. "
      ]
    },
    {
      "cell_type": "code",
      "execution_count": null,
      "id": "0f2c4944",
      "metadata": {
        "deletable": false,
        "nbgrader": {
          "cell_type": "code",
          "checksum": "01db6a60d8afd153075785a9f8e10ea5",
          "grade": true,
          "grade_id": "Exercicio3",
          "locked": false,
          "points": 1,
          "schema_version": 3,
          "solution": true,
          "task": false
        },
        "id": "0f2c4944",
        "colab": {
          "base_uri": "https://localhost:8080/"
        },
        "outputId": "a733224a-70c4-41ab-b35f-54921c3a9a28"
      },
      "outputs": [
        {
          "output_type": "stream",
          "name": "stdout",
          "text": [
            "escreva um numero inteiro: 2\n",
            "escreva outro numero inteiro: 2\n",
            "escreve um numero real: 3\n",
            "4.0\n",
            "9.0\n",
            "27.0\n"
          ]
        }
      ],
      "source": [
        "i1 = int(input(\"escreva um numero inteiro: \"))\n",
        "i2 = int(input(\"escreva outro numero inteiro: \"))\n",
        "real = float(input(\"escreve um numero real: \"))\n",
        "a = (2*i1)*(i2/2)\n",
        "b = 3*i1+real\n",
        "c = real**3\n",
        "print(a)\n",
        "print(b)\n",
        "print(c)"
      ]
    },
    {
      "cell_type": "markdown",
      "id": "d3996f2c",
      "metadata": {
        "deletable": false,
        "editable": false,
        "nbgrader": {
          "cell_type": "markdown",
          "checksum": "dbee5e0c5c9a02ca7b0fbcbf0c5018fd",
          "grade": false,
          "grade_id": "Exercicio4-descricao",
          "locked": true,
          "schema_version": 3,
          "solution": false,
          "task": false
        },
        "id": "d3996f2c"
      },
      "source": [
        "# Exercício 4\n",
        "\n",
        "Faça um programa que pergunte quanto você ganha por hora e o número de horas trabalhadas na semana. Calcule e mostre o total do seu salário ao final de 4 semanas. "
      ]
    },
    {
      "cell_type": "code",
      "execution_count": null,
      "id": "5a307587",
      "metadata": {
        "deletable": false,
        "nbgrader": {
          "cell_type": "code",
          "checksum": "e511551fc875680ccd9679f9b2c21414",
          "grade": true,
          "grade_id": "Exercicio4",
          "locked": false,
          "points": 1,
          "schema_version": 3,
          "solution": true,
          "task": false
        },
        "id": "5a307587",
        "colab": {
          "base_uri": "https://localhost:8080/"
        },
        "outputId": "57189b58-c09b-467e-9175-7217d2b5efa8"
      },
      "outputs": [
        {
          "output_type": "stream",
          "name": "stdout",
          "text": [
            "digite quanto vc ganha por hora trabalhada: 10\n",
            "digite o numero de horas trabalhadas na semana: 12\n",
            "salario em 4 semanas: 480.0\n"
          ]
        }
      ],
      "source": [
        "vh = float(input(\"digite quanto vc ganha por hora trabalhada: \"))\n",
        "nh = float(input(\"digite o numero de horas trabalhadas na semana: \"))\n",
        "t = vh * nh * 4\n",
        "print(\"salario em 4 semanas:\",t)"
      ]
    },
    {
      "cell_type": "markdown",
      "id": "d5088446",
      "metadata": {
        "deletable": false,
        "editable": false,
        "nbgrader": {
          "cell_type": "markdown",
          "checksum": "c82b175f45419cc78a6f0efc08f9ab15",
          "grade": false,
          "grade_id": "Exercicio5-descricao",
          "locked": true,
          "schema_version": 3,
          "solution": false,
          "task": false
        },
        "id": "d5088446"
      },
      "source": [
        "# Exercício 5\n",
        "\n",
        "Faça um programa que leia um número inteiro qualquer e que apresete, além do número informado, o seu antecessor e do seu sucessor."
      ]
    },
    {
      "cell_type": "code",
      "execution_count": null,
      "id": "a09fcc89",
      "metadata": {
        "deletable": false,
        "nbgrader": {
          "cell_type": "code",
          "checksum": "9f693e117e3e2158f95ee76dc96292a0",
          "grade": true,
          "grade_id": "Exercicio5",
          "locked": false,
          "points": 1,
          "schema_version": 3,
          "solution": true,
          "task": false
        },
        "id": "a09fcc89",
        "colab": {
          "base_uri": "https://localhost:8080/"
        },
        "outputId": "3d04db71-7aa1-40ea-8125-fd5da58c33ce"
      },
      "outputs": [
        {
          "output_type": "stream",
          "name": "stdout",
          "text": [
            "5\n",
            "4 5 6\n"
          ]
        }
      ],
      "source": [
        "n = int(input(\"digite um numero inteiro:\"))\n",
        "a = n-1\n",
        "s = n+1 \n",
        "print(a,n,s)"
      ]
    },
    {
      "cell_type": "markdown",
      "id": "57a3fb31",
      "metadata": {
        "deletable": false,
        "editable": false,
        "nbgrader": {
          "cell_type": "markdown",
          "checksum": "537bdb2e45ec13ee95cea397e02744f2",
          "grade": false,
          "grade_id": "Exercicio6-descricao",
          "locked": true,
          "schema_version": 3,
          "solution": false,
          "task": false
        },
        "id": "57a3fb31"
      },
      "source": [
        "# Exercício 6\n",
        "\n",
        "Faça um programa que leia quatro notas, e seus respectivos pesos, e que apresente a média final simples e a média final ponderada."
      ]
    },
    {
      "cell_type": "code",
      "execution_count": null,
      "id": "10e12fd4",
      "metadata": {
        "deletable": false,
        "nbgrader": {
          "cell_type": "code",
          "checksum": "ff1bbd3e5c18dc73d5e0328c41d74739",
          "grade": true,
          "grade_id": "Exercicio6",
          "locked": false,
          "points": 1,
          "schema_version": 3,
          "solution": true,
          "task": false
        },
        "id": "10e12fd4",
        "colab": {
          "base_uri": "https://localhost:8080/"
        },
        "outputId": "fbc9f5d7-f9d7-475b-f1e9-265e3e90d20e"
      },
      "outputs": [
        {
          "output_type": "stream",
          "name": "stdout",
          "text": [
            "digite a primeira nota:8\n",
            "e seu peso:1\n",
            "digite a segunda nota:9\n",
            "e seu peso:5\n",
            "digite a terceira nota:8.5\n",
            "e seu peso:4\n",
            "digite a quarta nota:4\n",
            "e seu peso:7\n",
            "media simples =  7.375\n",
            "media ponderada =  6.764705882352941\n"
          ]
        }
      ],
      "source": [
        "n1 = float(input(\"digite a primeira nota:\"))\n",
        "p1 = float(input(\"e seu peso:\"))\n",
        "n2 = float(input(\"digite a segunda nota:\"))\n",
        "p2 = float(input(\"e seu peso:\"))\n",
        "n3 = float(input(\"digite a terceira nota:\"))\n",
        "p3 = float(input(\"e seu peso:\"))\n",
        "n4 = float(input(\"digite a quarta nota:\"))\n",
        "p4 = float(input(\"e seu peso:\"))\n",
        "medsimp = (n1+n2+n3+n4)/4\n",
        "medpond = (n1*p1+n2*p2+n3*p3+n4*p4)/(p1+p2+p3+p4)\n",
        "print(\"media simples = \", medsimp)\n",
        "print(\"media ponderada = \", medpond)"
      ]
    },
    {
      "cell_type": "markdown",
      "id": "da81404d",
      "metadata": {
        "deletable": false,
        "editable": false,
        "nbgrader": {
          "cell_type": "markdown",
          "checksum": "6f91f7198e36290a15c6547e839a5885",
          "grade": false,
          "grade_id": "Exercicio7-descricao",
          "locked": true,
          "schema_version": 3,
          "solution": false,
          "task": false
        },
        "id": "da81404d"
      },
      "source": [
        "# Exercício 7\n",
        "\n",
        "Faça um programa para uma loja de tintas. O programa deverá pedir o tamanho em metros quadrados da área a ser pintada. Considere que a cobertura da tinta é de 1 litro para cada 12 metros quadrados e que a tinta é vendida em latas de 18 litros, que custam R$ 80,00. Informe ao usuário a quantidades de latas de tinta a serem compradas e o preço total. "
      ]
    },
    {
      "cell_type": "code",
      "execution_count": null,
      "id": "2a1f6a9c",
      "metadata": {
        "deletable": false,
        "nbgrader": {
          "cell_type": "code",
          "checksum": "0b356a405bcdf2f889a9a95d9a196d61",
          "grade": true,
          "grade_id": "Exercicio7",
          "locked": false,
          "points": 2,
          "schema_version": 3,
          "solution": true,
          "task": false
        },
        "id": "2a1f6a9c",
        "colab": {
          "base_uri": "https://localhost:8080/"
        },
        "outputId": "66a9c241-5e8a-44dd-f451-9a2d7e142047"
      },
      "outputs": [
        {
          "output_type": "stream",
          "name": "stdout",
          "text": [
            "digite a area em m2 a ser pintada:12000\n",
            "devem ser compradas 56 latas, com o preço total de 4480.00 reais\n"
          ]
        }
      ],
      "source": [
        "import math\n",
        "area = float(input(\"digite a area em m2 a ser pintada:\"))\n",
        "litros_necessarios = area/12\n",
        "latas = math.ceil(litros_necessarios/18) \n",
        "preco = latas*80\n",
        "print(\"devem ser compradas\",latas,\"latas, com o preço total de %.2f\"%preco,\"reais\")"
      ]
    },
    {
      "cell_type": "markdown",
      "id": "79eca3d1",
      "metadata": {
        "deletable": false,
        "editable": false,
        "nbgrader": {
          "cell_type": "markdown",
          "checksum": "e44b2f3971c79d43c75c12bce821c4d9",
          "grade": false,
          "grade_id": "Exercicio8-descricao",
          "locked": true,
          "schema_version": 3,
          "solution": false,
          "task": false
        },
        "id": "79eca3d1"
      },
      "source": [
        "# Exercício 8\n",
        "\n",
        "Faça um Programa para uma loja de tintas. O programa deverá pedir o tamanho em metros quadrados da área a ser pintada. Considere que a cobertura da tinta é de 1 litro para cada 12 metros quadrados e que a tinta é vendida em latas de 18 litros, que custam R$ 80,00 ou em galões de 3,6 litros, que custam R$ 25,00.\n",
        "\n",
        "Informe ao usuário as quantidades de tinta a serem compradas e os respectivos preços em 3 situações:\n",
        "\n",
        "    - comprar apenas latas de 18 litros;\n",
        "    - comprar apenas galões de 3,6 litros;\n",
        "    - misturar latas e galões, de forma que o desperdício de tinta seja menor. \n",
        "    \n",
        "Acrescente 10% de folga nos três casos (isto é, você deve adicionar 10% sobre o total de litros de tinta necessário) e sempre arredonde os valores para cima, isto é, considere latas cheias. \n",
        "\n"
      ]
    },
    {
      "cell_type": "code",
      "execution_count": null,
      "id": "54c1e741",
      "metadata": {
        "deletable": false,
        "nbgrader": {
          "cell_type": "code",
          "checksum": "8f12ca6f898fe140e2eb04c84fc6c8f3",
          "grade": true,
          "grade_id": "Exercicio8",
          "locked": false,
          "points": 2,
          "schema_version": 3,
          "solution": true,
          "task": false
        },
        "id": "54c1e741",
        "colab": {
          "base_uri": "https://localhost:8080/"
        },
        "outputId": "bffe18e7-45d7-4dff-e745-4054e04a4fa5"
      },
      "outputs": [
        {
          "output_type": "stream",
          "name": "stdout",
          "text": [
            "digite a area em m2 a ser pintada:216000\n",
            "comprar 1100 latas, pagando 88000.00 reais no total\n",
            "comprar 5500 galoes, pagando 137500.00 reais no total\n",
            "comprar 1100 latas e 0 galoes, pagando 88000.00 reais no total\n"
          ]
        }
      ],
      "source": [
        "import math\n",
        "area = float(input(\"digite a area em m2 a ser pintada:\"))\n",
        "litros_necessarios = (area/12)*1.1\n",
        "latas = math.ceil(litros_necessarios/18) \n",
        "galoes = math.ceil(litros_necessarios/3.6)\n",
        "qtde_latas = int(litros_necessarios//18)\n",
        "qtde_galoes = math.ceil((litros_necessarios%18)/3.6)\n",
        "precol = latas*80\n",
        "precog = galoes*25\n",
        "preco2 = qtde_latas*80 + qtde_galoes*25\n",
        "print(\"comprar\",latas,\"latas, pagando %.2f\"%precol,\"reais no total\")\n",
        "print(\"comprar\",galoes,\"galoes, pagando %.2f\"%precog,\"reais no total\")\n",
        "print(\"comprar\",qtde_latas,\"latas e\",qtde_galoes,\"galoes, pagando %.2f\"%preco2,\"reais no total\")"
      ]
    }
  ],
  "metadata": {
    "kernelspec": {
      "display_name": "Python 3 (ipykernel)",
      "language": "python",
      "name": "python3"
    },
    "language_info": {
      "codemirror_mode": {
        "name": "ipython",
        "version": 3
      },
      "file_extension": ".py",
      "mimetype": "text/x-python",
      "name": "python",
      "nbconvert_exporter": "python",
      "pygments_lexer": "ipython3",
      "version": "3.9.7"
    },
    "colab": {
      "name": "Semana1.ipynb",
      "provenance": []
    }
  },
  "nbformat": 4,
  "nbformat_minor": 5
}