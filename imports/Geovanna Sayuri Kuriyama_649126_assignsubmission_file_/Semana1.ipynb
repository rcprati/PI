{
  "cells": [
    {
      "cell_type": "markdown",
      "id": "d4a1d469",
      "metadata": {
        "id": "d4a1d469"
      },
      "source": [
        "# Instruções\n",
        "\n",
        "- Antes de resolver esses exercícios, certifique-se que a configuração está correta (Python 3).\n",
        "\n",
        "- Se estiver usando o Colab, faça uma cópia deste notebook antes de começar a repondê-lo.\n",
        "\n",
        "![](http://professor.ufabc.edu.br/~ronaldo.prati/colab.png)\n",
        "\n",
        "- Lembre-se de manter o nome do caderno com o mesmo nome original.\n",
        "\n",
        "- Não apague nem introduza novas células neste notebook.\n",
        "\n",
        "- Certifique-se que você preencheu todos os lugares que dizem \\\"YOUR CODE HERE\\\" ou \\\"YOUR ANSWER HERE\\\". Substitutua essa linha e também a linha `raise NotImplementedError()` pelo seu código.\n",
        "\n",
        "- Depois de resolver os exercícios, para enviar a atividade, salve o notebook e o envie pelo moodle da disciplina. No colab, para exportar o notebook localmente, acesse `File->Download->Download .ipynb` ou `Arquivo->Baixar->Baixar .ipynb`\n",
        "\n",
        "![](http://professor.ufabc.edu.br/~ronaldo.prati/submit.png)"
      ]
    },
    {
      "cell_type": "markdown",
      "id": "5f82cbf3",
      "metadata": {
        "deletable": false,
        "editable": false,
        "nbgrader": {
          "cell_type": "markdown",
          "checksum": "f1f911b3ba8050e102209c62c8db3f57",
          "grade": false,
          "grade_id": "Exercicio1-descricao",
          "locked": true,
          "schema_version": 3,
          "solution": false,
          "task": false
        },
        "id": "5f82cbf3"
      },
      "source": [
        "# Exercício 1\n",
        "\n",
        "Faça um programa que peça um número e armazene-o em uma variável. A seguir, mostre a mensagem \"O número informado foi [número]\""
      ]
    },
    {
      "cell_type": "code",
      "execution_count": 1,
      "id": "98f0fd7a",
      "metadata": {
        "deletable": false,
        "nbgrader": {
          "cell_type": "code",
          "checksum": "74fb8b9b0c1978c0db15aa13a5696150",
          "grade": true,
          "grade_id": "Exercicio1",
          "locked": false,
          "points": 1,
          "schema_version": 3,
          "solution": true,
          "task": false
        },
        "id": "98f0fd7a",
        "colab": {
          "base_uri": "https://localhost:8080/"
        },
        "outputId": "1ecefcd2-0f84-4f1b-e0c6-0f8b6b4c089f"
      },
      "outputs": [
        {
          "output_type": "stream",
          "name": "stdout",
          "text": [
            "Digite um número: 3\n",
            "O número informado foi  3\n"
          ]
        }
      ],
      "source": [
        "# Resposta:\n",
        "ç = input(\"Digite um número: \")\n",
        "print(\"O número informado foi \", ç)"
      ]
    },
    {
      "cell_type": "markdown",
      "id": "dd8c0af2",
      "metadata": {
        "deletable": false,
        "editable": false,
        "nbgrader": {
          "cell_type": "markdown",
          "checksum": "e1645b130e5fd8363c5a31803d8a6730",
          "grade": false,
          "grade_id": "Exercicio2-descricao",
          "locked": true,
          "schema_version": 3,
          "solution": false,
          "task": false
        },
        "id": "dd8c0af2"
      },
      "source": [
        "# Exercício 2\n",
        "\n",
        "Faça um Programa que peça o raio de um círculo, calcule e mostre sua área.\n",
        "Dica: para usar o valor de $\\pi$, pesquise por `math.pi`."
      ]
    },
    {
      "cell_type": "code",
      "execution_count": 2,
      "id": "407e7f33",
      "metadata": {
        "deletable": false,
        "nbgrader": {
          "cell_type": "code",
          "checksum": "41ef7b01abeaa8d74e2893a5054fb644",
          "grade": true,
          "grade_id": "Exercicio2",
          "locked": false,
          "points": 1,
          "schema_version": 3,
          "solution": true,
          "task": false
        },
        "id": "407e7f33",
        "colab": {
          "base_uri": "https://localhost:8080/"
        },
        "outputId": "deb17c9e-a932-4ff5-c983-c13068c7ddb0"
      },
      "outputs": [
        {
          "output_type": "stream",
          "name": "stdout",
          "text": [
            "Digite o raio do círculo 3\n",
            "A área do círculo equivale a 28.274333882308138\n"
          ]
        }
      ],
      "source": [
        "# Resposta:\n",
        "import math\n",
        "r = float(input(\"Digite o raio do círculo \"))\n",
        "y = math.pi * r**2\n",
        "print(\"A área do círculo equivale a\", y)"
      ]
    },
    {
      "cell_type": "markdown",
      "id": "868cfe1c",
      "metadata": {
        "deletable": false,
        "editable": false,
        "nbgrader": {
          "cell_type": "markdown",
          "checksum": "83a396c8ae7ca1696f25c00d928c9d55",
          "grade": false,
          "grade_id": "Exercicio3-descricao",
          "locked": true,
          "schema_version": 3,
          "solution": false,
          "task": false
        },
        "id": "868cfe1c"
      },
      "source": [
        "# Exercício 3\n",
        "\n",
        "Faça um Programa que peça 2 números inteiros e um número real. Calcule e mostre:\n",
        "\n",
        "   - o produto do dobro do primeiro com metade do segundo .\n",
        "   - a soma do triplo do primeiro com o terceiro.\n",
        "   - o terceiro elevado ao cubo. "
      ]
    },
    {
      "cell_type": "code",
      "execution_count": 3,
      "id": "0f2c4944",
      "metadata": {
        "deletable": false,
        "nbgrader": {
          "cell_type": "code",
          "checksum": "01db6a60d8afd153075785a9f8e10ea5",
          "grade": true,
          "grade_id": "Exercicio3",
          "locked": false,
          "points": 1,
          "schema_version": 3,
          "solution": true,
          "task": false
        },
        "id": "0f2c4944",
        "colab": {
          "base_uri": "https://localhost:8080/"
        },
        "outputId": "8306317b-8d2c-47e5-f32e-58c4c5cf36d8"
      },
      "outputs": [
        {
          "output_type": "stream",
          "name": "stdout",
          "text": [
            "Digite um número inteiro 2\n",
            "Digite um número inteiro 2\n",
            "Digite um número real 2\n",
            "O produto do dobro do primeiro com metade do segundo é 4.0\n",
            "A soma do triplo do primeiro com o terceiro é 8.0\n",
            "O terceiro elevado ao cubo é 8.0\n"
          ]
        }
      ],
      "source": [
        "# Resposta:\n",
        "a  = int(input(\"Digite um número inteiro \"))\n",
        "b  = int(input(\"Digite um número inteiro \"))\n",
        "c  = float(input(\"Digite um número real \"))\n",
        "r1 = a*2 * (b/2)\n",
        "r2 = a*3 + c\n",
        "r3 = c**3\n",
        "print(\"O produto do dobro do primeiro com metade do segundo é\", r1)\n",
        "print(\"A soma do triplo do primeiro com o terceiro é\", r2)\n",
        "print(\"O terceiro elevado ao cubo é\", r3)"
      ]
    },
    {
      "cell_type": "markdown",
      "id": "d3996f2c",
      "metadata": {
        "deletable": false,
        "editable": false,
        "nbgrader": {
          "cell_type": "markdown",
          "checksum": "dbee5e0c5c9a02ca7b0fbcbf0c5018fd",
          "grade": false,
          "grade_id": "Exercicio4-descricao",
          "locked": true,
          "schema_version": 3,
          "solution": false,
          "task": false
        },
        "id": "d3996f2c"
      },
      "source": [
        "# Exercício 4\n",
        "\n",
        "Faça um programa que pergunte quanto você ganha por hora e o número de horas trabalhadas na semana. Calcule e mostre o total do seu salário ao final de 4 semanas. "
      ]
    },
    {
      "cell_type": "code",
      "execution_count": 5,
      "id": "5a307587",
      "metadata": {
        "deletable": false,
        "nbgrader": {
          "cell_type": "code",
          "checksum": "e511551fc875680ccd9679f9b2c21414",
          "grade": true,
          "grade_id": "Exercicio4",
          "locked": false,
          "points": 1,
          "schema_version": 3,
          "solution": true,
          "task": false
        },
        "id": "5a307587",
        "colab": {
          "base_uri": "https://localhost:8080/"
        },
        "outputId": "edf60758-06e8-4899-c1a3-531ff9c3db17"
      },
      "outputs": [
        {
          "output_type": "stream",
          "name": "stdout",
          "text": [
            "Quanto você ganha por hora? 6\n",
            "Total de horas trabalhadas na semana 30\n",
            "Seu salário em 4 semanas é  720\n"
          ]
        }
      ],
      "source": [
        "# Resposta:\n",
        "h = int(input(\"Quanto você ganha por hora? \")) \n",
        "t = int(input(\"Total de horas trabalhadas na semana \"))\n",
        "s = (h * t) * 4 # Salário total em 4 semanas\n",
        "print(\"Seu salário em 4 semanas é \", s)"
      ]
    },
    {
      "cell_type": "markdown",
      "id": "d5088446",
      "metadata": {
        "deletable": false,
        "editable": false,
        "nbgrader": {
          "cell_type": "markdown",
          "checksum": "c82b175f45419cc78a6f0efc08f9ab15",
          "grade": false,
          "grade_id": "Exercicio5-descricao",
          "locked": true,
          "schema_version": 3,
          "solution": false,
          "task": false
        },
        "id": "d5088446"
      },
      "source": [
        "# Exercício 5\n",
        "\n",
        "Faça um programa que leia um número inteiro qualquer e que apresete, além do número informado, o seu antecessor e do seu sucessor."
      ]
    },
    {
      "cell_type": "code",
      "execution_count": 6,
      "id": "a09fcc89",
      "metadata": {
        "deletable": false,
        "nbgrader": {
          "cell_type": "code",
          "checksum": "9f693e117e3e2158f95ee76dc96292a0",
          "grade": true,
          "grade_id": "Exercicio5",
          "locked": false,
          "points": 1,
          "schema_version": 3,
          "solution": true,
          "task": false
        },
        "id": "a09fcc89",
        "colab": {
          "base_uri": "https://localhost:8080/"
        },
        "outputId": "6c8712cc-143c-4dd8-96ba-f2d7d36308d4"
      },
      "outputs": [
        {
          "output_type": "stream",
          "name": "stdout",
          "text": [
            "Digite um número inteiro 3\n",
            "O número digitado foi 3 e seu antecessor é 2 e seu sucessor é 4\n"
          ]
        }
      ],
      "source": [
        "# Resposta:\n",
        "x = int(input(\"Digite um número inteiro \"))\n",
        "y = x - 1\n",
        "z = x + 1\n",
        "print(\"O número digitado foi\", x, \"e seu antecessor é\", y, \"e seu sucessor é\", z)"
      ]
    },
    {
      "cell_type": "markdown",
      "id": "57a3fb31",
      "metadata": {
        "deletable": false,
        "editable": false,
        "nbgrader": {
          "cell_type": "markdown",
          "checksum": "537bdb2e45ec13ee95cea397e02744f2",
          "grade": false,
          "grade_id": "Exercicio6-descricao",
          "locked": true,
          "schema_version": 3,
          "solution": false,
          "task": false
        },
        "id": "57a3fb31"
      },
      "source": [
        "# Exercício 6\n",
        "\n",
        "Faça um programa que leia quatro notas, e seus respectivos pesos, e que apresente a média final simples e a média final ponderada."
      ]
    },
    {
      "cell_type": "code",
      "execution_count": 7,
      "id": "10e12fd4",
      "metadata": {
        "deletable": false,
        "nbgrader": {
          "cell_type": "code",
          "checksum": "ff1bbd3e5c18dc73d5e0328c41d74739",
          "grade": true,
          "grade_id": "Exercicio6",
          "locked": false,
          "points": 1,
          "schema_version": 3,
          "solution": true,
          "task": false
        },
        "id": "10e12fd4",
        "colab": {
          "base_uri": "https://localhost:8080/"
        },
        "outputId": "464b06fd-fd09-490f-f95f-bdb23c81b45f"
      },
      "outputs": [
        {
          "output_type": "stream",
          "name": "stdout",
          "text": [
            "Digite a primeira nota 9\n",
            "Digite a segunda nota 8\n",
            "Digite a terceira nota 7\n",
            "Digite a quarta nota 8\n",
            "Digite o peso da primeira nota 9\n",
            "Digite o peso da segunda nota 10\n",
            "Digite o peso da terceira nota 10\n",
            "Digite o peso da quarta nota 10\n",
            "A média simples é:  8.0  e a média poderada é:  7.9743589743589745\n"
          ]
        }
      ],
      "source": [
        "# Resposta:\n",
        "n1 = int(input(\"Digite a primeira nota \"))\n",
        "n2 = int(input(\"Digite a segunda nota \"))\n",
        "n3 = int(input(\"Digite a terceira nota \"))\n",
        "n4 = int(input(\"Digite a quarta nota \"))\n",
        "p1 = int(input(\"Digite o peso da primeira nota \"))\n",
        "p2 = int(input(\"Digite o peso da segunda nota \"))\n",
        "p3 = int(input(\"Digite o peso da terceira nota \"))\n",
        "p4 = int(input(\"Digite o peso da quarta nota \")) \n",
        "media_simples = (n1 + n2 + n3 + n4)/4\n",
        "media_ponderada = (p1*n1 + p2*n2 + p3*n3 + p4*n4)/(p1 + p2 + p3 + p4)\n",
        "print(\"A média simples é: \", media_simples, \" e a média poderada é: \", media_ponderada)"
      ]
    },
    {
      "cell_type": "markdown",
      "id": "da81404d",
      "metadata": {
        "deletable": false,
        "editable": false,
        "nbgrader": {
          "cell_type": "markdown",
          "checksum": "6f91f7198e36290a15c6547e839a5885",
          "grade": false,
          "grade_id": "Exercicio7-descricao",
          "locked": true,
          "schema_version": 3,
          "solution": false,
          "task": false
        },
        "id": "da81404d"
      },
      "source": [
        "# Exercício 7\n",
        "\n",
        "Faça um programa para uma loja de tintas. O programa deverá pedir o tamanho em metros quadrados da área a ser pintada. Considere que a cobertura da tinta é de 1 litro para cada 12 metros quadrados e que a tinta é vendida em latas de 18 litros, que custam R$ 80,00. Informe ao usuário a quantidades de latas de tinta a serem compradas e o preço total. "
      ]
    },
    {
      "cell_type": "code",
      "execution_count": 8,
      "id": "2a1f6a9c",
      "metadata": {
        "deletable": false,
        "nbgrader": {
          "cell_type": "code",
          "checksum": "0b356a405bcdf2f889a9a95d9a196d61",
          "grade": true,
          "grade_id": "Exercicio7",
          "locked": false,
          "points": 2,
          "schema_version": 3,
          "solution": true,
          "task": false
        },
        "id": "2a1f6a9c",
        "colab": {
          "base_uri": "https://localhost:8080/"
        },
        "outputId": "4ca698cf-60fd-4f58-e063-b49f0130cc5c"
      },
      "outputs": [
        {
          "output_type": "stream",
          "name": "stdout",
          "text": [
            "Informe o tamanho em metros quadrados (m²) a ser pintado: 50\n",
            "A quantidade de latas de 18l a ser usada é :  0.462962962962963\n",
            "O preço total da compra será de R$  80\n"
          ]
        }
      ],
      "source": [
        "# Resposta:\n",
        "m = float(input(\"Informe o tamanho em metros quadrados (m²) a ser pintado: \"))  # Metragem\n",
        "l = m/6                                                                         # Quantos litros será consumida\n",
        "q = l/18                                                                        # Quantidade de latas de 18l\n",
        "t = math.ceil(q) * 80\n",
        "print(\"A quantidade de latas de 18l a ser usada é : \", q)\n",
        "print(\"O preço total da compra será de R$ \", t)"
      ]
    },
    {
      "cell_type": "markdown",
      "id": "79eca3d1",
      "metadata": {
        "deletable": false,
        "editable": false,
        "nbgrader": {
          "cell_type": "markdown",
          "checksum": "e44b2f3971c79d43c75c12bce821c4d9",
          "grade": false,
          "grade_id": "Exercicio8-descricao",
          "locked": true,
          "schema_version": 3,
          "solution": false,
          "task": false
        },
        "id": "79eca3d1"
      },
      "source": [
        "# Exercício 8\n",
        "\n",
        "Faça um Programa para uma loja de tintas. O programa deverá pedir o tamanho em metros quadrados da área a ser pintada. Considere que a cobertura da tinta é de 1 litro para cada 12 metros quadrados e que a tinta é vendida em latas de 18 litros, que custam R$ 80,00 ou em galões de 3,6 litros, que custam R$ 25,00.\n",
        "\n",
        "Informe ao usuário as quantidades de tinta a serem compradas e os respectivos preços em 3 situações:\n",
        "\n",
        "    - comprar apenas latas de 18 litros;\n",
        "    - comprar apenas galões de 3,6 litros;\n",
        "    - misturar latas e galões, de forma que o desperdício de tinta seja menor. \n",
        "    \n",
        "Acrescente 10% de folga nos três casos (isto é, você deve adicionar 10% sobre o total de litros de tinta necessário) e sempre arredonde os valores para cima, isto é, considere latas cheias. \n",
        "\n"
      ]
    },
    {
      "cell_type": "code",
      "execution_count": 11,
      "id": "54c1e741",
      "metadata": {
        "deletable": false,
        "nbgrader": {
          "cell_type": "code",
          "checksum": "8f12ca6f898fe140e2eb04c84fc6c8f3",
          "grade": true,
          "grade_id": "Exercicio8",
          "locked": false,
          "points": 2,
          "schema_version": 3,
          "solution": true,
          "task": false
        },
        "id": "54c1e741",
        "colab": {
          "base_uri": "https://localhost:8080/"
        },
        "outputId": "3e8ed094-5aaf-4e4d-a680-418185683d59"
      },
      "outputs": [
        {
          "output_type": "stream",
          "name": "stdout",
          "text": [
            "Informe o tamanho em metros quadrados (m²) a ser pintado: 50\n",
            "O consumo de tinta é de  8.333333333333334\n",
            "A quantidade de latas de 18l a ser usado é:  0.462962962962963\n",
            "A quantidade de latas de 3,6 a ser usado é:  2.314814814814815\n",
            "O valor total em latas de 18l é: R$  37.03703703703704\n",
            "O valor total em latas de 3,6l é: R$  57.870370370370374\n",
            "Considerando o menor desperdíciode de tinta, temos: \n",
            "Quantidade de latas de 18l:  0.5092592592592593\n",
            "Quantidade latas de 3,6l:  0.0\n",
            "Quantidade latas mistas:  0.5092592592592593\n",
            "\n",
            "o valor total considerando as duas latas é (acresentando 10% de quebra): R$  40.74074074074075\n"
          ]
        }
      ],
      "source": [
        "# Resposta:\n",
        "m = float(input(\"Informe o tamanho em metros quadrados (m²) a ser pintado: \"))\n",
        "l = m/6\n",
        "print(\"O consumo de tinta é de \", l)\n",
        "q18 = l/18\n",
        "q36 = l/3.6\n",
        "print(\"A quantidade de latas de 18l a ser usado é: \", q18)\n",
        "print(\"A quantidade de latas de 3,6 a ser usado é: \", q36)\n",
        "t18 = q18 * 80\n",
        "t36 = q36 * 25\n",
        "print(\"O valor total em latas de 18l é: R$ \", t18)\n",
        "print(\"O valor total em latas de 3,6l é: R$ \", t36)\n",
        "print(\"Considerando o menor desperdíciode de tinta, temos: \")\n",
        "\n",
        "qtd_latas_mistas18 = ((l * 0.10) + l) / 18\n",
        "q18 = qtd_latas_mistas18 * 18\n",
        "resto18 = ((l * 0.10) + l) - q18\n",
        "qtd_latas_mistas36 = resto18 / 3.6\n",
        "qtd_latas_mistas_total = qtd_latas_mistas18 + qtd_latas_mistas36\n",
        "valor_misto18 = qtd_latas_mistas18 * 80\n",
        "valor_misto36 = qtd_latas_mistas36 * 25\n",
        "total_misto = valor_misto18 + valor_misto36\n",
        "\n",
        "print(\"Quantidade de latas de 18l: \", qtd_latas_mistas18)\n",
        "print(\"Quantidade latas de 3,6l: \", qtd_latas_mistas36)\n",
        "print(\"Quantidade latas mistas: \", qtd_latas_mistas_total)\n",
        "print(\"\\no valor total considerando as duas latas é (acresentando 10% de quebra): R$ \", total_misto)"
      ]
    }
  ],
  "metadata": {
    "kernelspec": {
      "display_name": "Python 3 (ipykernel)",
      "language": "python",
      "name": "python3"
    },
    "language_info": {
      "codemirror_mode": {
        "name": "ipython",
        "version": 3
      },
      "file_extension": ".py",
      "mimetype": "text/x-python",
      "name": "python",
      "nbconvert_exporter": "python",
      "pygments_lexer": "ipython3",
      "version": "3.9.7"
    },
    "colab": {
      "name": "Semana1.ipynb",
      "provenance": []
    }
  },
  "nbformat": 4,
  "nbformat_minor": 5
}