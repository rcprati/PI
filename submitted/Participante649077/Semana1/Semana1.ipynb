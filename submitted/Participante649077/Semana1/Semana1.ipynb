{
  "cells": [
    {
      "cell_type": "markdown",
      "id": "d4a1d469",
      "metadata": {
        "id": "d4a1d469"
      },
      "source": [
        "# Instruções\n",
        "\n",
        "- Antes de resolver esses exercícios, certifique-se que a configuração está correta (Python 3).\n",
        "\n",
        "- Se estiver usando o Colab, faça uma cópia deste notebook antes de começar a repondê-lo.\n",
        "\n",
        "![](http://professor.ufabc.edu.br/~ronaldo.prati/colab.png)\n",
        "\n",
        "- Lembre-se de manter o nome do caderno com o mesmo nome original.\n",
        "\n",
        "- Não apague nem introduza novas células neste notebook.\n",
        "\n",
        "- Certifique-se que você preencheu todos os lugares que dizem \\\"YOUR CODE HERE\\\" ou \\\"YOUR ANSWER HERE\\\". Substitutua essa linha e também a linha `raise NotImplementedError()` pelo seu código.\n",
        "\n",
        "- Depois de resolver os exercícios, para enviar a atividade, salve o notebook e o envie pelo moodle da disciplina. No colab, para exportar o notebook localmente, acesse `File->Download->Download .ipynb` ou `Arquivo->Baixar->Baixar .ipynb`\n",
        "\n",
        "![](http://professor.ufabc.edu.br/~ronaldo.prati/submit.png)"
      ]
    },
    {
      "cell_type": "markdown",
      "id": "5f82cbf3",
      "metadata": {
        "deletable": false,
        "editable": false,
        "nbgrader": {
          "cell_type": "markdown",
          "checksum": "f1f911b3ba8050e102209c62c8db3f57",
          "grade": false,
          "grade_id": "Exercicio1-descricao",
          "locked": true,
          "schema_version": 3,
          "solution": false,
          "task": false
        },
        "id": "5f82cbf3"
      },
      "source": [
        "# Exercício 1\n",
        "\n",
        "Faça um programa que peça um número e armazene-o em uma variável. A seguir, mostre a mensagem \"O número informado foi [número]\""
      ]
    },
    {
      "cell_type": "code",
      "execution_count": null,
      "id": "98f0fd7a",
      "metadata": {
        "deletable": false,
        "nbgrader": {
          "cell_type": "code",
          "checksum": "74fb8b9b0c1978c0db15aa13a5696150",
          "grade": true,
          "grade_id": "Exercicio1",
          "locked": false,
          "points": 1,
          "schema_version": 3,
          "solution": true,
          "task": false
        },
        "id": "98f0fd7a",
        "colab": {
          "base_uri": "https://localhost:8080/"
        },
        "outputId": "9a95e0b9-4ff7-44f0-bf0f-177daf94ba09"
      },
      "outputs": [
        {
          "output_type": "stream",
          "name": "stdout",
          "text": [
            "Digite um número 6988\n",
            "O número informado foi 6988\n"
          ]
        }
      ],
      "source": [
        "num = input(\"Digite um número \")\n",
        "print(\"O número informado foi\" , num)\n"
      ]
    },
    {
      "cell_type": "markdown",
      "id": "dd8c0af2",
      "metadata": {
        "deletable": false,
        "editable": false,
        "nbgrader": {
          "cell_type": "markdown",
          "checksum": "e1645b130e5fd8363c5a31803d8a6730",
          "grade": false,
          "grade_id": "Exercicio2-descricao",
          "locked": true,
          "schema_version": 3,
          "solution": false,
          "task": false
        },
        "id": "dd8c0af2"
      },
      "source": [
        "# Exercício 2\n",
        "\n",
        "Faça um Programa que peça o raio de um círculo, calcule e mostre sua área.\n",
        "Dica: para usar o valor de $\\pi$, pesquise por `math.pi`."
      ]
    },
    {
      "cell_type": "code",
      "execution_count": 13,
      "id": "407e7f33",
      "metadata": {
        "deletable": false,
        "nbgrader": {
          "cell_type": "code",
          "checksum": "41ef7b01abeaa8d74e2893a5054fb644",
          "grade": true,
          "grade_id": "Exercicio2",
          "locked": false,
          "points": 1,
          "schema_version": 3,
          "solution": true,
          "task": false
        },
        "id": "407e7f33",
        "colab": {
          "base_uri": "https://localhost:8080/"
        },
        "outputId": "5df32040-6e6d-481d-b23c-d4a0fd1b2da4"
      },
      "outputs": [
        {
          "output_type": "stream",
          "name": "stdout",
          "text": [
            "Digite o raio do círculo: 3\n",
            "A área do círculo é 28.27\n"
          ]
        }
      ],
      "source": [
        "import math\n",
        "raio = float(input(\"Digite o raio do círculo: \"))\n",
        "area = float(math.pi * raio**2)\n",
        "print(\"A área do círculo é {:.2f}\".format(area)) "
      ]
    },
    {
      "cell_type": "markdown",
      "id": "868cfe1c",
      "metadata": {
        "deletable": false,
        "editable": false,
        "nbgrader": {
          "cell_type": "markdown",
          "checksum": "83a396c8ae7ca1696f25c00d928c9d55",
          "grade": false,
          "grade_id": "Exercicio3-descricao",
          "locked": true,
          "schema_version": 3,
          "solution": false,
          "task": false
        },
        "id": "868cfe1c"
      },
      "source": [
        "# Exercício 3\n",
        "\n",
        "Faça um Programa que peça 2 números inteiros e um número real. Calcule e mostre:\n",
        "\n",
        "   - o produto do dobro do primeiro com metade do segundo .\n",
        "   - a soma do triplo do primeiro com o terceiro.\n",
        "   - o terceiro elevado ao cubo. "
      ]
    },
    {
      "cell_type": "code",
      "execution_count": 15,
      "id": "0f2c4944",
      "metadata": {
        "deletable": false,
        "nbgrader": {
          "cell_type": "code",
          "checksum": "01db6a60d8afd153075785a9f8e10ea5",
          "grade": true,
          "grade_id": "Exercicio3",
          "locked": false,
          "points": 1,
          "schema_version": 3,
          "solution": true,
          "task": false
        },
        "id": "0f2c4944",
        "colab": {
          "base_uri": "https://localhost:8080/"
        },
        "outputId": "dd1720e1-5cc8-465b-b26f-728f6568934f"
      },
      "outputs": [
        {
          "output_type": "stream",
          "name": "stdout",
          "text": [
            "Digite um número inteiro 60\n",
            "Digite outro número inteiro 14\n",
            "Digite um número real 0.874\n",
            "840.0 \n",
            " 180.874 \n",
            " 0.67\n"
          ]
        }
      ],
      "source": [
        "n1 = int(input(\"Digite um número inteiro \"))\n",
        "n2 = int(input(\"Digite outro número inteiro \"))\n",
        "n3 = float(input(\"Digite um número real \"))\n",
        "produto = (2*n1) * (n2/2)\n",
        "soma = (3*n1) + n3\n",
        "cubo = n3**3\n",
        "print (produto,'\\n',soma,'\\n',\"%.2f\" % cubo)"
      ]
    },
    {
      "cell_type": "markdown",
      "id": "d3996f2c",
      "metadata": {
        "deletable": false,
        "editable": false,
        "nbgrader": {
          "cell_type": "markdown",
          "checksum": "dbee5e0c5c9a02ca7b0fbcbf0c5018fd",
          "grade": false,
          "grade_id": "Exercicio4-descricao",
          "locked": true,
          "schema_version": 3,
          "solution": false,
          "task": false
        },
        "id": "d3996f2c"
      },
      "source": [
        "# Exercício 4\n",
        "\n",
        "Faça um programa que pergunte quanto você ganha por hora e o número de horas trabalhadas na semana. Calcule e mostre o total do seu salário ao final de 4 semanas. "
      ]
    },
    {
      "cell_type": "code",
      "execution_count": 10,
      "id": "5a307587",
      "metadata": {
        "deletable": false,
        "nbgrader": {
          "cell_type": "code",
          "checksum": "e511551fc875680ccd9679f9b2c21414",
          "grade": true,
          "grade_id": "Exercicio4",
          "locked": false,
          "points": 1,
          "schema_version": 3,
          "solution": true,
          "task": false
        },
        "id": "5a307587",
        "colab": {
          "base_uri": "https://localhost:8080/"
        },
        "outputId": "d4a94b1b-996c-4b54-8aab-7a9ec12d9d24"
      },
      "outputs": [
        {
          "output_type": "stream",
          "name": "stdout",
          "text": [
            "Quanto você recebe por hora trabalhada? 20\n",
            " E quantas horas você trabalha na semana? 44\n",
            "O seu salário de 4 semanas é de 3520.0\n"
          ]
        }
      ],
      "source": [
        "Sal_Hora = float(input(\"Quanto você recebe por hora trabalhada? \"))\n",
        "Horas = float(input(\" E quantas horas você trabalha na semana? \"))\n",
        "Sal_4_S = float((Sal_Hora * Horas)*4)\n",
        "print(\"O seu salário de 4 semanas é de {}\".format(Sal_4_S))\n"
      ]
    },
    {
      "cell_type": "markdown",
      "id": "d5088446",
      "metadata": {
        "deletable": false,
        "editable": false,
        "nbgrader": {
          "cell_type": "markdown",
          "checksum": "c82b175f45419cc78a6f0efc08f9ab15",
          "grade": false,
          "grade_id": "Exercicio5-descricao",
          "locked": true,
          "schema_version": 3,
          "solution": false,
          "task": false
        },
        "id": "d5088446"
      },
      "source": [
        "# Exercício 5\n",
        "\n",
        "Faça um programa que leia um número inteiro qualquer e que apresete, além do número informado, o seu antecessor e do seu sucessor."
      ]
    },
    {
      "cell_type": "code",
      "execution_count": null,
      "id": "a09fcc89",
      "metadata": {
        "deletable": false,
        "nbgrader": {
          "cell_type": "code",
          "checksum": "9f693e117e3e2158f95ee76dc96292a0",
          "grade": true,
          "grade_id": "Exercicio5",
          "locked": false,
          "points": 1,
          "schema_version": 3,
          "solution": true,
          "task": false
        },
        "id": "a09fcc89",
        "colab": {
          "base_uri": "https://localhost:8080/"
        },
        "outputId": "fd4db4c8-b865-4267-f72b-6785aa949647"
      },
      "outputs": [
        {
          "output_type": "stream",
          "name": "stdout",
          "text": [
            "Digite um número inteiro 99\n",
            "98 99 100\n"
          ]
        }
      ],
      "source": [
        "num = int(input(\"Digite um número inteiro \"))\n",
        "print( num - 1, num , num + 1)"
      ]
    },
    {
      "cell_type": "markdown",
      "id": "57a3fb31",
      "metadata": {
        "deletable": false,
        "editable": false,
        "nbgrader": {
          "cell_type": "markdown",
          "checksum": "537bdb2e45ec13ee95cea397e02744f2",
          "grade": false,
          "grade_id": "Exercicio6-descricao",
          "locked": true,
          "schema_version": 3,
          "solution": false,
          "task": false
        },
        "id": "57a3fb31"
      },
      "source": [
        "# Exercício 6\n",
        "\n",
        "Faça um programa que leia quatro notas, e seus respectivos pesos, e que apresente a média final simples e a média final ponderada."
      ]
    },
    {
      "cell_type": "code",
      "execution_count": 5,
      "id": "10e12fd4",
      "metadata": {
        "deletable": false,
        "nbgrader": {
          "cell_type": "code",
          "checksum": "ff1bbd3e5c18dc73d5e0328c41d74739",
          "grade": true,
          "grade_id": "Exercicio6",
          "locked": false,
          "points": 1,
          "schema_version": 3,
          "solution": true,
          "task": false
        },
        "id": "10e12fd4",
        "colab": {
          "base_uri": "https://localhost:8080/"
        },
        "outputId": "f9ffcb5e-a66d-442b-b024-fc8a0bcd5c3c"
      },
      "outputs": [
        {
          "output_type": "stream",
          "name": "stdout",
          "text": [
            "digite a primeira nota 6\n",
            "digite o peso da primeira nota 1\n",
            "digite a segunda nota 7\n",
            "digite o peso segunda nota 2\n",
            "digite a terceira nota 8\n",
            "digite o peso da terceira nota 3\n",
            "digite a quarta nota 9\n",
            "digite o peso a quarta nota 4\n",
            "A média final simples é: 7.50\n",
            "A média final ponderada é:8.00\n"
          ]
        }
      ],
      "source": [
        "nota1 = float(input(\"digite a primeira nota \"))\n",
        "peso1 = float(input(\"digite o peso da primeira nota \"))\n",
        "\n",
        "nota2 = float(input(\"digite a segunda nota \"))\n",
        "peso2 = float(input(\"digite o peso segunda nota \"))\n",
        "\n",
        "nota3 = float(input(\"digite a terceira nota \"))\n",
        "peso3 = float(input(\"digite o peso da terceira nota \"))\n",
        "\n",
        "nota4 = float(input(\"digite a quarta nota \"))\n",
        "peso4 = float(input(\"digite o peso a quarta nota \"))\n",
        "\n",
        "pesos = peso1 + peso2 + peso3 + peso4\n",
        "media = (nota1 + nota2 + nota3 + nota4)/4\n",
        "mediaP = (((nota1*peso1) + (nota2*peso2) + (nota3*peso3) + (nota4*peso4))/pesos)\n",
        "\n",
        "print(\"A média final simples é: {:.2f}\".format(media))\n",
        "print(\"A média final ponderada é:{:.2f}\".format(mediaP))"
      ]
    },
    {
      "cell_type": "markdown",
      "id": "da81404d",
      "metadata": {
        "deletable": false,
        "editable": false,
        "nbgrader": {
          "cell_type": "markdown",
          "checksum": "6f91f7198e36290a15c6547e839a5885",
          "grade": false,
          "grade_id": "Exercicio7-descricao",
          "locked": true,
          "schema_version": 3,
          "solution": false,
          "task": false
        },
        "id": "da81404d"
      },
      "source": [
        "# Exercício 7\n",
        "\n",
        "Faça um programa para uma loja de tintas. O programa deverá pedir o tamanho em metros quadrados da área a ser pintada. Considere que a cobertura da tinta é de 1 litro para cada 12 metros quadrados e que a tinta é vendida em latas de 18 litros, que custam R$ 80,00. Informe ao usuário a quantidades de latas de tinta a serem compradas e o preço total. "
      ]
    },
    {
      "cell_type": "code",
      "execution_count": 2,
      "id": "2a1f6a9c",
      "metadata": {
        "deletable": false,
        "nbgrader": {
          "cell_type": "code",
          "checksum": "0b356a405bcdf2f889a9a95d9a196d61",
          "grade": true,
          "grade_id": "Exercicio7",
          "locked": false,
          "points": 2,
          "schema_version": 3,
          "solution": true,
          "task": false
        },
        "id": "2a1f6a9c",
        "colab": {
          "base_uri": "https://localhost:8080/"
        },
        "outputId": "f8bf583d-43f6-4464-b30d-2d015aad0780"
      },
      "outputs": [
        {
          "output_type": "stream",
          "name": "stdout",
          "text": [
            "Digite o tamanho da área a ser pintada em metros quadrados 622\n",
            "Você deve comprar 2 latas de tinta e o valor será de: R$ 160.00\n"
          ]
        }
      ],
      "source": [
        "tam = int(input(\"informe a quantidade de METRO QUADRADO (m²) a ser pintado:\"))\n",
        "\n",
        "litros = int(tam/12)\n",
        "latas = int(litros/18)\n",
        "preço = int(latas*80)\n",
        "\n",
        "if latas >1:\n",
        "  print(\"Você deve comprar\", latas, \"latas de tinta e o valor será de: R$ {:.2f}\".format(preço))\n",
        "  \n",
        "else:\n",
        "    print(\"Você deve comprar 1 lata de tinta e o valor será de: R$ 80.00\")"
      ]
    },
    {
      "cell_type": "markdown",
      "id": "79eca3d1",
      "metadata": {
        "deletable": false,
        "editable": false,
        "nbgrader": {
          "cell_type": "markdown",
          "checksum": "e44b2f3971c79d43c75c12bce821c4d9",
          "grade": false,
          "grade_id": "Exercicio8-descricao",
          "locked": true,
          "schema_version": 3,
          "solution": false,
          "task": false
        },
        "id": "79eca3d1"
      },
      "source": [
        "# Exercício 8\n",
        "\n",
        "Faça um Programa para uma loja de tintas. O programa deverá pedir o tamanho em metros quadrados da área a ser pintada. Considere que a cobertura da tinta é de 1 litro para cada 12 metros quadrados e que a tinta é vendida em latas de 18 litros, que custam R$ 80,00 ou em galões de 3,6 litros, que custam R$ 25,00.\n",
        "\n",
        "Informe ao usuário as quantidades de tinta a serem compradas e os respectivos preços em 3 situações:\n",
        "\n",
        "    - comprar apenas latas de 18 litros;\n",
        "    - comprar apenas galões de 3,6 litros;\n",
        "    - misturar latas e galões, de forma que o desperdício de tinta seja menor. \n",
        "    \n",
        "Acrescente 10% de folga nos três casos (isto é, você deve adicionar 10% sobre o total de litros de tinta necessário) e sempre arredonde os valores para cima, isto é, considere latas cheias. \n",
        "\n"
      ]
    },
    {
      "cell_type": "code",
      "execution_count": 19,
      "id": "54c1e741",
      "metadata": {
        "deletable": false,
        "nbgrader": {
          "cell_type": "code",
          "checksum": "8f12ca6f898fe140e2eb04c84fc6c8f3",
          "grade": true,
          "grade_id": "Exercicio8",
          "locked": false,
          "points": 2,
          "schema_version": 3,
          "solution": true,
          "task": false
        },
        "id": "54c1e741",
        "colab": {
          "base_uri": "https://localhost:8080/"
        },
        "outputId": "e2cb1556-3134-4487-e101-1bf9afde0728"
      },
      "outputs": [
        {
          "output_type": "stream",
          "name": "stdout",
          "text": [
            "informe a quantidade de METRO QUADRADO (m²) a ser pintado: 6500\n",
            "\n",
            "o consumo de tinta com 10% de folga é: 1083.33 LITROS\n",
            "\n",
            "a quantidade de GALOES de 18 LITROS a ser usado é: 67\n",
            "a quantidade de LATAS de 3,6 LITROS a ser usado é: 332\n",
            "\n",
            "o valor total em GALOES de 18 LITROS é: R$5360\n",
            "o valor total em LATAS de 3,6 LITROS é: R$ 8300\n",
            "\n",
            "considerando o menor desperdíciode tinta, temos: \n",
            "\n",
            "quantidade de latas de 18 litros: 66\n",
            "qtd latas de 3,6: 2\n",
            "qtd latas mistas: 68\n",
            "\n",
            " o valor total considerando GALOES e LATAS é (acresentando 10% de folga): R$ 5330\n"
          ]
        }
      ],
      "source": [
        "import math\n",
        "\n",
        "m2 = float(input('informe a quantidade de METRO QUADRADO (m²) a ser pintado: '))\n",
        "consumo_litro = m2 / 6\n",
        "print('\\no consumo de tinta com 10% de folga é: {:.2f} LITROS\\n'.format(consumo_litro))\n",
        "qtd_latas18 = consumo_litro * 1.1 / 18\n",
        "qtd_latas36 = consumo_litro * 1.1 / 3.6\n",
        "print('a quantidade de GALOES de 18 LITROS a ser usado é: {}'.format(math.ceil(qtd_latas18)))\n",
        "print('a quantidade de LATAS de 3,6 LITROS a ser usado é: {}\\n'.format(math.ceil(qtd_latas36)))\n",
        "valor_total18 = math.ceil(qtd_latas18) * 80\n",
        "valor_total36 = math.ceil(qtd_latas36) * 25\n",
        "print('o valor total em GALOES de 18 LITROS é: R${}'.format(valor_total18))\n",
        "print('o valor total em LATAS de 3,6 LITROS é: R$ {}\\n'.format(valor_total36))\n",
        "print('considerando o menor desperdíciode tinta, temos: \\n')\n",
        "\n",
        "qtd_latas_mistas18 = (1.1 * consumo_litro) / 18\n",
        "qtd_litros18 = math.trunc(qtd_latas_mistas18) * 18\n",
        "resto18 = (1.1 * consumo_litro) - qtd_litros18\n",
        "qtd_latas_mistas36 = resto18 / 3.6\n",
        "qtd_latas_mistas_total = math.trunc(qtd_latas_mistas18) + math.ceil(qtd_latas_mistas36)\n",
        "valor_misto18 = math.trunc(qtd_latas_mistas18) * 80\n",
        "valor_misto36 = math.ceil(qtd_latas_mistas36) * 25\n",
        "total_misto = valor_misto18 + valor_misto36\n",
        "\n",
        "print('quantidade de latas de 18 litros: {}'.format(math.trunc(qtd_latas_mistas18)))\n",
        "print('qtd latas de 3,6: {}'.format(math.ceil(qtd_latas_mistas36)))\n",
        "print('qtd latas mistas: {}'.format(qtd_latas_mistas_total))\n",
        "print('\\n o valor total considerando GALOES e LATAS é (acresentando 10% de folga): R$ {}'.format(total_misto))"
      ]
    }
  ],
  "metadata": {
    "kernelspec": {
      "display_name": "Python 3 (ipykernel)",
      "language": "python",
      "name": "python3"
    },
    "language_info": {
      "codemirror_mode": {
        "name": "ipython",
        "version": 3
      },
      "file_extension": ".py",
      "mimetype": "text/x-python",
      "name": "python",
      "nbconvert_exporter": "python",
      "pygments_lexer": "ipython3",
      "version": "3.9.7"
    },
    "colab": {
      "name": "Semana1.ipynb",
      "provenance": [],
      "collapsed_sections": []
    }
  },
  "nbformat": 4,
  "nbformat_minor": 5
}