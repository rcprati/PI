{
  "cells": [
    {
      "cell_type": "markdown",
      "id": "d4a1d469",
      "metadata": {
        "id": "d4a1d469"
      },
      "source": [
        "# Instruções\n",
        "\n",
        "- Antes de resolver esses exercícios, certifique-se que a configuração está correta (Python 3).\n",
        "\n",
        "- Se estiver usando o Colab, faça uma cópia deste notebook antes de começar a repondê-lo.\n",
        "\n",
        "![](http://professor.ufabc.edu.br/~ronaldo.prati/colab.png)\n",
        "\n",
        "- Lembre-se de manter o nome do caderno com o mesmo nome original.\n",
        "\n",
        "- Não apague nem introduza novas células neste notebook.\n",
        "\n",
        "- Certifique-se que você preencheu todos os lugares que dizem \\\"YOUR CODE HERE\\\" ou \\\"YOUR ANSWER HERE\\\". Substitutua essa linha e também a linha `raise NotImplementedError()` pelo seu código.\n",
        "\n",
        "- Depois de resolver os exercícios, para enviar a atividade, salve o notebook e o envie pelo moodle da disciplina. No colab, para exportar o notebook localmente, acesse `File->Download->Download .ipynb` ou `Arquivo->Baixar->Baixar .ipynb`\n",
        "\n",
        "![](http://professor.ufabc.edu.br/~ronaldo.prati/submit.png)"
      ]
    },
    {
      "cell_type": "markdown",
      "id": "5f82cbf3",
      "metadata": {
        "deletable": false,
        "editable": false,
        "nbgrader": {
          "cell_type": "markdown",
          "checksum": "f1f911b3ba8050e102209c62c8db3f57",
          "grade": false,
          "grade_id": "Exercicio1-descricao",
          "locked": true,
          "schema_version": 3,
          "solution": false,
          "task": false
        },
        "id": "5f82cbf3"
      },
      "source": [
        "# Exercício 1\n",
        "\n",
        "Faça um programa que peça um número e armazene-o em uma variável. A seguir, mostre a mensagem \"O número informado foi [número]\""
      ]
    },
    {
      "cell_type": "code",
      "execution_count": null,
      "id": "98f0fd7a",
      "metadata": {
        "deletable": false,
        "nbgrader": {
          "cell_type": "code",
          "checksum": "74fb8b9b0c1978c0db15aa13a5696150",
          "grade": true,
          "grade_id": "Exercicio1",
          "locked": false,
          "points": 1,
          "schema_version": 3,
          "solution": true,
          "task": false
        },
        "id": "98f0fd7a",
        "colab": {
          "base_uri": "https://localhost:8080/"
        },
        "outputId": "23556f48-34e8-4765-d970-85027a522ec4"
      },
      "outputs": [
        {
          "output_type": "stream",
          "name": "stdout",
          "text": [
            "Digite um numero:23.45\n",
            "O numero informado foi 23.45\n"
          ]
        }
      ],
      "source": [
        "a = float(input(\"Digite um numero:\"))\n",
        "\n",
        "print(\"O numero informado foi\", a)\n"
      ]
    },
    {
      "cell_type": "markdown",
      "id": "dd8c0af2",
      "metadata": {
        "deletable": false,
        "editable": false,
        "nbgrader": {
          "cell_type": "markdown",
          "checksum": "e1645b130e5fd8363c5a31803d8a6730",
          "grade": false,
          "grade_id": "Exercicio2-descricao",
          "locked": true,
          "schema_version": 3,
          "solution": false,
          "task": false
        },
        "id": "dd8c0af2"
      },
      "source": [
        "# Exercício 2\n",
        "\n",
        "Faça um Programa que peça o raio de um círculo, calcule e mostre sua área.\n",
        "Dica: para usar o valor de $\\pi$, pesquise por `math.pi`."
      ]
    },
    {
      "cell_type": "code",
      "execution_count": null,
      "id": "407e7f33",
      "metadata": {
        "deletable": false,
        "nbgrader": {
          "cell_type": "code",
          "checksum": "41ef7b01abeaa8d74e2893a5054fb644",
          "grade": true,
          "grade_id": "Exercicio2",
          "locked": false,
          "points": 1,
          "schema_version": 3,
          "solution": true,
          "task": false
        },
        "id": "407e7f33",
        "colab": {
          "base_uri": "https://localhost:8080/"
        },
        "outputId": "26fb666b-b28c-4d18-f261-34ca233d4550"
      },
      "outputs": [
        {
          "output_type": "stream",
          "name": "stdout",
          "text": [
            "Valor do raio:2\n",
            "A area do circulo é:  12.566370614359172\n"
          ]
        }
      ],
      "source": [
        "import math\n",
        "\n",
        "r = float(input(\"Valor do raio:\"))\n",
        "\n",
        "area = math.pi * r * r\n",
        "\n",
        "print(\"A area do circulo é: \", area)\n"
      ]
    },
    {
      "cell_type": "markdown",
      "id": "868cfe1c",
      "metadata": {
        "deletable": false,
        "editable": false,
        "nbgrader": {
          "cell_type": "markdown",
          "checksum": "83a396c8ae7ca1696f25c00d928c9d55",
          "grade": false,
          "grade_id": "Exercicio3-descricao",
          "locked": true,
          "schema_version": 3,
          "solution": false,
          "task": false
        },
        "id": "868cfe1c"
      },
      "source": [
        "# Exercício 3\n",
        "\n",
        "Faça um Programa que peça 2 números inteiros e um número real. Calcule e mostre:\n",
        "\n",
        "   - o produto do dobro do primeiro com metade do segundo .\n",
        "   - a soma do triplo do primeiro com o terceiro.\n",
        "   - o terceiro elevado ao cubo. "
      ]
    },
    {
      "cell_type": "code",
      "execution_count": null,
      "id": "0f2c4944",
      "metadata": {
        "deletable": false,
        "nbgrader": {
          "cell_type": "code",
          "checksum": "01db6a60d8afd153075785a9f8e10ea5",
          "grade": true,
          "grade_id": "Exercicio3",
          "locked": false,
          "points": 1,
          "schema_version": 3,
          "solution": true,
          "task": false
        },
        "id": "0f2c4944",
        "colab": {
          "base_uri": "https://localhost:8080/"
        },
        "outputId": "025855df-ff81-40f2-e4c3-76ea6d339cdf"
      },
      "outputs": [
        {
          "output_type": "stream",
          "name": "stdout",
          "text": [
            "Digigite um número inteiro 2\n",
            "Digigite outro número inteiro 3\n",
            "Digite um número real 1.5\n",
            "o produto do dobro do primeiro com metade do segundo: 6.0\n",
            "a soma do triplo do primeiro com o terceiro: 7.5\n",
            "o terceiro elevado ao cubo: 3.375\n"
          ]
        }
      ],
      "source": [
        "a = int(input(\"Digigite um número inteiro \"))\n",
        "b = int(input(\"Digigite outro número inteiro \"))\n",
        "c = float(input(\"Digite um número real \"))\n",
        "\n",
        "x = (a * 2) * (b * 0.5)\n",
        "y = (a * 3) + c \n",
        "z = c * c * c\n",
        "\n",
        "print()\n",
        "print(\"o produto do dobro do primeiro com metade do segundo:\", x)\n",
        "print()\n",
        "print(\"a soma do triplo do primeiro com o terceiro:\", y)\n",
        "print()\n",
        "print(\"o terceiro elevado ao cubo:\", z)"
      ]
    },
    {
      "cell_type": "markdown",
      "id": "d3996f2c",
      "metadata": {
        "deletable": false,
        "editable": false,
        "nbgrader": {
          "cell_type": "markdown",
          "checksum": "dbee5e0c5c9a02ca7b0fbcbf0c5018fd",
          "grade": false,
          "grade_id": "Exercicio4-descricao",
          "locked": true,
          "schema_version": 3,
          "solution": false,
          "task": false
        },
        "id": "d3996f2c"
      },
      "source": [
        "# Exercício 4\n",
        "\n",
        "Faça um programa que pergunte quanto você ganha por hora e o número de horas trabalhadas na semana. Calcule e mostre o total do seu salário ao final de 4 semanas. "
      ]
    },
    {
      "cell_type": "code",
      "execution_count": null,
      "id": "5a307587",
      "metadata": {
        "deletable": false,
        "nbgrader": {
          "cell_type": "code",
          "checksum": "e511551fc875680ccd9679f9b2c21414",
          "grade": true,
          "grade_id": "Exercicio4",
          "locked": false,
          "points": 1,
          "schema_version": 3,
          "solution": true,
          "task": false
        },
        "id": "5a307587",
        "colab": {
          "base_uri": "https://localhost:8080/"
        },
        "outputId": "560bedea-05c8-4e9a-b300-8b89aafc2701"
      },
      "outputs": [
        {
          "output_type": "stream",
          "name": "stdout",
          "text": [
            "Valor ganho por hora de trabalho R$ 15.50\n",
            "Horas trabalhadas na semana 40\n",
            "Seu sálario após 4 semanas é de R$ 2480.0\n"
          ]
        }
      ],
      "source": [
        "gh = float(input(\"Valor ganho por hora de trabalho R$ \"))\n",
        "\n",
        "h = int(input(\"Horas trabalhadas na semana \"))\n",
        "\n",
        "s = (gh * h) * 4\n",
        "\n",
        "print()\n",
        "print(\"Seu sálario após 4 semanas é de R$\", s)\n"
      ]
    },
    {
      "cell_type": "markdown",
      "id": "d5088446",
      "metadata": {
        "deletable": false,
        "editable": false,
        "nbgrader": {
          "cell_type": "markdown",
          "checksum": "c82b175f45419cc78a6f0efc08f9ab15",
          "grade": false,
          "grade_id": "Exercicio5-descricao",
          "locked": true,
          "schema_version": 3,
          "solution": false,
          "task": false
        },
        "id": "d5088446"
      },
      "source": [
        "# Exercício 5\n",
        "\n",
        "Faça um programa que leia um número inteiro qualquer e que apresete, além do número informado, o seu antecessor e do seu sucessor."
      ]
    },
    {
      "cell_type": "code",
      "execution_count": null,
      "id": "a09fcc89",
      "metadata": {
        "deletable": false,
        "nbgrader": {
          "cell_type": "code",
          "checksum": "9f693e117e3e2158f95ee76dc96292a0",
          "grade": true,
          "grade_id": "Exercicio5",
          "locked": false,
          "points": 1,
          "schema_version": 3,
          "solution": true,
          "task": false
        },
        "id": "a09fcc89",
        "colab": {
          "base_uri": "https://localhost:8080/"
        },
        "outputId": "54e0214b-d85c-46d8-e486-c1722b06a5d1"
      },
      "outputs": [
        {
          "output_type": "stream",
          "name": "stdout",
          "text": [
            "Digite um número inteiro qualque 3\n",
            "Seu número é 3\n",
            "o antecessor é 2\n",
            "e o sucessor é 4\n"
          ]
        }
      ],
      "source": [
        "a = int(input(\"Digite um número inteiro qualque \"))\n",
        "\n",
        "x = a - 1\n",
        "y = a + 1\n",
        "\n",
        "print()\n",
        "print(\"Seu número é\", a )\n",
        "print()\n",
        "print(\"o antecessor é\", x)\n",
        "print()\n",
        "print(\"e o sucessor é\", y)\n"
      ]
    },
    {
      "cell_type": "markdown",
      "id": "57a3fb31",
      "metadata": {
        "deletable": false,
        "editable": false,
        "nbgrader": {
          "cell_type": "markdown",
          "checksum": "537bdb2e45ec13ee95cea397e02744f2",
          "grade": false,
          "grade_id": "Exercicio6-descricao",
          "locked": true,
          "schema_version": 3,
          "solution": false,
          "task": false
        },
        "id": "57a3fb31"
      },
      "source": [
        "# Exercício 6\n",
        "\n",
        "Faça um programa que leia quatro notas, e seus respectivos pesos, e que apresente a média final simples e a média final ponderada."
      ]
    },
    {
      "cell_type": "code",
      "execution_count": null,
      "id": "10e12fd4",
      "metadata": {
        "deletable": false,
        "nbgrader": {
          "cell_type": "code",
          "checksum": "ff1bbd3e5c18dc73d5e0328c41d74739",
          "grade": true,
          "grade_id": "Exercicio6",
          "locked": false,
          "points": 1,
          "schema_version": 3,
          "solution": true,
          "task": false
        },
        "id": "10e12fd4",
        "colab": {
          "base_uri": "https://localhost:8080/"
        },
        "outputId": "c2e1bd62-7b43-4a2e-e1f4-fe14d55ec9c1"
      },
      "outputs": [
        {
          "output_type": "stream",
          "name": "stdout",
          "text": [
            "Nota p1: 5\n",
            "Peso da p1: 1\n",
            "Nota p2: 6\n",
            "Peso da p2: 2\n",
            "Nota p3: 7\n",
            "Peso da p3: 3\n",
            "Nota p4: 8\n",
            "Peso da p4: 4\n",
            "Sua média final simples é 6.5 e a média final ponderada é 7.0\n"
          ]
        }
      ],
      "source": [
        "a = float(input(\"Nota p1: \"))\n",
        "x1 = int(input(\"Peso da p1: \"))\n",
        "print()\n",
        "b = float(input(\"Nota p2: \"))\n",
        "x2 = int(input(\"Peso da p2: \"))\n",
        "print()\n",
        "c = float(input(\"Nota p3: \"))\n",
        "x3 = int(input(\"Peso da p3: \"))\n",
        "print()\n",
        "d = float(input(\"Nota p4: \"))\n",
        "x4 = int(input(\"Peso da p4: \"))\n",
        "print()\n",
        "\n",
        "ms = (a+b+c+d)/4\n",
        "mp = (a*x1 + b*x2 + c*x3 + d*x4)/(x1 + x2 +x3 + x4)\n",
        "\n",
        "print()\n",
        "print(\"Sua média final simples é\", ms , \"e a média final ponderada é\", mp)\n"
      ]
    },
    {
      "cell_type": "code",
      "source": [
        ""
      ],
      "metadata": {
        "id": "5bwvCNSRWJox"
      },
      "id": "5bwvCNSRWJox",
      "execution_count": null,
      "outputs": []
    },
    {
      "cell_type": "markdown",
      "id": "da81404d",
      "metadata": {
        "deletable": false,
        "editable": false,
        "nbgrader": {
          "cell_type": "markdown",
          "checksum": "6f91f7198e36290a15c6547e839a5885",
          "grade": false,
          "grade_id": "Exercicio7-descricao",
          "locked": true,
          "schema_version": 3,
          "solution": false,
          "task": false
        },
        "id": "da81404d"
      },
      "source": [
        "# Exercício 7\n",
        "\n",
        "Faça um programa para uma loja de tintas. O programa deverá pedir o tamanho em metros quadrados da área a ser pintada. Considere que a cobertura da tinta é de 1 litro para cada 12 metros quadrados e que a tinta é vendida em latas de 18 litros, que custam R$ 80,00. Informe ao usuário a quantidades de latas de tinta a serem compradas e o preço total. "
      ]
    },
    {
      "cell_type": "code",
      "execution_count": null,
      "id": "2a1f6a9c",
      "metadata": {
        "deletable": false,
        "nbgrader": {
          "cell_type": "code",
          "checksum": "0b356a405bcdf2f889a9a95d9a196d61",
          "grade": true,
          "grade_id": "Exercicio7",
          "locked": false,
          "points": 2,
          "schema_version": 3,
          "solution": true,
          "task": false
        },
        "id": "2a1f6a9c",
        "colab": {
          "base_uri": "https://localhost:8080/"
        },
        "outputId": "683a935a-6335-4925-dddd-e878576d4cd2"
      },
      "outputs": [
        {
          "output_type": "stream",
          "name": "stdout",
          "text": [
            "Tamanho da área a ser pintada em m²: 240\n",
            "São necessárias 2 latas o total da compra será de R$ 160\n"
          ]
        }
      ],
      "source": [
        "import math\n",
        "\n",
        "a = float(input(\"Tamanho da área a ser pintada em m²: \"))\n",
        "\n",
        "litros_tinta = a/12\n",
        "n_latas = litros_tinta/18\n",
        "\n",
        "x = math.ceil(n_latas)\n",
        "custo = x * 80\n",
        "\n",
        "print()\n",
        "\n",
        "print(\"São necessárias\", x, \"latas\", \"o total da compra será de R$\",custo)\n",
        "\n",
        "\n"
      ]
    },
    {
      "cell_type": "markdown",
      "id": "79eca3d1",
      "metadata": {
        "deletable": false,
        "editable": false,
        "nbgrader": {
          "cell_type": "markdown",
          "checksum": "e44b2f3971c79d43c75c12bce821c4d9",
          "grade": false,
          "grade_id": "Exercicio8-descricao",
          "locked": true,
          "schema_version": 3,
          "solution": false,
          "task": false
        },
        "id": "79eca3d1"
      },
      "source": [
        "# Exercício 8\n",
        "\n",
        "Faça um Programa para uma loja de tintas. O programa deverá pedir o tamanho em metros quadrados da área a ser pintada. Considere que a cobertura da tinta é de 1 litro para cada 12 metros quadrados e que a tinta é vendida em latas de 18 litros, que custam R$ 80,00 ou em galões de 3,6 litros, que custam R$ 25,00.\n",
        "\n",
        "Informe ao usuário as quantidades de tinta a serem compradas e os respectivos preços em 3 situações:\n",
        "\n",
        "    - comprar apenas latas de 18 litros;\n",
        "    - comprar apenas galões de 3,6 litros;\n",
        "    - misturar latas e galões, de forma que o desperdício de tinta seja menor. \n",
        "    \n",
        "Acrescente 10% de folga nos três casos (isto é, você deve adicionar 10% sobre o total de litros de tinta necessário) e sempre arredonde os valores para cima, isto é, considere latas cheias. \n",
        "\n"
      ]
    },
    {
      "cell_type": "code",
      "execution_count": null,
      "id": "54c1e741",
      "metadata": {
        "deletable": false,
        "nbgrader": {
          "cell_type": "code",
          "checksum": "8f12ca6f898fe140e2eb04c84fc6c8f3",
          "grade": true,
          "grade_id": "Exercicio8",
          "locked": false,
          "points": 2,
          "schema_version": 3,
          "solution": true,
          "task": false
        },
        "id": "54c1e741",
        "colab": {
          "base_uri": "https://localhost:8080/"
        },
        "outputId": "6f78743f-b48d-4fa7-eb87-78cde98b211b"
      },
      "outputs": [
        {
          "output_type": "stream",
          "name": "stdout",
          "text": [
            "Tamanho da área a ser pintada em m²: 240\n",
            "\n",
            "A quantidade de latas a ser usada é de:  2\n",
            "O custo de utilizar apenas latas é de R$ 160\n",
            "\n",
            "A quantidade de galões a se usada é de:  6\n",
            "O valor de utlizar apenas galões é de R$ 150\n",
            "\n",
            "Utilizando galões e latas para minimizar a perda de tinta\n",
            "Quantidade de latas: 1.0\n",
            "Quantidade de galões: 1\n",
            "Valor total R$ 105.0\n"
          ]
        }
      ],
      "source": [
        "import math\n",
        "\n",
        "area = float(input(\"Tamanho da área a ser pintada em m²: \"))\n",
        "\n",
        "margem = 1.1\n",
        "\n",
        "litros_tinta = area/(12 * margem)\n",
        "\n",
        "n_latas = math.ceil(litros_tinta/18)\n",
        "custo_lata = n_latas * 80\n",
        "\n",
        "n_galoes = math.ceil(litros_tinta/3.6)\n",
        "custo_galao = n_galoes * 25\n",
        "\n",
        "n_lata_misto = litros_tinta // 18\n",
        "n_galao_misto = math.ceil((litros_tinta - n_lata_misto * 18) / 3.6)\n",
        "custo_lata_misto = n_lata_misto * 80\n",
        "custo_galao_misto = n_galao_misto * 25\n",
        "\n",
        "print()\n",
        "print(\"A quantidade de latas a ser usada é de: \", n_latas)\n",
        "print(\"O custo de utilizar apenas latas é de R$\", custo_lata)\n",
        "print()\n",
        "print(\"A quantidade de galões a se usada é de: \", n_galoes)\n",
        "print(\"O valor de utlizar apenas galões é de R$\", custo_galao)\n",
        "print()\n",
        "print(\"Utilizando galões e latas para minimizar a perda de tinta\")\n",
        "print(\"Quantidade de latas:\", n_lata_misto)\n",
        "print(\"Quantidade de galões:\", n_galao_misto)\n",
        "print(\"Valor total R$\", custo_galao_misto + custo_lata_misto)\n",
        "\n",
        "\n"
      ]
    }
  ],
  "metadata": {
    "kernelspec": {
      "display_name": "Python 3 (ipykernel)",
      "language": "python",
      "name": "python3"
    },
    "language_info": {
      "codemirror_mode": {
        "name": "ipython",
        "version": 3
      },
      "file_extension": ".py",
      "mimetype": "text/x-python",
      "name": "python",
      "nbconvert_exporter": "python",
      "pygments_lexer": "ipython3",
      "version": "3.9.7"
    },
    "colab": {
      "name": "Cópia de Semana1.ipynb",
      "provenance": [],
      "collapsed_sections": []
    }
  },
  "nbformat": 4,
  "nbformat_minor": 5
}