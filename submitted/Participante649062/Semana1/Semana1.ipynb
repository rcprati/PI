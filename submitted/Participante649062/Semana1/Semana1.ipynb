{
  "cells": [
    {
      "cell_type": "markdown",
      "id": "d4a1d469",
      "metadata": {
        "id": "d4a1d469"
      },
      "source": [
        "# Instruções\n",
        "\n",
        "- Antes de resolver esses exercícios, certifique-se que a configuração está correta (Python 3).\n",
        "\n",
        "- Se estiver usando o Colab, faça uma cópia deste notebook antes de começar a repondê-lo.\n",
        "\n",
        "![](http://professor.ufabc.edu.br/~ronaldo.prati/colab.png)\n",
        "\n",
        "- Lembre-se de manter o nome do caderno com o mesmo nome original.\n",
        "\n",
        "- Não apague nem introduza novas células neste notebook.\n",
        "\n",
        "- Certifique-se que você preencheu todos os lugares que dizem \\\"YOUR CODE HERE\\\" ou \\\"YOUR ANSWER HERE\\\". Substitutua essa linha e também a linha `raise NotImplementedError()` pelo seu código.\n",
        "\n",
        "- Depois de resolver os exercícios, para enviar a atividade, salve o notebook e o envie pelo moodle da disciplina. No colab, para exportar o notebook localmente, acesse `File->Download->Download .ipynb` ou `Arquivo->Baixar->Baixar .ipynb`\n",
        "\n",
        "![](http://professor.ufabc.edu.br/~ronaldo.prati/submit.png)"
      ]
    },
    {
      "cell_type": "markdown",
      "id": "5f82cbf3",
      "metadata": {
        "deletable": false,
        "editable": false,
        "nbgrader": {
          "cell_type": "markdown",
          "checksum": "f1f911b3ba8050e102209c62c8db3f57",
          "grade": false,
          "grade_id": "Exercicio1-descricao",
          "locked": true,
          "schema_version": 3,
          "solution": false,
          "task": false
        },
        "id": "5f82cbf3"
      },
      "source": [
        "# Exercício 1\n",
        "\n",
        "Faça um programa que peça um número e armazene-o em uma variável. A seguir, mostre a mensagem \"O número informado foi [número]\""
      ]
    },
    {
      "cell_type": "code",
      "execution_count": null,
      "id": "98f0fd7a",
      "metadata": {
        "deletable": false,
        "nbgrader": {
          "cell_type": "code",
          "checksum": "74fb8b9b0c1978c0db15aa13a5696150",
          "grade": true,
          "grade_id": "Exercicio1",
          "locked": false,
          "points": 1,
          "schema_version": 3,
          "solution": true,
          "task": false
        },
        "id": "98f0fd7a",
        "colab": {
          "base_uri": "https://localhost:8080/"
        },
        "outputId": "3dfb4073-30ad-4f3d-88f3-fec8254c4d48"
      },
      "outputs": [
        {
          "output_type": "stream",
          "name": "stdout",
          "text": [
            "Insira um número:6\n",
            "O número informado foi 6\n"
          ]
        }
      ],
      "source": [
        "numero = input(\"Insira um número:\")\n",
        "print(\"O número informado foi\", numero)"
      ]
    },
    {
      "cell_type": "markdown",
      "id": "dd8c0af2",
      "metadata": {
        "deletable": false,
        "editable": false,
        "nbgrader": {
          "cell_type": "markdown",
          "checksum": "e1645b130e5fd8363c5a31803d8a6730",
          "grade": false,
          "grade_id": "Exercicio2-descricao",
          "locked": true,
          "schema_version": 3,
          "solution": false,
          "task": false
        },
        "id": "dd8c0af2"
      },
      "source": [
        "# Exercício 2\n",
        "\n",
        "Faça um Programa que peça o raio de um círculo, calcule e mostre sua área.\n",
        "Dica: para usar o valor de $\\pi$, pesquise por `math.pi`."
      ]
    },
    {
      "cell_type": "code",
      "execution_count": null,
      "id": "407e7f33",
      "metadata": {
        "deletable": false,
        "nbgrader": {
          "cell_type": "code",
          "checksum": "41ef7b01abeaa8d74e2893a5054fb644",
          "grade": true,
          "grade_id": "Exercicio2",
          "locked": false,
          "points": 1,
          "schema_version": 3,
          "solution": true,
          "task": false
        },
        "id": "407e7f33",
        "colab": {
          "base_uri": "https://localhost:8080/"
        },
        "outputId": "fd1b50a1-8cc4-4527-daac-b5b19b6d1f27"
      },
      "outputs": [
        {
          "output_type": "stream",
          "name": "stdout",
          "text": [
            "O raio do círculo (cm) é:10\n",
            "A área do círculo é 314.1592653589793\n"
          ]
        }
      ],
      "source": [
        "import math\n",
        "\n",
        "raio = float(input(\"O raio do círculo (cm) é:\"))\n",
        "area = (math.pi)*((raio)**2)\n",
        "print(\"A área do círculo é\", area)"
      ]
    },
    {
      "cell_type": "markdown",
      "id": "868cfe1c",
      "metadata": {
        "deletable": false,
        "editable": false,
        "nbgrader": {
          "cell_type": "markdown",
          "checksum": "83a396c8ae7ca1696f25c00d928c9d55",
          "grade": false,
          "grade_id": "Exercicio3-descricao",
          "locked": true,
          "schema_version": 3,
          "solution": false,
          "task": false
        },
        "id": "868cfe1c"
      },
      "source": [
        "# Exercício 3\n",
        "\n",
        "Faça um Programa que peça 2 números inteiros e um número real. Calcule e mostre:\n",
        "\n",
        "   - o produto do dobro do primeiro com metade do segundo .\n",
        "   - a soma do triplo do primeiro com o terceiro.\n",
        "   - o terceiro elevado ao cubo. "
      ]
    },
    {
      "cell_type": "code",
      "execution_count": null,
      "id": "0f2c4944",
      "metadata": {
        "deletable": false,
        "nbgrader": {
          "cell_type": "code",
          "checksum": "01db6a60d8afd153075785a9f8e10ea5",
          "grade": true,
          "grade_id": "Exercicio3",
          "locked": false,
          "points": 1,
          "schema_version": 3,
          "solution": true,
          "task": false
        },
        "id": "0f2c4944",
        "colab": {
          "base_uri": "https://localhost:8080/"
        },
        "outputId": "c68d7c4f-223f-40f5-ed37-27f1a2b2e26d"
      },
      "outputs": [
        {
          "output_type": "stream",
          "name": "stdout",
          "text": [
            "Insira um número inteiro:40\n",
            "Insira um número inteiro:50\n",
            "Insira um número real:10.5\n",
            "O produto do dobro do primeiro número com metade do segundo é 2000.0\n",
            "A soma do triplo do primeiro núero com o terceiro é 130.5\n",
            "O terceiro número elevado ao cubo é 1157.625\n"
          ]
        }
      ],
      "source": [
        "int1 = int(input(\"Insira um número inteiro:\"))\n",
        "int2 = int(input(\"Insira um número inteiro:\"))\n",
        "float1 = float(input(\"Insira um número real:\"))\n",
        "\n",
        "conta1 = ((2*int1)*(int2/2))\n",
        "conta2 = ((3*int1)+(float1))\n",
        "conta3 = float1**3\n",
        "\n",
        "print(\"O produto do dobro do primeiro número com metade do segundo é\", conta1)\n",
        "print(\"A soma do triplo do primeiro núero com o terceiro é\", conta2)\n",
        "print(\"O terceiro número elevado ao cubo é\", conta3)"
      ]
    },
    {
      "cell_type": "markdown",
      "id": "d3996f2c",
      "metadata": {
        "deletable": false,
        "editable": false,
        "nbgrader": {
          "cell_type": "markdown",
          "checksum": "dbee5e0c5c9a02ca7b0fbcbf0c5018fd",
          "grade": false,
          "grade_id": "Exercicio4-descricao",
          "locked": true,
          "schema_version": 3,
          "solution": false,
          "task": false
        },
        "id": "d3996f2c"
      },
      "source": [
        "# Exercício 4\n",
        "\n",
        "Faça um programa que pergunte quanto você ganha por hora e o número de horas trabalhadas na semana. Calcule e mostre o total do seu salário ao final de 4 semanas. "
      ]
    },
    {
      "cell_type": "code",
      "execution_count": null,
      "id": "5a307587",
      "metadata": {
        "deletable": false,
        "nbgrader": {
          "cell_type": "code",
          "checksum": "e511551fc875680ccd9679f9b2c21414",
          "grade": true,
          "grade_id": "Exercicio4",
          "locked": false,
          "points": 1,
          "schema_version": 3,
          "solution": true,
          "task": false
        },
        "id": "5a307587",
        "colab": {
          "base_uri": "https://localhost:8080/"
        },
        "outputId": "a76ac927-d17e-486a-d51d-5bacd7394a91"
      },
      "outputs": [
        {
          "output_type": "stream",
          "name": "stdout",
          "text": [
            "Insira o quanto você ganha (R$) por hora:20\n",
            "Insira o número de horas trabalhadas na semana:40\n",
            "Seu salário ao final de 4 semanas é 3200.0\n"
          ]
        }
      ],
      "source": [
        "salario_hora = float(input(\"Insira o quanto você ganha (R$) por hora:\"))\n",
        "horas_trabalhadas = float(input(\"Insira o número de horas trabalhadas na semana:\"))\n",
        "\n",
        "salario_mes = 4*(salario_hora)*(horas_trabalhadas)\n",
        "\n",
        "print(\"Seu salário ao final de 4 semanas é\", salario_mes)"
      ]
    },
    {
      "cell_type": "markdown",
      "id": "d5088446",
      "metadata": {
        "deletable": false,
        "editable": false,
        "nbgrader": {
          "cell_type": "markdown",
          "checksum": "c82b175f45419cc78a6f0efc08f9ab15",
          "grade": false,
          "grade_id": "Exercicio5-descricao",
          "locked": true,
          "schema_version": 3,
          "solution": false,
          "task": false
        },
        "id": "d5088446"
      },
      "source": [
        "# Exercício 5\n",
        "\n",
        "Faça um programa que leia um número inteiro qualquer e que apresete, além do número informado, o seu antecessor e do seu sucessor."
      ]
    },
    {
      "cell_type": "code",
      "execution_count": null,
      "id": "a09fcc89",
      "metadata": {
        "deletable": false,
        "nbgrader": {
          "cell_type": "code",
          "checksum": "9f693e117e3e2158f95ee76dc96292a0",
          "grade": true,
          "grade_id": "Exercicio5",
          "locked": false,
          "points": 1,
          "schema_version": 3,
          "solution": true,
          "task": false
        },
        "id": "a09fcc89",
        "colab": {
          "base_uri": "https://localhost:8080/"
        },
        "outputId": "410cf7da-605b-4050-efb4-f3626b2ddb89"
      },
      "outputs": [
        {
          "output_type": "stream",
          "name": "stdout",
          "text": [
            "Insira um número inteiro:456\n",
            "O número informado foi 456 o seu antecessor é 455 e o seu sucessor é 457\n"
          ]
        }
      ],
      "source": [
        "numero = int(input(\"Insira um número inteiro:\"))\n",
        "\n",
        "ant = (numero) - 1\n",
        "suc = (numero) + 1\n",
        "\n",
        "print(\"O número informado foi\", numero, \"o seu antecessor é\", ant, \"e o seu sucessor é\", suc)"
      ]
    },
    {
      "cell_type": "markdown",
      "id": "57a3fb31",
      "metadata": {
        "deletable": false,
        "editable": false,
        "nbgrader": {
          "cell_type": "markdown",
          "checksum": "537bdb2e45ec13ee95cea397e02744f2",
          "grade": false,
          "grade_id": "Exercicio6-descricao",
          "locked": true,
          "schema_version": 3,
          "solution": false,
          "task": false
        },
        "id": "57a3fb31"
      },
      "source": [
        "# Exercício 6\n",
        "\n",
        "Faça um programa que leia quatro notas, e seus respectivos pesos, e que apresente a média final simples e a média final ponderada."
      ]
    },
    {
      "cell_type": "code",
      "execution_count": null,
      "id": "10e12fd4",
      "metadata": {
        "deletable": false,
        "nbgrader": {
          "cell_type": "code",
          "checksum": "ff1bbd3e5c18dc73d5e0328c41d74739",
          "grade": true,
          "grade_id": "Exercicio6",
          "locked": false,
          "points": 1,
          "schema_version": 3,
          "solution": true,
          "task": false
        },
        "id": "10e12fd4",
        "colab": {
          "base_uri": "https://localhost:8080/"
        },
        "outputId": "c4286ec6-c3e3-4cf6-ee17-4fffa8b8deb2"
      },
      "outputs": [
        {
          "output_type": "stream",
          "name": "stdout",
          "text": [
            "Insira a nota 1:10\n",
            "Insira a nota 2:8\n",
            "Insira a nota 3:0\n",
            "Insira a nota 4:0\n",
            "Insira o peso da nota 1:4\n",
            "Insira o peso da nota 2:7\n",
            "Insira o peso da nota 3:0\n",
            "Insira o peso da nota 4:0\n",
            "A média final simples é 4.5 e a média final ponderada é: 8.727272727272727\n"
          ]
        }
      ],
      "source": [
        "nota1 = float(input(\"Insira a nota 1:\"))\n",
        "nota2 = float(input(\"Insira a nota 2:\"))\n",
        "nota3 = float(input(\"Insira a nota 3:\"))\n",
        "nota4 = float(input(\"Insira a nota 4:\"))\n",
        "peso1 = float(input(\"Insira o peso da nota 1:\"))\n",
        "peso2 = float(input(\"Insira o peso da nota 2:\"))\n",
        "peso3 = float(input(\"Insira o peso da nota 3:\"))\n",
        "peso4 = float(input(\"Insira o peso da nota 4:\"))\n",
        "\n",
        "media_simples = (nota1 + nota2 + nota3 + nota4)/4\n",
        "media_ponderada = ((nota1*peso1)+(nota2*peso2)+(nota3*peso3)+(nota4*peso4))/(peso1+peso2+peso3+peso4)\n",
        "print(\"A média final simples é\", media_simples, \"e a média final ponderada é:\", media_ponderada)"
      ]
    },
    {
      "cell_type": "markdown",
      "id": "da81404d",
      "metadata": {
        "deletable": false,
        "editable": false,
        "nbgrader": {
          "cell_type": "markdown",
          "checksum": "6f91f7198e36290a15c6547e839a5885",
          "grade": false,
          "grade_id": "Exercicio7-descricao",
          "locked": true,
          "schema_version": 3,
          "solution": false,
          "task": false
        },
        "id": "da81404d"
      },
      "source": [
        "# Exercício 7\n",
        "\n",
        "Faça um programa para uma loja de tintas. O programa deverá pedir o tamanho em metros quadrados da área a ser pintada. Considere que a cobertura da tinta é de 1 litro para cada 12 metros quadrados e que a tinta é vendida em latas de 18 litros, que custam R$ 80,00. Informe ao usuário a quantidades de latas de tinta a serem compradas e o preço total. "
      ]
    },
    {
      "cell_type": "code",
      "execution_count": null,
      "id": "2a1f6a9c",
      "metadata": {
        "deletable": false,
        "nbgrader": {
          "cell_type": "code",
          "checksum": "0b356a405bcdf2f889a9a95d9a196d61",
          "grade": true,
          "grade_id": "Exercicio7",
          "locked": false,
          "points": 2,
          "schema_version": 3,
          "solution": true,
          "task": false
        },
        "id": "2a1f6a9c",
        "colab": {
          "base_uri": "https://localhost:8080/"
        },
        "outputId": "817e8969-a097-4096-bbb8-fbc987590bd6"
      },
      "outputs": [
        {
          "output_type": "stream",
          "name": "stdout",
          "text": [
            "Insira o tamanho (m²) da área a ser pintada:500\n",
            "A quantidade de latas de tinta a serem compradas é: 3 e o preço total é de R$ 240\n"
          ]
        }
      ],
      "source": [
        "import math\n",
        "\n",
        "area_pintada = float(input(\"Insira o tamanho (m²) da área a ser pintada:\"))\n",
        "\n",
        "qnt_latas = math.ceil((area_pintada)/216)\n",
        "\n",
        "\n",
        "valor_total = (qnt_latas)*80\n",
        "\n",
        "print(\"A quantidade de latas de tinta a serem compradas é:\", qnt_latas, \"e o preço total é de R$\", valor_total)"
      ]
    },
    {
      "cell_type": "markdown",
      "id": "79eca3d1",
      "metadata": {
        "deletable": false,
        "editable": false,
        "nbgrader": {
          "cell_type": "markdown",
          "checksum": "e44b2f3971c79d43c75c12bce821c4d9",
          "grade": false,
          "grade_id": "Exercicio8-descricao",
          "locked": true,
          "schema_version": 3,
          "solution": false,
          "task": false
        },
        "id": "79eca3d1"
      },
      "source": [
        "# Exercício 8\n",
        "\n",
        "Faça um Programa para uma loja de tintas. O programa deverá pedir o tamanho em metros quadrados da área a ser pintada. Considere que a cobertura da tinta é de 1 litro para cada 12 metros quadrados e que a tinta é vendida em latas de 18 litros, que custam R$ 80,00 ou em galões de 3,6 litros, que custam R$ 25,00.\n",
        "\n",
        "Informe ao usuário as quantidades de tinta a serem compradas e os respectivos preços em 3 situações:\n",
        "\n",
        "    - comprar apenas latas de 18 litros;\n",
        "    - comprar apenas galões de 3,6 litros;\n",
        "    - misturar latas e galões, de forma que o desperdício de tinta seja menor. \n",
        "    \n",
        "Acrescente 10% de folga nos três casos (isto é, você deve adicionar 10% sobre o total de litros de tinta necessário) e sempre arredonde os valores para cima, isto é, considere latas cheias. \n",
        "\n"
      ]
    },
    {
      "cell_type": "code",
      "execution_count": 5,
      "id": "54c1e741",
      "metadata": {
        "deletable": false,
        "nbgrader": {
          "cell_type": "code",
          "checksum": "8f12ca6f898fe140e2eb04c84fc6c8f3",
          "grade": true,
          "grade_id": "Exercicio8",
          "locked": false,
          "points": 2,
          "schema_version": 3,
          "solution": true,
          "task": false
        },
        "id": "54c1e741",
        "colab": {
          "base_uri": "https://localhost:8080/"
        },
        "outputId": "ac4252d8-81f0-4f91-ef98-35a0dd610f7f"
      },
      "outputs": [
        {
          "output_type": "stream",
          "name": "stdout",
          "text": [
            "Insira o tamanho (m²) da área a ser pintada:10456.32\n",
            "A quantidade apenas de latas a serem compradas é de 54 e seu preço, em reais, é de 4320\n",
            "A quantidade apenas de galões a serem comprados é de 267 e seu preço, em reais, é de 6675\n",
            "A fim de minimizar o desperdício de tinta, a quantidade de latas a serem compradas é de 53.0 e a de galões 2 e o preço total, em reais, é de 4290.0\n"
          ]
        }
      ],
      "source": [
        "import math\n",
        "area = float(input(\"Insira o tamanho (m²) da área a ser pintada:\"))\n",
        "\n",
        "qnt_litros = (area/12)*(1.1)\n",
        "\n",
        "qnt_latas = math.ceil(qnt_litros/18)\n",
        "valor_latas = qnt_latas*80\n",
        "\n",
        "qnt_galoes = math.ceil(qnt_litros/3.6)\n",
        "valor_galoes = qnt_galoes*25\n",
        "\n",
        "qnt_latas_min = (qnt_litros//18)\n",
        "qnt_galoes_min = math.ceil((qnt_litros%18)/3.6)\n",
        "valor_min = (qnt_latas_min*80) + (qnt_galoes_min)*25\n",
        "\n",
        "print(\"A quantidade apenas de latas a serem compradas é de\",qnt_latas, \"e seu preço, em reais, é de\",valor_latas)\n",
        "print(\"A quantidade apenas de galões a serem comprados é de\",qnt_galoes, \"e seu preço, em reais, é de\",valor_galoes)\n",
        "print(\"A fim de minimizar o desperdício de tinta, a quantidade de latas a serem compradas é de\",qnt_latas_min,\"e a de galões\",qnt_galoes_min,\"e o preço total, em reais, é de\",valor_min)\n"
      ]
    }
  ],
  "metadata": {
    "kernelspec": {
      "display_name": "Python 3 (ipykernel)",
      "language": "python",
      "name": "python3"
    },
    "language_info": {
      "codemirror_mode": {
        "name": "ipython",
        "version": 3
      },
      "file_extension": ".py",
      "mimetype": "text/x-python",
      "name": "python",
      "nbconvert_exporter": "python",
      "pygments_lexer": "ipython3",
      "version": "3.9.7"
    },
    "colab": {
      "name": "Semana1.ipynb",
      "provenance": []
    }
  },
  "nbformat": 4,
  "nbformat_minor": 5
}