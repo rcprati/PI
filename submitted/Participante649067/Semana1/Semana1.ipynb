{
  "cells": [
    {
      "cell_type": "markdown",
      "id": "d4a1d469",
      "metadata": {
        "id": "d4a1d469"
      },
      "source": [
        "# Instruções\n",
        "\n",
        "- Antes de resolver esses exercícios, certifique-se que a configuração está correta (Python 3).\n",
        "\n",
        "- Se estiver usando o Colab, faça uma cópia deste notebook antes de começar a repondê-lo.\n",
        "\n",
        "![](http://professor.ufabc.edu.br/~ronaldo.prati/colab.png)\n",
        "\n",
        "- Lembre-se de manter o nome do caderno com o mesmo nome original.\n",
        "\n",
        "- Não apague nem introduza novas células neste notebook.\n",
        "\n",
        "- Certifique-se que você preencheu todos os lugares que dizem \\\"YOUR CODE HERE\\\" ou \\\"YOUR ANSWER HERE\\\". Substitutua essa linha e também a linha `raise NotImplementedError()` pelo seu código.\n",
        "\n",
        "- Depois de resolver os exercícios, para enviar a atividade, salve o notebook e o envie pelo moodle da disciplina. No colab, para exportar o notebook localmente, acesse `File->Download->Download .ipynb` ou `Arquivo->Baixar->Baixar .ipynb`\n",
        "\n",
        "![](http://professor.ufabc.edu.br/~ronaldo.prati/submit.png)"
      ]
    },
    {
      "cell_type": "markdown",
      "id": "5f82cbf3",
      "metadata": {
        "deletable": false,
        "editable": false,
        "nbgrader": {
          "cell_type": "markdown",
          "checksum": "f1f911b3ba8050e102209c62c8db3f57",
          "grade": false,
          "grade_id": "Exercicio1-descricao",
          "locked": true,
          "schema_version": 3,
          "solution": false,
          "task": false
        },
        "id": "5f82cbf3"
      },
      "source": [
        "# Exercício 1\n",
        "\n",
        "Faça um programa que peça um número e armazene-o em uma variável. A seguir, mostre a mensagem \"O número informado foi [número]\""
      ]
    },
    {
      "cell_type": "code",
      "execution_count": null,
      "id": "98f0fd7a",
      "metadata": {
        "deletable": false,
        "nbgrader": {
          "cell_type": "code",
          "checksum": "74fb8b9b0c1978c0db15aa13a5696150",
          "grade": true,
          "grade_id": "Exercicio1",
          "locked": false,
          "points": 1,
          "schema_version": 3,
          "solution": true,
          "task": false
        },
        "id": "98f0fd7a"
      },
      "outputs": [],
      "source": [
        "numero = input (\"Digite um número: \")\n",
        "print (\"O número informado foi\", numero)"
      ]
    },
    {
      "cell_type": "markdown",
      "id": "dd8c0af2",
      "metadata": {
        "deletable": false,
        "editable": false,
        "nbgrader": {
          "cell_type": "markdown",
          "checksum": "e1645b130e5fd8363c5a31803d8a6730",
          "grade": false,
          "grade_id": "Exercicio2-descricao",
          "locked": true,
          "schema_version": 3,
          "solution": false,
          "task": false
        },
        "id": "dd8c0af2"
      },
      "source": [
        "# Exercício 2\n",
        "\n",
        "Faça um Programa que peça o raio de um círculo, calcule e mostre sua área.\n",
        "Dica: para usar o valor de $\\pi$, pesquise por `math.pi`."
      ]
    },
    {
      "cell_type": "code",
      "execution_count": null,
      "id": "407e7f33",
      "metadata": {
        "deletable": false,
        "nbgrader": {
          "cell_type": "code",
          "checksum": "41ef7b01abeaa8d74e2893a5054fb644",
          "grade": true,
          "grade_id": "Exercicio2",
          "locked": false,
          "points": 1,
          "schema_version": 3,
          "solution": true,
          "task": false
        },
        "id": "407e7f33"
      },
      "outputs": [],
      "source": [
        "import math\n",
        "\n",
        "raio = float(input(\"Raio de um círculo: \"))\n",
        "area = math.pi * (raio ** 2)\n",
        "print (\"A área do círculo é:\", \"%.2f\" %area)"
      ]
    },
    {
      "cell_type": "markdown",
      "id": "868cfe1c",
      "metadata": {
        "deletable": false,
        "editable": false,
        "nbgrader": {
          "cell_type": "markdown",
          "checksum": "83a396c8ae7ca1696f25c00d928c9d55",
          "grade": false,
          "grade_id": "Exercicio3-descricao",
          "locked": true,
          "schema_version": 3,
          "solution": false,
          "task": false
        },
        "id": "868cfe1c"
      },
      "source": [
        "# Exercício 3\n",
        "\n",
        "Faça um Programa que peça 2 números inteiros e um número real. Calcule e mostre:\n",
        "\n",
        "   - o produto do dobro do primeiro com metade do segundo .\n",
        "   - a soma do triplo do primeiro com o terceiro.\n",
        "   - o terceiro elevado ao cubo. "
      ]
    },
    {
      "cell_type": "code",
      "execution_count": null,
      "id": "0f2c4944",
      "metadata": {
        "deletable": false,
        "nbgrader": {
          "cell_type": "code",
          "checksum": "01db6a60d8afd153075785a9f8e10ea5",
          "grade": true,
          "grade_id": "Exercicio3",
          "locked": false,
          "points": 1,
          "schema_version": 3,
          "solution": true,
          "task": false
        },
        "id": "0f2c4944"
      },
      "outputs": [],
      "source": [
        "import math\n",
        "\n",
        "n1 = int(input (\"Digite um número inteiro: \"))\n",
        "n2 = int(input (\"Digite outro número inteiro: \"))\n",
        "nreal = float(input (\"Digite um número real: \"))\n",
        "\n",
        "c1 = (2*n1) * (n2/2) #o produto do dobro do primeiro com metade do segundo.\n",
        "print (\"O produto do dobro do primeiro com metade do segundo: \", c1)\n",
        "c2 = n1*3 + nreal #a soma do triplo do primeiro com o terceiro.\n",
        "print (\"A soma do triplo do primeiro com o terceiro: \", c2)\n",
        "c3 = nreal**3 #o terceiro elevado ao cubo.\n",
        "print (\"O terceiro elevado ao cubo: \", c3)"
      ]
    },
    {
      "cell_type": "markdown",
      "id": "d3996f2c",
      "metadata": {
        "deletable": false,
        "editable": false,
        "nbgrader": {
          "cell_type": "markdown",
          "checksum": "dbee5e0c5c9a02ca7b0fbcbf0c5018fd",
          "grade": false,
          "grade_id": "Exercicio4-descricao",
          "locked": true,
          "schema_version": 3,
          "solution": false,
          "task": false
        },
        "id": "d3996f2c"
      },
      "source": [
        "# Exercício 4\n",
        "\n",
        "Faça um programa que pergunte quanto você ganha por hora e o número de horas trabalhadas na semana. Calcule e mostre o total do seu salário ao final de 4 semanas. "
      ]
    },
    {
      "cell_type": "code",
      "execution_count": null,
      "id": "5a307587",
      "metadata": {
        "deletable": false,
        "nbgrader": {
          "cell_type": "code",
          "checksum": "e511551fc875680ccd9679f9b2c21414",
          "grade": true,
          "grade_id": "Exercicio4",
          "locked": false,
          "points": 1,
          "schema_version": 3,
          "solution": true,
          "task": false
        },
        "id": "5a307587"
      },
      "outputs": [],
      "source": [
        "import math\n",
        "\n",
        "salario = float(input (\"Digite o quanto você ganha por hora: \"))\n",
        "hora = float(input (\"Digite quantas horas você trabalha por semana: \"))\n",
        "\n",
        "total = salario * hora * 4\n",
        "\n",
        "print(\"Seu salário ao final de 4 semanas será: \" \"%.2f\" %total)"
      ]
    },
    {
      "cell_type": "markdown",
      "id": "d5088446",
      "metadata": {
        "deletable": false,
        "editable": false,
        "nbgrader": {
          "cell_type": "markdown",
          "checksum": "c82b175f45419cc78a6f0efc08f9ab15",
          "grade": false,
          "grade_id": "Exercicio5-descricao",
          "locked": true,
          "schema_version": 3,
          "solution": false,
          "task": false
        },
        "id": "d5088446"
      },
      "source": [
        "# Exercício 5\n",
        "\n",
        "Faça um programa que leia um número inteiro qualquer e que apresete, além do número informado, o seu antecessor e do seu sucessor."
      ]
    },
    {
      "cell_type": "code",
      "execution_count": null,
      "id": "a09fcc89",
      "metadata": {
        "deletable": false,
        "nbgrader": {
          "cell_type": "code",
          "checksum": "9f693e117e3e2158f95ee76dc96292a0",
          "grade": true,
          "grade_id": "Exercicio5",
          "locked": false,
          "points": 1,
          "schema_version": 3,
          "solution": true,
          "task": false
        },
        "id": "a09fcc89"
      },
      "outputs": [],
      "source": [
        "import math\n",
        "\n",
        "nint = int(input(\"Insira um número inteiro qualquer: \"))\n",
        "ant = nint - 1\n",
        "suc = nint + 1\n",
        "\n",
        "print(ant, nint, suc)"
      ]
    },
    {
      "cell_type": "markdown",
      "id": "57a3fb31",
      "metadata": {
        "deletable": false,
        "editable": false,
        "nbgrader": {
          "cell_type": "markdown",
          "checksum": "537bdb2e45ec13ee95cea397e02744f2",
          "grade": false,
          "grade_id": "Exercicio6-descricao",
          "locked": true,
          "schema_version": 3,
          "solution": false,
          "task": false
        },
        "id": "57a3fb31"
      },
      "source": [
        "# Exercício 6\n",
        "\n",
        "Faça um programa que leia quatro notas, e seus respectivos pesos, e que apresente a média final simples e a média final ponderada."
      ]
    },
    {
      "cell_type": "code",
      "execution_count": null,
      "id": "10e12fd4",
      "metadata": {
        "deletable": false,
        "nbgrader": {
          "cell_type": "code",
          "checksum": "ff1bbd3e5c18dc73d5e0328c41d74739",
          "grade": true,
          "grade_id": "Exercicio6",
          "locked": false,
          "points": 1,
          "schema_version": 3,
          "solution": true,
          "task": false
        },
        "id": "10e12fd4"
      },
      "outputs": [],
      "source": [
        "import math\n",
        "\n",
        "n1 = float(input(\"Nota 1: \"))\n",
        "p1 = float(input(\"Peso da nota: \"))\n",
        "n2 = float(input(\"Nota 2: \"))\n",
        "p2 = float(input(\"Peso da nota: \"))\n",
        "n3 = float(input(\"Nota 3: \"))\n",
        "p3 = float(input(\"Peso da nota: \"))\n",
        "n4 = float(input(\"Nota 4: \"))\n",
        "p4 = float(input(\"Peso da nota: \"))\n",
        "\n",
        "media_simples = ( n1 + n2 + n3 + n4)/4\n",
        "media_ponderada = ( p1*n1 + p2*n2 + p3*n3 + p4*n4 )/(p1 + p2 + p3 + p4)\n",
        "\n",
        "print(\"A média simples é: \", media_simples, \" e a média poderada é: \", media_ponderada)"
      ]
    },
    {
      "cell_type": "markdown",
      "id": "da81404d",
      "metadata": {
        "deletable": false,
        "editable": false,
        "nbgrader": {
          "cell_type": "markdown",
          "checksum": "6f91f7198e36290a15c6547e839a5885",
          "grade": false,
          "grade_id": "Exercicio7-descricao",
          "locked": true,
          "schema_version": 3,
          "solution": false,
          "task": false
        },
        "id": "da81404d"
      },
      "source": [
        "# Exercício 7\n",
        "\n",
        "Faça um programa para uma loja de tintas. O programa deverá pedir o tamanho em metros quadrados da área a ser pintada. Considere que a cobertura da tinta é de 1 litro para cada 12 metros quadrados e que a tinta é vendida em latas de 18 litros, que custam R$ 80,00. Informe ao usuário a quantidades de latas de tinta a serem compradas e o preço total. "
      ]
    },
    {
      "cell_type": "code",
      "execution_count": null,
      "id": "2a1f6a9c",
      "metadata": {
        "deletable": false,
        "nbgrader": {
          "cell_type": "code",
          "checksum": "0b356a405bcdf2f889a9a95d9a196d61",
          "grade": true,
          "grade_id": "Exercicio7",
          "locked": false,
          "points": 2,
          "schema_version": 3,
          "solution": true,
          "task": false
        },
        "id": "2a1f6a9c"
      },
      "outputs": [],
      "source": [
        "import math\n",
        "\n",
        "area_pintar = float(input(\"Digite o tamanho em metros quadrados da área a ser pintada: \"))\n",
        "litros = area_pintar/12\n",
        "preco_l = 80.0\n",
        "capacidade_l = 18\n",
        "\n",
        "latas = litros / capacidade_l\n",
        "total = latas * preco_l\n",
        "\n",
        "print(\"Você usará\" , \"%.0f\" %latas,\"latas de tinta\")\n",
        "print(\"O preco total é de: R$\", \"%.2f\" %total)"
      ]
    },
    {
      "cell_type": "markdown",
      "id": "79eca3d1",
      "metadata": {
        "deletable": false,
        "editable": false,
        "nbgrader": {
          "cell_type": "markdown",
          "checksum": "e44b2f3971c79d43c75c12bce821c4d9",
          "grade": false,
          "grade_id": "Exercicio8-descricao",
          "locked": true,
          "schema_version": 3,
          "solution": false,
          "task": false
        },
        "id": "79eca3d1"
      },
      "source": [
        "# Exercício 8\n",
        "\n",
        "Faça um Programa para uma loja de tintas. O programa deverá pedir o tamanho em metros quadrados da área a ser pintada. Considere que a cobertura da tinta é de 1 litro para cada 12 metros quadrados e que a tinta é vendida em latas de 18 litros, que custam R$ 80,00 ou em galões de 3,6 litros, que custam R$ 25,00.\n",
        "\n",
        "Informe ao usuário as quantidades de tinta a serem compradas e os respectivos preços em 3 situações:\n",
        "\n",
        "    - comprar apenas latas de 18 litros;\n",
        "    - comprar apenas galões de 3,6 litros;\n",
        "    - misturar latas e galões, de forma que o desperdício de tinta seja menor. \n",
        "    \n",
        "Acrescente 10% de folga nos três casos (isto é, você deve adicionar 10% sobre o total de litros de tinta necessário) e sempre arredonde os valores para cima, isto é, considere latas cheias. \n",
        "\n"
      ]
    },
    {
      "cell_type": "code",
      "execution_count": null,
      "id": "54c1e741",
      "metadata": {
        "deletable": false,
        "nbgrader": {
          "cell_type": "code",
          "checksum": "8f12ca6f898fe140e2eb04c84fc6c8f3",
          "grade": true,
          "grade_id": "Exercicio8",
          "locked": false,
          "points": 2,
          "schema_version": 3,
          "solution": true,
          "task": false
        },
        "id": "54c1e741"
      },
      "outputs": [],
      "source": [
        "import math\n",
        "\n",
        "m2_litro = 12\n",
        "preco_galao = 80\n",
        "litros_galao = 18\n",
        "preco_lata = 25\n",
        "litros_lata = 3.6\n",
        "margem_seguranca = 1.1\n",
        "\n",
        "area_m2 = float(input(\"Digite o tamanho em metros quadrados da área a ser pintada: \"))\n",
        "\n",
        "consumo_litro = area_m2 / m2_litro * margem_seguranca\n",
        "\n",
        "qtd_galao_apenas = math.ceil(consumo_litro / litros_galao)\n",
        "valor_galao_apenas = qtd_galao_apenas * preco_galao\n",
        "\n",
        "qtd_lata_apenas = math.ceil(consumo_litro / litros_lata)\n",
        "valor_lata_apenas = qtd_lata_apenas * preco_lata\n",
        "\n",
        "qtd_galao_misto = consumo_litro // litros_galao\n",
        "qtd_lata_misto = math.ceil((consumo_litro - qtd_galao_misto * litros_galao) / litros_lata)\n",
        "valor_galao_misto = qtd_galao_misto * preco_galao\n",
        "valor_lata_misto = qtd_lata_misto * preco_galao\n",
        "\n",
        "print(\"Você usará: \", \"%.2f\" %consumo_litro, \"litros\")\n",
        "print()\n",
        "print(\"Você usará\", \"%.0f\" %qtd_galao_apenas, \"latas de 18 litros.\")\n",
        "print(\"O valor total em latas de 18 litros é: R$\", \"%.2f\" %valor_galao_apenas)\n",
        "print()\n",
        "print(\"Você usará\", \"%.0f\" %qtd_lata_apenas, \"unidades de galões de 3,6 litros\")\n",
        "print(\"O valor total em galões de 3,6 litros é: R$\", \"%.2f\" %valor_lata_apenas)\n",
        "print()\n",
        "print(\"Considerando o menor desperdíciode tinta, temos:\")\n",
        "print(\"Quantidade de galões:\", \"%.0f\" %qtd_galao_misto)\n",
        "print(\"Quantidade de latas:\", \"%.0f\" %qtd_lata_misto)\n",
        "print(\"Quantidade total mistas:\", \"%.0f\" %(qtd_galao_misto + qtd_lata_misto))\n",
        "print(\"Valor total considerando os galões e as latas é: R$\", \"%.2f\" %(valor_galao_misto + valor_lata_misto))"
      ]
    }
  ],
  "metadata": {
    "kernelspec": {
      "display_name": "Python 3 (ipykernel)",
      "language": "python",
      "name": "python3"
    },
    "language_info": {
      "codemirror_mode": {
        "name": "ipython",
        "version": 3
      },
      "file_extension": ".py",
      "mimetype": "text/x-python",
      "name": "python",
      "nbconvert_exporter": "python",
      "pygments_lexer": "ipython3",
      "version": "3.9.7"
    },
    "colab": {
      "name": "Cópia de Semana1.ipynb",
      "provenance": []
    }
  },
  "nbformat": 4,
  "nbformat_minor": 5
}