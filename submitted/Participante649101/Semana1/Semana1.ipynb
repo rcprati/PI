{
  "cells": [
    {
      "cell_type": "markdown",
      "metadata": {
        "id": "d4a1d469"
      },
      "source": [
        "# Instruções\n",
        "\n",
        "- Antes de resolver esses exercícios, certifique-se que a configuração está correta (Python 3).\n",
        "\n",
        "- Se estiver usando o Colab, faça uma cópia deste notebook antes de começar a repondê-lo.\n",
        "\n",
        "![](http://professor.ufabc.edu.br/~ronaldo.prati/colab.png)\n",
        "\n",
        "- Lembre-se de manter o nome do caderno com o mesmo nome original.\n",
        "\n",
        "- Não apague nem introduza novas células neste notebook.\n",
        "\n",
        "- Certifique-se que você preencheu todos os lugares que dizem \\\"YOUR CODE HERE\\\" ou \\\"YOUR ANSWER HERE\\\". Substitutua essa linha e também a linha `raise NotImplementedError()` pelo seu código.\n",
        "\n",
        "- Depois de resolver os exercícios, para enviar a atividade, salve o notebook e o envie pelo moodle da disciplina. No colab, para exportar o notebook localmente, acesse `File->Download->Download .ipynb` ou `Arquivo->Baixar->Baixar .ipynb`\n",
        "\n",
        "![](http://professor.ufabc.edu.br/~ronaldo.prati/submit.png)"
      ],
      "id": "d4a1d469"
    },
    {
      "cell_type": "markdown",
      "metadata": {
        "id": "5f82cbf3"
      },
      "source": [
        "# Exercício 1\n",
        "\n",
        "Faça um programa que peça um número e armazene-o em uma variável. A seguir, mostre a mensagem \"O número informado foi [número]\""
      ],
      "id": "5f82cbf3"
    },
    {
      "cell_type": "markdown",
      "metadata": {
        "id": "S69sfD_X3lsn"
      },
      "source": [
        ""
      ],
      "id": "S69sfD_X3lsn"
    },
    {
      "cell_type": "code",
      "execution_count": 29,
      "metadata": {
        "id": "98f0fd7a",
        "colab": {
          "base_uri": "https://localhost:8080/"
        },
        "outputId": "8a1bc153-dba8-48e8-f7d4-1a7312b3a581"
      },
      "outputs": [
        {
          "output_type": "stream",
          "name": "stdout",
          "text": [
            "Escolha um número: 5\n",
            "O número informado foi: 5.0\n"
          ]
        }
      ],
      "source": [
        "pedido = float(input(\"Escolha um número: \"))\n",
        "print(\"O número informado foi:\", pedido)"
      ],
      "id": "98f0fd7a"
    },
    {
      "cell_type": "markdown",
      "metadata": {
        "id": "dd8c0af2"
      },
      "source": [
        "# Exercício 2\n",
        "\n",
        "Faça um Programa que peça o raio de um círculo, calcule e mostre sua área.\n",
        "Dica: para usar o valor de $\\pi$, pesquise por `math.pi`."
      ],
      "id": "dd8c0af2"
    },
    {
      "cell_type": "code",
      "execution_count": 30,
      "metadata": {
        "id": "407e7f33",
        "colab": {
          "base_uri": "https://localhost:8080/"
        },
        "outputId": "240fe0c4-7741-4eb7-d21a-b9540053d21c"
      },
      "outputs": [
        {
          "output_type": "stream",
          "name": "stdout",
          "text": [
            "Quanto mede o raio? 2\n",
            "A área é de: 12.57 cm²\n"
          ]
        }
      ],
      "source": [
        "import math\n",
        "\n",
        "raio = float(input(\"Quanto mede o raio? \"))\n",
        "area = math.pi*raio**2\n",
        "\n",
        "print(\"A área é de:\", \"%.2f\"% area, \"cm²\")"
      ],
      "id": "407e7f33"
    },
    {
      "cell_type": "markdown",
      "metadata": {
        "id": "868cfe1c"
      },
      "source": [
        "# Exercício 3\n",
        "\n",
        "Faça um Programa que peça 2 números inteiros e um número real. Calcule e mostre:\n",
        "\n",
        "   - o produto do dobro do primeiro com metade do segundo .\n",
        "   - a soma do triplo do primeiro com o terceiro.\n",
        "   - o terceiro elevado ao cubo. "
      ],
      "id": "868cfe1c"
    },
    {
      "cell_type": "code",
      "execution_count": 34,
      "metadata": {
        "id": "0f2c4944",
        "colab": {
          "base_uri": "https://localhost:8080/"
        },
        "outputId": "d61b2205-1cca-4c47-9823-1f0dc27e0740"
      },
      "outputs": [
        {
          "output_type": "stream",
          "name": "stdout",
          "text": [
            "Digite um número inteiro: 9\n",
            "Digite outro número inteiro: 4\n",
            "Digite um número real: 7.376\n",
            "O produto do dobro do primeiro com metade do segundo é: 36.0\n",
            "A soma do triplo do primeiro com o terceiro é: 34.38\n",
            "O terceiro elevado ao cubo é: 401.29\n"
          ]
        }
      ],
      "source": [
        "in1 = int(input(\"Digite um número inteiro: \"))\n",
        "in2 = int(input(\"Digite outro número inteiro: \"))\n",
        "real = float(input(\"Digite um número real: \"))\n",
        "\n",
        "prod_do_pri_seg = (in1*2)*(in2)/2\n",
        "sum_pri_ter = 3*in1 + real\n",
        "ter_cubo = real**3\n",
        "\n",
        "print(\"O produto do dobro do primeiro com metade do segundo é:\", prod_do_pri_seg)\n",
        "print(\"A soma do triplo do primeiro com o terceiro é:\", \"%.2f\"%sum_pri_ter)\n",
        "print(\"O terceiro elevado ao cubo é:\", \"%.2f\"% ter_cubo)"
      ],
      "id": "0f2c4944"
    },
    {
      "cell_type": "markdown",
      "metadata": {
        "id": "d3996f2c"
      },
      "source": [
        "# Exercício 4\n",
        "\n",
        "Faça um programa que pergunte quanto você ganha por hora e o número de horas trabalhadas na semana. Calcule e mostre o total do seu salário ao final de 4 semanas. "
      ],
      "id": "d3996f2c"
    },
    {
      "cell_type": "code",
      "execution_count": 36,
      "metadata": {
        "id": "5a307587",
        "colab": {
          "base_uri": "https://localhost:8080/"
        },
        "outputId": "8c8561db-58c3-4ff5-eb80-4a4b8ae24968"
      },
      "outputs": [
        {
          "output_type": "stream",
          "name": "stdout",
          "text": [
            "Quanto você ganha por hora trabalhada? 12\n",
            "Quantas horas você trabalhou na semana? 36\n",
            "Seu salário ao final de 4 semanas é de R$ 1728.00\n"
          ]
        }
      ],
      "source": [
        "din = float(input(\"Quanto você ganha por hora trabalhada? \"))\n",
        "htrab = float(input(\"Quantas horas você trabalhou na semana? \"))\n",
        "\n",
        "din_semana = din * htrab\n",
        "salario = din_semana * 4\n",
        "\n",
        "print(\"Seu salário ao final de 4 semanas é de R$\", \"%.2f\" % salario)"
      ],
      "id": "5a307587"
    },
    {
      "cell_type": "markdown",
      "metadata": {
        "id": "d5088446"
      },
      "source": [
        "# Exercício 5\n",
        "\n",
        "Faça um programa que leia um número inteiro qualquer e que apresente, além do número informado, o seu antecessor e do seu sucessor."
      ],
      "id": "d5088446"
    },
    {
      "cell_type": "code",
      "execution_count": 37,
      "metadata": {
        "id": "a09fcc89",
        "colab": {
          "base_uri": "https://localhost:8080/"
        },
        "outputId": "c58ebf0a-fe76-42b6-99bd-3b8e8598d051"
      },
      "outputs": [
        {
          "output_type": "stream",
          "name": "stdout",
          "text": [
            "Digite um número inteiro: 8\n",
            "O número informado é: 8\n",
            "Seu antecessor é: 7\n",
            "Seu sucessor é: 9\n"
          ]
        }
      ],
      "source": [
        "n1 = int(input(\"Digite um número inteiro: \"))\n",
        "ant = n1 - 1\n",
        "suc = n1 + 1\n",
        "\n",
        "print(\"O número informado é:\",n1)\n",
        "print(\"Seu antecessor é:\", ant)\n",
        "print(\"Seu sucessor é:\", suc)"
      ],
      "id": "a09fcc89"
    },
    {
      "cell_type": "markdown",
      "metadata": {
        "id": "57a3fb31"
      },
      "source": [
        "# Exercício 6\n",
        "\n",
        "Faça um programa que leia quatro notas, e seus respectivos pesos, e que apresente a média final simples e a média final ponderada."
      ],
      "id": "57a3fb31"
    },
    {
      "cell_type": "code",
      "execution_count": 38,
      "metadata": {
        "id": "10e12fd4",
        "colab": {
          "base_uri": "https://localhost:8080/"
        },
        "outputId": "f59a9c97-6c7c-4b88-d7a2-b4ae1aaa7988"
      },
      "outputs": [
        {
          "output_type": "stream",
          "name": "stdout",
          "text": [
            "Digite a nota 1: 8\n",
            "Digite a nota 2: 5\n",
            "Digite a nota 3: 9\n",
            "Digite a nota 4: 2\n",
            "Digite o peso da nota 1: 1\n",
            "Digite o peso da nota 2: 2\n",
            "Digite o peso da nota 3: 1\n",
            "Digite o peso da nota 4: 2\n",
            "A média final simples é: 6.00\n",
            "A média final ponderada é: 5.17\n"
          ]
        }
      ],
      "source": [
        "n1 = float(input(\"Digite a nota 1: \"))\n",
        "n2 = float(input(\"Digite a nota 2: \"))\n",
        "n3 = float(input(\"Digite a nota 3: \"))\n",
        "n4 = float(input(\"Digite a nota 4: \"))\n",
        "\n",
        "p1 = float(input(\"Digite o peso da nota 1: \"))\n",
        "p2 = float(input(\"Digite o peso da nota 2: \"))\n",
        "p3 = float(input(\"Digite o peso da nota 3: \"))\n",
        "p4 = float(input(\"Digite o peso da nota 4: \"))\n",
        "\n",
        "soma_notas = n1 + n2 + n3 + n4\n",
        "soma_pesos = p1 + p2 + p3 + p4\n",
        "\n",
        "mf_sim = soma_notas/4\n",
        "mf_pon = (n1*p1 + n2*p2 + n3*p3 + n4*p4)/soma_pesos\n",
        "\n",
        "print(\"A média final simples é:\", \"%.2f\" % mf_sim)\n",
        "print(\"A média final ponderada é:\",\"%.2f\" % mf_pon)"
      ],
      "id": "10e12fd4"
    },
    {
      "cell_type": "markdown",
      "metadata": {
        "id": "da81404d"
      },
      "source": [
        "# Exercício 7\n",
        "\n",
        "Faça um programa para uma loja de tintas. O programa deverá pedir o tamanho em metros quadrados da área a ser pintada. Considere que a cobertura da tinta é de 1 litro para cada 12 metros quadrados e que a tinta é vendida em latas de 18 litros, que custam R$ 80,00. Informe ao usuário a quantidades de latas de tinta a serem compradas e o preço total. "
      ],
      "id": "da81404d"
    },
    {
      "cell_type": "code",
      "execution_count": 39,
      "metadata": {
        "colab": {
          "base_uri": "https://localhost:8080/"
        },
        "id": "2a1f6a9c",
        "outputId": "f9b587af-6d6a-44c5-ce3e-e3c9b22684a7"
      },
      "outputs": [
        {
          "output_type": "stream",
          "name": "stdout",
          "text": [
            "Qual é o tamanho da área que será pintada em m²? 300\n",
            "Você precisará de 2 latas e pagará um total de: R$ 160.0\n"
          ]
        }
      ],
      "source": [
        "import math\n",
        "\n",
        "area = float(input(\"Qual é o tamanho da área que será pintada em m²? \"))\n",
        "\n",
        "custo_lata = 80.0\n",
        "cob_1L = 12.0   # 1L para 12m²\n",
        "lata = 18.0\n",
        "\n",
        "litros_necessarios = area/cob_1L\n",
        "rendimento = litros_necessarios/lata\n",
        "\n",
        "print(\"Você precisará de\", math.ceil(rendimento), \"latas e pagará um total de: R$\", math.ceil(rendimento)*custo_lata)\n",
        "\n",
        "#print(litros_necessarios)\n",
        "#print(math.ceil(rendimento)) #math.ceil 'faz bater no teto' (arredonda pra cima)"
      ],
      "id": "2a1f6a9c"
    },
    {
      "cell_type": "markdown",
      "metadata": {
        "id": "79eca3d1"
      },
      "source": [
        "# Exercício 8\n",
        "\n",
        "Faça um Programa para uma loja de tintas. O programa deverá pedir o tamanho em metros quadrados da área a ser pintada. Considere que a cobertura da tinta é de 1 litro para cada 12 metros quadrados e que a tinta é vendida em latas de 18 litros, que custam R$ 80,00 ou em galões de 3,6 litros, que custam R$ 25,00.\n",
        "\n",
        "Informe ao usuário as quantidades de tinta a serem compradas e os respectivos preços em 3 situações:\n",
        "\n",
        "    - comprar apenas latas de 18 litros;\n",
        "    - comprar apenas galões de 3,6 litros;\n",
        "    - misturar latas e galões, de forma que o desperdício de tinta seja menor. \n",
        "    \n",
        "Acrescente 10% de folga nos três casos (isto é, você deve adicionar 10% sobre o total de litros de tinta necessário) e sempre arredonde os valores para cima, isto é, considere latas cheias. \n",
        "\n"
      ],
      "id": "79eca3d1"
    },
    {
      "cell_type": "code",
      "execution_count": 41,
      "metadata": {
        "id": "54c1e741",
        "colab": {
          "base_uri": "https://localhost:8080/"
        },
        "outputId": "6dc83c30-26a3-4ace-fef5-3c52ecdf5d26"
      },
      "outputs": [
        {
          "output_type": "stream",
          "name": "stdout",
          "text": [
            "Qual é o tamanho da área que será pintada em m²?300\n",
            "De acordo com a área informada, você precisa comprar 2 latas com um custo de: R$ 160.0\n",
            "Ou 8 galões com um custo de: R$ 200.0\n",
            "Para ter menos desperdício, compre 1 latas e 3 galões, no valor de: R$ 155.0\n"
          ]
        }
      ],
      "source": [
        "import math\n",
        "\n",
        "area = float(input(\"Qual é o tamanho da área que será pintada em m²?\"))\n",
        "\n",
        "cob_1L = 12.0      #1L para 12m²\n",
        "lata = 18.0        #18L\n",
        "galao = 3.6        #3.6L\n",
        "\n",
        "custo_lata = 80.0\n",
        "custo_galao = 25.0\n",
        "\n",
        "\n",
        "litros_necessarios = (area/cob_1L)*1.1  #10% sobre o total de litros necessários\n",
        "\n",
        "#litros_lata = litros_necessarios/lata\n",
        "#litros_galao = litros_necessarios/galao\n",
        "#print(litros_lata, litros_galao, litros_necessarios)\n",
        "\n",
        "rendimento_lata = math.ceil(litros_necessarios/lata)\n",
        "rendimento_galao = math.ceil(litros_necessarios/galao)\n",
        "\n",
        "precof_lata = rendimento_lata*custo_lata\n",
        "precof_galao = rendimento_galao*custo_galao\n",
        "\n",
        "#print(rendimento_lata, rendimento_galao)\n",
        "print(\"De acordo com a área informada, você precisa comprar\", rendimento_lata,\"latas com um custo de: R$\",precof_lata)\n",
        "print(\"Ou\",rendimento_galao,\"galões com um custo de: R$\", precof_galao)\n",
        "\n",
        "# Mistura de Latas e Galões para menor desperdício\n",
        "\n",
        "rendimento_lata = math.floor(litros_necessarios/lata) #arredonda para o piso, (para baixo)\n",
        "valor_lata = rendimento_lata * custo_lata\n",
        "\n",
        "resto_lata = litros_necessarios % lata    #resto da divisão para saber quantos litros ainda faltam e para gastar menos\n",
        "num_galao = math.ceil(resto_lata / galao) # para completar o resto com galões\n",
        "valor_galao = num_galao * custo_galao\n",
        "\n",
        "total = valor_lata + valor_galao\n",
        "\n",
        "print(\"Para ter menos desperdício, compre\",rendimento_lata ,\"latas e\",num_galao,\"galões, no valor de: R$\",total)"
      ],
      "id": "54c1e741"
    },
    {
      "cell_type": "code",
      "source": [
        ""
      ],
      "metadata": {
        "id": "TIrdqArUez5P"
      },
      "id": "TIrdqArUez5P",
      "execution_count": 27,
      "outputs": []
    }
  ],
  "metadata": {
    "colab": {
      "name": "Semana1.ipynb",
      "provenance": []
    },
    "kernelspec": {
      "display_name": "Python 3 (ipykernel)",
      "language": "python",
      "name": "python3"
    },
    "language_info": {
      "codemirror_mode": {
        "name": "ipython",
        "version": 3
      },
      "file_extension": ".py",
      "mimetype": "text/x-python",
      "name": "python",
      "nbconvert_exporter": "python",
      "pygments_lexer": "ipython3",
      "version": "3.9.7"
    }
  },
  "nbformat": 4,
  "nbformat_minor": 5
}