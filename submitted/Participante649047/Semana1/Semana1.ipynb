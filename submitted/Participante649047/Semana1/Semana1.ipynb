{
  "cells": [
    {
      "cell_type": "markdown",
      "id": "d4a1d469",
      "metadata": {
        "id": "d4a1d469"
      },
      "source": [
        "# Instruções\n",
        "\n",
        "- Antes de resolver esses exercícios, certifique-se que a configuração está correta (Python 3).\n",
        "\n",
        "- Se estiver usando o Colab, faça uma cópia deste notebook antes de começar a repondê-lo.\n",
        "\n",
        "![](http://professor.ufabc.edu.br/~ronaldo.prati/colab.png)\n",
        "\n",
        "- Lembre-se de manter o nome do caderno com o mesmo nome original.\n",
        "\n",
        "- Não apague nem introduza novas células neste notebook.\n",
        "\n",
        "- Certifique-se que você preencheu todos os lugares que dizem \\\"YOUR CODE HERE\\\" ou \\\"YOUR ANSWER HERE\\\". Substitutua essa linha e também a linha `raise NotImplementedError()` pelo seu código.\n",
        "\n",
        "- Depois de resolver os exercícios, para enviar a atividade, salve o notebook e o envie pelo moodle da disciplina. No colab, para exportar o notebook localmente, acesse `File->Download->Download .ipynb` ou `Arquivo->Baixar->Baixar .ipynb`\n",
        "\n",
        "![](http://professor.ufabc.edu.br/~ronaldo.prati/submit.png)"
      ]
    },
    {
      "cell_type": "markdown",
      "id": "5f82cbf3",
      "metadata": {
        "deletable": false,
        "editable": false,
        "nbgrader": {
          "cell_type": "markdown",
          "checksum": "f1f911b3ba8050e102209c62c8db3f57",
          "grade": false,
          "grade_id": "Exercicio1-descricao",
          "locked": true,
          "schema_version": 3,
          "solution": false,
          "task": false
        },
        "id": "5f82cbf3"
      },
      "source": [
        "# Exercício 1\n",
        "\n",
        "Faça um programa que peça um número e armazene-o em uma variável. A seguir, mostre a mensagem \"O número informado foi [número]\""
      ]
    },
    {
      "cell_type": "code",
      "execution_count": null,
      "id": "98f0fd7a",
      "metadata": {
        "deletable": false,
        "nbgrader": {
          "cell_type": "code",
          "checksum": "74fb8b9b0c1978c0db15aa13a5696150",
          "grade": true,
          "grade_id": "Exercicio1",
          "locked": false,
          "points": 1,
          "schema_version": 3,
          "solution": true,
          "task": false
        },
        "id": "98f0fd7a",
        "colab": {
          "base_uri": "https://localhost:8080/"
        },
        "outputId": "f69862af-ef47-4e66-edc0-0f3bffce0f2a"
      },
      "outputs": [
        {
          "output_type": "stream",
          "name": "stdout",
          "text": [
            "Insira um  numero: 3\n",
            "O número informado foi 3\n"
          ]
        }
      ],
      "source": [
        "n = int(input('Insira um  numero: '))\n",
        "print(\"O número informado foi\", n)"
      ]
    },
    {
      "cell_type": "markdown",
      "id": "dd8c0af2",
      "metadata": {
        "deletable": false,
        "editable": false,
        "nbgrader": {
          "cell_type": "markdown",
          "checksum": "e1645b130e5fd8363c5a31803d8a6730",
          "grade": false,
          "grade_id": "Exercicio2-descricao",
          "locked": true,
          "schema_version": 3,
          "solution": false,
          "task": false
        },
        "id": "dd8c0af2"
      },
      "source": [
        "# Exercício 2\n",
        "\n",
        "Faça um Programa que peça o raio de um círculo, calcule e mostre sua área.\n",
        "Dica: para usar o valor de $\\pi$, pesquise por `math.pi`."
      ]
    },
    {
      "cell_type": "code",
      "execution_count": null,
      "id": "407e7f33",
      "metadata": {
        "deletable": false,
        "nbgrader": {
          "cell_type": "code",
          "checksum": "41ef7b01abeaa8d74e2893a5054fb644",
          "grade": true,
          "grade_id": "Exercicio2",
          "locked": false,
          "points": 1,
          "schema_version": 3,
          "solution": true,
          "task": false
        },
        "id": "407e7f33",
        "colab": {
          "base_uri": "https://localhost:8080/"
        },
        "outputId": "fcaa84e9-7476-42ad-9bda-4570c8cb8cf1"
      },
      "outputs": [
        {
          "output_type": "stream",
          "name": "stdout",
          "text": [
            "Insira o raio do círculo: 2\n",
            "Área do círculo é 12.57\n"
          ]
        }
      ],
      "source": [
        "import math\n",
        "r = float(input('Insira o raio do círculo: '))\n",
        "area = round((math.pi * r**2),2)\n",
        "print(\"Área do círculo é\", area)"
      ]
    },
    {
      "cell_type": "markdown",
      "id": "868cfe1c",
      "metadata": {
        "deletable": false,
        "editable": false,
        "nbgrader": {
          "cell_type": "markdown",
          "checksum": "83a396c8ae7ca1696f25c00d928c9d55",
          "grade": false,
          "grade_id": "Exercicio3-descricao",
          "locked": true,
          "schema_version": 3,
          "solution": false,
          "task": false
        },
        "id": "868cfe1c"
      },
      "source": [
        "# Exercício 3\n",
        "\n",
        "Faça um Programa que peça 2 números inteiros e um número real. Calcule e mostre:\n",
        "\n",
        "   - o produto do dobro do primeiro com metade do segundo .\n",
        "   - a soma do triplo do primeiro com o terceiro.\n",
        "   - o terceiro elevado ao cubo. "
      ]
    },
    {
      "cell_type": "code",
      "execution_count": 11,
      "id": "0f2c4944",
      "metadata": {
        "deletable": false,
        "nbgrader": {
          "cell_type": "code",
          "checksum": "01db6a60d8afd153075785a9f8e10ea5",
          "grade": true,
          "grade_id": "Exercicio3",
          "locked": false,
          "points": 1,
          "schema_version": 3,
          "solution": true,
          "task": false
        },
        "id": "0f2c4944",
        "colab": {
          "base_uri": "https://localhost:8080/"
        },
        "outputId": "8af05504-3384-4f67-f5a8-0f291d089929"
      },
      "outputs": [
        {
          "output_type": "stream",
          "name": "stdout",
          "text": [
            "Insira o primeiro número inteiro: 2\n",
            "Insira o segundo número inteiro: 3\n",
            "Insira o número real: 1.5\n",
            "O produto do dobro do primeiro com metade do segundo é:  6.0\n",
            "A soma do triplo do primeiro com o terceiro é: 7.5\n",
            "O terceiro elevado ao cubo é: 3.38\n"
          ]
        }
      ],
      "source": [
        "n1 = int(input('Insira o primeiro número inteiro: '))\n",
        "n2 = int(input('Insira o segundo número inteiro: '))\n",
        "n3 = float(input('Insira o número real: '))\n",
        "p = round((n1*2)*(n2/2),2)\n",
        "s = round(((3*n1)+n3),2)\n",
        "c = round((n3**3),2)\n",
        "print(\"O produto do dobro do primeiro com metade do segundo é: \",p)\n",
        "print(\"A soma do triplo do primeiro com o terceiro é:\", s)\n",
        "print(\"O terceiro elevado ao cubo é:\", c)"
      ]
    },
    {
      "cell_type": "markdown",
      "id": "d3996f2c",
      "metadata": {
        "deletable": false,
        "editable": false,
        "nbgrader": {
          "cell_type": "markdown",
          "checksum": "dbee5e0c5c9a02ca7b0fbcbf0c5018fd",
          "grade": false,
          "grade_id": "Exercicio4-descricao",
          "locked": true,
          "schema_version": 3,
          "solution": false,
          "task": false
        },
        "id": "d3996f2c"
      },
      "source": [
        "# Exercício 4\n",
        "\n",
        "Faça um programa que pergunte quanto você ganha por hora e o número de horas trabalhadas na semana. Calcule e mostre o total do seu salário ao final de 4 semanas. "
      ]
    },
    {
      "cell_type": "code",
      "execution_count": null,
      "id": "5a307587",
      "metadata": {
        "deletable": false,
        "nbgrader": {
          "cell_type": "code",
          "checksum": "e511551fc875680ccd9679f9b2c21414",
          "grade": true,
          "grade_id": "Exercicio4",
          "locked": false,
          "points": 1,
          "schema_version": 3,
          "solution": true,
          "task": false
        },
        "id": "5a307587",
        "colab": {
          "base_uri": "https://localhost:8080/"
        },
        "outputId": "9436788c-440f-486d-a215-e21b84385ae6"
      },
      "outputs": [
        {
          "output_type": "stream",
          "name": "stdout",
          "text": [
            "Insira o valor por hora: 2\n",
            "Insira o número de horas trabalhadas: 5\n",
            "O salário final é de R$: 40.0\n"
          ]
        }
      ],
      "source": [
        "v = float(input('Insira o valor por hora: '))\n",
        "h = float(input('Insira o número de horas trabalhadas: '))\n",
        "c = (v*h)*4\n",
        "print(\"O salário final é de R$:\", c)"
      ]
    },
    {
      "cell_type": "markdown",
      "id": "d5088446",
      "metadata": {
        "deletable": false,
        "editable": false,
        "nbgrader": {
          "cell_type": "markdown",
          "checksum": "c82b175f45419cc78a6f0efc08f9ab15",
          "grade": false,
          "grade_id": "Exercicio5-descricao",
          "locked": true,
          "schema_version": 3,
          "solution": false,
          "task": false
        },
        "id": "d5088446"
      },
      "source": [
        "# Exercício 5\n",
        "\n",
        "Faça um programa que leia um número inteiro qualquer e que apresete, além do número informado, o seu antecessor e do seu sucessor."
      ]
    },
    {
      "cell_type": "code",
      "execution_count": 7,
      "id": "a09fcc89",
      "metadata": {
        "deletable": false,
        "nbgrader": {
          "cell_type": "code",
          "checksum": "9f693e117e3e2158f95ee76dc96292a0",
          "grade": true,
          "grade_id": "Exercicio5",
          "locked": false,
          "points": 1,
          "schema_version": 3,
          "solution": true,
          "task": false
        },
        "id": "a09fcc89",
        "colab": {
          "base_uri": "https://localhost:8080/"
        },
        "outputId": "f6a7ee47-b2f5-4eb9-b620-495819982aa5"
      },
      "outputs": [
        {
          "output_type": "stream",
          "name": "stdout",
          "text": [
            "Insira um número: 5\n",
            "O número informado é: 5, o antecessor é: 4 e o sucessor é 6\n"
          ]
        }
      ],
      "source": [
        "n = int (input(\"Insira um número: \"))\n",
        "s = n+1\n",
        "a = n-1\n",
        "print(\"O número informado é: {}, o antecessor é: {} e o sucessor é {}.\" .format(n,a,s))"
      ]
    },
    {
      "cell_type": "markdown",
      "id": "57a3fb31",
      "metadata": {
        "deletable": false,
        "editable": false,
        "nbgrader": {
          "cell_type": "markdown",
          "checksum": "537bdb2e45ec13ee95cea397e02744f2",
          "grade": false,
          "grade_id": "Exercicio6-descricao",
          "locked": true,
          "schema_version": 3,
          "solution": false,
          "task": false
        },
        "id": "57a3fb31"
      },
      "source": [
        "# Exercício 6\n",
        "\n",
        "Faça um programa que leia quatro notas, e seus respectivos pesos, e que apresente a média final simples e a média final ponderada."
      ]
    },
    {
      "cell_type": "code",
      "execution_count": 4,
      "id": "10e12fd4",
      "metadata": {
        "deletable": false,
        "nbgrader": {
          "cell_type": "code",
          "checksum": "ff1bbd3e5c18dc73d5e0328c41d74739",
          "grade": true,
          "grade_id": "Exercicio6",
          "locked": false,
          "points": 1,
          "schema_version": 3,
          "solution": true,
          "task": false
        },
        "id": "10e12fd4",
        "colab": {
          "base_uri": "https://localhost:8080/"
        },
        "outputId": "991ab55e-289c-46d6-f1b4-d1e461b3b511"
      },
      "outputs": [
        {
          "output_type": "stream",
          "name": "stdout",
          "text": [
            "Insira a primeira nota: 6\n",
            "Insira o peso da primeira nota: 1\n",
            "Insira o peso da segunda nota: 8\n",
            "Insira o peso da segunda nota: 2\n",
            "Insira o peso da terceira nota: 7\n",
            "Insira o peso da terceira nota: 1\n",
            "Insira o peso da quarta nota: 7.5\n",
            "Insira o peso da quarta nota: 3\n",
            "A média final simples é:  7.12\n",
            "A média final ponderada é:  7.36\n"
          ]
        }
      ],
      "source": [
        "n1 = float(input('Insira a primeira nota: '))\n",
        "pn1 = float(input('Insira o peso da primeira nota: '))\n",
        "n2 = float(input('Insira a segunda nota: '))\n",
        "pn2 = float(input('Insira o peso da segunda nota: '))\n",
        "n3 = float(input('Insira a terceira nota: '))\n",
        "pn3 = float(input('Insira o peso da terceira nota: '))\n",
        "n4 = float(input('Insira a quarta nota: '))\n",
        "pn4 = float(input('Insira o peso da quarta nota: '))\n",
        "msimples = round((n1+n2+n3+n4)/4,2)\n",
        "mp = round(((n1*pn1)+(n2*pn2)+(n3*pn3)+(n4*pn4))/(pn1+pn2+pn3+pn4),2)\n",
        "print(\"A média final simples é: \",msimples)\n",
        "print(\"A média final ponderada é: \",mp)"
      ]
    },
    {
      "cell_type": "markdown",
      "id": "da81404d",
      "metadata": {
        "deletable": false,
        "editable": false,
        "nbgrader": {
          "cell_type": "markdown",
          "checksum": "6f91f7198e36290a15c6547e839a5885",
          "grade": false,
          "grade_id": "Exercicio7-descricao",
          "locked": true,
          "schema_version": 3,
          "solution": false,
          "task": false
        },
        "id": "da81404d"
      },
      "source": [
        "# Exercício 7\n",
        "\n",
        "Faça um programa para uma loja de tintas. O programa deverá pedir o tamanho em metros quadrados da área a ser pintada. Considere que a cobertura da tinta é de 1 litro para cada 12 metros quadrados e que a tinta é vendida em latas de 18 litros, que custam R$ 80,00. Informe ao usuário a quantidades de latas de tinta a serem compradas e o preço total. "
      ]
    },
    {
      "cell_type": "code",
      "execution_count": 20,
      "id": "2a1f6a9c",
      "metadata": {
        "deletable": false,
        "nbgrader": {
          "cell_type": "code",
          "checksum": "0b356a405bcdf2f889a9a95d9a196d61",
          "grade": true,
          "grade_id": "Exercicio7",
          "locked": false,
          "points": 2,
          "schema_version": 3,
          "solution": true,
          "task": false
        },
        "id": "2a1f6a9c",
        "colab": {
          "base_uri": "https://localhost:8080/"
        },
        "outputId": "27b70105-c130-4a27-d2c8-6e1575c7ef44"
      },
      "outputs": [
        {
          "output_type": "stream",
          "name": "stdout",
          "text": [
            "Insira quantos metros quadrados serão pintados:1200\n",
            "Serão usadas 6 latas de tintas, e o valor total é de: R$: 480.\n"
          ]
        }
      ],
      "source": [
        "t = float(input(\"Insira quantos metros quadrados serão pintados:\"))\n",
        "l = (t/12)\n",
        "lata = round((l/18))\n",
        "p = round((lata*80),2)\n",
        "print(\"Serão usadas {} latas de tintas, e o valor total é de: R$: {}.\".format (lata, p))"
      ]
    },
    {
      "cell_type": "markdown",
      "id": "79eca3d1",
      "metadata": {
        "deletable": false,
        "editable": false,
        "nbgrader": {
          "cell_type": "markdown",
          "checksum": "e44b2f3971c79d43c75c12bce821c4d9",
          "grade": false,
          "grade_id": "Exercicio8-descricao",
          "locked": true,
          "schema_version": 3,
          "solution": false,
          "task": false
        },
        "id": "79eca3d1"
      },
      "source": [
        "# Exercício 8\n",
        "\n",
        "Faça um Programa para uma loja de tintas. O programa deverá pedir o tamanho em metros quadrados da área a ser pintada. Considere que a cobertura da tinta é de 1 litro para cada 12 metros quadrados e que a tinta é vendida em latas de 18 litros, que custam R$ 80,00 ou em galões de 3,6 litros, que custam R$ 25,00.\n",
        "\n",
        "Informe ao usuário as quantidades de tinta a serem compradas e os respectivos preços em 3 situações:\n",
        "\n",
        "    - comprar apenas latas de 18 litros;\n",
        "    - comprar apenas galões de 3,6 litros;\n",
        "    - misturar latas e galões, de forma que o desperdício de tinta seja menor. \n",
        "    \n",
        "Acrescente 10% de folga nos três casos (isto é, você deve adicionar 10% sobre o total de litros de tinta necessário) e sempre arredonde os valores para cima, isto é, considere latas cheias. \n",
        "\n"
      ]
    },
    {
      "cell_type": "code",
      "execution_count": 33,
      "id": "54c1e741",
      "metadata": {
        "deletable": false,
        "nbgrader": {
          "cell_type": "code",
          "checksum": "8f12ca6f898fe140e2eb04c84fc6c8f3",
          "grade": true,
          "grade_id": "Exercicio8",
          "locked": false,
          "points": 2,
          "schema_version": 3,
          "solution": true,
          "task": false
        },
        "id": "54c1e741",
        "colab": {
          "base_uri": "https://localhost:8080/"
        },
        "outputId": "6c97f6cd-8d6e-4bce-94d7-e1187a26f979"
      },
      "outputs": [
        {
          "output_type": "stream",
          "name": "stdout",
          "text": [
            "Insira quantos metros quadrados serão pintados:150\n",
            "Serão usadas 1 latas de tintas, e o valor total é de: R$: 88.0\n",
            "Serão usados 3 galões de tintas, e o valor total é de: R$: 82.5\n",
            "Serão usadas 1 latas de tintas, -2 galões e o valor total é de: R$: 30\n"
          ]
        }
      ],
      "source": [
        "t = float(input(\"Insira quantos metros quadrados serão pintados:\"))\n",
        "l = (t/12)\n",
        "\n",
        "##Latas\n",
        "\n",
        "lata = round((l/18))\n",
        "lf = lata + (lata*0.1)\n",
        "pl = round((lf*80),2)\n",
        "\n",
        "##Galões\n",
        "\n",
        "g = round((l/3.6))\n",
        "gf = g + (g*0.1)\n",
        "pg = round((gf*25),2)\n",
        "\n",
        "##Latas e galões\n",
        "\n",
        "ml = round(l/18)\n",
        "mg = round(((l-(ml*18))/3.6))\n",
        "pm = round(((ml*80)+(mg*25)),2)\n",
        "\n",
        "print(\"Serão usadas {} latas de tintas, e o valor total é de: R$: {}\".format (lata, pl))\n",
        "print(\"Serão usados {} galões de tintas, e o valor total é de: R$: {}\".format (g, pg))\n",
        "print(\"Serão usadas {} latas de tintas, {} galões e o valor total é de: R$: {}\".format (ml, mg, pm))"
      ]
    }
  ],
  "metadata": {
    "kernelspec": {
      "display_name": "Python 3 (ipykernel)",
      "language": "python",
      "name": "python3"
    },
    "language_info": {
      "codemirror_mode": {
        "name": "ipython",
        "version": 3
      },
      "file_extension": ".py",
      "mimetype": "text/x-python",
      "name": "python",
      "nbconvert_exporter": "python",
      "pygments_lexer": "ipython3",
      "version": "3.9.7"
    },
    "colab": {
      "name": "Semana1.ipynb",
      "provenance": [],
      "collapsed_sections": []
    }
  },
  "nbformat": 4,
  "nbformat_minor": 5
}