{
  "cells": [
    {
      "cell_type": "markdown",
      "id": "5f82cbf3",
      "metadata": {
        "deletable": false,
        "editable": false,
        "nbgrader": {
          "cell_type": "markdown",
          "checksum": "f1f911b3ba8050e102209c62c8db3f57",
          "grade": false,
          "grade_id": "Exercicio1-descricao",
          "locked": true,
          "schema_version": 3,
          "solution": false,
          "task": false
        },
        "id": "5f82cbf3"
      },
      "source": [
        "# Exercício 1\n",
        "\n",
        "Faça um programa que peça um número e armazene-o em uma variável. A seguir, mostre a mensagem \"O número informado foi [número]\""
      ]
    },
    {
      "cell_type": "code",
      "execution_count": null,
      "id": "98f0fd7a",
      "metadata": {
        "deletable": false,
        "nbgrader": {
          "cell_type": "code",
          "checksum": "74fb8b9b0c1978c0db15aa13a5696150",
          "grade": true,
          "grade_id": "Exercicio1",
          "locked": false,
          "points": 1,
          "schema_version": 3,
          "solution": true,
          "task": false
        },
        "id": "98f0fd7a",
        "colab": {
          "base_uri": "https://localhost:8080/"
        },
        "outputId": "834b0112-d43c-4e42-9703-fafb52fe47c0"
      },
      "outputs": [
        {
          "output_type": "stream",
          "name": "stdout",
          "text": [
            "Digite um número 5\n",
            "O número informado foi 5\n"
          ]
        }
      ],
      "source": [
        "num = int(input(\"Digite um número \"))\n",
        "print(\"O número informado foi\", num)"
      ]
    },
    {
      "cell_type": "markdown",
      "id": "dd8c0af2",
      "metadata": {
        "deletable": false,
        "editable": false,
        "nbgrader": {
          "cell_type": "markdown",
          "checksum": "e1645b130e5fd8363c5a31803d8a6730",
          "grade": false,
          "grade_id": "Exercicio2-descricao",
          "locked": true,
          "schema_version": 3,
          "solution": false,
          "task": false
        },
        "id": "dd8c0af2"
      },
      "source": [
        "# Exercício 2\n",
        "\n",
        "Faça um Programa que peça o raio de um círculo, calcule e mostre sua área.\n",
        "Dica: para usar o valor de $\\pi$, pesquise por `math.pi`."
      ]
    },
    {
      "cell_type": "code",
      "execution_count": null,
      "id": "407e7f33",
      "metadata": {
        "deletable": false,
        "nbgrader": {
          "cell_type": "code",
          "checksum": "41ef7b01abeaa8d74e2893a5054fb644",
          "grade": true,
          "grade_id": "Exercicio2",
          "locked": false,
          "points": 1,
          "schema_version": 3,
          "solution": true,
          "task": false
        },
        "id": "407e7f33",
        "colab": {
          "base_uri": "https://localhost:8080/"
        },
        "outputId": "1312e5d7-9e39-45f4-90d6-b9d2f563dab8"
      },
      "outputs": [
        {
          "output_type": "stream",
          "name": "stdout",
          "text": [
            "Digite o raio do circulo: 20\n",
            "A área do circulo é:  1256.6370614359173\n"
          ]
        }
      ],
      "source": [
        "import math\n",
        "raio = int(input(\"Digite o raio do circulo: \"))\n",
        "area = math.pi * (raio * raio)\n",
        "print(\"A área do circulo é: \", area)"
      ]
    },
    {
      "cell_type": "markdown",
      "id": "868cfe1c",
      "metadata": {
        "deletable": false,
        "editable": false,
        "nbgrader": {
          "cell_type": "markdown",
          "checksum": "83a396c8ae7ca1696f25c00d928c9d55",
          "grade": false,
          "grade_id": "Exercicio3-descricao",
          "locked": true,
          "schema_version": 3,
          "solution": false,
          "task": false
        },
        "id": "868cfe1c"
      },
      "source": [
        "# Exercício 3\n",
        "\n",
        "Faça um Programa que peça 2 números inteiros e um número real. Calcule e mostre:\n",
        "\n",
        "   - o produto do dobro do primeiro com metade do segundo .\n",
        "   - a soma do triplo do primeiro com o terceiro.\n",
        "   - o terceiro elevado ao cubo. "
      ]
    },
    {
      "cell_type": "code",
      "execution_count": null,
      "id": "0f2c4944",
      "metadata": {
        "deletable": false,
        "nbgrader": {
          "cell_type": "code",
          "checksum": "01db6a60d8afd153075785a9f8e10ea5",
          "grade": true,
          "grade_id": "Exercicio3",
          "locked": false,
          "points": 1,
          "schema_version": 3,
          "solution": true,
          "task": false
        },
        "id": "0f2c4944",
        "colab": {
          "base_uri": "https://localhost:8080/"
        },
        "outputId": "ce0e7d1b-0ef6-4ff6-f177-00c5bfd93510"
      },
      "outputs": [
        {
          "output_type": "stream",
          "name": "stdout",
          "text": [
            "Digite um número inteiro: 4\n",
            "Digite um número inteiro: 4\n",
            "Digite um número real: 2\n",
            "Produto do dobro do primeiro com metade do segundo 10.0\n",
            "Soma do triplo do primeiro com o terceiro 14.0\n",
            "Terceiro elevado ao cubo 8.0\n"
          ]
        }
      ],
      "source": [
        "int1 = int(input(\"Digite um número inteiro: \"))\n",
        "int2 = int(input(\"Digite um número inteiro: \"))\n",
        "real = float(input(\"Digite um número real: \"))\n",
        "a = (int1+int1)+(int2/2)\n",
        "x = (int1*3)+real\n",
        "y = real**3\n",
        "print(\"Produto do dobro do primeiro com metade do segundo\", a)\n",
        "print(\"Soma do triplo do primeiro com o terceiro\", x)\n",
        "print(\"Terceiro elevado ao cubo\", y)\n"
      ]
    },
    {
      "cell_type": "markdown",
      "id": "d3996f2c",
      "metadata": {
        "deletable": false,
        "editable": false,
        "nbgrader": {
          "cell_type": "markdown",
          "checksum": "dbee5e0c5c9a02ca7b0fbcbf0c5018fd",
          "grade": false,
          "grade_id": "Exercicio4-descricao",
          "locked": true,
          "schema_version": 3,
          "solution": false,
          "task": false
        },
        "id": "d3996f2c"
      },
      "source": [
        "# Exercício 4\n",
        "\n",
        "Faça um programa que pergunte quanto você ganha por hora e o número de horas trabalhadas na semana. Calcule e mostre o total do seu salário ao final de 4 semanas. "
      ]
    },
    {
      "cell_type": "code",
      "execution_count": null,
      "id": "5a307587",
      "metadata": {
        "deletable": false,
        "nbgrader": {
          "cell_type": "code",
          "checksum": "e511551fc875680ccd9679f9b2c21414",
          "grade": true,
          "grade_id": "Exercicio4",
          "locked": false,
          "points": 1,
          "schema_version": 3,
          "solution": true,
          "task": false
        },
        "id": "5a307587",
        "colab": {
          "base_uri": "https://localhost:8080/"
        },
        "outputId": "2e0d4c6d-666a-449c-98da-a56cbdbfce60"
      },
      "outputs": [
        {
          "output_type": "stream",
          "name": "stdout",
          "text": [
            "Quanto você ganha por hora? 20\n",
            "Você trabalha quantas horas por semana? 60\n",
            "O total do seu salário em 4 semanas é:  4800.0\n"
          ]
        }
      ],
      "source": [
        "hora = float(input(\"Quanto você ganha por hora? \"))\n",
        "sem = float(input(\"Você trabalha quantas horas por semana? \"))\n",
        "x = (hora*sem)*4\n",
        "print(\"O total do seu salário em 4 semanas é: \", x)\n"
      ]
    },
    {
      "cell_type": "markdown",
      "id": "d5088446",
      "metadata": {
        "deletable": false,
        "editable": false,
        "nbgrader": {
          "cell_type": "markdown",
          "checksum": "c82b175f45419cc78a6f0efc08f9ab15",
          "grade": false,
          "grade_id": "Exercicio5-descricao",
          "locked": true,
          "schema_version": 3,
          "solution": false,
          "task": false
        },
        "id": "d5088446"
      },
      "source": [
        "# Exercício 5\n",
        "\n",
        "Faça um programa que leia um número inteiro qualquer e que apresete, além do número informado, o seu antecessor e do seu sucessor."
      ]
    },
    {
      "cell_type": "code",
      "source": [
        "a = int(input(\"Digite um número inteiro: \"))\n",
        "x = a + 1\n",
        "y = a - 1\n",
        "print(f\"Antecessor {y}, sucessor {x}\")"
      ],
      "metadata": {
        "id": "czDrmZFHHaup",
        "colab": {
          "base_uri": "https://localhost:8080/"
        },
        "outputId": "8f47c49d-731e-4b5e-ad54-7e21fc7ca0f1"
      },
      "id": "czDrmZFHHaup",
      "execution_count": null,
      "outputs": [
        {
          "output_type": "stream",
          "name": "stdout",
          "text": [
            "Digite um número inteiro: -9\n",
            "Antecessor -10, sucessor -8\n"
          ]
        }
      ]
    },
    {
      "cell_type": "markdown",
      "id": "57a3fb31",
      "metadata": {
        "deletable": false,
        "editable": false,
        "nbgrader": {
          "cell_type": "markdown",
          "checksum": "537bdb2e45ec13ee95cea397e02744f2",
          "grade": false,
          "grade_id": "Exercicio6-descricao",
          "locked": true,
          "schema_version": 3,
          "solution": false,
          "task": false
        },
        "id": "57a3fb31"
      },
      "source": [
        "# Exercício 6\n",
        "\n",
        "Faça um programa que leia quatro notas, e seus respectivos pesos, e que apresente a média final simples e a média final ponderada."
      ]
    },
    {
      "cell_type": "code",
      "source": [
        "n1 = float(input(\"Digite a primeira nota: \"))\n",
        "p1 = float(input(\"Digite o peso da primeira nota: \"))\n",
        "n2 = float(input(\"Digite a segunda nota: \"))\n",
        "p2 = float(input(\"Digite o peso da segunda nota: \"))\n",
        "n3 = float(input(\"Digite a terceira nota: \"))\n",
        "p3 = float(input(\"Digite o peso da terceira nota: \"))\n",
        "n4 = float(input(\"Digite a quarta nota: \"))\n",
        "p4 = float(input(\"Digite o peso da quarta nota: \"))\n",
        "sim = (n1+n2+n3+n4)/4\n",
        "pon = ((n1 * p1) + (n2 * p2) + (n3 * p3) + (n4 * p4)) / (p1 + p2 + p3 + p4)\n",
        "print(f\"Sua média final simples é: {sim}, Sua média final ponderada é: {pon}\")"
      ],
      "metadata": {
        "colab": {
          "base_uri": "https://localhost:8080/"
        },
        "id": "6gc3mA57FOKf",
        "outputId": "f3d02c15-97f0-42b2-b8c7-c1804e3d0d12"
      },
      "id": "6gc3mA57FOKf",
      "execution_count": null,
      "outputs": [
        {
          "output_type": "stream",
          "name": "stdout",
          "text": [
            "Digite a primeira nota: 10\n",
            "Digite o peso da primeira nota: 5\n",
            "Digite a segunda nota: 9\n",
            "Digite o peso da segunda nota: 4\n",
            "Digite a terceira nota: 8\n",
            "Digite o peso da terceira nota: 3\n",
            "Digite a quarta nota: 7\n",
            "Digite o peso da quarta nota: 2\n",
            "Sua média final simples é: 8.5, Sua média final ponderada é: 8.857142857142858\n"
          ]
        }
      ]
    },
    {
      "cell_type": "markdown",
      "id": "da81404d",
      "metadata": {
        "deletable": false,
        "editable": false,
        "nbgrader": {
          "cell_type": "markdown",
          "checksum": "6f91f7198e36290a15c6547e839a5885",
          "grade": false,
          "grade_id": "Exercicio7-descricao",
          "locked": true,
          "schema_version": 3,
          "solution": false,
          "task": false
        },
        "id": "da81404d"
      },
      "source": [
        "# Exercício 7\n",
        "\n",
        "Faça um programa para uma loja de tintas. O programa deverá pedir o tamanho em metros quadrados da área a ser pintada. Considere que a cobertura da tinta é de 1 litro para cada 12 metros quadrados e que a tinta é vendida em latas de 18 litros, que custam R$ 80,00. Informe ao usuário a quantidades de latas de tinta a serem compradas e o preço total. "
      ]
    },
    {
      "cell_type": "code",
      "execution_count": null,
      "id": "2a1f6a9c",
      "metadata": {
        "deletable": false,
        "nbgrader": {
          "cell_type": "code",
          "checksum": "0b356a405bcdf2f889a9a95d9a196d61",
          "grade": true,
          "grade_id": "Exercicio7",
          "locked": false,
          "points": 2,
          "schema_version": 3,
          "solution": true,
          "task": false
        },
        "id": "2a1f6a9c",
        "colab": {
          "base_uri": "https://localhost:8080/"
        },
        "outputId": "7234426c-f0ba-4370-e467-20a97ce2eaff"
      },
      "outputs": [
        {
          "output_type": "stream",
          "name": "stdout",
          "text": [
            "Digite o tamanho em metros quadrados da área a ser pintada: 200\n",
            "Você deve comprar 2 latas de tinta, no preço total de R$ 160 reais\n"
          ]
        }
      ],
      "source": [
        "import math\n",
        "area = float(input(\"Digite o tamanho em metros quadrados da área a ser pintada: \"))\n",
        "preci = area*1.1\n",
        "used = preci/12\n",
        "numero = math.ceil(used/18)\n",
        "preço = numero*80\n",
        "print(f\"Você deve comprar {numero} latas de tinta, no preço total de R$ {preço} reais\")"
      ]
    },
    {
      "cell_type": "markdown",
      "id": "79eca3d1",
      "metadata": {
        "deletable": false,
        "editable": false,
        "nbgrader": {
          "cell_type": "markdown",
          "checksum": "e44b2f3971c79d43c75c12bce821c4d9",
          "grade": false,
          "grade_id": "Exercicio8-descricao",
          "locked": true,
          "schema_version": 3,
          "solution": false,
          "task": false
        },
        "id": "79eca3d1"
      },
      "source": [
        "# Exercício 8\n",
        "\n",
        "Faça um Programa para uma loja de tintas. O programa deverá pedir o tamanho em metros quadrados da área a ser pintada. Considere que a cobertura da tinta é de 1 litro para cada 12 metros quadrados e que a tinta é vendida em latas de 18 litros, que custam R$ 80,00 ou em galões de 3,6 litros, que custam R$ 25,00.\n",
        "\n",
        "Informe ao usuário as quantidades de tinta a serem compradas e os respectivos preços em 3 situações:\n",
        "\n",
        "    - comprar apenas latas de 18 litros;\n",
        "    - comprar apenas galões de 3,6 litros;\n",
        "    - misturar latas e galões, de forma que o desperdício de tinta seja menor. \n",
        "    \n",
        "Acrescente 10% de folga nos três casos (isto é, você deve adicionar 10% sobre o total de litros de tinta necessário) e sempre arredonde os valores para cima, isto é, considere latas cheias. \n",
        "\n"
      ]
    },
    {
      "cell_type": "code",
      "execution_count": null,
      "metadata": {
        "deletable": false,
        "nbgrader": {
          "cell_type": "code",
          "checksum": "0b356a405bcdf2f889a9a95d9a196d61",
          "grade": true,
          "grade_id": "Exercicio7",
          "locked": false,
          "points": 2,
          "schema_version": 3,
          "solution": true,
          "task": false
        },
        "colab": {
          "base_uri": "https://localhost:8080/"
        },
        "outputId": "f6511f98-babd-4aa5-98c2-468d01159c1d",
        "id": "pKmEOO2mjI6J"
      },
      "outputs": [
        {
          "output_type": "stream",
          "name": "stdout",
          "text": [
            "Digite o tamanho em metros quadrados da área a ser pintada: 400\n",
            "Você deve comprar 3 latas de tinta, no preço total de R$ 240 reais\n",
            "Você deve comprar 11 galões de tinta, no preço total de R$ 275 reais\n",
            "Você deve comprar 2 latas de 18 litros e 1 galões de 3.6 litros, no preço total de R$ 185 reais\n"
          ]
        }
      ],
      "source": [
        "import math\n",
        "area = int(input(\"Digite o tamanho em metros quadrados da área a ser pintada: \"))\n",
        "preci = area*1.1\n",
        "metro = 12\n",
        "used = preci/metro\n",
        "lata = 18\n",
        "numero = math.ceil(used/lata)\n",
        "preço = numero*80\n",
        "print(f\"Você deve comprar {numero} latas de tinta, no preço total de R$ {preço} reais\")\n",
        "\n",
        "#Galão\n",
        "galao = 3.6\n",
        "numero_g = math.ceil(used/galao)\n",
        "preço_g = numero_g*25\n",
        "print(f\"Você deve comprar {numero_g} galões de tinta, no preço total de R$ {preço_g} reais\")\n",
        "\n",
        "#Desperdicio\n",
        "\n",
        "numero = math.floor(used/lata)\n",
        "latas_valor = numero*80\n",
        "exceto = used % lata\n",
        "numero_g = math.ceil(exceto/galao)\n",
        "galoes_valor = numero_g*25\n",
        "total = latas_valor + galoes_valor\n",
        "print(f\"Você deve comprar {numero} latas de 18 litros e {numero_g} galões de 3.6 litros, no preço total de R$ {total} reais\")\n",
        "\n"
      ],
      "id": "pKmEOO2mjI6J"
    }
  ],
  "metadata": {
    "kernelspec": {
      "display_name": "Python 3 (ipykernel)",
      "language": "python",
      "name": "python3"
    },
    "language_info": {
      "codemirror_mode": {
        "name": "ipython",
        "version": 3
      },
      "file_extension": ".py",
      "mimetype": "text/x-python",
      "name": "python",
      "nbconvert_exporter": "python",
      "pygments_lexer": "ipython3",
      "version": "3.9.7"
    },
    "colab": {
      "name": "Semana1.ipynb",
      "provenance": [],
      "collapsed_sections": []
    }
  },
  "nbformat": 4,
  "nbformat_minor": 5
}