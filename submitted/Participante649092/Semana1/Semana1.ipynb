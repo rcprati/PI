{
  "cells": [
    {
      "cell_type": "markdown",
      "id": "d4a1d469",
      "metadata": {
        "id": "d4a1d469"
      },
      "source": [
        "# Instruções\n",
        "\n",
        "- Antes de resolver esses exercícios, certifique-se que a configuração está correta (Python 3).\n",
        "\n",
        "- Se estiver usando o Colab, faça uma cópia deste notebook antes de começar a repondê-lo.\n",
        "\n",
        "![](http://professor.ufabc.edu.br/~ronaldo.prati/colab.png)\n",
        "\n",
        "- Lembre-se de manter o nome do caderno com o mesmo nome original.\n",
        "\n",
        "- Não apague nem introduza novas células neste notebook.\n",
        "\n",
        "- Certifique-se que você preencheu todos os lugares que dizem \\\"YOUR CODE HERE\\\" ou \\\"YOUR ANSWER HERE\\\". Substitutua essa linha e também a linha `raise NotImplementedError()` pelo seu código.\n",
        "\n",
        "- Depois de resolver os exercícios, para enviar a atividade, salve o notebook e o envie pelo moodle da disciplina. No colab, para exportar o notebook localmente, acesse `File->Download->Download .ipynb` ou `Arquivo->Baixar->Baixar .ipynb`\n",
        "\n",
        "![](http://professor.ufabc.edu.br/~ronaldo.prati/submit.png)"
      ]
    },
    {
      "cell_type": "markdown",
      "id": "5f82cbf3",
      "metadata": {
        "deletable": false,
        "editable": false,
        "nbgrader": {
          "cell_type": "markdown",
          "checksum": "f1f911b3ba8050e102209c62c8db3f57",
          "grade": false,
          "grade_id": "Exercicio1-descricao",
          "locked": true,
          "schema_version": 3,
          "solution": false,
          "task": false
        },
        "id": "5f82cbf3"
      },
      "source": [
        "# Exercício 1\n",
        "\n",
        "Faça um programa que peça um número e armazene-o em uma variável. A seguir, mostre a mensagem \"O número informado foi [número]\""
      ]
    },
    {
      "cell_type": "code",
      "execution_count": 84,
      "id": "98f0fd7a",
      "metadata": {
        "deletable": false,
        "nbgrader": {
          "cell_type": "code",
          "checksum": "74fb8b9b0c1978c0db15aa13a5696150",
          "grade": true,
          "grade_id": "Exercicio1",
          "locked": false,
          "points": 1,
          "schema_version": 3,
          "solution": true,
          "task": false
        },
        "id": "98f0fd7a",
        "colab": {
          "base_uri": "https://localhost:8080/"
        },
        "outputId": "82d2c8ac-4e13-4876-f083-7da884cc4ba8"
      },
      "outputs": [
        {
          "output_type": "stream",
          "name": "stdout",
          "text": [
            "Entre com um número: 4\n",
            "O número informado foi 4.0\n"
          ]
        }
      ],
      "source": [
        "n = float(input(\"Entre com um número: \"))\n",
        "\n",
        "numero_informado = n\n",
        "print(\"O número informado foi\", numero_informado)\n",
        "\n"
      ]
    },
    {
      "cell_type": "markdown",
      "id": "dd8c0af2",
      "metadata": {
        "deletable": false,
        "editable": false,
        "nbgrader": {
          "cell_type": "markdown",
          "checksum": "e1645b130e5fd8363c5a31803d8a6730",
          "grade": false,
          "grade_id": "Exercicio2-descricao",
          "locked": true,
          "schema_version": 3,
          "solution": false,
          "task": false
        },
        "id": "dd8c0af2"
      },
      "source": [
        "# Exercício 2\n",
        "\n",
        "Faça um Programa que peça o raio de um círculo, calcule e mostre sua área.\n",
        "Dica: para usar o valor de $\\pi$, pesquise por `math.pi`."
      ]
    },
    {
      "cell_type": "code",
      "execution_count": 85,
      "id": "407e7f33",
      "metadata": {
        "deletable": false,
        "nbgrader": {
          "cell_type": "code",
          "checksum": "41ef7b01abeaa8d74e2893a5054fb644",
          "grade": true,
          "grade_id": "Exercicio2",
          "locked": false,
          "points": 1,
          "schema_version": 3,
          "solution": true,
          "task": false
        },
        "id": "407e7f33",
        "colab": {
          "base_uri": "https://localhost:8080/"
        },
        "outputId": "01b37a47-6e7f-4d37-b24f-34ac7449f345"
      },
      "outputs": [
        {
          "output_type": "stream",
          "name": "stdout",
          "text": [
            "Entre com o raio do círculo: 5\n",
            "A área do círculo é: 78.53981633974483\n"
          ]
        }
      ],
      "source": [
        "import math\n",
        "r = float(input(\"Entre com o raio do círculo: \"))\n",
        "\n",
        "area_do_circulo = (math.pi*(r**2))\n",
        "print(\"A área do círculo é:\", area_do_circulo)\n"
      ]
    },
    {
      "cell_type": "markdown",
      "id": "868cfe1c",
      "metadata": {
        "deletable": false,
        "editable": false,
        "nbgrader": {
          "cell_type": "markdown",
          "checksum": "83a396c8ae7ca1696f25c00d928c9d55",
          "grade": false,
          "grade_id": "Exercicio3-descricao",
          "locked": true,
          "schema_version": 3,
          "solution": false,
          "task": false
        },
        "id": "868cfe1c"
      },
      "source": [
        "# Exercício 3\n",
        "\n",
        "Faça um Programa que peça 2 números inteiros e um número real. Calcule e mostre:\n",
        "\n",
        "   - o produto do dobro do primeiro com metade do segundo .\n",
        "   - a soma do triplo do primeiro com o terceiro.\n",
        "   - o terceiro elevado ao cubo. "
      ]
    },
    {
      "cell_type": "code",
      "execution_count": 72,
      "id": "0f2c4944",
      "metadata": {
        "deletable": false,
        "nbgrader": {
          "cell_type": "code",
          "checksum": "01db6a60d8afd153075785a9f8e10ea5",
          "grade": true,
          "grade_id": "Exercicio3",
          "locked": false,
          "points": 1,
          "schema_version": 3,
          "solution": true,
          "task": false
        },
        "id": "0f2c4944",
        "colab": {
          "base_uri": "https://localhost:8080/"
        },
        "outputId": "caf44a97-dcc3-457b-e66b-674a4e33fa76"
      },
      "outputs": [
        {
          "output_type": "stream",
          "name": "stdout",
          "text": [
            "Entre com um número inteiro: 5\n",
            "Entre com outro número inteiro: -7\n",
            "Entre com um número real: 10\n",
            "O produto do dobro do primeiro nº com a metade do segundo nº é: -35.0\n",
            "A soma do triplo do primeiro nº com o terceiro nº é: 25.0\n",
            "O terceiro nº elevado ao cubo é: 1000.0\n"
          ]
        }
      ],
      "source": [
        "x = float(input(\"Entre com um número inteiro: \"))\n",
        "y = int(input(\"Entre com outro número inteiro: \"))\n",
        "z = float(input(\"Entre com um número real: \"))\n",
        "\n",
        "operaçao_1 = (2*x)*(y/2)\n",
        "operaçao_2 = (3*x)+z\n",
        "operaçao_3 = z**3\n",
        "\n",
        "print(\"O produto do dobro do primeiro nº com a metade do segundo nº é:\", operaçao_1)\n",
        "print(\"A soma do triplo do primeiro nº com o terceiro nº é:\", operaçao_2)\n",
        "print(\"O terceiro nº elevado ao cubo é:\", operaçao_3)"
      ]
    },
    {
      "cell_type": "markdown",
      "id": "d3996f2c",
      "metadata": {
        "deletable": false,
        "editable": false,
        "nbgrader": {
          "cell_type": "markdown",
          "checksum": "dbee5e0c5c9a02ca7b0fbcbf0c5018fd",
          "grade": false,
          "grade_id": "Exercicio4-descricao",
          "locked": true,
          "schema_version": 3,
          "solution": false,
          "task": false
        },
        "id": "d3996f2c"
      },
      "source": [
        "# Exercício 4\n",
        "\n",
        "Faça um programa que pergunte quanto você ganha por hora e o número de horas trabalhadas na semana. Calcule e mostre o total do seu salário ao final de 4 semanas. "
      ]
    },
    {
      "cell_type": "code",
      "execution_count": 71,
      "id": "5a307587",
      "metadata": {
        "deletable": false,
        "nbgrader": {
          "cell_type": "code",
          "checksum": "e511551fc875680ccd9679f9b2c21414",
          "grade": true,
          "grade_id": "Exercicio4",
          "locked": false,
          "points": 1,
          "schema_version": 3,
          "solution": true,
          "task": false
        },
        "id": "5a307587",
        "colab": {
          "base_uri": "https://localhost:8080/"
        },
        "outputId": "cbd90242-1367-4f6a-9e3b-ba4a893c307f"
      },
      "outputs": [
        {
          "output_type": "stream",
          "name": "stdout",
          "text": [
            "Informe quanto você ganha por hora: R$ 5\n",
            "Informe a quantidade de horas trabalhadas na semana: 4\n",
            "O seu salário ao final de 4 semanas é de: R$ 80.0\n"
          ]
        }
      ],
      "source": [
        "pagamento_hora = float(input(\"Informe quanto você ganha por hora: R$ \"))\n",
        "horas_semanais = float(input(\"Informe a quantidade de horas trabalhadas na semana: \"))\n",
        "\n",
        "salario_mensal = (pagamento_hora*horas_semanais)*4\n",
        "\n",
        "print(\"O seu salário ao final de 4 semanas é de: R$\", salario_mensal)\n"
      ]
    },
    {
      "cell_type": "markdown",
      "id": "d5088446",
      "metadata": {
        "deletable": false,
        "editable": false,
        "nbgrader": {
          "cell_type": "markdown",
          "checksum": "c82b175f45419cc78a6f0efc08f9ab15",
          "grade": false,
          "grade_id": "Exercicio5-descricao",
          "locked": true,
          "schema_version": 3,
          "solution": false,
          "task": false
        },
        "id": "d5088446"
      },
      "source": [
        "# Exercício 5\n",
        "\n",
        "Faça um programa que leia um número inteiro qualquer e que apresete, além do número informado, o seu antecessor e do seu sucessor."
      ]
    },
    {
      "cell_type": "code",
      "execution_count": 70,
      "id": "a09fcc89",
      "metadata": {
        "deletable": false,
        "nbgrader": {
          "cell_type": "code",
          "checksum": "9f693e117e3e2158f95ee76dc96292a0",
          "grade": true,
          "grade_id": "Exercicio5",
          "locked": false,
          "points": 1,
          "schema_version": 3,
          "solution": true,
          "task": false
        },
        "id": "a09fcc89",
        "colab": {
          "base_uri": "https://localhost:8080/"
        },
        "outputId": "1cb3acc3-1d64-465a-83c6-b4ff28c3a5ce"
      },
      "outputs": [
        {
          "output_type": "stream",
          "name": "stdout",
          "text": [
            "Entre com um número inteiro: 5\n",
            "O número informado foi: 5\n",
            "O número antecessor ao número informado é: 4\n",
            "O número sucessor ao número informado é: 6\n"
          ]
        }
      ],
      "source": [
        "n = int(input(\"Entre com um número inteiro: \"))\n",
        "\n",
        "antecessor = n-1\n",
        "sucessor = n+1\n",
        "\n",
        "print(\"O número informado foi:\", n)\n",
        "print(\"O número antecessor ao número informado é:\", antecessor)\n",
        "print(\"O número sucessor ao número informado é:\", sucessor)\n"
      ]
    },
    {
      "cell_type": "markdown",
      "id": "57a3fb31",
      "metadata": {
        "deletable": false,
        "editable": false,
        "nbgrader": {
          "cell_type": "markdown",
          "checksum": "537bdb2e45ec13ee95cea397e02744f2",
          "grade": false,
          "grade_id": "Exercicio6-descricao",
          "locked": true,
          "schema_version": 3,
          "solution": false,
          "task": false
        },
        "id": "57a3fb31"
      },
      "source": [
        "# Exercício 6\n",
        "\n",
        "Faça um programa que leia quatro notas, e seus respectivos pesos, e que apresente a média final simples e a média final ponderada."
      ]
    },
    {
      "cell_type": "code",
      "execution_count": 79,
      "id": "10e12fd4",
      "metadata": {
        "deletable": false,
        "nbgrader": {
          "cell_type": "code",
          "checksum": "ff1bbd3e5c18dc73d5e0328c41d74739",
          "grade": true,
          "grade_id": "Exercicio6",
          "locked": false,
          "points": 1,
          "schema_version": 3,
          "solution": true,
          "task": false
        },
        "id": "10e12fd4",
        "colab": {
          "base_uri": "https://localhost:8080/"
        },
        "outputId": "a0af9cea-87c7-4dd1-f861-9ab58424ef66"
      },
      "outputs": [
        {
          "output_type": "stream",
          "name": "stdout",
          "text": [
            "Informe a primeiro nota: 4\n",
            "Informe a segunda nota: 5\n",
            "Informe a terceira nota: 6\n",
            "Informe a quarta nota: 8\n",
            "Informe o peso da primeira nota: 2\n",
            "Informe o peso da segunda nota: 3\n",
            "Informe o peso da terceira nota: 3\n",
            "Informe o peso da quarta nota: 2\n",
            "Média Final simples: 5.75 // Média Final poderada: 5.7\n"
          ]
        }
      ],
      "source": [
        "nota_1 = float(input(\"Informe a primeiro nota: \"))\n",
        "nota_2 = float(input(\"Informe a segunda nota: \"))\n",
        "nota_3 = float(input(\"Informe a terceira nota: \"))\n",
        "nota_4 = float(input(\"Informe a quarta nota: \"))\n",
        "peso_n1 = float(input(\"Informe o peso da primeira nota: \"))\n",
        "peso_n2 = float(input(\"Informe o peso da segunda nota: \"))\n",
        "peso_n3 = float(input(\"Informe o peso da terceira nota: \"))\n",
        "peso_n4 = float(input(\"Informe o peso da quarta nota: \"))\n",
        "\n",
        "media_simples = ( nota_1 + nota_2 + nota_3 + nota_4 )/4\n",
        "media_ponderada = ( peso_n1*nota_1 + peso_n2*nota_2 + peso_n3*nota_3 + peso_n4*nota_4)/(peso_n1 + peso_n2 + peso_n3 + peso_n4)\n",
        "print(\"Média Final simples:\", media_simples, \"// Média Final poderada:\", media_ponderada)"
      ]
    },
    {
      "cell_type": "markdown",
      "id": "da81404d",
      "metadata": {
        "deletable": false,
        "editable": false,
        "nbgrader": {
          "cell_type": "markdown",
          "checksum": "6f91f7198e36290a15c6547e839a5885",
          "grade": false,
          "grade_id": "Exercicio7-descricao",
          "locked": true,
          "schema_version": 3,
          "solution": false,
          "task": false
        },
        "id": "da81404d"
      },
      "source": [
        "# Exercício 7\n",
        "\n",
        "Faça um programa para uma loja de tintas. O programa deverá pedir o tamanho em metros quadrados da área a ser pintada. Considere que a cobertura da tinta é de 1 litro para cada 12 metros quadrados e que a tinta é vendida em latas de 18 litros, que custam R$ 80,00. Informe ao usuário a quantidades de latas de tinta a serem compradas e o preço total. "
      ]
    },
    {
      "cell_type": "code",
      "execution_count": 69,
      "id": "2a1f6a9c",
      "metadata": {
        "deletable": false,
        "nbgrader": {
          "cell_type": "code",
          "checksum": "0b356a405bcdf2f889a9a95d9a196d61",
          "grade": true,
          "grade_id": "Exercicio7",
          "locked": false,
          "points": 2,
          "schema_version": 3,
          "solution": true,
          "task": false
        },
        "id": "2a1f6a9c",
        "colab": {
          "base_uri": "https://localhost:8080/"
        },
        "outputId": "28cb9433-d1d5-4fe3-8c29-d5f819c74565"
      },
      "outputs": [
        {
          "output_type": "stream",
          "name": "stdout",
          "text": [
            "Informe o tamanho em metros quadrados da área a ser pintada: 217\n",
            "A quantidade de latas de tinta necessária será: 2 // Preço Total: R$ 160\n"
          ]
        }
      ],
      "source": [
        "import math\n",
        "\n",
        "area = float(input(\"Informe o tamanho em metros quadrados da área a ser pintada: \"))\n",
        "\n",
        "#1 lITRO /12 metros \n",
        "#1 lata de 18 l --> 216m\n",
        "\n",
        "qnt_de_latas = math.ceil(area/216)\n",
        "preço_total = qnt_de_latas*80\n",
        "\n",
        "print(\"A quantidade de latas de tinta necessária será:\", qnt_de_latas, \"// Preço Total: R$\", preço_total)\n",
        "\n",
        "\n"
      ]
    },
    {
      "cell_type": "markdown",
      "id": "79eca3d1",
      "metadata": {
        "deletable": false,
        "editable": false,
        "nbgrader": {
          "cell_type": "markdown",
          "checksum": "e44b2f3971c79d43c75c12bce821c4d9",
          "grade": false,
          "grade_id": "Exercicio8-descricao",
          "locked": true,
          "schema_version": 3,
          "solution": false,
          "task": false
        },
        "id": "79eca3d1"
      },
      "source": [
        "# Exercício 8\n",
        "\n",
        "Faça um Programa para uma loja de tintas. O programa deverá pedir o tamanho em metros quadrados da área a ser pintada. Considere que a cobertura da tinta é de 1 litro para cada 12 metros quadrados e que a tinta é vendida em latas de 18 litros, que custam R$ 80,00 ou em galões de 3,6 litros, que custam R$ 25,00.\n",
        "\n",
        "Informe ao usuário as quantidades de tinta a serem compradas e os respectivos preços em 3 situações:\n",
        "\n",
        "    - comprar apenas latas de 18 litros;\n",
        "    - comprar apenas galões de 3,6 litros;\n",
        "    - misturar latas e galões, de forma que o desperdício de tinta seja menor. \n",
        "    \n",
        "Acrescente 10% de folga nos três casos (isto é, você deve adicionar 10% sobre o total de litros de tinta necessário) e sempre arredonde os valores para cima, isto é, considere latas cheias. \n",
        "\n"
      ]
    },
    {
      "cell_type": "code",
      "execution_count": 83,
      "id": "54c1e741",
      "metadata": {
        "deletable": false,
        "nbgrader": {
          "cell_type": "code",
          "checksum": "8f12ca6f898fe140e2eb04c84fc6c8f3",
          "grade": true,
          "grade_id": "Exercicio8",
          "locked": false,
          "points": 2,
          "schema_version": 3,
          "solution": true,
          "task": false
        },
        "id": "54c1e741",
        "colab": {
          "base_uri": "https://localhost:8080/"
        },
        "outputId": "508e9e5d-c54b-4cbc-8ba8-74fa43625632"
      },
      "outputs": [
        {
          "output_type": "stream",
          "name": "stdout",
          "text": [
            "Informe o tamanho em metros quadrados da área a ser pinta: 217\n",
            "Apenas latas de 18 litros: 2 un.     // Preço: R$ 160\n",
            "Apenas galões de 3.6 litros: 6 un.  // Preço: R$ 150\n",
            "Mistura: 1 lata(s) e 1 galão(ões)   // Preço: R$ 105.00\n"
          ]
        }
      ],
      "source": [
        "import math\n",
        "\n",
        "area = float(input('Informe o tamanho em metros quadrados da área a ser pinta: '))\n",
        "\n",
        "litros = area / 12\n",
        "\n",
        "latas = math.ceil(litros / 18)\n",
        "\n",
        "preco_latas = latas * 80\n",
        "\n",
        "galoes = math.ceil(litros / 3.6)\n",
        "\n",
        "preco_galoes = galoes * 25\n",
        "\n",
        "# misturado\n",
        "mistura_lata = int(litros / 18.0)\n",
        "mistura_galao = int((litros - (mistura_lata * 18)) / 3.6)\n",
        "\n",
        "if litros - (mistura_lata * 18) % 3.6 != 0:\n",
        "    mistura_galao += 1\n",
        "\n",
        "print('Apenas latas de 18 litros:', latas,'un.', '    // Preço: R$', preco_latas)\n",
        "print('Apenas galões de 3.6 litros:', galoes,'un.', ' // Preço: R$', preco_galoes)\n",
        "print('Mistura: %d lata(s) e %d galão(ões)   // Preço: R$ %.2f' % (\n",
        "    mistura_lata, mistura_galao, ((mistura_lata * 80) + (mistura_galao * 25))))\n"
      ]
    }
  ],
  "metadata": {
    "kernelspec": {
      "display_name": "Python 3 (ipykernel)",
      "language": "python",
      "name": "python3"
    },
    "language_info": {
      "codemirror_mode": {
        "name": "ipython",
        "version": 3
      },
      "file_extension": ".py",
      "mimetype": "text/x-python",
      "name": "python",
      "nbconvert_exporter": "python",
      "pygments_lexer": "ipython3",
      "version": "3.9.7"
    },
    "colab": {
      "name": "Semana1_Carlos_Eduardo_Costa_Junior.ipynb",
      "provenance": [],
      "collapsed_sections": []
    }
  },
  "nbformat": 4,
  "nbformat_minor": 5
}