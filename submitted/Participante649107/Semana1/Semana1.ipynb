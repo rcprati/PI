{
  "cells": [
    {
      "cell_type": "markdown",
      "id": "d4a1d469",
      "metadata": {
        "id": "d4a1d469"
      },
      "source": [
        "# Instruções\n",
        "\n",
        "- Antes de resolver esses exercícios, certifique-se que a configuração está correta (Python 3).\n",
        "\n",
        "- Se estiver usando o Colab, faça uma cópia deste notebook antes de começar a repondê-lo.\n",
        "\n",
        "![](http://professor.ufabc.edu.br/~ronaldo.prati/colab.png)\n",
        "\n",
        "- Lembre-se de manter o nome do caderno com o mesmo nome original.\n",
        "\n",
        "- Não apague nem introduza novas células neste notebook.\n",
        "\n",
        "- Certifique-se que você preencheu todos os lugares que dizem \\\"YOUR CODE HERE\\\" ou \\\"YOUR ANSWER HERE\\\". Substitutua essa linha e também a linha `raise NotImplementedError()` pelo seu código.\n",
        "\n",
        "- Depois de resolver os exercícios, para enviar a atividade, salve o notebook e o envie pelo moodle da disciplina. No colab, para exportar o notebook localmente, acesse `File->Download->Download .ipynb` ou `Arquivo->Baixar->Baixar .ipynb`\n",
        "\n",
        "![](http://professor.ufabc.edu.br/~ronaldo.prati/submit.png)"
      ]
    },
    {
      "cell_type": "markdown",
      "id": "5f82cbf3",
      "metadata": {
        "deletable": false,
        "editable": false,
        "nbgrader": {
          "cell_type": "markdown",
          "checksum": "f1f911b3ba8050e102209c62c8db3f57",
          "grade": false,
          "grade_id": "Exercicio1-descricao",
          "locked": true,
          "schema_version": 3,
          "solution": false,
          "task": false
        },
        "id": "5f82cbf3"
      },
      "source": [
        "# Exercício 1\n",
        "\n",
        "Faça um programa que peça um número e armazene-o em uma variável. A seguir, mostre a mensagem \"O número informado foi [número]\""
      ]
    },
    {
      "cell_type": "code",
      "execution_count": 5,
      "id": "98f0fd7a",
      "metadata": {
        "deletable": false,
        "nbgrader": {
          "cell_type": "code",
          "checksum": "74fb8b9b0c1978c0db15aa13a5696150",
          "grade": true,
          "grade_id": "Exercicio1",
          "locked": false,
          "points": 1,
          "schema_version": 3,
          "solution": true,
          "task": false
        },
        "id": "98f0fd7a",
        "colab": {
          "base_uri": "https://localhost:8080/"
        },
        "outputId": "874f5e2c-d09b-488b-e14d-585a0410a149"
      },
      "outputs": [
        {
          "output_type": "stream",
          "name": "stdout",
          "text": [
            "Digite um número:10\n",
            "O número informado foi 10.0\n"
          ]
        }
      ],
      "source": [
        "a = float(input(\"Digite um número:\"))\n",
        "print(\"O número informado foi\", a)\n"
      ]
    },
    {
      "cell_type": "markdown",
      "id": "dd8c0af2",
      "metadata": {
        "deletable": false,
        "editable": false,
        "nbgrader": {
          "cell_type": "markdown",
          "checksum": "e1645b130e5fd8363c5a31803d8a6730",
          "grade": false,
          "grade_id": "Exercicio2-descricao",
          "locked": true,
          "schema_version": 3,
          "solution": false,
          "task": false
        },
        "id": "dd8c0af2"
      },
      "source": [
        "# Exercício 2\n",
        "\n",
        "Faça um Programa que peça o raio de um círculo, calcule e mostre sua área.\n",
        "Dica: para usar o valor de $\\pi$, pesquise por `math.pi`."
      ]
    },
    {
      "cell_type": "code",
      "execution_count": 7,
      "id": "407e7f33",
      "metadata": {
        "deletable": false,
        "nbgrader": {
          "cell_type": "code",
          "checksum": "41ef7b01abeaa8d74e2893a5054fb644",
          "grade": true,
          "grade_id": "Exercicio2",
          "locked": false,
          "points": 1,
          "schema_version": 3,
          "solution": true,
          "task": false
        },
        "id": "407e7f33",
        "colab": {
          "base_uri": "https://localhost:8080/"
        },
        "outputId": "2d54eded-3ce6-415f-a28a-43c506dc6a58"
      },
      "outputs": [
        {
          "output_type": "stream",
          "name": "stdout",
          "text": [
            "Digite o raio do círculo:5\n",
            "A área do círculo é 78.53981633974483\n"
          ]
        }
      ],
      "source": [
        "import math\n",
        "\n",
        "r = float(input(\"Digite o raio do círculo:\"))\n",
        "area = math.pi*r**2\n",
        "print(\"A área do círculo é\", area)"
      ]
    },
    {
      "cell_type": "markdown",
      "id": "868cfe1c",
      "metadata": {
        "deletable": false,
        "editable": false,
        "nbgrader": {
          "cell_type": "markdown",
          "checksum": "83a396c8ae7ca1696f25c00d928c9d55",
          "grade": false,
          "grade_id": "Exercicio3-descricao",
          "locked": true,
          "schema_version": 3,
          "solution": false,
          "task": false
        },
        "id": "868cfe1c"
      },
      "source": [
        "# Exercício 3\n",
        "\n",
        "Faça um Programa que peça 2 números inteiros e um número real. Calcule e mostre:\n",
        "\n",
        "   - o produto do dobro do primeiro com metade do segundo .\n",
        "   - a soma do triplo do primeiro com o terceiro.\n",
        "   - o terceiro elevado ao cubo. "
      ]
    },
    {
      "cell_type": "code",
      "execution_count": 8,
      "id": "0f2c4944",
      "metadata": {
        "deletable": false,
        "nbgrader": {
          "cell_type": "code",
          "checksum": "01db6a60d8afd153075785a9f8e10ea5",
          "grade": true,
          "grade_id": "Exercicio3",
          "locked": false,
          "points": 1,
          "schema_version": 3,
          "solution": true,
          "task": false
        },
        "id": "0f2c4944",
        "colab": {
          "base_uri": "https://localhost:8080/"
        },
        "outputId": "b36a426a-eb27-4091-fe78-bc710c4dbbf3"
      },
      "outputs": [
        {
          "output_type": "stream",
          "name": "stdout",
          "text": [
            "Digite um número inteiro:5\n",
            "Digite um número inteiro:2\n",
            "Digite um número real:3.5\n",
            "10.0\n",
            "18.5\n",
            "42.875\n"
          ]
        }
      ],
      "source": [
        "a = int(input(\"Digite um número inteiro:\"))\n",
        "b = int(input(\"Digite um número inteiro:\"))\n",
        "c = float(input(\"Digite um número real:\"))\n",
        "\n",
        "x = (a*2)*(b/2)\n",
        "y = 3*a + c\n",
        "z = c**3\n",
        "\n",
        "print(x)\n",
        "print(y)\n",
        "print(z)"
      ]
    },
    {
      "cell_type": "markdown",
      "id": "d3996f2c",
      "metadata": {
        "deletable": false,
        "editable": false,
        "nbgrader": {
          "cell_type": "markdown",
          "checksum": "dbee5e0c5c9a02ca7b0fbcbf0c5018fd",
          "grade": false,
          "grade_id": "Exercicio4-descricao",
          "locked": true,
          "schema_version": 3,
          "solution": false,
          "task": false
        },
        "id": "d3996f2c"
      },
      "source": [
        "# Exercício 4\n",
        "\n",
        "Faça um programa que pergunte quanto você ganha por hora e o número de horas trabalhadas na semana. Calcule e mostre o total do seu salário ao final de 4 semanas. "
      ]
    },
    {
      "cell_type": "code",
      "execution_count": 18,
      "id": "5a307587",
      "metadata": {
        "deletable": false,
        "nbgrader": {
          "cell_type": "code",
          "checksum": "e511551fc875680ccd9679f9b2c21414",
          "grade": true,
          "grade_id": "Exercicio4",
          "locked": false,
          "points": 1,
          "schema_version": 3,
          "solution": true,
          "task": false
        },
        "id": "5a307587",
        "colab": {
          "base_uri": "https://localhost:8080/"
        },
        "outputId": "f031351f-0000-4450-ab49-a7b99fd14470"
      },
      "outputs": [
        {
          "output_type": "stream",
          "name": "stdout",
          "text": [
            "Quanto você ganha por hora?:15\n",
            "Quantas horas você trabalha por semana?:40\n",
            "Seu salário é R$2400.0\n"
          ]
        }
      ],
      "source": [
        "a = float(input(\"Quanto você ganha por hora?:\"))\n",
        "b = float(input(\"Quantas horas você trabalha por semana?:\"))\n",
        "c = (a*b)*4\n",
        "\n",
        "print(\"Seu salário é R${}\" .format(c))"
      ]
    },
    {
      "cell_type": "markdown",
      "id": "d5088446",
      "metadata": {
        "deletable": false,
        "editable": false,
        "nbgrader": {
          "cell_type": "markdown",
          "checksum": "c82b175f45419cc78a6f0efc08f9ab15",
          "grade": false,
          "grade_id": "Exercicio5-descricao",
          "locked": true,
          "schema_version": 3,
          "solution": false,
          "task": false
        },
        "id": "d5088446"
      },
      "source": [
        "# Exercício 5\n",
        "\n",
        "Faça um programa que leia um número inteiro qualquer e que apresete, além do número informado, o seu antecessor e do seu sucessor."
      ]
    },
    {
      "cell_type": "code",
      "execution_count": 17,
      "id": "a09fcc89",
      "metadata": {
        "deletable": false,
        "nbgrader": {
          "cell_type": "code",
          "checksum": "9f693e117e3e2158f95ee76dc96292a0",
          "grade": true,
          "grade_id": "Exercicio5",
          "locked": false,
          "points": 1,
          "schema_version": 3,
          "solution": true,
          "task": false
        },
        "id": "a09fcc89",
        "colab": {
          "base_uri": "https://localhost:8080/"
        },
        "outputId": "2bd2bc6f-63a0-48c2-c452-67ae4858da31"
      },
      "outputs": [
        {
          "output_type": "stream",
          "name": "stdout",
          "text": [
            "Digite um número inteiro:6\n",
            "O número informado é 6, seu antecessor é 5 e seu sucessor é 7\n"
          ]
        }
      ],
      "source": [
        "x = int(input(\"Digite um número inteiro:\"))\n",
        "s = x + 1\n",
        "a = x - 1\n",
        "\n",
        "print(\"O número informado é {}, seu antecessor é {} e seu sucessor é {}\" .format(x, a, s))"
      ]
    },
    {
      "cell_type": "markdown",
      "id": "57a3fb31",
      "metadata": {
        "deletable": false,
        "editable": false,
        "nbgrader": {
          "cell_type": "markdown",
          "checksum": "537bdb2e45ec13ee95cea397e02744f2",
          "grade": false,
          "grade_id": "Exercicio6-descricao",
          "locked": true,
          "schema_version": 3,
          "solution": false,
          "task": false
        },
        "id": "57a3fb31"
      },
      "source": [
        "# Exercício 6\n",
        "\n",
        "Faça um programa que leia quatro notas, e seus respectivos pesos, e que apresente a média final simples e a média final ponderada."
      ]
    },
    {
      "cell_type": "code",
      "execution_count": 16,
      "id": "10e12fd4",
      "metadata": {
        "deletable": false,
        "nbgrader": {
          "cell_type": "code",
          "checksum": "ff1bbd3e5c18dc73d5e0328c41d74739",
          "grade": true,
          "grade_id": "Exercicio6",
          "locked": false,
          "points": 1,
          "schema_version": 3,
          "solution": true,
          "task": false
        },
        "id": "10e12fd4",
        "colab": {
          "base_uri": "https://localhost:8080/"
        },
        "outputId": "66ff980b-0df1-4e37-861a-70c2e6f51232"
      },
      "outputs": [
        {
          "output_type": "stream",
          "name": "stdout",
          "text": [
            "Digite a nota 1: 10\n",
            "Digite o peso da nota 1: 1\n",
            "Digite a nota 2: 8\n",
            "Digite o peso da nota 2: 2\n",
            "Digite a nota 3: 7\n",
            "Digite o peso da nota 3: 1\n",
            "Digite a nota 4: 8\n",
            "Digite o peso da nota 4: 2\n",
            "Média final simples é 8.25\n",
            "Média final ponderada é 8.166666666666666\n"
          ]
        }
      ],
      "source": [
        "n1 = float(input(\"Digite a nota 1: \"))\n",
        "p1 = float(input(\"Digite o peso da nota 1: \"))\n",
        "\n",
        "n2 = float(input(\"Digite a nota 2: \"))\n",
        "p2 = float(input(\"Digite o peso da nota 2: \"))\n",
        "\n",
        "n3 = float(input(\"Digite a nota 3: \"))\n",
        "p3 = float(input(\"Digite o peso da nota 3: \"))\n",
        "\n",
        "n4 = float(input(\"Digite a nota 4: \"))\n",
        "p4 = float(input(\"Digite o peso da nota 4: \"))\n",
        "\n",
        "média_simples = (n1 + n2 + n3 + n4)/4\n",
        "média_ponderada = (n1*p1 + n2*p2 + n3*p3 + n4*p4)/(p1 + p2 + p3 + p4)\n",
        "\n",
        "print(\"Média final simples é\", média_simples)\n",
        "print(\"Média final ponderada é\", média_ponderada)"
      ]
    },
    {
      "cell_type": "markdown",
      "id": "da81404d",
      "metadata": {
        "deletable": false,
        "editable": false,
        "nbgrader": {
          "cell_type": "markdown",
          "checksum": "6f91f7198e36290a15c6547e839a5885",
          "grade": false,
          "grade_id": "Exercicio7-descricao",
          "locked": true,
          "schema_version": 3,
          "solution": false,
          "task": false
        },
        "id": "da81404d"
      },
      "source": [
        "# Exercício 7\n",
        "\n",
        "Faça um programa para uma loja de tintas. O programa deverá pedir o tamanho em metros quadrados da área a ser pintada. Considere que a cobertura da tinta é de 1 litro para cada 12 metros quadrados e que a tinta é vendida em latas de 18 litros, que custam R$ 80,00. Informe ao usuário a quantidades de latas de tinta a serem compradas e o preço total. "
      ]
    },
    {
      "cell_type": "code",
      "execution_count": 26,
      "id": "2a1f6a9c",
      "metadata": {
        "deletable": false,
        "nbgrader": {
          "cell_type": "code",
          "checksum": "0b356a405bcdf2f889a9a95d9a196d61",
          "grade": true,
          "grade_id": "Exercicio7",
          "locked": false,
          "points": 2,
          "schema_version": 3,
          "solution": true,
          "task": false
        },
        "id": "2a1f6a9c",
        "colab": {
          "base_uri": "https://localhost:8080/"
        },
        "outputId": "1cf4fb37-96cb-4a64-9b4b-a215c3b428ff"
      },
      "outputs": [
        {
          "output_type": "stream",
          "name": "stdout",
          "text": [
            "Digite a área a ser pintada em m²: 600\n",
            "A quantidade de latas a serem compradas é: 3\n",
            "O valor da compra será de R$240.0\n"
          ]
        }
      ],
      "source": [
        "import math\n",
        "\n",
        "cobertura = 12\n",
        "quant_lata = 18\n",
        "preço_lata = 80.0\n",
        "\n",
        "área = float(input(\"Digite a área a ser pintada em m²: \"))\n",
        "litros = área / cobertura\n",
        "\n",
        "latas = math.ceil(litros/quant_lata)\n",
        "\n",
        "preço_total = latas * preço_lata\n",
        "\n",
        "print(\"A quantidade de latas a serem compradas é:\", latas)\n",
        "print(\"O valor da compra será de R${}\" .format(preço_total))\n"
      ]
    },
    {
      "cell_type": "markdown",
      "id": "79eca3d1",
      "metadata": {
        "deletable": false,
        "editable": false,
        "nbgrader": {
          "cell_type": "markdown",
          "checksum": "e44b2f3971c79d43c75c12bce821c4d9",
          "grade": false,
          "grade_id": "Exercicio8-descricao",
          "locked": true,
          "schema_version": 3,
          "solution": false,
          "task": false
        },
        "id": "79eca3d1"
      },
      "source": [
        "# Exercício 8\n",
        "\n",
        "Faça um Programa para uma loja de tintas. O programa deverá pedir o tamanho em metros quadrados da área a ser pintada. Considere que a cobertura da tinta é de 1 litro para cada 12 metros quadrados e que a tinta é vendida em latas de 18 litros, que custam R$ 80,00 ou em galões de 3,6 litros, que custam R$ 25,00.\n",
        "\n",
        "Informe ao usuário as quantidades de tinta a serem compradas e os respectivos preços em 3 situações:\n",
        "\n",
        "    - comprar apenas latas de 18 litros;\n",
        "    - comprar apenas galões de 3,6 litros;\n",
        "    - misturar latas e galões, de forma que o desperdício de tinta seja menor. \n",
        "    \n",
        "Acrescente 10% de folga nos três casos (isto é, você deve adicionar 10% sobre o total de litros de tinta necessário) e sempre arredonde os valores para cima, isto é, considere latas cheias. \n",
        "\n"
      ]
    },
    {
      "cell_type": "code",
      "execution_count": 28,
      "id": "54c1e741",
      "metadata": {
        "deletable": false,
        "nbgrader": {
          "cell_type": "code",
          "checksum": "8f12ca6f898fe140e2eb04c84fc6c8f3",
          "grade": true,
          "grade_id": "Exercicio8",
          "locked": false,
          "points": 2,
          "schema_version": 3,
          "solution": true,
          "task": false
        },
        "id": "54c1e741",
        "colab": {
          "base_uri": "https://localhost:8080/"
        },
        "outputId": "4a9c68ed-92ee-4518-e760-b63556b1d4b2"
      },
      "outputs": [
        {
          "output_type": "stream",
          "name": "stdout",
          "text": [
            "Digite a área a ser pintada em m²: 450\n",
            "Caso queira comprar apenas latas de 18 litros:\n",
            "\n",
            "A quantidade de latas necessárias será de 3\n",
            "O valor da compra será de R$240.0\n",
            "\n",
            "Caso queira comprar apenas galões de 3,6 litros:\n",
            "\n",
            "A quantidade de galões necessários será de 12\n",
            "O valor da compra será de R$300.0\n",
            "\n",
            "Caso queira mesclar e diminuir o desperdício de tinta:\n",
            "A quantidade de latas de 18l será de 2.0\n",
            "A quantidade de galões de 3,6l será de 2\n",
            "O valor da compra sera de R$210.0\n"
          ]
        }
      ],
      "source": [
        "import math\n",
        "\n",
        "cobertura = 12\n",
        "quant_lata = 18\n",
        "quant_galão = 3.6\n",
        "preço_lata = 80.0\n",
        "preço_galão = 25.0\n",
        "folga = 1.1\n",
        "\n",
        "área = float(input(\"Digite a área a ser pintada em m²: \"))\n",
        "consumo_litros = (área / cobertura) * folga\n",
        "\n",
        "latas_total = math.ceil(consumo_litros / quant_lata)\n",
        "preço_total_latas = latas_total * preço_lata\n",
        "\n",
        "galão_total = math.ceil(consumo_litros / quant_galão)\n",
        "preço_total_galão = galão_total * preço_galão\n",
        "\n",
        "latas_misto = consumo_litros // quant_lata\n",
        "galão_misto = math.ceil((consumo_litros - latas_misto*quant_lata)/quant_galão)\n",
        "valor_total_misto = (latas_misto * preço_lata) + (galão_misto * preço_galão)\n",
        "\n",
        "print(\"Caso queira comprar apenas latas de 18 litros:\")\n",
        "print()\n",
        "print(\"A quantidade de latas necessárias será de\", latas_total)\n",
        "print(\"O valor da compra será de R${}\" .format(preço_total_latas))\n",
        "print()\n",
        "print(\"Caso queira comprar apenas galões de 3,6 litros:\")\n",
        "print()\n",
        "print(\"A quantidade de galões necessários será de\", galão_total)\n",
        "print(\"O valor da compra será de R${}\" .format(preço_total_galão))\n",
        "print()\n",
        "print(\"Caso queira mesclar e diminuir o desperdício de tinta:\")\n",
        "print(\"A quantidade de latas de 18l será de\", latas_misto)\n",
        "print(\"A quantidade de galões de 3,6l será de\", galão_misto)\n",
        "print(\"O valor da compra sera de R${}\" .format(valor_total_misto))"
      ]
    },
    {
      "cell_type": "code",
      "source": [
        ""
      ],
      "metadata": {
        "id": "-28waYVVidWF"
      },
      "id": "-28waYVVidWF",
      "execution_count": null,
      "outputs": []
    }
  ],
  "metadata": {
    "kernelspec": {
      "display_name": "Python 3 (ipykernel)",
      "language": "python",
      "name": "python3"
    },
    "language_info": {
      "codemirror_mode": {
        "name": "ipython",
        "version": 3
      },
      "file_extension": ".py",
      "mimetype": "text/x-python",
      "name": "python",
      "nbconvert_exporter": "python",
      "pygments_lexer": "ipython3",
      "version": "3.9.7"
    },
    "colab": {
      "name": "Cópia de Semana1.ipynb",
      "provenance": []
    }
  },
  "nbformat": 4,
  "nbformat_minor": 5
}