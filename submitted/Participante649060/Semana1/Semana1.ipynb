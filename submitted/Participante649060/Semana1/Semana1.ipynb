{
  "cells": [
    {
      "cell_type": "markdown",
      "id": "d4a1d469",
      "metadata": {
        "id": "d4a1d469"
      },
      "source": [
        "# Instruções\n",
        "\n",
        "- Antes de resolver esses exercícios, certifique-se que a configuração está correta (Python 3).\n",
        "\n",
        "- Se estiver usando o Colab, faça uma cópia deste notebook antes de começar a repondê-lo.\n",
        "\n",
        "![](http://professor.ufabc.edu.br/~ronaldo.prati/colab.png)\n",
        "\n",
        "- Lembre-se de manter o nome do caderno com o mesmo nome original.\n",
        "\n",
        "- Não apague nem introduza novas células neste notebook.\n",
        "\n",
        "- Certifique-se que você preencheu todos os lugares que dizem \\\"YOUR CODE HERE\\\" ou \\\"YOUR ANSWER HERE\\\". Substitutua essa linha e também a linha `raise NotImplementedError()` pelo seu código.\n",
        "\n",
        "- Depois de resolver os exercícios, para enviar a atividade, salve o notebook e o envie pelo moodle da disciplina. No colab, para exportar o notebook localmente, acesse `File->Download->Download .ipynb` ou `Arquivo->Baixar->Baixar .ipynb`\n",
        "\n",
        "![](http://professor.ufabc.edu.br/~ronaldo.prati/submit.png)"
      ]
    },
    {
      "cell_type": "markdown",
      "id": "5f82cbf3",
      "metadata": {
        "deletable": false,
        "editable": false,
        "nbgrader": {
          "cell_type": "markdown",
          "checksum": "f1f911b3ba8050e102209c62c8db3f57",
          "grade": false,
          "grade_id": "Exercicio1-descricao",
          "locked": true,
          "schema_version": 3,
          "solution": false,
          "task": false
        },
        "id": "5f82cbf3"
      },
      "source": [
        "# Exercício 1\n",
        "\n",
        "Faça um programa que peça um número e armazene-o em uma variável. A seguir, mostre a mensagem \"O número informado foi [número]\""
      ]
    },
    {
      "cell_type": "code",
      "execution_count": null,
      "id": "98f0fd7a",
      "metadata": {
        "deletable": false,
        "nbgrader": {
          "cell_type": "code",
          "checksum": "74fb8b9b0c1978c0db15aa13a5696150",
          "grade": true,
          "grade_id": "Exercicio1",
          "locked": false,
          "points": 1,
          "schema_version": 3,
          "solution": true,
          "task": false
        },
        "id": "98f0fd7a",
        "outputId": "2ff9e4e3-dfb5-41f9-ac66-092fc98268b9",
        "colab": {
          "base_uri": "https://localhost:8080/"
        }
      },
      "outputs": [
        {
          "output_type": "stream",
          "name": "stdout",
          "text": [
            "Informe um número:5\n",
            "O número informado foi 5\n"
          ]
        }
      ],
      "source": [
        "# YOUR CODE HERE\n",
        "num = input(\"Informe um número: \")\n",
        "print(\"O número informado foi\", num)"
      ]
    },
    {
      "cell_type": "markdown",
      "id": "dd8c0af2",
      "metadata": {
        "deletable": false,
        "editable": false,
        "nbgrader": {
          "cell_type": "markdown",
          "checksum": "e1645b130e5fd8363c5a31803d8a6730",
          "grade": false,
          "grade_id": "Exercicio2-descricao",
          "locked": true,
          "schema_version": 3,
          "solution": false,
          "task": false
        },
        "id": "dd8c0af2"
      },
      "source": [
        "# Exercício 2\n",
        "\n",
        "Faça um Programa que peça o raio de um círculo, calcule e mostre sua área.\n",
        "Dica: para usar o valor de $\\pi$, pesquise por `math.pi`."
      ]
    },
    {
      "cell_type": "code",
      "execution_count": null,
      "id": "407e7f33",
      "metadata": {
        "deletable": false,
        "nbgrader": {
          "cell_type": "code",
          "checksum": "41ef7b01abeaa8d74e2893a5054fb644",
          "grade": true,
          "grade_id": "Exercicio2",
          "locked": false,
          "points": 1,
          "schema_version": 3,
          "solution": true,
          "task": false
        },
        "id": "407e7f33",
        "outputId": "02b13872-a9cb-4630-dd5d-3d040cc97064",
        "colab": {
          "base_uri": "https://localhost:8080/"
        }
      },
      "outputs": [
        {
          "output_type": "stream",
          "name": "stdout",
          "text": [
            "Informe o raio do círculo (em cm): 5\n",
            "A área do círculo é:  78.53981633974483 cm^2\n"
          ]
        }
      ],
      "source": [
        "# YOUR CODE HERE\n",
        "import math\n",
        "\n",
        "raio = float(input(\"Informe o raio do círculo (em cm): \"))\n",
        "area = raio**2 * math.pi\n",
        "\n",
        "print(\"A área do círculo é: \",area,\"cm^2\")"
      ]
    },
    {
      "cell_type": "markdown",
      "id": "868cfe1c",
      "metadata": {
        "deletable": false,
        "editable": false,
        "nbgrader": {
          "cell_type": "markdown",
          "checksum": "83a396c8ae7ca1696f25c00d928c9d55",
          "grade": false,
          "grade_id": "Exercicio3-descricao",
          "locked": true,
          "schema_version": 3,
          "solution": false,
          "task": false
        },
        "id": "868cfe1c"
      },
      "source": [
        "# Exercício 3\n",
        "\n",
        "Faça um Programa que peça 2 números inteiros e um número real. Calcule e mostre:\n",
        "\n",
        "   - o produto do dobro do primeiro com metade do segundo .\n",
        "   - a soma do triplo do primeiro com o terceiro.\n",
        "   - o terceiro elevado ao cubo. "
      ]
    },
    {
      "cell_type": "code",
      "execution_count": null,
      "id": "0f2c4944",
      "metadata": {
        "deletable": false,
        "nbgrader": {
          "cell_type": "code",
          "checksum": "01db6a60d8afd153075785a9f8e10ea5",
          "grade": true,
          "grade_id": "Exercicio3",
          "locked": false,
          "points": 1,
          "schema_version": 3,
          "solution": true,
          "task": false
        },
        "id": "0f2c4944",
        "outputId": "d1655fe3-c4cf-4d7c-d411-c2f253f97247",
        "colab": {
          "base_uri": "https://localhost:8080/"
        }
      },
      "outputs": [
        {
          "output_type": "stream",
          "name": "stdout",
          "text": [
            "Informe um número inteiro: 5\n",
            "Informe outro número inteiro: 7\n",
            "Informe um número real (utilizar '.' como separador decimal): 8\n",
            "A operação 1 resultou em:  35.0\n",
            "A operação 2 resultou em:  23.0\n",
            "A operação 3 resultou em:  512.0\n"
          ]
        }
      ],
      "source": [
        "# YOUR CODE HERE\n",
        "num1 = int(input(\"Informe um número inteiro: \"))\n",
        "num2 = int(input(\"Informe outro número inteiro: \"))\n",
        "num3 = float(input(\"Informe um número real (utilizar '.' como separador decimal): \"))\n",
        "\n",
        "op1 = (num1*2) * (num2/2)\n",
        "op2 = (num1*3) + num3\n",
        "op3 = num3**3\n",
        "\n",
        "print(\"A operação 1 resultou em: \", op1)\n",
        "print(\"A operação 2 resultou em: \", op2)\n",
        "print(\"A operação 3 resultou em: \", op3)"
      ]
    },
    {
      "cell_type": "markdown",
      "id": "d3996f2c",
      "metadata": {
        "deletable": false,
        "editable": false,
        "nbgrader": {
          "cell_type": "markdown",
          "checksum": "dbee5e0c5c9a02ca7b0fbcbf0c5018fd",
          "grade": false,
          "grade_id": "Exercicio4-descricao",
          "locked": true,
          "schema_version": 3,
          "solution": false,
          "task": false
        },
        "id": "d3996f2c"
      },
      "source": [
        "# Exercício 4\n",
        "\n",
        "Faça um programa que pergunte quanto você ganha por hora e o número de horas trabalhadas na semana. Calcule e mostre o total do seu salário ao final de 4 semanas. "
      ]
    },
    {
      "cell_type": "code",
      "execution_count": null,
      "id": "5a307587",
      "metadata": {
        "deletable": false,
        "nbgrader": {
          "cell_type": "code",
          "checksum": "e511551fc875680ccd9679f9b2c21414",
          "grade": true,
          "grade_id": "Exercicio4",
          "locked": false,
          "points": 1,
          "schema_version": 3,
          "solution": true,
          "task": false
        },
        "id": "5a307587",
        "outputId": "e85e0c11-0e9b-4877-a228-7402be76d059",
        "colab": {
          "base_uri": "https://localhost:8080/"
        }
      },
      "outputs": [
        {
          "output_type": "stream",
          "name": "stdout",
          "text": [
            "Quanto você ganha por hora?: 40\n",
            "Quantas horas você trabalha por semana?: 6\n",
            "Você irá ganhar R$ 960.0 por mês\n"
          ]
        }
      ],
      "source": [
        "# YOUR CODE HERE\n",
        "dinheirohora = float(input(\"Quanto você ganha por hora?: \"))\n",
        "horasemana = float(input(\"Quantas horas você trabalha por semana?: \"))\n",
        "\n",
        "dinheiromes = dinheirohora * horasemana * 4\n",
        "\n",
        "print('Você irá ganhar R$',dinheiromes, \"ao final de 4 semanas\")"
      ]
    },
    {
      "cell_type": "markdown",
      "id": "d5088446",
      "metadata": {
        "deletable": false,
        "editable": false,
        "nbgrader": {
          "cell_type": "markdown",
          "checksum": "c82b175f45419cc78a6f0efc08f9ab15",
          "grade": false,
          "grade_id": "Exercicio5-descricao",
          "locked": true,
          "schema_version": 3,
          "solution": false,
          "task": false
        },
        "id": "d5088446"
      },
      "source": [
        "# Exercício 5\n",
        "\n",
        "Faça um programa que leia um número inteiro qualquer e que apresete, além do número informado, o seu antecessor e do seu sucessor."
      ]
    },
    {
      "cell_type": "code",
      "execution_count": null,
      "id": "a09fcc89",
      "metadata": {
        "deletable": false,
        "nbgrader": {
          "cell_type": "code",
          "checksum": "9f693e117e3e2158f95ee76dc96292a0",
          "grade": true,
          "grade_id": "Exercicio5",
          "locked": false,
          "points": 1,
          "schema_version": 3,
          "solution": true,
          "task": false
        },
        "id": "a09fcc89",
        "outputId": "3fe7664d-e45e-4db9-9678-82b27461d617",
        "colab": {
          "base_uri": "https://localhost:8080/"
        }
      },
      "outputs": [
        {
          "output_type": "stream",
          "name": "stdout",
          "text": [
            "Informe um número: 5\n",
            "O número informado foi: 5\n",
            "Seu antecessor é: 4\n",
            "Seu sucessor é: 6\n"
          ]
        }
      ],
      "source": [
        "# YOUR CODE HERE\n",
        "num = int(input(\"Informe um número: \"))\n",
        "ante = num - 1\n",
        "suce = num + 1\n",
        "\n",
        "print(f\"O número informado foi: {num}\\nSeu antecessor é: {ante}\\nSeu sucessor é: {suce}\")"
      ]
    },
    {
      "cell_type": "markdown",
      "id": "57a3fb31",
      "metadata": {
        "deletable": false,
        "editable": false,
        "nbgrader": {
          "cell_type": "markdown",
          "checksum": "537bdb2e45ec13ee95cea397e02744f2",
          "grade": false,
          "grade_id": "Exercicio6-descricao",
          "locked": true,
          "schema_version": 3,
          "solution": false,
          "task": false
        },
        "id": "57a3fb31"
      },
      "source": [
        "# Exercício 6\n",
        "\n",
        "Faça um programa que leia quatro notas, e seus respectivos pesos, e que apresente a média final simples e a média final ponderada."
      ]
    },
    {
      "cell_type": "code",
      "execution_count": null,
      "id": "10e12fd4",
      "metadata": {
        "deletable": false,
        "nbgrader": {
          "cell_type": "code",
          "checksum": "ff1bbd3e5c18dc73d5e0328c41d74739",
          "grade": true,
          "grade_id": "Exercicio6",
          "locked": false,
          "points": 1,
          "schema_version": 3,
          "solution": true,
          "task": false
        },
        "id": "10e12fd4",
        "outputId": "387eb8c3-4946-45ac-c7b9-cb4348e0a2fc",
        "colab": {
          "base_uri": "https://localhost:8080/"
        }
      },
      "outputs": [
        {
          "output_type": "stream",
          "name": "stdout",
          "text": [
            "Informe a primeira nota: 5\n",
            "Informe o peso da primeira nota: 10\n",
            "Informe a segunda nota: 5\n",
            "Informe o peso da segunda nota: 5\n",
            "Informe a terceira nota: 5\n",
            "Informe o peso da terceira nota: 10\n",
            "Informe a quarta nota: 5\n",
            "Informe o peso da quarta nota: 5\n",
            "A média final simples é:  5.0\n",
            "A média final ponderada é:  35.0\n"
          ]
        }
      ],
      "source": [
        "# YOUR CODE HERE\n",
        "n1 = float(input(\"Informe a primeira nota: \"))\n",
        "p1 = float(input(\"Informe o peso da primeira nota: \"))\n",
        "\n",
        "n2 = float(input(\"Informe a segunda nota: \"))\n",
        "p2 = float(input(\"Informe o peso da segunda nota: \"))\n",
        "\n",
        "n3 = float(input(\"Informe a terceira nota: \"))\n",
        "p3 = float(input(\"Informe o peso da terceira nota: \"))\n",
        "\n",
        "n4 = float(input(\"Informe a quarta nota: \"))\n",
        "p4 = float(input(\"Informe o peso da quarta nota: \"))\n",
        "\n",
        "mediaf = (n1 + n2 + n3 + n4) / 4\n",
        "mediap = (n1*p1 + n2*p2 + n3*p3 + n4*p4) / p1 + p2 + p3 + p4\n",
        "\n",
        "print(\"A média final simples é: \", mediaf)\n",
        "print(\"A média final ponderada é: \", mediap)\n"
      ]
    },
    {
      "cell_type": "markdown",
      "id": "da81404d",
      "metadata": {
        "deletable": false,
        "editable": false,
        "nbgrader": {
          "cell_type": "markdown",
          "checksum": "6f91f7198e36290a15c6547e839a5885",
          "grade": false,
          "grade_id": "Exercicio7-descricao",
          "locked": true,
          "schema_version": 3,
          "solution": false,
          "task": false
        },
        "id": "da81404d"
      },
      "source": [
        "# Exercício 7\n",
        "\n",
        "Faça um programa para uma loja de tintas. O programa deverá pedir o tamanho em metros quadrados da área a ser pintada. Considere que a cobertura da tinta é de 1 litro para cada 12 metros quadrados e que a tinta é vendida em latas de 18 litros, que custam R$ 80,00. Informe ao usuário a quantidades de latas de tinta a serem compradas e o preço total. "
      ]
    },
    {
      "cell_type": "code",
      "execution_count": null,
      "id": "2a1f6a9c",
      "metadata": {
        "deletable": false,
        "nbgrader": {
          "cell_type": "code",
          "checksum": "0b356a405bcdf2f889a9a95d9a196d61",
          "grade": true,
          "grade_id": "Exercicio7",
          "locked": false,
          "points": 2,
          "schema_version": 3,
          "solution": true,
          "task": false
        },
        "id": "2a1f6a9c",
        "outputId": "edb5c264-6d1e-4628-d886-ae376490cab4",
        "colab": {
          "base_uri": "https://localhost:8080/"
        }
      },
      "outputs": [
        {
          "output_type": "stream",
          "name": "stdout",
          "text": [
            "Informe a área a ser pintada(m^2): 768\n",
            "Será gasto: 4 latas de tinta\n",
            " R$: 320\n"
          ]
        }
      ],
      "source": [
        "# YOUR CODE HERE\n",
        "import math\n",
        "\n",
        "area = math.ceil(float(input(\"Informe a área a ser pintada(m^2): \")))\n",
        "\n",
        "if area <= 216:\n",
        "  print(\"Será gasto:\\n 1 lata de tinta\\n R$: 80\")\n",
        "else:  \n",
        "  qtd = math.ceil(area / 216)\n",
        "  preço = qtd * 80\n",
        "  print(f\"Será gasto: {qtd} latas de tinta\\nR$: {preço}\")\n"
      ]
    },
    {
      "cell_type": "markdown",
      "id": "79eca3d1",
      "metadata": {
        "deletable": false,
        "editable": false,
        "nbgrader": {
          "cell_type": "markdown",
          "checksum": "e44b2f3971c79d43c75c12bce821c4d9",
          "grade": false,
          "grade_id": "Exercicio8-descricao",
          "locked": true,
          "schema_version": 3,
          "solution": false,
          "task": false
        },
        "id": "79eca3d1"
      },
      "source": [
        "# Exercício 8\n",
        "\n",
        "Faça um Programa para uma loja de tintas. O programa deverá pedir o tamanho em metros quadrados da área a ser pintada. Considere que a cobertura da tinta é de 1 litro para cada 12 metros quadrados e que a tinta é vendida em latas de 18 litros, que custam R$ 80,00 ou em galões de 3,6 litros, que custam R$ 25,00.\n",
        "\n",
        "Informe ao usuário as quantidades de tinta a serem compradas e os respectivos preços em 3 situações:\n",
        "\n",
        "    - comprar apenas latas de 18 litros;\n",
        "    - comprar apenas galões de 3,6 litros;\n",
        "    - misturar latas e galões, de forma que o desperdício de tinta seja menor. \n",
        "    \n",
        "Acrescente 10% de folga nos três casos (isto é, você deve adicionar 10% sobre o total de litros de tinta necessário) e sempre arredonde os valores para cima, isto é, considere latas cheias. \n",
        "\n"
      ]
    },
    {
      "cell_type": "code",
      "execution_count": null,
      "id": "54c1e741",
      "metadata": {
        "deletable": false,
        "nbgrader": {
          "cell_type": "code",
          "checksum": "8f12ca6f898fe140e2eb04c84fc6c8f3",
          "grade": true,
          "grade_id": "Exercicio8",
          "locked": false,
          "points": 2,
          "schema_version": 3,
          "solution": true,
          "task": false
        },
        "id": "54c1e741",
        "outputId": "bc27e802-cbbf-4f92-c016-31a971b0e1c2",
        "colab": {
          "base_uri": "https://localhost:8080/"
        }
      },
      "outputs": [
        {
          "output_type": "stream",
          "name": "stdout",
          "text": [
            "Informe a área a ser pintada(m^2): 500\n",
            "Será gasto: 3 latas\n",
            "R$: 240\n",
            "\n",
            "Será gasto: 13 latas\n",
            "R$: 325\n"
          ]
        }
      ],
      "source": [
        "# YOUR CODE HERE\n",
        "import math\n",
        "\n",
        "area = math.ceil(float(input(\"Informe a área a ser pintada(m^2): \")) * 1.10)\n",
        "\n",
        "# apenas galão de 18 de litros\n",
        "qtd = math.ceil(area / 216)\n",
        "preço =  qtd * 80\n",
        "print(f\"Será gasto: {qtd} latas\\nR$: {preço}\\n\")\n",
        "\n",
        "# apenas galão de 3.6 litros\n",
        "qtd2 = math.ceil(area / 43.2)\n",
        "preço2 = qtd2 * 25\n",
        "print(f\"Será gasto: {qtd2} latas\\nR$: {preço2}\")\n",
        "\n",
        "\n",
        "\n",
        "\n",
        "\n"
      ]
    }
  ],
  "metadata": {
    "kernelspec": {
      "display_name": "Python 3 (ipykernel)",
      "language": "python",
      "name": "python3"
    },
    "language_info": {
      "codemirror_mode": {
        "name": "ipython",
        "version": 3
      },
      "file_extension": ".py",
      "mimetype": "text/x-python",
      "name": "python",
      "nbconvert_exporter": "python",
      "pygments_lexer": "ipython3",
      "version": "3.9.7"
    },
    "colab": {
      "name": "Semana1.ipynb",
      "provenance": [],
      "collapsed_sections": []
    }
  },
  "nbformat": 4,
  "nbformat_minor": 5
}