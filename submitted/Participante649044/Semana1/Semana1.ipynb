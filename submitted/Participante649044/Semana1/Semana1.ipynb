{
  "cells": [
    {
      "cell_type": "markdown",
      "id": "d4a1d469",
      "metadata": {
        "id": "d4a1d469"
      },
      "source": [
        "# Instruções\n",
        "\n",
        "- Antes de resolver esses exercícios, certifique-se que a configuração está correta (Python 3).\n",
        "\n",
        "- Se estiver usando o Colab, faça uma cópia deste notebook antes de começar a repondê-lo.\n",
        "\n",
        "![](http://professor.ufabc.edu.br/~ronaldo.prati/colab.png)\n",
        "\n",
        "- Lembre-se de manter o nome do caderno com o mesmo nome original.\n",
        "\n",
        "- Não apague nem introduza novas células neste notebook.\n",
        "\n",
        "- Certifique-se que você preencheu todos os lugares que dizem \\\"YOUR CODE HERE\\\" ou \\\"YOUR ANSWER HERE\\\". Substitutua essa linha e também a linha `raise NotImplementedError()` pelo seu código.\n",
        "\n",
        "- Depois de resolver os exercícios, para enviar a atividade, salve o notebook e o envie pelo moodle da disciplina. No colab, para exportar o notebook localmente, acesse `File->Download->Download .ipynb` ou `Arquivo->Baixar->Baixar .ipynb`\n",
        "\n",
        "![](http://professor.ufabc.edu.br/~ronaldo.prati/submit.png)"
      ]
    },
    {
      "cell_type": "markdown",
      "id": "5f82cbf3",
      "metadata": {
        "deletable": false,
        "editable": false,
        "nbgrader": {
          "cell_type": "markdown",
          "checksum": "f1f911b3ba8050e102209c62c8db3f57",
          "grade": false,
          "grade_id": "Exercicio1-descricao",
          "locked": true,
          "schema_version": 3,
          "solution": false,
          "task": false
        },
        "id": "5f82cbf3"
      },
      "source": [
        "# Exercício 1\n",
        "\n",
        "Faça um programa que peça um número e armazene-o em uma variável. A seguir, mostre a mensagem \"O número informado foi [número]\""
      ]
    },
    {
      "cell_type": "code",
      "source": [
        "n = float(input(\"Digite um número: \"))\n",
        "print(\"O número informado foi [\" , (n) , \"]\")"
      ],
      "metadata": {
        "id": "lhcG8zBITUYW",
        "colab": {
          "base_uri": "https://localhost:8080/"
        },
        "outputId": "bfa6e2e5-ff76-4359-ef9e-dc789262ca35"
      },
      "id": "lhcG8zBITUYW",
      "execution_count": null,
      "outputs": [
        {
          "output_type": "stream",
          "name": "stdout",
          "text": [
            "Digite um número: 10\n",
            "O número informado foi [ 10.0 ]\n"
          ]
        }
      ]
    },
    {
      "cell_type": "markdown",
      "id": "dd8c0af2",
      "metadata": {
        "deletable": false,
        "editable": false,
        "nbgrader": {
          "cell_type": "markdown",
          "checksum": "e1645b130e5fd8363c5a31803d8a6730",
          "grade": false,
          "grade_id": "Exercicio2-descricao",
          "locked": true,
          "schema_version": 3,
          "solution": false,
          "task": false
        },
        "id": "dd8c0af2"
      },
      "source": [
        "# Exercício 2\n",
        "\n",
        "Faça um Programa que peça o raio de um círculo, calcule e mostre sua área.\n",
        "Dica: para usar o valor de $\\pi$, pesquise por `math.pi`."
      ]
    },
    {
      "cell_type": "code",
      "execution_count": null,
      "id": "407e7f33",
      "metadata": {
        "deletable": false,
        "nbgrader": {
          "cell_type": "code",
          "checksum": "41ef7b01abeaa8d74e2893a5054fb644",
          "grade": true,
          "grade_id": "Exercicio2",
          "locked": false,
          "points": 1,
          "schema_version": 3,
          "solution": true,
          "task": false
        },
        "id": "407e7f33",
        "colab": {
          "base_uri": "https://localhost:8080/"
        },
        "outputId": "cce27b9b-4c88-462e-fe26-5ed52acab36c"
      },
      "outputs": [
        {
          "output_type": "stream",
          "name": "stdout",
          "text": [
            "Digite o raio do círculo: 10\n",
            "A área do circulo é: 314.1592653589793\n"
          ]
        }
      ],
      "source": [
        "import math \n",
        "r = float(input(\"Digite o raio do círculo: \"))\n",
        "A= (math.pi * r * r) \n",
        "print(\"A área do circulo é:\" , A)"
      ]
    },
    {
      "cell_type": "markdown",
      "id": "868cfe1c",
      "metadata": {
        "deletable": false,
        "editable": false,
        "nbgrader": {
          "cell_type": "markdown",
          "checksum": "83a396c8ae7ca1696f25c00d928c9d55",
          "grade": false,
          "grade_id": "Exercicio3-descricao",
          "locked": true,
          "schema_version": 3,
          "solution": false,
          "task": false
        },
        "id": "868cfe1c"
      },
      "source": [
        "# Exercício 3\n",
        "\n",
        "Faça um Programa que peça 2 números inteiros e um número real. Calcule e mostre:\n",
        "\n",
        "   - o produto do dobro do primeiro com metade do segundo .\n",
        "   - a soma do triplo do primeiro com o terceiro.\n",
        "   - o terceiro elevado ao cubo. "
      ]
    },
    {
      "cell_type": "code",
      "execution_count": null,
      "id": "0f2c4944",
      "metadata": {
        "deletable": false,
        "nbgrader": {
          "cell_type": "code",
          "checksum": "01db6a60d8afd153075785a9f8e10ea5",
          "grade": true,
          "grade_id": "Exercicio3",
          "locked": false,
          "points": 1,
          "schema_version": 3,
          "solution": true,
          "task": false
        },
        "id": "0f2c4944",
        "colab": {
          "base_uri": "https://localhost:8080/"
        },
        "outputId": "0347dddd-f77f-4f7e-b1fb-415cae59bf03"
      },
      "outputs": [
        {
          "output_type": "stream",
          "name": "stdout",
          "text": [
            "Digite um número inteiro:10\n",
            "Digite outro número inteiro:10\n",
            "Digite um numero real:10\n",
            "O produto do dobro do primeiro com metade do segundo: 100.0\n",
            "A soma do triplo do primeiro com o terceiro: 40.0\n",
            "O terceiro elevado ao cubo: 1000.0\n"
          ]
        }
      ],
      "source": [
        "n1= int(input(\"Digite um número inteiro:\"))\n",
        "n2= int(input(\"Digite outro número inteiro:\"))\n",
        "n3= float(input(\"Digite um numero real:\"))\n",
        "\n",
        "p1= (n1*2) * (n2/2)\n",
        "p2 = (3* n1)+ n3\n",
        "p3 = (n3**3)\n",
        "\n",
        "print(\"O produto do dobro do primeiro com metade do segundo:\",p1)\n",
        "print(\"A soma do triplo do primeiro com o terceiro:\",p2)\n",
        "print(\"O terceiro elevado ao cubo:\",p3)"
      ]
    },
    {
      "cell_type": "markdown",
      "id": "d3996f2c",
      "metadata": {
        "deletable": false,
        "editable": false,
        "nbgrader": {
          "cell_type": "markdown",
          "checksum": "dbee5e0c5c9a02ca7b0fbcbf0c5018fd",
          "grade": false,
          "grade_id": "Exercicio4-descricao",
          "locked": true,
          "schema_version": 3,
          "solution": false,
          "task": false
        },
        "id": "d3996f2c"
      },
      "source": [
        "# Exercício 4\n",
        "\n",
        "Faça um programa que pergunte quanto você ganha por hora e o número de horas trabalhadas na semana. Calcule e mostre o total do seu salário ao final de 4 semanas. "
      ]
    },
    {
      "cell_type": "code",
      "execution_count": null,
      "id": "5a307587",
      "metadata": {
        "deletable": false,
        "nbgrader": {
          "cell_type": "code",
          "checksum": "e511551fc875680ccd9679f9b2c21414",
          "grade": true,
          "grade_id": "Exercicio4",
          "locked": false,
          "points": 1,
          "schema_version": 3,
          "solution": true,
          "task": false
        },
        "id": "5a307587",
        "colab": {
          "base_uri": "https://localhost:8080/"
        },
        "outputId": "f13c7a39-cceb-41e1-c2e4-bb30b7396b1f"
      },
      "outputs": [
        {
          "output_type": "stream",
          "name": "stdout",
          "text": [
            "Quanto você ganha por hora?10\n",
            "Quantas horas você trabalha na semana?10\n",
            "O seu salário é: 400.0\n"
          ]
        }
      ],
      "source": [
        "s=float(input(\"Quanto você ganha por hora?\"))\n",
        "h=float(input(\"Quantas horas você trabalha na semana?\"))\n",
        "\n",
        "salario= s * h * 4\n",
        "print(\"O seu salário é:\",salario)"
      ]
    },
    {
      "cell_type": "markdown",
      "id": "d5088446",
      "metadata": {
        "deletable": false,
        "editable": false,
        "nbgrader": {
          "cell_type": "markdown",
          "checksum": "c82b175f45419cc78a6f0efc08f9ab15",
          "grade": false,
          "grade_id": "Exercicio5-descricao",
          "locked": true,
          "schema_version": 3,
          "solution": false,
          "task": false
        },
        "id": "d5088446"
      },
      "source": [
        "# Exercício 5\n",
        "\n",
        "Faça um programa que leia um número inteiro qualquer e que apresete, além do número informado, o seu antecessor e do seu sucessor."
      ]
    },
    {
      "cell_type": "code",
      "execution_count": null,
      "id": "a09fcc89",
      "metadata": {
        "deletable": false,
        "nbgrader": {
          "cell_type": "code",
          "checksum": "9f693e117e3e2158f95ee76dc96292a0",
          "grade": true,
          "grade_id": "Exercicio5",
          "locked": false,
          "points": 1,
          "schema_version": 3,
          "solution": true,
          "task": false
        },
        "id": "a09fcc89",
        "colab": {
          "base_uri": "https://localhost:8080/"
        },
        "outputId": "c9c6b4b4-da9c-4828-e5d8-db891829c2de"
      },
      "outputs": [
        {
          "output_type": "stream",
          "name": "stdout",
          "text": [
            "Digite um número inteiro:10\n",
            "O número informado é: 10\n",
            "O seu antecessor é: 9\n",
            "O seu sucessor é: 11\n"
          ]
        }
      ],
      "source": [
        "n4=int(input(\"Digite um número inteiro:\"))\n",
        "n5= n4 + 1 \n",
        "n6 = n4- 1 \n",
        "\n",
        "print(\"O número informado é:\",n4)\n",
        "print(\"O seu antecessor é:\",n6)\n",
        "print(\"O seu sucessor é:\",n5)"
      ]
    },
    {
      "cell_type": "markdown",
      "id": "57a3fb31",
      "metadata": {
        "deletable": false,
        "editable": false,
        "nbgrader": {
          "cell_type": "markdown",
          "checksum": "537bdb2e45ec13ee95cea397e02744f2",
          "grade": false,
          "grade_id": "Exercicio6-descricao",
          "locked": true,
          "schema_version": 3,
          "solution": false,
          "task": false
        },
        "id": "57a3fb31"
      },
      "source": [
        "# Exercício 6\n",
        "\n",
        "Faça um programa que leia quatro notas, e seus respectivos pesos, e que apresente a média final simples e a média final ponderada."
      ]
    },
    {
      "cell_type": "code",
      "execution_count": null,
      "id": "10e12fd4",
      "metadata": {
        "deletable": false,
        "nbgrader": {
          "cell_type": "code",
          "checksum": "ff1bbd3e5c18dc73d5e0328c41d74739",
          "grade": true,
          "grade_id": "Exercicio6",
          "locked": false,
          "points": 1,
          "schema_version": 3,
          "solution": true,
          "task": false
        },
        "id": "10e12fd4",
        "colab": {
          "base_uri": "https://localhost:8080/"
        },
        "outputId": "68ada51e-c7fa-4c00-b615-a34ae9c5c761"
      },
      "outputs": [
        {
          "output_type": "stream",
          "name": "stdout",
          "text": [
            "Digite a nota 1:1\n",
            "Digite a nota 2:2\n",
            "Digite a nota 3:3\n",
            "Digite a nota 4:4\n",
            "Entre com o peso da primeira nota: 25\n",
            "Entre com o peso da segunda nota: 25\n",
            "Entre com o peso da terceira nota: 25\n",
            "Entre com o peso da quarta nota: 25\n",
            "A média simples é: 2.5 e a média poderada é: 2.5\n"
          ]
        }
      ],
      "source": [
        "nota1=float(input(\"Digite a nota 1:\"))\n",
        "nota2=float(input(\"Digite a nota 2:\"))\n",
        "nota3=float(input(\"Digite a nota 3:\"))\n",
        "nota4=float(input(\"Digite a nota 4:\"))\n",
        "peso1=float(input(\"Entre com o peso da primeira nota: \"))\n",
        "peso2= float(input(\"Entre com o peso da segunda nota: \"))\n",
        "peso3= float(input(\"Entre com o peso da terceira nota: \"))\n",
        "peso4= float(input(\"Entre com o peso da quarta nota: \"))\n",
        "\n",
        "m= (nota1 + nota2 + nota3 + nota4)/4\n",
        "media_ponderada = (peso1*nota1 + peso2*nota2 + peso3*nota3 + peso4*nota4)/(peso1+peso2+peso3+peso4)\n",
        "print(\"A média simples é:\" , m , \"e a média poderada é:\", media_ponderada)"
      ]
    },
    {
      "cell_type": "markdown",
      "id": "da81404d",
      "metadata": {
        "deletable": false,
        "editable": false,
        "nbgrader": {
          "cell_type": "markdown",
          "checksum": "6f91f7198e36290a15c6547e839a5885",
          "grade": false,
          "grade_id": "Exercicio7-descricao",
          "locked": true,
          "schema_version": 3,
          "solution": false,
          "task": false
        },
        "id": "da81404d"
      },
      "source": [
        "# Exercício 7\n",
        "\n",
        "Faça um programa para uma loja de tintas. O programa deverá pedir o tamanho em metros quadrados da área a ser pintada. Considere que a cobertura da tinta é de 1 litro para cada 12 metros quadrados e que a tinta é vendida em latas de 18 litros, que custam R$ 80,00. Informe ao usuário a quantidades de latas de tinta a serem compradas e o preço total. "
      ]
    },
    {
      "cell_type": "code",
      "execution_count": 34,
      "id": "2a1f6a9c",
      "metadata": {
        "deletable": false,
        "nbgrader": {
          "cell_type": "code",
          "checksum": "0b356a405bcdf2f889a9a95d9a196d61",
          "grade": true,
          "grade_id": "Exercicio7",
          "locked": false,
          "points": 2,
          "schema_version": 3,
          "solution": true,
          "task": false
        },
        "id": "2a1f6a9c",
        "colab": {
          "base_uri": "https://localhost:8080/"
        },
        "outputId": "d72684bb-6c88-41cd-957d-50f280e8222b"
      },
      "outputs": [
        {
          "output_type": "stream",
          "name": "stdout",
          "text": [
            "Quantos metros quadrados irão ser pintados?500\n",
            "Quantidade de latas necessárias: 3\n",
            "Preço total em reais: 240\n"
          ]
        }
      ],
      "source": [
        "import math\n",
        "t=float(input(\"Quantos metros quadrados irão ser pintados?\"))\n",
        "litros= t/12\n",
        "lata=(math.ceil(litros/18))\n",
        "preço=(math.ceil(80*lata))\n",
        "\n",
        "print(\"Quantidade de latas necessárias:\", lata)\n",
        "print(\"Preço total em reais:\",preço)"
      ]
    },
    {
      "cell_type": "markdown",
      "id": "79eca3d1",
      "metadata": {
        "deletable": false,
        "editable": false,
        "nbgrader": {
          "cell_type": "markdown",
          "checksum": "e44b2f3971c79d43c75c12bce821c4d9",
          "grade": false,
          "grade_id": "Exercicio8-descricao",
          "locked": true,
          "schema_version": 3,
          "solution": false,
          "task": false
        },
        "id": "79eca3d1"
      },
      "source": [
        "# Exercício 8\n",
        "\n",
        "Faça um Programa para uma loja de tintas. O programa deverá pedir o tamanho em metros quadrados da área a ser pintada. Considere que a cobertura da tinta é de 1 litro para cada 12 metros quadrados e que a tinta é vendida em latas de 18 litros, que custam R$ 80,00 ou em galões de 3,6 litros, que custam R$ 25,00.\n",
        "\n",
        "Informe ao usuário as quantidades de tinta a serem compradas e os respectivos preços em 3 situações:\n",
        "\n",
        "    - comprar apenas latas de 18 litros;\n",
        "    - comprar apenas galões de 3,6 litros;\n",
        "    - misturar latas e galões, de forma que o desperdício de tinta seja menor. \n",
        "    \n",
        "Acrescente 10% de folga nos três casos (isto é, você deve adicionar 10% sobre o total de litros de tinta necessário) e sempre arredonde os valores para cima, isto é, considere latas cheias. \n",
        "\n"
      ]
    },
    {
      "cell_type": "code",
      "execution_count": 81,
      "id": "54c1e741",
      "metadata": {
        "deletable": false,
        "nbgrader": {
          "cell_type": "code",
          "checksum": "8f12ca6f898fe140e2eb04c84fc6c8f3",
          "grade": true,
          "grade_id": "Exercicio8",
          "locked": false,
          "points": 2,
          "schema_version": 3,
          "solution": true,
          "task": false
        },
        "id": "54c1e741",
        "colab": {
          "base_uri": "https://localhost:8080/"
        },
        "outputId": "da9a832e-6a8a-4ebd-fde5-22ed4e9c53bd"
      },
      "outputs": [
        {
          "output_type": "stream",
          "name": "stdout",
          "text": [
            "Quantos metros quadrados irão ser pintados?240\n",
            "Quantidade de latas de 18 litros: 2 Preço em reais: 160\n",
            "Quantidade de latas de 3,6 litros: 7 Preço em reais: 175\n",
            "Na mistura usa-se 1 latas de 18 litros e  2 latas de 3,6 litros \n",
            "O preço da mistura em reais é: 130\n"
          ]
        }
      ],
      "source": [
        "import math\n",
        "\n",
        "t=float(input(\"Quantos metros quadrados irão ser pintados?\"))\n",
        "litros= t / 12\n",
        "\n",
        "qtd_latas_mistas188 =math.ceil(((litros * 0.10) + litros) / 18)\n",
        "qtd_latas_mistas366 = math.ceil(((litros * 0.10) + litros)/ 3.6)\n",
        "preço18 =math.ceil(qtd_latas_mistas188 * 80)\n",
        "preço366 =math.ceil(qtd_latas_mistas366 * 25)\n",
        "\n",
        "qtd_latas_mistas18 = ((litros * 0.10) + litros) / 18\n",
        "qtd_litros18 = math.trunc(qtd_latas_mistas18) * 18\n",
        "resto18 = ((litros * 0.10) + litros) - qtd_litros18\n",
        "qtd_latas_mistas36 = resto18 / 3.6\n",
        "qtd_latas_mistas_total = math.trunc(qtd_latas_mistas18) + math.ceil(qtd_latas_mistas36)\n",
        "valor_misto18 = math.trunc(qtd_latas_mistas18) * 80\n",
        "valor_misto36 = math.ceil(qtd_latas_mistas36) * 25\n",
        "total_misto = valor_misto18 + valor_misto36\n",
        "\n",
        "print(\"Quantidade de latas de 18 litros:\",math.ceil(qtd_latas_mistas188), \"Preço em reais:\",preço18)  \n",
        "print(\"Quantidade de latas de 3,6 litros:\",math.ceil(qtd_latas_mistas366), \"Preço em reais:\",preço366)  \n",
        "print(\"Na mistura usa-se\",math.trunc(qtd_latas_mistas18),\"latas de 18 litros e \", math.ceil(qtd_latas_mistas36), \"latas de 3,6 litros \")\n",
        "print(\"O preço da mistura em reais é:\",total_misto)\n"
      ]
    }
  ],
  "metadata": {
    "kernelspec": {
      "display_name": "Python 3 (ipykernel)",
      "language": "python",
      "name": "python3"
    },
    "language_info": {
      "codemirror_mode": {
        "name": "ipython",
        "version": 3
      },
      "file_extension": ".py",
      "mimetype": "text/x-python",
      "name": "python",
      "nbconvert_exporter": "python",
      "pygments_lexer": "ipython3",
      "version": "3.9.7"
    },
    "colab": {
      "name": "Semana1.ipynb",
      "provenance": []
    }
  },
  "nbformat": 4,
  "nbformat_minor": 5
}