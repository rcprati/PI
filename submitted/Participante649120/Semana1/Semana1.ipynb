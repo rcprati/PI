{
  "cells": [
    {
      "cell_type": "markdown",
      "id": "d4a1d469",
      "metadata": {
        "id": "d4a1d469"
      },
      "source": [
        "# Instruções\n",
        "\n",
        "- Antes de resolver esses exercícios, certifique-se que a configuração está correta (Python 3).\n",
        "\n",
        "- Se estiver usando o Colab, faça uma cópia deste notebook antes de começar a repondê-lo.\n",
        "\n",
        "![](http://professor.ufabc.edu.br/~ronaldo.prati/colab.png)\n",
        "\n",
        "- Lembre-se de manter o nome do caderno com o mesmo nome original.\n",
        "\n",
        "- Não apague nem introduza novas células neste notebook.\n",
        "\n",
        "- Certifique-se que você preencheu todos os lugares que dizem \\\"YOUR CODE HERE\\\" ou \\\"YOUR ANSWER HERE\\\". Substitutua essa linha e também a linha `raise NotImplementedError()` pelo seu código.\n",
        "\n",
        "- Depois de resolver os exercícios, para enviar a atividade, salve o notebook e o envie pelo moodle da disciplina. No colab, para exportar o notebook localmente, acesse `File->Download->Download .ipynb` ou `Arquivo->Baixar->Baixar .ipynb`\n",
        "\n",
        "![](http://professor.ufabc.edu.br/~ronaldo.prati/submit.png)"
      ]
    },
    {
      "cell_type": "markdown",
      "id": "5f82cbf3",
      "metadata": {
        "deletable": false,
        "editable": false,
        "nbgrader": {
          "cell_type": "markdown",
          "checksum": "f1f911b3ba8050e102209c62c8db3f57",
          "grade": false,
          "grade_id": "Exercicio1-descricao",
          "locked": true,
          "schema_version": 3,
          "solution": false,
          "task": false
        },
        "id": "5f82cbf3"
      },
      "source": [
        "# Exercício 1\n",
        "\n",
        "Faça um programa que peça um número e armazene-o em uma variável. A seguir, mostre a mensagem \"O número informado foi [número]\""
      ]
    },
    {
      "cell_type": "code",
      "execution_count": null,
      "id": "98f0fd7a",
      "metadata": {
        "deletable": false,
        "nbgrader": {
          "cell_type": "code",
          "checksum": "74fb8b9b0c1978c0db15aa13a5696150",
          "grade": true,
          "grade_id": "Exercicio1",
          "locked": false,
          "points": 1,
          "schema_version": 3,
          "solution": true,
          "task": false
        },
        "id": "98f0fd7a",
        "colab": {
          "base_uri": "https://localhost:8080/"
        },
        "outputId": "15487ab1-d22f-4ee2-9384-c88c3c8c37b6"
      },
      "outputs": [
        {
          "output_type": "stream",
          "name": "stdout",
          "text": [
            "2\n",
            "O numero informado foi : 2.0\n"
          ]
        }
      ],
      "source": [
        "import math\n",
        "\n",
        "numero = float(input())\n",
        "\n",
        "print(\"O numero informado foi :\",numero)"
      ]
    },
    {
      "cell_type": "markdown",
      "id": "dd8c0af2",
      "metadata": {
        "deletable": false,
        "editable": false,
        "nbgrader": {
          "cell_type": "markdown",
          "checksum": "e1645b130e5fd8363c5a31803d8a6730",
          "grade": false,
          "grade_id": "Exercicio2-descricao",
          "locked": true,
          "schema_version": 3,
          "solution": false,
          "task": false
        },
        "id": "dd8c0af2"
      },
      "source": [
        "# Exercício 2\n",
        "\n",
        "Faça um Programa que peça o raio de um círculo, calcule e mostre sua área.\n",
        "Dica: para usar o valor de $\\pi$, pesquise por `math.pi`."
      ]
    },
    {
      "cell_type": "code",
      "execution_count": null,
      "id": "407e7f33",
      "metadata": {
        "deletable": false,
        "nbgrader": {
          "cell_type": "code",
          "checksum": "41ef7b01abeaa8d74e2893a5054fb644",
          "grade": true,
          "grade_id": "Exercicio2",
          "locked": false,
          "points": 1,
          "schema_version": 3,
          "solution": true,
          "task": false
        },
        "id": "407e7f33",
        "colab": {
          "base_uri": "https://localhost:8080/"
        },
        "outputId": "cf24b34f-7522-4f75-c941-042afcc33e36"
      },
      "outputs": [
        {
          "output_type": "stream",
          "name": "stdout",
          "text": [
            "digite o valor do raio:2\n",
            "a area do círculo é: 12.566370614359172\n"
          ]
        }
      ],
      "source": [
        "import math\n",
        "\n",
        "raio = float(input(\"digite o valor do raio:\"))\n",
        "area = math.pi*raio**2\n",
        "\n",
        "print('a area do círculo é:', area)"
      ]
    },
    {
      "cell_type": "markdown",
      "id": "868cfe1c",
      "metadata": {
        "deletable": false,
        "editable": false,
        "nbgrader": {
          "cell_type": "markdown",
          "checksum": "83a396c8ae7ca1696f25c00d928c9d55",
          "grade": false,
          "grade_id": "Exercicio3-descricao",
          "locked": true,
          "schema_version": 3,
          "solution": false,
          "task": false
        },
        "id": "868cfe1c"
      },
      "source": [
        "# Exercício 3\n",
        "\n",
        "Faça um Programa que peça 2 números inteiros e um número real. Calcule e mostre:\n",
        "\n",
        "   - o produto do dobro do primeiro com metade do segundo .\n",
        "   - a soma do triplo do primeiro com o terceiro.\n",
        "   - o terceiro elevado ao cubo. "
      ]
    },
    {
      "cell_type": "code",
      "execution_count": null,
      "id": "0f2c4944",
      "metadata": {
        "deletable": false,
        "nbgrader": {
          "cell_type": "code",
          "checksum": "01db6a60d8afd153075785a9f8e10ea5",
          "grade": true,
          "grade_id": "Exercicio3",
          "locked": false,
          "points": 1,
          "schema_version": 3,
          "solution": true,
          "task": false
        },
        "id": "0f2c4944",
        "colab": {
          "base_uri": "https://localhost:8080/"
        },
        "outputId": "1374b73d-fca8-43c6-b024-81d25e2368f0"
      },
      "outputs": [
        {
          "output_type": "stream",
          "name": "stdout",
          "text": [
            "numero inteiro2\n",
            "numero inteiro2\n",
            "numero real5.1\n",
            "4.0\n",
            "11.1\n",
            "132.65099999999998\n"
          ]
        }
      ],
      "source": [
        "import math\n",
        "int1 = int(input('numero inteiro'))\n",
        "int2 = int(input('numero inteiro'))\n",
        "Real = float(input('numero real'))\n",
        "\n",
        "#O produto do dobro do primeiro com metade do segundo \n",
        "A= 2*int1*int2/2 \n",
        "\n",
        "#A soma do triplo do primeiro com o terceiro\n",
        "B= 3*int1+Real\n",
        "\n",
        "#O terceiro elevado ao cubo\n",
        "C= Real**3\n",
        "\n",
        "print(A) \n",
        "print(B)\n",
        "print(C)"
      ]
    },
    {
      "cell_type": "markdown",
      "id": "d3996f2c",
      "metadata": {
        "deletable": false,
        "editable": false,
        "nbgrader": {
          "cell_type": "markdown",
          "checksum": "dbee5e0c5c9a02ca7b0fbcbf0c5018fd",
          "grade": false,
          "grade_id": "Exercicio4-descricao",
          "locked": true,
          "schema_version": 3,
          "solution": false,
          "task": false
        },
        "id": "d3996f2c"
      },
      "source": [
        "# Exercício 4\n",
        "\n",
        "Faça um programa que pergunte quanto você ganha por hora e o número de horas trabalhadas na semana. Calcule e mostre o total do seu salário ao final de 4 semanas. "
      ]
    },
    {
      "cell_type": "code",
      "execution_count": 2,
      "id": "5a307587",
      "metadata": {
        "deletable": false,
        "nbgrader": {
          "cell_type": "code",
          "checksum": "e511551fc875680ccd9679f9b2c21414",
          "grade": true,
          "grade_id": "Exercicio4",
          "locked": false,
          "points": 1,
          "schema_version": 3,
          "solution": true,
          "task": false
        },
        "id": "5a307587",
        "colab": {
          "base_uri": "https://localhost:8080/"
        },
        "outputId": "8c86d9c8-6ccd-4227-96b0-c05d5f93a717"
      },
      "outputs": [
        {
          "output_type": "stream",
          "name": "stdout",
          "text": [
            "Quanto você ganha por hora?20\n",
            "Quantas horas você trabalha por semana?40\n",
            "Ao final de 4 semanas você terá: 3200.0\n"
          ]
        }
      ],
      "source": [
        "import math\n",
        "Horatab= float(input('Quanto você ganha por hora?'))\n",
        "Nhorat= float(input('Quantas horas você trabalha por semana?'))\n",
        "\n",
        "#calculo do total do salario ao final das 4 semanas\n",
        "Tot= Horatab*Nhorat*4\n",
        "print('Ao final de 4 semanas você terá:', Tot)"
      ]
    },
    {
      "cell_type": "markdown",
      "id": "d5088446",
      "metadata": {
        "deletable": false,
        "editable": false,
        "nbgrader": {
          "cell_type": "markdown",
          "checksum": "c82b175f45419cc78a6f0efc08f9ab15",
          "grade": false,
          "grade_id": "Exercicio5-descricao",
          "locked": true,
          "schema_version": 3,
          "solution": false,
          "task": false
        },
        "id": "d5088446"
      },
      "source": [
        "# Exercício 5\n",
        "\n",
        "Faça um programa que leia um número inteiro qualquer e que apresete, além do número informado, o seu antecessor e do seu sucessor."
      ]
    },
    {
      "cell_type": "code",
      "execution_count": 3,
      "id": "a09fcc89",
      "metadata": {
        "deletable": false,
        "nbgrader": {
          "cell_type": "code",
          "checksum": "9f693e117e3e2158f95ee76dc96292a0",
          "grade": true,
          "grade_id": "Exercicio5",
          "locked": false,
          "points": 1,
          "schema_version": 3,
          "solution": true,
          "task": false
        },
        "id": "a09fcc89",
        "colab": {
          "base_uri": "https://localhost:8080/"
        },
        "outputId": "d3148996-2330-4367-980b-1ecba866dce0"
      },
      "outputs": [
        {
          "output_type": "stream",
          "name": "stdout",
          "text": [
            "10\n",
            "9\n",
            "11\n"
          ]
        }
      ],
      "source": [
        "import math\n",
        "Nqualquer= int(input())\n",
        "\n",
        "#Antecessor\n",
        "X= Nqualquer-1\n",
        "\n",
        "#Sucessor\n",
        "K= Nqualquer+1\n",
        "\n",
        "print(X)\n",
        "print(K)"
      ]
    },
    {
      "cell_type": "markdown",
      "id": "57a3fb31",
      "metadata": {
        "deletable": false,
        "editable": false,
        "nbgrader": {
          "cell_type": "markdown",
          "checksum": "537bdb2e45ec13ee95cea397e02744f2",
          "grade": false,
          "grade_id": "Exercicio6-descricao",
          "locked": true,
          "schema_version": 3,
          "solution": false,
          "task": false
        },
        "id": "57a3fb31"
      },
      "source": [
        "# Exercício 6\n",
        "\n",
        "Faça um programa que leia quatro notas, e seus respectivos pesos, e que apresente a média final simples e a média final ponderada."
      ]
    },
    {
      "cell_type": "code",
      "execution_count": null,
      "id": "10e12fd4",
      "metadata": {
        "deletable": false,
        "nbgrader": {
          "cell_type": "code",
          "checksum": "ff1bbd3e5c18dc73d5e0328c41d74739",
          "grade": true,
          "grade_id": "Exercicio6",
          "locked": false,
          "points": 1,
          "schema_version": 3,
          "solution": true,
          "task": false
        },
        "id": "10e12fd4",
        "colab": {
          "base_uri": "https://localhost:8080/"
        },
        "outputId": "c4425208-e4ff-4abf-fb95-c5c14fd2520f"
      },
      "outputs": [
        {
          "output_type": "stream",
          "name": "stdout",
          "text": [
            "9\n",
            "8\n",
            "7.5\n",
            "6\n",
            "7.625\n",
            "67.65\n"
          ]
        }
      ],
      "source": [
        "import math\n",
        "Not1= float(input())\n",
        "Not2= float(input())\n",
        "Not3= float(input())\n",
        "Not4= float(input())\n",
        "\n",
        "pesoA= 1.25\n",
        "pesoB= 2.50\n",
        "pesoC= 3.25\n",
        "pesoD= 3\n",
        "\n",
        "#média final:\n",
        "MedF= (Not1+Not2+Not3+Not4)/4\n",
        "\n",
        "#média ponderada:\n",
        "MedP= (Not1*pesoA+Not2*pesoB+Not3*pesoC+Not4*pesoD)/pesoA+pesoB+pesoC+pesoD\n",
        "\n",
        "print(MedF)\n",
        "print(MedP)"
      ]
    },
    {
      "cell_type": "markdown",
      "id": "da81404d",
      "metadata": {
        "deletable": false,
        "editable": false,
        "nbgrader": {
          "cell_type": "markdown",
          "checksum": "6f91f7198e36290a15c6547e839a5885",
          "grade": false,
          "grade_id": "Exercicio7-descricao",
          "locked": true,
          "schema_version": 3,
          "solution": false,
          "task": false
        },
        "id": "da81404d"
      },
      "source": [
        "# Exercício 7\n",
        "\n",
        "Faça um programa para uma loja de tintas. O programa deverá pedir o tamanho em metros quadrados da área a ser pintada. Considere que a cobertura da tinta é de 1 litro para cada 12 metros quadrados e que a tinta é vendida em latas de 18 litros, que custam R$ 80,00. Informe ao usuário a quantidades de latas de tinta a serem compradas e o preço total. "
      ]
    },
    {
      "cell_type": "code",
      "execution_count": 4,
      "id": "2a1f6a9c",
      "metadata": {
        "deletable": false,
        "nbgrader": {
          "cell_type": "code",
          "checksum": "0b356a405bcdf2f889a9a95d9a196d61",
          "grade": true,
          "grade_id": "Exercicio7",
          "locked": false,
          "points": 2,
          "schema_version": 3,
          "solution": true,
          "task": false
        },
        "id": "2a1f6a9c",
        "colab": {
          "base_uri": "https://localhost:8080/"
        },
        "outputId": "7642110c-b98d-4bdf-9e96-7aef8ff0fe07"
      },
      "outputs": [
        {
          "output_type": "stream",
          "name": "stdout",
          "text": [
            "Area a ser pintada em m^2 500\n",
            "3 latas\n",
            "240 reais\n"
          ]
        }
      ],
      "source": [
        "import math\n",
        "\n",
        "area= float(input(\"Area a ser pintada em m^2 \"))\n",
        "qtde_lata= (area/12)/18\n",
        "custo_total= math.ceil(qtde_lata)*80\n",
        "print(math.ceil(qtde_lata),\"latas\")\n",
        "print(custo_total,\"reais\")"
      ]
    },
    {
      "cell_type": "markdown",
      "id": "79eca3d1",
      "metadata": {
        "deletable": false,
        "editable": false,
        "nbgrader": {
          "cell_type": "markdown",
          "checksum": "e44b2f3971c79d43c75c12bce821c4d9",
          "grade": false,
          "grade_id": "Exercicio8-descricao",
          "locked": true,
          "schema_version": 3,
          "solution": false,
          "task": false
        },
        "id": "79eca3d1"
      },
      "source": [
        "# Exercício 8\n",
        "\n",
        "Faça um Programa para uma loja de tintas. O programa deverá pedir o tamanho em metros quadrados da área a ser pintada. Considere que a cobertura da tinta é de 1 litro para cada 12 metros quadrados e que a tinta é vendida em latas de 18 litros, que custam R$ 80,00 ou em galões de 3,6 litros, que custam R$ 25,00.\n",
        "\n",
        "Informe ao usuário as quantidades de tinta a serem compradas e os respectivos preços em 3 situações:\n",
        "\n",
        "    - comprar apenas latas de 18 litros;\n",
        "    - comprar apenas galões de 3,6 litros;\n",
        "    - misturar latas e galões, de forma que o desperdício de tinta seja menor. \n",
        "    \n",
        "Acrescente 10% de folga nos três casos (isto é, você deve adicionar 10% sobre o total de litros de tinta necessário) e sempre arredonde os valores para cima, isto é, considere latas cheias. \n",
        "\n"
      ]
    },
    {
      "cell_type": "code",
      "execution_count": 6,
      "id": "54c1e741",
      "metadata": {
        "deletable": false,
        "nbgrader": {
          "cell_type": "code",
          "checksum": "8f12ca6f898fe140e2eb04c84fc6c8f3",
          "grade": true,
          "grade_id": "Exercicio8",
          "locked": false,
          "points": 2,
          "schema_version": 3,
          "solution": true,
          "task": false
        },
        "id": "54c1e741",
        "colab": {
          "base_uri": "https://localhost:8080/"
        },
        "outputId": "5a2b86c3-37a5-4408-86f1-d09a8aee6f87"
      },
      "outputs": [
        {
          "output_type": "stream",
          "name": "stdout",
          "text": [
            "Digite a metragem500\n",
            "O preço quando so latas são utilizadas :R$ 240\n",
            "3 latas de 18L\n",
            "O preço  quando so galoes são utilizados:R$ 325\n",
            "13 galoes de 3,6L\n",
            "O preço com a combinação é:R$235.00\n",
            "2 Latas de 18L  e 3 Latas de 3,6L\n"
          ]
        }
      ],
      "source": [
        "\n",
        "import math\n",
        "medida= float(input(\"Digite a metragem\"))\n",
        "#calculo da quantidade necessária de tinta\n",
        "litros = (medida*1.1/12)\n",
        "#calculo da quantidade de latas de 18L\n",
        "lat = math.ceil(litros/18)\n",
        "#calculo da quantidade de galões\n",
        "gal = math.ceil(litros/3.6)\n",
        "#preço das latas\n",
        "custo_latas = lat*80\n",
        "#preço dos galoes\n",
        "custo_galoes = gal*25\n",
        "#preço combinado\n",
        "combinado =( litros//18)*80 +(math.ceil(((litros%18)/3.6))*25)\n",
        "comb_lat= (litros//18)\n",
        "print(\"O preço quando so latas são utilizadas :\"'R$',custo_latas)\n",
        "print(lat,\"latas de 18L\")\n",
        "print(\"O preço  quando so galoes são utilizados:\"'R$', custo_galoes)\n",
        "print(gal,\"galoes de 3,6L\")\n",
        "print(\"O preço com a combinação é:\"'R$%.2f'%combinado)\n",
        "print('%.f'%comb_lat,'Latas de 18L  ''e' ,math.ceil((litros%18)/3.6),\"Latas de 3,6L\")"
      ]
    }
  ],
  "metadata": {
    "kernelspec": {
      "display_name": "Python 3 (ipykernel)",
      "language": "python",
      "name": "python3"
    },
    "language_info": {
      "codemirror_mode": {
        "name": "ipython",
        "version": 3
      },
      "file_extension": ".py",
      "mimetype": "text/x-python",
      "name": "python",
      "nbconvert_exporter": "python",
      "pygments_lexer": "ipython3",
      "version": "3.9.7"
    },
    "colab": {
      "name": "Semana1.ipynb",
      "provenance": []
    }
  },
  "nbformat": 4,
  "nbformat_minor": 5
}