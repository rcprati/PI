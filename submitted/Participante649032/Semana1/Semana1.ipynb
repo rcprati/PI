{
  "cells": [
    {
      "cell_type": "markdown",
      "id": "d4a1d469",
      "metadata": {
        "id": "d4a1d469"
      },
      "source": [
        "# Instruções\n",
        "\n",
        "- Antes de resolver esses exercícios, certifique-se que a configuração está correta (Python 3).\n",
        "\n",
        "- Se estiver usando o Colab, faça uma cópia deste notebook antes de começar a repondê-lo.\n",
        "\n",
        "![](http://professor.ufabc.edu.br/~ronaldo.prati/colab.png)\n",
        "\n",
        "- Lembre-se de manter o nome do caderno com o mesmo nome original.\n",
        "\n",
        "- Não apague nem introduza novas células neste notebook.\n",
        "\n",
        "- Certifique-se que você preencheu todos os lugares que dizem \\\"YOUR CODE HERE\\\" ou \\\"YOUR ANSWER HERE\\\". Substitutua essa linha e também a linha `raise NotImplementedError()` pelo seu código.\n",
        "\n",
        "- Depois de resolver os exercícios, para enviar a atividade, salve o notebook e o envie pelo moodle da disciplina. No colab, para exportar o notebook localmente, acesse `File->Download->Download .ipynb` ou `Arquivo->Baixar->Baixar .ipynb`\n",
        "\n",
        "![](http://professor.ufabc.edu.br/~ronaldo.prati/submit.png)"
      ]
    },
    {
      "cell_type": "markdown",
      "id": "5f82cbf3",
      "metadata": {
        "deletable": false,
        "editable": false,
        "nbgrader": {
          "cell_type": "markdown",
          "checksum": "f1f911b3ba8050e102209c62c8db3f57",
          "grade": false,
          "grade_id": "Exercicio1-descricao",
          "locked": true,
          "schema_version": 3,
          "solution": false,
          "task": false
        },
        "id": "5f82cbf3"
      },
      "source": [
        "# Exercício 1\n",
        "\n",
        "Faça um programa que peça um número e armazene-o em uma variável. A seguir, mostre a mensagem \"O número informado foi [número]\""
      ]
    },
    {
      "cell_type": "code",
      "execution_count": null,
      "id": "98f0fd7a",
      "metadata": {
        "deletable": false,
        "nbgrader": {
          "cell_type": "code",
          "checksum": "74fb8b9b0c1978c0db15aa13a5696150",
          "grade": true,
          "grade_id": "Exercicio1",
          "locked": false,
          "points": 1,
          "schema_version": 3,
          "solution": true,
          "task": false
        },
        "id": "98f0fd7a",
        "colab": {
          "base_uri": "https://localhost:8080/"
        },
        "outputId": "af897da6-4e1d-4538-ca44-f13f74bed161"
      },
      "outputs": [
        {
          "output_type": "stream",
          "name": "stdout",
          "text": [
            "Digite o numero a ser armazenado: 9\n",
            "O número informado foi 9\n"
          ]
        }
      ],
      "source": [
        "n = int(input(\"Digite o numero a ser armazenado: \"))\n",
        "\n",
        "print(\"O número informado foi \" + str(n))"
      ]
    },
    {
      "cell_type": "markdown",
      "id": "dd8c0af2",
      "metadata": {
        "deletable": false,
        "editable": false,
        "nbgrader": {
          "cell_type": "markdown",
          "checksum": "e1645b130e5fd8363c5a31803d8a6730",
          "grade": false,
          "grade_id": "Exercicio2-descricao",
          "locked": true,
          "schema_version": 3,
          "solution": false,
          "task": false
        },
        "id": "dd8c0af2"
      },
      "source": [
        "# Exercício 2\n",
        "\n",
        "Faça um Programa que peça o raio de um círculo, calcule e mostre sua área.\n",
        "Dica: para usar o valor de $\\pi$, pesquise por `math.pi`."
      ]
    },
    {
      "cell_type": "code",
      "execution_count": null,
      "id": "407e7f33",
      "metadata": {
        "deletable": false,
        "nbgrader": {
          "cell_type": "code",
          "checksum": "41ef7b01abeaa8d74e2893a5054fb644",
          "grade": true,
          "grade_id": "Exercicio2",
          "locked": false,
          "points": 1,
          "schema_version": 3,
          "solution": true,
          "task": false
        },
        "id": "407e7f33",
        "colab": {
          "base_uri": "https://localhost:8080/"
        },
        "outputId": "fcb8ee69-9ce2-417d-fc26-46d537d75ee6"
      },
      "outputs": [
        {
          "output_type": "stream",
          "name": "stdout",
          "text": [
            "Qual o raio do seu círculo: 2\n",
            "Seu cículo possui uma área de 12.566370614359172\n"
          ]
        }
      ],
      "source": [
        "import math\n",
        "\n",
        "r = int(input(\"Qual o raio do seu círculo: \"))\n",
        "\n",
        "A = math.pi*(r*r)\n",
        "\n",
        "print(\"Seu cículo possui uma área de \" + str(A))"
      ]
    },
    {
      "cell_type": "markdown",
      "id": "868cfe1c",
      "metadata": {
        "deletable": false,
        "editable": false,
        "nbgrader": {
          "cell_type": "markdown",
          "checksum": "83a396c8ae7ca1696f25c00d928c9d55",
          "grade": false,
          "grade_id": "Exercicio3-descricao",
          "locked": true,
          "schema_version": 3,
          "solution": false,
          "task": false
        },
        "id": "868cfe1c"
      },
      "source": [
        "# Exercício 3\n",
        "\n",
        "Faça um Programa que peça 2 números inteiros e um número real. Calcule e mostre:\n",
        "\n",
        "   - o produto do dobro do primeiro com metade do segundo .\n",
        "   - a soma do triplo do primeiro com o terceiro.\n",
        "   - o terceiro elevado ao cubo. "
      ]
    },
    {
      "cell_type": "code",
      "execution_count": null,
      "id": "0f2c4944",
      "metadata": {
        "deletable": false,
        "nbgrader": {
          "cell_type": "code",
          "checksum": "01db6a60d8afd153075785a9f8e10ea5",
          "grade": true,
          "grade_id": "Exercicio3",
          "locked": false,
          "points": 1,
          "schema_version": 3,
          "solution": true,
          "task": false
        },
        "id": "0f2c4944",
        "colab": {
          "base_uri": "https://localhost:8080/"
        },
        "outputId": "0140a641-a790-45c6-9482-b21ad35beec6"
      },
      "outputs": [
        {
          "output_type": "stream",
          "name": "stdout",
          "text": [
            "Informe o primeiro numero inteiro: 1\n",
            "Informe o segundo numero inteiro: 1\n",
            "Informe um numero real qualquer: 3\n",
            "1.0\n",
            "6.0\n",
            "27.0\n"
          ]
        }
      ],
      "source": [
        "i1 = int(input(\"Informe o primeiro numero inteiro: \"))\n",
        "i2 = int(input(\"Informe o segundo numero inteiro: \"))\n",
        "r = float(input(\"Informe um numero real qualquer: \"))\n",
        "\n",
        "Cal_1 = (2*i1)*(i2/2)\n",
        "Cal_2 = (3*i1)+r\n",
        "Cal_3 = r**3\n",
        "\n",
        "print(str(Cal_1) + \"\\n\" + str(Cal_2) + \"\\n\" + str(Cal_3))"
      ]
    },
    {
      "cell_type": "markdown",
      "id": "d3996f2c",
      "metadata": {
        "deletable": false,
        "editable": false,
        "nbgrader": {
          "cell_type": "markdown",
          "checksum": "dbee5e0c5c9a02ca7b0fbcbf0c5018fd",
          "grade": false,
          "grade_id": "Exercicio4-descricao",
          "locked": true,
          "schema_version": 3,
          "solution": false,
          "task": false
        },
        "id": "d3996f2c"
      },
      "source": [
        "# Exercício 4\n",
        "\n",
        "Faça um programa que pergunte quanto você ganha por hora e o número de horas trabalhadas na semana. Calcule e mostre o total do seu salário ao final de 4 semanas. "
      ]
    },
    {
      "cell_type": "code",
      "execution_count": null,
      "id": "5a307587",
      "metadata": {
        "deletable": false,
        "nbgrader": {
          "cell_type": "code",
          "checksum": "e511551fc875680ccd9679f9b2c21414",
          "grade": true,
          "grade_id": "Exercicio4",
          "locked": false,
          "points": 1,
          "schema_version": 3,
          "solution": true,
          "task": false
        },
        "id": "5a307587",
        "colab": {
          "base_uri": "https://localhost:8080/"
        },
        "outputId": "bbc3ad4c-f285-46a7-82b5-d9e9f2b7a594"
      },
      "outputs": [
        {
          "output_type": "stream",
          "name": "stdout",
          "text": [
            "Quanto você ganha por hora: 20\n",
            "Quantas horas trabalhadas você teve nesta semana: 10\n",
            "Seu sálario em 4 semanas será de 800.0\n"
          ]
        }
      ],
      "source": [
        "Sal_H = float(input(\"Quanto você ganha por hora: \"))\n",
        "H_Sem = float(input(\"Quantas horas trabalhadas você teve nesta semana: \"))\n",
        "\n",
        "Cal = Sal_H*H_Sem\n",
        "\n",
        "print(\"Seu sálario em 4 semanas será de \" + str(4*Cal))"
      ]
    },
    {
      "cell_type": "markdown",
      "id": "d5088446",
      "metadata": {
        "deletable": false,
        "editable": false,
        "nbgrader": {
          "cell_type": "markdown",
          "checksum": "c82b175f45419cc78a6f0efc08f9ab15",
          "grade": false,
          "grade_id": "Exercicio5-descricao",
          "locked": true,
          "schema_version": 3,
          "solution": false,
          "task": false
        },
        "id": "d5088446"
      },
      "source": [
        "# Exercício 5\n",
        "\n",
        "Faça um programa que leia um número inteiro qualquer e que apresete, além do número informado, o seu antecessor e do seu sucessor."
      ]
    },
    {
      "cell_type": "code",
      "execution_count": null,
      "id": "a09fcc89",
      "metadata": {
        "deletable": false,
        "nbgrader": {
          "cell_type": "code",
          "checksum": "9f693e117e3e2158f95ee76dc96292a0",
          "grade": true,
          "grade_id": "Exercicio5",
          "locked": false,
          "points": 1,
          "schema_version": 3,
          "solution": true,
          "task": false
        },
        "id": "a09fcc89",
        "colab": {
          "base_uri": "https://localhost:8080/"
        },
        "outputId": "d5817279-d695-47e7-ece1-2116ae39492c"
      },
      "outputs": [
        {
          "output_type": "stream",
          "name": "stdout",
          "text": [
            "Digite um numero inteiro: 2\n",
            "O número informado foi: 2\n",
            "O seu antecessor é: 1\n",
            "E seu sucessor será: 3\n"
          ]
        }
      ],
      "source": [
        "n = int(input(\"Digite um numero inteiro: \"))\n",
        "\n",
        "print(\"O número informado foi: \" + str(n) + \"\\nO seu antecessor é: \" + str(n-1) + \"\\nE seu sucessor será: \" + str(n+1))"
      ]
    },
    {
      "cell_type": "markdown",
      "id": "57a3fb31",
      "metadata": {
        "deletable": false,
        "editable": false,
        "nbgrader": {
          "cell_type": "markdown",
          "checksum": "537bdb2e45ec13ee95cea397e02744f2",
          "grade": false,
          "grade_id": "Exercicio6-descricao",
          "locked": true,
          "schema_version": 3,
          "solution": false,
          "task": false
        },
        "id": "57a3fb31"
      },
      "source": [
        "# Exercício 6\n",
        "\n",
        "Faça um programa que leia quatro notas, e seus respectivos pesos, e que apresente a média final simples e a média final ponderada."
      ]
    },
    {
      "cell_type": "code",
      "execution_count": null,
      "id": "10e12fd4",
      "metadata": {
        "deletable": false,
        "nbgrader": {
          "cell_type": "code",
          "checksum": "ff1bbd3e5c18dc73d5e0328c41d74739",
          "grade": true,
          "grade_id": "Exercicio6",
          "locked": false,
          "points": 1,
          "schema_version": 3,
          "solution": true,
          "task": false
        },
        "id": "10e12fd4",
        "colab": {
          "base_uri": "https://localhost:8080/"
        },
        "outputId": "d90ce24d-c02d-4b7a-de54-2ffd7540fb79"
      },
      "outputs": [
        {
          "output_type": "stream",
          "name": "stdout",
          "text": [
            "Digite a nota número 1: 5\n",
            "Digite o PESO da nota número 1: 2\n",
            "Digite a nota número 2: 5\n",
            "Digite o PESO da nota número 2: 1\n",
            "Digite a nota número 3: 5\n",
            "Digite o PESO da nota número 3: 1\n",
            "Digite a nota número 4: 5\n",
            "Digite o PESO da nota número 4: 1\n",
            "A média simples final é: 5.0\n",
            "A média ponderada final é: 5.0\n"
          ]
        }
      ],
      "source": [
        "n1 = float(input(\"Digite a nota número 1: \"))\n",
        "p1 = float(input(\"Digite o PESO da nota número 1: \"))\n",
        "n2 = float(input(\"Digite a nota número 2: \"))\n",
        "p2 = float(input(\"Digite o PESO da nota número 2: \"))\n",
        "n3 = float(input(\"Digite a nota número 3: \"))\n",
        "p3 = float(input(\"Digite o PESO da nota número 3: \"))\n",
        "n4 = float(input(\"Digite a nota número 4: \"))\n",
        "p4 = float(input(\"Digite o PESO da nota número 4: \"))\n",
        "\n",
        "med = (n1+n2+n3+n4)/4\n",
        "med_p = (p1*n1 + p2*n2 + p3*n3 + p4*n4) / (p1 + p2 + p3 + p4)\n",
        "\n",
        "print(\"A média simples final é: \" + str(med) + \"\\nA média ponderada final é: \" + str(med_p))"
      ]
    },
    {
      "cell_type": "markdown",
      "id": "da81404d",
      "metadata": {
        "deletable": false,
        "editable": false,
        "nbgrader": {
          "cell_type": "markdown",
          "checksum": "6f91f7198e36290a15c6547e839a5885",
          "grade": false,
          "grade_id": "Exercicio7-descricao",
          "locked": true,
          "schema_version": 3,
          "solution": false,
          "task": false
        },
        "id": "da81404d"
      },
      "source": [
        "# Exercício 7\n",
        "\n",
        "Faça um programa para uma loja de tintas. O programa deverá pedir o tamanho em metros quadrados da área a ser pintada. Considere que a cobertura da tinta é de 1 litro para cada 12 metros quadrados e que a tinta é vendida em latas de 18 litros, que custam R$ 80,00. Informe ao usuário a quantidades de latas de tinta a serem compradas e o preço total. "
      ]
    },
    {
      "cell_type": "code",
      "execution_count": null,
      "id": "2a1f6a9c",
      "metadata": {
        "deletable": false,
        "nbgrader": {
          "cell_type": "code",
          "checksum": "0b356a405bcdf2f889a9a95d9a196d61",
          "grade": true,
          "grade_id": "Exercicio7",
          "locked": false,
          "points": 2,
          "schema_version": 3,
          "solution": true,
          "task": false
        },
        "id": "2a1f6a9c",
        "colab": {
          "base_uri": "https://localhost:8080/"
        },
        "outputId": "06c5b099-79b7-477c-b0a3-6b1bb68dd992"
      },
      "outputs": [
        {
          "output_type": "stream",
          "name": "stdout",
          "text": [
            "Qual a área(m^2) que pretende pintar? \n",
            "432\n",
            "Número de latas a serem compradas é de 2.0\n",
            "O preço total da sua compra é de: R$160.0\n"
          ]
        }
      ],
      "source": [
        "A = float(input(\"Qual a área(m^2) que pretende pintar? \\n\"))\n",
        "\n",
        "### 1L p/ 12m^2.... 1Lata p/ 18L......80 Reais p/ 18L\n",
        "num_L = (A*1)/12\n",
        "num_Latas = (num_L*1)/18\n",
        "preco = num_Latas*80 \n",
        "\n",
        "print(\"Número de latas a serem compradas é de \" + str(num_Latas) + \"\\nO preço total da sua compra é de: R$\" + str(preco))"
      ]
    },
    {
      "cell_type": "markdown",
      "id": "79eca3d1",
      "metadata": {
        "deletable": false,
        "editable": false,
        "nbgrader": {
          "cell_type": "markdown",
          "checksum": "e44b2f3971c79d43c75c12bce821c4d9",
          "grade": false,
          "grade_id": "Exercicio8-descricao",
          "locked": true,
          "schema_version": 3,
          "solution": false,
          "task": false
        },
        "id": "79eca3d1"
      },
      "source": [
        "# Exercício 8\n",
        "\n",
        "Faça um Programa para uma loja de tintas. O programa deverá pedir o tamanho em metros quadrados da área a ser pintada. Considere que a cobertura da tinta é de 1 litro para cada 12 metros quadrados e que a tinta é vendida em latas de 18 litros, que custam R$ 80,00 ou em galões de 3,6 litros, que custam R$ 25,00.\n",
        "\n",
        "Informe ao usuário as quantidades de tinta a serem compradas e os respectivos preços em 3 situações:\n",
        "\n",
        "    - comprar apenas latas de 18 litros;\n",
        "    - comprar apenas galões de 3,6 litros;\n",
        "    - misturar latas e galões, de forma que o desperdício de tinta seja menor. \n",
        "    \n",
        "Acrescente 10% de folga nos três casos (isto é, você deve adicionar 10% sobre o total de litros de tinta necessário) e sempre arredonde os valores para cima, isto é, considere latas cheias. \n",
        "\n"
      ]
    },
    {
      "cell_type": "code",
      "execution_count": null,
      "id": "54c1e741",
      "metadata": {
        "deletable": false,
        "nbgrader": {
          "cell_type": "code",
          "checksum": "8f12ca6f898fe140e2eb04c84fc6c8f3",
          "grade": true,
          "grade_id": "Exercicio8",
          "locked": false,
          "points": 2,
          "schema_version": 3,
          "solution": true,
          "task": false
        },
        "id": "54c1e741",
        "colab": {
          "base_uri": "https://localhost:8080/"
        },
        "outputId": "37c3f4c3-306f-48b9-9a3e-470e687d8ef2"
      },
      "outputs": [
        {
          "output_type": "stream",
          "name": "stdout",
          "text": [
            "Qual a área(m^2) que pretende pintar? \n",
            "432\n",
            "Caso compre apenas as Latas \n",
            "Número de latas a serem compradas é de 3\n",
            "O preço total da sua compra será de: R$240\n",
            "Caso compre apenas em Galões \n",
            "Número de Galões a serem comprados é de 11\n",
            "O preço total da sua compra será de: R$275\n",
            "Caso opte por fazer uma compra hibrida \n",
            "Número de Latas a serem comprados é de 2\n",
            "Número de Galões a serem comprados é de 2\n",
            "O preço total da sua compra será de: R$210.0\n"
          ]
        }
      ],
      "source": [
        "import math\n",
        "A = float(input(\"Qual a área(m^2) que pretende pintar? \\n\"))\n",
        "\n",
        "### 1L p/ 12m^2.... 1Lata p/ 18L......80 Reais p/ 18L ...... 3,6L p/ 25 Reais\n",
        "#### os 10% de folga é (A/12)*0.1, add direto ao numero de L já que terar q ser add a todos os casos\n",
        "num_L = A/12 + (A/12)*0.1\n",
        "num_Latas = num_L/18\n",
        "num_Gal = num_L/3.6\n",
        "preco_Latas = num_Latas*80 \n",
        "preco_Gal = num_Gal*25\n",
        "\n",
        "if num_L%18 != 0:\n",
        "  num_Latas = math.ceil(num_Latas)\n",
        "  preco_Latas = num_Latas*80 \n",
        "print(\"Caso compre apenas as Latas \\n\" + \"Número de latas a serem compradas é de \" + str(num_Latas) + \"\\nO preço total da sua compra será de: R$\" + str(preco_Latas))\n",
        "if num_L%3.6 != 0:\n",
        "  num_Gal = math.ceil(num_Gal)\n",
        "  preco_Gal = num_Gal*25\n",
        "print(\"Caso compre apenas em Galões \\n\" + \"Número de Galões a serem comprados é de \" + str(num_Gal) + \"\\nO preço total da sua compra será de: R$\" + str(preco_Gal))\n",
        "\n",
        "cont_L = 0\n",
        "cont_G = 0\n",
        "resto_18 = num_L%18\n",
        "inteiro = num_L - (num_L%18)\n",
        "cont_L = inteiro/18\n",
        "cont_G = math.ceil(resto_18/3.6)\n",
        "\n",
        "\n",
        "preco_T = cont_G*25 +cont_L*80\n",
        "### ESSES 10% TAO ME QUEBRANDO kkkkkkkkkkkkkk\n",
        "print(\"Caso opte por fazer uma compra hibrida \\n\" + \"Número de Latas a serem comprados é de \" + str(int(cont_L)) + \"\\nNúmero de Galões a serem comprados é de \" + str(cont_G) + \"\\nO preço total da sua compra será de: R$\" + str(preco_T))"
      ]
    }
  ],
  "metadata": {
    "kernelspec": {
      "display_name": "Python 3 (ipykernel)",
      "language": "python",
      "name": "python3"
    },
    "language_info": {
      "codemirror_mode": {
        "name": "ipython",
        "version": 3
      },
      "file_extension": ".py",
      "mimetype": "text/x-python",
      "name": "python",
      "nbconvert_exporter": "python",
      "pygments_lexer": "ipython3",
      "version": "3.9.7"
    },
    "colab": {
      "name": "Semana1.ipynb",
      "provenance": [],
      "collapsed_sections": []
    }
  },
  "nbformat": 4,
  "nbformat_minor": 5
}