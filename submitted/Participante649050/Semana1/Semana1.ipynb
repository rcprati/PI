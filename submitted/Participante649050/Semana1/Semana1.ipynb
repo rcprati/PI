{
  "cells": [
    {
      "cell_type": "markdown",
      "id": "d4a1d469",
      "metadata": {
        "id": "d4a1d469"
      },
      "source": [
        "# Instruções\n",
        "\n",
        "- Antes de resolver esses exercícios, certifique-se que a configuração está correta (Python 3).\n",
        "\n",
        "- Se estiver usando o Colab, faça uma cópia deste notebook antes de começar a repondê-lo.\n",
        "\n",
        "![](http://professor.ufabc.edu.br/~ronaldo.prati/colab.png)\n",
        "\n",
        "- Lembre-se de manter o nome do caderno com o mesmo nome original.\n",
        "\n",
        "- Não apague nem introduza novas células neste notebook.\n",
        "\n",
        "- Certifique-se que você preencheu todos os lugares que dizem \\\"YOUR CODE HERE\\\" ou \\\"YOUR ANSWER HERE\\\". Substitutua essa linha e também a linha `raise NotImplementedError()` pelo seu código.\n",
        "\n",
        "- Depois de resolver os exercícios, para enviar a atividade, salve o notebook e o envie pelo moodle da disciplina. No colab, para exportar o notebook localmente, acesse `File->Download->Download .ipynb` ou `Arquivo->Baixar->Baixar .ipynb`\n",
        "\n",
        "![](http://professor.ufabc.edu.br/~ronaldo.prati/submit.png)"
      ]
    },
    {
      "cell_type": "markdown",
      "id": "5f82cbf3",
      "metadata": {
        "deletable": false,
        "editable": false,
        "nbgrader": {
          "cell_type": "markdown",
          "checksum": "f1f911b3ba8050e102209c62c8db3f57",
          "grade": false,
          "grade_id": "Exercicio1-descricao",
          "locked": true,
          "schema_version": 3,
          "solution": false,
          "task": false
        },
        "id": "5f82cbf3"
      },
      "source": [
        "# Exercício 1\n",
        "\n",
        "Faça um programa que peça um número e armazene-o em uma variável. A seguir, mostre a mensagem \"O número informado foi [número]\""
      ]
    },
    {
      "cell_type": "code",
      "execution_count": 14,
      "id": "98f0fd7a",
      "metadata": {
        "deletable": false,
        "nbgrader": {
          "cell_type": "code",
          "checksum": "74fb8b9b0c1978c0db15aa13a5696150",
          "grade": true,
          "grade_id": "Exercicio1",
          "locked": false,
          "points": 1,
          "schema_version": 3,
          "solution": true,
          "task": false
        },
        "id": "98f0fd7a",
        "colab": {
          "base_uri": "https://localhost:8080/"
        },
        "outputId": "f38be7b9-5f17-4f77-e06b-90a5c52c57fe"
      },
      "outputs": [
        {
          "output_type": "stream",
          "name": "stdout",
          "text": [
            "Informe um número: 6.5\n",
            "O número informado foi 6.5\n"
          ]
        }
      ],
      "source": [
        "x = float(input(\"Informe um número: \"))\n",
        "print(\"O número informado foi\",x)"
      ]
    },
    {
      "cell_type": "markdown",
      "id": "dd8c0af2",
      "metadata": {
        "deletable": false,
        "editable": false,
        "nbgrader": {
          "cell_type": "markdown",
          "checksum": "e1645b130e5fd8363c5a31803d8a6730",
          "grade": false,
          "grade_id": "Exercicio2-descricao",
          "locked": true,
          "schema_version": 3,
          "solution": false,
          "task": false
        },
        "id": "dd8c0af2"
      },
      "source": [
        "# Exercício 2\n",
        "\n",
        "Faça um Programa que peça o raio de um círculo, calcule e mostre sua área.\n",
        "Dica: para usar o valor de $\\pi$, pesquise por `math.pi`."
      ]
    },
    {
      "cell_type": "code",
      "execution_count": 15,
      "id": "407e7f33",
      "metadata": {
        "deletable": false,
        "nbgrader": {
          "cell_type": "code",
          "checksum": "41ef7b01abeaa8d74e2893a5054fb644",
          "grade": true,
          "grade_id": "Exercicio2",
          "locked": false,
          "points": 1,
          "schema_version": 3,
          "solution": true,
          "task": false
        },
        "id": "407e7f33",
        "colab": {
          "base_uri": "https://localhost:8080/"
        },
        "outputId": "4944847d-e5c8-495a-841c-aa2d97df5b4c"
      },
      "outputs": [
        {
          "output_type": "stream",
          "name": "stdout",
          "text": [
            "Informe o raio do círculo em cm: 56\n",
            "A área do círculo é de 9852.03456165759 cm\n"
          ]
        }
      ],
      "source": [
        "import math\n",
        "\n",
        "r = float(input(\"Informe o raio do círculo em cm: \"))\n",
        "\n",
        "a = math.pi * r**2\n",
        "print(\"A área do círculo é de\",a,\"cm\")"
      ]
    },
    {
      "cell_type": "markdown",
      "id": "868cfe1c",
      "metadata": {
        "deletable": false,
        "editable": false,
        "nbgrader": {
          "cell_type": "markdown",
          "checksum": "83a396c8ae7ca1696f25c00d928c9d55",
          "grade": false,
          "grade_id": "Exercicio3-descricao",
          "locked": true,
          "schema_version": 3,
          "solution": false,
          "task": false
        },
        "id": "868cfe1c"
      },
      "source": [
        "# Exercício 3\n",
        "\n",
        "Faça um Programa que peça 2 números inteiros e um número real. Calcule e mostre:\n",
        "\n",
        "   - o produto do dobro do primeiro com metade do segundo .\n",
        "   - a soma do triplo do primeiro com o terceiro.\n",
        "   - o terceiro elevado ao cubo. "
      ]
    },
    {
      "cell_type": "code",
      "execution_count": 18,
      "id": "0f2c4944",
      "metadata": {
        "deletable": false,
        "nbgrader": {
          "cell_type": "code",
          "checksum": "01db6a60d8afd153075785a9f8e10ea5",
          "grade": true,
          "grade_id": "Exercicio3",
          "locked": false,
          "points": 1,
          "schema_version": 3,
          "solution": true,
          "task": false
        },
        "id": "0f2c4944",
        "colab": {
          "base_uri": "https://localhost:8080/"
        },
        "outputId": "9563aa11-0215-45a5-b707-0a3af7a909fd"
      },
      "outputs": [
        {
          "output_type": "stream",
          "name": "stdout",
          "text": [
            "Informe o primeiro número inteiro: 6\n",
            "Informe o segundo número inteiro: 5\n",
            "Informe um número real: 2.6\n",
            "O produto do dobro do primeiro com metade do segundo é: 30.0\n",
            "A soma do triplo do primeiro com o terceiro é: 20.6\n",
            "O terceiro elevado ao cubo é: 17.576\n"
          ]
        }
      ],
      "source": [
        "x1 = int(input(\"Informe o primeiro número inteiro: \"))\n",
        "x2 = int(input(\"Informe o segundo número inteiro: \"))\n",
        "r = float(input(\"Informe um número real: \"))\n",
        "\n",
        "a= (x1*2)*(x2/2)\n",
        "b= (x1*3) + r\n",
        "c= r**3\n",
        "\n",
        "print(\"O produto do dobro do primeiro com metade do segundo é:\",a)\n",
        "print(\"A soma do triplo do primeiro com o terceiro é:\",b)\n",
        "print(\"O terceiro elevado ao cubo é:\",c)"
      ]
    },
    {
      "cell_type": "markdown",
      "id": "d3996f2c",
      "metadata": {
        "deletable": false,
        "editable": false,
        "nbgrader": {
          "cell_type": "markdown",
          "checksum": "dbee5e0c5c9a02ca7b0fbcbf0c5018fd",
          "grade": false,
          "grade_id": "Exercicio4-descricao",
          "locked": true,
          "schema_version": 3,
          "solution": false,
          "task": false
        },
        "id": "d3996f2c"
      },
      "source": [
        "# Exercício 4\n",
        "\n",
        "Faça um programa que pergunte quanto você ganha por hora e o número de horas trabalhadas na semana. Calcule e mostre o total do seu salário ao final de 4 semanas. "
      ]
    },
    {
      "cell_type": "code",
      "execution_count": 19,
      "id": "5a307587",
      "metadata": {
        "deletable": false,
        "nbgrader": {
          "cell_type": "code",
          "checksum": "e511551fc875680ccd9679f9b2c21414",
          "grade": true,
          "grade_id": "Exercicio4",
          "locked": false,
          "points": 1,
          "schema_version": 3,
          "solution": true,
          "task": false
        },
        "id": "5a307587",
        "colab": {
          "base_uri": "https://localhost:8080/"
        },
        "outputId": "8d949e12-c7f7-4390-f477-d98a61f47e88"
      },
      "outputs": [
        {
          "output_type": "stream",
          "name": "stdout",
          "text": [
            "Quanto você ganha por hora trabalhada (R$)? 13\n",
            "Quantas horas você trabalha durante a semana? 30\n",
            "Você vai receber R$ 1560.0 ao final de 4 semanas\n"
          ]
        }
      ],
      "source": [
        "s = float(input(\"Quanto você ganha por hora trabalhada (R$)? \"))\n",
        "h = float(input(\"Quantas horas você trabalha durante a semana? \"))\n",
        "\n",
        "total = s * (h * 4)\n",
        "\n",
        "print(\"Você vai receber R$\",total,\"ao final de 4 semanas\")"
      ]
    },
    {
      "cell_type": "markdown",
      "id": "d5088446",
      "metadata": {
        "deletable": false,
        "editable": false,
        "nbgrader": {
          "cell_type": "markdown",
          "checksum": "c82b175f45419cc78a6f0efc08f9ab15",
          "grade": false,
          "grade_id": "Exercicio5-descricao",
          "locked": true,
          "schema_version": 3,
          "solution": false,
          "task": false
        },
        "id": "d5088446"
      },
      "source": [
        "# Exercício 5\n",
        "\n",
        "Faça um programa que leia um número inteiro qualquer e que apresete, além do número informado, o seu antecessor e do seu sucessor."
      ]
    },
    {
      "cell_type": "code",
      "execution_count": 21,
      "id": "a09fcc89",
      "metadata": {
        "deletable": false,
        "nbgrader": {
          "cell_type": "code",
          "checksum": "9f693e117e3e2158f95ee76dc96292a0",
          "grade": true,
          "grade_id": "Exercicio5",
          "locked": false,
          "points": 1,
          "schema_version": 3,
          "solution": true,
          "task": false
        },
        "id": "a09fcc89",
        "colab": {
          "base_uri": "https://localhost:8080/"
        },
        "outputId": "4faf591a-f717-4da1-ac63-b0c3c33fd830"
      },
      "outputs": [
        {
          "output_type": "stream",
          "name": "stdout",
          "text": [
            "Informe um número inteiro: 63\n",
            "O número informado foi: 63 , seu antecessor é: 62 e seu sucessor é: 64\n"
          ]
        }
      ],
      "source": [
        "x = int(input(\"Informe um número inteiro: \"))\n",
        "\n",
        "a = x - 1\n",
        "s = x + 1\n",
        "\n",
        "print(\"O número informado foi:\",x,\", seu antecessor é:\",a,\"e seu sucessor é:\",s)"
      ]
    },
    {
      "cell_type": "markdown",
      "id": "57a3fb31",
      "metadata": {
        "deletable": false,
        "editable": false,
        "nbgrader": {
          "cell_type": "markdown",
          "checksum": "537bdb2e45ec13ee95cea397e02744f2",
          "grade": false,
          "grade_id": "Exercicio6-descricao",
          "locked": true,
          "schema_version": 3,
          "solution": false,
          "task": false
        },
        "id": "57a3fb31"
      },
      "source": [
        "# Exercício 6\n",
        "\n",
        "Faça um programa que leia quatro notas, e seus respectivos pesos, e que apresente a média final simples e a média final ponderada."
      ]
    },
    {
      "cell_type": "code",
      "execution_count": 24,
      "id": "10e12fd4",
      "metadata": {
        "deletable": false,
        "nbgrader": {
          "cell_type": "code",
          "checksum": "ff1bbd3e5c18dc73d5e0328c41d74739",
          "grade": true,
          "grade_id": "Exercicio6",
          "locked": false,
          "points": 1,
          "schema_version": 3,
          "solution": true,
          "task": false
        },
        "id": "10e12fd4",
        "colab": {
          "base_uri": "https://localhost:8080/"
        },
        "outputId": "0879aea3-5bfa-4c1c-b31f-2591c319e6fa"
      },
      "outputs": [
        {
          "output_type": "stream",
          "name": "stdout",
          "text": [
            "Informe a nota da primeira prova: 8\n",
            "Informe a nota da segunda prova: 9\n",
            "Informe a nota da terceira prova: 7.5\n",
            "Informe a nota da quarta prova: 8\n",
            "Informe o peso da primeira prova: 2\n",
            "Informe o peso da segunda prova: 3\n",
            "Informe o peso da terceira prova: 4\n",
            "Informe o peso da quarta prova: 5\n",
            "A média simples é: 8.125 E a média ponderada é: 8.071428571428571\n"
          ]
        }
      ],
      "source": [
        "n1 = float(input(\"Informe a nota da primeira prova: \"))\n",
        "n2 = float(input(\"Informe a nota da segunda prova: \"))\n",
        "n3 = float(input(\"Informe a nota da terceira prova: \"))\n",
        "n4 = float(input(\"Informe a nota da quarta prova: \"))\n",
        "p1 = float(input(\"Informe o peso da primeira prova: \"))\n",
        "p2 = float(input(\"Informe o peso da segunda prova: \"))\n",
        "p3 = float(input(\"Informe o peso da terceira prova: \"))\n",
        "p4 = float(input(\"Informe o peso da quarta prova: \"))\n",
        "\n",
        "ms = (n1 + n2 + n3 + n4) / 4\n",
        "mp = ( n1*p1 + n2*p2 + n3*p3 + n4*p4) / (p1 + p2 + p3 + p4)\n",
        "\n",
        "print(\"A média simples é:\",ms,\"E a média ponderada é:\",mp)\n"
      ]
    },
    {
      "cell_type": "markdown",
      "id": "da81404d",
      "metadata": {
        "deletable": false,
        "editable": false,
        "nbgrader": {
          "cell_type": "markdown",
          "checksum": "6f91f7198e36290a15c6547e839a5885",
          "grade": false,
          "grade_id": "Exercicio7-descricao",
          "locked": true,
          "schema_version": 3,
          "solution": false,
          "task": false
        },
        "id": "da81404d"
      },
      "source": [
        "# Exercício 7\n",
        "\n",
        "Faça um programa para uma loja de tintas. O programa deverá pedir o tamanho em metros quadrados da área a ser pintada. Considere que a cobertura da tinta é de 1 litro para cada 12 metros quadrados e que a tinta é vendida em latas de 18 litros, que custam R$ 80,00. Informe ao usuário a quantidades de latas de tinta a serem compradas e o preço total. "
      ]
    },
    {
      "cell_type": "code",
      "execution_count": 27,
      "id": "2a1f6a9c",
      "metadata": {
        "deletable": false,
        "nbgrader": {
          "cell_type": "code",
          "checksum": "0b356a405bcdf2f889a9a95d9a196d61",
          "grade": true,
          "grade_id": "Exercicio7",
          "locked": false,
          "points": 2,
          "schema_version": 3,
          "solution": true,
          "task": false
        },
        "id": "2a1f6a9c",
        "colab": {
          "base_uri": "https://localhost:8080/"
        },
        "outputId": "d206e940-f46b-4ed7-d8d8-49b528795dad"
      },
      "outputs": [
        {
          "output_type": "stream",
          "name": "stdout",
          "text": [
            "Informe o tamanho da área a ser pintada em metros quadrados: 123495\n",
            "Vão ser necessárias 572 lata(s) e o valor total será de R$ 45760\n"
          ]
        }
      ],
      "source": [
        "import math\n",
        "\n",
        "tamanho = float(input(\"Informe o tamanho da área a ser pintada em metros quadrados: \"))\n",
        "cobertura = tamanho/12\n",
        "latas =  math.ceil(cobertura/18)\n",
        "valor = 80 * latas\n",
        "\n",
        "print(\"Vão ser necessárias\",latas,\"lata(s) e o valor total será de R$\",valor)"
      ]
    },
    {
      "cell_type": "markdown",
      "id": "79eca3d1",
      "metadata": {
        "deletable": false,
        "editable": false,
        "nbgrader": {
          "cell_type": "markdown",
          "checksum": "e44b2f3971c79d43c75c12bce821c4d9",
          "grade": false,
          "grade_id": "Exercicio8-descricao",
          "locked": true,
          "schema_version": 3,
          "solution": false,
          "task": false
        },
        "id": "79eca3d1"
      },
      "source": [
        "# Exercício 8\n",
        "\n",
        "Faça um Programa para uma loja de tintas. O programa deverá pedir o tamanho em metros quadrados da área a ser pintada. Considere que a cobertura da tinta é de 1 litro para cada 12 metros quadrados e que a tinta é vendida em latas de 18 litros, que custam R$ 80,00 ou em galões de 3,6 litros, que custam R$ 25,00.\n",
        "\n",
        "Informe ao usuário as quantidades de tinta a serem compradas e os respectivos preços em 3 situações:\n",
        "\n",
        "    - comprar apenas latas de 18 litros;\n",
        "    - comprar apenas galões de 3,6 litros;\n",
        "    - misturar latas e galões, de forma que o desperdício de tinta seja menor. \n",
        "    \n",
        "Acrescente 10% de folga nos três casos (isto é, você deve adicionar 10% sobre o total de litros de tinta necessário) e sempre arredonde os valores para cima, isto é, considere latas cheias. \n",
        "\n"
      ]
    },
    {
      "cell_type": "code",
      "execution_count": 28,
      "id": "54c1e741",
      "metadata": {
        "deletable": false,
        "nbgrader": {
          "cell_type": "code",
          "checksum": "8f12ca6f898fe140e2eb04c84fc6c8f3",
          "grade": true,
          "grade_id": "Exercicio8",
          "locked": false,
          "points": 2,
          "schema_version": 3,
          "solution": true,
          "task": false
        },
        "id": "54c1e741",
        "colab": {
          "base_uri": "https://localhost:8080/"
        },
        "outputId": "d1b8b65f-e13a-41e5-be18-2eb9ed2c76fc"
      },
      "outputs": [
        {
          "output_type": "stream",
          "name": "stdout",
          "text": [
            "Informe o tamanho da área a ser pintada em metros quadrados: 123495\n",
            "\n",
            "Apenas Latas de 18 litros:\n",
            "Deve ser comprado: 629 latas\n",
            "O valor será de: R$ 50320\n",
            "\n",
            "Apenas Galões de 3.6 litros:\n",
            "Deve ser comprado: 3145 galões\n",
            "O valor será de: R$ 78625\n",
            "\n",
            "Misturando latas e galões, de forma que o desperdício seja menor:\n",
            "quantidade de galões: 5\n",
            "quantidade de latas: 628.0\n",
            "O valor será de R$: 50365.0\n"
          ]
        }
      ],
      "source": [
        "import math\n",
        "\n",
        "tamanho = float(input(\"Informe o tamanho da área a ser pintada em metros quadrados: \"))\n",
        "\n",
        "consumo = tamanho / 12 * 1.1\n",
        "\n",
        "lata = math.ceil(consumo / 18)\n",
        "vlata = lata * 80\n",
        "\n",
        "galao = math.ceil(consumo / 3.6)\n",
        "vgalao = galao * 25\n",
        "\n",
        "lata_misto = consumo // 18\n",
        "galao_misto = math.ceil((consumo - lata_misto * 18) / 3.6)\n",
        "vgalao_misto = galao_misto * 25\n",
        "vlata_misto = lata_misto * 80\n",
        "\n",
        "print()\n",
        "print(\"Apenas Latas de 18 litros:\")\n",
        "print(\"Deve ser comprado:\",lata,\"latas\")\n",
        "print(\"O valor será de: R$\",vlata)\n",
        "print()\n",
        "print(\"Apenas Galões de 3.6 litros:\")\n",
        "print(\"Deve ser comprado:\",galao,\"galões\")\n",
        "print(\"O valor será de: R$\",vgalao)\n",
        "print()\n",
        "print(\"Misturando latas e galões, de forma que o desperdício seja menor:\")\n",
        "print(\"quantidade de galões:\",galao_misto)\n",
        "print(\"quantidade de latas:\",lata_misto)\n",
        "print(\"O valor será de R$:\",vgalao_misto + vlata_misto)"
      ]
    }
  ],
  "metadata": {
    "kernelspec": {
      "display_name": "Python 3 (ipykernel)",
      "language": "python",
      "name": "python3"
    },
    "language_info": {
      "codemirror_mode": {
        "name": "ipython",
        "version": 3
      },
      "file_extension": ".py",
      "mimetype": "text/x-python",
      "name": "python",
      "nbconvert_exporter": "python",
      "pygments_lexer": "ipython3",
      "version": "3.9.7"
    },
    "colab": {
      "name": "Semana1.ipynb",
      "provenance": []
    }
  },
  "nbformat": 4,
  "nbformat_minor": 5
}