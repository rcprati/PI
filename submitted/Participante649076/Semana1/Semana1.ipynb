{
  "cells": [
    {
      "cell_type": "markdown",
      "id": "d4a1d469",
      "metadata": {
        "id": "d4a1d469"
      },
      "source": [
        "# Instruções\n",
        "\n",
        "- Antes de resolver esses exercícios, certifique-se que a configuração está correta (Python 3).\n",
        "\n",
        "- Se estiver usando o Colab, faça uma cópia deste notebook antes de começar a repondê-lo.\n",
        "\n",
        "![](http://professor.ufabc.edu.br/~ronaldo.prati/colab.png)\n",
        "\n",
        "- Lembre-se de manter o nome do caderno com o mesmo nome original.\n",
        "\n",
        "- Não apague nem introduza novas células neste notebook.\n",
        "\n",
        "- Certifique-se que você preencheu todos os lugares que dizem \\\"YOUR CODE HERE\\\" ou \\\"YOUR ANSWER HERE\\\". Substitutua essa linha e também a linha `raise NotImplementedError()` pelo seu código.\n",
        "\n",
        "- Depois de resolver os exercícios, para enviar a atividade, salve o notebook e o envie pelo moodle da disciplina. No colab, para exportar o notebook localmente, acesse `File->Download->Download .ipynb` ou `Arquivo->Baixar->Baixar .ipynb`\n",
        "\n",
        "![](http://professor.ufabc.edu.br/~ronaldo.prati/submit.png)"
      ]
    },
    {
      "cell_type": "markdown",
      "id": "5f82cbf3",
      "metadata": {
        "deletable": false,
        "editable": false,
        "nbgrader": {
          "cell_type": "markdown",
          "checksum": "f1f911b3ba8050e102209c62c8db3f57",
          "grade": false,
          "grade_id": "Exercicio1-descricao",
          "locked": true,
          "schema_version": 3,
          "solution": false,
          "task": false
        },
        "id": "5f82cbf3"
      },
      "source": [
        "# Exercício 1\n",
        "\n",
        "Faça um programa que peça um número e armazene-o em uma variável. A seguir, mostre a mensagem \"O número informado foi [número]\""
      ]
    },
    {
      "cell_type": "code",
      "execution_count": 9,
      "id": "98f0fd7a",
      "metadata": {
        "deletable": false,
        "nbgrader": {
          "cell_type": "code",
          "checksum": "74fb8b9b0c1978c0db15aa13a5696150",
          "grade": true,
          "grade_id": "Exercicio1",
          "locked": false,
          "points": 1,
          "schema_version": 3,
          "solution": true,
          "task": false
        },
        "id": "98f0fd7a",
        "colab": {
          "base_uri": "https://localhost:8080/"
        },
        "outputId": "6f34f242-868f-404d-88a3-4aebe21bb2df"
      },
      "outputs": [
        {
          "output_type": "stream",
          "name": "stdout",
          "text": [
            "200\n",
            "O número informado foi 200.0\n"
          ]
        }
      ],
      "source": [
        "x = float(input())\n",
        "print(\"O número informado foi\",x)"
      ]
    },
    {
      "cell_type": "markdown",
      "id": "dd8c0af2",
      "metadata": {
        "deletable": false,
        "editable": false,
        "nbgrader": {
          "cell_type": "markdown",
          "checksum": "e1645b130e5fd8363c5a31803d8a6730",
          "grade": false,
          "grade_id": "Exercicio2-descricao",
          "locked": true,
          "schema_version": 3,
          "solution": false,
          "task": false
        },
        "id": "dd8c0af2"
      },
      "source": [
        "# Exercício 2\n",
        "\n",
        "Faça um Programa que peça o raio de um círculo, calcule e mostre sua área.\n",
        "Dica: para usar o valor de $\\pi$, pesquise por `math.pi`."
      ]
    },
    {
      "cell_type": "code",
      "execution_count": 10,
      "id": "407e7f33",
      "metadata": {
        "deletable": false,
        "nbgrader": {
          "cell_type": "code",
          "checksum": "41ef7b01abeaa8d74e2893a5054fb644",
          "grade": true,
          "grade_id": "Exercicio2",
          "locked": false,
          "points": 1,
          "schema_version": 3,
          "solution": true,
          "task": false
        },
        "id": "407e7f33",
        "colab": {
          "base_uri": "https://localhost:8080/"
        },
        "outputId": "7c15af66-d5c6-46aa-a1ce-699ab2017dc7"
      },
      "outputs": [
        {
          "output_type": "stream",
          "name": "stdout",
          "text": [
            "Digite o valor do raio do círculo 0.75\n",
            "A área do círculo é 1.7671458676442586\n"
          ]
        }
      ],
      "source": [
        "import math\n",
        "\n",
        "r = float(input(\"Digite o valor do raio do círculo \"))\n",
        "\n",
        "A = math.pi * r**2\n",
        "\n",
        "print(\"A área do círculo é\",A)"
      ]
    },
    {
      "cell_type": "markdown",
      "id": "868cfe1c",
      "metadata": {
        "deletable": false,
        "editable": false,
        "nbgrader": {
          "cell_type": "markdown",
          "checksum": "83a396c8ae7ca1696f25c00d928c9d55",
          "grade": false,
          "grade_id": "Exercicio3-descricao",
          "locked": true,
          "schema_version": 3,
          "solution": false,
          "task": false
        },
        "id": "868cfe1c"
      },
      "source": [
        "# Exercício 3\n",
        "\n",
        "Faça um Programa que peça 2 números inteiros e um número real. Calcule e mostre:\n",
        "\n",
        "   - o produto do dobro do primeiro com metade do segundo .\n",
        "   - a soma do triplo do primeiro com o terceiro.\n",
        "   - o terceiro elevado ao cubo. "
      ]
    },
    {
      "cell_type": "code",
      "execution_count": 12,
      "id": "0f2c4944",
      "metadata": {
        "deletable": false,
        "nbgrader": {
          "cell_type": "code",
          "checksum": "01db6a60d8afd153075785a9f8e10ea5",
          "grade": true,
          "grade_id": "Exercicio3",
          "locked": false,
          "points": 1,
          "schema_version": 3,
          "solution": true,
          "task": false
        },
        "id": "0f2c4944",
        "colab": {
          "base_uri": "https://localhost:8080/"
        },
        "outputId": "138c4452-f553-4999-c8c8-61a8ea55ddee"
      },
      "outputs": [
        {
          "output_type": "stream",
          "name": "stdout",
          "text": [
            "Digite um número inteiro 5\n",
            "Digite outro número inteiro 7\n",
            "Digite um número real 3.567\n",
            "O produto do dobro do primeiro com metade do segundo é 35.0\n",
            "A soma do triplo do primeiro com o terceiro é 18.567\n",
            "O terceiro elevado ao cubo é 45.38468526300001\n"
          ]
        }
      ],
      "source": [
        "x = int(input(\"Digite um número inteiro \"))\n",
        "y = int(input(\"Digite outro número inteiro \"))\n",
        "a = float(input(\"Digite um número real \"))\n",
        "\n",
        "r1 = (2*x) * (0.5*y)\n",
        "r2 = (3*x) + a\n",
        "r3 = a**3\n",
        "\n",
        "print(\"O produto do dobro do primeiro com metade do segundo é\",r1)\n",
        "print(\"A soma do triplo do primeiro com o terceiro é\",r2)\n",
        "print(\"O terceiro elevado ao cubo é\",r3)\n"
      ]
    },
    {
      "cell_type": "markdown",
      "id": "d3996f2c",
      "metadata": {
        "deletable": false,
        "editable": false,
        "nbgrader": {
          "cell_type": "markdown",
          "checksum": "dbee5e0c5c9a02ca7b0fbcbf0c5018fd",
          "grade": false,
          "grade_id": "Exercicio4-descricao",
          "locked": true,
          "schema_version": 3,
          "solution": false,
          "task": false
        },
        "id": "d3996f2c"
      },
      "source": [
        "# Exercício 4\n",
        "\n",
        "Faça um programa que pergunte quanto você ganha por hora e o número de horas trabalhadas na semana. Calcule e mostre o total do seu salário ao final de 4 semanas. "
      ]
    },
    {
      "cell_type": "code",
      "execution_count": 16,
      "id": "5a307587",
      "metadata": {
        "deletable": false,
        "nbgrader": {
          "cell_type": "code",
          "checksum": "e511551fc875680ccd9679f9b2c21414",
          "grade": true,
          "grade_id": "Exercicio4",
          "locked": false,
          "points": 1,
          "schema_version": 3,
          "solution": true,
          "task": false
        },
        "id": "5a307587",
        "colab": {
          "base_uri": "https://localhost:8080/"
        },
        "outputId": "ff322141-9cff-46e0-da78-a99b256a72db"
      },
      "outputs": [
        {
          "output_type": "stream",
          "name": "stdout",
          "text": [
            "Digite a quantia que você ganha por hora 31.25\n",
            "Digite  o número de horas trabalhadas na semana 30\n",
            "Seu salário ao final de 4 semanas é 3750.0\n"
          ]
        }
      ],
      "source": [
        "sh = float(input(\"Digite a quantia que você ganha por hora \"))\n",
        "nh = float(input(\"Digite  o número de horas trabalhadas na semana \"))\n",
        "\n",
        "qs = sh * nh \n",
        "s4 = 4*qs \n",
        "\n",
        "print(\"Seu salário ao final de 4 semanas é\",s4)"
      ]
    },
    {
      "cell_type": "markdown",
      "id": "d5088446",
      "metadata": {
        "deletable": false,
        "editable": false,
        "nbgrader": {
          "cell_type": "markdown",
          "checksum": "c82b175f45419cc78a6f0efc08f9ab15",
          "grade": false,
          "grade_id": "Exercicio5-descricao",
          "locked": true,
          "schema_version": 3,
          "solution": false,
          "task": false
        },
        "id": "d5088446"
      },
      "source": [
        "# Exercício 5\n",
        "\n",
        "Faça um programa que leia um número inteiro qualquer e que apresete, além do número informado, o seu antecessor e do seu sucessor."
      ]
    },
    {
      "cell_type": "code",
      "execution_count": 18,
      "id": "a09fcc89",
      "metadata": {
        "deletable": false,
        "nbgrader": {
          "cell_type": "code",
          "checksum": "9f693e117e3e2158f95ee76dc96292a0",
          "grade": true,
          "grade_id": "Exercicio5",
          "locked": false,
          "points": 1,
          "schema_version": 3,
          "solution": true,
          "task": false
        },
        "id": "a09fcc89",
        "colab": {
          "base_uri": "https://localhost:8080/"
        },
        "outputId": "06d70386-a6f0-4c40-eaef-053c0c799931"
      },
      "outputs": [
        {
          "output_type": "stream",
          "name": "stdout",
          "text": [
            "Digite um número inteiro 10\n",
            "O número digitado foi 10\n",
            "O antecessor desse número é 9\n",
            "O sucessor desse número é 11\n"
          ]
        }
      ],
      "source": [
        "n = int(input(\"Digite um número inteiro \"))\n",
        "nm1 = n - 1 \n",
        "np1 = n + 1\n",
        "\n",
        "print(\"O número digitado foi\", n)\n",
        "print(\"O antecessor desse número é\",nm1)\n",
        "print(\"O sucessor desse número é\",np1)\n",
        "\n"
      ]
    },
    {
      "cell_type": "markdown",
      "id": "57a3fb31",
      "metadata": {
        "deletable": false,
        "editable": false,
        "nbgrader": {
          "cell_type": "markdown",
          "checksum": "537bdb2e45ec13ee95cea397e02744f2",
          "grade": false,
          "grade_id": "Exercicio6-descricao",
          "locked": true,
          "schema_version": 3,
          "solution": false,
          "task": false
        },
        "id": "57a3fb31"
      },
      "source": [
        "# Exercício 6\n",
        "\n",
        "Faça um programa que leia quatro notas, e seus respectivos pesos, e que apresente a média final simples e a média final ponderada."
      ]
    },
    {
      "cell_type": "code",
      "execution_count": 19,
      "id": "10e12fd4",
      "metadata": {
        "deletable": false,
        "nbgrader": {
          "cell_type": "code",
          "checksum": "ff1bbd3e5c18dc73d5e0328c41d74739",
          "grade": true,
          "grade_id": "Exercicio6",
          "locked": false,
          "points": 1,
          "schema_version": 3,
          "solution": true,
          "task": false
        },
        "id": "10e12fd4",
        "colab": {
          "base_uri": "https://localhost:8080/"
        },
        "outputId": "468c69b1-bf7b-4f0e-dcb0-c176ba0d54dd"
      },
      "outputs": [
        {
          "output_type": "stream",
          "name": "stdout",
          "text": [
            "Digite a primeira nota: 8\n",
            "Digite o peso dessa nota: 2\n",
            "Digite a segunda nota: 7\n",
            "Digite o peso dessa nota: 3\n",
            "Digite a terceira nota: 2\n",
            "Digite o peso dessa nota: 4\n",
            "Digite a quarta nota: 8\n",
            "Digite o peso dessa nota: 2\n",
            "A média simples é: 6.25\n",
            "A média ponderada é: 5.545454545454546\n"
          ]
        }
      ],
      "source": [
        "n1 = float(input(\"Digite a primeira nota: \"))\n",
        "p1 = float(input(\"Digite o peso dessa nota: \"))\n",
        "n2 = float(input(\"Digite a segunda nota: \"))\n",
        "p2 = float(input(\"Digite o peso dessa nota: \"))\n",
        "n3 = float(input(\"Digite a terceira nota: \"))\n",
        "p3 = float(input(\"Digite o peso dessa nota: \"))\n",
        "n4 = float(input(\"Digite a quarta nota: \"))\n",
        "p4 = float(input(\"Digite o peso dessa nota: \"))\n",
        "\n",
        "ms = (n1 + n2 + n3 + n4)/4\n",
        "mp = (n1*p1 + n2*p2 + n3*p3 + n4*p4)/(p1+p2+p3+p4)\n",
        "\n",
        "print(\"A média simples é:\",ms)\n",
        "print(\"A média ponderada é:\",mp)"
      ]
    },
    {
      "cell_type": "markdown",
      "id": "da81404d",
      "metadata": {
        "deletable": false,
        "editable": false,
        "nbgrader": {
          "cell_type": "markdown",
          "checksum": "6f91f7198e36290a15c6547e839a5885",
          "grade": false,
          "grade_id": "Exercicio7-descricao",
          "locked": true,
          "schema_version": 3,
          "solution": false,
          "task": false
        },
        "id": "da81404d"
      },
      "source": [
        "# Exercício 7\n",
        "\n",
        "Faça um programa para uma loja de tintas. O programa deverá pedir o tamanho em metros quadrados da área a ser pintada. Considere que a cobertura da tinta é de 1 litro para cada 12 metros quadrados e que a tinta é vendida em latas de 18 litros, que custam R$ 80,00. Informe ao usuário a quantidades de latas de tinta a serem compradas e o preço total. "
      ]
    },
    {
      "cell_type": "code",
      "execution_count": 28,
      "id": "2a1f6a9c",
      "metadata": {
        "deletable": false,
        "nbgrader": {
          "cell_type": "code",
          "checksum": "0b356a405bcdf2f889a9a95d9a196d61",
          "grade": true,
          "grade_id": "Exercicio7",
          "locked": false,
          "points": 2,
          "schema_version": 3,
          "solution": true,
          "task": false
        },
        "id": "2a1f6a9c",
        "colab": {
          "base_uri": "https://localhost:8080/"
        },
        "outputId": "e0c13253-3c63-4513-f403-8d954a51e9ab"
      },
      "outputs": [
        {
          "output_type": "stream",
          "name": "stdout",
          "text": [
            "Qual tamanho da área a ser pintada? 3548\n",
            "A quantidade de latas a serem compradas são: 17\n",
            "O preço total é: 1360\n"
          ]
        }
      ],
      "source": [
        "import math\n",
        "a = float(input(\"Qual tamanho da área a ser pintada? \"))\n",
        "\n",
        "litros =  a/12 \n",
        "latas = math.ceil(litros/18)\n",
        "custo = latas*80 \n",
        "\n",
        "print(\"A quantidade de latas a serem compradas são:\",latas)\n",
        "print(\"O preço total é:\",custo)"
      ]
    },
    {
      "cell_type": "markdown",
      "id": "79eca3d1",
      "metadata": {
        "deletable": false,
        "editable": false,
        "nbgrader": {
          "cell_type": "markdown",
          "checksum": "e44b2f3971c79d43c75c12bce821c4d9",
          "grade": false,
          "grade_id": "Exercicio8-descricao",
          "locked": true,
          "schema_version": 3,
          "solution": false,
          "task": false
        },
        "id": "79eca3d1"
      },
      "source": [
        "# Exercício 8\n",
        "\n",
        "Faça um Programa para uma loja de tintas. O programa deverá pedir o tamanho em metros quadrados da área a ser pintada. Considere que a cobertura da tinta é de 1 litro para cada 12 metros quadrados e que a tinta é vendida em latas de 18 litros, que custam R$ 80,00 ou em galões de 3,6 litros, que custam R$ 25,00.\n",
        "\n",
        "Informe ao usuário as quantidades de tinta a serem compradas e os respectivos preços em 3 situações:\n",
        "\n",
        "    - comprar apenas latas de 18 litros;\n",
        "    - comprar apenas galões de 3,6 litros;\n",
        "    - misturar latas e galões, de forma que o desperdício de tinta seja menor. \n",
        "    \n",
        "Acrescente 10% de folga nos três casos (isto é, você deve adicionar 10% sobre o total de litros de tinta necessário) e sempre arredonde os valores para cima, isto é, considere latas cheias. \n",
        "\n"
      ]
    },
    {
      "cell_type": "code",
      "execution_count": 31,
      "id": "54c1e741",
      "metadata": {
        "deletable": false,
        "nbgrader": {
          "cell_type": "code",
          "checksum": "8f12ca6f898fe140e2eb04c84fc6c8f3",
          "grade": true,
          "grade_id": "Exercicio8",
          "locked": false,
          "points": 2,
          "schema_version": 3,
          "solution": true,
          "task": false
        },
        "id": "54c1e741",
        "colab": {
          "base_uri": "https://localhost:8080/"
        },
        "outputId": "367a19f8-7292-4629-f090-34e05b9cbdfa"
      },
      "outputs": [
        {
          "output_type": "stream",
          "name": "stdout",
          "text": [
            "Qual tamanho da área a ser pintada? 672\n",
            "Comprando apenas latas, são necessáriarias: 4 Seu custo é de: 320\n",
            "Comprando apenas galões, são necessários: 18 e seu custo é de: 450\n",
            "Misturando ambos para evitar desperdício, são necessários: 3 latas. E são necessários: 3 galões. O custo dessa mistura é de: 315\n"
          ]
        }
      ],
      "source": [
        "import math \n",
        "\n",
        "a = float(input(\"Qual tamanho da área a ser pintada? \"))\n",
        "\n",
        "litros =  (a/12)*1.1\n",
        "latas = math.ceil(litros/18)\n",
        "custo_latas = latas*80\n",
        "\n",
        "galoes = math.ceil(litros/3.6)\n",
        "custo_galoes = galoes*25\n",
        "\n",
        "\n",
        "latas_baixo= round(litros/18)\n",
        "faltam = litros - latas_baixo*18\n",
        "restante = math.ceil(faltam/3.6)\n",
        "custo_restante = restante*25\n",
        "custo_mix = latas_baixo*80 + custo_restante\n",
        "\n",
        "print(\"Comprando apenas latas, são necessáriarias:\",latas,\"Seu custo é de:\",custo_latas)\n",
        "print(\"Comprando apenas galões, são necessários:\",galoes,\"e seu custo é de:\",custo_galoes)\n",
        "print(\"Misturando ambos para evitar desperdício, são necessários:\",latas_baixo,\"latas. E são necessários:\",restante,\"galões. O custo dessa mistura é de:\",custo_mix)\n",
        "\n",
        "\n",
        "\n",
        "\n",
        "\n"
      ]
    }
  ],
  "metadata": {
    "kernelspec": {
      "display_name": "Python 3 (ipykernel)",
      "language": "python",
      "name": "python3"
    },
    "language_info": {
      "codemirror_mode": {
        "name": "ipython",
        "version": 3
      },
      "file_extension": ".py",
      "mimetype": "text/x-python",
      "name": "python",
      "nbconvert_exporter": "python",
      "pygments_lexer": "ipython3",
      "version": "3.9.7"
    },
    "colab": {
      "name": "Semana1.ipynb",
      "provenance": [],
      "collapsed_sections": []
    }
  },
  "nbformat": 4,
  "nbformat_minor": 5
}