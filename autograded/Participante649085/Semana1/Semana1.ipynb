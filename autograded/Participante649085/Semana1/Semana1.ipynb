{
 "cells": [
  {
   "cell_type": "markdown",
   "id": "d4a1d469",
   "metadata": {
    "id": "d4a1d469"
   },
   "source": [
    "# Instruções\n",
    "\n",
    "- Antes de resolver esses exercícios, certifique-se que a configuração está correta (Python 3).\n",
    "\n",
    "- Se estiver usando o Colab, faça uma cópia deste notebook antes de começar a repondê-lo.\n",
    "\n",
    "![](http://professor.ufabc.edu.br/~ronaldo.prati/colab.png)\n",
    "\n",
    "- Lembre-se de manter o nome do caderno com o mesmo nome original.\n",
    "\n",
    "- Não apague nem introduza novas células neste notebook.\n",
    "\n",
    "- Certifique-se que você preencheu todos os lugares que dizem \\\"YOUR CODE HERE\\\" ou \\\"YOUR ANSWER HERE\\\". Substitutua essa linha e também a linha `raise NotImplementedError()` pelo seu código.\n",
    "\n",
    "- Depois de resolver os exercícios, para enviar a atividade, salve o notebook e o envie pelo moodle da disciplina. No colab, para exportar o notebook localmente, acesse `File->Download->Download .ipynb` ou `Arquivo->Baixar->Baixar .ipynb`\n",
    "\n",
    "![](http://professor.ufabc.edu.br/~ronaldo.prati/submit.png)"
   ]
  },
  {
   "cell_type": "markdown",
   "id": "5f82cbf3",
   "metadata": {
    "deletable": false,
    "editable": false,
    "id": "5f82cbf3",
    "nbgrader": {
     "cell_type": "markdown",
     "checksum": "f1f911b3ba8050e102209c62c8db3f57",
     "grade": false,
     "grade_id": "Exercicio1-descricao",
     "locked": true,
     "schema_version": 3,
     "solution": false,
     "task": false
    }
   },
   "source": [
    "# Exercício 1\n",
    "\n",
    "Faça um programa que peça um número e armazene-o em uma variável. A seguir, mostre a mensagem \"O número informado foi [número]\""
   ]
  },
  {
   "cell_type": "code",
   "execution_count": 1,
   "id": "98f0fd7a",
   "metadata": {
    "colab": {
     "base_uri": "https://localhost:8080/"
    },
    "deletable": false,
    "execution": {
     "iopub.execute_input": "2022-06-27T16:35:45.213277Z",
     "iopub.status.busy": "2022-06-27T16:35:45.212334Z",
     "iopub.status.idle": "2022-06-27T16:35:45.938751Z",
     "shell.execute_reply": "2022-06-27T16:35:45.938004Z"
    },
    "id": "98f0fd7a",
    "nbgrader": {
     "cell_type": "code",
     "checksum": "74fb8b9b0c1978c0db15aa13a5696150",
     "grade": true,
     "grade_id": "Exercicio1",
     "locked": false,
     "points": 1,
     "schema_version": 3,
     "solution": true,
     "task": false
    },
    "outputId": "2b42b794-b1dd-49b8-8a30-d22731c905b3"
   },
   "outputs": [
    {
     "ename": "StdinNotImplementedError",
     "evalue": "raw_input was called, but this frontend does not support input requests.",
     "output_type": "error",
     "traceback": [
      "\u001b[0;31m---------------------------------------------------------------------------\u001b[0m",
      "\u001b[0;31mStdinNotImplementedError\u001b[0m                  Traceback (most recent call last)",
      "Input \u001b[0;32mIn [1]\u001b[0m, in \u001b[0;36m<cell line: 1>\u001b[0;34m()\u001b[0m\n\u001b[0;32m----> 1\u001b[0m número \u001b[38;5;241m=\u001b[39m \u001b[38;5;28;43minput\u001b[39;49m\u001b[43m(\u001b[49m\u001b[38;5;124;43m\"\u001b[39;49m\u001b[38;5;124;43mInforme um número:\u001b[39;49m\u001b[38;5;124;43m\"\u001b[39;49m\u001b[43m)\u001b[49m\n\u001b[1;32m      2\u001b[0m \u001b[38;5;28mprint\u001b[39m(\u001b[38;5;124m\"\u001b[39m\u001b[38;5;124mO número informado foi\u001b[39m\u001b[38;5;124m\"\u001b[39m, número)\n",
      "File \u001b[0;32m~/anaconda3/lib/python3.9/site-packages/ipykernel/kernelbase.py:1072\u001b[0m, in \u001b[0;36mKernel.raw_input\u001b[0;34m(self, prompt)\u001b[0m\n\u001b[1;32m   1065\u001b[0m \u001b[38;5;124;03m\"\"\"Forward raw_input to frontends\u001b[39;00m\n\u001b[1;32m   1066\u001b[0m \n\u001b[1;32m   1067\u001b[0m \u001b[38;5;124;03mRaises\u001b[39;00m\n\u001b[1;32m   1068\u001b[0m \u001b[38;5;124;03m------\u001b[39;00m\n\u001b[1;32m   1069\u001b[0m \u001b[38;5;124;03mStdinNotImplementedError if active frontend doesn't support stdin.\u001b[39;00m\n\u001b[1;32m   1070\u001b[0m \u001b[38;5;124;03m\"\"\"\u001b[39;00m\n\u001b[1;32m   1071\u001b[0m \u001b[38;5;28;01mif\u001b[39;00m \u001b[38;5;129;01mnot\u001b[39;00m \u001b[38;5;28mself\u001b[39m\u001b[38;5;241m.\u001b[39m_allow_stdin:\n\u001b[0;32m-> 1072\u001b[0m     \u001b[38;5;28;01mraise\u001b[39;00m StdinNotImplementedError(\n\u001b[1;32m   1073\u001b[0m         \u001b[38;5;124m\"\u001b[39m\u001b[38;5;124mraw_input was called, but this frontend does not support input requests.\u001b[39m\u001b[38;5;124m\"\u001b[39m\n\u001b[1;32m   1074\u001b[0m     )\n\u001b[1;32m   1075\u001b[0m \u001b[38;5;28;01mreturn\u001b[39;00m \u001b[38;5;28mself\u001b[39m\u001b[38;5;241m.\u001b[39m_input_request(\n\u001b[1;32m   1076\u001b[0m     \u001b[38;5;28mstr\u001b[39m(prompt),\n\u001b[1;32m   1077\u001b[0m     \u001b[38;5;28mself\u001b[39m\u001b[38;5;241m.\u001b[39m_parent_ident[\u001b[38;5;124m\"\u001b[39m\u001b[38;5;124mshell\u001b[39m\u001b[38;5;124m\"\u001b[39m],\n\u001b[1;32m   1078\u001b[0m     \u001b[38;5;28mself\u001b[39m\u001b[38;5;241m.\u001b[39mget_parent(\u001b[38;5;124m\"\u001b[39m\u001b[38;5;124mshell\u001b[39m\u001b[38;5;124m\"\u001b[39m),\n\u001b[1;32m   1079\u001b[0m     password\u001b[38;5;241m=\u001b[39m\u001b[38;5;28;01mFalse\u001b[39;00m,\n\u001b[1;32m   1080\u001b[0m )\n",
      "\u001b[0;31mStdinNotImplementedError\u001b[0m: raw_input was called, but this frontend does not support input requests."
     ]
    }
   ],
   "source": [
    "número = input(\"Informe um número:\")\n",
    "print(\"O número informado foi\", número)\n"
   ]
  },
  {
   "cell_type": "markdown",
   "id": "dd8c0af2",
   "metadata": {
    "deletable": false,
    "editable": false,
    "id": "dd8c0af2",
    "nbgrader": {
     "cell_type": "markdown",
     "checksum": "e1645b130e5fd8363c5a31803d8a6730",
     "grade": false,
     "grade_id": "Exercicio2-descricao",
     "locked": true,
     "schema_version": 3,
     "solution": false,
     "task": false
    }
   },
   "source": [
    "# Exercício 2\n",
    "\n",
    "Faça um Programa que peça o raio de um círculo, calcule e mostre sua área.\n",
    "Dica: para usar o valor de $\\pi$, pesquise por `math.pi`."
   ]
  },
  {
   "cell_type": "code",
   "execution_count": 2,
   "id": "407e7f33",
   "metadata": {
    "colab": {
     "base_uri": "https://localhost:8080/"
    },
    "deletable": false,
    "execution": {
     "iopub.execute_input": "2022-06-27T16:35:45.941972Z",
     "iopub.status.busy": "2022-06-27T16:35:45.941688Z",
     "iopub.status.idle": "2022-06-27T16:35:45.963463Z",
     "shell.execute_reply": "2022-06-27T16:35:45.963007Z"
    },
    "id": "407e7f33",
    "nbgrader": {
     "cell_type": "code",
     "checksum": "41ef7b01abeaa8d74e2893a5054fb644",
     "grade": true,
     "grade_id": "Exercicio2",
     "locked": false,
     "points": 1,
     "schema_version": 3,
     "solution": true,
     "task": false
    },
    "outputId": "177c1649-243a-47f8-b92c-8d78d23acb6a"
   },
   "outputs": [
    {
     "ename": "StdinNotImplementedError",
     "evalue": "raw_input was called, but this frontend does not support input requests.",
     "output_type": "error",
     "traceback": [
      "\u001b[0;31m---------------------------------------------------------------------------\u001b[0m",
      "\u001b[0;31mStdinNotImplementedError\u001b[0m                  Traceback (most recent call last)",
      "Input \u001b[0;32mIn [2]\u001b[0m, in \u001b[0;36m<cell line: 2>\u001b[0;34m()\u001b[0m\n\u001b[1;32m      1\u001b[0m \u001b[38;5;28;01mimport\u001b[39;00m \u001b[38;5;21;01mmath\u001b[39;00m\n\u001b[0;32m----> 2\u001b[0m raio \u001b[38;5;241m=\u001b[39m \u001b[38;5;28;43minput\u001b[39;49m\u001b[43m(\u001b[49m\u001b[38;5;124;43m\"\u001b[39;49m\u001b[38;5;124;43mInforme o raio do circulo:\u001b[39;49m\u001b[38;5;124;43m\"\u001b[39;49m\u001b[43m)\u001b[49m\n\u001b[1;32m      3\u001b[0m área \u001b[38;5;241m=\u001b[39m math\u001b[38;5;241m.\u001b[39mpi\u001b[38;5;241m*\u001b[39m\u001b[38;5;28mint\u001b[39m(raio)\u001b[38;5;241m*\u001b[39m\u001b[38;5;241m*\u001b[39m\u001b[38;5;241m2\u001b[39m\n\u001b[1;32m      4\u001b[0m \u001b[38;5;28mprint\u001b[39m(\u001b[38;5;124m\"\u001b[39m\u001b[38;5;124mA área do circulo é:\u001b[39m\u001b[38;5;124m\"\u001b[39m, área)\n",
      "File \u001b[0;32m~/anaconda3/lib/python3.9/site-packages/ipykernel/kernelbase.py:1072\u001b[0m, in \u001b[0;36mKernel.raw_input\u001b[0;34m(self, prompt)\u001b[0m\n\u001b[1;32m   1065\u001b[0m \u001b[38;5;124;03m\"\"\"Forward raw_input to frontends\u001b[39;00m\n\u001b[1;32m   1066\u001b[0m \n\u001b[1;32m   1067\u001b[0m \u001b[38;5;124;03mRaises\u001b[39;00m\n\u001b[1;32m   1068\u001b[0m \u001b[38;5;124;03m------\u001b[39;00m\n\u001b[1;32m   1069\u001b[0m \u001b[38;5;124;03mStdinNotImplementedError if active frontend doesn't support stdin.\u001b[39;00m\n\u001b[1;32m   1070\u001b[0m \u001b[38;5;124;03m\"\"\"\u001b[39;00m\n\u001b[1;32m   1071\u001b[0m \u001b[38;5;28;01mif\u001b[39;00m \u001b[38;5;129;01mnot\u001b[39;00m \u001b[38;5;28mself\u001b[39m\u001b[38;5;241m.\u001b[39m_allow_stdin:\n\u001b[0;32m-> 1072\u001b[0m     \u001b[38;5;28;01mraise\u001b[39;00m StdinNotImplementedError(\n\u001b[1;32m   1073\u001b[0m         \u001b[38;5;124m\"\u001b[39m\u001b[38;5;124mraw_input was called, but this frontend does not support input requests.\u001b[39m\u001b[38;5;124m\"\u001b[39m\n\u001b[1;32m   1074\u001b[0m     )\n\u001b[1;32m   1075\u001b[0m \u001b[38;5;28;01mreturn\u001b[39;00m \u001b[38;5;28mself\u001b[39m\u001b[38;5;241m.\u001b[39m_input_request(\n\u001b[1;32m   1076\u001b[0m     \u001b[38;5;28mstr\u001b[39m(prompt),\n\u001b[1;32m   1077\u001b[0m     \u001b[38;5;28mself\u001b[39m\u001b[38;5;241m.\u001b[39m_parent_ident[\u001b[38;5;124m\"\u001b[39m\u001b[38;5;124mshell\u001b[39m\u001b[38;5;124m\"\u001b[39m],\n\u001b[1;32m   1078\u001b[0m     \u001b[38;5;28mself\u001b[39m\u001b[38;5;241m.\u001b[39mget_parent(\u001b[38;5;124m\"\u001b[39m\u001b[38;5;124mshell\u001b[39m\u001b[38;5;124m\"\u001b[39m),\n\u001b[1;32m   1079\u001b[0m     password\u001b[38;5;241m=\u001b[39m\u001b[38;5;28;01mFalse\u001b[39;00m,\n\u001b[1;32m   1080\u001b[0m )\n",
      "\u001b[0;31mStdinNotImplementedError\u001b[0m: raw_input was called, but this frontend does not support input requests."
     ]
    }
   ],
   "source": [
    "import math\n",
    "raio = input(\"Informe o raio do circulo:\")\n",
    "área = math.pi*int(raio)**2\n",
    "print(\"A área do circulo é:\", área) \n"
   ]
  },
  {
   "cell_type": "markdown",
   "id": "868cfe1c",
   "metadata": {
    "deletable": false,
    "editable": false,
    "id": "868cfe1c",
    "nbgrader": {
     "cell_type": "markdown",
     "checksum": "83a396c8ae7ca1696f25c00d928c9d55",
     "grade": false,
     "grade_id": "Exercicio3-descricao",
     "locked": true,
     "schema_version": 3,
     "solution": false,
     "task": false
    }
   },
   "source": [
    "# Exercício 3\n",
    "\n",
    "Faça um Programa que peça 2 números inteiros e um número real. Calcule e mostre:\n",
    "\n",
    "   - o produto do dobro do primeiro com metade do segundo .\n",
    "   - a soma do triplo do primeiro com o terceiro.\n",
    "   - o terceiro elevado ao cubo. "
   ]
  },
  {
   "cell_type": "code",
   "execution_count": 3,
   "id": "0f2c4944",
   "metadata": {
    "colab": {
     "base_uri": "https://localhost:8080/"
    },
    "deletable": false,
    "execution": {
     "iopub.execute_input": "2022-06-27T16:35:45.966269Z",
     "iopub.status.busy": "2022-06-27T16:35:45.965951Z",
     "iopub.status.idle": "2022-06-27T16:35:46.000293Z",
     "shell.execute_reply": "2022-06-27T16:35:45.999253Z"
    },
    "id": "0f2c4944",
    "nbgrader": {
     "cell_type": "code",
     "checksum": "01db6a60d8afd153075785a9f8e10ea5",
     "grade": true,
     "grade_id": "Exercicio3",
     "locked": false,
     "points": 1,
     "schema_version": 3,
     "solution": true,
     "task": false
    },
    "outputId": "66355ae3-2bc0-40cd-918a-63e3d40ae33a"
   },
   "outputs": [
    {
     "ename": "StdinNotImplementedError",
     "evalue": "raw_input was called, but this frontend does not support input requests.",
     "output_type": "error",
     "traceback": [
      "\u001b[0;31m---------------------------------------------------------------------------\u001b[0m",
      "\u001b[0;31mStdinNotImplementedError\u001b[0m                  Traceback (most recent call last)",
      "Input \u001b[0;32mIn [3]\u001b[0m, in \u001b[0;36m<cell line: 1>\u001b[0;34m()\u001b[0m\n\u001b[0;32m----> 1\u001b[0m número_1 \u001b[38;5;241m=\u001b[39m \u001b[38;5;28mint\u001b[39m (\u001b[38;5;28;43minput\u001b[39;49m\u001b[43m(\u001b[49m\u001b[38;5;124;43m\"\u001b[39;49m\u001b[38;5;124;43minforme um número inteiro:\u001b[39;49m\u001b[38;5;124;43m\"\u001b[39;49m\u001b[43m)\u001b[49m)\n\u001b[1;32m      2\u001b[0m número_2 \u001b[38;5;241m=\u001b[39m \u001b[38;5;28mint\u001b[39m (\u001b[38;5;28minput\u001b[39m(\u001b[38;5;124m\"\u001b[39m\u001b[38;5;124minforme outro número inteiro:\u001b[39m\u001b[38;5;124m\"\u001b[39m))\n\u001b[1;32m      3\u001b[0m número_real \u001b[38;5;241m=\u001b[39m \u001b[38;5;28mfloat\u001b[39m (\u001b[38;5;28minput\u001b[39m(\u001b[38;5;124m\"\u001b[39m\u001b[38;5;124minforme um número real:\u001b[39m\u001b[38;5;124m\"\u001b[39m))\n",
      "File \u001b[0;32m~/anaconda3/lib/python3.9/site-packages/ipykernel/kernelbase.py:1072\u001b[0m, in \u001b[0;36mKernel.raw_input\u001b[0;34m(self, prompt)\u001b[0m\n\u001b[1;32m   1065\u001b[0m \u001b[38;5;124;03m\"\"\"Forward raw_input to frontends\u001b[39;00m\n\u001b[1;32m   1066\u001b[0m \n\u001b[1;32m   1067\u001b[0m \u001b[38;5;124;03mRaises\u001b[39;00m\n\u001b[1;32m   1068\u001b[0m \u001b[38;5;124;03m------\u001b[39;00m\n\u001b[1;32m   1069\u001b[0m \u001b[38;5;124;03mStdinNotImplementedError if active frontend doesn't support stdin.\u001b[39;00m\n\u001b[1;32m   1070\u001b[0m \u001b[38;5;124;03m\"\"\"\u001b[39;00m\n\u001b[1;32m   1071\u001b[0m \u001b[38;5;28;01mif\u001b[39;00m \u001b[38;5;129;01mnot\u001b[39;00m \u001b[38;5;28mself\u001b[39m\u001b[38;5;241m.\u001b[39m_allow_stdin:\n\u001b[0;32m-> 1072\u001b[0m     \u001b[38;5;28;01mraise\u001b[39;00m StdinNotImplementedError(\n\u001b[1;32m   1073\u001b[0m         \u001b[38;5;124m\"\u001b[39m\u001b[38;5;124mraw_input was called, but this frontend does not support input requests.\u001b[39m\u001b[38;5;124m\"\u001b[39m\n\u001b[1;32m   1074\u001b[0m     )\n\u001b[1;32m   1075\u001b[0m \u001b[38;5;28;01mreturn\u001b[39;00m \u001b[38;5;28mself\u001b[39m\u001b[38;5;241m.\u001b[39m_input_request(\n\u001b[1;32m   1076\u001b[0m     \u001b[38;5;28mstr\u001b[39m(prompt),\n\u001b[1;32m   1077\u001b[0m     \u001b[38;5;28mself\u001b[39m\u001b[38;5;241m.\u001b[39m_parent_ident[\u001b[38;5;124m\"\u001b[39m\u001b[38;5;124mshell\u001b[39m\u001b[38;5;124m\"\u001b[39m],\n\u001b[1;32m   1078\u001b[0m     \u001b[38;5;28mself\u001b[39m\u001b[38;5;241m.\u001b[39mget_parent(\u001b[38;5;124m\"\u001b[39m\u001b[38;5;124mshell\u001b[39m\u001b[38;5;124m\"\u001b[39m),\n\u001b[1;32m   1079\u001b[0m     password\u001b[38;5;241m=\u001b[39m\u001b[38;5;28;01mFalse\u001b[39;00m,\n\u001b[1;32m   1080\u001b[0m )\n",
      "\u001b[0;31mStdinNotImplementedError\u001b[0m: raw_input was called, but this frontend does not support input requests."
     ]
    }
   ],
   "source": [
    "número_1 = int (input(\"informe um número inteiro:\"))\n",
    "número_2 = int (input(\"informe outro número inteiro:\"))\n",
    "número_real = float (input(\"informe um número real:\"))\n",
    "\n",
    "a = ((2 * número_1) *( número_2 / 2))\n",
    "b = ((3*número_1) + número_real)\n",
    "c = número_real**3\n",
    "\n",
    "print(\"o produto do dobro do primeiro com metade do segundo:\", a)\n",
    "print(\"a soma do triplo do primeiro com o terceiro:\", b)\n",
    "print(\"o terceiro elevado ao cubo:\", c)\n"
   ]
  },
  {
   "cell_type": "markdown",
   "id": "d3996f2c",
   "metadata": {
    "deletable": false,
    "editable": false,
    "id": "d3996f2c",
    "nbgrader": {
     "cell_type": "markdown",
     "checksum": "dbee5e0c5c9a02ca7b0fbcbf0c5018fd",
     "grade": false,
     "grade_id": "Exercicio4-descricao",
     "locked": true,
     "schema_version": 3,
     "solution": false,
     "task": false
    }
   },
   "source": [
    "# Exercício 4\n",
    "\n",
    "Faça um programa que pergunte quanto você ganha por hora e o número de horas trabalhadas na semana. Calcule e mostre o total do seu salário ao final de 4 semanas. "
   ]
  },
  {
   "cell_type": "code",
   "execution_count": 4,
   "id": "5a307587",
   "metadata": {
    "colab": {
     "base_uri": "https://localhost:8080/"
    },
    "deletable": false,
    "execution": {
     "iopub.execute_input": "2022-06-27T16:35:46.007262Z",
     "iopub.status.busy": "2022-06-27T16:35:46.006868Z",
     "iopub.status.idle": "2022-06-27T16:35:46.050045Z",
     "shell.execute_reply": "2022-06-27T16:35:46.049025Z"
    },
    "id": "5a307587",
    "nbgrader": {
     "cell_type": "code",
     "checksum": "e511551fc875680ccd9679f9b2c21414",
     "grade": true,
     "grade_id": "Exercicio4",
     "locked": false,
     "points": 1,
     "schema_version": 3,
     "solution": true,
     "task": false
    },
    "outputId": "2c8a0601-c00d-4d3e-ce13-eb9316c013bc"
   },
   "outputs": [
    {
     "ename": "StdinNotImplementedError",
     "evalue": "raw_input was called, but this frontend does not support input requests.",
     "output_type": "error",
     "traceback": [
      "\u001b[0;31m---------------------------------------------------------------------------\u001b[0m",
      "\u001b[0;31mStdinNotImplementedError\u001b[0m                  Traceback (most recent call last)",
      "Input \u001b[0;32mIn [4]\u001b[0m, in \u001b[0;36m<cell line: 1>\u001b[0;34m()\u001b[0m\n\u001b[0;32m----> 1\u001b[0m valor_hora \u001b[38;5;241m=\u001b[39m \u001b[38;5;28mfloat\u001b[39m (\u001b[38;5;28;43minput\u001b[39;49m\u001b[43m(\u001b[49m\u001b[38;5;124;43m\"\u001b[39;49m\u001b[38;5;124;43mQuanto você ganha por hora?\u001b[39;49m\u001b[38;5;124;43m\"\u001b[39;49m\u001b[43m)\u001b[49m)\n\u001b[1;32m      2\u001b[0m horas \u001b[38;5;241m=\u001b[39m \u001b[38;5;28mfloat\u001b[39m (\u001b[38;5;28minput\u001b[39m(\u001b[38;5;124m\"\u001b[39m\u001b[38;5;124mQuantas horas você trabalha na semana?\u001b[39m\u001b[38;5;124m\"\u001b[39m))\n\u001b[1;32m      4\u001b[0m pagamento \u001b[38;5;241m=\u001b[39m (valor_hora \u001b[38;5;241m*\u001b[39m horas) \u001b[38;5;241m*\u001b[39m \u001b[38;5;241m4\u001b[39m\n",
      "File \u001b[0;32m~/anaconda3/lib/python3.9/site-packages/ipykernel/kernelbase.py:1072\u001b[0m, in \u001b[0;36mKernel.raw_input\u001b[0;34m(self, prompt)\u001b[0m\n\u001b[1;32m   1065\u001b[0m \u001b[38;5;124;03m\"\"\"Forward raw_input to frontends\u001b[39;00m\n\u001b[1;32m   1066\u001b[0m \n\u001b[1;32m   1067\u001b[0m \u001b[38;5;124;03mRaises\u001b[39;00m\n\u001b[1;32m   1068\u001b[0m \u001b[38;5;124;03m------\u001b[39;00m\n\u001b[1;32m   1069\u001b[0m \u001b[38;5;124;03mStdinNotImplementedError if active frontend doesn't support stdin.\u001b[39;00m\n\u001b[1;32m   1070\u001b[0m \u001b[38;5;124;03m\"\"\"\u001b[39;00m\n\u001b[1;32m   1071\u001b[0m \u001b[38;5;28;01mif\u001b[39;00m \u001b[38;5;129;01mnot\u001b[39;00m \u001b[38;5;28mself\u001b[39m\u001b[38;5;241m.\u001b[39m_allow_stdin:\n\u001b[0;32m-> 1072\u001b[0m     \u001b[38;5;28;01mraise\u001b[39;00m StdinNotImplementedError(\n\u001b[1;32m   1073\u001b[0m         \u001b[38;5;124m\"\u001b[39m\u001b[38;5;124mraw_input was called, but this frontend does not support input requests.\u001b[39m\u001b[38;5;124m\"\u001b[39m\n\u001b[1;32m   1074\u001b[0m     )\n\u001b[1;32m   1075\u001b[0m \u001b[38;5;28;01mreturn\u001b[39;00m \u001b[38;5;28mself\u001b[39m\u001b[38;5;241m.\u001b[39m_input_request(\n\u001b[1;32m   1076\u001b[0m     \u001b[38;5;28mstr\u001b[39m(prompt),\n\u001b[1;32m   1077\u001b[0m     \u001b[38;5;28mself\u001b[39m\u001b[38;5;241m.\u001b[39m_parent_ident[\u001b[38;5;124m\"\u001b[39m\u001b[38;5;124mshell\u001b[39m\u001b[38;5;124m\"\u001b[39m],\n\u001b[1;32m   1078\u001b[0m     \u001b[38;5;28mself\u001b[39m\u001b[38;5;241m.\u001b[39mget_parent(\u001b[38;5;124m\"\u001b[39m\u001b[38;5;124mshell\u001b[39m\u001b[38;5;124m\"\u001b[39m),\n\u001b[1;32m   1079\u001b[0m     password\u001b[38;5;241m=\u001b[39m\u001b[38;5;28;01mFalse\u001b[39;00m,\n\u001b[1;32m   1080\u001b[0m )\n",
      "\u001b[0;31mStdinNotImplementedError\u001b[0m: raw_input was called, but this frontend does not support input requests."
     ]
    }
   ],
   "source": [
    "valor_hora = float (input(\"Quanto você ganha por hora?\"))\n",
    "horas = float (input(\"Quantas horas você trabalha na semana?\"))\n",
    "\n",
    "pagamento = (valor_hora * horas) * 4\n",
    "\n",
    "print(\"Seu salário é:\", pagamento)"
   ]
  },
  {
   "cell_type": "markdown",
   "id": "d5088446",
   "metadata": {
    "deletable": false,
    "editable": false,
    "id": "d5088446",
    "nbgrader": {
     "cell_type": "markdown",
     "checksum": "c82b175f45419cc78a6f0efc08f9ab15",
     "grade": false,
     "grade_id": "Exercicio5-descricao",
     "locked": true,
     "schema_version": 3,
     "solution": false,
     "task": false
    }
   },
   "source": [
    "# Exercício 5\n",
    "\n",
    "Faça um programa que leia um número inteiro qualquer e que apresete, além do número informado, o seu antecessor e do seu sucessor."
   ]
  },
  {
   "cell_type": "code",
   "execution_count": 5,
   "id": "a09fcc89",
   "metadata": {
    "colab": {
     "base_uri": "https://localhost:8080/"
    },
    "deletable": false,
    "execution": {
     "iopub.execute_input": "2022-06-27T16:35:46.056255Z",
     "iopub.status.busy": "2022-06-27T16:35:46.055758Z",
     "iopub.status.idle": "2022-06-27T16:35:46.080040Z",
     "shell.execute_reply": "2022-06-27T16:35:46.079209Z"
    },
    "id": "a09fcc89",
    "nbgrader": {
     "cell_type": "code",
     "checksum": "9f693e117e3e2158f95ee76dc96292a0",
     "grade": true,
     "grade_id": "Exercicio5",
     "locked": false,
     "points": 1,
     "schema_version": 3,
     "solution": true,
     "task": false
    },
    "outputId": "b5884521-d06d-4aff-83ad-8c699f54dc29"
   },
   "outputs": [
    {
     "ename": "StdinNotImplementedError",
     "evalue": "raw_input was called, but this frontend does not support input requests.",
     "output_type": "error",
     "traceback": [
      "\u001b[0;31m---------------------------------------------------------------------------\u001b[0m",
      "\u001b[0;31mStdinNotImplementedError\u001b[0m                  Traceback (most recent call last)",
      "Input \u001b[0;32mIn [5]\u001b[0m, in \u001b[0;36m<cell line: 1>\u001b[0;34m()\u001b[0m\n\u001b[0;32m----> 1\u001b[0m n \u001b[38;5;241m=\u001b[39m \u001b[38;5;28mint\u001b[39m(\u001b[38;5;28;43minput\u001b[39;49m\u001b[43m(\u001b[49m\u001b[38;5;124;43m\"\u001b[39;49m\u001b[38;5;124;43minsira um número inteiro:\u001b[39;49m\u001b[38;5;124;43m\"\u001b[39;49m\u001b[43m)\u001b[49m)\n\u001b[1;32m      2\u001b[0m sucessor \u001b[38;5;241m=\u001b[39m n \u001b[38;5;241m+\u001b[39m \u001b[38;5;241m1\u001b[39m\n\u001b[1;32m      3\u001b[0m antecessor \u001b[38;5;241m=\u001b[39m n \u001b[38;5;241m-\u001b[39m \u001b[38;5;241m1\u001b[39m\n",
      "File \u001b[0;32m~/anaconda3/lib/python3.9/site-packages/ipykernel/kernelbase.py:1072\u001b[0m, in \u001b[0;36mKernel.raw_input\u001b[0;34m(self, prompt)\u001b[0m\n\u001b[1;32m   1065\u001b[0m \u001b[38;5;124;03m\"\"\"Forward raw_input to frontends\u001b[39;00m\n\u001b[1;32m   1066\u001b[0m \n\u001b[1;32m   1067\u001b[0m \u001b[38;5;124;03mRaises\u001b[39;00m\n\u001b[1;32m   1068\u001b[0m \u001b[38;5;124;03m------\u001b[39;00m\n\u001b[1;32m   1069\u001b[0m \u001b[38;5;124;03mStdinNotImplementedError if active frontend doesn't support stdin.\u001b[39;00m\n\u001b[1;32m   1070\u001b[0m \u001b[38;5;124;03m\"\"\"\u001b[39;00m\n\u001b[1;32m   1071\u001b[0m \u001b[38;5;28;01mif\u001b[39;00m \u001b[38;5;129;01mnot\u001b[39;00m \u001b[38;5;28mself\u001b[39m\u001b[38;5;241m.\u001b[39m_allow_stdin:\n\u001b[0;32m-> 1072\u001b[0m     \u001b[38;5;28;01mraise\u001b[39;00m StdinNotImplementedError(\n\u001b[1;32m   1073\u001b[0m         \u001b[38;5;124m\"\u001b[39m\u001b[38;5;124mraw_input was called, but this frontend does not support input requests.\u001b[39m\u001b[38;5;124m\"\u001b[39m\n\u001b[1;32m   1074\u001b[0m     )\n\u001b[1;32m   1075\u001b[0m \u001b[38;5;28;01mreturn\u001b[39;00m \u001b[38;5;28mself\u001b[39m\u001b[38;5;241m.\u001b[39m_input_request(\n\u001b[1;32m   1076\u001b[0m     \u001b[38;5;28mstr\u001b[39m(prompt),\n\u001b[1;32m   1077\u001b[0m     \u001b[38;5;28mself\u001b[39m\u001b[38;5;241m.\u001b[39m_parent_ident[\u001b[38;5;124m\"\u001b[39m\u001b[38;5;124mshell\u001b[39m\u001b[38;5;124m\"\u001b[39m],\n\u001b[1;32m   1078\u001b[0m     \u001b[38;5;28mself\u001b[39m\u001b[38;5;241m.\u001b[39mget_parent(\u001b[38;5;124m\"\u001b[39m\u001b[38;5;124mshell\u001b[39m\u001b[38;5;124m\"\u001b[39m),\n\u001b[1;32m   1079\u001b[0m     password\u001b[38;5;241m=\u001b[39m\u001b[38;5;28;01mFalse\u001b[39;00m,\n\u001b[1;32m   1080\u001b[0m )\n",
      "\u001b[0;31mStdinNotImplementedError\u001b[0m: raw_input was called, but this frontend does not support input requests."
     ]
    }
   ],
   "source": [
    "n = int(input(\"insira um número inteiro:\"))\n",
    "sucessor = n + 1\n",
    "antecessor = n - 1\n",
    "print(\"o sucessor é:\", sucessor)\n",
    "print(\"o antecessor é:\", antecessor)"
   ]
  },
  {
   "cell_type": "markdown",
   "id": "57a3fb31",
   "metadata": {
    "deletable": false,
    "editable": false,
    "id": "57a3fb31",
    "nbgrader": {
     "cell_type": "markdown",
     "checksum": "537bdb2e45ec13ee95cea397e02744f2",
     "grade": false,
     "grade_id": "Exercicio6-descricao",
     "locked": true,
     "schema_version": 3,
     "solution": false,
     "task": false
    }
   },
   "source": [
    "# Exercício 6\n",
    "\n",
    "Faça um programa que leia quatro notas, e seus respectivos pesos, e que apresente a média final simples e a média final ponderada."
   ]
  },
  {
   "cell_type": "code",
   "execution_count": 6,
   "id": "10e12fd4",
   "metadata": {
    "colab": {
     "base_uri": "https://localhost:8080/"
    },
    "deletable": false,
    "execution": {
     "iopub.execute_input": "2022-06-27T16:35:46.083115Z",
     "iopub.status.busy": "2022-06-27T16:35:46.082710Z",
     "iopub.status.idle": "2022-06-27T16:35:46.112371Z",
     "shell.execute_reply": "2022-06-27T16:35:46.111816Z"
    },
    "id": "10e12fd4",
    "nbgrader": {
     "cell_type": "code",
     "checksum": "ff1bbd3e5c18dc73d5e0328c41d74739",
     "grade": true,
     "grade_id": "Exercicio6",
     "locked": false,
     "points": 1,
     "schema_version": 3,
     "solution": true,
     "task": false
    },
    "outputId": "8cabdc33-cad6-4d4b-e260-3a0be7b80b8f"
   },
   "outputs": [
    {
     "ename": "StdinNotImplementedError",
     "evalue": "raw_input was called, but this frontend does not support input requests.",
     "output_type": "error",
     "traceback": [
      "\u001b[0;31m---------------------------------------------------------------------------\u001b[0m",
      "\u001b[0;31mStdinNotImplementedError\u001b[0m                  Traceback (most recent call last)",
      "Input \u001b[0;32mIn [6]\u001b[0m, in \u001b[0;36m<cell line: 1>\u001b[0;34m()\u001b[0m\n\u001b[0;32m----> 1\u001b[0m nota1 \u001b[38;5;241m=\u001b[39m \u001b[38;5;28mfloat\u001b[39m (\u001b[38;5;28;43minput\u001b[39;49m\u001b[43m(\u001b[49m\u001b[38;5;124;43m\"\u001b[39;49m\u001b[38;5;124;43minsira a nota 1:\u001b[39;49m\u001b[38;5;124;43m\"\u001b[39;49m\u001b[43m)\u001b[49m)\n\u001b[1;32m      2\u001b[0m nota1_peso \u001b[38;5;241m=\u001b[39m \u001b[38;5;28mfloat\u001b[39m (\u001b[38;5;28minput\u001b[39m(\u001b[38;5;124m\"\u001b[39m\u001b[38;5;124minsira o peso da nota 1:\u001b[39m\u001b[38;5;124m\"\u001b[39m))\n\u001b[1;32m      3\u001b[0m nota2 \u001b[38;5;241m=\u001b[39m \u001b[38;5;28mfloat\u001b[39m (\u001b[38;5;28minput\u001b[39m(\u001b[38;5;124m\"\u001b[39m\u001b[38;5;124minsira a nota 2:\u001b[39m\u001b[38;5;124m\"\u001b[39m))\n",
      "File \u001b[0;32m~/anaconda3/lib/python3.9/site-packages/ipykernel/kernelbase.py:1072\u001b[0m, in \u001b[0;36mKernel.raw_input\u001b[0;34m(self, prompt)\u001b[0m\n\u001b[1;32m   1065\u001b[0m \u001b[38;5;124;03m\"\"\"Forward raw_input to frontends\u001b[39;00m\n\u001b[1;32m   1066\u001b[0m \n\u001b[1;32m   1067\u001b[0m \u001b[38;5;124;03mRaises\u001b[39;00m\n\u001b[1;32m   1068\u001b[0m \u001b[38;5;124;03m------\u001b[39;00m\n\u001b[1;32m   1069\u001b[0m \u001b[38;5;124;03mStdinNotImplementedError if active frontend doesn't support stdin.\u001b[39;00m\n\u001b[1;32m   1070\u001b[0m \u001b[38;5;124;03m\"\"\"\u001b[39;00m\n\u001b[1;32m   1071\u001b[0m \u001b[38;5;28;01mif\u001b[39;00m \u001b[38;5;129;01mnot\u001b[39;00m \u001b[38;5;28mself\u001b[39m\u001b[38;5;241m.\u001b[39m_allow_stdin:\n\u001b[0;32m-> 1072\u001b[0m     \u001b[38;5;28;01mraise\u001b[39;00m StdinNotImplementedError(\n\u001b[1;32m   1073\u001b[0m         \u001b[38;5;124m\"\u001b[39m\u001b[38;5;124mraw_input was called, but this frontend does not support input requests.\u001b[39m\u001b[38;5;124m\"\u001b[39m\n\u001b[1;32m   1074\u001b[0m     )\n\u001b[1;32m   1075\u001b[0m \u001b[38;5;28;01mreturn\u001b[39;00m \u001b[38;5;28mself\u001b[39m\u001b[38;5;241m.\u001b[39m_input_request(\n\u001b[1;32m   1076\u001b[0m     \u001b[38;5;28mstr\u001b[39m(prompt),\n\u001b[1;32m   1077\u001b[0m     \u001b[38;5;28mself\u001b[39m\u001b[38;5;241m.\u001b[39m_parent_ident[\u001b[38;5;124m\"\u001b[39m\u001b[38;5;124mshell\u001b[39m\u001b[38;5;124m\"\u001b[39m],\n\u001b[1;32m   1078\u001b[0m     \u001b[38;5;28mself\u001b[39m\u001b[38;5;241m.\u001b[39mget_parent(\u001b[38;5;124m\"\u001b[39m\u001b[38;5;124mshell\u001b[39m\u001b[38;5;124m\"\u001b[39m),\n\u001b[1;32m   1079\u001b[0m     password\u001b[38;5;241m=\u001b[39m\u001b[38;5;28;01mFalse\u001b[39;00m,\n\u001b[1;32m   1080\u001b[0m )\n",
      "\u001b[0;31mStdinNotImplementedError\u001b[0m: raw_input was called, but this frontend does not support input requests."
     ]
    }
   ],
   "source": [
    "nota1 = float (input(\"insira a nota 1:\"))\n",
    "nota1_peso = float (input(\"insira o peso da nota 1:\"))\n",
    "nota2 = float (input(\"insira a nota 2:\"))\n",
    "nota2_peso = float (input(\"insira o peso da nota 2:\"))\n",
    "nota3 = float (input(\"insira a nota 3:\"))\n",
    "nota3_peso = float (input(\"insira o peso da nota 3:\"))\n",
    "nota4 = float (input(\"insira a nota 4:\"))\n",
    "nota4_peso = float (input(\"insira o peso da nota 4:\"))\n",
    "\n",
    "\n",
    "média_simples = (nota1 + nota2 + nota3 + nota4) / 4\n",
    "média_ponderada = (nota1 * nota1_peso + nota2 * nota2_peso + nota3 * nota3_peso + nota4 * nota4_peso) / (nota1_peso + nota2_peso + nota3_peso + nota4_peso)\n",
    "\n",
    "print(\"A média simples é:\", média_simples)\n",
    "print(\"A média ponderada é:\", média_ponderada)\n",
    "\n"
   ]
  },
  {
   "cell_type": "markdown",
   "id": "da81404d",
   "metadata": {
    "deletable": false,
    "editable": false,
    "id": "da81404d",
    "nbgrader": {
     "cell_type": "markdown",
     "checksum": "6f91f7198e36290a15c6547e839a5885",
     "grade": false,
     "grade_id": "Exercicio7-descricao",
     "locked": true,
     "schema_version": 3,
     "solution": false,
     "task": false
    }
   },
   "source": [
    "# Exercício 7\n",
    "\n",
    "Faça um programa para uma loja de tintas. O programa deverá pedir o tamanho em metros quadrados da área a ser pintada. Considere que a cobertura da tinta é de 1 litro para cada 12 metros quadrados e que a tinta é vendida em latas de 18 litros, que custam R$ 80,00. Informe ao usuário a quantidades de latas de tinta a serem compradas e o preço total. "
   ]
  },
  {
   "cell_type": "code",
   "execution_count": 7,
   "id": "2a1f6a9c",
   "metadata": {
    "colab": {
     "base_uri": "https://localhost:8080/"
    },
    "deletable": false,
    "execution": {
     "iopub.execute_input": "2022-06-27T16:35:46.115141Z",
     "iopub.status.busy": "2022-06-27T16:35:46.114881Z",
     "iopub.status.idle": "2022-06-27T16:35:46.137566Z",
     "shell.execute_reply": "2022-06-27T16:35:46.136833Z"
    },
    "id": "2a1f6a9c",
    "nbgrader": {
     "cell_type": "code",
     "checksum": "0b356a405bcdf2f889a9a95d9a196d61",
     "grade": true,
     "grade_id": "Exercicio7",
     "locked": false,
     "points": 2,
     "schema_version": 3,
     "solution": true,
     "task": false
    },
    "outputId": "e068f890-91c6-4b7c-ed8a-11647e667c4f"
   },
   "outputs": [
    {
     "ename": "StdinNotImplementedError",
     "evalue": "raw_input was called, but this frontend does not support input requests.",
     "output_type": "error",
     "traceback": [
      "\u001b[0;31m---------------------------------------------------------------------------\u001b[0m",
      "\u001b[0;31mStdinNotImplementedError\u001b[0m                  Traceback (most recent call last)",
      "Input \u001b[0;32mIn [7]\u001b[0m, in \u001b[0;36m<cell line: 1>\u001b[0;34m()\u001b[0m\n\u001b[0;32m----> 1\u001b[0m área \u001b[38;5;241m=\u001b[39m \u001b[38;5;28mfloat\u001b[39m(\u001b[38;5;28;43minput\u001b[39;49m\u001b[43m(\u001b[49m\u001b[38;5;124;43m\"\u001b[39;49m\u001b[38;5;124;43mQuantos metros quadrados deseja pintar?:\u001b[39;49m\u001b[38;5;124;43m\"\u001b[39;49m\u001b[43m)\u001b[49m)\n\u001b[1;32m      3\u001b[0m litros \u001b[38;5;241m=\u001b[39m \u001b[38;5;28mint\u001b[39m (área \u001b[38;5;241m/\u001b[39m \u001b[38;5;241m12\u001b[39m)\n\u001b[1;32m      4\u001b[0m preço_latas \u001b[38;5;241m=\u001b[39m \u001b[38;5;241m80.0\u001b[39m\n",
      "File \u001b[0;32m~/anaconda3/lib/python3.9/site-packages/ipykernel/kernelbase.py:1072\u001b[0m, in \u001b[0;36mKernel.raw_input\u001b[0;34m(self, prompt)\u001b[0m\n\u001b[1;32m   1065\u001b[0m \u001b[38;5;124;03m\"\"\"Forward raw_input to frontends\u001b[39;00m\n\u001b[1;32m   1066\u001b[0m \n\u001b[1;32m   1067\u001b[0m \u001b[38;5;124;03mRaises\u001b[39;00m\n\u001b[1;32m   1068\u001b[0m \u001b[38;5;124;03m------\u001b[39;00m\n\u001b[1;32m   1069\u001b[0m \u001b[38;5;124;03mStdinNotImplementedError if active frontend doesn't support stdin.\u001b[39;00m\n\u001b[1;32m   1070\u001b[0m \u001b[38;5;124;03m\"\"\"\u001b[39;00m\n\u001b[1;32m   1071\u001b[0m \u001b[38;5;28;01mif\u001b[39;00m \u001b[38;5;129;01mnot\u001b[39;00m \u001b[38;5;28mself\u001b[39m\u001b[38;5;241m.\u001b[39m_allow_stdin:\n\u001b[0;32m-> 1072\u001b[0m     \u001b[38;5;28;01mraise\u001b[39;00m StdinNotImplementedError(\n\u001b[1;32m   1073\u001b[0m         \u001b[38;5;124m\"\u001b[39m\u001b[38;5;124mraw_input was called, but this frontend does not support input requests.\u001b[39m\u001b[38;5;124m\"\u001b[39m\n\u001b[1;32m   1074\u001b[0m     )\n\u001b[1;32m   1075\u001b[0m \u001b[38;5;28;01mreturn\u001b[39;00m \u001b[38;5;28mself\u001b[39m\u001b[38;5;241m.\u001b[39m_input_request(\n\u001b[1;32m   1076\u001b[0m     \u001b[38;5;28mstr\u001b[39m(prompt),\n\u001b[1;32m   1077\u001b[0m     \u001b[38;5;28mself\u001b[39m\u001b[38;5;241m.\u001b[39m_parent_ident[\u001b[38;5;124m\"\u001b[39m\u001b[38;5;124mshell\u001b[39m\u001b[38;5;124m\"\u001b[39m],\n\u001b[1;32m   1078\u001b[0m     \u001b[38;5;28mself\u001b[39m\u001b[38;5;241m.\u001b[39mget_parent(\u001b[38;5;124m\"\u001b[39m\u001b[38;5;124mshell\u001b[39m\u001b[38;5;124m\"\u001b[39m),\n\u001b[1;32m   1079\u001b[0m     password\u001b[38;5;241m=\u001b[39m\u001b[38;5;28;01mFalse\u001b[39;00m,\n\u001b[1;32m   1080\u001b[0m )\n",
      "\u001b[0;31mStdinNotImplementedError\u001b[0m: raw_input was called, but this frontend does not support input requests."
     ]
    }
   ],
   "source": [
    "área = float(input(\"Quantos metros quadrados deseja pintar?:\"))\n",
    "\n",
    "litros = int (área / 12)\n",
    "preço_latas = 80.0\n",
    "litros_latas = 18\n",
    "\n",
    "\n",
    "latas = litros / litros_latas\n",
    "preço =  latas * preço_latas\n",
    "\n",
    "print(\"compre\" , latas)\n",
    "print(\"pelo preço de:\", preço)\n"
   ]
  },
  {
   "cell_type": "markdown",
   "id": "79eca3d1",
   "metadata": {
    "deletable": false,
    "editable": false,
    "id": "79eca3d1",
    "nbgrader": {
     "cell_type": "markdown",
     "checksum": "e44b2f3971c79d43c75c12bce821c4d9",
     "grade": false,
     "grade_id": "Exercicio8-descricao",
     "locked": true,
     "schema_version": 3,
     "solution": false,
     "task": false
    }
   },
   "source": [
    "# Exercício 8\n",
    "\n",
    "Faça um Programa para uma loja de tintas. O programa deverá pedir o tamanho em metros quadrados da área a ser pintada. Considere que a cobertura da tinta é de 1 litro para cada 12 metros quadrados e que a tinta é vendida em latas de 18 litros, que custam R$ 80,00 ou em galões de 3,6 litros, que custam R$ 25,00.\n",
    "\n",
    "Informe ao usuário as quantidades de tinta a serem compradas e os respectivos preços em 3 situações:\n",
    "\n",
    "    - comprar apenas latas de 18 litros;\n",
    "    - comprar apenas galões de 3,6 litros;\n",
    "    - misturar latas e galões, de forma que o desperdício de tinta seja menor. \n",
    "    \n",
    "Acrescente 10% de folga nos três casos (isto é, você deve adicionar 10% sobre o total de litros de tinta necessário) e sempre arredonde os valores para cima, isto é, considere latas cheias. \n",
    "\n"
   ]
  },
  {
   "cell_type": "code",
   "execution_count": 8,
   "id": "54c1e741",
   "metadata": {
    "colab": {
     "base_uri": "https://localhost:8080/"
    },
    "deletable": false,
    "execution": {
     "iopub.execute_input": "2022-06-27T16:35:46.140694Z",
     "iopub.status.busy": "2022-06-27T16:35:46.140443Z",
     "iopub.status.idle": "2022-06-27T16:35:46.175201Z",
     "shell.execute_reply": "2022-06-27T16:35:46.174553Z"
    },
    "id": "54c1e741",
    "nbgrader": {
     "cell_type": "code",
     "checksum": "8f12ca6f898fe140e2eb04c84fc6c8f3",
     "grade": true,
     "grade_id": "Exercicio8",
     "locked": false,
     "points": 2,
     "schema_version": 3,
     "solution": true,
     "task": false
    },
    "outputId": "75da6a02-49ef-4d9e-d23f-dd310f4235d3"
   },
   "outputs": [
    {
     "ename": "StdinNotImplementedError",
     "evalue": "raw_input was called, but this frontend does not support input requests.",
     "output_type": "error",
     "traceback": [
      "\u001b[0;31m---------------------------------------------------------------------------\u001b[0m",
      "\u001b[0;31mStdinNotImplementedError\u001b[0m                  Traceback (most recent call last)",
      "Input \u001b[0;32mIn [8]\u001b[0m, in \u001b[0;36m<cell line: 2>\u001b[0;34m()\u001b[0m\n\u001b[1;32m      1\u001b[0m \u001b[38;5;28;01mimport\u001b[39;00m \u001b[38;5;21;01mmath\u001b[39;00m\n\u001b[0;32m----> 2\u001b[0m área \u001b[38;5;241m=\u001b[39m \u001b[38;5;28mfloat\u001b[39m(\u001b[38;5;28;43minput\u001b[39;49m\u001b[43m(\u001b[49m\u001b[38;5;124;43m\"\u001b[39;49m\u001b[38;5;124;43mQuantos metros quadrados deseja pintar?\u001b[39;49m\u001b[38;5;124;43m\"\u001b[39;49m\u001b[43m)\u001b[49m)\n\u001b[1;32m      4\u001b[0m litros \u001b[38;5;241m=\u001b[39m math\u001b[38;5;241m.\u001b[39mceil(área \u001b[38;5;241m/\u001b[39m \u001b[38;5;241m12\u001b[39m) \n\u001b[1;32m      5\u001b[0m preço_latas \u001b[38;5;241m=\u001b[39m \u001b[38;5;241m80.0\u001b[39m\n",
      "File \u001b[0;32m~/anaconda3/lib/python3.9/site-packages/ipykernel/kernelbase.py:1072\u001b[0m, in \u001b[0;36mKernel.raw_input\u001b[0;34m(self, prompt)\u001b[0m\n\u001b[1;32m   1065\u001b[0m \u001b[38;5;124;03m\"\"\"Forward raw_input to frontends\u001b[39;00m\n\u001b[1;32m   1066\u001b[0m \n\u001b[1;32m   1067\u001b[0m \u001b[38;5;124;03mRaises\u001b[39;00m\n\u001b[1;32m   1068\u001b[0m \u001b[38;5;124;03m------\u001b[39;00m\n\u001b[1;32m   1069\u001b[0m \u001b[38;5;124;03mStdinNotImplementedError if active frontend doesn't support stdin.\u001b[39;00m\n\u001b[1;32m   1070\u001b[0m \u001b[38;5;124;03m\"\"\"\u001b[39;00m\n\u001b[1;32m   1071\u001b[0m \u001b[38;5;28;01mif\u001b[39;00m \u001b[38;5;129;01mnot\u001b[39;00m \u001b[38;5;28mself\u001b[39m\u001b[38;5;241m.\u001b[39m_allow_stdin:\n\u001b[0;32m-> 1072\u001b[0m     \u001b[38;5;28;01mraise\u001b[39;00m StdinNotImplementedError(\n\u001b[1;32m   1073\u001b[0m         \u001b[38;5;124m\"\u001b[39m\u001b[38;5;124mraw_input was called, but this frontend does not support input requests.\u001b[39m\u001b[38;5;124m\"\u001b[39m\n\u001b[1;32m   1074\u001b[0m     )\n\u001b[1;32m   1075\u001b[0m \u001b[38;5;28;01mreturn\u001b[39;00m \u001b[38;5;28mself\u001b[39m\u001b[38;5;241m.\u001b[39m_input_request(\n\u001b[1;32m   1076\u001b[0m     \u001b[38;5;28mstr\u001b[39m(prompt),\n\u001b[1;32m   1077\u001b[0m     \u001b[38;5;28mself\u001b[39m\u001b[38;5;241m.\u001b[39m_parent_ident[\u001b[38;5;124m\"\u001b[39m\u001b[38;5;124mshell\u001b[39m\u001b[38;5;124m\"\u001b[39m],\n\u001b[1;32m   1078\u001b[0m     \u001b[38;5;28mself\u001b[39m\u001b[38;5;241m.\u001b[39mget_parent(\u001b[38;5;124m\"\u001b[39m\u001b[38;5;124mshell\u001b[39m\u001b[38;5;124m\"\u001b[39m),\n\u001b[1;32m   1079\u001b[0m     password\u001b[38;5;241m=\u001b[39m\u001b[38;5;28;01mFalse\u001b[39;00m,\n\u001b[1;32m   1080\u001b[0m )\n",
      "\u001b[0;31mStdinNotImplementedError\u001b[0m: raw_input was called, but this frontend does not support input requests."
     ]
    }
   ],
   "source": [
    "import math\n",
    "área = float(input(\"Quantos metros quadrados deseja pintar?\"))\n",
    "\n",
    "litros = math.ceil(área / 12) \n",
    "preço_latas = 80.0\n",
    "litros_latas = 18\n",
    "preço_galão = 25.0\n",
    "litros_galão = 3.6\n",
    "\n",
    "galão = math.ceil((litros*0.1 + litros) / litros_galão)\n",
    "total_galão = galão * preço_galão\n",
    "\n",
    "latas = math.ceil((litros*0.1 + litros) / litros_latas)\n",
    "total_latas =  latas * preço_latas\n",
    "\n",
    "latas2 = math.ceil((litros*0.1 + litros) / litros_latas)\n",
    "galão2 = math.ceil((litros*0.1 + litros) % litros_latas / latas2)\n",
    "total_latas2 = math.ceil(latas2 * preço_latas)\n",
    "total_galão2 = math.ceil(galão2 * preço_galão)\n",
    "total_lataegalão = total_latas2 + total_galão2\n",
    " \n",
    "print(\"compre\" , latas , \"latas\")\n",
    "print(\"pelo preço de:\", total_latas)\n",
    "\n",
    "print(\"compre\", galão, \"galões\")\n",
    "print(\"pelo preço de:\", total_galão)\n",
    "\n",
    "print(\"compre\", latas2, \"latas e\", galão2, \"galões\" )\n",
    "print(\"Pelo preço de:\", total_lataegalão)\n",
    "\n"
   ]
  }
 ],
 "metadata": {
  "colab": {
   "name": "Semana1.ipynb",
   "provenance": []
  },
  "kernelspec": {
   "display_name": "Python 3 (ipykernel)",
   "language": "python",
   "name": "python3"
  },
  "language_info": {
   "codemirror_mode": {
    "name": "ipython",
    "version": 3
   },
   "file_extension": ".py",
   "mimetype": "text/x-python",
   "name": "python",
   "nbconvert_exporter": "python",
   "pygments_lexer": "ipython3",
   "version": "3.9.7"
  }
 },
 "nbformat": 4,
 "nbformat_minor": 5
}
