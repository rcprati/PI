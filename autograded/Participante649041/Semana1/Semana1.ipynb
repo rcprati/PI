{
 "cells": [
  {
   "cell_type": "markdown",
   "id": "d4a1d469",
   "metadata": {
    "id": "d4a1d469"
   },
   "source": [
    "# Instruções\n",
    "\n",
    "- Antes de resolver esses exercícios, certifique-se que a configuração está correta (Python 3).\n",
    "\n",
    "- Se estiver usando o Colab, faça uma cópia deste notebook antes de começar a repondê-lo.\n",
    "\n",
    "![](http://professor.ufabc.edu.br/~ronaldo.prati/colab.png)\n",
    "\n",
    "- Lembre-se de manter o nome do caderno com o mesmo nome original.\n",
    "\n",
    "- Não apague nem introduza novas células neste notebook.\n",
    "\n",
    "- Certifique-se que você preencheu todos os lugares que dizem \\\"YOUR CODE HERE\\\" ou \\\"YOUR ANSWER HERE\\\". Substitutua essa linha e também a linha `raise NotImplementedError()` pelo seu código.\n",
    "\n",
    "- Depois de resolver os exercícios, para enviar a atividade, salve o notebook e o envie pelo moodle da disciplina. No colab, para exportar o notebook localmente, acesse `File->Download->Download .ipynb` ou `Arquivo->Baixar->Baixar .ipynb`\n",
    "\n",
    "![](http://professor.ufabc.edu.br/~ronaldo.prati/submit.png)"
   ]
  },
  {
   "cell_type": "markdown",
   "id": "5f82cbf3",
   "metadata": {
    "deletable": false,
    "editable": false,
    "id": "5f82cbf3",
    "nbgrader": {
     "cell_type": "markdown",
     "checksum": "f1f911b3ba8050e102209c62c8db3f57",
     "grade": false,
     "grade_id": "Exercicio1-descricao",
     "locked": true,
     "schema_version": 3,
     "solution": false,
     "task": false
    }
   },
   "source": [
    "# Exercício 1\n",
    "\n",
    "Faça um programa que peça um número e armazene-o em uma variável. A seguir, mostre a mensagem \"O número informado foi [número]\""
   ]
  },
  {
   "cell_type": "code",
   "execution_count": 1,
   "id": "98f0fd7a",
   "metadata": {
    "deletable": false,
    "execution": {
     "iopub.execute_input": "2022-06-27T16:33:32.070514Z",
     "iopub.status.busy": "2022-06-27T16:33:32.069842Z",
     "iopub.status.idle": "2022-06-27T16:33:32.879839Z",
     "shell.execute_reply": "2022-06-27T16:33:32.879289Z"
    },
    "id": "98f0fd7a",
    "nbgrader": {
     "cell_type": "code",
     "checksum": "74fb8b9b0c1978c0db15aa13a5696150",
     "grade": true,
     "grade_id": "Exercicio1",
     "locked": false,
     "points": 1,
     "schema_version": 3,
     "solution": true,
     "task": false
    }
   },
   "outputs": [
    {
     "ename": "StdinNotImplementedError",
     "evalue": "raw_input was called, but this frontend does not support input requests.",
     "output_type": "error",
     "traceback": [
      "\u001b[0;31m---------------------------------------------------------------------------\u001b[0m",
      "\u001b[0;31mStdinNotImplementedError\u001b[0m                  Traceback (most recent call last)",
      "Input \u001b[0;32mIn [1]\u001b[0m, in \u001b[0;36m<cell line: 1>\u001b[0;34m()\u001b[0m\n\u001b[0;32m----> 1\u001b[0m x \u001b[38;5;241m=\u001b[39m \u001b[38;5;28;43minput\u001b[39;49m\u001b[43m(\u001b[49m\u001b[38;5;124;43m\"\u001b[39;49m\u001b[38;5;124;43mDigite um número: \u001b[39;49m\u001b[38;5;124;43m\"\u001b[39;49m\u001b[43m)\u001b[49m\n\u001b[1;32m      2\u001b[0m \u001b[38;5;28mprint\u001b[39m(\u001b[38;5;124mf\u001b[39m\u001b[38;5;124m'\u001b[39m\u001b[38;5;124m\"\u001b[39m\u001b[38;5;124mO número informado foi \u001b[39m\u001b[38;5;132;01m{\u001b[39;00mx\u001b[38;5;132;01m}\u001b[39;00m\u001b[38;5;124m\"\u001b[39m\u001b[38;5;124m'\u001b[39m)\n",
      "File \u001b[0;32m~/anaconda3/lib/python3.9/site-packages/ipykernel/kernelbase.py:1072\u001b[0m, in \u001b[0;36mKernel.raw_input\u001b[0;34m(self, prompt)\u001b[0m\n\u001b[1;32m   1065\u001b[0m \u001b[38;5;124;03m\"\"\"Forward raw_input to frontends\u001b[39;00m\n\u001b[1;32m   1066\u001b[0m \n\u001b[1;32m   1067\u001b[0m \u001b[38;5;124;03mRaises\u001b[39;00m\n\u001b[1;32m   1068\u001b[0m \u001b[38;5;124;03m------\u001b[39;00m\n\u001b[1;32m   1069\u001b[0m \u001b[38;5;124;03mStdinNotImplementedError if active frontend doesn't support stdin.\u001b[39;00m\n\u001b[1;32m   1070\u001b[0m \u001b[38;5;124;03m\"\"\"\u001b[39;00m\n\u001b[1;32m   1071\u001b[0m \u001b[38;5;28;01mif\u001b[39;00m \u001b[38;5;129;01mnot\u001b[39;00m \u001b[38;5;28mself\u001b[39m\u001b[38;5;241m.\u001b[39m_allow_stdin:\n\u001b[0;32m-> 1072\u001b[0m     \u001b[38;5;28;01mraise\u001b[39;00m StdinNotImplementedError(\n\u001b[1;32m   1073\u001b[0m         \u001b[38;5;124m\"\u001b[39m\u001b[38;5;124mraw_input was called, but this frontend does not support input requests.\u001b[39m\u001b[38;5;124m\"\u001b[39m\n\u001b[1;32m   1074\u001b[0m     )\n\u001b[1;32m   1075\u001b[0m \u001b[38;5;28;01mreturn\u001b[39;00m \u001b[38;5;28mself\u001b[39m\u001b[38;5;241m.\u001b[39m_input_request(\n\u001b[1;32m   1076\u001b[0m     \u001b[38;5;28mstr\u001b[39m(prompt),\n\u001b[1;32m   1077\u001b[0m     \u001b[38;5;28mself\u001b[39m\u001b[38;5;241m.\u001b[39m_parent_ident[\u001b[38;5;124m\"\u001b[39m\u001b[38;5;124mshell\u001b[39m\u001b[38;5;124m\"\u001b[39m],\n\u001b[1;32m   1078\u001b[0m     \u001b[38;5;28mself\u001b[39m\u001b[38;5;241m.\u001b[39mget_parent(\u001b[38;5;124m\"\u001b[39m\u001b[38;5;124mshell\u001b[39m\u001b[38;5;124m\"\u001b[39m),\n\u001b[1;32m   1079\u001b[0m     password\u001b[38;5;241m=\u001b[39m\u001b[38;5;28;01mFalse\u001b[39;00m,\n\u001b[1;32m   1080\u001b[0m )\n",
      "\u001b[0;31mStdinNotImplementedError\u001b[0m: raw_input was called, but this frontend does not support input requests."
     ]
    }
   ],
   "source": [
    "x = input(\"Digite um número: \")\n",
    "print(f'\"O número informado foi {x}\"')"
   ]
  },
  {
   "cell_type": "markdown",
   "id": "dd8c0af2",
   "metadata": {
    "deletable": false,
    "editable": false,
    "id": "dd8c0af2",
    "nbgrader": {
     "cell_type": "markdown",
     "checksum": "e1645b130e5fd8363c5a31803d8a6730",
     "grade": false,
     "grade_id": "Exercicio2-descricao",
     "locked": true,
     "schema_version": 3,
     "solution": false,
     "task": false
    }
   },
   "source": [
    "# Exercício 2\n",
    "\n",
    "Faça um Programa que peça o raio de um círculo, calcule e mostre sua área.\n",
    "Dica: para usar o valor de $\\pi$, pesquise por `math.pi`."
   ]
  },
  {
   "cell_type": "code",
   "execution_count": 2,
   "id": "407e7f33",
   "metadata": {
    "deletable": false,
    "execution": {
     "iopub.execute_input": "2022-06-27T16:33:32.882718Z",
     "iopub.status.busy": "2022-06-27T16:33:32.882362Z",
     "iopub.status.idle": "2022-06-27T16:33:32.905154Z",
     "shell.execute_reply": "2022-06-27T16:33:32.904042Z"
    },
    "id": "407e7f33",
    "nbgrader": {
     "cell_type": "code",
     "checksum": "41ef7b01abeaa8d74e2893a5054fb644",
     "grade": true,
     "grade_id": "Exercicio2",
     "locked": false,
     "points": 1,
     "schema_version": 3,
     "solution": true,
     "task": false
    }
   },
   "outputs": [
    {
     "ename": "StdinNotImplementedError",
     "evalue": "raw_input was called, but this frontend does not support input requests.",
     "output_type": "error",
     "traceback": [
      "\u001b[0;31m---------------------------------------------------------------------------\u001b[0m",
      "\u001b[0;31mStdinNotImplementedError\u001b[0m                  Traceback (most recent call last)",
      "Input \u001b[0;32mIn [2]\u001b[0m, in \u001b[0;36m<cell line: 2>\u001b[0;34m()\u001b[0m\n\u001b[1;32m      1\u001b[0m \u001b[38;5;28;01mimport\u001b[39;00m \u001b[38;5;21;01mmath\u001b[39;00m\n\u001b[0;32m----> 2\u001b[0m r \u001b[38;5;241m=\u001b[39m \u001b[38;5;28mint\u001b[39m(\u001b[38;5;28;43minput\u001b[39;49m\u001b[43m(\u001b[49m\u001b[38;5;124;43m\"\u001b[39;49m\u001b[38;5;124;43mDigite o raio do círculo: \u001b[39;49m\u001b[38;5;124;43m\"\u001b[39;49m\u001b[43m)\u001b[49m)\n\u001b[1;32m      3\u001b[0m A \u001b[38;5;241m=\u001b[39m (r\u001b[38;5;241m*\u001b[39m\u001b[38;5;241m*\u001b[39m\u001b[38;5;241m2\u001b[39m)\u001b[38;5;241m*\u001b[39mmath\u001b[38;5;241m.\u001b[39mpi\n\u001b[1;32m      4\u001b[0m \u001b[38;5;28mprint\u001b[39m(\u001b[38;5;124mf\u001b[39m\u001b[38;5;124m\"\u001b[39m\u001b[38;5;124mA área do círculo é: \u001b[39m\u001b[38;5;132;01m{\u001b[39;00mA\u001b[38;5;132;01m}\u001b[39;00m\u001b[38;5;124m\"\u001b[39m)\n",
      "File \u001b[0;32m~/anaconda3/lib/python3.9/site-packages/ipykernel/kernelbase.py:1072\u001b[0m, in \u001b[0;36mKernel.raw_input\u001b[0;34m(self, prompt)\u001b[0m\n\u001b[1;32m   1065\u001b[0m \u001b[38;5;124;03m\"\"\"Forward raw_input to frontends\u001b[39;00m\n\u001b[1;32m   1066\u001b[0m \n\u001b[1;32m   1067\u001b[0m \u001b[38;5;124;03mRaises\u001b[39;00m\n\u001b[1;32m   1068\u001b[0m \u001b[38;5;124;03m------\u001b[39;00m\n\u001b[1;32m   1069\u001b[0m \u001b[38;5;124;03mStdinNotImplementedError if active frontend doesn't support stdin.\u001b[39;00m\n\u001b[1;32m   1070\u001b[0m \u001b[38;5;124;03m\"\"\"\u001b[39;00m\n\u001b[1;32m   1071\u001b[0m \u001b[38;5;28;01mif\u001b[39;00m \u001b[38;5;129;01mnot\u001b[39;00m \u001b[38;5;28mself\u001b[39m\u001b[38;5;241m.\u001b[39m_allow_stdin:\n\u001b[0;32m-> 1072\u001b[0m     \u001b[38;5;28;01mraise\u001b[39;00m StdinNotImplementedError(\n\u001b[1;32m   1073\u001b[0m         \u001b[38;5;124m\"\u001b[39m\u001b[38;5;124mraw_input was called, but this frontend does not support input requests.\u001b[39m\u001b[38;5;124m\"\u001b[39m\n\u001b[1;32m   1074\u001b[0m     )\n\u001b[1;32m   1075\u001b[0m \u001b[38;5;28;01mreturn\u001b[39;00m \u001b[38;5;28mself\u001b[39m\u001b[38;5;241m.\u001b[39m_input_request(\n\u001b[1;32m   1076\u001b[0m     \u001b[38;5;28mstr\u001b[39m(prompt),\n\u001b[1;32m   1077\u001b[0m     \u001b[38;5;28mself\u001b[39m\u001b[38;5;241m.\u001b[39m_parent_ident[\u001b[38;5;124m\"\u001b[39m\u001b[38;5;124mshell\u001b[39m\u001b[38;5;124m\"\u001b[39m],\n\u001b[1;32m   1078\u001b[0m     \u001b[38;5;28mself\u001b[39m\u001b[38;5;241m.\u001b[39mget_parent(\u001b[38;5;124m\"\u001b[39m\u001b[38;5;124mshell\u001b[39m\u001b[38;5;124m\"\u001b[39m),\n\u001b[1;32m   1079\u001b[0m     password\u001b[38;5;241m=\u001b[39m\u001b[38;5;28;01mFalse\u001b[39;00m,\n\u001b[1;32m   1080\u001b[0m )\n",
      "\u001b[0;31mStdinNotImplementedError\u001b[0m: raw_input was called, but this frontend does not support input requests."
     ]
    }
   ],
   "source": [
    "import math\n",
    "r = int(input(\"Digite o raio do círculo: \"))\n",
    "A = (r**2)*math.pi\n",
    "print(f\"A área do círculo é: {A}\")"
   ]
  },
  {
   "cell_type": "markdown",
   "id": "868cfe1c",
   "metadata": {
    "deletable": false,
    "editable": false,
    "id": "868cfe1c",
    "nbgrader": {
     "cell_type": "markdown",
     "checksum": "83a396c8ae7ca1696f25c00d928c9d55",
     "grade": false,
     "grade_id": "Exercicio3-descricao",
     "locked": true,
     "schema_version": 3,
     "solution": false,
     "task": false
    }
   },
   "source": [
    "# Exercício 3\n",
    "\n",
    "Faça um Programa que peça 2 números inteiros e um número real. Calcule e mostre:\n",
    "\n",
    "   - o produto do dobro do primeiro com metade do segundo .\n",
    "   - a soma do triplo do primeiro com o terceiro.\n",
    "   - o terceiro elevado ao cubo. "
   ]
  },
  {
   "cell_type": "code",
   "execution_count": 3,
   "id": "0f2c4944",
   "metadata": {
    "deletable": false,
    "execution": {
     "iopub.execute_input": "2022-06-27T16:33:32.909225Z",
     "iopub.status.busy": "2022-06-27T16:33:32.908908Z",
     "iopub.status.idle": "2022-06-27T16:33:32.933765Z",
     "shell.execute_reply": "2022-06-27T16:33:32.932762Z"
    },
    "id": "0f2c4944",
    "nbgrader": {
     "cell_type": "code",
     "checksum": "01db6a60d8afd153075785a9f8e10ea5",
     "grade": true,
     "grade_id": "Exercicio3",
     "locked": false,
     "points": 1,
     "schema_version": 3,
     "solution": true,
     "task": false
    }
   },
   "outputs": [
    {
     "ename": "StdinNotImplementedError",
     "evalue": "raw_input was called, but this frontend does not support input requests.",
     "output_type": "error",
     "traceback": [
      "\u001b[0;31m---------------------------------------------------------------------------\u001b[0m",
      "\u001b[0;31mStdinNotImplementedError\u001b[0m                  Traceback (most recent call last)",
      "Input \u001b[0;32mIn [3]\u001b[0m, in \u001b[0;36m<cell line: 1>\u001b[0;34m()\u001b[0m\n\u001b[0;32m----> 1\u001b[0m A \u001b[38;5;241m=\u001b[39m \u001b[38;5;28mint\u001b[39m(\u001b[38;5;28;43minput\u001b[39;49m\u001b[43m(\u001b[49m\u001b[38;5;124;43m\"\u001b[39;49m\u001b[38;5;124;43mDigite um número inteiro: \u001b[39;49m\u001b[38;5;124;43m\"\u001b[39;49m\u001b[43m)\u001b[49m)\n\u001b[1;32m      2\u001b[0m B \u001b[38;5;241m=\u001b[39m \u001b[38;5;28mint\u001b[39m(\u001b[38;5;28minput\u001b[39m(\u001b[38;5;124m\"\u001b[39m\u001b[38;5;124mDigite um número inteiro: \u001b[39m\u001b[38;5;124m\"\u001b[39m))\n\u001b[1;32m      3\u001b[0m C \u001b[38;5;241m=\u001b[39m \u001b[38;5;28mfloat\u001b[39m(\u001b[38;5;28minput\u001b[39m(\u001b[38;5;124m\"\u001b[39m\u001b[38;5;124mDigite um número real: \u001b[39m\u001b[38;5;124m\"\u001b[39m))\n",
      "File \u001b[0;32m~/anaconda3/lib/python3.9/site-packages/ipykernel/kernelbase.py:1072\u001b[0m, in \u001b[0;36mKernel.raw_input\u001b[0;34m(self, prompt)\u001b[0m\n\u001b[1;32m   1065\u001b[0m \u001b[38;5;124;03m\"\"\"Forward raw_input to frontends\u001b[39;00m\n\u001b[1;32m   1066\u001b[0m \n\u001b[1;32m   1067\u001b[0m \u001b[38;5;124;03mRaises\u001b[39;00m\n\u001b[1;32m   1068\u001b[0m \u001b[38;5;124;03m------\u001b[39;00m\n\u001b[1;32m   1069\u001b[0m \u001b[38;5;124;03mStdinNotImplementedError if active frontend doesn't support stdin.\u001b[39;00m\n\u001b[1;32m   1070\u001b[0m \u001b[38;5;124;03m\"\"\"\u001b[39;00m\n\u001b[1;32m   1071\u001b[0m \u001b[38;5;28;01mif\u001b[39;00m \u001b[38;5;129;01mnot\u001b[39;00m \u001b[38;5;28mself\u001b[39m\u001b[38;5;241m.\u001b[39m_allow_stdin:\n\u001b[0;32m-> 1072\u001b[0m     \u001b[38;5;28;01mraise\u001b[39;00m StdinNotImplementedError(\n\u001b[1;32m   1073\u001b[0m         \u001b[38;5;124m\"\u001b[39m\u001b[38;5;124mraw_input was called, but this frontend does not support input requests.\u001b[39m\u001b[38;5;124m\"\u001b[39m\n\u001b[1;32m   1074\u001b[0m     )\n\u001b[1;32m   1075\u001b[0m \u001b[38;5;28;01mreturn\u001b[39;00m \u001b[38;5;28mself\u001b[39m\u001b[38;5;241m.\u001b[39m_input_request(\n\u001b[1;32m   1076\u001b[0m     \u001b[38;5;28mstr\u001b[39m(prompt),\n\u001b[1;32m   1077\u001b[0m     \u001b[38;5;28mself\u001b[39m\u001b[38;5;241m.\u001b[39m_parent_ident[\u001b[38;5;124m\"\u001b[39m\u001b[38;5;124mshell\u001b[39m\u001b[38;5;124m\"\u001b[39m],\n\u001b[1;32m   1078\u001b[0m     \u001b[38;5;28mself\u001b[39m\u001b[38;5;241m.\u001b[39mget_parent(\u001b[38;5;124m\"\u001b[39m\u001b[38;5;124mshell\u001b[39m\u001b[38;5;124m\"\u001b[39m),\n\u001b[1;32m   1079\u001b[0m     password\u001b[38;5;241m=\u001b[39m\u001b[38;5;28;01mFalse\u001b[39;00m,\n\u001b[1;32m   1080\u001b[0m )\n",
      "\u001b[0;31mStdinNotImplementedError\u001b[0m: raw_input was called, but this frontend does not support input requests."
     ]
    }
   ],
   "source": [
    "A = int(input(\"Digite um número inteiro: \"))\n",
    "B = int(input(\"Digite um número inteiro: \"))\n",
    "C = float(input(\"Digite um número real: \"))\n",
    "\n",
    "a = (2*A)*(B/2)\n",
    "b = (3*A)+C\n",
    "c = C*C*C\n",
    "\n",
    "print(f\"O produto do dobro do primeiro com metade do segundo é: {a}\")\n",
    "print(f\"A soma do triplo do primeiro com o terceiro é: {b}\")\n",
    "print(f\"O terceiro elevado ao cubo é: {c}\")"
   ]
  },
  {
   "cell_type": "markdown",
   "id": "d3996f2c",
   "metadata": {
    "deletable": false,
    "editable": false,
    "id": "d3996f2c",
    "nbgrader": {
     "cell_type": "markdown",
     "checksum": "dbee5e0c5c9a02ca7b0fbcbf0c5018fd",
     "grade": false,
     "grade_id": "Exercicio4-descricao",
     "locked": true,
     "schema_version": 3,
     "solution": false,
     "task": false
    }
   },
   "source": [
    "# Exercício 4\n",
    "\n",
    "Faça um programa que pergunte quanto você ganha por hora e o número de horas trabalhadas na semana. Calcule e mostre o total do seu salário ao final de 4 semanas. "
   ]
  },
  {
   "cell_type": "code",
   "execution_count": 4,
   "id": "5a307587",
   "metadata": {
    "deletable": false,
    "execution": {
     "iopub.execute_input": "2022-06-27T16:33:32.937331Z",
     "iopub.status.busy": "2022-06-27T16:33:32.936975Z",
     "iopub.status.idle": "2022-06-27T16:33:32.960972Z",
     "shell.execute_reply": "2022-06-27T16:33:32.960459Z"
    },
    "id": "5a307587",
    "nbgrader": {
     "cell_type": "code",
     "checksum": "e511551fc875680ccd9679f9b2c21414",
     "grade": true,
     "grade_id": "Exercicio4",
     "locked": false,
     "points": 1,
     "schema_version": 3,
     "solution": true,
     "task": false
    }
   },
   "outputs": [
    {
     "ename": "StdinNotImplementedError",
     "evalue": "raw_input was called, but this frontend does not support input requests.",
     "output_type": "error",
     "traceback": [
      "\u001b[0;31m---------------------------------------------------------------------------\u001b[0m",
      "\u001b[0;31mStdinNotImplementedError\u001b[0m                  Traceback (most recent call last)",
      "Input \u001b[0;32mIn [4]\u001b[0m, in \u001b[0;36m<cell line: 1>\u001b[0;34m()\u001b[0m\n\u001b[0;32m----> 1\u001b[0m d \u001b[38;5;241m=\u001b[39m \u001b[38;5;28mfloat\u001b[39m(\u001b[38;5;28;43minput\u001b[39;49m\u001b[43m(\u001b[49m\u001b[38;5;124;43m\"\u001b[39;49m\u001b[38;5;124;43mQuanto você ganha por hora? \u001b[39;49m\u001b[38;5;124;43m\"\u001b[39;49m\u001b[43m)\u001b[49m)\n\u001b[1;32m      2\u001b[0m h \u001b[38;5;241m=\u001b[39m \u001b[38;5;28mfloat\u001b[39m(\u001b[38;5;28minput\u001b[39m(\u001b[38;5;124m\"\u001b[39m\u001b[38;5;124mQuantas horas você trabalhou na semana? \u001b[39m\u001b[38;5;124m\"\u001b[39m))\n\u001b[1;32m      4\u001b[0m T \u001b[38;5;241m=\u001b[39m (h\u001b[38;5;241m*\u001b[39m\u001b[38;5;241m4\u001b[39m)\u001b[38;5;241m*\u001b[39md\n",
      "File \u001b[0;32m~/anaconda3/lib/python3.9/site-packages/ipykernel/kernelbase.py:1072\u001b[0m, in \u001b[0;36mKernel.raw_input\u001b[0;34m(self, prompt)\u001b[0m\n\u001b[1;32m   1065\u001b[0m \u001b[38;5;124;03m\"\"\"Forward raw_input to frontends\u001b[39;00m\n\u001b[1;32m   1066\u001b[0m \n\u001b[1;32m   1067\u001b[0m \u001b[38;5;124;03mRaises\u001b[39;00m\n\u001b[1;32m   1068\u001b[0m \u001b[38;5;124;03m------\u001b[39;00m\n\u001b[1;32m   1069\u001b[0m \u001b[38;5;124;03mStdinNotImplementedError if active frontend doesn't support stdin.\u001b[39;00m\n\u001b[1;32m   1070\u001b[0m \u001b[38;5;124;03m\"\"\"\u001b[39;00m\n\u001b[1;32m   1071\u001b[0m \u001b[38;5;28;01mif\u001b[39;00m \u001b[38;5;129;01mnot\u001b[39;00m \u001b[38;5;28mself\u001b[39m\u001b[38;5;241m.\u001b[39m_allow_stdin:\n\u001b[0;32m-> 1072\u001b[0m     \u001b[38;5;28;01mraise\u001b[39;00m StdinNotImplementedError(\n\u001b[1;32m   1073\u001b[0m         \u001b[38;5;124m\"\u001b[39m\u001b[38;5;124mraw_input was called, but this frontend does not support input requests.\u001b[39m\u001b[38;5;124m\"\u001b[39m\n\u001b[1;32m   1074\u001b[0m     )\n\u001b[1;32m   1075\u001b[0m \u001b[38;5;28;01mreturn\u001b[39;00m \u001b[38;5;28mself\u001b[39m\u001b[38;5;241m.\u001b[39m_input_request(\n\u001b[1;32m   1076\u001b[0m     \u001b[38;5;28mstr\u001b[39m(prompt),\n\u001b[1;32m   1077\u001b[0m     \u001b[38;5;28mself\u001b[39m\u001b[38;5;241m.\u001b[39m_parent_ident[\u001b[38;5;124m\"\u001b[39m\u001b[38;5;124mshell\u001b[39m\u001b[38;5;124m\"\u001b[39m],\n\u001b[1;32m   1078\u001b[0m     \u001b[38;5;28mself\u001b[39m\u001b[38;5;241m.\u001b[39mget_parent(\u001b[38;5;124m\"\u001b[39m\u001b[38;5;124mshell\u001b[39m\u001b[38;5;124m\"\u001b[39m),\n\u001b[1;32m   1079\u001b[0m     password\u001b[38;5;241m=\u001b[39m\u001b[38;5;28;01mFalse\u001b[39;00m,\n\u001b[1;32m   1080\u001b[0m )\n",
      "\u001b[0;31mStdinNotImplementedError\u001b[0m: raw_input was called, but this frontend does not support input requests."
     ]
    }
   ],
   "source": [
    "d = float(input(\"Quanto você ganha por hora? \"))\n",
    "h = float(input(\"Quantas horas você trabalhou na semana? \"))\n",
    "\n",
    "T = (h*4)*d\n",
    "print(f\"O salário ao final de quatro semanas é: {T}\")"
   ]
  },
  {
   "cell_type": "markdown",
   "id": "d5088446",
   "metadata": {
    "deletable": false,
    "editable": false,
    "id": "d5088446",
    "nbgrader": {
     "cell_type": "markdown",
     "checksum": "c82b175f45419cc78a6f0efc08f9ab15",
     "grade": false,
     "grade_id": "Exercicio5-descricao",
     "locked": true,
     "schema_version": 3,
     "solution": false,
     "task": false
    }
   },
   "source": [
    "# Exercício 5\n",
    "\n",
    "Faça um programa que leia um número inteiro qualquer e que apresete, além do número informado, o seu antecessor e do seu sucessor."
   ]
  },
  {
   "cell_type": "code",
   "execution_count": 5,
   "id": "a09fcc89",
   "metadata": {
    "deletable": false,
    "execution": {
     "iopub.execute_input": "2022-06-27T16:33:32.963738Z",
     "iopub.status.busy": "2022-06-27T16:33:32.963480Z",
     "iopub.status.idle": "2022-06-27T16:33:32.985769Z",
     "shell.execute_reply": "2022-06-27T16:33:32.985094Z"
    },
    "id": "a09fcc89",
    "nbgrader": {
     "cell_type": "code",
     "checksum": "9f693e117e3e2158f95ee76dc96292a0",
     "grade": true,
     "grade_id": "Exercicio5",
     "locked": false,
     "points": 1,
     "schema_version": 3,
     "solution": true,
     "task": false
    }
   },
   "outputs": [
    {
     "ename": "StdinNotImplementedError",
     "evalue": "raw_input was called, but this frontend does not support input requests.",
     "output_type": "error",
     "traceback": [
      "\u001b[0;31m---------------------------------------------------------------------------\u001b[0m",
      "\u001b[0;31mStdinNotImplementedError\u001b[0m                  Traceback (most recent call last)",
      "Input \u001b[0;32mIn [5]\u001b[0m, in \u001b[0;36m<cell line: 1>\u001b[0;34m()\u001b[0m\n\u001b[0;32m----> 1\u001b[0m X \u001b[38;5;241m=\u001b[39m \u001b[38;5;28mint\u001b[39m(\u001b[38;5;28;43minput\u001b[39;49m\u001b[43m(\u001b[49m\u001b[38;5;124;43m\"\u001b[39;49m\u001b[38;5;124;43mDigite um número inteiro: \u001b[39;49m\u001b[38;5;124;43m\"\u001b[39;49m\u001b[43m)\u001b[49m)\n\u001b[1;32m      2\u001b[0m W \u001b[38;5;241m=\u001b[39m X \u001b[38;5;241m-\u001b[39m \u001b[38;5;241m1\u001b[39m\n\u001b[1;32m      3\u001b[0m Y \u001b[38;5;241m=\u001b[39m X \u001b[38;5;241m+\u001b[39m \u001b[38;5;241m1\u001b[39m\n",
      "File \u001b[0;32m~/anaconda3/lib/python3.9/site-packages/ipykernel/kernelbase.py:1072\u001b[0m, in \u001b[0;36mKernel.raw_input\u001b[0;34m(self, prompt)\u001b[0m\n\u001b[1;32m   1065\u001b[0m \u001b[38;5;124;03m\"\"\"Forward raw_input to frontends\u001b[39;00m\n\u001b[1;32m   1066\u001b[0m \n\u001b[1;32m   1067\u001b[0m \u001b[38;5;124;03mRaises\u001b[39;00m\n\u001b[1;32m   1068\u001b[0m \u001b[38;5;124;03m------\u001b[39;00m\n\u001b[1;32m   1069\u001b[0m \u001b[38;5;124;03mStdinNotImplementedError if active frontend doesn't support stdin.\u001b[39;00m\n\u001b[1;32m   1070\u001b[0m \u001b[38;5;124;03m\"\"\"\u001b[39;00m\n\u001b[1;32m   1071\u001b[0m \u001b[38;5;28;01mif\u001b[39;00m \u001b[38;5;129;01mnot\u001b[39;00m \u001b[38;5;28mself\u001b[39m\u001b[38;5;241m.\u001b[39m_allow_stdin:\n\u001b[0;32m-> 1072\u001b[0m     \u001b[38;5;28;01mraise\u001b[39;00m StdinNotImplementedError(\n\u001b[1;32m   1073\u001b[0m         \u001b[38;5;124m\"\u001b[39m\u001b[38;5;124mraw_input was called, but this frontend does not support input requests.\u001b[39m\u001b[38;5;124m\"\u001b[39m\n\u001b[1;32m   1074\u001b[0m     )\n\u001b[1;32m   1075\u001b[0m \u001b[38;5;28;01mreturn\u001b[39;00m \u001b[38;5;28mself\u001b[39m\u001b[38;5;241m.\u001b[39m_input_request(\n\u001b[1;32m   1076\u001b[0m     \u001b[38;5;28mstr\u001b[39m(prompt),\n\u001b[1;32m   1077\u001b[0m     \u001b[38;5;28mself\u001b[39m\u001b[38;5;241m.\u001b[39m_parent_ident[\u001b[38;5;124m\"\u001b[39m\u001b[38;5;124mshell\u001b[39m\u001b[38;5;124m\"\u001b[39m],\n\u001b[1;32m   1078\u001b[0m     \u001b[38;5;28mself\u001b[39m\u001b[38;5;241m.\u001b[39mget_parent(\u001b[38;5;124m\"\u001b[39m\u001b[38;5;124mshell\u001b[39m\u001b[38;5;124m\"\u001b[39m),\n\u001b[1;32m   1079\u001b[0m     password\u001b[38;5;241m=\u001b[39m\u001b[38;5;28;01mFalse\u001b[39;00m,\n\u001b[1;32m   1080\u001b[0m )\n",
      "\u001b[0;31mStdinNotImplementedError\u001b[0m: raw_input was called, but this frontend does not support input requests."
     ]
    }
   ],
   "source": [
    "X = int(input(\"Digite um número inteiro: \"))\n",
    "W = X - 1\n",
    "Y = X + 1\n",
    "\n",
    "print(f\"O número informado foi {X}, seu sucessor é {Y} e seu antecessor é {W}.\")"
   ]
  },
  {
   "cell_type": "markdown",
   "id": "57a3fb31",
   "metadata": {
    "deletable": false,
    "editable": false,
    "id": "57a3fb31",
    "nbgrader": {
     "cell_type": "markdown",
     "checksum": "537bdb2e45ec13ee95cea397e02744f2",
     "grade": false,
     "grade_id": "Exercicio6-descricao",
     "locked": true,
     "schema_version": 3,
     "solution": false,
     "task": false
    }
   },
   "source": [
    "# Exercício 6\n",
    "\n",
    "Faça um programa que leia quatro notas, e seus respectivos pesos, e que apresente a média final simples e a média final ponderada."
   ]
  },
  {
   "cell_type": "code",
   "execution_count": 6,
   "id": "10e12fd4",
   "metadata": {
    "deletable": false,
    "execution": {
     "iopub.execute_input": "2022-06-27T16:33:32.990902Z",
     "iopub.status.busy": "2022-06-27T16:33:32.990638Z",
     "iopub.status.idle": "2022-06-27T16:33:33.028800Z",
     "shell.execute_reply": "2022-06-27T16:33:33.028149Z"
    },
    "id": "10e12fd4",
    "nbgrader": {
     "cell_type": "code",
     "checksum": "ff1bbd3e5c18dc73d5e0328c41d74739",
     "grade": true,
     "grade_id": "Exercicio6",
     "locked": false,
     "points": 1,
     "schema_version": 3,
     "solution": true,
     "task": false
    }
   },
   "outputs": [
    {
     "ename": "StdinNotImplementedError",
     "evalue": "raw_input was called, but this frontend does not support input requests.",
     "output_type": "error",
     "traceback": [
      "\u001b[0;31m---------------------------------------------------------------------------\u001b[0m",
      "\u001b[0;31mStdinNotImplementedError\u001b[0m                  Traceback (most recent call last)",
      "Input \u001b[0;32mIn [6]\u001b[0m, in \u001b[0;36m<cell line: 1>\u001b[0;34m()\u001b[0m\n\u001b[0;32m----> 1\u001b[0m N1 \u001b[38;5;241m=\u001b[39m \u001b[38;5;28mfloat\u001b[39m(\u001b[38;5;28;43minput\u001b[39;49m\u001b[43m(\u001b[49m\u001b[38;5;124;43m\"\u001b[39;49m\u001b[38;5;124;43mDigite a nota 1: \u001b[39;49m\u001b[38;5;124;43m\"\u001b[39;49m\u001b[43m)\u001b[49m)\n\u001b[1;32m      2\u001b[0m N2 \u001b[38;5;241m=\u001b[39m \u001b[38;5;28mfloat\u001b[39m(\u001b[38;5;28minput\u001b[39m(\u001b[38;5;124m\"\u001b[39m\u001b[38;5;124mDigite a nota 2: \u001b[39m\u001b[38;5;124m\"\u001b[39m))\n\u001b[1;32m      3\u001b[0m N3 \u001b[38;5;241m=\u001b[39m \u001b[38;5;28mfloat\u001b[39m(\u001b[38;5;28minput\u001b[39m(\u001b[38;5;124m\"\u001b[39m\u001b[38;5;124mDigite a nota 3: \u001b[39m\u001b[38;5;124m\"\u001b[39m))\n",
      "File \u001b[0;32m~/anaconda3/lib/python3.9/site-packages/ipykernel/kernelbase.py:1072\u001b[0m, in \u001b[0;36mKernel.raw_input\u001b[0;34m(self, prompt)\u001b[0m\n\u001b[1;32m   1065\u001b[0m \u001b[38;5;124;03m\"\"\"Forward raw_input to frontends\u001b[39;00m\n\u001b[1;32m   1066\u001b[0m \n\u001b[1;32m   1067\u001b[0m \u001b[38;5;124;03mRaises\u001b[39;00m\n\u001b[1;32m   1068\u001b[0m \u001b[38;5;124;03m------\u001b[39;00m\n\u001b[1;32m   1069\u001b[0m \u001b[38;5;124;03mStdinNotImplementedError if active frontend doesn't support stdin.\u001b[39;00m\n\u001b[1;32m   1070\u001b[0m \u001b[38;5;124;03m\"\"\"\u001b[39;00m\n\u001b[1;32m   1071\u001b[0m \u001b[38;5;28;01mif\u001b[39;00m \u001b[38;5;129;01mnot\u001b[39;00m \u001b[38;5;28mself\u001b[39m\u001b[38;5;241m.\u001b[39m_allow_stdin:\n\u001b[0;32m-> 1072\u001b[0m     \u001b[38;5;28;01mraise\u001b[39;00m StdinNotImplementedError(\n\u001b[1;32m   1073\u001b[0m         \u001b[38;5;124m\"\u001b[39m\u001b[38;5;124mraw_input was called, but this frontend does not support input requests.\u001b[39m\u001b[38;5;124m\"\u001b[39m\n\u001b[1;32m   1074\u001b[0m     )\n\u001b[1;32m   1075\u001b[0m \u001b[38;5;28;01mreturn\u001b[39;00m \u001b[38;5;28mself\u001b[39m\u001b[38;5;241m.\u001b[39m_input_request(\n\u001b[1;32m   1076\u001b[0m     \u001b[38;5;28mstr\u001b[39m(prompt),\n\u001b[1;32m   1077\u001b[0m     \u001b[38;5;28mself\u001b[39m\u001b[38;5;241m.\u001b[39m_parent_ident[\u001b[38;5;124m\"\u001b[39m\u001b[38;5;124mshell\u001b[39m\u001b[38;5;124m\"\u001b[39m],\n\u001b[1;32m   1078\u001b[0m     \u001b[38;5;28mself\u001b[39m\u001b[38;5;241m.\u001b[39mget_parent(\u001b[38;5;124m\"\u001b[39m\u001b[38;5;124mshell\u001b[39m\u001b[38;5;124m\"\u001b[39m),\n\u001b[1;32m   1079\u001b[0m     password\u001b[38;5;241m=\u001b[39m\u001b[38;5;28;01mFalse\u001b[39;00m,\n\u001b[1;32m   1080\u001b[0m )\n",
      "\u001b[0;31mStdinNotImplementedError\u001b[0m: raw_input was called, but this frontend does not support input requests."
     ]
    }
   ],
   "source": [
    "N1 = float(input(\"Digite a nota 1: \"))\n",
    "N2 = float(input(\"Digite a nota 2: \"))\n",
    "N3 = float(input(\"Digite a nota 3: \"))\n",
    "N4 = float(input(\"Digite a nota 4: \"))\n",
    "P1 = float(input(\"Digite o peso da nota 1: \"))\n",
    "P2 = float(input(\"Digite o peso da nota 2: \"))\n",
    "P3 = float(input(\"Digite o peso da nota 3: \"))\n",
    "P4 = float(input(\"Digite o peso da nota 4: \"))\n",
    "\n",
    "Mfs = (N1+N2+N3+N4)/4\n",
    "Mfp = (N1*P1+N2*P2+N3*P3+N4*P4)/(P1+P2+P3+P4)\n",
    "\n",
    "print(f\"A média final simples é {Mfs} e a média final ponderada é {Mfp}\")"
   ]
  },
  {
   "cell_type": "markdown",
   "id": "da81404d",
   "metadata": {
    "deletable": false,
    "editable": false,
    "id": "da81404d",
    "nbgrader": {
     "cell_type": "markdown",
     "checksum": "6f91f7198e36290a15c6547e839a5885",
     "grade": false,
     "grade_id": "Exercicio7-descricao",
     "locked": true,
     "schema_version": 3,
     "solution": false,
     "task": false
    }
   },
   "source": [
    "# Exercício 7\n",
    "\n",
    "Faça um programa para uma loja de tintas. O programa deverá pedir o tamanho em metros quadrados da área a ser pintada. Considere que a cobertura da tinta é de 1 litro para cada 12 metros quadrados e que a tinta é vendida em latas de 18 litros, que custam R$ 80,00. Informe ao usuário a quantidades de latas de tinta a serem compradas e o preço total. "
   ]
  },
  {
   "cell_type": "code",
   "execution_count": 7,
   "id": "2a1f6a9c",
   "metadata": {
    "deletable": false,
    "execution": {
     "iopub.execute_input": "2022-06-27T16:33:33.031454Z",
     "iopub.status.busy": "2022-06-27T16:33:33.031244Z",
     "iopub.status.idle": "2022-06-27T16:33:33.055804Z",
     "shell.execute_reply": "2022-06-27T16:33:33.054729Z"
    },
    "id": "2a1f6a9c",
    "nbgrader": {
     "cell_type": "code",
     "checksum": "0b356a405bcdf2f889a9a95d9a196d61",
     "grade": true,
     "grade_id": "Exercicio7",
     "locked": false,
     "points": 2,
     "schema_version": 3,
     "solution": true,
     "task": false
    }
   },
   "outputs": [
    {
     "ename": "StdinNotImplementedError",
     "evalue": "raw_input was called, but this frontend does not support input requests.",
     "output_type": "error",
     "traceback": [
      "\u001b[0;31m---------------------------------------------------------------------------\u001b[0m",
      "\u001b[0;31mStdinNotImplementedError\u001b[0m                  Traceback (most recent call last)",
      "Input \u001b[0;32mIn [7]\u001b[0m, in \u001b[0;36m<cell line: 2>\u001b[0;34m()\u001b[0m\n\u001b[1;32m      1\u001b[0m \u001b[38;5;28;01mimport\u001b[39;00m \u001b[38;5;21;01mmath\u001b[39;00m\n\u001b[0;32m----> 2\u001b[0m Ar \u001b[38;5;241m=\u001b[39m \u001b[38;5;28mint\u001b[39m(\u001b[38;5;28;43minput\u001b[39;49m\u001b[43m(\u001b[49m\u001b[38;5;124;43m\"\u001b[39;49m\u001b[38;5;124;43mQual a área a ser pintada em metros quadrados? \u001b[39;49m\u001b[38;5;124;43m\"\u001b[39;49m\u001b[43m)\u001b[49m)\n\u001b[1;32m      3\u001b[0m Li \u001b[38;5;241m=\u001b[39m (Ar\u001b[38;5;241m/\u001b[39m\u001b[38;5;241m12\u001b[39m)\n\u001b[1;32m      4\u001b[0m A \u001b[38;5;241m=\u001b[39m math\u001b[38;5;241m.\u001b[39mceil(Li\u001b[38;5;241m/\u001b[39m\u001b[38;5;241m18\u001b[39m)\n",
      "File \u001b[0;32m~/anaconda3/lib/python3.9/site-packages/ipykernel/kernelbase.py:1072\u001b[0m, in \u001b[0;36mKernel.raw_input\u001b[0;34m(self, prompt)\u001b[0m\n\u001b[1;32m   1065\u001b[0m \u001b[38;5;124;03m\"\"\"Forward raw_input to frontends\u001b[39;00m\n\u001b[1;32m   1066\u001b[0m \n\u001b[1;32m   1067\u001b[0m \u001b[38;5;124;03mRaises\u001b[39;00m\n\u001b[1;32m   1068\u001b[0m \u001b[38;5;124;03m------\u001b[39;00m\n\u001b[1;32m   1069\u001b[0m \u001b[38;5;124;03mStdinNotImplementedError if active frontend doesn't support stdin.\u001b[39;00m\n\u001b[1;32m   1070\u001b[0m \u001b[38;5;124;03m\"\"\"\u001b[39;00m\n\u001b[1;32m   1071\u001b[0m \u001b[38;5;28;01mif\u001b[39;00m \u001b[38;5;129;01mnot\u001b[39;00m \u001b[38;5;28mself\u001b[39m\u001b[38;5;241m.\u001b[39m_allow_stdin:\n\u001b[0;32m-> 1072\u001b[0m     \u001b[38;5;28;01mraise\u001b[39;00m StdinNotImplementedError(\n\u001b[1;32m   1073\u001b[0m         \u001b[38;5;124m\"\u001b[39m\u001b[38;5;124mraw_input was called, but this frontend does not support input requests.\u001b[39m\u001b[38;5;124m\"\u001b[39m\n\u001b[1;32m   1074\u001b[0m     )\n\u001b[1;32m   1075\u001b[0m \u001b[38;5;28;01mreturn\u001b[39;00m \u001b[38;5;28mself\u001b[39m\u001b[38;5;241m.\u001b[39m_input_request(\n\u001b[1;32m   1076\u001b[0m     \u001b[38;5;28mstr\u001b[39m(prompt),\n\u001b[1;32m   1077\u001b[0m     \u001b[38;5;28mself\u001b[39m\u001b[38;5;241m.\u001b[39m_parent_ident[\u001b[38;5;124m\"\u001b[39m\u001b[38;5;124mshell\u001b[39m\u001b[38;5;124m\"\u001b[39m],\n\u001b[1;32m   1078\u001b[0m     \u001b[38;5;28mself\u001b[39m\u001b[38;5;241m.\u001b[39mget_parent(\u001b[38;5;124m\"\u001b[39m\u001b[38;5;124mshell\u001b[39m\u001b[38;5;124m\"\u001b[39m),\n\u001b[1;32m   1079\u001b[0m     password\u001b[38;5;241m=\u001b[39m\u001b[38;5;28;01mFalse\u001b[39;00m,\n\u001b[1;32m   1080\u001b[0m )\n",
      "\u001b[0;31mStdinNotImplementedError\u001b[0m: raw_input was called, but this frontend does not support input requests."
     ]
    }
   ],
   "source": [
    "import math\n",
    "Ar = int(input(\"Qual a área a ser pintada em metros quadrados? \"))\n",
    "Li = (Ar/12)\n",
    "A = math.ceil(Li/18)\n",
    "P = A*80\n",
    "print(f\"Deverão ser compradas {A} latas de tinta, ficando com o preço total de {P} reais\")"
   ]
  },
  {
   "cell_type": "markdown",
   "id": "79eca3d1",
   "metadata": {
    "deletable": false,
    "editable": false,
    "id": "79eca3d1",
    "nbgrader": {
     "cell_type": "markdown",
     "checksum": "e44b2f3971c79d43c75c12bce821c4d9",
     "grade": false,
     "grade_id": "Exercicio8-descricao",
     "locked": true,
     "schema_version": 3,
     "solution": false,
     "task": false
    }
   },
   "source": [
    "# Exercício 8\n",
    "\n",
    "Faça um Programa para uma loja de tintas. O programa deverá pedir o tamanho em metros quadrados da área a ser pintada. Considere que a cobertura da tinta é de 1 litro para cada 12 metros quadrados e que a tinta é vendida em latas de 18 litros, que custam R$ 80,00 ou em galões de 3,6 litros, que custam R$ 25,00.\n",
    "\n",
    "Informe ao usuário as quantidades de tinta a serem compradas e os respectivos preços em 3 situações:\n",
    "\n",
    "    - comprar apenas latas de 18 litros;\n",
    "    - comprar apenas galões de 3,6 litros;\n",
    "    - misturar latas e galões, de forma que o desperdício de tinta seja menor. \n",
    "    \n",
    "Acrescente 10% de folga nos três casos (isto é, você deve adicionar 10% sobre o total de litros de tinta necessário) e sempre arredonde os valores para cima, isto é, considere latas cheias. \n",
    "\n"
   ]
  },
  {
   "cell_type": "code",
   "execution_count": 8,
   "id": "54c1e741",
   "metadata": {
    "deletable": false,
    "execution": {
     "iopub.execute_input": "2022-06-27T16:33:33.059634Z",
     "iopub.status.busy": "2022-06-27T16:33:33.059372Z",
     "iopub.status.idle": "2022-06-27T16:33:33.092861Z",
     "shell.execute_reply": "2022-06-27T16:33:33.092010Z"
    },
    "id": "54c1e741",
    "nbgrader": {
     "cell_type": "code",
     "checksum": "8f12ca6f898fe140e2eb04c84fc6c8f3",
     "grade": true,
     "grade_id": "Exercicio8",
     "locked": false,
     "points": 2,
     "schema_version": 3,
     "solution": true,
     "task": false
    }
   },
   "outputs": [
    {
     "ename": "StdinNotImplementedError",
     "evalue": "raw_input was called, but this frontend does not support input requests.",
     "output_type": "error",
     "traceback": [
      "\u001b[0;31m---------------------------------------------------------------------------\u001b[0m",
      "\u001b[0;31mStdinNotImplementedError\u001b[0m                  Traceback (most recent call last)",
      "Input \u001b[0;32mIn [8]\u001b[0m, in \u001b[0;36m<cell line: 3>\u001b[0;34m()\u001b[0m\n\u001b[1;32m      1\u001b[0m \u001b[38;5;28;01mimport\u001b[39;00m \u001b[38;5;21;01mmath\u001b[39;00m\n\u001b[0;32m----> 3\u001b[0m Ar \u001b[38;5;241m=\u001b[39m \u001b[38;5;28mint\u001b[39m(\u001b[38;5;28;43minput\u001b[39;49m\u001b[43m(\u001b[49m\u001b[38;5;124;43m\"\u001b[39;49m\u001b[38;5;124;43mQual a área a ser pintada em metros quadrados? \u001b[39;49m\u001b[38;5;124;43m\"\u001b[39;49m\u001b[43m)\u001b[49m)\n\u001b[1;32m      4\u001b[0m Li \u001b[38;5;241m=\u001b[39m \u001b[38;5;28mfloat\u001b[39m(Ar\u001b[38;5;241m/\u001b[39m\u001b[38;5;241m12\u001b[39m)\u001b[38;5;241m/\u001b[39m\u001b[38;5;241m0.9\u001b[39m\n\u001b[1;32m      5\u001b[0m A \u001b[38;5;241m=\u001b[39m math\u001b[38;5;241m.\u001b[39mceil(Li\u001b[38;5;241m/\u001b[39m\u001b[38;5;241m18\u001b[39m)\n",
      "File \u001b[0;32m~/anaconda3/lib/python3.9/site-packages/ipykernel/kernelbase.py:1072\u001b[0m, in \u001b[0;36mKernel.raw_input\u001b[0;34m(self, prompt)\u001b[0m\n\u001b[1;32m   1065\u001b[0m \u001b[38;5;124;03m\"\"\"Forward raw_input to frontends\u001b[39;00m\n\u001b[1;32m   1066\u001b[0m \n\u001b[1;32m   1067\u001b[0m \u001b[38;5;124;03mRaises\u001b[39;00m\n\u001b[1;32m   1068\u001b[0m \u001b[38;5;124;03m------\u001b[39;00m\n\u001b[1;32m   1069\u001b[0m \u001b[38;5;124;03mStdinNotImplementedError if active frontend doesn't support stdin.\u001b[39;00m\n\u001b[1;32m   1070\u001b[0m \u001b[38;5;124;03m\"\"\"\u001b[39;00m\n\u001b[1;32m   1071\u001b[0m \u001b[38;5;28;01mif\u001b[39;00m \u001b[38;5;129;01mnot\u001b[39;00m \u001b[38;5;28mself\u001b[39m\u001b[38;5;241m.\u001b[39m_allow_stdin:\n\u001b[0;32m-> 1072\u001b[0m     \u001b[38;5;28;01mraise\u001b[39;00m StdinNotImplementedError(\n\u001b[1;32m   1073\u001b[0m         \u001b[38;5;124m\"\u001b[39m\u001b[38;5;124mraw_input was called, but this frontend does not support input requests.\u001b[39m\u001b[38;5;124m\"\u001b[39m\n\u001b[1;32m   1074\u001b[0m     )\n\u001b[1;32m   1075\u001b[0m \u001b[38;5;28;01mreturn\u001b[39;00m \u001b[38;5;28mself\u001b[39m\u001b[38;5;241m.\u001b[39m_input_request(\n\u001b[1;32m   1076\u001b[0m     \u001b[38;5;28mstr\u001b[39m(prompt),\n\u001b[1;32m   1077\u001b[0m     \u001b[38;5;28mself\u001b[39m\u001b[38;5;241m.\u001b[39m_parent_ident[\u001b[38;5;124m\"\u001b[39m\u001b[38;5;124mshell\u001b[39m\u001b[38;5;124m\"\u001b[39m],\n\u001b[1;32m   1078\u001b[0m     \u001b[38;5;28mself\u001b[39m\u001b[38;5;241m.\u001b[39mget_parent(\u001b[38;5;124m\"\u001b[39m\u001b[38;5;124mshell\u001b[39m\u001b[38;5;124m\"\u001b[39m),\n\u001b[1;32m   1079\u001b[0m     password\u001b[38;5;241m=\u001b[39m\u001b[38;5;28;01mFalse\u001b[39;00m,\n\u001b[1;32m   1080\u001b[0m )\n",
      "\u001b[0;31mStdinNotImplementedError\u001b[0m: raw_input was called, but this frontend does not support input requests."
     ]
    }
   ],
   "source": [
    "import math\n",
    "\n",
    "Ar = int(input(\"Qual a área a ser pintada em metros quadrados? \"))\n",
    "Li = float(Ar/12)/0.9\n",
    "A = math.ceil(Li/18)\n",
    "P = A*80\n",
    "print(f\"Comprando somente latas de 18 litros, devem ser compradas {A} latas, ficando com o preço total de {P} reais\")\n",
    "\n",
    "B = math.ceil(Li/3.6)\n",
    "Pb = B*25\n",
    "print(f\"Comprando somente latas de 3.6 litros, devem ser compradas {B} latas, ficando com o preço total de {Pb} reais\")\n",
    "\n",
    "if Li<=18:\n",
    "  if (Li%18)>14.4:\n",
    "    C = A\n",
    "    Pc = P\n",
    "    print(f\"Comprando latas de 18 litros e de 3.6 litros combinadas, devem ser compradas {C} latas de 18 litros, ficando com o preço total de {Pc} reais, para evitar desperdício de tinta.\")\n",
    "  else:\n",
    "    C = B\n",
    "    Pc = Pb\n",
    "    print(f\"Comprando latas de 18 litros e de 3.6 litros combinadas, devem ser compradas {C} latas de 3.6 litros, ficando com o preço total de {Pc} reais, para evitar desperdício\")\n",
    "\n",
    "else:\n",
    "  if (Li%18)<=14.4:\n",
    "    La = Li-(Li%18)\n",
    "    D = La/18\n",
    "    C = math.ceil((Li%18)/3.6)\n",
    "    Pc = (D)*80 + (C)*25\n",
    "    print(f\"Comprando latas de 18 litros e de 3.6 litros combinadas, devem ser compradas {C} latas de 3.6 litros e {D} latas de 18 litros, ficando com o preço total de {Pc} reais, para evitar desperdício de tinta.\")\n",
    "  else:\n",
    "    C = math.ceil(A)\n",
    "    Pc = P\n",
    "    print(f\"Comprando latas de 18 litros e de 3.6 litros combinadas, devem ser compradas {C} latas de 18 litros, ficando com o preço total de {Pc} reais, para evitar desperdício de tinta.\")\n",
    "\n",
    "\n",
    "\n"
   ]
  }
 ],
 "metadata": {
  "colab": {
   "name": "Semana1.ipynb",
   "provenance": []
  },
  "kernelspec": {
   "display_name": "Python 3 (ipykernel)",
   "language": "python",
   "name": "python3"
  },
  "language_info": {
   "codemirror_mode": {
    "name": "ipython",
    "version": 3
   },
   "file_extension": ".py",
   "mimetype": "text/x-python",
   "name": "python",
   "nbconvert_exporter": "python",
   "pygments_lexer": "ipython3",
   "version": "3.9.7"
  }
 },
 "nbformat": 4,
 "nbformat_minor": 5
}
