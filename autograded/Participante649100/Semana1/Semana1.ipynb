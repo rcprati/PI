{
 "cells": [
  {
   "cell_type": "markdown",
   "id": "d4a1d469",
   "metadata": {
    "id": "d4a1d469"
   },
   "source": [
    "# Instruções\n",
    "\n",
    "- Antes de resolver esses exercícios, certifique-se que a configuração está correta (Python 3).\n",
    "\n",
    "- Se estiver usando o Colab, faça uma cópia deste notebook antes de começar a repondê-lo.\n",
    "\n",
    "![](http://professor.ufabc.edu.br/~ronaldo.prati/colab.png)\n",
    "\n",
    "- Lembre-se de manter o nome do caderno com o mesmo nome original.\n",
    "\n",
    "- Não apague nem introduza novas células neste notebook.\n",
    "\n",
    "- Certifique-se que você preencheu todos os lugares que dizem \\\"YOUR CODE HERE\\\" ou \\\"YOUR ANSWER HERE\\\". Substitutua essa linha e também a linha `raise NotImplementedError()` pelo seu código.\n",
    "\n",
    "- Depois de resolver os exercícios, para enviar a atividade, salve o notebook e o envie pelo moodle da disciplina. No colab, para exportar o notebook localmente, acesse `File->Download->Download .ipynb` ou `Arquivo->Baixar->Baixar .ipynb`\n",
    "\n",
    "![](http://professor.ufabc.edu.br/~ronaldo.prati/submit.png)"
   ]
  },
  {
   "cell_type": "markdown",
   "id": "5f82cbf3",
   "metadata": {
    "deletable": false,
    "editable": false,
    "id": "5f82cbf3",
    "nbgrader": {
     "cell_type": "markdown",
     "checksum": "f1f911b3ba8050e102209c62c8db3f57",
     "grade": false,
     "grade_id": "Exercicio1-descricao",
     "locked": true,
     "schema_version": 3,
     "solution": false,
     "task": false
    }
   },
   "source": [
    "# Exercício 1\n",
    "\n",
    "Faça um programa que peça um número e armazene-o em uma variável. A seguir, mostre a mensagem \"O número informado foi [número]\""
   ]
  },
  {
   "cell_type": "code",
   "execution_count": 1,
   "id": "98f0fd7a",
   "metadata": {
    "colab": {
     "base_uri": "https://localhost:8080/"
    },
    "deletable": false,
    "execution": {
     "iopub.execute_input": "2022-06-27T16:36:25.863840Z",
     "iopub.status.busy": "2022-06-27T16:36:25.863552Z",
     "iopub.status.idle": "2022-06-27T16:36:26.592108Z",
     "shell.execute_reply": "2022-06-27T16:36:26.591501Z"
    },
    "id": "98f0fd7a",
    "nbgrader": {
     "cell_type": "code",
     "checksum": "74fb8b9b0c1978c0db15aa13a5696150",
     "grade": true,
     "grade_id": "Exercicio1",
     "locked": false,
     "points": 1,
     "schema_version": 3,
     "solution": true,
     "task": false
    },
    "outputId": "5ea1d694-352f-42c3-ca04-ebe73efd83d2"
   },
   "outputs": [
    {
     "ename": "StdinNotImplementedError",
     "evalue": "raw_input was called, but this frontend does not support input requests.",
     "output_type": "error",
     "traceback": [
      "\u001b[0;31m---------------------------------------------------------------------------\u001b[0m",
      "\u001b[0;31mStdinNotImplementedError\u001b[0m                  Traceback (most recent call last)",
      "Input \u001b[0;32mIn [1]\u001b[0m, in \u001b[0;36m<cell line: 3>\u001b[0;34m()\u001b[0m\n\u001b[1;32m      1\u001b[0m \u001b[38;5;28;01mimport\u001b[39;00m \u001b[38;5;21;01mmath\u001b[39;00m\n\u001b[0;32m----> 3\u001b[0m x\u001b[38;5;241m=\u001b[39m \u001b[38;5;28mfloat\u001b[39m(\u001b[38;5;28;43minput\u001b[39;49m\u001b[43m(\u001b[49m\u001b[38;5;124;43m\"\u001b[39;49m\u001b[38;5;124;43mEntre com o valor de x:\u001b[39;49m\u001b[38;5;124;43m\"\u001b[39;49m\u001b[43m)\u001b[49m)\n\u001b[1;32m      5\u001b[0m \u001b[38;5;28mprint\u001b[39m(\u001b[38;5;124m\"\u001b[39m\u001b[38;5;124mO número informado foi:\u001b[39m\u001b[38;5;124m\"\u001b[39m,x)\n",
      "File \u001b[0;32m~/anaconda3/lib/python3.9/site-packages/ipykernel/kernelbase.py:1072\u001b[0m, in \u001b[0;36mKernel.raw_input\u001b[0;34m(self, prompt)\u001b[0m\n\u001b[1;32m   1065\u001b[0m \u001b[38;5;124;03m\"\"\"Forward raw_input to frontends\u001b[39;00m\n\u001b[1;32m   1066\u001b[0m \n\u001b[1;32m   1067\u001b[0m \u001b[38;5;124;03mRaises\u001b[39;00m\n\u001b[1;32m   1068\u001b[0m \u001b[38;5;124;03m------\u001b[39;00m\n\u001b[1;32m   1069\u001b[0m \u001b[38;5;124;03mStdinNotImplementedError if active frontend doesn't support stdin.\u001b[39;00m\n\u001b[1;32m   1070\u001b[0m \u001b[38;5;124;03m\"\"\"\u001b[39;00m\n\u001b[1;32m   1071\u001b[0m \u001b[38;5;28;01mif\u001b[39;00m \u001b[38;5;129;01mnot\u001b[39;00m \u001b[38;5;28mself\u001b[39m\u001b[38;5;241m.\u001b[39m_allow_stdin:\n\u001b[0;32m-> 1072\u001b[0m     \u001b[38;5;28;01mraise\u001b[39;00m StdinNotImplementedError(\n\u001b[1;32m   1073\u001b[0m         \u001b[38;5;124m\"\u001b[39m\u001b[38;5;124mraw_input was called, but this frontend does not support input requests.\u001b[39m\u001b[38;5;124m\"\u001b[39m\n\u001b[1;32m   1074\u001b[0m     )\n\u001b[1;32m   1075\u001b[0m \u001b[38;5;28;01mreturn\u001b[39;00m \u001b[38;5;28mself\u001b[39m\u001b[38;5;241m.\u001b[39m_input_request(\n\u001b[1;32m   1076\u001b[0m     \u001b[38;5;28mstr\u001b[39m(prompt),\n\u001b[1;32m   1077\u001b[0m     \u001b[38;5;28mself\u001b[39m\u001b[38;5;241m.\u001b[39m_parent_ident[\u001b[38;5;124m\"\u001b[39m\u001b[38;5;124mshell\u001b[39m\u001b[38;5;124m\"\u001b[39m],\n\u001b[1;32m   1078\u001b[0m     \u001b[38;5;28mself\u001b[39m\u001b[38;5;241m.\u001b[39mget_parent(\u001b[38;5;124m\"\u001b[39m\u001b[38;5;124mshell\u001b[39m\u001b[38;5;124m\"\u001b[39m),\n\u001b[1;32m   1079\u001b[0m     password\u001b[38;5;241m=\u001b[39m\u001b[38;5;28;01mFalse\u001b[39;00m,\n\u001b[1;32m   1080\u001b[0m )\n",
      "\u001b[0;31mStdinNotImplementedError\u001b[0m: raw_input was called, but this frontend does not support input requests."
     ]
    }
   ],
   "source": [
    "import math\n",
    "\n",
    "x= float(input(\"Entre com o valor de x:\"))\n",
    "\n",
    "print(\"O número informado foi:\",x)"
   ]
  },
  {
   "cell_type": "markdown",
   "id": "dd8c0af2",
   "metadata": {
    "deletable": false,
    "editable": false,
    "id": "dd8c0af2",
    "nbgrader": {
     "cell_type": "markdown",
     "checksum": "e1645b130e5fd8363c5a31803d8a6730",
     "grade": false,
     "grade_id": "Exercicio2-descricao",
     "locked": true,
     "schema_version": 3,
     "solution": false,
     "task": false
    }
   },
   "source": [
    "# Exercício 2\n",
    "\n",
    "Faça um Programa que peça o raio de um círculo, calcule e mostre sua área.\n",
    "Dica: para usar o valor de $\\pi$, pesquise por `math.pi`."
   ]
  },
  {
   "cell_type": "code",
   "execution_count": 2,
   "id": "407e7f33",
   "metadata": {
    "colab": {
     "base_uri": "https://localhost:8080/"
    },
    "deletable": false,
    "execution": {
     "iopub.execute_input": "2022-06-27T16:36:26.595130Z",
     "iopub.status.busy": "2022-06-27T16:36:26.594901Z",
     "iopub.status.idle": "2022-06-27T16:36:26.599214Z",
     "shell.execute_reply": "2022-06-27T16:36:26.598374Z"
    },
    "id": "407e7f33",
    "nbgrader": {
     "cell_type": "code",
     "checksum": "41ef7b01abeaa8d74e2893a5054fb644",
     "grade": true,
     "grade_id": "Exercicio2",
     "locked": false,
     "points": 1,
     "schema_version": 3,
     "solution": true,
     "task": false
    },
    "outputId": "9634f5cf-a3d6-46fc-a0b3-655b65deef29"
   },
   "outputs": [
    {
     "name": "stdout",
     "output_type": "stream",
     "text": [
      "12.566370614359172\n"
     ]
    }
   ],
   "source": [
    "\n",
    "\n",
    "import math \n",
    "from math import pi\n",
    "\n",
    "r= 2\n",
    "A = pi*r*r\n",
    "print(A)"
   ]
  },
  {
   "cell_type": "markdown",
   "id": "868cfe1c",
   "metadata": {
    "deletable": false,
    "editable": false,
    "id": "868cfe1c",
    "nbgrader": {
     "cell_type": "markdown",
     "checksum": "83a396c8ae7ca1696f25c00d928c9d55",
     "grade": false,
     "grade_id": "Exercicio3-descricao",
     "locked": true,
     "schema_version": 3,
     "solution": false,
     "task": false
    }
   },
   "source": [
    "# Exercício 3\n",
    "\n",
    "Faça um Programa que peça 2 números inteiros e um número real. Calcule e mostre:\n",
    "\n",
    "   - o produto do dobro do primeiro com metade do segundo .\n",
    "   - a soma do triplo do primeiro com o terceiro.\n",
    "   - o terceiro elevado ao cubo. "
   ]
  },
  {
   "cell_type": "code",
   "execution_count": 3,
   "id": "0f2c4944",
   "metadata": {
    "colab": {
     "base_uri": "https://localhost:8080/"
    },
    "deletable": false,
    "execution": {
     "iopub.execute_input": "2022-06-27T16:36:26.603545Z",
     "iopub.status.busy": "2022-06-27T16:36:26.603190Z",
     "iopub.status.idle": "2022-06-27T16:36:26.608747Z",
     "shell.execute_reply": "2022-06-27T16:36:26.608115Z"
    },
    "id": "0f2c4944",
    "nbgrader": {
     "cell_type": "code",
     "checksum": "01db6a60d8afd153075785a9f8e10ea5",
     "grade": true,
     "grade_id": "Exercicio3",
     "locked": false,
     "points": 1,
     "schema_version": 3,
     "solution": true,
     "task": false
    },
    "outputId": "ac7e70c2-e4fe-48b8-e6a7-1ee569938ec3"
   },
   "outputs": [
    {
     "name": "stdout",
     "output_type": "stream",
     "text": [
      "21.0\n",
      "20021.0\n",
      "8000000000000.0\n"
     ]
    }
   ],
   "source": [
    "a= 7\n",
    "b= 3\n",
    "c= 2E4\n",
    "\n",
    "x= (2*a)*(b/2)\n",
    "y= (3*a)+ (c)\n",
    "z= (c*c*c)\n",
    "print (x)\n",
    "print (y)\n",
    "print (z)"
   ]
  },
  {
   "cell_type": "markdown",
   "id": "d3996f2c",
   "metadata": {
    "deletable": false,
    "editable": false,
    "id": "d3996f2c",
    "nbgrader": {
     "cell_type": "markdown",
     "checksum": "dbee5e0c5c9a02ca7b0fbcbf0c5018fd",
     "grade": false,
     "grade_id": "Exercicio4-descricao",
     "locked": true,
     "schema_version": 3,
     "solution": false,
     "task": false
    }
   },
   "source": [
    "# Exercício 4\n",
    "\n",
    "Faça um programa que pergunte quanto você ganha por hora e o número de horas trabalhadas na semana. Calcule e mostre o total do seu salário ao final de 4 semanas. "
   ]
  },
  {
   "cell_type": "code",
   "execution_count": 4,
   "id": "5a307587",
   "metadata": {
    "colab": {
     "base_uri": "https://localhost:8080/"
    },
    "deletable": false,
    "execution": {
     "iopub.execute_input": "2022-06-27T16:36:26.611458Z",
     "iopub.status.busy": "2022-06-27T16:36:26.611189Z",
     "iopub.status.idle": "2022-06-27T16:36:26.632245Z",
     "shell.execute_reply": "2022-06-27T16:36:26.631417Z"
    },
    "id": "5a307587",
    "nbgrader": {
     "cell_type": "code",
     "checksum": "e511551fc875680ccd9679f9b2c21414",
     "grade": true,
     "grade_id": "Exercicio4",
     "locked": false,
     "points": 1,
     "schema_version": 3,
     "solution": true,
     "task": false
    },
    "outputId": "1d78ee74-5a42-454b-94d8-32de6395054a"
   },
   "outputs": [
    {
     "ename": "StdinNotImplementedError",
     "evalue": "raw_input was called, but this frontend does not support input requests.",
     "output_type": "error",
     "traceback": [
      "\u001b[0;31m---------------------------------------------------------------------------\u001b[0m",
      "\u001b[0;31mStdinNotImplementedError\u001b[0m                  Traceback (most recent call last)",
      "Input \u001b[0;32mIn [4]\u001b[0m, in \u001b[0;36m<cell line: 3>\u001b[0;34m()\u001b[0m\n\u001b[1;32m      1\u001b[0m \u001b[38;5;28;01mimport\u001b[39;00m \u001b[38;5;21;01mmath\u001b[39;00m\n\u001b[0;32m----> 3\u001b[0m vH\u001b[38;5;241m=\u001b[39m \u001b[38;5;28mfloat\u001b[39m(\u001b[38;5;28;43minput\u001b[39;49m\u001b[43m(\u001b[49m\u001b[38;5;124;43m\"\u001b[39;49m\u001b[38;5;124;43mEntre com o valor da hora:\u001b[39;49m\u001b[38;5;124;43m\"\u001b[39;49m\u001b[43m)\u001b[49m)\n\u001b[1;32m      4\u001b[0m nH\u001b[38;5;241m=\u001b[39m \u001b[38;5;28mfloat\u001b[39m(\u001b[38;5;28minput\u001b[39m(\u001b[38;5;124m\"\u001b[39m\u001b[38;5;124mEntre com o número de horas:\u001b[39m\u001b[38;5;124m\"\u001b[39m))\n\u001b[1;32m      6\u001b[0m s\u001b[38;5;241m=\u001b[39m (vH\u001b[38;5;241m*\u001b[39mnH\u001b[38;5;241m*\u001b[39m\u001b[38;5;241m4\u001b[39m)\n",
      "File \u001b[0;32m~/anaconda3/lib/python3.9/site-packages/ipykernel/kernelbase.py:1072\u001b[0m, in \u001b[0;36mKernel.raw_input\u001b[0;34m(self, prompt)\u001b[0m\n\u001b[1;32m   1065\u001b[0m \u001b[38;5;124;03m\"\"\"Forward raw_input to frontends\u001b[39;00m\n\u001b[1;32m   1066\u001b[0m \n\u001b[1;32m   1067\u001b[0m \u001b[38;5;124;03mRaises\u001b[39;00m\n\u001b[1;32m   1068\u001b[0m \u001b[38;5;124;03m------\u001b[39;00m\n\u001b[1;32m   1069\u001b[0m \u001b[38;5;124;03mStdinNotImplementedError if active frontend doesn't support stdin.\u001b[39;00m\n\u001b[1;32m   1070\u001b[0m \u001b[38;5;124;03m\"\"\"\u001b[39;00m\n\u001b[1;32m   1071\u001b[0m \u001b[38;5;28;01mif\u001b[39;00m \u001b[38;5;129;01mnot\u001b[39;00m \u001b[38;5;28mself\u001b[39m\u001b[38;5;241m.\u001b[39m_allow_stdin:\n\u001b[0;32m-> 1072\u001b[0m     \u001b[38;5;28;01mraise\u001b[39;00m StdinNotImplementedError(\n\u001b[1;32m   1073\u001b[0m         \u001b[38;5;124m\"\u001b[39m\u001b[38;5;124mraw_input was called, but this frontend does not support input requests.\u001b[39m\u001b[38;5;124m\"\u001b[39m\n\u001b[1;32m   1074\u001b[0m     )\n\u001b[1;32m   1075\u001b[0m \u001b[38;5;28;01mreturn\u001b[39;00m \u001b[38;5;28mself\u001b[39m\u001b[38;5;241m.\u001b[39m_input_request(\n\u001b[1;32m   1076\u001b[0m     \u001b[38;5;28mstr\u001b[39m(prompt),\n\u001b[1;32m   1077\u001b[0m     \u001b[38;5;28mself\u001b[39m\u001b[38;5;241m.\u001b[39m_parent_ident[\u001b[38;5;124m\"\u001b[39m\u001b[38;5;124mshell\u001b[39m\u001b[38;5;124m\"\u001b[39m],\n\u001b[1;32m   1078\u001b[0m     \u001b[38;5;28mself\u001b[39m\u001b[38;5;241m.\u001b[39mget_parent(\u001b[38;5;124m\"\u001b[39m\u001b[38;5;124mshell\u001b[39m\u001b[38;5;124m\"\u001b[39m),\n\u001b[1;32m   1079\u001b[0m     password\u001b[38;5;241m=\u001b[39m\u001b[38;5;28;01mFalse\u001b[39;00m,\n\u001b[1;32m   1080\u001b[0m )\n",
      "\u001b[0;31mStdinNotImplementedError\u001b[0m: raw_input was called, but this frontend does not support input requests."
     ]
    }
   ],
   "source": [
    "import math\n",
    "\n",
    "vH= float(input(\"Entre com o valor da hora:\"))\n",
    "nH= float(input(\"Entre com o número de horas:\"))\n",
    "\n",
    "s= (vH*nH*4)\n",
    "print(\"O salário é:\", s)\n"
   ]
  },
  {
   "cell_type": "markdown",
   "id": "d5088446",
   "metadata": {
    "deletable": false,
    "editable": false,
    "id": "d5088446",
    "nbgrader": {
     "cell_type": "markdown",
     "checksum": "c82b175f45419cc78a6f0efc08f9ab15",
     "grade": false,
     "grade_id": "Exercicio5-descricao",
     "locked": true,
     "schema_version": 3,
     "solution": false,
     "task": false
    }
   },
   "source": [
    "# Exercício 5\n",
    "\n",
    "Faça um programa que leia um número inteiro qualquer e que apresete, além do número informado, o seu antecessor e do seu sucessor."
   ]
  },
  {
   "cell_type": "code",
   "execution_count": 5,
   "id": "a09fcc89",
   "metadata": {
    "colab": {
     "base_uri": "https://localhost:8080/"
    },
    "deletable": false,
    "execution": {
     "iopub.execute_input": "2022-06-27T16:36:26.636439Z",
     "iopub.status.busy": "2022-06-27T16:36:26.636041Z",
     "iopub.status.idle": "2022-06-27T16:36:26.662410Z",
     "shell.execute_reply": "2022-06-27T16:36:26.661881Z"
    },
    "id": "a09fcc89",
    "nbgrader": {
     "cell_type": "code",
     "checksum": "9f693e117e3e2158f95ee76dc96292a0",
     "grade": true,
     "grade_id": "Exercicio5",
     "locked": false,
     "points": 1,
     "schema_version": 3,
     "solution": true,
     "task": false
    },
    "outputId": "534c15ae-6fb6-45ea-ec8a-bc307b8dbc3d"
   },
   "outputs": [
    {
     "ename": "StdinNotImplementedError",
     "evalue": "raw_input was called, but this frontend does not support input requests.",
     "output_type": "error",
     "traceback": [
      "\u001b[0;31m---------------------------------------------------------------------------\u001b[0m",
      "\u001b[0;31mStdinNotImplementedError\u001b[0m                  Traceback (most recent call last)",
      "Input \u001b[0;32mIn [5]\u001b[0m, in \u001b[0;36m<cell line: 3>\u001b[0;34m()\u001b[0m\n\u001b[1;32m      1\u001b[0m \u001b[38;5;28;01mimport\u001b[39;00m \u001b[38;5;21;01mmath\u001b[39;00m \n\u001b[0;32m----> 3\u001b[0m x\u001b[38;5;241m=\u001b[39m \u001b[38;5;28mint\u001b[39m(\u001b[38;5;28;43minput\u001b[39;49m\u001b[43m(\u001b[49m\u001b[38;5;124;43m\"\u001b[39;49m\u001b[38;5;124;43mEntre com o valor de x:\u001b[39;49m\u001b[38;5;124;43m\"\u001b[39;49m\u001b[43m)\u001b[49m)\n\u001b[1;32m      4\u001b[0m \u001b[38;5;28mprint\u001b[39m (x\u001b[38;5;241m-\u001b[39m\u001b[38;5;241m1\u001b[39m, x, x\u001b[38;5;241m+\u001b[39m\u001b[38;5;241m1\u001b[39m)\n",
      "File \u001b[0;32m~/anaconda3/lib/python3.9/site-packages/ipykernel/kernelbase.py:1072\u001b[0m, in \u001b[0;36mKernel.raw_input\u001b[0;34m(self, prompt)\u001b[0m\n\u001b[1;32m   1065\u001b[0m \u001b[38;5;124;03m\"\"\"Forward raw_input to frontends\u001b[39;00m\n\u001b[1;32m   1066\u001b[0m \n\u001b[1;32m   1067\u001b[0m \u001b[38;5;124;03mRaises\u001b[39;00m\n\u001b[1;32m   1068\u001b[0m \u001b[38;5;124;03m------\u001b[39;00m\n\u001b[1;32m   1069\u001b[0m \u001b[38;5;124;03mStdinNotImplementedError if active frontend doesn't support stdin.\u001b[39;00m\n\u001b[1;32m   1070\u001b[0m \u001b[38;5;124;03m\"\"\"\u001b[39;00m\n\u001b[1;32m   1071\u001b[0m \u001b[38;5;28;01mif\u001b[39;00m \u001b[38;5;129;01mnot\u001b[39;00m \u001b[38;5;28mself\u001b[39m\u001b[38;5;241m.\u001b[39m_allow_stdin:\n\u001b[0;32m-> 1072\u001b[0m     \u001b[38;5;28;01mraise\u001b[39;00m StdinNotImplementedError(\n\u001b[1;32m   1073\u001b[0m         \u001b[38;5;124m\"\u001b[39m\u001b[38;5;124mraw_input was called, but this frontend does not support input requests.\u001b[39m\u001b[38;5;124m\"\u001b[39m\n\u001b[1;32m   1074\u001b[0m     )\n\u001b[1;32m   1075\u001b[0m \u001b[38;5;28;01mreturn\u001b[39;00m \u001b[38;5;28mself\u001b[39m\u001b[38;5;241m.\u001b[39m_input_request(\n\u001b[1;32m   1076\u001b[0m     \u001b[38;5;28mstr\u001b[39m(prompt),\n\u001b[1;32m   1077\u001b[0m     \u001b[38;5;28mself\u001b[39m\u001b[38;5;241m.\u001b[39m_parent_ident[\u001b[38;5;124m\"\u001b[39m\u001b[38;5;124mshell\u001b[39m\u001b[38;5;124m\"\u001b[39m],\n\u001b[1;32m   1078\u001b[0m     \u001b[38;5;28mself\u001b[39m\u001b[38;5;241m.\u001b[39mget_parent(\u001b[38;5;124m\"\u001b[39m\u001b[38;5;124mshell\u001b[39m\u001b[38;5;124m\"\u001b[39m),\n\u001b[1;32m   1079\u001b[0m     password\u001b[38;5;241m=\u001b[39m\u001b[38;5;28;01mFalse\u001b[39;00m,\n\u001b[1;32m   1080\u001b[0m )\n",
      "\u001b[0;31mStdinNotImplementedError\u001b[0m: raw_input was called, but this frontend does not support input requests."
     ]
    }
   ],
   "source": [
    "import math \n",
    "\n",
    "x= int(input(\"Entre com o valor de x:\"))\n",
    "print (x-1, x, x+1)"
   ]
  },
  {
   "cell_type": "markdown",
   "id": "57a3fb31",
   "metadata": {
    "deletable": false,
    "editable": false,
    "id": "57a3fb31",
    "nbgrader": {
     "cell_type": "markdown",
     "checksum": "537bdb2e45ec13ee95cea397e02744f2",
     "grade": false,
     "grade_id": "Exercicio6-descricao",
     "locked": true,
     "schema_version": 3,
     "solution": false,
     "task": false
    }
   },
   "source": [
    "# Exercício 6\n",
    "\n",
    "Faça um programa que leia quatro notas, e seus respectivos pesos, e que apresente a média final simples e a média final ponderada."
   ]
  },
  {
   "cell_type": "code",
   "execution_count": 6,
   "id": "10e12fd4",
   "metadata": {
    "colab": {
     "base_uri": "https://localhost:8080/"
    },
    "deletable": false,
    "execution": {
     "iopub.execute_input": "2022-06-27T16:36:26.665283Z",
     "iopub.status.busy": "2022-06-27T16:36:26.664970Z",
     "iopub.status.idle": "2022-06-27T16:36:26.671303Z",
     "shell.execute_reply": "2022-06-27T16:36:26.670434Z"
    },
    "id": "10e12fd4",
    "nbgrader": {
     "cell_type": "code",
     "checksum": "ff1bbd3e5c18dc73d5e0328c41d74739",
     "grade": true,
     "grade_id": "Exercicio6",
     "locked": false,
     "points": 1,
     "schema_version": 3,
     "solution": true,
     "task": false
    },
    "outputId": "ded6f528-b078-4f54-917e-e9d4bfcc7343"
   },
   "outputs": [
    {
     "name": "stdout",
     "output_type": "stream",
     "text": [
      "A média simples é: 7.725 e a média ponderada é 8.115384615384615\n"
     ]
    }
   ],
   "source": [
    "import math \n",
    "\n",
    "nA= 8.5\n",
    "nB= 5.4\n",
    "nC= 7.3\n",
    "nD= 9.7\n",
    "pA= 2\n",
    "pB= 1\n",
    "pC= 1.5\n",
    "pD= 2\n",
    "\n",
    "ms= (nA+nB+nC+nD)/4\n",
    "mp= (pA*nA+pB*nB+pC*nC+pD*nD)/(pA+pB+pC+pD)\n",
    "print(\"A média simples é:\", ms, \"e a média ponderada é\", mp)"
   ]
  },
  {
   "cell_type": "markdown",
   "id": "da81404d",
   "metadata": {
    "deletable": false,
    "editable": false,
    "id": "da81404d",
    "nbgrader": {
     "cell_type": "markdown",
     "checksum": "6f91f7198e36290a15c6547e839a5885",
     "grade": false,
     "grade_id": "Exercicio7-descricao",
     "locked": true,
     "schema_version": 3,
     "solution": false,
     "task": false
    }
   },
   "source": [
    "# Exercício 7\n",
    "\n",
    "Faça um programa para uma loja de tintas. O programa deverá pedir o tamanho em metros quadrados da área a ser pintada. Considere que a cobertura da tinta é de 1 litro para cada 12 metros quadrados e que a tinta é vendida em latas de 18 litros, que custam R$ 80,00. Informe ao usuário a quantidades de latas de tinta a serem compradas e o preço total. "
   ]
  },
  {
   "cell_type": "code",
   "execution_count": 7,
   "id": "2a1f6a9c",
   "metadata": {
    "colab": {
     "base_uri": "https://localhost:8080/"
    },
    "deletable": false,
    "execution": {
     "iopub.execute_input": "2022-06-27T16:36:26.674528Z",
     "iopub.status.busy": "2022-06-27T16:36:26.674228Z",
     "iopub.status.idle": "2022-06-27T16:36:26.679175Z",
     "shell.execute_reply": "2022-06-27T16:36:26.678643Z"
    },
    "id": "2a1f6a9c",
    "nbgrader": {
     "cell_type": "code",
     "checksum": "0b356a405bcdf2f889a9a95d9a196d61",
     "grade": true,
     "grade_id": "Exercicio7",
     "locked": false,
     "points": 2,
     "schema_version": 3,
     "solution": true,
     "task": false
    },
    "outputId": "1c1460d2-722e-4a5f-f20a-042be6ecfe95"
   },
   "outputs": [
    {
     "name": "stdout",
     "output_type": "stream",
     "text": [
      "Você vai usar: 1.5 e o valor será: 120.0\n"
     ]
    }
   ],
   "source": [
    "import math\n",
    "\n",
    "a= 324\n",
    "l= 12\n",
    "q= 18\n",
    "litros_usados= (a/l)\n",
    "numero_latas= (litros_usados/q)\n",
    "v= (numero_latas*80)\n",
    "\n",
    "print(\"Você vai usar:\", numero_latas, \"e o valor será:\", v)\n",
    "\n"
   ]
  },
  {
   "cell_type": "markdown",
   "id": "79eca3d1",
   "metadata": {
    "deletable": false,
    "editable": false,
    "id": "79eca3d1",
    "nbgrader": {
     "cell_type": "markdown",
     "checksum": "e44b2f3971c79d43c75c12bce821c4d9",
     "grade": false,
     "grade_id": "Exercicio8-descricao",
     "locked": true,
     "schema_version": 3,
     "solution": false,
     "task": false
    }
   },
   "source": [
    "# Exercício 8\n",
    "\n",
    "Faça um Programa para uma loja de tintas. O programa deverá pedir o tamanho em metros quadrados da área a ser pintada. Considere que a cobertura da tinta é de 1 litro para cada 12 metros quadrados e que a tinta é vendida em latas de 18 litros, que custam R$ 80,00 ou em galões de 3,6 litros, que custam R$ 25,00.\n",
    "\n",
    "Informe ao usuário as quantidades de tinta a serem compradas e os respectivos preços em 3 situações:\n",
    "\n",
    "    - comprar apenas latas de 18 litros;\n",
    "    - comprar apenas galões de 3,6 litros;\n",
    "    - misturar latas e galões, de forma que o desperdício de tinta seja menor. \n",
    "    \n",
    "Acrescente 10% de folga nos três casos (isto é, você deve adicionar 10% sobre o total de litros de tinta necessário) e sempre arredonde os valores para cima, isto é, considere latas cheias. \n",
    "\n"
   ]
  },
  {
   "cell_type": "code",
   "execution_count": 8,
   "id": "54c1e741",
   "metadata": {
    "colab": {
     "base_uri": "https://localhost:8080/"
    },
    "deletable": false,
    "execution": {
     "iopub.execute_input": "2022-06-27T16:36:26.681982Z",
     "iopub.status.busy": "2022-06-27T16:36:26.681557Z",
     "iopub.status.idle": "2022-06-27T16:36:26.687979Z",
     "shell.execute_reply": "2022-06-27T16:36:26.687414Z"
    },
    "id": "54c1e741",
    "nbgrader": {
     "cell_type": "code",
     "checksum": "8f12ca6f898fe140e2eb04c84fc6c8f3",
     "grade": true,
     "grade_id": "Exercicio8",
     "locked": false,
     "points": 2,
     "schema_version": 3,
     "solution": true,
     "task": false
    },
    "outputId": "361cb356-b359-4a76-9341-9c9f4c057114"
   },
   "outputs": [
    {
     "name": "stdout",
     "output_type": "stream",
     "text": [
      "Você vai usar: 2 latas, e o valor será: 160\n",
      "Você vai usar 9 galões, e o valor será: 225\n"
     ]
    }
   ],
   "source": [
    "import math\n",
    "\n",
    "a= 324\n",
    "l= 12\n",
    "q= 18\n",
    "litros_usados= (a/l)*1.1\n",
    "numero_latas= math.ceil(litros_usados/q)\n",
    "v= (numero_latas*80)\n",
    "\n",
    "print(\"Você vai usar:\", numero_latas, \"latas, e o valor será:\", v)\n",
    "\n",
    "ga= 3.6\n",
    "ng= math.ceil(litros_usados/ga)\n",
    "vg= (ng*25)\n",
    "print(\"Você vai usar\", ng, \"galões, e o valor será:\", vg)\n",
    "\n",
    "\n"
   ]
  }
 ],
 "metadata": {
  "colab": {
   "collapsed_sections": [],
   "name": " Semana1.ipynb",
   "provenance": []
  },
  "kernelspec": {
   "display_name": "Python 3 (ipykernel)",
   "language": "python",
   "name": "python3"
  },
  "language_info": {
   "codemirror_mode": {
    "name": "ipython",
    "version": 3
   },
   "file_extension": ".py",
   "mimetype": "text/x-python",
   "name": "python",
   "nbconvert_exporter": "python",
   "pygments_lexer": "ipython3",
   "version": "3.9.7"
  }
 },
 "nbformat": 4,
 "nbformat_minor": 5
}
