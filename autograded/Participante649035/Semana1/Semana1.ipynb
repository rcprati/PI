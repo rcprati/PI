{
 "cells": [
  {
   "cell_type": "markdown",
   "id": "d4a1d469",
   "metadata": {
    "id": "d4a1d469"
   },
   "source": [
    "# Instruções\n",
    "\n",
    "- Antes de resolver esses exercícios, certifique-se que a configuração está correta (Python 3).\n",
    "\n",
    "- Se estiver usando o Colab, faça uma cópia deste notebook antes de começar a repondê-lo.\n",
    "\n",
    "![](http://professor.ufabc.edu.br/~ronaldo.prati/colab.png)\n",
    "\n",
    "- Lembre-se de manter o nome do caderno com o mesmo nome original.\n",
    "\n",
    "- Não apague nem introduza novas células neste notebook.\n",
    "\n",
    "- Certifique-se que você preencheu todos os lugares que dizem \\\"YOUR CODE HERE\\\" ou \\\"YOUR ANSWER HERE\\\". Substitutua essa linha e também a linha `raise NotImplementedError()` pelo seu código.\n",
    "\n",
    "- Depois de resolver os exercícios, para enviar a atividade, salve o notebook e o envie pelo moodle da disciplina. No colab, para exportar o notebook localmente, acesse `File->Download->Download .ipynb` ou `Arquivo->Baixar->Baixar .ipynb`\n",
    "\n",
    "![](http://professor.ufabc.edu.br/~ronaldo.prati/submit.png)"
   ]
  },
  {
   "cell_type": "markdown",
   "id": "5f82cbf3",
   "metadata": {
    "deletable": false,
    "editable": false,
    "id": "5f82cbf3",
    "nbgrader": {
     "cell_type": "markdown",
     "checksum": "f1f911b3ba8050e102209c62c8db3f57",
     "grade": false,
     "grade_id": "Exercicio1-descricao",
     "locked": true,
     "schema_version": 3,
     "solution": false,
     "task": false
    }
   },
   "source": [
    "# Exercício 1\n",
    "\n",
    "Faça um programa que peça um número e armazene-o em uma variável. A seguir, mostre a mensagem \"O número informado foi [número]\""
   ]
  },
  {
   "cell_type": "code",
   "execution_count": 1,
   "id": "98f0fd7a",
   "metadata": {
    "colab": {
     "base_uri": "https://localhost:8080/"
    },
    "deletable": false,
    "execution": {
     "iopub.execute_input": "2022-06-27T16:33:20.928175Z",
     "iopub.status.busy": "2022-06-27T16:33:20.927783Z",
     "iopub.status.idle": "2022-06-27T16:33:21.699969Z",
     "shell.execute_reply": "2022-06-27T16:33:21.699140Z"
    },
    "id": "98f0fd7a",
    "nbgrader": {
     "cell_type": "code",
     "checksum": "74fb8b9b0c1978c0db15aa13a5696150",
     "grade": true,
     "grade_id": "Exercicio1",
     "locked": false,
     "points": 1,
     "schema_version": 3,
     "solution": true,
     "task": false
    },
    "outputId": "e294c16e-6f25-443b-95fe-5edadd81a8fb"
   },
   "outputs": [
    {
     "ename": "StdinNotImplementedError",
     "evalue": "raw_input was called, but this frontend does not support input requests.",
     "output_type": "error",
     "traceback": [
      "\u001b[0;31m---------------------------------------------------------------------------\u001b[0m",
      "\u001b[0;31mStdinNotImplementedError\u001b[0m                  Traceback (most recent call last)",
      "Input \u001b[0;32mIn [1]\u001b[0m, in \u001b[0;36m<cell line: 1>\u001b[0;34m()\u001b[0m\n\u001b[0;32m----> 1\u001b[0m num \u001b[38;5;241m=\u001b[39m \u001b[38;5;28;43minput\u001b[39;49m\u001b[43m(\u001b[49m\u001b[38;5;124;43m\"\u001b[39;49m\u001b[38;5;124;43mDigite um numero: \u001b[39;49m\u001b[38;5;124;43m\"\u001b[39;49m\u001b[43m)\u001b[49m\n\u001b[1;32m      2\u001b[0m \u001b[38;5;28mprint\u001b[39m(\u001b[38;5;124mf\u001b[39m\u001b[38;5;124m\"\u001b[39m\u001b[38;5;124mO número informado foi \u001b[39m\u001b[38;5;132;01m{\u001b[39;00mnum\u001b[38;5;132;01m}\u001b[39;00m\u001b[38;5;124m\"\u001b[39m)\n",
      "File \u001b[0;32m~/anaconda3/lib/python3.9/site-packages/ipykernel/kernelbase.py:1072\u001b[0m, in \u001b[0;36mKernel.raw_input\u001b[0;34m(self, prompt)\u001b[0m\n\u001b[1;32m   1065\u001b[0m \u001b[38;5;124;03m\"\"\"Forward raw_input to frontends\u001b[39;00m\n\u001b[1;32m   1066\u001b[0m \n\u001b[1;32m   1067\u001b[0m \u001b[38;5;124;03mRaises\u001b[39;00m\n\u001b[1;32m   1068\u001b[0m \u001b[38;5;124;03m------\u001b[39;00m\n\u001b[1;32m   1069\u001b[0m \u001b[38;5;124;03mStdinNotImplementedError if active frontend doesn't support stdin.\u001b[39;00m\n\u001b[1;32m   1070\u001b[0m \u001b[38;5;124;03m\"\"\"\u001b[39;00m\n\u001b[1;32m   1071\u001b[0m \u001b[38;5;28;01mif\u001b[39;00m \u001b[38;5;129;01mnot\u001b[39;00m \u001b[38;5;28mself\u001b[39m\u001b[38;5;241m.\u001b[39m_allow_stdin:\n\u001b[0;32m-> 1072\u001b[0m     \u001b[38;5;28;01mraise\u001b[39;00m StdinNotImplementedError(\n\u001b[1;32m   1073\u001b[0m         \u001b[38;5;124m\"\u001b[39m\u001b[38;5;124mraw_input was called, but this frontend does not support input requests.\u001b[39m\u001b[38;5;124m\"\u001b[39m\n\u001b[1;32m   1074\u001b[0m     )\n\u001b[1;32m   1075\u001b[0m \u001b[38;5;28;01mreturn\u001b[39;00m \u001b[38;5;28mself\u001b[39m\u001b[38;5;241m.\u001b[39m_input_request(\n\u001b[1;32m   1076\u001b[0m     \u001b[38;5;28mstr\u001b[39m(prompt),\n\u001b[1;32m   1077\u001b[0m     \u001b[38;5;28mself\u001b[39m\u001b[38;5;241m.\u001b[39m_parent_ident[\u001b[38;5;124m\"\u001b[39m\u001b[38;5;124mshell\u001b[39m\u001b[38;5;124m\"\u001b[39m],\n\u001b[1;32m   1078\u001b[0m     \u001b[38;5;28mself\u001b[39m\u001b[38;5;241m.\u001b[39mget_parent(\u001b[38;5;124m\"\u001b[39m\u001b[38;5;124mshell\u001b[39m\u001b[38;5;124m\"\u001b[39m),\n\u001b[1;32m   1079\u001b[0m     password\u001b[38;5;241m=\u001b[39m\u001b[38;5;28;01mFalse\u001b[39;00m,\n\u001b[1;32m   1080\u001b[0m )\n",
      "\u001b[0;31mStdinNotImplementedError\u001b[0m: raw_input was called, but this frontend does not support input requests."
     ]
    }
   ],
   "source": [
    "num = input(\"Digite um numero: \")\n",
    "print(f\"O número informado foi {num}\")"
   ]
  },
  {
   "cell_type": "markdown",
   "id": "dd8c0af2",
   "metadata": {
    "deletable": false,
    "editable": false,
    "id": "dd8c0af2",
    "nbgrader": {
     "cell_type": "markdown",
     "checksum": "e1645b130e5fd8363c5a31803d8a6730",
     "grade": false,
     "grade_id": "Exercicio2-descricao",
     "locked": true,
     "schema_version": 3,
     "solution": false,
     "task": false
    }
   },
   "source": [
    "# Exercício 2\n",
    "\n",
    "Faça um Programa que peça o raio de um círculo, calcule e mostre sua área.\n",
    "Dica: para usar o valor de $\\pi$, pesquise por `math.pi`."
   ]
  },
  {
   "cell_type": "code",
   "execution_count": 2,
   "id": "407e7f33",
   "metadata": {
    "colab": {
     "base_uri": "https://localhost:8080/"
    },
    "deletable": false,
    "execution": {
     "iopub.execute_input": "2022-06-27T16:33:21.703057Z",
     "iopub.status.busy": "2022-06-27T16:33:21.702772Z",
     "iopub.status.idle": "2022-06-27T16:33:21.723780Z",
     "shell.execute_reply": "2022-06-27T16:33:21.723225Z"
    },
    "id": "407e7f33",
    "nbgrader": {
     "cell_type": "code",
     "checksum": "41ef7b01abeaa8d74e2893a5054fb644",
     "grade": true,
     "grade_id": "Exercicio2",
     "locked": false,
     "points": 1,
     "schema_version": 3,
     "solution": true,
     "task": false
    },
    "outputId": "00b120d4-e36c-41a2-db6c-7285268438eb"
   },
   "outputs": [
    {
     "ename": "StdinNotImplementedError",
     "evalue": "raw_input was called, but this frontend does not support input requests.",
     "output_type": "error",
     "traceback": [
      "\u001b[0;31m---------------------------------------------------------------------------\u001b[0m",
      "\u001b[0;31mStdinNotImplementedError\u001b[0m                  Traceback (most recent call last)",
      "Input \u001b[0;32mIn [2]\u001b[0m, in \u001b[0;36m<cell line: 2>\u001b[0;34m()\u001b[0m\n\u001b[1;32m      1\u001b[0m \u001b[38;5;28;01mimport\u001b[39;00m \u001b[38;5;21;01mmath\u001b[39;00m\n\u001b[0;32m----> 2\u001b[0m r \u001b[38;5;241m=\u001b[39m \u001b[38;5;28mfloat\u001b[39m(\u001b[38;5;28;43minput\u001b[39;49m\u001b[43m(\u001b[49m\u001b[38;5;124;43m\"\u001b[39;49m\u001b[38;5;124;43mRaio do círculo: \u001b[39;49m\u001b[38;5;124;43m\"\u001b[39;49m\u001b[43m)\u001b[49m)\n\u001b[1;32m      3\u001b[0m area \u001b[38;5;241m=\u001b[39m math\u001b[38;5;241m.\u001b[39mpi \u001b[38;5;241m*\u001b[39m (r \u001b[38;5;241m*\u001b[39m\u001b[38;5;241m*\u001b[39m \u001b[38;5;241m2\u001b[39m)\n\u001b[1;32m      4\u001b[0m \u001b[38;5;28mprint\u001b[39m (\u001b[38;5;124m\"\u001b[39m\u001b[38;5;124mÁrea do círculo: \u001b[39m\u001b[38;5;124m\"\u001b[39m, area)\n",
      "File \u001b[0;32m~/anaconda3/lib/python3.9/site-packages/ipykernel/kernelbase.py:1072\u001b[0m, in \u001b[0;36mKernel.raw_input\u001b[0;34m(self, prompt)\u001b[0m\n\u001b[1;32m   1065\u001b[0m \u001b[38;5;124;03m\"\"\"Forward raw_input to frontends\u001b[39;00m\n\u001b[1;32m   1066\u001b[0m \n\u001b[1;32m   1067\u001b[0m \u001b[38;5;124;03mRaises\u001b[39;00m\n\u001b[1;32m   1068\u001b[0m \u001b[38;5;124;03m------\u001b[39;00m\n\u001b[1;32m   1069\u001b[0m \u001b[38;5;124;03mStdinNotImplementedError if active frontend doesn't support stdin.\u001b[39;00m\n\u001b[1;32m   1070\u001b[0m \u001b[38;5;124;03m\"\"\"\u001b[39;00m\n\u001b[1;32m   1071\u001b[0m \u001b[38;5;28;01mif\u001b[39;00m \u001b[38;5;129;01mnot\u001b[39;00m \u001b[38;5;28mself\u001b[39m\u001b[38;5;241m.\u001b[39m_allow_stdin:\n\u001b[0;32m-> 1072\u001b[0m     \u001b[38;5;28;01mraise\u001b[39;00m StdinNotImplementedError(\n\u001b[1;32m   1073\u001b[0m         \u001b[38;5;124m\"\u001b[39m\u001b[38;5;124mraw_input was called, but this frontend does not support input requests.\u001b[39m\u001b[38;5;124m\"\u001b[39m\n\u001b[1;32m   1074\u001b[0m     )\n\u001b[1;32m   1075\u001b[0m \u001b[38;5;28;01mreturn\u001b[39;00m \u001b[38;5;28mself\u001b[39m\u001b[38;5;241m.\u001b[39m_input_request(\n\u001b[1;32m   1076\u001b[0m     \u001b[38;5;28mstr\u001b[39m(prompt),\n\u001b[1;32m   1077\u001b[0m     \u001b[38;5;28mself\u001b[39m\u001b[38;5;241m.\u001b[39m_parent_ident[\u001b[38;5;124m\"\u001b[39m\u001b[38;5;124mshell\u001b[39m\u001b[38;5;124m\"\u001b[39m],\n\u001b[1;32m   1078\u001b[0m     \u001b[38;5;28mself\u001b[39m\u001b[38;5;241m.\u001b[39mget_parent(\u001b[38;5;124m\"\u001b[39m\u001b[38;5;124mshell\u001b[39m\u001b[38;5;124m\"\u001b[39m),\n\u001b[1;32m   1079\u001b[0m     password\u001b[38;5;241m=\u001b[39m\u001b[38;5;28;01mFalse\u001b[39;00m,\n\u001b[1;32m   1080\u001b[0m )\n",
      "\u001b[0;31mStdinNotImplementedError\u001b[0m: raw_input was called, but this frontend does not support input requests."
     ]
    }
   ],
   "source": [
    "import math\n",
    "r = float(input(\"Raio do círculo: \"))\n",
    "area = math.pi * (r ** 2)\n",
    "print (\"Área do círculo: \", area)"
   ]
  },
  {
   "cell_type": "markdown",
   "id": "868cfe1c",
   "metadata": {
    "deletable": false,
    "editable": false,
    "id": "868cfe1c",
    "nbgrader": {
     "cell_type": "markdown",
     "checksum": "83a396c8ae7ca1696f25c00d928c9d55",
     "grade": false,
     "grade_id": "Exercicio3-descricao",
     "locked": true,
     "schema_version": 3,
     "solution": false,
     "task": false
    }
   },
   "source": [
    "# Exercício 3\n",
    "\n",
    "Faça um Programa que peça 2 números inteiros e um número real. Calcule e mostre:\n",
    "\n",
    "   - o produto do dobro do primeiro com metade do segundo .\n",
    "   - a soma do triplo do primeiro com o terceiro.\n",
    "   - o terceiro elevado ao cubo. "
   ]
  },
  {
   "cell_type": "code",
   "execution_count": 3,
   "id": "0f2c4944",
   "metadata": {
    "colab": {
     "base_uri": "https://localhost:8080/"
    },
    "deletable": false,
    "execution": {
     "iopub.execute_input": "2022-06-27T16:33:21.726498Z",
     "iopub.status.busy": "2022-06-27T16:33:21.726268Z",
     "iopub.status.idle": "2022-06-27T16:33:21.757846Z",
     "shell.execute_reply": "2022-06-27T16:33:21.757090Z"
    },
    "id": "0f2c4944",
    "nbgrader": {
     "cell_type": "code",
     "checksum": "01db6a60d8afd153075785a9f8e10ea5",
     "grade": true,
     "grade_id": "Exercicio3",
     "locked": false,
     "points": 1,
     "schema_version": 3,
     "solution": true,
     "task": false
    },
    "outputId": "90e6c8f9-3ee7-453e-f38c-ed5352b3d7f7"
   },
   "outputs": [
    {
     "ename": "StdinNotImplementedError",
     "evalue": "raw_input was called, but this frontend does not support input requests.",
     "output_type": "error",
     "traceback": [
      "\u001b[0;31m---------------------------------------------------------------------------\u001b[0m",
      "\u001b[0;31mStdinNotImplementedError\u001b[0m                  Traceback (most recent call last)",
      "Input \u001b[0;32mIn [3]\u001b[0m, in \u001b[0;36m<cell line: 1>\u001b[0;34m()\u001b[0m\n\u001b[0;32m----> 1\u001b[0m n1 \u001b[38;5;241m=\u001b[39m \u001b[38;5;28mint\u001b[39m(\u001b[38;5;28;43minput\u001b[39;49m\u001b[43m(\u001b[49m\u001b[38;5;124;43m\"\u001b[39;49m\u001b[38;5;124;43m1o Número inteiro: \u001b[39;49m\u001b[38;5;124;43m\"\u001b[39;49m\u001b[43m)\u001b[49m)\n\u001b[1;32m      2\u001b[0m n2 \u001b[38;5;241m=\u001b[39m \u001b[38;5;28mint\u001b[39m(\u001b[38;5;28minput\u001b[39m(\u001b[38;5;124m\"\u001b[39m\u001b[38;5;124m2o Número inteiro: \u001b[39m\u001b[38;5;124m\"\u001b[39m))\n\u001b[1;32m      3\u001b[0m n3 \u001b[38;5;241m=\u001b[39m \u001b[38;5;28mfloat\u001b[39m(\u001b[38;5;28minput\u001b[39m(\u001b[38;5;124m\"\u001b[39m\u001b[38;5;124mNúmero real: \u001b[39m\u001b[38;5;124m\"\u001b[39m))\n",
      "File \u001b[0;32m~/anaconda3/lib/python3.9/site-packages/ipykernel/kernelbase.py:1072\u001b[0m, in \u001b[0;36mKernel.raw_input\u001b[0;34m(self, prompt)\u001b[0m\n\u001b[1;32m   1065\u001b[0m \u001b[38;5;124;03m\"\"\"Forward raw_input to frontends\u001b[39;00m\n\u001b[1;32m   1066\u001b[0m \n\u001b[1;32m   1067\u001b[0m \u001b[38;5;124;03mRaises\u001b[39;00m\n\u001b[1;32m   1068\u001b[0m \u001b[38;5;124;03m------\u001b[39;00m\n\u001b[1;32m   1069\u001b[0m \u001b[38;5;124;03mStdinNotImplementedError if active frontend doesn't support stdin.\u001b[39;00m\n\u001b[1;32m   1070\u001b[0m \u001b[38;5;124;03m\"\"\"\u001b[39;00m\n\u001b[1;32m   1071\u001b[0m \u001b[38;5;28;01mif\u001b[39;00m \u001b[38;5;129;01mnot\u001b[39;00m \u001b[38;5;28mself\u001b[39m\u001b[38;5;241m.\u001b[39m_allow_stdin:\n\u001b[0;32m-> 1072\u001b[0m     \u001b[38;5;28;01mraise\u001b[39;00m StdinNotImplementedError(\n\u001b[1;32m   1073\u001b[0m         \u001b[38;5;124m\"\u001b[39m\u001b[38;5;124mraw_input was called, but this frontend does not support input requests.\u001b[39m\u001b[38;5;124m\"\u001b[39m\n\u001b[1;32m   1074\u001b[0m     )\n\u001b[1;32m   1075\u001b[0m \u001b[38;5;28;01mreturn\u001b[39;00m \u001b[38;5;28mself\u001b[39m\u001b[38;5;241m.\u001b[39m_input_request(\n\u001b[1;32m   1076\u001b[0m     \u001b[38;5;28mstr\u001b[39m(prompt),\n\u001b[1;32m   1077\u001b[0m     \u001b[38;5;28mself\u001b[39m\u001b[38;5;241m.\u001b[39m_parent_ident[\u001b[38;5;124m\"\u001b[39m\u001b[38;5;124mshell\u001b[39m\u001b[38;5;124m\"\u001b[39m],\n\u001b[1;32m   1078\u001b[0m     \u001b[38;5;28mself\u001b[39m\u001b[38;5;241m.\u001b[39mget_parent(\u001b[38;5;124m\"\u001b[39m\u001b[38;5;124mshell\u001b[39m\u001b[38;5;124m\"\u001b[39m),\n\u001b[1;32m   1079\u001b[0m     password\u001b[38;5;241m=\u001b[39m\u001b[38;5;28;01mFalse\u001b[39;00m,\n\u001b[1;32m   1080\u001b[0m )\n",
      "\u001b[0;31mStdinNotImplementedError\u001b[0m: raw_input was called, but this frontend does not support input requests."
     ]
    }
   ],
   "source": [
    "n1 = int(input(\"1o Número inteiro: \"))\n",
    "n2 = int(input(\"2o Número inteiro: \"))\n",
    "n3 = float(input(\"Número real: \"))\n",
    "\n",
    "print (\"Soma:\", ((2*n1) * (n2/2)))\n",
    "print (\"Produto:\", (3 * n1) + n3)\n",
    "print (\"Cubo:\", n3**3)\n"
   ]
  },
  {
   "cell_type": "markdown",
   "id": "d3996f2c",
   "metadata": {
    "deletable": false,
    "editable": false,
    "id": "d3996f2c",
    "nbgrader": {
     "cell_type": "markdown",
     "checksum": "dbee5e0c5c9a02ca7b0fbcbf0c5018fd",
     "grade": false,
     "grade_id": "Exercicio4-descricao",
     "locked": true,
     "schema_version": 3,
     "solution": false,
     "task": false
    }
   },
   "source": [
    "# Exercício 4\n",
    "\n",
    "Faça um programa que pergunte quanto você ganha por hora e o número de horas trabalhadas na semana. Calcule e mostre o total do seu salário ao final de 4 semanas. "
   ]
  },
  {
   "cell_type": "code",
   "execution_count": 4,
   "id": "5a307587",
   "metadata": {
    "colab": {
     "base_uri": "https://localhost:8080/"
    },
    "deletable": false,
    "execution": {
     "iopub.execute_input": "2022-06-27T16:33:21.761767Z",
     "iopub.status.busy": "2022-06-27T16:33:21.760877Z",
     "iopub.status.idle": "2022-06-27T16:33:21.784492Z",
     "shell.execute_reply": "2022-06-27T16:33:21.783871Z"
    },
    "id": "5a307587",
    "nbgrader": {
     "cell_type": "code",
     "checksum": "e511551fc875680ccd9679f9b2c21414",
     "grade": true,
     "grade_id": "Exercicio4",
     "locked": false,
     "points": 1,
     "schema_version": 3,
     "solution": true,
     "task": false
    },
    "outputId": "0930166a-8ff1-46b7-81a9-bc56beb4eb56"
   },
   "outputs": [
    {
     "ename": "StdinNotImplementedError",
     "evalue": "raw_input was called, but this frontend does not support input requests.",
     "output_type": "error",
     "traceback": [
      "\u001b[0;31m---------------------------------------------------------------------------\u001b[0m",
      "\u001b[0;31mStdinNotImplementedError\u001b[0m                  Traceback (most recent call last)",
      "Input \u001b[0;32mIn [4]\u001b[0m, in \u001b[0;36m<cell line: 1>\u001b[0;34m()\u001b[0m\n\u001b[0;32m----> 1\u001b[0m gh \u001b[38;5;241m=\u001b[39m \u001b[38;5;28mfloat\u001b[39m(\u001b[38;5;28;43minput\u001b[39;49m\u001b[43m(\u001b[49m\u001b[38;5;124;43m\"\u001b[39;49m\u001b[38;5;124;43mGanho por hora:\u001b[39;49m\u001b[38;5;124;43m\"\u001b[39;49m\u001b[43m)\u001b[49m)\n\u001b[1;32m      2\u001b[0m nhs \u001b[38;5;241m=\u001b[39m \u001b[38;5;28mfloat\u001b[39m(\u001b[38;5;28minput\u001b[39m(\u001b[38;5;124m\"\u001b[39m\u001b[38;5;124mNúmero de horas trabalhadas na semana:\u001b[39m\u001b[38;5;124m\"\u001b[39m))\n\u001b[1;32m      4\u001b[0m tsalario \u001b[38;5;241m=\u001b[39m ((gh\u001b[38;5;241m*\u001b[39mnhs) \u001b[38;5;241m*\u001b[39m \u001b[38;5;241m4\u001b[39m)\n",
      "File \u001b[0;32m~/anaconda3/lib/python3.9/site-packages/ipykernel/kernelbase.py:1072\u001b[0m, in \u001b[0;36mKernel.raw_input\u001b[0;34m(self, prompt)\u001b[0m\n\u001b[1;32m   1065\u001b[0m \u001b[38;5;124;03m\"\"\"Forward raw_input to frontends\u001b[39;00m\n\u001b[1;32m   1066\u001b[0m \n\u001b[1;32m   1067\u001b[0m \u001b[38;5;124;03mRaises\u001b[39;00m\n\u001b[1;32m   1068\u001b[0m \u001b[38;5;124;03m------\u001b[39;00m\n\u001b[1;32m   1069\u001b[0m \u001b[38;5;124;03mStdinNotImplementedError if active frontend doesn't support stdin.\u001b[39;00m\n\u001b[1;32m   1070\u001b[0m \u001b[38;5;124;03m\"\"\"\u001b[39;00m\n\u001b[1;32m   1071\u001b[0m \u001b[38;5;28;01mif\u001b[39;00m \u001b[38;5;129;01mnot\u001b[39;00m \u001b[38;5;28mself\u001b[39m\u001b[38;5;241m.\u001b[39m_allow_stdin:\n\u001b[0;32m-> 1072\u001b[0m     \u001b[38;5;28;01mraise\u001b[39;00m StdinNotImplementedError(\n\u001b[1;32m   1073\u001b[0m         \u001b[38;5;124m\"\u001b[39m\u001b[38;5;124mraw_input was called, but this frontend does not support input requests.\u001b[39m\u001b[38;5;124m\"\u001b[39m\n\u001b[1;32m   1074\u001b[0m     )\n\u001b[1;32m   1075\u001b[0m \u001b[38;5;28;01mreturn\u001b[39;00m \u001b[38;5;28mself\u001b[39m\u001b[38;5;241m.\u001b[39m_input_request(\n\u001b[1;32m   1076\u001b[0m     \u001b[38;5;28mstr\u001b[39m(prompt),\n\u001b[1;32m   1077\u001b[0m     \u001b[38;5;28mself\u001b[39m\u001b[38;5;241m.\u001b[39m_parent_ident[\u001b[38;5;124m\"\u001b[39m\u001b[38;5;124mshell\u001b[39m\u001b[38;5;124m\"\u001b[39m],\n\u001b[1;32m   1078\u001b[0m     \u001b[38;5;28mself\u001b[39m\u001b[38;5;241m.\u001b[39mget_parent(\u001b[38;5;124m\"\u001b[39m\u001b[38;5;124mshell\u001b[39m\u001b[38;5;124m\"\u001b[39m),\n\u001b[1;32m   1079\u001b[0m     password\u001b[38;5;241m=\u001b[39m\u001b[38;5;28;01mFalse\u001b[39;00m,\n\u001b[1;32m   1080\u001b[0m )\n",
      "\u001b[0;31mStdinNotImplementedError\u001b[0m: raw_input was called, but this frontend does not support input requests."
     ]
    }
   ],
   "source": [
    "gh = float(input(\"Ganho por hora:\"))\n",
    "nhs = float(input(\"Número de horas trabalhadas na semana:\"))\n",
    "\n",
    "tsalario = ((gh*nhs) * 4)\n",
    "\n",
    "print(\"O seu salário total é:\",tsalario)"
   ]
  },
  {
   "cell_type": "markdown",
   "id": "d5088446",
   "metadata": {
    "deletable": false,
    "editable": false,
    "id": "d5088446",
    "nbgrader": {
     "cell_type": "markdown",
     "checksum": "c82b175f45419cc78a6f0efc08f9ab15",
     "grade": false,
     "grade_id": "Exercicio5-descricao",
     "locked": true,
     "schema_version": 3,
     "solution": false,
     "task": false
    }
   },
   "source": [
    "# Exercício 5\n",
    "\n",
    "Faça um programa que leia um número inteiro qualquer e que apresete, além do número informado, o seu antecessor e do seu sucessor."
   ]
  },
  {
   "cell_type": "code",
   "execution_count": 5,
   "id": "a09fcc89",
   "metadata": {
    "colab": {
     "base_uri": "https://localhost:8080/"
    },
    "deletable": false,
    "execution": {
     "iopub.execute_input": "2022-06-27T16:33:21.787618Z",
     "iopub.status.busy": "2022-06-27T16:33:21.787355Z",
     "iopub.status.idle": "2022-06-27T16:33:21.809850Z",
     "shell.execute_reply": "2022-06-27T16:33:21.809262Z"
    },
    "id": "a09fcc89",
    "nbgrader": {
     "cell_type": "code",
     "checksum": "9f693e117e3e2158f95ee76dc96292a0",
     "grade": true,
     "grade_id": "Exercicio5",
     "locked": false,
     "points": 1,
     "schema_version": 3,
     "solution": true,
     "task": false
    },
    "outputId": "bd9d4a3a-0f6a-4628-ac5e-61ec9bdb4cb5"
   },
   "outputs": [
    {
     "ename": "StdinNotImplementedError",
     "evalue": "raw_input was called, but this frontend does not support input requests.",
     "output_type": "error",
     "traceback": [
      "\u001b[0;31m---------------------------------------------------------------------------\u001b[0m",
      "\u001b[0;31mStdinNotImplementedError\u001b[0m                  Traceback (most recent call last)",
      "Input \u001b[0;32mIn [5]\u001b[0m, in \u001b[0;36m<cell line: 1>\u001b[0;34m()\u001b[0m\n\u001b[0;32m----> 1\u001b[0m num \u001b[38;5;241m=\u001b[39m \u001b[38;5;28mint\u001b[39m(\u001b[38;5;28;43minput\u001b[39;49m\u001b[43m(\u001b[49m\u001b[38;5;124;43m\"\u001b[39;49m\u001b[38;5;124;43mDigite um número:\u001b[39;49m\u001b[38;5;124;43m\"\u001b[39;49m\u001b[43m)\u001b[49m)\n\u001b[1;32m      2\u001b[0m su \u001b[38;5;241m=\u001b[39m num \u001b[38;5;241m+\u001b[39m \u001b[38;5;241m1\u001b[39m\n\u001b[1;32m      3\u001b[0m an \u001b[38;5;241m=\u001b[39m num \u001b[38;5;241m-\u001b[39m \u001b[38;5;241m1\u001b[39m\n",
      "File \u001b[0;32m~/anaconda3/lib/python3.9/site-packages/ipykernel/kernelbase.py:1072\u001b[0m, in \u001b[0;36mKernel.raw_input\u001b[0;34m(self, prompt)\u001b[0m\n\u001b[1;32m   1065\u001b[0m \u001b[38;5;124;03m\"\"\"Forward raw_input to frontends\u001b[39;00m\n\u001b[1;32m   1066\u001b[0m \n\u001b[1;32m   1067\u001b[0m \u001b[38;5;124;03mRaises\u001b[39;00m\n\u001b[1;32m   1068\u001b[0m \u001b[38;5;124;03m------\u001b[39;00m\n\u001b[1;32m   1069\u001b[0m \u001b[38;5;124;03mStdinNotImplementedError if active frontend doesn't support stdin.\u001b[39;00m\n\u001b[1;32m   1070\u001b[0m \u001b[38;5;124;03m\"\"\"\u001b[39;00m\n\u001b[1;32m   1071\u001b[0m \u001b[38;5;28;01mif\u001b[39;00m \u001b[38;5;129;01mnot\u001b[39;00m \u001b[38;5;28mself\u001b[39m\u001b[38;5;241m.\u001b[39m_allow_stdin:\n\u001b[0;32m-> 1072\u001b[0m     \u001b[38;5;28;01mraise\u001b[39;00m StdinNotImplementedError(\n\u001b[1;32m   1073\u001b[0m         \u001b[38;5;124m\"\u001b[39m\u001b[38;5;124mraw_input was called, but this frontend does not support input requests.\u001b[39m\u001b[38;5;124m\"\u001b[39m\n\u001b[1;32m   1074\u001b[0m     )\n\u001b[1;32m   1075\u001b[0m \u001b[38;5;28;01mreturn\u001b[39;00m \u001b[38;5;28mself\u001b[39m\u001b[38;5;241m.\u001b[39m_input_request(\n\u001b[1;32m   1076\u001b[0m     \u001b[38;5;28mstr\u001b[39m(prompt),\n\u001b[1;32m   1077\u001b[0m     \u001b[38;5;28mself\u001b[39m\u001b[38;5;241m.\u001b[39m_parent_ident[\u001b[38;5;124m\"\u001b[39m\u001b[38;5;124mshell\u001b[39m\u001b[38;5;124m\"\u001b[39m],\n\u001b[1;32m   1078\u001b[0m     \u001b[38;5;28mself\u001b[39m\u001b[38;5;241m.\u001b[39mget_parent(\u001b[38;5;124m\"\u001b[39m\u001b[38;5;124mshell\u001b[39m\u001b[38;5;124m\"\u001b[39m),\n\u001b[1;32m   1079\u001b[0m     password\u001b[38;5;241m=\u001b[39m\u001b[38;5;28;01mFalse\u001b[39;00m,\n\u001b[1;32m   1080\u001b[0m )\n",
      "\u001b[0;31mStdinNotImplementedError\u001b[0m: raw_input was called, but this frontend does not support input requests."
     ]
    }
   ],
   "source": [
    "num = int(input(\"Digite um número:\"))\n",
    "su = num + 1\n",
    "an = num - 1\n",
    "print(\"\\nO número escolhido foi: {}, seu antecessor é: {} e seu sucessor é: {}\".format(num, an, su))"
   ]
  },
  {
   "cell_type": "markdown",
   "id": "57a3fb31",
   "metadata": {
    "deletable": false,
    "editable": false,
    "id": "57a3fb31",
    "nbgrader": {
     "cell_type": "markdown",
     "checksum": "537bdb2e45ec13ee95cea397e02744f2",
     "grade": false,
     "grade_id": "Exercicio6-descricao",
     "locked": true,
     "schema_version": 3,
     "solution": false,
     "task": false
    }
   },
   "source": [
    "# Exercício 6\n",
    "\n",
    "Faça um programa que leia quatro notas, e seus respectivos pesos, e que apresente a média final simples e a média final ponderada."
   ]
  },
  {
   "cell_type": "code",
   "execution_count": 6,
   "id": "10e12fd4",
   "metadata": {
    "colab": {
     "base_uri": "https://localhost:8080/"
    },
    "deletable": false,
    "execution": {
     "iopub.execute_input": "2022-06-27T16:33:21.812870Z",
     "iopub.status.busy": "2022-06-27T16:33:21.812594Z",
     "iopub.status.idle": "2022-06-27T16:33:21.836853Z",
     "shell.execute_reply": "2022-06-27T16:33:21.836340Z"
    },
    "id": "10e12fd4",
    "nbgrader": {
     "cell_type": "code",
     "checksum": "ff1bbd3e5c18dc73d5e0328c41d74739",
     "grade": true,
     "grade_id": "Exercicio6",
     "locked": false,
     "points": 1,
     "schema_version": 3,
     "solution": true,
     "task": false
    },
    "outputId": "7caa0e7e-2696-421e-abf4-6e7119c04273"
   },
   "outputs": [
    {
     "ename": "StdinNotImplementedError",
     "evalue": "raw_input was called, but this frontend does not support input requests.",
     "output_type": "error",
     "traceback": [
      "\u001b[0;31m---------------------------------------------------------------------------\u001b[0m",
      "\u001b[0;31mStdinNotImplementedError\u001b[0m                  Traceback (most recent call last)",
      "Input \u001b[0;32mIn [6]\u001b[0m, in \u001b[0;36m<cell line: 1>\u001b[0;34m()\u001b[0m\n\u001b[0;32m----> 1\u001b[0m n1 \u001b[38;5;241m=\u001b[39m \u001b[38;5;28mfloat\u001b[39m(\u001b[38;5;28;43minput\u001b[39;49m\u001b[43m(\u001b[49m\u001b[38;5;124;43m\"\u001b[39;49m\u001b[38;5;124;43mDigite a primeira nota:\u001b[39;49m\u001b[38;5;124;43m\"\u001b[39;49m\u001b[43m)\u001b[49m)\n\u001b[1;32m      2\u001b[0m n2 \u001b[38;5;241m=\u001b[39m \u001b[38;5;28mfloat\u001b[39m(\u001b[38;5;28minput\u001b[39m(\u001b[38;5;124m\"\u001b[39m\u001b[38;5;124mDigite a segunda nota:\u001b[39m\u001b[38;5;124m\"\u001b[39m))\n\u001b[1;32m      3\u001b[0m n3 \u001b[38;5;241m=\u001b[39m \u001b[38;5;28mfloat\u001b[39m(\u001b[38;5;28minput\u001b[39m(\u001b[38;5;124m\"\u001b[39m\u001b[38;5;124mDigite a terceira nota:\u001b[39m\u001b[38;5;124m\"\u001b[39m))\n",
      "File \u001b[0;32m~/anaconda3/lib/python3.9/site-packages/ipykernel/kernelbase.py:1072\u001b[0m, in \u001b[0;36mKernel.raw_input\u001b[0;34m(self, prompt)\u001b[0m\n\u001b[1;32m   1065\u001b[0m \u001b[38;5;124;03m\"\"\"Forward raw_input to frontends\u001b[39;00m\n\u001b[1;32m   1066\u001b[0m \n\u001b[1;32m   1067\u001b[0m \u001b[38;5;124;03mRaises\u001b[39;00m\n\u001b[1;32m   1068\u001b[0m \u001b[38;5;124;03m------\u001b[39;00m\n\u001b[1;32m   1069\u001b[0m \u001b[38;5;124;03mStdinNotImplementedError if active frontend doesn't support stdin.\u001b[39;00m\n\u001b[1;32m   1070\u001b[0m \u001b[38;5;124;03m\"\"\"\u001b[39;00m\n\u001b[1;32m   1071\u001b[0m \u001b[38;5;28;01mif\u001b[39;00m \u001b[38;5;129;01mnot\u001b[39;00m \u001b[38;5;28mself\u001b[39m\u001b[38;5;241m.\u001b[39m_allow_stdin:\n\u001b[0;32m-> 1072\u001b[0m     \u001b[38;5;28;01mraise\u001b[39;00m StdinNotImplementedError(\n\u001b[1;32m   1073\u001b[0m         \u001b[38;5;124m\"\u001b[39m\u001b[38;5;124mraw_input was called, but this frontend does not support input requests.\u001b[39m\u001b[38;5;124m\"\u001b[39m\n\u001b[1;32m   1074\u001b[0m     )\n\u001b[1;32m   1075\u001b[0m \u001b[38;5;28;01mreturn\u001b[39;00m \u001b[38;5;28mself\u001b[39m\u001b[38;5;241m.\u001b[39m_input_request(\n\u001b[1;32m   1076\u001b[0m     \u001b[38;5;28mstr\u001b[39m(prompt),\n\u001b[1;32m   1077\u001b[0m     \u001b[38;5;28mself\u001b[39m\u001b[38;5;241m.\u001b[39m_parent_ident[\u001b[38;5;124m\"\u001b[39m\u001b[38;5;124mshell\u001b[39m\u001b[38;5;124m\"\u001b[39m],\n\u001b[1;32m   1078\u001b[0m     \u001b[38;5;28mself\u001b[39m\u001b[38;5;241m.\u001b[39mget_parent(\u001b[38;5;124m\"\u001b[39m\u001b[38;5;124mshell\u001b[39m\u001b[38;5;124m\"\u001b[39m),\n\u001b[1;32m   1079\u001b[0m     password\u001b[38;5;241m=\u001b[39m\u001b[38;5;28;01mFalse\u001b[39;00m,\n\u001b[1;32m   1080\u001b[0m )\n",
      "\u001b[0;31mStdinNotImplementedError\u001b[0m: raw_input was called, but this frontend does not support input requests."
     ]
    }
   ],
   "source": [
    "n1 = float(input(\"Digite a primeira nota:\"))\n",
    "n2 = float(input(\"Digite a segunda nota:\"))\n",
    "n3 = float(input(\"Digite a terceira nota:\"))\n",
    "n4 = float(input(\"Digite a quarta nota:\"))\n",
    "\n",
    "p1 = float(input(\"Digite o peso da nota 1:\"))\n",
    "p2 = float(input(\"Digite o peso da nota 2:\"))\n",
    "p3 = float(input(\"Digite o peso da nota 3:\"))\n",
    "p4 = float(input(\"Digite o peso da nota 4:\"))\n",
    "\n",
    "ms = ((n1*p1 + n2*p2 + n3*p3 + n4*p4)/ 4)\n",
    "mp = ((n1*p1 + n2*p2 + n3*p3 + n4*p4)/ p1+p2+p3+p4)\n",
    "\n",
    "print(\"A média simples é\",ms,\", e a média ponderada é:\", mp)"
   ]
  },
  {
   "cell_type": "markdown",
   "id": "da81404d",
   "metadata": {
    "deletable": false,
    "editable": false,
    "id": "da81404d",
    "nbgrader": {
     "cell_type": "markdown",
     "checksum": "6f91f7198e36290a15c6547e839a5885",
     "grade": false,
     "grade_id": "Exercicio7-descricao",
     "locked": true,
     "schema_version": 3,
     "solution": false,
     "task": false
    }
   },
   "source": [
    "# Exercício 7\n",
    "\n",
    "Faça um programa para uma loja de tintas. O programa deverá pedir o tamanho em metros quadrados da área a ser pintada. Considere que a cobertura da tinta é de 1 litro para cada 12 metros quadrados e que a tinta é vendida em latas de 18 litros, que custam R$ 80,00. Informe ao usuário a quantidades de latas de tinta a serem compradas e o preço total. "
   ]
  },
  {
   "cell_type": "code",
   "execution_count": 7,
   "id": "2a1f6a9c",
   "metadata": {
    "colab": {
     "base_uri": "https://localhost:8080/"
    },
    "deletable": false,
    "execution": {
     "iopub.execute_input": "2022-06-27T16:33:21.839787Z",
     "iopub.status.busy": "2022-06-27T16:33:21.839273Z",
     "iopub.status.idle": "2022-06-27T16:33:21.859115Z",
     "shell.execute_reply": "2022-06-27T16:33:21.858586Z"
    },
    "id": "2a1f6a9c",
    "nbgrader": {
     "cell_type": "code",
     "checksum": "0b356a405bcdf2f889a9a95d9a196d61",
     "grade": true,
     "grade_id": "Exercicio7",
     "locked": false,
     "points": 2,
     "schema_version": 3,
     "solution": true,
     "task": false
    },
    "outputId": "b6fc9cd7-f356-4527-f8dc-f34db34bfef4"
   },
   "outputs": [
    {
     "ename": "StdinNotImplementedError",
     "evalue": "raw_input was called, but this frontend does not support input requests.",
     "output_type": "error",
     "traceback": [
      "\u001b[0;31m---------------------------------------------------------------------------\u001b[0m",
      "\u001b[0;31mStdinNotImplementedError\u001b[0m                  Traceback (most recent call last)",
      "Input \u001b[0;32mIn [7]\u001b[0m, in \u001b[0;36m<cell line: 1>\u001b[0;34m()\u001b[0m\n\u001b[0;32m----> 1\u001b[0m tmn \u001b[38;5;241m=\u001b[39m \u001b[38;5;28mfloat\u001b[39m(\u001b[38;5;28;43minput\u001b[39;49m\u001b[43m(\u001b[49m\u001b[38;5;124;43m\"\u001b[39;49m\u001b[38;5;124;43mDigite o tamanho da área a ser pintada (em metros): \u001b[39;49m\u001b[38;5;124;43m\"\u001b[39;49m\u001b[43m)\u001b[49m)\n\u001b[1;32m      2\u001b[0m litros \u001b[38;5;241m=\u001b[39m (tmn\u001b[38;5;241m/\u001b[39m\u001b[38;5;241m12\u001b[39m)\n\u001b[1;32m      4\u001b[0m precoL \u001b[38;5;241m=\u001b[39m \u001b[38;5;241m80.0\u001b[39m\n",
      "File \u001b[0;32m~/anaconda3/lib/python3.9/site-packages/ipykernel/kernelbase.py:1072\u001b[0m, in \u001b[0;36mKernel.raw_input\u001b[0;34m(self, prompt)\u001b[0m\n\u001b[1;32m   1065\u001b[0m \u001b[38;5;124;03m\"\"\"Forward raw_input to frontends\u001b[39;00m\n\u001b[1;32m   1066\u001b[0m \n\u001b[1;32m   1067\u001b[0m \u001b[38;5;124;03mRaises\u001b[39;00m\n\u001b[1;32m   1068\u001b[0m \u001b[38;5;124;03m------\u001b[39;00m\n\u001b[1;32m   1069\u001b[0m \u001b[38;5;124;03mStdinNotImplementedError if active frontend doesn't support stdin.\u001b[39;00m\n\u001b[1;32m   1070\u001b[0m \u001b[38;5;124;03m\"\"\"\u001b[39;00m\n\u001b[1;32m   1071\u001b[0m \u001b[38;5;28;01mif\u001b[39;00m \u001b[38;5;129;01mnot\u001b[39;00m \u001b[38;5;28mself\u001b[39m\u001b[38;5;241m.\u001b[39m_allow_stdin:\n\u001b[0;32m-> 1072\u001b[0m     \u001b[38;5;28;01mraise\u001b[39;00m StdinNotImplementedError(\n\u001b[1;32m   1073\u001b[0m         \u001b[38;5;124m\"\u001b[39m\u001b[38;5;124mraw_input was called, but this frontend does not support input requests.\u001b[39m\u001b[38;5;124m\"\u001b[39m\n\u001b[1;32m   1074\u001b[0m     )\n\u001b[1;32m   1075\u001b[0m \u001b[38;5;28;01mreturn\u001b[39;00m \u001b[38;5;28mself\u001b[39m\u001b[38;5;241m.\u001b[39m_input_request(\n\u001b[1;32m   1076\u001b[0m     \u001b[38;5;28mstr\u001b[39m(prompt),\n\u001b[1;32m   1077\u001b[0m     \u001b[38;5;28mself\u001b[39m\u001b[38;5;241m.\u001b[39m_parent_ident[\u001b[38;5;124m\"\u001b[39m\u001b[38;5;124mshell\u001b[39m\u001b[38;5;124m\"\u001b[39m],\n\u001b[1;32m   1078\u001b[0m     \u001b[38;5;28mself\u001b[39m\u001b[38;5;241m.\u001b[39mget_parent(\u001b[38;5;124m\"\u001b[39m\u001b[38;5;124mshell\u001b[39m\u001b[38;5;124m\"\u001b[39m),\n\u001b[1;32m   1079\u001b[0m     password\u001b[38;5;241m=\u001b[39m\u001b[38;5;28;01mFalse\u001b[39;00m,\n\u001b[1;32m   1080\u001b[0m )\n",
      "\u001b[0;31mStdinNotImplementedError\u001b[0m: raw_input was called, but this frontend does not support input requests."
     ]
    }
   ],
   "source": [
    "tmn = float(input(\"Digite o tamanho da área a ser pintada (em metros): \"))\n",
    "litros = (tmn/12)\n",
    "\n",
    "precoL = 80.0\n",
    "capacidadeL = 18\n",
    "\n",
    "latas = litros / capacidadeL\n",
    "total = latas * precoL\n",
    "\n",
    "print (\"Você usará \",latas,\"latas de tinta\")\n",
    "print (\"O preco total é de: R$\",total)"
   ]
  },
  {
   "cell_type": "markdown",
   "id": "79eca3d1",
   "metadata": {
    "deletable": false,
    "editable": false,
    "id": "79eca3d1",
    "nbgrader": {
     "cell_type": "markdown",
     "checksum": "e44b2f3971c79d43c75c12bce821c4d9",
     "grade": false,
     "grade_id": "Exercicio8-descricao",
     "locked": true,
     "schema_version": 3,
     "solution": false,
     "task": false
    }
   },
   "source": [
    "# Exercício 8\n",
    "\n",
    "Faça um Programa para uma loja de tintas. O programa deverá pedir o tamanho em metros quadrados da área a ser pintada. Considere que a cobertura da tinta é de 1 litro para cada 12 metros quadrados e que a tinta é vendida em latas de 18 litros, que custam R$ 80,00 ou em galões de 3,6 litros, que custam R$ 25,00.\n",
    "\n",
    "Informe ao usuário as quantidades de tinta a serem compradas e os respectivos preços em 3 situações:\n",
    "\n",
    "    - comprar apenas latas de 18 litros;\n",
    "    - comprar apenas galões de 3,6 litros;\n",
    "    - misturar latas e galões, de forma que o desperdício de tinta seja menor. \n",
    "    \n",
    "Acrescente 10% de folga nos três casos (isto é, você deve adicionar 10% sobre o total de litros de tinta necessário) e sempre arredonde os valores para cima, isto é, considere latas cheias. \n",
    "\n"
   ]
  },
  {
   "cell_type": "code",
   "execution_count": 8,
   "id": "54c1e741",
   "metadata": {
    "colab": {
     "base_uri": "https://localhost:8080/"
    },
    "deletable": false,
    "execution": {
     "iopub.execute_input": "2022-06-27T16:33:21.861512Z",
     "iopub.status.busy": "2022-06-27T16:33:21.861276Z",
     "iopub.status.idle": "2022-06-27T16:33:21.886018Z",
     "shell.execute_reply": "2022-06-27T16:33:21.885571Z"
    },
    "id": "54c1e741",
    "nbgrader": {
     "cell_type": "code",
     "checksum": "8f12ca6f898fe140e2eb04c84fc6c8f3",
     "grade": true,
     "grade_id": "Exercicio8",
     "locked": false,
     "points": 2,
     "schema_version": 3,
     "solution": true,
     "task": false
    },
    "outputId": "9846e9f4-82f7-4938-f23e-ba482ca514eb"
   },
   "outputs": [
    {
     "ename": "StdinNotImplementedError",
     "evalue": "raw_input was called, but this frontend does not support input requests.",
     "output_type": "error",
     "traceback": [
      "\u001b[0;31m---------------------------------------------------------------------------\u001b[0m",
      "\u001b[0;31mStdinNotImplementedError\u001b[0m                  Traceback (most recent call last)",
      "Input \u001b[0;32mIn [8]\u001b[0m, in \u001b[0;36m<cell line: 1>\u001b[0;34m()\u001b[0m\n\u001b[0;32m----> 1\u001b[0m tm \u001b[38;5;241m=\u001b[39m \u001b[38;5;28mfloat\u001b[39m (\u001b[38;5;28;43minput\u001b[39;49m\u001b[43m(\u001b[49m\u001b[38;5;124;43m\"\u001b[39;49m\u001b[38;5;124;43mDigite o tamanho da área a ser pintada (em metros): \u001b[39;49m\u001b[38;5;124;43m\"\u001b[39;49m\u001b[43m)\u001b[49m)\n\u001b[1;32m      3\u001b[0m litros \u001b[38;5;241m=\u001b[39m tm \u001b[38;5;241m/\u001b[39m \u001b[38;5;241m6\u001b[39m\n\u001b[1;32m      4\u001b[0m latas \u001b[38;5;241m=\u001b[39m litros \u001b[38;5;241m/\u001b[39m \u001b[38;5;241m18\u001b[39m\n",
      "File \u001b[0;32m~/anaconda3/lib/python3.9/site-packages/ipykernel/kernelbase.py:1072\u001b[0m, in \u001b[0;36mKernel.raw_input\u001b[0;34m(self, prompt)\u001b[0m\n\u001b[1;32m   1065\u001b[0m \u001b[38;5;124;03m\"\"\"Forward raw_input to frontends\u001b[39;00m\n\u001b[1;32m   1066\u001b[0m \n\u001b[1;32m   1067\u001b[0m \u001b[38;5;124;03mRaises\u001b[39;00m\n\u001b[1;32m   1068\u001b[0m \u001b[38;5;124;03m------\u001b[39;00m\n\u001b[1;32m   1069\u001b[0m \u001b[38;5;124;03mStdinNotImplementedError if active frontend doesn't support stdin.\u001b[39;00m\n\u001b[1;32m   1070\u001b[0m \u001b[38;5;124;03m\"\"\"\u001b[39;00m\n\u001b[1;32m   1071\u001b[0m \u001b[38;5;28;01mif\u001b[39;00m \u001b[38;5;129;01mnot\u001b[39;00m \u001b[38;5;28mself\u001b[39m\u001b[38;5;241m.\u001b[39m_allow_stdin:\n\u001b[0;32m-> 1072\u001b[0m     \u001b[38;5;28;01mraise\u001b[39;00m StdinNotImplementedError(\n\u001b[1;32m   1073\u001b[0m         \u001b[38;5;124m\"\u001b[39m\u001b[38;5;124mraw_input was called, but this frontend does not support input requests.\u001b[39m\u001b[38;5;124m\"\u001b[39m\n\u001b[1;32m   1074\u001b[0m     )\n\u001b[1;32m   1075\u001b[0m \u001b[38;5;28;01mreturn\u001b[39;00m \u001b[38;5;28mself\u001b[39m\u001b[38;5;241m.\u001b[39m_input_request(\n\u001b[1;32m   1076\u001b[0m     \u001b[38;5;28mstr\u001b[39m(prompt),\n\u001b[1;32m   1077\u001b[0m     \u001b[38;5;28mself\u001b[39m\u001b[38;5;241m.\u001b[39m_parent_ident[\u001b[38;5;124m\"\u001b[39m\u001b[38;5;124mshell\u001b[39m\u001b[38;5;124m\"\u001b[39m],\n\u001b[1;32m   1078\u001b[0m     \u001b[38;5;28mself\u001b[39m\u001b[38;5;241m.\u001b[39mget_parent(\u001b[38;5;124m\"\u001b[39m\u001b[38;5;124mshell\u001b[39m\u001b[38;5;124m\"\u001b[39m),\n\u001b[1;32m   1079\u001b[0m     password\u001b[38;5;241m=\u001b[39m\u001b[38;5;28;01mFalse\u001b[39;00m,\n\u001b[1;32m   1080\u001b[0m )\n",
      "\u001b[0;31mStdinNotImplementedError\u001b[0m: raw_input was called, but this frontend does not support input requests."
     ]
    }
   ],
   "source": [
    "tm = float (input(\"Digite o tamanho da área a ser pintada (em metros): \"))\n",
    "\n",
    "litros = tm / 6\n",
    "latas = litros / 18\n",
    "\n",
    "if latas % 18 != 0:\n",
    "    latas += 1\n",
    "preco = latas * 80\n",
    "\n",
    "galoes = litros / 3.6\n",
    "if galoes % 3.6 != 0:\n",
    "    galoes += 1\n",
    "preco2 = galoes * 25\n",
    "\n",
    "m_lata = int(litros / 18.0)\n",
    "m_galao = int((litros - (m_lata * 18)) / 3.6)\n",
    "\n",
    "if litros - (m_lata * 18) % 3.6 != 0:\n",
    "    m_galao += 1\n",
    "\n",
    "print(\"Apenas latas de 18 litros: %d\" % latas, \"preço: %d\" % preco)\n",
    "print(\"Apenas galões de 3.6 litros: %d\" % galoes, \"preço: %d\" % preco2)\n",
    "print(\"Mistura: %d latas e %d galoes = %.2f\" % (\n",
    "    m_lata, m_galao, ((m_lata * 80) + (m_galao * 25))))"
   ]
  }
 ],
 "metadata": {
  "colab": {
   "name": "Cópia de Semana1.ipynb",
   "provenance": []
  },
  "kernelspec": {
   "display_name": "Python 3 (ipykernel)",
   "language": "python",
   "name": "python3"
  },
  "language_info": {
   "codemirror_mode": {
    "name": "ipython",
    "version": 3
   },
   "file_extension": ".py",
   "mimetype": "text/x-python",
   "name": "python",
   "nbconvert_exporter": "python",
   "pygments_lexer": "ipython3",
   "version": "3.9.7"
  }
 },
 "nbformat": 4,
 "nbformat_minor": 5
}
