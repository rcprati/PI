{
 "cells": [
  {
   "cell_type": "markdown",
   "id": "d90218a8",
   "metadata": {},
   "source": [
    "# Instruções\n",
    "\n",
    "- Antes de resolver esses exercícios, certifique-se que a configuração está correta (Python 3).\n",
    "\n",
    "- Se estiver usando o Colab, faça uma cópia deste notebook antes de começar a repondê-lo.\n",
    "\n",
    "![](http://professor.ufabc.edu.br/~ronaldo.prati/colab.png)\n",
    "\n",
    "- Lembre-se de manter o nome do caderno com o mesmo nome original.\n",
    "\n",
    "- Não apague nem introduza novas células neste notebook.\n",
    "\n",
    "- Certifique-se que você preencheu todos os lugares que dizem \\\"YOUR CODE HERE\\\" ou \\\"YOUR ANSWER HERE\\\". Substitutua essa linha e também a linha `raise NotImplementedError()` pelo seu código.\n",
    "\n",
    "- Depois de resolver os exercícios, para enviar a atividade, salve o notebook e o envie pelo moodle da disciplina. No colab, para exportar o notebook localmente, acesse `File->Download->Download .ipynb` ou `Arquivo->Baixar->Baixar .ipynb`\n",
    "\n",
    "![](http://professor.ufabc.edu.br/~ronaldo.prati/submit.png)"
   ]
  },
  {
   "cell_type": "markdown",
   "id": "6f43884d",
   "metadata": {
    "deletable": false,
    "editable": false,
    "nbgrader": {
     "cell_type": "markdown",
     "checksum": "614e5c9dfb1df69d4e29d0c158df9bf2",
     "grade": false,
     "grade_id": "Exercicio1-descricao",
     "locked": true,
     "schema_version": 3,
     "solution": false,
     "task": false
    }
   },
   "source": [
    "# Exercício 1\n",
    "\n",
    "Faça um programa que receba dois números e, usando condicionais, mostre o maior. Se por acaso os dois números forem iguais, imprima a mensagem \"Números iguais\"."
   ]
  },
  {
   "cell_type": "code",
   "execution_count": null,
   "id": "0705d332",
   "metadata": {
    "deletable": false,
    "nbgrader": {
     "cell_type": "code",
     "checksum": "74fb8b9b0c1978c0db15aa13a5696150",
     "grade": true,
     "grade_id": "Exercicio1",
     "locked": false,
     "points": 1,
     "schema_version": 3,
     "solution": true,
     "task": false
    }
   },
   "outputs": [],
   "source": [
    "# YOUR CODE HERE\n",
    "raise NotImplementedError()"
   ]
  },
  {
   "cell_type": "markdown",
   "id": "c59b65ff",
   "metadata": {
    "deletable": false,
    "editable": false,
    "nbgrader": {
     "cell_type": "markdown",
     "checksum": "80d47a443315294bea1104a58786b469",
     "grade": false,
     "grade_id": "Exercicio2-descricao",
     "locked": true,
     "schema_version": 3,
     "solution": false,
     "task": false
    }
   },
   "source": [
    "# Exercício 2\n",
    "\n",
    "Faça um programa que simule o lançamento de uma moeda, sorteando um número aleatório entre 0 e 1 (pesquise sobre a função `random`, da biblioteca `random`). Se o número sorteado for menor ou igual a 0.5, imprima \"cara\" e se for maior \"coroa\"."
   ]
  },
  {
   "cell_type": "code",
   "execution_count": null,
   "id": "34ff3295",
   "metadata": {
    "deletable": false,
    "nbgrader": {
     "cell_type": "code",
     "checksum": "41ef7b01abeaa8d74e2893a5054fb644",
     "grade": true,
     "grade_id": "Exercicio2",
     "locked": false,
     "points": 1,
     "schema_version": 3,
     "solution": true,
     "task": false
    }
   },
   "outputs": [],
   "source": [
    "# YOUR CODE HERE\n",
    "raise NotImplementedError()"
   ]
  },
  {
   "cell_type": "markdown",
   "id": "fd3b5d42",
   "metadata": {
    "deletable": false,
    "editable": false,
    "nbgrader": {
     "cell_type": "markdown",
     "checksum": "b171a1803a34a8328f6a5cd84f03b104",
     "grade": false,
     "grade_id": "Exercicio3-descricao",
     "locked": true,
     "schema_version": 3,
     "solution": false,
     "task": false
    }
   },
   "source": [
    "# Exercício 3\n",
    "\n",
    "Faca um programa que simule um \"prova de matemática\" para crianças que estão aprendendo a somar n  ́umeros inteiros menores do que 100. Sorteie um número aleatório entre 0 e 100 (procure pela função `randint` da biblioteca `random`), imprime esse número, e peça para o usuário digitar qual número precisa ser somado para completar 100. O seu programa deve verificar se o número digitado está correto ou não (isto é, se a soma do número sorteado com o digitado é igual a 100."
   ]
  },
  {
   "cell_type": "code",
   "execution_count": null,
   "id": "677d2e71",
   "metadata": {
    "deletable": false,
    "nbgrader": {
     "cell_type": "code",
     "checksum": "01db6a60d8afd153075785a9f8e10ea5",
     "grade": true,
     "grade_id": "Exercicio3",
     "locked": false,
     "points": 1,
     "schema_version": 3,
     "solution": true,
     "task": false
    }
   },
   "outputs": [],
   "source": [
    "# YOUR CODE HERE\n",
    "raise NotImplementedError()"
   ]
  },
  {
   "cell_type": "markdown",
   "id": "b20fc0bf",
   "metadata": {
    "deletable": false,
    "editable": false,
    "nbgrader": {
     "cell_type": "markdown",
     "checksum": "96303ff64649ec3a6f12947bc9482139",
     "grade": false,
     "grade_id": "Exercicio4-descricao",
     "locked": true,
     "schema_version": 3,
     "solution": false,
     "task": false
    }
   },
   "source": [
    "# Exercício 4\n",
    "\n",
    "Uma empresa decide dar um aumento aos seus funcionários de acordo com uma tabela\n",
    "que considera o salário atual e o tempo de serviço de cada funcionário. Os funcionários\n",
    "com menor salário terão um aumento proporcionalmente maior do que os funcionários\n",
    "com um salário maior, e conforme o tempo de serviço na empresa, cada funcionário irá receber um bônus adicional de salário. Faça um programa que leia:\n",
    "\n",
    "\n",
    "- o valor do salário atual do funcionário;\n",
    "- o tempo de serviço desse funcionário na empresa (número de anos de trabalho na empresa).\n",
    "\n",
    "\n",
    "Use as tabelas a seguir para calcular o salário reajustado deste funcionário e imprima o\n",
    "valor do salário final reajustado, ou uma mensagem caso o funcionário não tenha direito\n",
    "a nenhum aumento.\n",
    "\n",
    "|Salário Atual | Reajuste |  \n",
    "|-------------:|---------:|\n",
    "| até 1.500,00 |  25%     |\n",
    "| até 2.500,00 |  20%     |\n",
    "| até 3.500,00 |  15%     |\n",
    "| até 5.000,00 |  10%     |\n",
    "| acima de 5.000,00 | sem aumento |\n",
    "\n",
    "| Tempo de Serviço  | Bônus  |\n",
    "|------------------:|-------:|\n",
    "| menos de 3 anos   | sem bonus |\n",
    "| de 3 a 5 anos     | 200,00    |\n",
    "| de 5 a 8 anos     | 300,00    |\n",
    "| de 8 a 10 anos    | 400,00    |\n",
    "| acima de 10 anos  | 500,00    |\n",
    "\n"
   ]
  },
  {
   "cell_type": "code",
   "execution_count": null,
   "id": "a484d994",
   "metadata": {
    "deletable": false,
    "nbgrader": {
     "cell_type": "code",
     "checksum": "d420f7e2e30c38e23e51b6532d39c70b",
     "grade": true,
     "grade_id": "Exercicio4",
     "locked": false,
     "points": 2,
     "schema_version": 3,
     "solution": true,
     "task": false
    }
   },
   "outputs": [],
   "source": [
    "# YOUR CODE HERE\n",
    "raise NotImplementedError()"
   ]
  },
  {
   "cell_type": "markdown",
   "id": "1a68569c",
   "metadata": {
    "deletable": false,
    "editable": false,
    "nbgrader": {
     "cell_type": "markdown",
     "checksum": "00a750d006aaf59431bad4ee4504273f",
     "grade": false,
     "grade_id": "Exercicio5-descricao",
     "locked": true,
     "schema_version": 3,
     "solution": false,
     "task": false
    }
   },
   "source": [
    "# Exercício 5\n",
    "\n",
    "Faça uma função para verificar se um número passado como parâmetro ́e zero, positivo ou negativo. Se o número for positivo, a função deve retornar 1, se for negativo, retornar -1, e se for 0, retornar 0. \n",
    "\n",
    "Inclua também código (fora da função) que leia um número digitado pelo usuário, faça uma chamada para a função, e imprima as mensagens:\n",
    "\n",
    "- Número digitado é negativo\n",
    "- Número digitado é positivo\n",
    "- Número digitado é zero\n",
    "\n",
    "de acordo com o retorno da função."
   ]
  },
  {
   "cell_type": "code",
   "execution_count": null,
   "id": "246c833b",
   "metadata": {
    "deletable": false,
    "nbgrader": {
     "cell_type": "code",
     "checksum": "9f693e117e3e2158f95ee76dc96292a0",
     "grade": true,
     "grade_id": "Exercicio5",
     "locked": false,
     "points": 1,
     "schema_version": 3,
     "solution": true,
     "task": false
    }
   },
   "outputs": [],
   "source": [
    "# YOUR CODE HERE\n",
    "raise NotImplementedError()"
   ]
  },
  {
   "cell_type": "markdown",
   "id": "eff0b1a2",
   "metadata": {
    "deletable": false,
    "editable": false,
    "nbgrader": {
     "cell_type": "markdown",
     "checksum": "73775f9ecd457f0d17ea81742848ed78",
     "grade": false,
     "grade_id": "Exercicio6-descricao",
     "locked": true,
     "schema_version": 3,
     "solution": false,
     "task": false
    }
   },
   "source": [
    "# Exercício 6\n",
    "\n",
    "Sejam $a$ e $b$ os catetos de um triângulo retângulo, onde a hipotenusa  ́e obtida pela e:\n",
    "$hipotenusa = \\sqrt{a^2 + b^2}$. Faça uma funçãoo que receba os valores de $a$ e $b$, calcule e retorne o valor da hipotenusa através da equação.\n",
    "\n",
    "Fora da função, faça um programa que leia os valores de $a$ e $b$, e imprima o valor da $hipotenusa$."
   ]
  },
  {
   "cell_type": "code",
   "execution_count": null,
   "id": "02ed46df",
   "metadata": {
    "deletable": false,
    "nbgrader": {
     "cell_type": "code",
     "checksum": "59a74d5a343e496638b7b28eaa944fe2",
     "grade": true,
     "grade_id": "Exercicio6",
     "locked": false,
     "points": 2,
     "schema_version": 3,
     "solution": true,
     "task": false
    }
   },
   "outputs": [],
   "source": [
    "# YOUR CODE HERE\n",
    "raise NotImplementedError()"
   ]
  },
  {
   "cell_type": "markdown",
   "id": "bc8a117c",
   "metadata": {
    "deletable": false,
    "editable": false,
    "nbgrader": {
     "cell_type": "markdown",
     "checksum": "41b1f94f0ae4e430fad270b6d8364a3e",
     "grade": false,
     "grade_id": "Exercicio7-descricao",
     "locked": true,
     "schema_version": 3,
     "solution": false,
     "task": false
    }
   },
   "source": [
    "# Exercício 7\n",
    "\n",
    "Crie uma função que receba dois números ($n_1$ e $n_2$) e uma letra.\n",
    "\n",
    "- Se a letra passada como parâmetro for \"A\", a função deve retornar a média aritmética entre os dois $\\left(\\frac{n_1+n_2}{2}\\right)$\n",
    "- Se a letra passada como parâmetro for \"G\", a função deve retornar a média geométrica entre os dois $\\left(\\sqrt{n_1+n_2}\\right)$\n",
    "- Se a letra passada como parâmetro for \"H\", a função deve retornar a média harmônica entre os dois $\\left(\\frac{2}{\\frac{1}{n_1}+\\frac{1}{n_2}}\\right)$\n",
    "- Se for passada qualquer outra letra, a função deve retornar 0\n",
    "\n",
    "Fora da função, faça um programa que leia os dois números e uma letra, e imprima o resultado da chamada da função."
   ]
  },
  {
   "cell_type": "code",
   "execution_count": null,
   "id": "9ec927a3",
   "metadata": {
    "deletable": false,
    "nbgrader": {
     "cell_type": "code",
     "checksum": "0b356a405bcdf2f889a9a95d9a196d61",
     "grade": true,
     "grade_id": "Exercicio7",
     "locked": false,
     "points": 2,
     "schema_version": 3,
     "solution": true,
     "task": false
    }
   },
   "outputs": [],
   "source": [
    "# YOUR CODE HERE\n",
    "raise NotImplementedError()"
   ]
  }
 ],
 "metadata": {
  "kernelspec": {
   "display_name": "Python 3 (ipykernel)",
   "language": "python",
   "name": "python3"
  },
  "language_info": {
   "codemirror_mode": {
    "name": "ipython",
    "version": 3
   },
   "file_extension": ".py",
   "mimetype": "text/x-python",
   "name": "python",
   "nbconvert_exporter": "python",
   "pygments_lexer": "ipython3",
   "version": "3.9.7"
  }
 },
 "nbformat": 4,
 "nbformat_minor": 5
}
